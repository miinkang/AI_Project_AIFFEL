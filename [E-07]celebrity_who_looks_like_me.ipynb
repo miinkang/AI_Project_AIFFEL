{
 "cells": [
  {
   "cell_type": "markdown",
   "id": "married-acting",
   "metadata": {},
   "source": [
    "# [Exploration 07] 나랑 닮은 연예인을 찾아보자\n",
    "\n",
    "## 프로젝트 설명 \n",
    "- 이미지를 임베딩 벡터로 변환합니다.\n",
    "    - 임베딩 벡터로 변환된 이미지는 컴퓨터가 이해할 수 있고, 쉽게 계산할 수 있습니\n",
    "- 임베딩 벡터간의 거리를 측정합니다. 이 때, 거리를 측정하는 방법은 000을 사용합니다.\n",
    "- 같은 인물이라면 거리가 0으로 나올테고, 가장 0에 가까운 거리에 있는 인물이 나와 가장 닮은 연예인입니다.\n",
    "- 그럼 전 누구와 닮았을지 확인해보도록 하겠습니다.\n",
    "\n",
    "## 01. 사진 모으기\n",
    "- 내 사진과 비교할 연예인 얼굴이 담긴 사진으로 데이터셋을 만듭니다. \n",
    "    - 편리함을 위해 사진의 이름은 *연예인 이름*으로 설정합니다.\n",
    "    - 얼굴 인식을 더 쉽게 하기 위해 독사진, 정면 사진으로만 총 384장을 구성하였습니다.(본인 사진 4장 + 연예인 사진 380장)\n",
    "    - 비교를 위한 내 사진은 2장 이상 데이터셋에 포함시킵니다."
   ]
  },
  {
   "cell_type": "code",
   "execution_count": 6,
   "id": "amateur-sensitivity",
   "metadata": {},
   "outputs": [
    {
     "name": "stdout",
     "output_type": "stream",
     "text": [
      "file_list: ['이엘리야.jpeg', '딕헌터.jpeg', '이민호.jpeg', '김태리리.jpeg', '승희.jpeg', '김남주.jpeg', '슈가.jpg', '존 파브르.jpeg', '트와이스사나.jpg', '김대명.jpeg', '온앤오프효진.jpg', '이말년.png', '앤드류 응.png', '신동엽.jpg', '제이크 질렌할.jpeg', '피어스 브로스넌.jpg', '이경규.jpeg', '김구라.jpg', '구혜선.jpeg', '박보영.jpeg', '손흥민.jpg', '레인보우재경.jpg', '리아.jpg', '최양락.jpg', '이나경.jpeg', '첸.jpeg', '트와이스정연.jpg', '아이린.jpeg', '김상호.png', '레드벨벳웬디.jpg', '김소현.jpeg', 'taylor swift.jpeg', '이대형.jpg', '크리스 햄스워스.jpg', '박보검.jpeg', '택연.jpg', '이광수.jpg', '차은우.jpeg', '씨잼.jpg', '티모시 달튼.jpeg', '마동석.jpeg', '김하영.jpeg', '장성호.jpeg', '조달환.png', '황정음.jpeg', '김종서.jpg', '케이.jpg', '한기범.jpg', '김C.jpeg', '함은정.jpeg', '태연.jpg', 'b1a4진영.jpeg', '솔라.jpg', 'minjung2.jpg', '미미.jpg', '옥냥이.jpeg', '한효주.jpeg', '제프리 힌턴.jpg', '태양.jpeg', '이제훈.jpeg', '정형돈.jpg', '류승범.jpg', '윤여정.jpeg', '최현석.jpg', '황병국.jpg', '유해진.jpg', '장원영.jpeg', '아이즈원민주.jpg', '김태희.jpeg', '윤종신.jpeg', '심수창.jpeg', '손예진.jpeg', '김유정.jpeg', '찬열.jpeg', '이종석.jpeg', '류현진.jpg', '송중기.jpeg', '김래원.jpeg', 'biden.jpg', '이근대위.jpeg', '최준석.jpg', '화사.jpg', '이희준.jpg', '지호.jpg', '이대호.jpeg', '고창석.jpeg', '아이유.jpg', '아이유.jpeg', '이명박.jpg', '천우희.jpeg', '설인아.jpeg', '잇섭.png', '진세연.jpeg', '조이.jpg', '산들.jpeg', '이동국.jpeg', '아이린린.jpeg', '유승호.jpeg', '잭 스페이더.jpeg', '이진호.jpeg']\n",
      "사진 개수: 384\n"
     ]
    }
   ],
   "source": [
    "import os\n",
    "\n",
    "# 전체 데이터셋을 얼굴 영역으로 자르기 위해 파일명을 따로 저장합니다.\n",
    "dir_path = os.getenv('HOME')+'/aiffel/face_embedding/images'\n",
    "file_list = os.listdir(dir_path)\n",
    "\n",
    "print (\"file_list: {}\".format(file_list[:100]))\n",
    "print (\"사진 개수: {}\".format(len(file_list)))"
   ]
  },
  {
   "cell_type": "markdown",
   "id": "flexible-annex",
   "metadata": {},
   "source": [
    "## 02. 얼굴 영역 자르기\n",
    "- 사진에서 얼굴만 인식해줄 수 있는 얼굴인식 라이브러리 중 *dlib의 face_recognition*을 사용해 얼굴 영역만 잘라줍니다.\n",
    "    - get_gropped_face() 함수를 통해 전체 이미지를 얼굴 영역으로 변환합니다.\n",
    "- 추후 시각화를 위해 자른 이미지를 *PIL의 Image.fromarray*를 통해서 *PIL Image*로 변환한 뒤에 저장합니다."
   ]
  },
  {
   "cell_type": "code",
   "execution_count": 7,
   "id": "mobile-seven",
   "metadata": {},
   "outputs": [],
   "source": []
  },
  {
   "cell_type": "code",
   "execution_count": null,
   "id": "necessary-large",
   "metadata": {},
   "outputs": [],
   "source": [
    "import face_recognition\n",
    "import matplotlib.pyplot as plt\n",
    "\n",
    "# %matplotlib inline\n",
    "\n",
    "def get_gropped_face(image_file):\n",
    "    image = face_recognition.load_image_file(image_file)\n",
    "    face_locations = face_recognition.face_locations(image)\n",
    "    a, b, c, d = face_locations[0]\n",
    "    cropped_face = image[a:c,d:b,:]\n",
    "    \n",
    "    return cropped_face\n",
    "\n",
    "\n",
    "# plt.imshow(cropped_face)\n",
    "\n"
   ]
  },
  {
   "cell_type": "markdown",
   "id": "capital-virginia",
   "metadata": {},
   "source": [
    "## 03. 얼굴 영역의 임베딩 추출하기\n",
    "이제 얼굴 영역으로 잘린 이미지들이 여럿 생겼을 텐데요. 그 이미지를 face_recognition 을 사용해서 이미지를 불러오고 임베딩을 추출해 봅시다. 다른 사람의 임베딩은 구분할 수 있게 따로 저장해 주세요. 이전에 만들었던 다음 함수들을 활용하면 손쉽게 수행 가능합니다.\n",
    "\n",
    "def get_face_embedding(face) : 얼굴영역으로부터 얼굴 임베딩 벡터를 구하는 함수\n",
    "def get_face_embedding_dict(dir_path) : 디렉토리 안에 있는 모든 이미지의 임베딩 딕셔너리를 구하는 함수\n",
    "## 04. 모은 연예인들과 비교하기\n",
    "모은 연예인 사진들과 자신의 얼굴 사진에서 추출한 임베딩 벡터들 간의 거리를 비교해 보고 가장 작은 연예인이 누구인지 찾아봅시다!\n",
    "\n",
    "이전 스텝에서 만들었던 get_nearest_face(name, top=5) 함수들을 응용하면 손쉽게 수행 가능합니다.\n",
    "\n",
    "## 05. 다양한 재미있는 시각화 시도해 보기"
   ]
  },
  {
   "cell_type": "code",
   "execution_count": null,
   "id": "partial-exception",
   "metadata": {},
   "outputs": [],
   "source": []
  },
  {
   "cell_type": "code",
   "execution_count": null,
   "id": "quick-expense",
   "metadata": {},
   "outputs": [],
   "source": []
  },
  {
   "cell_type": "code",
   "execution_count": null,
   "id": "senior-kruger",
   "metadata": {},
   "outputs": [],
   "source": []
  },
  {
   "cell_type": "code",
   "execution_count": null,
   "id": "earlier-heather",
   "metadata": {},
   "outputs": [],
   "source": []
  },
  {
   "cell_type": "code",
   "execution_count": null,
   "id": "brief-keeping",
   "metadata": {},
   "outputs": [],
   "source": []
  },
  {
   "cell_type": "code",
   "execution_count": null,
   "id": "proof-foundation",
   "metadata": {},
   "outputs": [],
   "source": []
  },
  {
   "cell_type": "code",
   "execution_count": null,
   "id": "exposed-injection",
   "metadata": {},
   "outputs": [],
   "source": []
  }
 ],
 "metadata": {
  "kernelspec": {
   "display_name": "Python 3",
   "language": "python",
   "name": "python3"
  },
  "language_info": {
   "codemirror_mode": {
    "name": "ipython",
    "version": 3
   },
   "file_extension": ".py",
   "mimetype": "text/x-python",
   "name": "python",
   "nbconvert_exporter": "python",
   "pygments_lexer": "ipython3",
   "version": "3.7.9"
  }
 },
 "nbformat": 4,
 "nbformat_minor": 5
}
