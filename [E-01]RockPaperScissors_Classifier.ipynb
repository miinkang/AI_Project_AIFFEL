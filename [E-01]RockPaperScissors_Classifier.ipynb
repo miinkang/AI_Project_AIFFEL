{
 "cells": [
  {
   "cell_type": "markdown",
   "metadata": {},
   "source": [
    "# Exploaration Project 01. Rock Paper Scissors Classifier\n",
    "\n",
    "## 00. get dataset\n",
    "- 구글의 [teachable machine 사이트](https://teachablemachine.withgoogle.com/)를 이용해서 가위바위보 사진을 촬영한다.\n",
    "- 촬영한 이미지의 크기를 224x224 => 28x28로 변경한다."
   ]
  },
  {
   "cell_type": "code",
   "execution_count": 1,
   "metadata": {},
   "outputs": [
    {
     "name": "stdout",
     "output_type": "stream",
     "text": [
      "PIL 라이브러리 import 완료!\n"
     ]
    }
   ],
   "source": [
    "# PIL 라이브러리가 설치되어 있지 않다면 설치\n",
    "# !pip install pillow   \n",
    "\n",
    "from PIL import Image\n",
    "import os, glob\n",
    "import numpy as np\n",
    "\n",
    "print(\"PIL 라이브러리 import 완료!\")"
   ]
  },
  {
   "cell_type": "code",
   "execution_count": 2,
   "metadata": {},
   "outputs": [
    {
     "name": "stdout",
     "output_type": "stream",
     "text": [
      "이미지 디렉토리 경로:  /home/aiffel/project/Project_AIFFEL/dataset/rock_scissors_paper/rock\n",
      "바위 이미지 resize 완료!\n"
     ]
    }
   ],
   "source": [
    "# 가위 이미지가 저장된 디렉토리 아래의 모든 jpg 파일을 읽어들여서\n",
    "image_dir_path = os.getenv(\"HOME\") + \"/project/Project_AIFFEL/dataset/rock_scissors_paper/rock\"\n",
    "print(\"이미지 디렉토리 경로: \", image_dir_path)\n",
    "\n",
    "images=glob.glob(image_dir_path + \"/*.jpg\")  \n",
    "\n",
    "# 파일마다 모두 28x28 사이즈로 바꾸어 저장합니다.\n",
    "target_size=(28,28)\n",
    "for img in images:\n",
    "    old_img=Image.open(img)\n",
    "    new_img=old_img.resize(target_size,Image.ANTIALIAS)\n",
    "    new_img.save(img,\"JPEG\")\n",
    "\n",
    "print(\"바위 이미지 resize 완료!\")"
   ]
  },
  {
   "cell_type": "code",
   "execution_count": 3,
   "metadata": {},
   "outputs": [
    {
     "name": "stdout",
     "output_type": "stream",
     "text": [
      "이미지 디렉토리 경로:  /home/aiffel/project/Project_AIFFEL/dataset/rock_scissors_paper/paper\n",
      "보 이미지 resize 완료!\n"
     ]
    }
   ],
   "source": [
    "# 가위 이미지가 저장된 디렉토리 아래의 모든 jpg 파일을 읽어들여서\n",
    "image_dir_path = os.getenv(\"HOME\") + \"/project/Project_AIFFEL/dataset/rock_scissors_paper/paper\"\n",
    "print(\"이미지 디렉토리 경로: \", image_dir_path)\n",
    "\n",
    "images=glob.glob(image_dir_path + \"/*.jpg\")  \n",
    "\n",
    "# 파일마다 모두 28x28 사이즈로 바꾸어 저장합니다.\n",
    "target_size=(28,28)\n",
    "for img in images:\n",
    "    old_img=Image.open(img)\n",
    "    new_img=old_img.resize(target_size,Image.ANTIALIAS)\n",
    "    new_img.save(img,\"JPEG\")\n",
    "\n",
    "print(\"보 이미지 resize 완료!\")"
   ]
  },
  {
   "cell_type": "code",
   "execution_count": 4,
   "metadata": {},
   "outputs": [
    {
     "name": "stdout",
     "output_type": "stream",
     "text": [
      "이미지 디렉토리 경로:  /home/aiffel/project/Project_AIFFEL/dataset/rock_scissors_paper/scissors\n",
      "가위 이미지 resize 완료!\n"
     ]
    }
   ],
   "source": [
    "# 가위 이미지가 저장된 디렉토리 아래의 모든 jpg 파일을 읽어들여서\n",
    "image_dir_path = os.getenv(\"HOME\") + \"/project/Project_AIFFEL/dataset/rock_scissors_paper/scissors\"\n",
    "print(\"이미지 디렉토리 경로: \", image_dir_path)\n",
    "\n",
    "images=glob.glob(image_dir_path + \"/*.jpg\")  \n",
    "\n",
    "# 파일마다 모두 28x28 사이즈로 바꾸어 저장합니다.\n",
    "target_size=(28,28)\n",
    "for img in images:\n",
    "    old_img=Image.open(img)\n",
    "    new_img=old_img.resize(target_size,Image.ANTIALIAS)\n",
    "    new_img.save(img,\"JPEG\")\n",
    "\n",
    "print(\"가위 이미지 resize 완료!\")"
   ]
  },
  {
   "cell_type": "markdown",
   "metadata": {},
   "source": [
    "## 01. load data\n",
    "- load_data 함수를 만들어 데이터를 불러온다.\n",
    "- 이미지와 정답 데이터를 담을 행렬을 미리 만든다.\n",
    "- 이미지가 담겨있는 폴더에서 이미지를 불러와 행렬에 저장한다.(for loop사용)"
   ]
  },
  {
   "cell_type": "code",
   "execution_count": 5,
   "metadata": {},
   "outputs": [],
   "source": [
    "from sklearn import model_selection"
   ]
  },
  {
   "cell_type": "code",
   "execution_count": 181,
   "metadata": {},
   "outputs": [
    {
     "name": "stdout",
     "output_type": "stream",
     "text": [
      "학습데이터(x_train)의 이미지 개수는 3000 입니다.\n",
      "x_train shape: (2700, 28, 28, 3)\n",
      "y_train shape: (2700,)\n"
     ]
    }
   ],
   "source": [
    "def load_data(img_path):\n",
    "    # 가위 : 0, 바위 : 1, 보 : 2\n",
    "    number_of_data=3000   # 가위바위보 이미지 개수 총합에 주의하세요.\n",
    "    img_size=28\n",
    "    color=3\n",
    "    #이미지 데이터와 라벨(가위 : 0, 바위 : 1, 보 : 2) 데이터를 담을 행렬(matrix) 영역을 생성합니다.\n",
    "    imgs=np.zeros(number_of_data*img_size*img_size*color,dtype=np.int32).reshape(number_of_data,img_size,img_size,color)\n",
    "    labels=np.zeros(number_of_data,dtype=np.int32)\n",
    "\n",
    "    idx=0\n",
    "    for file in glob.iglob(img_path+'/scissors/*.jpg'):\n",
    "        img = np.array(Image.open(file),dtype=np.int32)\n",
    "        imgs[idx,:,:,:]=img    # 데이터 영역에 이미지 행렬을 복사\n",
    "        labels[idx]=0   # 가위 : 0\n",
    "        idx=idx+1\n",
    "\n",
    "    for file in glob.iglob(img_path+'/rock/*.jpg'):\n",
    "        img = np.array(Image.open(file),dtype=np.int32)\n",
    "        imgs[idx,:,:,:]=img    # 데이터 영역에 이미지 행렬을 복사\n",
    "        labels[idx]=1   # 바위 : 1\n",
    "        idx=idx+1       \n",
    "    \n",
    "    for file in glob.iglob(img_path+'/paper/*.jpg'):\n",
    "        img = np.array(Image.open(file),dtype=np.int32)\n",
    "        imgs[idx,:,:,:]=img    # 데이터 영역에 이미지 행렬을 복사\n",
    "        labels[idx]=2   # 보 : 2\n",
    "        idx=idx+1\n",
    "        \n",
    "    print(\"학습데이터(x_train)의 이미지 개수는\",idx,\"입니다.\")\n",
    "#     return imgs[:1200], labels[:1200]\n",
    "    return imgs, labels\n",
    "\n",
    "image_dir_path = os.getenv(\"HOME\") + \"/dataset/rock_scissors_paper/\"\n",
    "(x_train, y_train)=load_data(image_dir_path)\n",
    "x_train_norm = x_train/255.0   # 입력은 0~1 사이의 값으로 정규화\n",
    "\n",
    "x_train, x_valid, y_train, y_valid = model_selection.train_test_split(x_train_norm, y_train, test_size=0.1,\n",
    "                                                                     random_state=15)\n",
    "\n",
    "print(\"x_train shape: {}\".format(x_train.shape))\n",
    "print(\"y_train shape: {}\".format(y_train.shape))"
   ]
  },
  {
   "cell_type": "markdown",
   "metadata": {},
   "source": [
    "- 이미지 출력"
   ]
  },
  {
   "cell_type": "code",
   "execution_count": 182,
   "metadata": {},
   "outputs": [
    {
     "name": "stdout",
     "output_type": "stream",
     "text": [
      "라벨:  2\n"
     ]
    },
    {
     "data": {
      "image/png": "[encoded data removed]",
      "text/plain": [
       "<Figure size 432x288 with 1 Axes>"
      ]
     },
     "metadata": {
      "needs_background": "light"
     },
     "output_type": "display_data"
    }
   ],
   "source": [
    "import matplotlib.pyplot as plt\n",
    "plt.imshow(x_train[0])\n",
    "print('라벨: ', y_train[0])"
   ]
  },
  {
   "cell_type": "markdown",
   "metadata": {},
   "source": [
    "## 02. build Deep Learning network"
   ]
  },
  {
   "cell_type": "code",
   "execution_count": 183,
   "metadata": {},
   "outputs": [
    {
     "ename": "ValueError",
     "evalue": "Negative dimension size caused by subtracting 3 from 1 for '{{node conv2d_71/Conv2D}} = Conv2D[T=DT_FLOAT, data_format=\"NHWC\", dilations=[1, 1, 1, 1], explicit_paddings=[], padding=\"VALID\", strides=[1, 1, 1, 1], use_cudnn_on_gpu=true](max_pooling2d_67/Identity, conv2d_71/Conv2D/ReadVariableOp)' with input shapes: [?,1,1,64], [3,3,64,128].",
     "output_type": "error",
     "traceback": [
      "\u001b[0;31m---------------------------------------------------------------------------\u001b[0m",
      "\u001b[0;31mInvalidArgumentError\u001b[0m                      Traceback (most recent call last)",
      "\u001b[0;32m~/anaconda3/envs/aiffel/lib/python3.7/site-packages/tensorflow/python/framework/ops.py\u001b[0m in \u001b[0;36m_create_c_op\u001b[0;34m(graph, node_def, inputs, control_inputs, op_def)\u001b[0m\n\u001b[1;32m   1653\u001b[0m   \u001b[0;32mtry\u001b[0m\u001b[0;34m:\u001b[0m\u001b[0;34m\u001b[0m\u001b[0;34m\u001b[0m\u001b[0m\n\u001b[0;32m-> 1654\u001b[0;31m     \u001b[0mc_op\u001b[0m \u001b[0;34m=\u001b[0m \u001b[0mpywrap_tf_session\u001b[0m\u001b[0;34m.\u001b[0m\u001b[0mTF_FinishOperation\u001b[0m\u001b[0;34m(\u001b[0m\u001b[0mop_desc\u001b[0m\u001b[0;34m)\u001b[0m\u001b[0;34m\u001b[0m\u001b[0;34m\u001b[0m\u001b[0m\n\u001b[0m\u001b[1;32m   1655\u001b[0m   \u001b[0;32mexcept\u001b[0m \u001b[0merrors\u001b[0m\u001b[0;34m.\u001b[0m\u001b[0mInvalidArgumentError\u001b[0m \u001b[0;32mas\u001b[0m \u001b[0me\u001b[0m\u001b[0;34m:\u001b[0m\u001b[0;34m\u001b[0m\u001b[0;34m\u001b[0m\u001b[0m\n",
      "\u001b[0;31mInvalidArgumentError\u001b[0m: Negative dimension size caused by subtracting 3 from 1 for '{{node conv2d_71/Conv2D}} = Conv2D[T=DT_FLOAT, data_format=\"NHWC\", dilations=[1, 1, 1, 1], explicit_paddings=[], padding=\"VALID\", strides=[1, 1, 1, 1], use_cudnn_on_gpu=true](max_pooling2d_67/Identity, conv2d_71/Conv2D/ReadVariableOp)' with input shapes: [?,1,1,64], [3,3,64,128].",
      "\nDuring handling of the above exception, another exception occurred:\n",
      "\u001b[0;31mValueError\u001b[0m                                Traceback (most recent call last)",
      "\u001b[0;32m<ipython-input-183-f5905b63702e>\u001b[0m in \u001b[0;36m<module>\u001b[0;34m\u001b[0m\n\u001b[1;32m     10\u001b[0m \u001b[0mmodel\u001b[0m\u001b[0;34m.\u001b[0m\u001b[0madd\u001b[0m\u001b[0;34m(\u001b[0m\u001b[0mkeras\u001b[0m\u001b[0;34m.\u001b[0m\u001b[0mlayers\u001b[0m\u001b[0;34m.\u001b[0m\u001b[0mConv2D\u001b[0m\u001b[0;34m(\u001b[0m\u001b[0;36m64\u001b[0m\u001b[0;34m,\u001b[0m \u001b[0;34m(\u001b[0m\u001b[0;36m3\u001b[0m\u001b[0;34m,\u001b[0m\u001b[0;36m3\u001b[0m\u001b[0;34m)\u001b[0m\u001b[0;34m,\u001b[0m \u001b[0mactivation\u001b[0m\u001b[0;34m=\u001b[0m\u001b[0;34m'relu'\u001b[0m\u001b[0;34m)\u001b[0m\u001b[0;34m)\u001b[0m\u001b[0;34m\u001b[0m\u001b[0;34m\u001b[0m\u001b[0m\n\u001b[1;32m     11\u001b[0m \u001b[0mmodel\u001b[0m\u001b[0;34m.\u001b[0m\u001b[0madd\u001b[0m\u001b[0;34m(\u001b[0m\u001b[0mkeras\u001b[0m\u001b[0;34m.\u001b[0m\u001b[0mlayers\u001b[0m\u001b[0;34m.\u001b[0m\u001b[0mMaxPooling2D\u001b[0m\u001b[0;34m(\u001b[0m\u001b[0;34m(\u001b[0m\u001b[0;36m2\u001b[0m\u001b[0;34m,\u001b[0m\u001b[0;36m2\u001b[0m\u001b[0;34m)\u001b[0m\u001b[0;34m)\u001b[0m\u001b[0;34m)\u001b[0m\u001b[0;34m\u001b[0m\u001b[0;34m\u001b[0m\u001b[0m\n\u001b[0;32m---> 12\u001b[0;31m \u001b[0mmodel\u001b[0m\u001b[0;34m.\u001b[0m\u001b[0madd\u001b[0m\u001b[0;34m(\u001b[0m\u001b[0mkeras\u001b[0m\u001b[0;34m.\u001b[0m\u001b[0mlayers\u001b[0m\u001b[0;34m.\u001b[0m\u001b[0mConv2D\u001b[0m\u001b[0;34m(\u001b[0m\u001b[0;36m128\u001b[0m\u001b[0;34m,\u001b[0m \u001b[0;34m(\u001b[0m\u001b[0;36m3\u001b[0m\u001b[0;34m,\u001b[0m\u001b[0;36m3\u001b[0m\u001b[0;34m)\u001b[0m\u001b[0;34m,\u001b[0m \u001b[0mactivation\u001b[0m\u001b[0;34m=\u001b[0m\u001b[0;34m'relu'\u001b[0m\u001b[0;34m)\u001b[0m\u001b[0;34m)\u001b[0m\u001b[0;34m\u001b[0m\u001b[0;34m\u001b[0m\u001b[0m\n\u001b[0m\u001b[1;32m     13\u001b[0m \u001b[0mmodel\u001b[0m\u001b[0;34m.\u001b[0m\u001b[0madd\u001b[0m\u001b[0;34m(\u001b[0m\u001b[0mkeras\u001b[0m\u001b[0;34m.\u001b[0m\u001b[0mlayers\u001b[0m\u001b[0;34m.\u001b[0m\u001b[0mMaxPooling2D\u001b[0m\u001b[0;34m(\u001b[0m\u001b[0;34m(\u001b[0m\u001b[0;36m2\u001b[0m\u001b[0;34m,\u001b[0m\u001b[0;36m2\u001b[0m\u001b[0;34m)\u001b[0m\u001b[0;34m)\u001b[0m\u001b[0;34m)\u001b[0m\u001b[0;34m\u001b[0m\u001b[0;34m\u001b[0m\u001b[0m\n\u001b[1;32m     14\u001b[0m \u001b[0mmodel\u001b[0m\u001b[0;34m.\u001b[0m\u001b[0madd\u001b[0m\u001b[0;34m(\u001b[0m\u001b[0mkeras\u001b[0m\u001b[0;34m.\u001b[0m\u001b[0mlayers\u001b[0m\u001b[0;34m.\u001b[0m\u001b[0mFlatten\u001b[0m\u001b[0;34m(\u001b[0m\u001b[0;34m)\u001b[0m\u001b[0;34m)\u001b[0m\u001b[0;34m\u001b[0m\u001b[0;34m\u001b[0m\u001b[0m\n",
      "\u001b[0;32m~/anaconda3/envs/aiffel/lib/python3.7/site-packages/tensorflow/python/training/tracking/base.py\u001b[0m in \u001b[0;36m_method_wrapper\u001b[0;34m(self, *args, **kwargs)\u001b[0m\n\u001b[1;32m    454\u001b[0m     \u001b[0mself\u001b[0m\u001b[0;34m.\u001b[0m\u001b[0m_self_setattr_tracking\u001b[0m \u001b[0;34m=\u001b[0m \u001b[0;32mFalse\u001b[0m  \u001b[0;31m# pylint: disable=protected-access\u001b[0m\u001b[0;34m\u001b[0m\u001b[0;34m\u001b[0m\u001b[0m\n\u001b[1;32m    455\u001b[0m     \u001b[0;32mtry\u001b[0m\u001b[0;34m:\u001b[0m\u001b[0;34m\u001b[0m\u001b[0;34m\u001b[0m\u001b[0m\n\u001b[0;32m--> 456\u001b[0;31m       \u001b[0mresult\u001b[0m \u001b[0;34m=\u001b[0m \u001b[0mmethod\u001b[0m\u001b[0;34m(\u001b[0m\u001b[0mself\u001b[0m\u001b[0;34m,\u001b[0m \u001b[0;34m*\u001b[0m\u001b[0margs\u001b[0m\u001b[0;34m,\u001b[0m \u001b[0;34m**\u001b[0m\u001b[0mkwargs\u001b[0m\u001b[0;34m)\u001b[0m\u001b[0;34m\u001b[0m\u001b[0;34m\u001b[0m\u001b[0m\n\u001b[0m\u001b[1;32m    457\u001b[0m     \u001b[0;32mfinally\u001b[0m\u001b[0;34m:\u001b[0m\u001b[0;34m\u001b[0m\u001b[0;34m\u001b[0m\u001b[0m\n\u001b[1;32m    458\u001b[0m       \u001b[0mself\u001b[0m\u001b[0;34m.\u001b[0m\u001b[0m_self_setattr_tracking\u001b[0m \u001b[0;34m=\u001b[0m \u001b[0mprevious_value\u001b[0m  \u001b[0;31m# pylint: disable=protected-access\u001b[0m\u001b[0;34m\u001b[0m\u001b[0;34m\u001b[0m\u001b[0m\n",
      "\u001b[0;32m~/anaconda3/envs/aiffel/lib/python3.7/site-packages/tensorflow/python/keras/engine/sequential.py\u001b[0m in \u001b[0;36madd\u001b[0;34m(self, layer)\u001b[0m\n\u001b[1;32m    211\u001b[0m       \u001b[0;31m# If the model is being built continuously on top of an input layer:\u001b[0m\u001b[0;34m\u001b[0m\u001b[0;34m\u001b[0m\u001b[0;34m\u001b[0m\u001b[0m\n\u001b[1;32m    212\u001b[0m       \u001b[0;31m# refresh its output.\u001b[0m\u001b[0;34m\u001b[0m\u001b[0;34m\u001b[0m\u001b[0;34m\u001b[0m\u001b[0m\n\u001b[0;32m--> 213\u001b[0;31m       \u001b[0moutput_tensor\u001b[0m \u001b[0;34m=\u001b[0m \u001b[0mlayer\u001b[0m\u001b[0;34m(\u001b[0m\u001b[0mself\u001b[0m\u001b[0;34m.\u001b[0m\u001b[0moutputs\u001b[0m\u001b[0;34m[\u001b[0m\u001b[0;36m0\u001b[0m\u001b[0;34m]\u001b[0m\u001b[0;34m)\u001b[0m\u001b[0;34m\u001b[0m\u001b[0;34m\u001b[0m\u001b[0m\n\u001b[0m\u001b[1;32m    214\u001b[0m       \u001b[0;32mif\u001b[0m \u001b[0mlen\u001b[0m\u001b[0;34m(\u001b[0m\u001b[0mnest\u001b[0m\u001b[0;34m.\u001b[0m\u001b[0mflatten\u001b[0m\u001b[0;34m(\u001b[0m\u001b[0moutput_tensor\u001b[0m\u001b[0;34m)\u001b[0m\u001b[0;34m)\u001b[0m \u001b[0;34m!=\u001b[0m \u001b[0;36m1\u001b[0m\u001b[0;34m:\u001b[0m\u001b[0;34m\u001b[0m\u001b[0;34m\u001b[0m\u001b[0m\n\u001b[1;32m    215\u001b[0m         \u001b[0;32mraise\u001b[0m \u001b[0mValueError\u001b[0m\u001b[0;34m(\u001b[0m\u001b[0mSINGLE_LAYER_OUTPUT_ERROR_MSG\u001b[0m\u001b[0;34m)\u001b[0m\u001b[0;34m\u001b[0m\u001b[0;34m\u001b[0m\u001b[0m\n",
      "\u001b[0;32m~/anaconda3/envs/aiffel/lib/python3.7/site-packages/tensorflow/python/keras/engine/base_layer.py\u001b[0m in \u001b[0;36m__call__\u001b[0;34m(self, *args, **kwargs)\u001b[0m\n\u001b[1;32m    920\u001b[0m                     not base_layer_utils.is_in_eager_or_tf_function()):\n\u001b[1;32m    921\u001b[0m                   \u001b[0;32mwith\u001b[0m \u001b[0mauto_control_deps\u001b[0m\u001b[0;34m.\u001b[0m\u001b[0mAutomaticControlDependencies\u001b[0m\u001b[0;34m(\u001b[0m\u001b[0;34m)\u001b[0m \u001b[0;32mas\u001b[0m \u001b[0macd\u001b[0m\u001b[0;34m:\u001b[0m\u001b[0;34m\u001b[0m\u001b[0;34m\u001b[0m\u001b[0m\n\u001b[0;32m--> 922\u001b[0;31m                     \u001b[0moutputs\u001b[0m \u001b[0;34m=\u001b[0m \u001b[0mcall_fn\u001b[0m\u001b[0;34m(\u001b[0m\u001b[0mcast_inputs\u001b[0m\u001b[0;34m,\u001b[0m \u001b[0;34m*\u001b[0m\u001b[0margs\u001b[0m\u001b[0;34m,\u001b[0m \u001b[0;34m**\u001b[0m\u001b[0mkwargs\u001b[0m\u001b[0;34m)\u001b[0m\u001b[0;34m\u001b[0m\u001b[0;34m\u001b[0m\u001b[0m\n\u001b[0m\u001b[1;32m    923\u001b[0m                     \u001b[0;31m# Wrap Tensors in `outputs` in `tf.identity` to avoid\u001b[0m\u001b[0;34m\u001b[0m\u001b[0;34m\u001b[0m\u001b[0;34m\u001b[0m\u001b[0m\n\u001b[1;32m    924\u001b[0m                     \u001b[0;31m# circular dependencies.\u001b[0m\u001b[0;34m\u001b[0m\u001b[0;34m\u001b[0m\u001b[0;34m\u001b[0m\u001b[0m\n",
      "\u001b[0;32m~/anaconda3/envs/aiffel/lib/python3.7/site-packages/tensorflow/python/keras/layers/convolutional.py\u001b[0m in \u001b[0;36mcall\u001b[0;34m(self, inputs)\u001b[0m\n\u001b[1;32m    205\u001b[0m       \u001b[0minputs\u001b[0m \u001b[0;34m=\u001b[0m \u001b[0marray_ops\u001b[0m\u001b[0;34m.\u001b[0m\u001b[0mpad\u001b[0m\u001b[0;34m(\u001b[0m\u001b[0minputs\u001b[0m\u001b[0;34m,\u001b[0m \u001b[0mself\u001b[0m\u001b[0;34m.\u001b[0m\u001b[0m_compute_causal_padding\u001b[0m\u001b[0;34m(\u001b[0m\u001b[0;34m)\u001b[0m\u001b[0;34m)\u001b[0m\u001b[0;34m\u001b[0m\u001b[0;34m\u001b[0m\u001b[0m\n\u001b[1;32m    206\u001b[0m \u001b[0;34m\u001b[0m\u001b[0m\n\u001b[0;32m--> 207\u001b[0;31m     \u001b[0moutputs\u001b[0m \u001b[0;34m=\u001b[0m \u001b[0mself\u001b[0m\u001b[0;34m.\u001b[0m\u001b[0m_convolution_op\u001b[0m\u001b[0;34m(\u001b[0m\u001b[0minputs\u001b[0m\u001b[0;34m,\u001b[0m \u001b[0mself\u001b[0m\u001b[0;34m.\u001b[0m\u001b[0mkernel\u001b[0m\u001b[0;34m)\u001b[0m\u001b[0;34m\u001b[0m\u001b[0;34m\u001b[0m\u001b[0m\n\u001b[0m\u001b[1;32m    208\u001b[0m \u001b[0;34m\u001b[0m\u001b[0m\n\u001b[1;32m    209\u001b[0m     \u001b[0;32mif\u001b[0m \u001b[0mself\u001b[0m\u001b[0;34m.\u001b[0m\u001b[0muse_bias\u001b[0m\u001b[0;34m:\u001b[0m\u001b[0;34m\u001b[0m\u001b[0;34m\u001b[0m\u001b[0m\n",
      "\u001b[0;32m~/anaconda3/envs/aiffel/lib/python3.7/site-packages/tensorflow/python/ops/nn_ops.py\u001b[0m in \u001b[0;36m__call__\u001b[0;34m(self, inp, filter)\u001b[0m\n\u001b[1;32m   1104\u001b[0m           call_from_convolution=False)\n\u001b[1;32m   1105\u001b[0m     \u001b[0;32melse\u001b[0m\u001b[0;34m:\u001b[0m\u001b[0;34m\u001b[0m\u001b[0;34m\u001b[0m\u001b[0m\n\u001b[0;32m-> 1106\u001b[0;31m       \u001b[0;32mreturn\u001b[0m \u001b[0mself\u001b[0m\u001b[0;34m.\u001b[0m\u001b[0mconv_op\u001b[0m\u001b[0;34m(\u001b[0m\u001b[0minp\u001b[0m\u001b[0;34m,\u001b[0m \u001b[0mfilter\u001b[0m\u001b[0;34m)\u001b[0m\u001b[0;34m\u001b[0m\u001b[0;34m\u001b[0m\u001b[0m\n\u001b[0m\u001b[1;32m   1107\u001b[0m \u001b[0;34m\u001b[0m\u001b[0m\n\u001b[1;32m   1108\u001b[0m \u001b[0;34m\u001b[0m\u001b[0m\n",
      "\u001b[0;32m~/anaconda3/envs/aiffel/lib/python3.7/site-packages/tensorflow/python/ops/nn_ops.py\u001b[0m in \u001b[0;36m__call__\u001b[0;34m(self, inp, filter)\u001b[0m\n\u001b[1;32m    636\u001b[0m \u001b[0;34m\u001b[0m\u001b[0m\n\u001b[1;32m    637\u001b[0m   \u001b[0;32mdef\u001b[0m \u001b[0m__call__\u001b[0m\u001b[0;34m(\u001b[0m\u001b[0mself\u001b[0m\u001b[0;34m,\u001b[0m \u001b[0minp\u001b[0m\u001b[0;34m,\u001b[0m \u001b[0mfilter\u001b[0m\u001b[0;34m)\u001b[0m\u001b[0;34m:\u001b[0m  \u001b[0;31m# pylint: disable=redefined-builtin\u001b[0m\u001b[0;34m\u001b[0m\u001b[0;34m\u001b[0m\u001b[0m\n\u001b[0;32m--> 638\u001b[0;31m     \u001b[0;32mreturn\u001b[0m \u001b[0mself\u001b[0m\u001b[0;34m.\u001b[0m\u001b[0mcall\u001b[0m\u001b[0;34m(\u001b[0m\u001b[0minp\u001b[0m\u001b[0;34m,\u001b[0m \u001b[0mfilter\u001b[0m\u001b[0;34m)\u001b[0m\u001b[0;34m\u001b[0m\u001b[0;34m\u001b[0m\u001b[0m\n\u001b[0m\u001b[1;32m    639\u001b[0m \u001b[0;34m\u001b[0m\u001b[0m\n\u001b[1;32m    640\u001b[0m \u001b[0;34m\u001b[0m\u001b[0m\n",
      "\u001b[0;32m~/anaconda3/envs/aiffel/lib/python3.7/site-packages/tensorflow/python/ops/nn_ops.py\u001b[0m in \u001b[0;36m__call__\u001b[0;34m(self, inp, filter)\u001b[0m\n\u001b[1;32m    235\u001b[0m         \u001b[0mpadding\u001b[0m\u001b[0;34m=\u001b[0m\u001b[0mself\u001b[0m\u001b[0;34m.\u001b[0m\u001b[0mpadding\u001b[0m\u001b[0;34m,\u001b[0m\u001b[0;34m\u001b[0m\u001b[0;34m\u001b[0m\u001b[0m\n\u001b[1;32m    236\u001b[0m         \u001b[0mdata_format\u001b[0m\u001b[0;34m=\u001b[0m\u001b[0mself\u001b[0m\u001b[0;34m.\u001b[0m\u001b[0mdata_format\u001b[0m\u001b[0;34m,\u001b[0m\u001b[0;34m\u001b[0m\u001b[0;34m\u001b[0m\u001b[0m\n\u001b[0;32m--> 237\u001b[0;31m         name=self.name)\n\u001b[0m\u001b[1;32m    238\u001b[0m \u001b[0;34m\u001b[0m\u001b[0m\n\u001b[1;32m    239\u001b[0m \u001b[0;34m\u001b[0m\u001b[0m\n",
      "\u001b[0;32m~/anaconda3/envs/aiffel/lib/python3.7/site-packages/tensorflow/python/ops/nn_ops.py\u001b[0m in \u001b[0;36mconv2d\u001b[0;34m(input, filter, strides, padding, use_cudnn_on_gpu, data_format, dilations, name, filters)\u001b[0m\n\u001b[1;32m   2012\u001b[0m                            \u001b[0mdata_format\u001b[0m\u001b[0;34m=\u001b[0m\u001b[0mdata_format\u001b[0m\u001b[0;34m,\u001b[0m\u001b[0;34m\u001b[0m\u001b[0;34m\u001b[0m\u001b[0m\n\u001b[1;32m   2013\u001b[0m                            \u001b[0mdilations\u001b[0m\u001b[0;34m=\u001b[0m\u001b[0mdilations\u001b[0m\u001b[0;34m,\u001b[0m\u001b[0;34m\u001b[0m\u001b[0;34m\u001b[0m\u001b[0m\n\u001b[0;32m-> 2014\u001b[0;31m                            name=name)\n\u001b[0m\u001b[1;32m   2015\u001b[0m \u001b[0;34m\u001b[0m\u001b[0m\n\u001b[1;32m   2016\u001b[0m \u001b[0;34m\u001b[0m\u001b[0m\n",
      "\u001b[0;32m~/anaconda3/envs/aiffel/lib/python3.7/site-packages/tensorflow/python/ops/gen_nn_ops.py\u001b[0m in \u001b[0;36mconv2d\u001b[0;34m(input, filter, strides, padding, use_cudnn_on_gpu, explicit_paddings, data_format, dilations, name)\u001b[0m\n\u001b[1;32m    967\u001b[0m                   \u001b[0mpadding\u001b[0m\u001b[0;34m=\u001b[0m\u001b[0mpadding\u001b[0m\u001b[0;34m,\u001b[0m \u001b[0muse_cudnn_on_gpu\u001b[0m\u001b[0;34m=\u001b[0m\u001b[0muse_cudnn_on_gpu\u001b[0m\u001b[0;34m,\u001b[0m\u001b[0;34m\u001b[0m\u001b[0;34m\u001b[0m\u001b[0m\n\u001b[1;32m    968\u001b[0m                   \u001b[0mexplicit_paddings\u001b[0m\u001b[0;34m=\u001b[0m\u001b[0mexplicit_paddings\u001b[0m\u001b[0;34m,\u001b[0m\u001b[0;34m\u001b[0m\u001b[0;34m\u001b[0m\u001b[0m\n\u001b[0;32m--> 969\u001b[0;31m                   data_format=data_format, dilations=dilations, name=name)\n\u001b[0m\u001b[1;32m    970\u001b[0m   \u001b[0m_result\u001b[0m \u001b[0;34m=\u001b[0m \u001b[0m_outputs\u001b[0m\u001b[0;34m[\u001b[0m\u001b[0;34m:\u001b[0m\u001b[0;34m]\u001b[0m\u001b[0;34m\u001b[0m\u001b[0;34m\u001b[0m\u001b[0m\n\u001b[1;32m    971\u001b[0m   \u001b[0;32mif\u001b[0m \u001b[0m_execute\u001b[0m\u001b[0;34m.\u001b[0m\u001b[0mmust_record_gradient\u001b[0m\u001b[0;34m(\u001b[0m\u001b[0;34m)\u001b[0m\u001b[0;34m:\u001b[0m\u001b[0;34m\u001b[0m\u001b[0;34m\u001b[0m\u001b[0m\n",
      "\u001b[0;32m~/anaconda3/envs/aiffel/lib/python3.7/site-packages/tensorflow/python/framework/op_def_library.py\u001b[0m in \u001b[0;36m_apply_op_helper\u001b[0;34m(op_type_name, name, **keywords)\u001b[0m\n\u001b[1;32m    742\u001b[0m       op = g._create_op_internal(op_type_name, inputs, dtypes=None,\n\u001b[1;32m    743\u001b[0m                                  \u001b[0mname\u001b[0m\u001b[0;34m=\u001b[0m\u001b[0mscope\u001b[0m\u001b[0;34m,\u001b[0m \u001b[0minput_types\u001b[0m\u001b[0;34m=\u001b[0m\u001b[0minput_types\u001b[0m\u001b[0;34m,\u001b[0m\u001b[0;34m\u001b[0m\u001b[0;34m\u001b[0m\u001b[0m\n\u001b[0;32m--> 744\u001b[0;31m                                  attrs=attr_protos, op_def=op_def)\n\u001b[0m\u001b[1;32m    745\u001b[0m \u001b[0;34m\u001b[0m\u001b[0m\n\u001b[1;32m    746\u001b[0m     \u001b[0;31m# `outputs` is returned as a separate return value so that the output\u001b[0m\u001b[0;34m\u001b[0m\u001b[0;34m\u001b[0m\u001b[0;34m\u001b[0m\u001b[0m\n",
      "\u001b[0;32m~/anaconda3/envs/aiffel/lib/python3.7/site-packages/tensorflow/python/framework/func_graph.py\u001b[0m in \u001b[0;36m_create_op_internal\u001b[0;34m(self, op_type, inputs, dtypes, input_types, name, attrs, op_def, compute_device)\u001b[0m\n\u001b[1;32m    593\u001b[0m     return super(FuncGraph, self)._create_op_internal(  # pylint: disable=protected-access\n\u001b[1;32m    594\u001b[0m         \u001b[0mop_type\u001b[0m\u001b[0;34m,\u001b[0m \u001b[0minputs\u001b[0m\u001b[0;34m,\u001b[0m \u001b[0mdtypes\u001b[0m\u001b[0;34m,\u001b[0m \u001b[0minput_types\u001b[0m\u001b[0;34m,\u001b[0m \u001b[0mname\u001b[0m\u001b[0;34m,\u001b[0m \u001b[0mattrs\u001b[0m\u001b[0;34m,\u001b[0m \u001b[0mop_def\u001b[0m\u001b[0;34m,\u001b[0m\u001b[0;34m\u001b[0m\u001b[0;34m\u001b[0m\u001b[0m\n\u001b[0;32m--> 595\u001b[0;31m         compute_device)\n\u001b[0m\u001b[1;32m    596\u001b[0m \u001b[0;34m\u001b[0m\u001b[0m\n\u001b[1;32m    597\u001b[0m   \u001b[0;32mdef\u001b[0m \u001b[0mcapture\u001b[0m\u001b[0;34m(\u001b[0m\u001b[0mself\u001b[0m\u001b[0;34m,\u001b[0m \u001b[0mtensor\u001b[0m\u001b[0;34m,\u001b[0m \u001b[0mname\u001b[0m\u001b[0;34m=\u001b[0m\u001b[0;32mNone\u001b[0m\u001b[0;34m,\u001b[0m \u001b[0mshape\u001b[0m\u001b[0;34m=\u001b[0m\u001b[0;32mNone\u001b[0m\u001b[0;34m)\u001b[0m\u001b[0;34m:\u001b[0m\u001b[0;34m\u001b[0m\u001b[0;34m\u001b[0m\u001b[0m\n",
      "\u001b[0;32m~/anaconda3/envs/aiffel/lib/python3.7/site-packages/tensorflow/python/framework/ops.py\u001b[0m in \u001b[0;36m_create_op_internal\u001b[0;34m(self, op_type, inputs, dtypes, input_types, name, attrs, op_def, compute_device)\u001b[0m\n\u001b[1;32m   3325\u001b[0m           \u001b[0minput_types\u001b[0m\u001b[0;34m=\u001b[0m\u001b[0minput_types\u001b[0m\u001b[0;34m,\u001b[0m\u001b[0;34m\u001b[0m\u001b[0;34m\u001b[0m\u001b[0m\n\u001b[1;32m   3326\u001b[0m           \u001b[0moriginal_op\u001b[0m\u001b[0;34m=\u001b[0m\u001b[0mself\u001b[0m\u001b[0;34m.\u001b[0m\u001b[0m_default_original_op\u001b[0m\u001b[0;34m,\u001b[0m\u001b[0;34m\u001b[0m\u001b[0;34m\u001b[0m\u001b[0m\n\u001b[0;32m-> 3327\u001b[0;31m           op_def=op_def)\n\u001b[0m\u001b[1;32m   3328\u001b[0m       \u001b[0mself\u001b[0m\u001b[0;34m.\u001b[0m\u001b[0m_create_op_helper\u001b[0m\u001b[0;34m(\u001b[0m\u001b[0mret\u001b[0m\u001b[0;34m,\u001b[0m \u001b[0mcompute_device\u001b[0m\u001b[0;34m=\u001b[0m\u001b[0mcompute_device\u001b[0m\u001b[0;34m)\u001b[0m\u001b[0;34m\u001b[0m\u001b[0;34m\u001b[0m\u001b[0m\n\u001b[1;32m   3329\u001b[0m     \u001b[0;32mreturn\u001b[0m \u001b[0mret\u001b[0m\u001b[0;34m\u001b[0m\u001b[0;34m\u001b[0m\u001b[0m\n",
      "\u001b[0;32m~/anaconda3/envs/aiffel/lib/python3.7/site-packages/tensorflow/python/framework/ops.py\u001b[0m in \u001b[0;36m__init__\u001b[0;34m(self, node_def, g, inputs, output_types, control_inputs, input_types, original_op, op_def)\u001b[0m\n\u001b[1;32m   1815\u001b[0m         \u001b[0mop_def\u001b[0m \u001b[0;34m=\u001b[0m \u001b[0mself\u001b[0m\u001b[0;34m.\u001b[0m\u001b[0m_graph\u001b[0m\u001b[0;34m.\u001b[0m\u001b[0m_get_op_def\u001b[0m\u001b[0;34m(\u001b[0m\u001b[0mnode_def\u001b[0m\u001b[0;34m.\u001b[0m\u001b[0mop\u001b[0m\u001b[0;34m)\u001b[0m\u001b[0;34m\u001b[0m\u001b[0;34m\u001b[0m\u001b[0m\n\u001b[1;32m   1816\u001b[0m       self._c_op = _create_c_op(self._graph, node_def, inputs,\n\u001b[0;32m-> 1817\u001b[0;31m                                 control_input_ops, op_def)\n\u001b[0m\u001b[1;32m   1818\u001b[0m       \u001b[0mname\u001b[0m \u001b[0;34m=\u001b[0m \u001b[0mcompat\u001b[0m\u001b[0;34m.\u001b[0m\u001b[0mas_str\u001b[0m\u001b[0;34m(\u001b[0m\u001b[0mnode_def\u001b[0m\u001b[0;34m.\u001b[0m\u001b[0mname\u001b[0m\u001b[0;34m)\u001b[0m\u001b[0;34m\u001b[0m\u001b[0;34m\u001b[0m\u001b[0m\n\u001b[1;32m   1819\u001b[0m     \u001b[0;31m# pylint: enable=protected-access\u001b[0m\u001b[0;34m\u001b[0m\u001b[0;34m\u001b[0m\u001b[0;34m\u001b[0m\u001b[0m\n",
      "\u001b[0;32m~/anaconda3/envs/aiffel/lib/python3.7/site-packages/tensorflow/python/framework/ops.py\u001b[0m in \u001b[0;36m_create_c_op\u001b[0;34m(graph, node_def, inputs, control_inputs, op_def)\u001b[0m\n\u001b[1;32m   1655\u001b[0m   \u001b[0;32mexcept\u001b[0m \u001b[0merrors\u001b[0m\u001b[0;34m.\u001b[0m\u001b[0mInvalidArgumentError\u001b[0m \u001b[0;32mas\u001b[0m \u001b[0me\u001b[0m\u001b[0;34m:\u001b[0m\u001b[0;34m\u001b[0m\u001b[0;34m\u001b[0m\u001b[0m\n\u001b[1;32m   1656\u001b[0m     \u001b[0;31m# Convert to ValueError for backwards compatibility.\u001b[0m\u001b[0;34m\u001b[0m\u001b[0;34m\u001b[0m\u001b[0;34m\u001b[0m\u001b[0m\n\u001b[0;32m-> 1657\u001b[0;31m     \u001b[0;32mraise\u001b[0m \u001b[0mValueError\u001b[0m\u001b[0;34m(\u001b[0m\u001b[0mstr\u001b[0m\u001b[0;34m(\u001b[0m\u001b[0me\u001b[0m\u001b[0;34m)\u001b[0m\u001b[0;34m)\u001b[0m\u001b[0;34m\u001b[0m\u001b[0;34m\u001b[0m\u001b[0m\n\u001b[0m\u001b[1;32m   1658\u001b[0m \u001b[0;34m\u001b[0m\u001b[0m\n\u001b[1;32m   1659\u001b[0m   \u001b[0;32mreturn\u001b[0m \u001b[0mc_op\u001b[0m\u001b[0;34m\u001b[0m\u001b[0;34m\u001b[0m\u001b[0m\n",
      "\u001b[0;31mValueError\u001b[0m: Negative dimension size caused by subtracting 3 from 1 for '{{node conv2d_71/Conv2D}} = Conv2D[T=DT_FLOAT, data_format=\"NHWC\", dilations=[1, 1, 1, 1], explicit_paddings=[], padding=\"VALID\", strides=[1, 1, 1, 1], use_cudnn_on_gpu=true](max_pooling2d_67/Identity, conv2d_71/Conv2D/ReadVariableOp)' with input shapes: [?,1,1,64], [3,3,64,128]."
     ]
    }
   ],
   "source": [
    "import tensorflow as tf\n",
    "from tensorflow import keras\n",
    "\n",
    "\n",
    "model=keras.models.Sequential()\n",
    "model.add(keras.layers.Conv2D(16, (3,3), activation='relu', input_shape=(28,28,3)))\n",
    "model.add(keras.layers.MaxPool2D(2,2))\n",
    "model.add(keras.layers.Conv2D(32, (3,3), activation='relu'))\n",
    "model.add(keras.layers.MaxPooling2D((2,2)))\n",
    "model.add(keras.layers.Conv2D(64, (3,3), activation='relu'))\n",
    "model.add(keras.layers.MaxPooling2D((2,2)))\n",
    "model.add(keras.layers.Conv2D(128, (3,3), activation='relu'))\n",
    "model.add(keras.layers.MaxPooling2D((2,2)))\n",
    "model.add(keras.layers.Flatten())\n",
    "model.add(keras.layers.Dense(128, activation='relu'))\n",
    "model.add(keras.layers.Dense(64, activation='relu'))\n",
    "model.add(keras.layers.Dense(3, activation='softmax'))\n",
    "\n",
    "model.summary()"
   ]
  },
  {
   "cell_type": "markdown",
   "metadata": {},
   "source": [
    "**trouble**\n",
    "- 레이어를 많이 쌓으려고 했는데, Convolution 연산을 여러번 하기에 28x28 사이즈의 이미지는 많이 작았다. \n",
    "- 3번 연산을 한 후의 output shape이 (None, 1, 1, 64)로 더이상 연산을 할 수 없어서 Error발생\n",
    "- 28x28 사이즈의 이미지에서는 (3,3) convolution연산이 최대 3번만 가능하다.   \n",
    "\n",
    "**output shape 계산 방법**\n",
    "- keras의 Conv2D의 default stride = 1\n",
    "- (n x n)의 convolution layer라고 가정\n",
    "- (m x m x colour channel)의 input shape라고 가정 \n",
    "- output shape = (m - n + 1) x (m - n + 1)\n",
    "- **만약** stride = 3 이라면, output shape = (m - n + 1)/3 x (m - n + 1)/3     \n",
    "\n",
    "**네트워크 설계하기**\n",
    "- 계산 가능한 수의 레이어를 쌓았다.\n",
    "- 최종 dense layer는 가위, 바위, 보 3개의 class이므로 3을 넣는다.\n",
    "- activation : 최종 dense layer에는 softmax를 사용해 multi classification이 가능하게 한다. "
   ]
  },
  {
   "cell_type": "code",
   "execution_count": 306,
   "metadata": {},
   "outputs": [
    {
     "name": "stdout",
     "output_type": "stream",
     "text": [
      "Model: \"sequential_43\"\n",
      "_________________________________________________________________\n",
      "Layer (type)                 Output Shape              Param #   \n",
      "=================================================================\n",
      "conv2d_132 (Conv2D)          (None, 26, 26, 16)        448       \n",
      "_________________________________________________________________\n",
      "max_pooling2d_128 (MaxPoolin (None, 13, 13, 16)        0         \n",
      "_________________________________________________________________\n",
      "dropout_77 (Dropout)         (None, 13, 13, 16)        0         \n",
      "_________________________________________________________________\n",
      "conv2d_133 (Conv2D)          (None, 11, 11, 128)       18560     \n",
      "_________________________________________________________________\n",
      "max_pooling2d_129 (MaxPoolin (None, 5, 5, 128)         0         \n",
      "_________________________________________________________________\n",
      "conv2d_134 (Conv2D)          (None, 3, 3, 128)         147584    \n",
      "_________________________________________________________________\n",
      "max_pooling2d_130 (MaxPoolin (None, 1, 1, 128)         0         \n",
      "_________________________________________________________________\n",
      "dropout_78 (Dropout)         (None, 1, 1, 128)         0         \n",
      "_________________________________________________________________\n",
      "flatten_39 (Flatten)         (None, 128)               0         \n",
      "_________________________________________________________________\n",
      "dense_124 (Dense)            (None, 128)               16512     \n",
      "_________________________________________________________________\n",
      "dense_125 (Dense)            (None, 8)                 1032      \n",
      "_________________________________________________________________\n",
      "dense_126 (Dense)            (None, 3)                 27        \n",
      "=================================================================\n",
      "Total params: 184,163\n",
      "Trainable params: 184,163\n",
      "Non-trainable params: 0\n",
      "_________________________________________________________________\n"
     ]
    }
   ],
   "source": [
    "model=keras.models.Sequential()\n",
    "model.add(keras.layers.Conv2D(16, (3,3), activation='relu', input_shape=(28,28,3)))\n",
    "model.add(keras.layers.MaxPooling2D(2,2))\n",
    "model.add(keras.layers.Dropout(0.1))\n",
    "model.add(keras.layers.Conv2D(128, (3,3), activation='relu'))\n",
    "model.add(keras.layers.MaxPooling2D((2,2)))\n",
    "model.add(keras.layers.Conv2D(128, (3,3), activation='relu'))\n",
    "model.add(keras.layers.MaxPooling2D((2,2)))\n",
    "model.add(keras.layers.Dropout(0.7))\n",
    "\n",
    "model.add(keras.layers.Flatten())\n",
    "model.add(keras.layers.Dense(128, activation='relu'))\n",
    "model.add(keras.layers.Dense(8, activation='relu'))\n",
    "model.add(keras.layers.Dense(3, activation='softmax'))\n",
    "\n",
    "model.summary()"
   ]
  },
  {
   "cell_type": "markdown",
   "metadata": {},
   "source": [
    "## 03. train data with your network\n",
    "- model.compile(), model.fit()을 이용한다."
   ]
  },
  {
   "cell_type": "code",
   "execution_count": 307,
   "metadata": {},
   "outputs": [
    {
     "name": "stdout",
     "output_type": "stream",
     "text": [
      "Epoch 1/150\n",
      "85/85 [==============================] - 0s 3ms/step - loss: 1.1008 - accuracy: 0.3281 - val_loss: 1.0961 - val_accuracy: 0.3233\n",
      "Epoch 2/150\n",
      "85/85 [==============================] - 0s 2ms/step - loss: 1.0924 - accuracy: 0.3615 - val_loss: 1.0842 - val_accuracy: 0.3800\n",
      "Epoch 3/150\n",
      "85/85 [==============================] - 0s 2ms/step - loss: 1.0751 - accuracy: 0.3822 - val_loss: 0.9881 - val_accuracy: 0.5367\n",
      "Epoch 4/150\n",
      "85/85 [==============================] - 0s 2ms/step - loss: 0.9473 - accuracy: 0.5444 - val_loss: 0.7242 - val_accuracy: 0.6800\n",
      "Epoch 5/150\n",
      "85/85 [==============================] - 0s 2ms/step - loss: 0.8194 - accuracy: 0.6481 - val_loss: 0.5460 - val_accuracy: 0.7933\n",
      "Epoch 6/150\n",
      "85/85 [==============================] - 0s 2ms/step - loss: 0.6606 - accuracy: 0.7259 - val_loss: 0.4667 - val_accuracy: 0.7933\n",
      "Epoch 7/150\n",
      "85/85 [==============================] - 0s 2ms/step - loss: 0.5668 - accuracy: 0.7544 - val_loss: 0.3468 - val_accuracy: 0.8567\n",
      "Epoch 8/150\n",
      "85/85 [==============================] - 0s 2ms/step - loss: 0.4968 - accuracy: 0.8041 - val_loss: 0.2928 - val_accuracy: 0.9133\n",
      "Epoch 9/150\n",
      "85/85 [==============================] - 0s 2ms/step - loss: 0.4245 - accuracy: 0.8367 - val_loss: 0.2808 - val_accuracy: 0.8767\n",
      "Epoch 10/150\n",
      "85/85 [==============================] - 0s 2ms/step - loss: 0.3754 - accuracy: 0.8511 - val_loss: 0.2198 - val_accuracy: 0.9267\n",
      "Epoch 11/150\n",
      "85/85 [==============================] - 0s 2ms/step - loss: 0.3427 - accuracy: 0.8637 - val_loss: 0.2006 - val_accuracy: 0.9300\n",
      "Epoch 12/150\n",
      "85/85 [==============================] - 0s 2ms/step - loss: 0.2735 - accuracy: 0.8893 - val_loss: 0.1772 - val_accuracy: 0.9367\n",
      "Epoch 13/150\n",
      "85/85 [==============================] - 0s 2ms/step - loss: 0.2504 - accuracy: 0.9096 - val_loss: 0.1991 - val_accuracy: 0.9367\n",
      "Epoch 14/150\n",
      "85/85 [==============================] - 0s 2ms/step - loss: 0.2256 - accuracy: 0.9159 - val_loss: 0.1408 - val_accuracy: 0.9600\n",
      "Epoch 15/150\n",
      "85/85 [==============================] - 0s 2ms/step - loss: 0.2019 - accuracy: 0.9244 - val_loss: 0.1394 - val_accuracy: 0.9667\n",
      "Epoch 16/150\n",
      "85/85 [==============================] - 0s 2ms/step - loss: 0.1699 - accuracy: 0.9359 - val_loss: 0.1731 - val_accuracy: 0.9400\n",
      "Epoch 17/150\n",
      "85/85 [==============================] - 0s 2ms/step - loss: 0.1608 - accuracy: 0.9370 - val_loss: 0.0966 - val_accuracy: 0.9733\n",
      "Epoch 18/150\n",
      "85/85 [==============================] - 0s 2ms/step - loss: 0.1497 - accuracy: 0.9467 - val_loss: 0.1069 - val_accuracy: 0.9700\n",
      "Epoch 19/150\n",
      "85/85 [==============================] - 0s 2ms/step - loss: 0.1533 - accuracy: 0.9441 - val_loss: 0.0993 - val_accuracy: 0.9733\n",
      "Epoch 20/150\n",
      "85/85 [==============================] - 0s 2ms/step - loss: 0.1306 - accuracy: 0.9570 - val_loss: 0.1349 - val_accuracy: 0.9467\n",
      "Epoch 21/150\n",
      "85/85 [==============================] - 0s 2ms/step - loss: 0.1100 - accuracy: 0.9607 - val_loss: 0.0776 - val_accuracy: 0.9800\n",
      "Epoch 22/150\n",
      "85/85 [==============================] - 0s 2ms/step - loss: 0.1456 - accuracy: 0.9500 - val_loss: 0.1023 - val_accuracy: 0.9767\n",
      "Epoch 23/150\n",
      "85/85 [==============================] - 0s 2ms/step - loss: 0.1221 - accuracy: 0.9563 - val_loss: 0.1285 - val_accuracy: 0.9700\n",
      "Epoch 24/150\n",
      "85/85 [==============================] - 0s 2ms/step - loss: 0.1298 - accuracy: 0.9511 - val_loss: 0.1022 - val_accuracy: 0.9800\n",
      "Epoch 25/150\n",
      "85/85 [==============================] - 0s 2ms/step - loss: 0.0972 - accuracy: 0.9659 - val_loss: 0.0682 - val_accuracy: 0.9800\n",
      "Epoch 26/150\n",
      "85/85 [==============================] - 0s 2ms/step - loss: 0.1178 - accuracy: 0.9596 - val_loss: 0.0872 - val_accuracy: 0.9700\n",
      "Epoch 27/150\n",
      "85/85 [==============================] - 0s 2ms/step - loss: 0.0906 - accuracy: 0.9670 - val_loss: 0.0643 - val_accuracy: 0.9800\n",
      "Epoch 28/150\n",
      "85/85 [==============================] - 0s 2ms/step - loss: 0.0903 - accuracy: 0.9696 - val_loss: 0.0580 - val_accuracy: 0.9833\n",
      "Epoch 29/150\n",
      "85/85 [==============================] - 0s 2ms/step - loss: 0.0826 - accuracy: 0.9733 - val_loss: 0.0457 - val_accuracy: 0.9867\n",
      "Epoch 30/150\n",
      "85/85 [==============================] - 0s 2ms/step - loss: 0.0780 - accuracy: 0.9741 - val_loss: 0.0613 - val_accuracy: 0.9767\n",
      "Epoch 31/150\n",
      "85/85 [==============================] - 0s 2ms/step - loss: 0.0939 - accuracy: 0.9700 - val_loss: 0.0931 - val_accuracy: 0.9767\n",
      "Epoch 32/150\n",
      "85/85 [==============================] - 0s 2ms/step - loss: 0.1146 - accuracy: 0.9581 - val_loss: 0.0402 - val_accuracy: 0.9900\n",
      "Epoch 33/150\n",
      "85/85 [==============================] - 0s 2ms/step - loss: 0.0861 - accuracy: 0.9696 - val_loss: 0.0396 - val_accuracy: 0.9933\n",
      "Epoch 34/150\n",
      "85/85 [==============================] - 0s 2ms/step - loss: 0.0668 - accuracy: 0.9800 - val_loss: 0.0575 - val_accuracy: 0.9800\n",
      "Epoch 35/150\n",
      "85/85 [==============================] - 0s 2ms/step - loss: 0.0649 - accuracy: 0.9796 - val_loss: 0.0442 - val_accuracy: 0.9867\n",
      "Epoch 36/150\n",
      "85/85 [==============================] - 0s 2ms/step - loss: 0.0677 - accuracy: 0.9767 - val_loss: 0.0484 - val_accuracy: 0.9833\n",
      "Epoch 37/150\n",
      "85/85 [==============================] - 0s 2ms/step - loss: 0.0780 - accuracy: 0.9763 - val_loss: 0.0651 - val_accuracy: 0.9933\n",
      "Epoch 38/150\n",
      "85/85 [==============================] - 0s 2ms/step - loss: 0.0945 - accuracy: 0.9689 - val_loss: 0.0478 - val_accuracy: 0.9900\n",
      "Epoch 39/150\n",
      "85/85 [==============================] - 0s 2ms/step - loss: 0.0637 - accuracy: 0.9789 - val_loss: 0.0495 - val_accuracy: 0.9900\n",
      "Epoch 40/150\n",
      "85/85 [==============================] - 0s 2ms/step - loss: 0.0753 - accuracy: 0.9767 - val_loss: 0.0652 - val_accuracy: 0.9867\n",
      "Epoch 41/150\n",
      "85/85 [==============================] - 0s 2ms/step - loss: 0.0555 - accuracy: 0.9833 - val_loss: 0.0579 - val_accuracy: 0.9833\n",
      "Epoch 42/150\n",
      "85/85 [==============================] - 0s 2ms/step - loss: 0.0607 - accuracy: 0.9826 - val_loss: 0.0304 - val_accuracy: 0.9900\n",
      "Epoch 43/150\n",
      "85/85 [==============================] - 0s 2ms/step - loss: 0.0629 - accuracy: 0.9778 - val_loss: 0.0285 - val_accuracy: 0.9933\n",
      "Epoch 44/150\n",
      "85/85 [==============================] - 0s 2ms/step - loss: 0.0498 - accuracy: 0.9826 - val_loss: 0.0285 - val_accuracy: 0.9900\n",
      "Epoch 45/150\n",
      "85/85 [==============================] - 0s 2ms/step - loss: 0.0342 - accuracy: 0.9874 - val_loss: 0.0558 - val_accuracy: 0.9900\n",
      "Epoch 46/150\n",
      "85/85 [==============================] - 0s 2ms/step - loss: 0.0571 - accuracy: 0.9804 - val_loss: 0.0315 - val_accuracy: 0.9933\n",
      "Epoch 47/150\n",
      "85/85 [==============================] - 0s 2ms/step - loss: 0.0704 - accuracy: 0.9759 - val_loss: 0.0556 - val_accuracy: 0.9833\n",
      "Epoch 48/150\n",
      "85/85 [==============================] - 0s 2ms/step - loss: 0.0531 - accuracy: 0.9800 - val_loss: 0.0433 - val_accuracy: 0.9833\n",
      "Epoch 49/150\n",
      "85/85 [==============================] - 0s 2ms/step - loss: 0.0799 - accuracy: 0.9770 - val_loss: 0.0705 - val_accuracy: 0.9800\n",
      "Epoch 50/150\n",
      "85/85 [==============================] - 0s 2ms/step - loss: 0.0511 - accuracy: 0.9848 - val_loss: 0.0771 - val_accuracy: 0.9833\n",
      "Epoch 51/150\n",
      "85/85 [==============================] - 0s 2ms/step - loss: 0.0428 - accuracy: 0.9856 - val_loss: 0.0353 - val_accuracy: 0.9833\n",
      "Epoch 52/150\n",
      "85/85 [==============================] - 0s 2ms/step - loss: 0.0578 - accuracy: 0.9785 - val_loss: 0.0270 - val_accuracy: 0.9900\n",
      "Epoch 53/150\n",
      "85/85 [==============================] - 0s 2ms/step - loss: 0.0557 - accuracy: 0.9833 - val_loss: 0.0279 - val_accuracy: 0.9900\n",
      "Epoch 54/150\n",
      "85/85 [==============================] - 0s 2ms/step - loss: 0.0423 - accuracy: 0.9859 - val_loss: 0.0408 - val_accuracy: 0.9900\n",
      "Epoch 55/150\n",
      "85/85 [==============================] - 0s 2ms/step - loss: 0.0534 - accuracy: 0.9815 - val_loss: 0.0323 - val_accuracy: 0.9900\n",
      "Epoch 56/150\n",
      "85/85 [==============================] - 0s 2ms/step - loss: 0.0694 - accuracy: 0.9778 - val_loss: 0.0623 - val_accuracy: 0.9833\n",
      "Epoch 57/150\n",
      "85/85 [==============================] - 0s 2ms/step - loss: 0.0483 - accuracy: 0.9841 - val_loss: 0.0573 - val_accuracy: 0.9833\n",
      "Epoch 58/150\n",
      "85/85 [==============================] - 0s 2ms/step - loss: 0.0387 - accuracy: 0.9870 - val_loss: 0.0574 - val_accuracy: 0.9933\n"
     ]
    },
    {
     "name": "stdout",
     "output_type": "stream",
     "text": [
      "Epoch 59/150\n",
      "85/85 [==============================] - 0s 2ms/step - loss: 0.0438 - accuracy: 0.9881 - val_loss: 0.0507 - val_accuracy: 0.9933\n",
      "Epoch 60/150\n",
      "85/85 [==============================] - 0s 2ms/step - loss: 0.0376 - accuracy: 0.9863 - val_loss: 0.0382 - val_accuracy: 0.9867\n",
      "Epoch 61/150\n",
      "85/85 [==============================] - 0s 2ms/step - loss: 0.0622 - accuracy: 0.9756 - val_loss: 0.1156 - val_accuracy: 0.9667\n",
      "Epoch 62/150\n",
      "85/85 [==============================] - 0s 2ms/step - loss: 0.0598 - accuracy: 0.9804 - val_loss: 0.0140 - val_accuracy: 0.9933\n",
      "Epoch 63/150\n",
      "85/85 [==============================] - 0s 2ms/step - loss: 0.0517 - accuracy: 0.9826 - val_loss: 0.0243 - val_accuracy: 0.9900\n",
      "Epoch 64/150\n",
      "85/85 [==============================] - 0s 2ms/step - loss: 0.0323 - accuracy: 0.9889 - val_loss: 0.0365 - val_accuracy: 0.9900\n",
      "Epoch 65/150\n",
      "85/85 [==============================] - 0s 2ms/step - loss: 0.0429 - accuracy: 0.9881 - val_loss: 0.0260 - val_accuracy: 0.9900\n",
      "Epoch 66/150\n",
      "85/85 [==============================] - 0s 2ms/step - loss: 0.0400 - accuracy: 0.9852 - val_loss: 0.0611 - val_accuracy: 0.9900\n",
      "Epoch 67/150\n",
      "85/85 [==============================] - 0s 2ms/step - loss: 0.0272 - accuracy: 0.9911 - val_loss: 0.0866 - val_accuracy: 0.9867\n",
      "Epoch 68/150\n",
      "85/85 [==============================] - 0s 2ms/step - loss: 0.0624 - accuracy: 0.9796 - val_loss: 0.0546 - val_accuracy: 0.9833\n",
      "Epoch 69/150\n",
      "85/85 [==============================] - 0s 2ms/step - loss: 0.0665 - accuracy: 0.9778 - val_loss: 0.0175 - val_accuracy: 0.9967\n",
      "Epoch 70/150\n",
      "85/85 [==============================] - 0s 2ms/step - loss: 0.0411 - accuracy: 0.9859 - val_loss: 0.0920 - val_accuracy: 0.9700\n",
      "Epoch 71/150\n",
      "85/85 [==============================] - 0s 2ms/step - loss: 0.0412 - accuracy: 0.9874 - val_loss: 0.0351 - val_accuracy: 0.9900\n",
      "Epoch 72/150\n",
      "85/85 [==============================] - 0s 2ms/step - loss: 0.0515 - accuracy: 0.9844 - val_loss: 0.0510 - val_accuracy: 0.9800\n",
      "Epoch 73/150\n",
      "85/85 [==============================] - 0s 2ms/step - loss: 0.0395 - accuracy: 0.9878 - val_loss: 0.0625 - val_accuracy: 0.9833\n",
      "Epoch 74/150\n",
      "85/85 [==============================] - 0s 2ms/step - loss: 0.0319 - accuracy: 0.9889 - val_loss: 0.0467 - val_accuracy: 0.9933\n",
      "Epoch 75/150\n",
      "85/85 [==============================] - 0s 2ms/step - loss: 0.0250 - accuracy: 0.9907 - val_loss: 0.0496 - val_accuracy: 0.9933\n",
      "Epoch 76/150\n",
      "85/85 [==============================] - 0s 2ms/step - loss: 0.0400 - accuracy: 0.9878 - val_loss: 0.0559 - val_accuracy: 0.9867\n",
      "Epoch 77/150\n",
      "85/85 [==============================] - 0s 2ms/step - loss: 0.0282 - accuracy: 0.9915 - val_loss: 0.0328 - val_accuracy: 0.9933\n",
      "Epoch 78/150\n",
      "85/85 [==============================] - 0s 2ms/step - loss: 0.0523 - accuracy: 0.9856 - val_loss: 0.0414 - val_accuracy: 0.9933\n",
      "Epoch 79/150\n",
      "85/85 [==============================] - 0s 2ms/step - loss: 0.0484 - accuracy: 0.9856 - val_loss: 0.0610 - val_accuracy: 0.9833\n",
      "Epoch 80/150\n",
      "85/85 [==============================] - 0s 2ms/step - loss: 0.0369 - accuracy: 0.9870 - val_loss: 0.0603 - val_accuracy: 0.9833\n",
      "Epoch 81/150\n",
      "85/85 [==============================] - 0s 2ms/step - loss: 0.0465 - accuracy: 0.9848 - val_loss: 0.0432 - val_accuracy: 0.9933\n",
      "Epoch 82/150\n",
      "85/85 [==============================] - 0s 2ms/step - loss: 0.0433 - accuracy: 0.9848 - val_loss: 0.0309 - val_accuracy: 0.9967\n",
      "Epoch 83/150\n",
      "85/85 [==============================] - 0s 2ms/step - loss: 0.0570 - accuracy: 0.9848 - val_loss: 0.0563 - val_accuracy: 0.9867\n",
      "Epoch 84/150\n",
      "85/85 [==============================] - 0s 2ms/step - loss: 0.0361 - accuracy: 0.9878 - val_loss: 0.0511 - val_accuracy: 0.9933\n",
      "Epoch 85/150\n",
      "85/85 [==============================] - 0s 2ms/step - loss: 0.0348 - accuracy: 0.9896 - val_loss: 0.0328 - val_accuracy: 0.9900\n",
      "Epoch 86/150\n",
      "85/85 [==============================] - 0s 2ms/step - loss: 0.0265 - accuracy: 0.9919 - val_loss: 0.0683 - val_accuracy: 0.9867\n",
      "Epoch 87/150\n",
      "85/85 [==============================] - 0s 2ms/step - loss: 0.0254 - accuracy: 0.9922 - val_loss: 0.0494 - val_accuracy: 0.9900\n",
      "Epoch 88/150\n",
      "85/85 [==============================] - 0s 2ms/step - loss: 0.0416 - accuracy: 0.9870 - val_loss: 0.0359 - val_accuracy: 0.9933\n",
      "Epoch 89/150\n",
      "85/85 [==============================] - 0s 2ms/step - loss: 0.0675 - accuracy: 0.9778 - val_loss: 0.0417 - val_accuracy: 0.9933\n",
      "Epoch 90/150\n",
      "85/85 [==============================] - 0s 2ms/step - loss: 0.0315 - accuracy: 0.9889 - val_loss: 0.0453 - val_accuracy: 0.9933\n",
      "Epoch 91/150\n",
      "85/85 [==============================] - 0s 2ms/step - loss: 0.0200 - accuracy: 0.9948 - val_loss: 0.0673 - val_accuracy: 0.9967\n",
      "Epoch 92/150\n",
      "85/85 [==============================] - 0s 2ms/step - loss: 0.0275 - accuracy: 0.9911 - val_loss: 0.0455 - val_accuracy: 0.9833\n",
      "Epoch 93/150\n",
      "85/85 [==============================] - 0s 2ms/step - loss: 0.0440 - accuracy: 0.9856 - val_loss: 0.1069 - val_accuracy: 0.9800\n",
      "Epoch 94/150\n",
      "85/85 [==============================] - 0s 2ms/step - loss: 0.0507 - accuracy: 0.9830 - val_loss: 0.0445 - val_accuracy: 0.9900\n",
      "Epoch 95/150\n",
      "85/85 [==============================] - 0s 2ms/step - loss: 0.0440 - accuracy: 0.9848 - val_loss: 0.0252 - val_accuracy: 0.9933\n",
      "Epoch 96/150\n",
      "85/85 [==============================] - 0s 2ms/step - loss: 0.0235 - accuracy: 0.9930 - val_loss: 0.0305 - val_accuracy: 0.9900\n",
      "Epoch 97/150\n",
      "85/85 [==============================] - 0s 2ms/step - loss: 0.0278 - accuracy: 0.9900 - val_loss: 0.0237 - val_accuracy: 0.9933\n",
      "Epoch 98/150\n",
      "85/85 [==============================] - 0s 2ms/step - loss: 0.0227 - accuracy: 0.9911 - val_loss: 0.0512 - val_accuracy: 0.9933\n",
      "Epoch 99/150\n",
      "85/85 [==============================] - 0s 2ms/step - loss: 0.0203 - accuracy: 0.9922 - val_loss: 0.0510 - val_accuracy: 0.9933\n",
      "Epoch 100/150\n",
      "85/85 [==============================] - 0s 2ms/step - loss: 0.0298 - accuracy: 0.9911 - val_loss: 0.0830 - val_accuracy: 0.9867\n",
      "Epoch 101/150\n",
      "85/85 [==============================] - 0s 2ms/step - loss: 0.0320 - accuracy: 0.9907 - val_loss: 0.0481 - val_accuracy: 0.9933\n",
      "Epoch 102/150\n",
      "85/85 [==============================] - 0s 2ms/step - loss: 0.0346 - accuracy: 0.9878 - val_loss: 0.0480 - val_accuracy: 0.9900\n",
      "Epoch 103/150\n",
      "85/85 [==============================] - 0s 2ms/step - loss: 0.0233 - accuracy: 0.9915 - val_loss: 0.0404 - val_accuracy: 0.9900\n",
      "Epoch 104/150\n",
      "85/85 [==============================] - 0s 2ms/step - loss: 0.0224 - accuracy: 0.9944 - val_loss: 0.0422 - val_accuracy: 0.9900\n",
      "Epoch 105/150\n",
      "85/85 [==============================] - 0s 2ms/step - loss: 0.0358 - accuracy: 0.9893 - val_loss: 0.0447 - val_accuracy: 0.9833\n",
      "Epoch 106/150\n",
      "85/85 [==============================] - 0s 2ms/step - loss: 0.0421 - accuracy: 0.9874 - val_loss: 0.0614 - val_accuracy: 0.9933\n",
      "Epoch 107/150\n",
      "85/85 [==============================] - 0s 2ms/step - loss: 0.0206 - accuracy: 0.9944 - val_loss: 0.0525 - val_accuracy: 0.9933\n",
      "Epoch 108/150\n",
      "85/85 [==============================] - 0s 2ms/step - loss: 0.0305 - accuracy: 0.9911 - val_loss: 0.0373 - val_accuracy: 0.9800\n",
      "Epoch 109/150\n",
      "85/85 [==============================] - 0s 2ms/step - loss: 0.0250 - accuracy: 0.9930 - val_loss: 0.0398 - val_accuracy: 0.9933\n",
      "Epoch 110/150\n",
      "85/85 [==============================] - 0s 2ms/step - loss: 0.0329 - accuracy: 0.9904 - val_loss: 0.0756 - val_accuracy: 0.9833\n",
      "Epoch 111/150\n",
      "85/85 [==============================] - 0s 2ms/step - loss: 0.0362 - accuracy: 0.9881 - val_loss: 0.0242 - val_accuracy: 0.9933\n",
      "Epoch 112/150\n",
      "85/85 [==============================] - 0s 2ms/step - loss: 0.0399 - accuracy: 0.9870 - val_loss: 0.0593 - val_accuracy: 0.9867\n",
      "Epoch 113/150\n",
      "85/85 [==============================] - 0s 2ms/step - loss: 0.0215 - accuracy: 0.9941 - val_loss: 0.0324 - val_accuracy: 0.9933\n",
      "Epoch 114/150\n",
      "85/85 [==============================] - 0s 2ms/step - loss: 0.0305 - accuracy: 0.9900 - val_loss: 0.0926 - val_accuracy: 0.9800\n",
      "Epoch 115/150\n",
      "85/85 [==============================] - 0s 2ms/step - loss: 0.0248 - accuracy: 0.9933 - val_loss: 0.0175 - val_accuracy: 0.9933\n",
      "Epoch 116/150\n"
     ]
    },
    {
     "name": "stdout",
     "output_type": "stream",
     "text": [
      "85/85 [==============================] - 0s 2ms/step - loss: 0.0347 - accuracy: 0.9881 - val_loss: 0.0418 - val_accuracy: 0.9900\n",
      "Epoch 117/150\n",
      "85/85 [==============================] - 0s 2ms/step - loss: 0.0380 - accuracy: 0.9881 - val_loss: 0.0519 - val_accuracy: 0.9900\n",
      "Epoch 118/150\n",
      "85/85 [==============================] - 0s 2ms/step - loss: 0.0723 - accuracy: 0.9807 - val_loss: 0.0632 - val_accuracy: 0.9900\n",
      "Epoch 119/150\n",
      "85/85 [==============================] - 0s 2ms/step - loss: 0.0416 - accuracy: 0.9867 - val_loss: 0.0566 - val_accuracy: 0.9867\n",
      "Epoch 120/150\n",
      "85/85 [==============================] - 0s 2ms/step - loss: 0.0197 - accuracy: 0.9941 - val_loss: 0.0326 - val_accuracy: 0.9933\n",
      "Epoch 121/150\n",
      "85/85 [==============================] - 0s 2ms/step - loss: 0.0221 - accuracy: 0.9930 - val_loss: 0.0326 - val_accuracy: 0.9900\n",
      "Epoch 122/150\n",
      "85/85 [==============================] - 0s 2ms/step - loss: 0.0307 - accuracy: 0.9885 - val_loss: 0.0319 - val_accuracy: 0.9900\n",
      "Epoch 123/150\n",
      "85/85 [==============================] - 0s 2ms/step - loss: 0.0360 - accuracy: 0.9885 - val_loss: 0.0316 - val_accuracy: 0.9900\n",
      "Epoch 124/150\n",
      "85/85 [==============================] - 0s 2ms/step - loss: 0.0267 - accuracy: 0.9930 - val_loss: 0.0106 - val_accuracy: 0.9933\n",
      "Epoch 125/150\n",
      "85/85 [==============================] - 0s 2ms/step - loss: 0.0181 - accuracy: 0.9944 - val_loss: 0.0158 - val_accuracy: 0.9933\n",
      "Epoch 126/150\n",
      "85/85 [==============================] - 0s 2ms/step - loss: 0.0298 - accuracy: 0.9907 - val_loss: 0.0474 - val_accuracy: 0.9900\n",
      "Epoch 127/150\n",
      "85/85 [==============================] - 0s 2ms/step - loss: 0.0250 - accuracy: 0.9926 - val_loss: 0.0253 - val_accuracy: 0.9900\n",
      "Epoch 128/150\n",
      "85/85 [==============================] - 0s 2ms/step - loss: 0.0330 - accuracy: 0.9904 - val_loss: 0.0360 - val_accuracy: 0.9900\n",
      "Epoch 129/150\n",
      "85/85 [==============================] - 0s 2ms/step - loss: 0.0292 - accuracy: 0.9933 - val_loss: 0.0093 - val_accuracy: 0.9967\n",
      "Epoch 130/150\n",
      "85/85 [==============================] - 0s 2ms/step - loss: 0.0453 - accuracy: 0.9867 - val_loss: 0.1417 - val_accuracy: 0.9667\n",
      "Epoch 131/150\n",
      "85/85 [==============================] - 0s 2ms/step - loss: 0.0404 - accuracy: 0.9893 - val_loss: 0.0663 - val_accuracy: 0.9867\n",
      "Epoch 132/150\n",
      "85/85 [==============================] - 0s 2ms/step - loss: 0.0187 - accuracy: 0.9963 - val_loss: 0.0472 - val_accuracy: 0.9900\n",
      "Epoch 133/150\n",
      "85/85 [==============================] - 0s 2ms/step - loss: 0.0225 - accuracy: 0.9926 - val_loss: 0.0317 - val_accuracy: 0.9933\n",
      "Epoch 134/150\n",
      "85/85 [==============================] - 0s 2ms/step - loss: 0.0196 - accuracy: 0.9948 - val_loss: 0.0570 - val_accuracy: 0.9867\n",
      "Epoch 135/150\n",
      "85/85 [==============================] - 0s 2ms/step - loss: 0.0214 - accuracy: 0.9937 - val_loss: 0.0401 - val_accuracy: 0.9867\n",
      "Epoch 136/150\n",
      "85/85 [==============================] - 0s 2ms/step - loss: 0.0131 - accuracy: 0.9967 - val_loss: 0.0704 - val_accuracy: 0.9800\n",
      "Epoch 137/150\n",
      "85/85 [==============================] - 0s 2ms/step - loss: 0.0290 - accuracy: 0.9893 - val_loss: 0.0261 - val_accuracy: 0.9933\n",
      "Epoch 138/150\n",
      "85/85 [==============================] - 0s 2ms/step - loss: 0.0128 - accuracy: 0.9970 - val_loss: 0.0570 - val_accuracy: 0.9900\n",
      "Epoch 139/150\n",
      "85/85 [==============================] - 0s 2ms/step - loss: 0.0227 - accuracy: 0.9922 - val_loss: 0.0611 - val_accuracy: 0.9833\n",
      "Epoch 140/150\n",
      "85/85 [==============================] - 0s 2ms/step - loss: 0.0296 - accuracy: 0.9911 - val_loss: 0.0565 - val_accuracy: 0.9867\n",
      "Epoch 141/150\n",
      "85/85 [==============================] - 0s 2ms/step - loss: 0.0240 - accuracy: 0.9933 - val_loss: 0.0408 - val_accuracy: 0.9933\n",
      "Epoch 142/150\n",
      "85/85 [==============================] - 0s 2ms/step - loss: 0.0097 - accuracy: 0.9974 - val_loss: 0.0378 - val_accuracy: 0.9900\n",
      "Epoch 143/150\n",
      "85/85 [==============================] - 0s 2ms/step - loss: 0.0164 - accuracy: 0.9930 - val_loss: 0.0491 - val_accuracy: 0.9900\n",
      "Epoch 144/150\n",
      "85/85 [==============================] - 0s 2ms/step - loss: 0.0110 - accuracy: 0.9978 - val_loss: 0.0268 - val_accuracy: 0.9933\n",
      "Epoch 145/150\n",
      "85/85 [==============================] - 0s 2ms/step - loss: 0.0125 - accuracy: 0.9963 - val_loss: 0.0389 - val_accuracy: 0.9900\n",
      "Epoch 146/150\n",
      "85/85 [==============================] - 0s 2ms/step - loss: 0.0245 - accuracy: 0.9930 - val_loss: 0.0132 - val_accuracy: 0.9933\n",
      "Epoch 147/150\n",
      "85/85 [==============================] - 0s 2ms/step - loss: 0.0411 - accuracy: 0.9867 - val_loss: 0.0704 - val_accuracy: 0.9800\n",
      "Epoch 148/150\n",
      "85/85 [==============================] - 0s 2ms/step - loss: 0.0404 - accuracy: 0.9863 - val_loss: 0.0437 - val_accuracy: 0.9900\n",
      "Epoch 149/150\n",
      "85/85 [==============================] - 0s 2ms/step - loss: 0.0287 - accuracy: 0.9907 - val_loss: 0.0256 - val_accuracy: 0.9933\n",
      "Epoch 150/150\n",
      "85/85 [==============================] - 0s 2ms/step - loss: 0.0157 - accuracy: 0.9944 - val_loss: 0.0198 - val_accuracy: 0.9933\n"
     ]
    }
   ],
   "source": [
    "model.compile(optimizer='adam',\n",
    "             loss='sparse_categorical_crossentropy',\n",
    "             metrics=['accuracy'])\n",
    "\n",
    "# history = model.fit(x_train, y_train, epochs=100)\n",
    "history = model.fit(x_train, y_train, epochs=150, validation_data=(x_valid, y_valid))"
   ]
  },
  {
   "cell_type": "markdown",
   "metadata": {},
   "source": [
    "## 04. evaluate your network with test data\n",
    "- test data를 로드해 dataset을 train과 같이 만들어준다."
   ]
  },
  {
   "cell_type": "code",
   "execution_count": 308,
   "metadata": {},
   "outputs": [
    {
     "name": "stdout",
     "output_type": "stream",
     "text": [
      "평가데이터(x_test)의 이미지 개수는 200 입니다.\n",
      "x_test shape: (300, 28, 28, 3)\n",
      "y_test shape: (300,)\n"
     ]
    }
   ],
   "source": [
    "def load_test_data(img_path):\n",
    "    # 가위 : 0, 바위 : 1, 보 : 2\n",
    "    number_of_data=300   # 가위바위보 이미지 개수 총합에 주의하세요.\n",
    "    img_size=28\n",
    "    color=3\n",
    "    #이미지 데이터와 라벨(가위 : 0, 바위 : 1, 보 : 2) 데이터를 담을 행렬(matrix) 영역을 생성합니다.\n",
    "    imgs=np.zeros(number_of_data*img_size*img_size*color,dtype=np.int32).reshape(number_of_data,img_size,img_size,color)\n",
    "    labels=np.zeros(number_of_data,dtype=np.int32)\n",
    "\n",
    "    idx=0\n",
    "    for file in glob.iglob(img_path+'/scissors/*.jpg'):\n",
    "        img = np.array(Image.open(file),dtype=np.int32)\n",
    "        imgs[idx,:,:,:]=img    # 데이터 영역에 이미지 행렬을 복사\n",
    "        labels[idx]=0   # 가위 : 0\n",
    "        idx=idx+1\n",
    "\n",
    "    for file in glob.iglob(img_path+'/rock/*.jpg'):\n",
    "        img = np.array(Image.open(file),dtype=np.int32)\n",
    "        imgs[idx,:,:,:]=img    # 데이터 영역에 이미지 행렬을 복사\n",
    "        labels[idx]=1   # 바위 : 1\n",
    "        idx=idx+1       \n",
    "    \n",
    "    for file in glob.iglob(img_path+'/paper/*.jpg'):\n",
    "        img = np.array(Image.open(file),dtype=np.int32)\n",
    "        imgs[idx,:,:,:]=img    # 데이터 영역에 이미지 행렬을 복사\n",
    "        labels[idx]=2   # 보 : 2\n",
    "        idx=idx+1\n",
    "        \n",
    "    print(\"평가데이터(x_test)의 이미지 개수는\",idx,\"입니다.\")\n",
    "    return imgs, labels\n",
    "\n",
    "image_dir_path = os.getenv(\"HOME\") + \"/dataset/rock_scissors_paper_test/\"\n",
    "(x_test, y_test)=load_test_data(image_dir_path)\n",
    "x_test_norm = x_test/255.0   # 입력은 0~1 사이의 값으로 정규화\n",
    "\n",
    "print(\"x_test shape: {}\".format(x_test.shape))\n",
    "print(\"y_test shape: {}\".format(y_test.shape))"
   ]
  },
  {
   "cell_type": "markdown",
   "metadata": {},
   "source": [
    "- model.evaluate()로 평가한다."
   ]
  },
  {
   "cell_type": "code",
   "execution_count": 309,
   "metadata": {
    "scrolled": true
   },
   "outputs": [
    {
     "name": "stdout",
     "output_type": "stream",
     "text": [
      "10/10 - 0s - loss: 1.5920 - accuracy: 0.6233\n",
      "test_loss: 1.5919737815856934 \n",
      "test_accuracy: 0.6233333349227905\n"
     ]
    }
   ],
   "source": [
    "test_loss, test_accuracy = model.evaluate(x_test_norm, y_test, verbose=2)\n",
    "print(\"test_loss: {} \".format(test_loss))\n",
    "print(\"test_accuracy: {}\".format(test_accuracy))"
   ]
  },
  {
   "cell_type": "markdown",
   "metadata": {},
   "source": [
    "## test_accuracy를 높이자\n",
    "1. test_accuracy: 0.31333333253860474   \n",
    "    : train data 수가 300개로 test data와 같아서 test 정확도가 train_accuracy(1.0)에 비해 현저히 낮은 것으로 추정된다. \n",
    "2. test_accuracy: 0.3333333432674408\n",
    "    : train data 300 -> 1200으로 늘렸으나 미미하게 올라감\n",
    "3. test_accuracy: 0.36666667461395264\n",
    "    : train data 1200 -> 3000으로 늘렸으나 미미하게 올라감\n",
    "    => validation split을 해보자!\n",
    "4. test_accuracy: 0.03133333474397659\n",
    "    : test_size=0.2로 valid split, epoch= 50 -> 200 으로 변경했으나 오히려 떨어짐   \n",
    "5. test_accuracy: 0.039000000804662704\n",
    "    : drop_out 을 추가했지만 나아지지 않았다.   \n",
    "6. 그래프가 일정하게 수렴하는 모양이 아니어서 마지막 Conv2d의 갯수를 128 -> 64 로 줄였더니 일정하게 수렴했다.(test결과는 0.03900..)   \n",
    "7. test_accuracy: 0.3166666626930237   \n",
    "    : 레이어를 수정하고, validation set을 사용하지 않았다.   \n",
    "    - Conv2D 32, 64, 128 /Dense 64, 32, 3 => Conv2D 32, 64, 128 /Dense 128, 32, 3   \n",
    "    - 이전 레이어에서는 convolution layer에서 dense layer 로 넘어가면서 파라미터가 급격히 축소되는 것을 방지하고자 함.\n",
    "    \n",
    "## 05. visualize model training history\n",
    "- matplotlib을 사용해 시각화한다."
   ]
  },
  {
   "cell_type": "code",
   "execution_count": 310,
   "metadata": {},
   "outputs": [
    {
     "data": {
      "image/png": "[encoded data removed]",
      "text/plain": [
       "<Figure size 432x288 with 1 Axes>"
      ]
     },
     "metadata": {
      "needs_background": "light"
     },
     "output_type": "display_data"
    },
    {
     "data": {
      "image/png": "[encoded data removed]",
      "text/plain": [
       "<Figure size 432x288 with 1 Axes>"
      ]
     },
     "metadata": {
      "needs_background": "light"
     },
     "output_type": "display_data"
    }
   ],
   "source": [
    "import matplotlib.pyplot as plt\n",
    "\n",
    "plt.plot(history.history['accuracy'])\n",
    "plt.plot(history.history['val_accuracy'])\n",
    "plt.title('model accuracy')\n",
    "plt.ylabel('accuracy')\n",
    "plt.xlabel('epoch')\n",
    "plt.legend(['train', 'val'], loc='upper left')\n",
    "plt.show()\n",
    "# summarize history for loss\n",
    "plt.plot(history.history['loss'])\n",
    "plt.plot(history.history['val_loss'])\n",
    "plt.title('model loss')\n",
    "plt.ylabel('loss')\n",
    "plt.xlabel('epoch')\n",
    "plt.legend(['train', 'val'], loc='upper left')\n",
    "plt.show()"
   ]
  },
  {
   "cell_type": "markdown",
   "metadata": {},
   "source": [
    "-> overfitting "
   ]
  },
  {
   "cell_type": "markdown",
   "metadata": {},
   "source": [
    "## 회고 \n",
    "1. train에 비해 test결과가 좋지 않다. \n",
    "    : 처음엔 데이터의 양이 부족해서 생기는 문제라고 생각했다. 이를 해결하기 위해 10배를 늘렸지만 해결되지 않았다.\n",
    "2. 레이어 파라미터 조정 \n",
    "    : 레이어 파라미터가 급격히 줄어드는 것을 model.summary로 확인했다. 이를 해결하기 위해 레이어 개수를 조정했다.\n",
    "3. Overfitting\n",
    "    : 해결하고자 drop out을 추가했으나, 해결할 수 없었다.\n",
    "    \n",
    "    \n",
    "**결론**    \n",
    "- 데이터가 좋지 않다. : 연속 사진으로 촬영되는 사이트 특성 상 비슷한 데이터가 많을 가능성이 크다.     \n",
    "- input data가 레이어를 거치면서 어떻게 변화하는지 보는 것이 중요하다."
   ]
  }
 ],
 "metadata": {
  "kernelspec": {
   "display_name": "Python 3",
   "language": "python",
   "name": "python3"
  },
  "language_info": {
   "codemirror_mode": {
    "name": "ipython",
    "version": 3
   },
   "file_extension": ".py",
   "mimetype": "text/x-python",
   "name": "python",
   "nbconvert_exporter": "python",
   "pygments_lexer": "ipython3",
   "version": "3.7.9"
  }
 },
 "nbformat": 4,
 "nbformat_minor": 4
}
