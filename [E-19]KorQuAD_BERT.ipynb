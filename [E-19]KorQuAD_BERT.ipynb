{
 "cells": [
  {
   "cell_type": "markdown",
   "id": "amateur-auction",
   "metadata": {},
   "source": [
    "# [Exploration 19] KorQuAD_BERT : 인간보다 퀴즈를 잘푸는 인공지능 \n",
    "\n",
    "pretrained BERT모델을 이용해 KorQuAD task를 수행하는 프로젝트\n",
    "\n",
    "---\n",
    "\n",
    "## 프로젝트 목표\n",
    "---\n",
    "- pretrained BERT의 성능을 BERT와 비교한다.\n",
    "- KorQuAD 데이터셋에 대한 전처리 과정을 공부한다. \n",
    "- QuAD task 해결과정을 공부한다. \n",
    "\n",
    "\n",
    "## 프로젝트 설명\n",
    "---\n",
    "0. 데이터 불러오기, 전처리\n",
    "1. pretrained model 로딩하기\n",
    "2. pretrained model finetune 하기\n",
    "3. Inference 수행하기\n",
    "4. 학습 경과 시각화 비교분석\n",
    "\n",
    "## 0. 데이터 불러오기 및 전처리"
   ]
  },
  {
   "cell_type": "code",
   "execution_count": 2,
   "id": "stuck-welcome",
   "metadata": {},
   "outputs": [],
   "source": [
    "# imports\n",
    "from __future__ import absolute_import, division, print_function, unicode_literals\n",
    "\n",
    "import tensorflow as tf\n",
    "import tensorflow.keras.backend as K\n",
    "import tensorflow_addons as tfa\n",
    "\n",
    "import os\n",
    "import re\n",
    "import numpy as np\n",
    "import pandas as pd\n",
    "import pickle\n",
    "import random\n",
    "import collections\n",
    "import json\n",
    "from datetime import datetime\n",
    "\n",
    "import sentencepiece as spm\n",
    "from tqdm.notebook import tqdm\n",
    "import matplotlib.pyplot as plt\n",
    "import seaborn as sns\n",
    "from wordcloud import WordCloud\n",
    "\n",
    "random_seed = 2022\n",
    "random.seed(random_seed)\n",
    "np.random.seed(random_seed)\n",
    "tf.random.set_seed(random_seed)"
   ]
  },
  {
   "cell_type": "code",
   "execution_count": null,
   "id": "floppy-apache",
   "metadata": {},
   "outputs": [],
   "source": [
    "def print_json_tree(data, indent=\"\"):\n",
    "    for key, value in data.items():\n",
    "        "
   ]
  },
  {
   "cell_type": "code",
   "execution_count": null,
   "id": "transparent-ensemble",
   "metadata": {},
   "outputs": [],
   "source": []
  },
  {
   "cell_type": "code",
   "execution_count": null,
   "id": "committed-scratch",
   "metadata": {},
   "outputs": [],
   "source": []
  },
  {
   "cell_type": "code",
   "execution_count": null,
   "id": "formed-longer",
   "metadata": {},
   "outputs": [],
   "source": []
  },
  {
   "cell_type": "code",
   "execution_count": null,
   "id": "regular-howard",
   "metadata": {},
   "outputs": [],
   "source": []
  },
  {
   "cell_type": "code",
   "execution_count": null,
   "id": "analyzed-relation",
   "metadata": {},
   "outputs": [],
   "source": []
  },
  {
   "cell_type": "code",
   "execution_count": null,
   "id": "senior-mayor",
   "metadata": {},
   "outputs": [],
   "source": []
  },
  {
   "cell_type": "code",
   "execution_count": null,
   "id": "contemporary-decimal",
   "metadata": {},
   "outputs": [],
   "source": []
  },
  {
   "cell_type": "code",
   "execution_count": null,
   "id": "simple-running",
   "metadata": {},
   "outputs": [],
   "source": []
  },
  {
   "cell_type": "code",
   "execution_count": null,
   "id": "blessed-christian",
   "metadata": {},
   "outputs": [],
   "source": []
  },
  {
   "cell_type": "code",
   "execution_count": null,
   "id": "surgical-characteristic",
   "metadata": {},
   "outputs": [],
   "source": []
  },
  {
   "cell_type": "code",
   "execution_count": null,
   "id": "automated-vietnamese",
   "metadata": {},
   "outputs": [],
   "source": []
  },
  {
   "cell_type": "markdown",
   "id": "ethical-values",
   "metadata": {},
   "source": [
    "# 루브릭 평가\n",
    "---\n",
    "1. **BERT pretrained model을 활용한 KorQuAD 모델이 정상적으로 학습이 진행되었다.**   \n",
    "\n",
    "    - KorQuAD 모델의 validation accuracy가 안정적으로 증가하였다.\n",
    "\n",
    "\n",
    "2. **KorQuAD Inference 결과가 원래의 정답과 비교하여 유사하게 나오는 것을 확인하였다.**\n",
    "\n",
    "    - 평가셋에 대해 모델 추론 결과와 실제 정답의 유사성이 확인되었다.\n",
    "     \n",
    "     \n",
    "3. **pretrained model 활용이 효과적임을 실험을 통해 확인하였다.** \n",
    "\n",
    "    - pretrained model을 사용하지 않았을 때 대비 학습경과의 차이를 시각화를 통해 확인하였다.\n",
    "\n",
    "    \n",
    "    \n",
    "# 회고\n",
    "---\n",
    "## 어려웠던 점 \n",
    "- 변수명을 잘못 입력한 부분 외에는 크게 어려운 점이 없었다. \n",
    "\n",
    "## 시도한 것들\n",
    "- 최대한 효율적으로 결과를 비교하기 위해 함수를 사용해서 3가지 모델을 비교했다. \n",
    "\n",
    "## 다짐\n",
    "- 특정 task를 해결하고자 할 때, 사용할 수 있는 방법론에 대해 평가하는 법을 익힐 수 있었다. 무작정 여러가지를 써보거나, 가장 이용률이 높은 것을 사용하는 것보다 해당 task에 가장 필요한 부분이 어떤 것인지를 정하고 그 기준에 대해서 평가하면 더 유의미한 실험결과를 도출할 수 있을 것이다."
   ]
  }
 ],
 "metadata": {
  "kernelspec": {
   "display_name": "Python 3",
   "language": "python",
   "name": "python3"
  },
  "language_info": {
   "codemirror_mode": {
    "name": "ipython",
    "version": 3
   },
   "file_extension": ".py",
   "mimetype": "text/x-python",
   "name": "python",
   "nbconvert_exporter": "python",
   "pygments_lexer": "ipython3",
   "version": "3.7.9"
  }
 },
 "nbformat": 4,
 "nbformat_minor": 5
}
