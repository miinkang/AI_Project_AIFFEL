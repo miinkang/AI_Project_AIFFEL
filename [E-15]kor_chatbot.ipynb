{
 "cells": [
  {
   "cell_type": "markdown",
   "id": "controversial-mailing",
   "metadata": {},
   "source": [
    "# [Exploration 15] 한국어 데이터로 챗봇 만들기\n",
    "## 프로젝트 설명 \n",
    "---\n",
    "DCGAN을 이용해 CIFAR-10 이미지를 생선하는 프로젝트\n",
    "\n",
    "\n",
    "## 프로젝트 정리     \n",
    "---        \n",
    "1. 데이터 수집\n",
    "2. 데이터 전처리\n",
    "    - SubwordTextEncoder 사용\n",
    "        - 형태소분석기가 아닌 SubwordTextEncoder를 사용합니다.\n",
    "3. teacher forcing 사용하기 및 데이터셋 구성\n",
    "4. Transformer 모델 구현 및 학습\n",
    "5. 모델 평가 \n",
    "\n",
    "\n",
    "## 프로젝트 목표\n",
    "---\n",
    "- 한국어 데이터 전처리 \n",
    "- SubwordTextEncoder 이해\n",
    "- Transformer 구현\n",
    "\n",
    "\n",
    "## 01. 데이터 다운로드 \n",
    "- 한국어 챗봇 데이터 소스 : [송영숙 님 깃허브](https://github.com/songys/Chatbot_data/blob/master/ChatbotData%20.csv)\n",
    "    - 챗봇 트레이닝용 문답 페어 11,876개\n",
    "    - 일상다반서 0, 이별(부정) 1, 사랑(긍정) 2로 레이블링"
   ]
  },
  {
   "cell_type": "code",
   "execution_count": 1,
   "id": "composite-contribution",
   "metadata": {},
   "outputs": [],
   "source": [
    "import tensorflow as tf\n",
    "import tensorflow_datasets as tfds\n",
    "import os\n",
    "import re\n",
    "import numpy as np\n",
    "import matplotlib.pyplot as plt\n",
    "import pandas as pd"
   ]
  },
  {
   "cell_type": "code",
   "execution_count": 2,
   "id": "impressed-acrylic",
   "metadata": {},
   "outputs": [
    {
     "data": {
      "text/plain": [
       "'/home/aiffel-dj26/aiffel/songys_chatbot/ChatbotData .csv'"
      ]
     },
     "execution_count": 2,
     "metadata": {},
     "output_type": "execute_result"
    }
   ],
   "source": [
    "file_path = os.getenv('HOME')+'/aiffel/songys_chatbot/ChatbotData .csv'  # 주의 ! 파일명에 띄어쓰기가 있어요\n",
    "file_path"
   ]
  },
  {
   "cell_type": "code",
   "execution_count": 45,
   "id": "dated-uganda",
   "metadata": {},
   "outputs": [
    {
     "data": {
      "text/html": [
       "<div>\n",
       "<style scoped>\n",
       "    .dataframe tbody tr th:only-of-type {\n",
       "        vertical-align: middle;\n",
       "    }\n",
       "\n",
       "    .dataframe tbody tr th {\n",
       "        vertical-align: top;\n",
       "    }\n",
       "\n",
       "    .dataframe thead th {\n",
       "        text-align: right;\n",
       "    }\n",
       "</style>\n",
       "<table border=\"1\" class=\"dataframe\">\n",
       "  <thead>\n",
       "    <tr style=\"text-align: right;\">\n",
       "      <th></th>\n",
       "      <th>Q</th>\n",
       "      <th>A</th>\n",
       "      <th>label</th>\n",
       "    </tr>\n",
       "  </thead>\n",
       "  <tbody>\n",
       "    <tr>\n",
       "      <th>0</th>\n",
       "      <td>12시 땡!</td>\n",
       "      <td>하루가 또 가네요.</td>\n",
       "      <td>0</td>\n",
       "    </tr>\n",
       "    <tr>\n",
       "      <th>1</th>\n",
       "      <td>1지망 학교 떨어졌어</td>\n",
       "      <td>위로해 드립니다.</td>\n",
       "      <td>0</td>\n",
       "    </tr>\n",
       "    <tr>\n",
       "      <th>2</th>\n",
       "      <td>3박4일 놀러가고 싶다</td>\n",
       "      <td>여행은 언제나 좋죠.</td>\n",
       "      <td>0</td>\n",
       "    </tr>\n",
       "    <tr>\n",
       "      <th>3</th>\n",
       "      <td>3박4일 정도 놀러가고 싶다</td>\n",
       "      <td>여행은 언제나 좋죠.</td>\n",
       "      <td>0</td>\n",
       "    </tr>\n",
       "    <tr>\n",
       "      <th>4</th>\n",
       "      <td>PPL 심하네</td>\n",
       "      <td>눈살이 찌푸려지죠.</td>\n",
       "      <td>0</td>\n",
       "    </tr>\n",
       "  </tbody>\n",
       "</table>\n",
       "</div>"
      ],
      "text/plain": [
       "                 Q            A  label\n",
       "0           12시 땡!   하루가 또 가네요.      0\n",
       "1      1지망 학교 떨어졌어    위로해 드립니다.      0\n",
       "2     3박4일 놀러가고 싶다  여행은 언제나 좋죠.      0\n",
       "3  3박4일 정도 놀러가고 싶다  여행은 언제나 좋죠.      0\n",
       "4          PPL 심하네   눈살이 찌푸려지죠.      0"
      ]
     },
     "execution_count": 45,
     "metadata": {},
     "output_type": "execute_result"
    }
   ],
   "source": [
    "data = pd.read_csv(file_path)\n",
    "data.head()"
   ]
  },
  {
   "cell_type": "code",
   "execution_count": 4,
   "id": "standing-router",
   "metadata": {},
   "outputs": [
    {
     "data": {
      "text/plain": [
       "11823"
      ]
     },
     "execution_count": 4,
     "metadata": {},
     "output_type": "execute_result"
    }
   ],
   "source": [
    "len(data)"
   ]
  },
  {
   "cell_type": "markdown",
   "id": "continental-native",
   "metadata": {},
   "source": [
    "**데이터 갯수가 적기때문에 전체를 사용합니다.**\n",
    "\n",
    "- 결측치 확인"
   ]
  },
  {
   "cell_type": "code",
   "execution_count": 5,
   "id": "collective-stanford",
   "metadata": {},
   "outputs": [
    {
     "data": {
      "text/plain": [
       "Q        0\n",
       "A        0\n",
       "label    0\n",
       "dtype: int64"
      ]
     },
     "execution_count": 5,
     "metadata": {},
     "output_type": "execute_result"
    }
   ],
   "source": [
    "data.isnull().sum()"
   ]
  },
  {
   "cell_type": "code",
   "execution_count": 6,
   "id": "regional-designation",
   "metadata": {},
   "outputs": [
    {
     "name": "stdout",
     "output_type": "stream",
     "text": [
      "12시 땡!\n",
      "하루가 또 가네요.\n"
     ]
    }
   ],
   "source": [
    "print(data['Q'][0])\n",
    "print(data['A'][0])"
   ]
  },
  {
   "cell_type": "markdown",
   "id": "characteristic-dayton",
   "metadata": {},
   "source": [
    "## 02. 데이터 전처리"
   ]
  },
  {
   "cell_type": "code",
   "execution_count": 120,
   "id": "voluntary-rogers",
   "metadata": {},
   "outputs": [],
   "source": [
    "def preprocess_sentence(sentence):\n",
    "    sentence = re.sub(r'([?.!,])', r' \\1 ', sentence)\n",
    "    sentence = re.sub(r'[\" \"]+', ' ', sentence)\n",
    "    return sentence"
   ]
  },
  {
   "cell_type": "code",
   "execution_count": 8,
   "id": "bibliographic-infrastructure",
   "metadata": {},
   "outputs": [],
   "source": [
    "def load_conversations():\n",
    "    questions, answers = [], []\n",
    "    for q, a in zip(data['Q'], data['A']):\n",
    "        questions.append(preprocess_sentence(q))\n",
    "        answers.append(preprocess_sentence(a))\n",
    "        \n",
    "        if len(questions) >= len(data):\n",
    "            return questions, answers\n",
    "    return questions, answers"
   ]
  },
  {
   "cell_type": "code",
   "execution_count": 27,
   "id": "intended-serve",
   "metadata": {},
   "outputs": [
    {
     "name": "stdout",
     "output_type": "stream",
     "text": [
      "전체 질문 수 : 11823\n",
      "전체 답변 수 : 11823\n"
     ]
    }
   ],
   "source": [
    "questions, answers = load_conversations()\n",
    "print('전체 질문 수 :', len(questions))\n",
    "print('전체 답변 수 :', len(answers))"
   ]
  },
  {
   "cell_type": "markdown",
   "id": "stuck-darwin",
   "metadata": {},
   "source": [
    "- 문장부호(.!,?)와 단어 사이 띄어쓰기가 잘 되었는지 확인합니다.\n",
    "- 질문과 답변이 병렬로 전처리 되었는지 확인합니다. "
   ]
  },
  {
   "cell_type": "code",
   "execution_count": 11,
   "id": "distributed-programmer",
   "metadata": {},
   "outputs": [
    {
     "name": "stdout",
     "output_type": "stream",
     "text": [
      "전처리 후 11번째 질문 샘플: 가끔 궁금해\n",
      "전처리 후 11번째 답변 샘플: 그 사람도 그럴 거예요 . \n"
     ]
    }
   ],
   "source": [
    "print('전처리 후 11번째 질문 샘플: {}'.format(questions[11]))\n",
    "print('전처리 후 11번째 답변 샘플: {}'.format(answers[11]))"
   ]
  },
  {
   "cell_type": "markdown",
   "id": "rising-navigation",
   "metadata": {},
   "source": [
    "- **단어장** 만들기"
   ]
  },
  {
   "cell_type": "code",
   "execution_count": 12,
   "id": "serious-mortgage",
   "metadata": {},
   "outputs": [],
   "source": [
    "tokenizer = tfds.deprecated.text.SubwordTextEncoder.build_from_corpus(questions + answers, target_vocab_size=2**13)"
   ]
  },
  {
   "cell_type": "code",
   "execution_count": 13,
   "id": "necessary-string",
   "metadata": {},
   "outputs": [],
   "source": [
    "START_TOKEN, END_TOKEN = [tokenizer.vocab_size], [tokenizer.vocab_size + 1]"
   ]
  },
  {
   "cell_type": "code",
   "execution_count": 14,
   "id": "friendly-designation",
   "metadata": {},
   "outputs": [
    {
     "name": "stdout",
     "output_type": "stream",
     "text": [
      "START_TOKEN의 번호: [8170]\n",
      "END_TOKEN의 번호: [8171]\n"
     ]
    }
   ],
   "source": [
    "print('START_TOKEN의 번호:', [tokenizer.vocab_size])\n",
    "print('END_TOKEN의 번호:', [tokenizer.vocab_size + 1])"
   ]
  },
  {
   "cell_type": "code",
   "execution_count": 15,
   "id": "incorporated-joshua",
   "metadata": {},
   "outputs": [
    {
     "name": "stdout",
     "output_type": "stream",
     "text": [
      "8172\n"
     ]
    }
   ],
   "source": [
    "VOCAB_SIZE = tokenizer.vocab_size + 2  # STRAT, END TOKEN 추가 \n",
    "print(VOCAB_SIZE)"
   ]
  },
  {
   "cell_type": "markdown",
   "id": "approximate-campbell",
   "metadata": {},
   "source": [
    "**tokenizer를 정의하고 vocabulary를 만들었습니다.**\n",
    "\n",
    "- 각 단어를 정수로 인코딩 후 패딩하겠습니다.\n",
    "- tokenizer.encdoe() 사용"
   ]
  },
  {
   "cell_type": "code",
   "execution_count": 16,
   "id": "civilian-powell",
   "metadata": {},
   "outputs": [
    {
     "name": "stdout",
     "output_type": "stream",
     "text": [
      "정수 인코딩 후 11번째 질문 샘플: [684, 745]\n",
      "정수 인코딩 후 11번째 답변 샘플: [62, 513, 137, 3, 1]\n"
     ]
    }
   ],
   "source": [
    "print('정수 인코딩 후 11번째 질문 샘플: {}'.format(tokenizer.encode(questions[11])))\n",
    "print('정수 인코딩 후 11번째 답변 샘플: {}'.format(tokenizer.encode(answers[11])))"
   ]
  },
  {
   "cell_type": "markdown",
   "id": "federal-curtis",
   "metadata": {},
   "source": [
    "- 패딩을 위해 문장의 최대 길이를 설정해야합니다.\n",
    "- 시각화를 통해 길이 분포를 확인하겠습니다."
   ]
  },
  {
   "cell_type": "code",
   "execution_count": 17,
   "id": "immune-question",
   "metadata": {},
   "outputs": [
    {
     "name": "stdout",
     "output_type": "stream",
     "text": [
      "16\n",
      "24\n"
     ]
    },
    {
     "data": {
      "text/plain": [
       "Text(0.5, 1.0, 'answer length')"
      ]
     },
     "execution_count": 17,
     "metadata": {},
     "output_type": "execute_result"
    },
    {
     "data": {
      "image/png": "[encoded data removed]",
      "text/plain": [
       "<Figure size 864x360 with 1 Axes>"
      ]
     },
     "metadata": {
      "needs_background": "light"
     },
     "output_type": "display_data"
    },
    {
     "data": {
      "image/png": "[encoded data removed]",
      "text/plain": [
       "<Figure size 864x360 with 1 Axes>"
      ]
     },
     "metadata": {
      "needs_background": "light"
     },
     "output_type": "display_data"
    }
   ],
   "source": [
    "import matplotlib.pyplot as plt \n",
    "\n",
    "question_len = [len(s.split()) for s in questions]\n",
    "answer_len = [len(s.split()) for s in answers]\n",
    "\n",
    "print(max(question_len))\n",
    "print(max(answer_len))\n",
    "\n",
    "plt.figure(figsize=(12, 5))\n",
    "plt.hist(question_len)\n",
    "plt.title('question length')\n",
    "\n",
    "plt.figure(figsize=(12, 5))\n",
    "plt.hist(answer_len)\n",
    "plt.title('answer length')"
   ]
  },
  {
   "cell_type": "markdown",
   "id": "polish-playlist",
   "metadata": {},
   "source": [
    "**분포를 확인했으나, 전체 데이터를 사용하기 위해 최대 길이는 30으로 하겠습니다.**"
   ]
  },
  {
   "cell_type": "code",
   "execution_count": 18,
   "id": "imported-ranch",
   "metadata": {},
   "outputs": [
    {
     "name": "stdout",
     "output_type": "stream",
     "text": [
      "30\n"
     ]
    }
   ],
   "source": [
    "MAX_LENGTH = 30\n",
    "print(MAX_LENGTH)"
   ]
  },
  {
   "cell_type": "code",
   "execution_count": 30,
   "id": "choice-quebec",
   "metadata": {},
   "outputs": [],
   "source": [
    "def tokenize_and_filter(inputs, outputs):\n",
    "    tokenized_inputs, tokenized_outputs = [], []\n",
    "    \n",
    "    for (sentence1, sentence2) in zip(inputs, outputs):\n",
    "        sentence1 = START_TOKEN + tokenizer.encode(sentence1) + END_TOKEN\n",
    "        sentence2 = START_TOKEN + tokenizer.encode(sentence2) + END_TOKEN\n",
    "        \n",
    "        if len(sentence1) <= MAX_LENGTH and len(sentence2) <= MAX_LENGTH:\n",
    "            tokenized_inputs.append(sentence1)\n",
    "            tokenized_outputs.append(sentence2)\n",
    "        \n",
    "    tokenized_inputs = tf.keras.preprocessing.sequence.pad_sequences(tokenized_inputs, maxlen=MAX_LENGTH, padding='post')\n",
    "    tokenized_outputs = tf.keras.preprocessing.sequence.pad_sequences(tokenized_outputs, maxlen=MAX_LENGTH, padding='post')        \n",
    "\n",
    "    return tokenized_inputs, tokenized_outputs"
   ]
  },
  {
   "cell_type": "code",
   "execution_count": 31,
   "id": "developmental-samba",
   "metadata": {},
   "outputs": [
    {
     "name": "stdout",
     "output_type": "stream",
     "text": [
      "단어장 크기: 8172\n",
      "필터링 후 질문 샘플 개수:11822\n",
      "필터링 후 답변 샘플 개수:11822\n"
     ]
    }
   ],
   "source": [
    "questions, answers = tokenize_and_filter(questions, answers)\n",
    "\n",
    "print('단어장 크기:', (VOCAB_SIZE))\n",
    "print('필터링 후 질문 샘플 개수:{}'.format(len(questions)))\n",
    "print('필터링 후 답변 샘플 개수:{}'.format(len(answers)))"
   ]
  },
  {
   "cell_type": "markdown",
   "id": "scenic-religion",
   "metadata": {},
   "source": [
    "## 03. teacher forcing(교사강요)사용하기 및 데이터셋 구성\n",
    "- 순차적으로 학습, 예측하는 모델 특성상 잘못된 예측이 그 후 학습, 예측에도 악영향을 주기 때문에 실제 레이블을 입력으로 넣어주는 기법입니다."
   ]
  },
  {
   "cell_type": "code",
   "execution_count": 32,
   "id": "spread-chemistry",
   "metadata": {},
   "outputs": [],
   "source": [
    "BATCH_SIZE = 64\n",
    "BUFFER_SIZE = 20000\n",
    "\n",
    "dataset = tf.data.Dataset.from_tensor_slices((\n",
    "    {'inputs': questions,\n",
    "    'dec_inputs':answers[:, :-1]},\n",
    "    {'outputs': answers[:, 1:]}  # START_TOKEN 제외\n",
    "))\n",
    "\n",
    "dataset = dataset.cache()\n",
    "dataset = dataset.shuffle(BUFFER_SIZE)\n",
    "dataset = dataset.batch(BATCH_SIZE)\n",
    "dataset = dataset.prefetch(tf.data.experimental.AUTOTUNE)"
   ]
  },
  {
   "cell_type": "markdown",
   "id": "dried-stake",
   "metadata": {},
   "source": [
    "## 04.  Transformer모델 구현 및 학습\n",
    "- 포지셔널 인코딩\n",
    "- 스케일드 닷 프로덕트 어텐션\n",
    "- 멀티헤드 어텐션\n",
    "- 패딩 마스킹 \n",
    "- 룩 어헤드 마스킹 \n",
    "\n",
    "- encoding layer, encoder\n",
    "- decoding layer, decoder\n",
    "\n",
    "- transformer"
   ]
  },
  {
   "cell_type": "code",
   "execution_count": 56,
   "id": "graphic-dayton",
   "metadata": {},
   "outputs": [],
   "source": [
    "class PositionalEncoding(tf.keras.layers.Layer):\n",
    "    \n",
    "    def __init__(self, position, d_model):\n",
    "        super(PositionalEncoding, self).__init__()\n",
    "        self.pos_encoding = self.positional_encoding(position, d_model)\n",
    "        \n",
    "    def get_angles(self, position, i, d_model):\n",
    "        angles = 1/tf.pow(10000, (2* (i//2))/ tf.cast(d_model, tf.float32))\n",
    "        return position * angles\n",
    "    \n",
    "    def positional_encoding(self, position, d_model):\n",
    "        angle_rads = self.get_angles(position=tf.range(position, dtype=tf.float32)[:, tf.newaxis],\n",
    "                                    i=tf.range(d_model, dtype=tf.float32)[tf.newaxis, :],\n",
    "                                    d_model=d_model)\n",
    "        sines = tf.math.sin(angle_rads[:, 0::2]) # 짝수 인덱스\n",
    "        cosines = tf.math.cos(angle_rads[:, 1::2]) # 홀수 인덱스\n",
    "        \n",
    "        pos_encoding = tf.concat([sines, cosines], axis= -1)\n",
    "        pos_encoding = pos_encoding[tf.newaxis, ...]\n",
    "        \n",
    "        return tf.cast(pos_encoding, tf.float32)\n",
    "    \n",
    "    def call(self, inputs):\n",
    "        return inputs + self.pos_encoding[:, tf.shape(inputs)[1], :]"
   ]
  },
  {
   "cell_type": "code",
   "execution_count": 141,
   "id": "usual-response",
   "metadata": {},
   "outputs": [
    {
     "data": {
      "image/png": "[encoded data removed]",
      "text/plain": [
       "<Figure size 432x288 with 2 Axes>"
      ]
     },
     "metadata": {
      "needs_background": "light"
     },
     "output_type": "display_data"
    }
   ],
   "source": [
    "sample_pos_encoding = PositionalEncoding(50, 512)\n",
    "\n",
    "plt.pcolormesh(sample_pos_encoding.pos_encoding.numpy()[0], cmap='RdBu')\n",
    "plt.xlabel('Depth')\n",
    "plt.xlim((0, 512))\n",
    "plt.ylabel('Position')\n",
    "plt.colorbar()\n",
    "plt.show()"
   ]
  },
  {
   "cell_type": "code",
   "execution_count": 57,
   "id": "informed-advantage",
   "metadata": {},
   "outputs": [],
   "source": [
    "def scaled_dot_product_attention(query, key, value, mask):\n",
    "    matmul_qk = tf.matmul(query, key, transpose_b=True)\n",
    "    \n",
    "    depth = tf.cast(tf.shape(key)[-1], tf.float32)\n",
    "    logits = matmul_qk / tf.math.sqrt(depth)\n",
    "    \n",
    "    if mask is not None:\n",
    "        logits += (mask * - 1e9)\n",
    "    \n",
    "    attention_weights = tf.nn.softmax(logits, axis=-1)\n",
    "    output = tf.matmul(attention_weights, value)\n",
    "    \n",
    "    return output"
   ]
  },
  {
   "cell_type": "code",
   "execution_count": 83,
   "id": "improved-authentication",
   "metadata": {},
   "outputs": [],
   "source": [
    "class MultiHeadAttention(tf.keras.layers.Layer):\n",
    "    \n",
    "    def __init__(self, d_model, num_heads, name='multi_head_attention'):\n",
    "        super(MultiHeadAttention, self).__init__(name=name)\n",
    "        self.num_heads = num_heads\n",
    "        self.d_model = d_model\n",
    "        \n",
    "        assert d_model % self.num_heads == 0 \n",
    "        \n",
    "        self.depth = d_model // self.num_heads\n",
    "        \n",
    "        self.query_dense = tf.keras.layers.Dense(units=d_model)\n",
    "        self.key_dense = tf.keras.layers.Dense(units=d_model)\n",
    "        self.value_dense = tf.keras.layers.Dense(units=d_model)\n",
    "        \n",
    "        self.dense = tf.keras.layers.Dense(units=d_model)\n",
    "    \n",
    "    def split_heads(self, inputs, batch_size):\n",
    "        inputs = tf.reshape(inputs, shape=(batch_size, -1, self.num_heads, self.depth))\n",
    "        return tf.transpose(inputs, perm=[0, 2, 1, 3])\n",
    "    \n",
    "    def call(self, inputs):\n",
    "        query, key, value, mask = inputs['query'], inputs['key'], inputs['value'], inputs['mask']\n",
    "        batch_size = tf.shape(query)[0]\n",
    "        \n",
    "        query = self.query_dense(query)\n",
    "        key = self.key_dense(key)\n",
    "        value = self.value_dense(value)\n",
    "        \n",
    "        query = self.split_heads(query, batch_size)\n",
    "        key = self.split_heads(key, batch_size)\n",
    "        value = self.split_heads(value, batch_size)\n",
    "        \n",
    "        scaled_attention = scaled_dot_product_attention(query, key, value, mask)\n",
    "        scaled_attention = tf.transpose(scaled_attention, perm=[0, 2, 1, 3])\n",
    "        \n",
    "        concat_attention = tf.reshape(scaled_attention, (batch_size, -1, self.d_model))\n",
    "        \n",
    "        outputs = self.dense(concat_attention)\n",
    "        \n",
    "        return outputs"
   ]
  },
  {
   "cell_type": "code",
   "execution_count": 84,
   "id": "experienced-custody",
   "metadata": {},
   "outputs": [],
   "source": [
    "def create_padding_mask(x):\n",
    "    mask = tf.cast(tf.math.equal(x, 0), tf.float32)\n",
    "    return mask[:, tf.newaxis, tf.newaxis, :] # [batch_size, 1, 1, sequence_length]"
   ]
  },
  {
   "cell_type": "code",
   "execution_count": 85,
   "id": "corrected-august",
   "metadata": {},
   "outputs": [
    {
     "name": "stdout",
     "output_type": "stream",
     "text": [
      "tf.Tensor(\n",
      "[[[[0. 0. 1. 0. 1.]]]\n",
      "\n",
      "\n",
      " [[[1. 1. 1. 0. 0.]]]], shape=(2, 1, 1, 5), dtype=float32)\n"
     ]
    }
   ],
   "source": [
    "print(create_padding_mask(tf.constant([[1, 2, 0, 3, 0], [0, 0, 0, 4, 5]])))"
   ]
  },
  {
   "cell_type": "markdown",
   "id": "declared-guitar",
   "metadata": {},
   "source": [
    "**0인 부분을 1로 표시합니다.**"
   ]
  },
  {
   "cell_type": "code",
   "execution_count": 86,
   "id": "dietary-fireplace",
   "metadata": {},
   "outputs": [],
   "source": [
    "def create_look_ahead_mask(x):\n",
    "    seq_len = tf.shape(x)[1]\n",
    "    look_ahead_mask = 1 - tf.linalg.band_part(tf.ones((seq_len, seq_len)), -1, 0)\n",
    "    padding_mask = create_padding_mask(x)\n",
    "    return tf.maximum(look_ahead_mask, padding_mask)"
   ]
  },
  {
   "cell_type": "code",
   "execution_count": 87,
   "id": "brown-detail",
   "metadata": {},
   "outputs": [
    {
     "name": "stdout",
     "output_type": "stream",
     "text": [
      "tf.Tensor(\n",
      "[[[[0. 1. 1. 1. 1.]\n",
      "   [0. 0. 1. 1. 1.]\n",
      "   [0. 0. 0. 1. 1.]\n",
      "   [0. 0. 0. 0. 1.]\n",
      "   [0. 0. 0. 0. 0.]]]], shape=(1, 1, 5, 5), dtype=float32)\n"
     ]
    }
   ],
   "source": [
    "print(create_look_ahead_mask(tf.constant([[1, 2, 3, 4, 5]])))"
   ]
  },
  {
   "cell_type": "code",
   "execution_count": 88,
   "id": "another-terminology",
   "metadata": {},
   "outputs": [
    {
     "name": "stdout",
     "output_type": "stream",
     "text": [
      "tf.Tensor(\n",
      "[[[[1. 1. 1. 1. 1.]\n",
      "   [1. 0. 1. 1. 1.]\n",
      "   [1. 0. 0. 1. 1.]\n",
      "   [1. 0. 0. 0. 1.]\n",
      "   [1. 0. 0. 0. 0.]]]], shape=(1, 1, 5, 5), dtype=float32)\n"
     ]
    }
   ],
   "source": [
    "print(create_look_ahead_mask(tf.constant([[0, 5, 1, 5, 5]])))"
   ]
  },
  {
   "cell_type": "markdown",
   "id": "concerned-detective",
   "metadata": {},
   "source": [
    "**0이 있으면 패딩까지 하는 것을 볼 수 있습니다.**"
   ]
  },
  {
   "cell_type": "code",
   "execution_count": 95,
   "id": "killing-strike",
   "metadata": {},
   "outputs": [],
   "source": [
    "def encoder_layer(units, d_model, num_heads, dropout, name='encoder_layer'):\n",
    "    inputs = tf.keras.Input(shape=(None, d_model), name='inputs')\n",
    "    \n",
    "    padding_mask = tf.keras.Input(shape=(1, 1, None), name='padding_mask')\n",
    "    \n",
    "    attention = MultiHeadAttention(d_model, num_heads, name='attention')({\n",
    "        'query':inputs, 'key':inputs, 'value':inputs, 'mask':padding_mask\n",
    "    })\n",
    "    \n",
    "    attention = tf.keras.layers.Dropout(rate=dropout)(attention)\n",
    "    attention = tf.keras.layers.LayerNormalization(epsilon=1e-6)(inputs + attention)\n",
    "    \n",
    "    outputs = tf.keras.layers.Dense(units=units, activation='relu')(attention)\n",
    "    outputs = tf.keras.layers.Dense(units=d_model)(outputs)\n",
    "    \n",
    "    outputs = tf.keras.layers.Dropout(rate=dropout)(outputs)\n",
    "    outputs = tf.keras.layers.LayerNormalization(epsilon=1e-6)(attention + outputs)\n",
    "    \n",
    "    return tf.keras.Model(inputs=[inputs, padding_mask], outputs=outputs, name=name)"
   ]
  },
  {
   "cell_type": "code",
   "execution_count": 96,
   "id": "south-raise",
   "metadata": {},
   "outputs": [],
   "source": [
    "def encoder(vocab_size, num_layers, units, d_model, num_heads, dropout, name='encoder'):\n",
    "    inputs = tf.keras.Input(shape=(None,), name='inputs')\n",
    "    \n",
    "    padding_mask = tf.keras.Input(shape=(1, 1, None), name='padding_mask')\n",
    "    \n",
    "    embeddings = tf.keras.layers.Embedding(vocab_size, d_model)(inputs)\n",
    "    embeddings *= tf.math.sqrt(tf.cast(d_model, tf.float32))\n",
    "                                \n",
    "    embeddings = PositionalEncoding(vocab_size, d_model)(embeddings)\n",
    "                                \n",
    "    outputs = tf.keras.layers.Dropout(rate=dropout)(embeddings)\n",
    "                                \n",
    "    for i in range(num_layers):\n",
    "        outputs = encoder_layer(units=units, d_model=d_model, num_heads=num_heads, dropout=dropout, name='encoder_layer_{}'.format(i),)([outputs, padding_mask])\n",
    "    \n",
    "    return tf.keras.Model(inputs=[inputs, padding_mask], outputs=outputs, name=name)\n",
    "                                "
   ]
  },
  {
   "cell_type": "code",
   "execution_count": 97,
   "id": "adequate-neighbor",
   "metadata": {},
   "outputs": [],
   "source": [
    "def decoder_layer(units, d_model, num_heads, dropout, name='decoder_layer'):\n",
    "    inputs = tf.keras.Input(shape=(None, d_model), name='inputs')\n",
    "    enc_outputs = tf.keras.Input(shape=(None, d_model), name='encoder_outputs')\n",
    "    look_ahead_mask = tf.keras.Input(shape=(1, None, None), name='look_ahead_mask')\n",
    "    padding_mask = tf.keras.Input(shape=(1, 1, None), name='padding_mask')\n",
    "    \n",
    "    attention1 = MultiHeadAttention(d_model, num_heads, name='attention_1')(inputs={\n",
    "        'query':inputs, 'key':inputs, 'value':inputs, 'mask':look_ahead_mask\n",
    "    })\n",
    "    attention1 = tf.keras.layers.LayerNormalization(epsilon=1e-6)(attention1 + inputs)\n",
    "    \n",
    "    attention2 = MultiHeadAttention(d_model, num_heads, name='attention_2')(inputs={\n",
    "        'query':attention1, 'key':enc_outputs, 'value':enc_outputs, 'mask':padding_mask\n",
    "    })\n",
    "    attention2 = tf.keras.layers.Dropout(rate=dropout)(attention2)\n",
    "    attention2 = tf.keras.layers.LayerNormalization(epsilon=1e-6)(attention2 + attention1)\n",
    "    \n",
    "    outputs = tf.keras.layers.Dense(units=units, activation='relu')(attention2)\n",
    "    outputs = tf.keras.layers.Dense(units=d_model)(outputs)\n",
    "    \n",
    "    outputs = tf.keras.layers.Dropout(rate=dropout)(outputs)\n",
    "    outputs = tf.keras.layers.LayerNormalization(epsilon=1e-6)(outputs + attention2)\n",
    "    \n",
    "    return tf.keras.Model(inputs=[inputs, enc_outputs, look_ahead_mask, padding_mask], outputs=outputs, name=name)"
   ]
  },
  {
   "cell_type": "code",
   "execution_count": 101,
   "id": "fitted-scratch",
   "metadata": {},
   "outputs": [],
   "source": [
    "def decoder(vocab_size, num_layers, units, d_model,num_heads, dropout, name='decoder'):\n",
    "    inputs = tf.keras.Input(shape=(None,), name='inputs')\n",
    "    enc_outputs = tf.keras.Input(shape=(None, d_model), name='encoder_outputs')\n",
    "    look_ahead_mask = tf.keras.Input(shape=(1, None, None), name='look_ahead_mask')\n",
    "    \n",
    "    padding_mask = tf.keras.Input(shape=(1, 1, None), name='padding_mask')\n",
    "    \n",
    "    embeddings = tf.keras.layers.Embedding(vocab_size, d_model)(inputs)\n",
    "    embeddings *= tf.math.sqrt(tf.cast(d_model, tf.float32))\n",
    "    \n",
    "    embeddings = PositionalEncoding(vocab_size, d_model)(embeddings)\n",
    "    \n",
    "    outputs = tf.keras.layers.Dropout(rate=dropout)(embeddings)\n",
    "    \n",
    "    for i in range(num_layers):\n",
    "        outputs = decoder_layer(units=units, d_model=d_model, num_heads=num_heads, dropout=dropout, name='decoder_layer_{}'.format(i))(inputs=[outputs, enc_outputs, look_ahead_mask, padding_mask])\n",
    "    \n",
    "    return tf.keras.Model(inputs=[inputs, enc_outputs, look_ahead_mask, padding_mask], outputs=outputs, name=name)"
   ]
  },
  {
   "cell_type": "code",
   "execution_count": 102,
   "id": "composed-municipality",
   "metadata": {},
   "outputs": [],
   "source": [
    "def transformer(vocab_size, num_layers,\n",
    "               units, d_model, num_heads, dropout, name='transformer'):\n",
    "    inputs = tf.keras.Input(shape=(None,), name='inputs')\n",
    "    dec_inputs = tf.keras.Input(shape=(None,), name='dec_inputs')\n",
    "    # encoder에서 패딩 마스크\n",
    "    enc_padding_mask = tf.keras.layers.Lambda(create_padding_mask, output_shape=(1, 1, None), name='enc_padding_mask')(inputs)\n",
    "    # decoder에서 미래 토큰 마스크, 패딩 마스크\n",
    "    look_ahead_mask = tf.keras.layers.Lambda(create_look_ahead_mask, output_shape=(1, None, None), name='look_ahead_mask')(dec_inputs)\n",
    "    # 두번째 어텐션 블록에서 encoder의 벡터들을 마스킹, decoder에서 패딩 마스크\n",
    "    dec_padding_mask = tf.keras.layers.Lambda(create_padding_mask, output_shape=(1, 1, None), name='dec_padding_mask')(inputs)\n",
    "    \n",
    "    # encoder\n",
    "    enc_outputs = encoder(vocab_size=vocab_size, num_layers=num_layers, units=units, d_model=d_model, num_heads=num_heads, dropout=dropout)(inputs=[inputs, enc_padding_mask])\n",
    "    # decoder\n",
    "    dec_outputs = decoder(vocab_size=vocab_size, num_layers=num_layers, units=units, d_model=d_model, num_heads=num_heads, dropout=dropout)(inputs=[dec_inputs, enc_outputs, look_ahead_mask, dec_padding_mask])\n",
    "    \n",
    "    # dense layer\n",
    "    outputs = tf.keras.layers.Dense(units=vocab_size, name='outputs')(dec_outputs)\n",
    "    \n",
    "    return tf.keras.Model(inputs=[inputs, dec_inputs], outputs=outputs, name=name)"
   ]
  },
  {
   "cell_type": "code",
   "execution_count": 103,
   "id": "seeing-command",
   "metadata": {},
   "outputs": [
    {
     "name": "stdout",
     "output_type": "stream",
     "text": [
      "Model: \"transformer\"\n",
      "__________________________________________________________________________________________________\n",
      "Layer (type)                    Output Shape         Param #     Connected to                     \n",
      "==================================================================================================\n",
      "inputs (InputLayer)             [(None, None)]       0                                            \n",
      "__________________________________________________________________________________________________\n",
      "dec_inputs (InputLayer)         [(None, None)]       0                                            \n",
      "__________________________________________________________________________________________________\n",
      "enc_padding_mask (Lambda)       (None, 1, 1, None)   0           inputs[0][0]                     \n",
      "__________________________________________________________________________________________________\n",
      "encoder (Model)                 (None, None, 256)    3146240     inputs[0][0]                     \n",
      "                                                                 enc_padding_mask[0][0]           \n",
      "__________________________________________________________________________________________________\n",
      "look_ahead_mask (Lambda)        (None, 1, None, None 0           dec_inputs[0][0]                 \n",
      "__________________________________________________________________________________________________\n",
      "dec_padding_mask (Lambda)       (None, 1, 1, None)   0           inputs[0][0]                     \n",
      "__________________________________________________________________________________________________\n",
      "decoder (Model)                 (None, None, 256)    3673600     dec_inputs[0][0]                 \n",
      "                                                                 encoder[1][0]                    \n",
      "                                                                 look_ahead_mask[0][0]            \n",
      "                                                                 dec_padding_mask[0][0]           \n",
      "__________________________________________________________________________________________________\n",
      "outputs (Dense)                 (None, None, 8172)   2100204     decoder[1][0]                    \n",
      "==================================================================================================\n",
      "Total params: 8,920,044\n",
      "Trainable params: 8,920,044\n",
      "Non-trainable params: 0\n",
      "__________________________________________________________________________________________________\n"
     ]
    }
   ],
   "source": [
    "tf.keras.backend.clear_session()\n",
    "\n",
    "NUM_LAYERS = 2  # encoder, decoder의 층 개수\n",
    "D_MODEL = 256   # encoder, decoder 내부의 입/출력 고정 차원\n",
    "NUM_HEADS = 8   # 멀티 헤드 어텐션의 헤드 수 \n",
    "UNITS = 512     # feed forward 신경망 은닉층의 크기\n",
    "DROPOUT = 0.1\n",
    "\n",
    "model = transformer(vocab_size=VOCAB_SIZE, \n",
    "                   num_layers=NUM_LAYERS,\n",
    "                   d_model=D_MODEL,\n",
    "                   num_heads=NUM_HEADS,\n",
    "                   units=UNITS,\n",
    "                   dropout=DROPOUT)\n",
    "\n",
    "model.summary()"
   ]
  },
  {
   "cell_type": "markdown",
   "id": "governing-metallic",
   "metadata": {},
   "source": [
    "- loss function 구현"
   ]
  },
  {
   "cell_type": "code",
   "execution_count": 104,
   "id": "separated-sending",
   "metadata": {},
   "outputs": [],
   "source": [
    "def loss_function(y_true, y_pred):\n",
    "    y_true = tf.reshape(y_true, shape=(-1, MAX_LENGTH-1))\n",
    "    \n",
    "    loss = tf.keras.losses.SparseCategoricalCrossentropy(from_logits=True, reduction='none')(y_true, y_pred)\n",
    "    \n",
    "    mask = tf.cast(tf.not_equal(y_true, 0), tf.float32)\n",
    "    loss = tf.multiply(loss, mask)\n",
    "    \n",
    "    return tf.reduce_mean(loss)"
   ]
  },
  {
   "cell_type": "markdown",
   "id": "checked-voluntary",
   "metadata": {},
   "source": [
    "- Custom Learning rate Scheduling(커스텀 학습률 스케쥴링)\n",
    "    - learning rate를 급격히 높였다가 서서히 낮추어 안정적으로 수렴하게 하는 기법"
   ]
  },
  {
   "cell_type": "code",
   "execution_count": 105,
   "id": "atmospheric-mainstream",
   "metadata": {},
   "outputs": [],
   "source": [
    "class CustomSchedule(tf.keras.optimizers.schedules.LearningRateSchedule):\n",
    "    \n",
    "    def __init__(self, d_model, warmup_steps=4000):\n",
    "        super(CustomSchedule, self).__init__()\n",
    "        \n",
    "        self.d_model = d_model\n",
    "        self.d_model = tf.cast(self.d_model, tf.float32)\n",
    "        \n",
    "        self.warmup_steps = warmup_steps\n",
    "        \n",
    "    def __call__(self, step):\n",
    "        arg1 = tf.math.rsqrt(step)\n",
    "        arg2 = step * (self.warmup_steps**-1.5)\n",
    "        \n",
    "        return tf.math.rsqrt(self.d_model) * tf.math.minimum(arg1, arg2)"
   ]
  },
  {
   "cell_type": "code",
   "execution_count": 106,
   "id": "tropical-tackle",
   "metadata": {},
   "outputs": [
    {
     "data": {
      "text/plain": [
       "Text(0.5, 0, 'Train Step')"
      ]
     },
     "execution_count": 106,
     "metadata": {},
     "output_type": "execute_result"
    },
    {
     "data": {
      "image/png": "[encoded data removed]",
      "text/plain": [
       "<Figure size 432x288 with 1 Axes>"
      ]
     },
     "metadata": {
      "needs_background": "light"
     },
     "output_type": "display_data"
    }
   ],
   "source": [
    "sample_learning_rate = CustomSchedule(d_model=128)\n",
    "\n",
    "plt.plot(sample_learning_rate(tf.range(200000, dtype=tf.float32)))\n",
    "plt.ylabel('Learning Rate')\n",
    "plt.xlabel('Train Step')"
   ]
  },
  {
   "cell_type": "code",
   "execution_count": 111,
   "id": "lonely-associate",
   "metadata": {},
   "outputs": [],
   "source": [
    "learning_rate = CustomSchedule(D_MODEL)\n",
    "\n",
    "optimizer = tf.keras.optimizers.Adam(learning_rate, beta_1=0.9, beta_2=0.98, epsilon=1e-9)\n",
    "\n",
    "def accuracy(y_true, y_pred):\n",
    "    y_true = tf.reshape(y_true, shape=(-1, MAX_LENGTH -1))\n",
    "    return tf.keras.metrics.sparse_categorical_accuracy(y_true, y_pred)\n",
    "\n",
    "model.compile(optimizer=optimizer, loss=loss_function, metrics=[accuracy])"
   ]
  },
  {
   "cell_type": "code",
   "execution_count": 178,
   "id": "handed-enemy",
   "metadata": {
    "scrolled": false
   },
   "outputs": [
    {
     "name": "stdout",
     "output_type": "stream",
     "text": [
      "Epoch 1/20\n",
      "185/185 [==============================] - 12s 63ms/step - loss: 0.0013 - accuracy: 0.2346\n",
      "Epoch 2/20\n",
      "185/185 [==============================] - 13s 68ms/step - loss: 0.0015 - accuracy: 0.2346\n",
      "Epoch 3/20\n",
      "185/185 [==============================] - 12s 63ms/step - loss: 0.0012 - accuracy: 0.2347\n",
      "Epoch 4/20\n",
      "185/185 [==============================] - 10s 54ms/step - loss: 0.0013 - accuracy: 0.2346\n",
      "Epoch 5/20\n",
      "185/185 [==============================] - 10s 55ms/step - loss: 0.0014 - accuracy: 0.2346\n",
      "Epoch 6/20\n",
      "185/185 [==============================] - 10s 55ms/step - loss: 0.0012 - accuracy: 0.2346\n",
      "Epoch 7/20\n",
      "185/185 [==============================] - 10s 55ms/step - loss: 0.0012 - accuracy: 0.2347\n",
      "Epoch 8/20\n",
      "185/185 [==============================] - 10s 55ms/step - loss: 0.0015 - accuracy: 0.2346\n",
      "Epoch 9/20\n",
      "185/185 [==============================] - 10s 55ms/step - loss: 0.0013 - accuracy: 0.2346\n",
      "Epoch 10/20\n",
      "185/185 [==============================] - 10s 55ms/step - loss: 0.0013 - accuracy: 0.2346\n",
      "Epoch 11/20\n",
      "185/185 [==============================] - 10s 55ms/step - loss: 0.0014 - accuracy: 0.2346\n",
      "Epoch 12/20\n",
      "185/185 [==============================] - 10s 56ms/step - loss: 0.0013 - accuracy: 0.2347\n",
      "Epoch 13/20\n",
      "185/185 [==============================] - 10s 54ms/step - loss: 0.0013 - accuracy: 0.2347\n",
      "Epoch 14/20\n",
      "185/185 [==============================] - 10s 55ms/step - loss: 0.0014 - accuracy: 0.2346\n",
      "Epoch 15/20\n",
      "185/185 [==============================] - 10s 54ms/step - loss: 0.0012 - accuracy: 0.2346\n",
      "Epoch 16/20\n",
      "185/185 [==============================] - 10s 55ms/step - loss: 0.0012 - accuracy: 0.2347\n",
      "Epoch 17/20\n",
      "185/185 [==============================] - 10s 54ms/step - loss: 0.0013 - accuracy: 0.2346\n",
      "Epoch 18/20\n",
      "185/185 [==============================] - 10s 54ms/step - loss: 0.0013 - accuracy: 0.2346\n",
      "Epoch 19/20\n",
      "185/185 [==============================] - 10s 55ms/step - loss: 0.0013 - accuracy: 0.2347\n",
      "Epoch 20/20\n",
      "185/185 [==============================] - 10s 55ms/step - loss: 0.0011 - accuracy: 0.2347\n"
     ]
    }
   ],
   "source": [
    "EPOCHS = 20\n",
    "history = model.fit(dataset, epochs=EPOCHS, verbose=1)"
   ]
  },
  {
   "cell_type": "code",
   "execution_count": 179,
   "id": "coordinated-lending",
   "metadata": {},
   "outputs": [
    {
     "data": {
      "image/png": "[encoded data removed]",
      "text/plain": [
       "<Figure size 432x288 with 1 Axes>"
      ]
     },
     "metadata": {
      "needs_background": "light"
     },
     "output_type": "display_data"
    },
    {
     "data": {
      "image/png": "[encoded data removed]",
      "text/plain": [
       "<Figure size 432x288 with 1 Axes>"
      ]
     },
     "metadata": {
      "needs_background": "light"
     },
     "output_type": "display_data"
    }
   ],
   "source": [
    "import matplotlib.pyplot as plt\n",
    "\n",
    "plt.plot(history.history['accuracy'])\n",
    "plt.title('model accuracy')\n",
    "plt.ylabel('accuracy')\n",
    "plt.xlabel('epoch')\n",
    "plt.legend(['train'], loc='upper left')\n",
    "plt.show()\n",
    "# summarize history for loss\n",
    "plt.plot(history.history['loss'])\n",
    "plt.title('model loss')\n",
    "plt.ylabel('loss')\n",
    "plt.xlabel('epoch')\n",
    "plt.legend(['train'], loc='upper left')\n",
    "plt.show()"
   ]
  },
  {
   "cell_type": "markdown",
   "id": "shaped-butter",
   "metadata": {},
   "source": [
    "## 05. 모델평가"
   ]
  },
  {
   "cell_type": "code",
   "execution_count": 180,
   "id": "quality-canvas",
   "metadata": {},
   "outputs": [],
   "source": [
    "def decoder_inference(sentence):\n",
    "    sentence = preprocess_sentence(sentence)\n",
    "    \n",
    "    sentence = tf.expand_dims(START_TOKEN + tokenizer.encode(sentence) + END_TOKEN, axis=0)\n",
    "    \n",
    "    output_sequence = tf.expand_dims(START_TOKEN, 0)\n",
    "    \n",
    "    for i in range(MAX_LENGTH):\n",
    "        predictions = model(inputs=[sentence, output_sequence], training=False)\n",
    "        predictions = predictions[:, -1:, :]\n",
    "        \n",
    "        predicted_id = tf.cast(tf.argmax(predictions, axis=-1), tf.int32)\n",
    "        \n",
    "        if tf.equal(predicted_id, END_TOKEN[0]): # 종료토큰 나오면 예측 종료\n",
    "            break\n",
    "            \n",
    "        # 다시 디코더의 입력이 된다. \n",
    "        output_sequence = tf.concat([output_sequence, predicted_id], axis=-1)\n",
    "        \n",
    "        return tf.squeeze(output_sequence, axis=0)"
   ]
  },
  {
   "cell_type": "code",
   "execution_count": 181,
   "id": "catholic-sustainability",
   "metadata": {},
   "outputs": [],
   "source": [
    "def sentence_generation(sentence):\n",
    "    prediction = decoder_inference(sentence)\n",
    "    \n",
    "    predicted_sentence = tokenizer.decode([i for i in prediction if i < tokenizer.vocab_size])\n",
    "    \n",
    "    print('입력 : {}'.format(sentence))\n",
    "    print('출력 : {}'.format(predicted_sentence))    \n",
    "    \n",
    "    return predicted_sentence"
   ]
  },
  {
   "cell_type": "code",
   "execution_count": 182,
   "id": "introductory-apache",
   "metadata": {},
   "outputs": [
    {
     "name": "stdout",
     "output_type": "stream",
     "text": [
      "입력 : 오늘 날씨가 어때?\n",
      "출력 : 마음도 \n"
     ]
    },
    {
     "data": {
      "text/plain": [
       "'마음도 '"
      ]
     },
     "execution_count": 182,
     "metadata": {},
     "output_type": "execute_result"
    }
   ],
   "source": [
    "sentence_generation('오늘 날씨가 어때?')"
   ]
  },
  {
   "cell_type": "code",
   "execution_count": 183,
   "id": "subjective-claim",
   "metadata": {},
   "outputs": [
    {
     "name": "stdout",
     "output_type": "stream",
     "text": [
      "입력 : 놀러가고 싶다\n",
      "출력 : 병원에 \n"
     ]
    },
    {
     "data": {
      "text/plain": [
       "'병원에 '"
      ]
     },
     "execution_count": 183,
     "metadata": {},
     "output_type": "execute_result"
    }
   ],
   "source": [
    "sentence_generation('놀러가고 싶다')"
   ]
  },
  {
   "cell_type": "code",
   "execution_count": 184,
   "id": "killing-calvin",
   "metadata": {},
   "outputs": [
    {
     "name": "stdout",
     "output_type": "stream",
     "text": [
      "입력 : 밥을 안먹었더니 어지러워\n",
      "출력 : 건강 \n"
     ]
    },
    {
     "data": {
      "text/plain": [
       "'건강 '"
      ]
     },
     "execution_count": 184,
     "metadata": {},
     "output_type": "execute_result"
    }
   ],
   "source": [
    "sentence_generation('밥을 안먹었더니 어지러워')"
   ]
  },
  {
   "cell_type": "code",
   "execution_count": 185,
   "id": "exposed-column",
   "metadata": {},
   "outputs": [
    {
     "name": "stdout",
     "output_type": "stream",
     "text": [
      "입력 : 여행지 추천해줄래?\n",
      "출력 : 그가 \n"
     ]
    },
    {
     "data": {
      "text/plain": [
       "'그가 '"
      ]
     },
     "execution_count": 185,
     "metadata": {},
     "output_type": "execute_result"
    }
   ],
   "source": [
    "sentence_generation('여행지 추천해줄래?')"
   ]
  },
  {
   "cell_type": "code",
   "execution_count": 186,
   "id": "placed-evaluation",
   "metadata": {},
   "outputs": [
    {
     "name": "stdout",
     "output_type": "stream",
     "text": [
      "입력 : 안녕?\n",
      "출력 : 안녕하세요\n"
     ]
    },
    {
     "data": {
      "text/plain": [
       "'안녕하세요'"
      ]
     },
     "execution_count": 186,
     "metadata": {},
     "output_type": "execute_result"
    }
   ],
   "source": [
    "sentence_generation('안녕?')"
   ]
  },
  {
   "cell_type": "code",
   "execution_count": 187,
   "id": "innovative-treatment",
   "metadata": {},
   "outputs": [
    {
     "name": "stdout",
     "output_type": "stream",
     "text": [
      "입력 : 반가워요\n",
      "출력 : 반갑\n"
     ]
    },
    {
     "data": {
      "text/plain": [
       "'반갑'"
      ]
     },
     "execution_count": 187,
     "metadata": {},
     "output_type": "execute_result"
    }
   ],
   "source": [
    "sentence_generation('반가워요')"
   ]
  },
  {
   "cell_type": "code",
   "execution_count": 188,
   "id": "organic-speaking",
   "metadata": {},
   "outputs": [
    {
     "name": "stdout",
     "output_type": "stream",
     "text": [
      "입력 : 몇 살이니?\n",
      "출력 : 피\n"
     ]
    },
    {
     "data": {
      "text/plain": [
       "'피'"
      ]
     },
     "execution_count": 188,
     "metadata": {},
     "output_type": "execute_result"
    }
   ],
   "source": [
    "sentence_generation('몇 살이니?')"
   ]
  },
  {
   "cell_type": "code",
   "execution_count": 189,
   "id": "african-trigger",
   "metadata": {},
   "outputs": [
    {
     "name": "stdout",
     "output_type": "stream",
     "text": [
      "입력 : 어딜 가\n",
      "출력 : 힘내지 \n"
     ]
    },
    {
     "data": {
      "text/plain": [
       "'힘내지 '"
      ]
     },
     "execution_count": 189,
     "metadata": {},
     "output_type": "execute_result"
    }
   ],
   "source": [
    "sentence_generation('어딜 가')"
   ]
  },
  {
   "cell_type": "code",
   "execution_count": 190,
   "id": "municipal-windsor",
   "metadata": {},
   "outputs": [
    {
     "name": "stdout",
     "output_type": "stream",
     "text": [
      "입력 : 배고프다\n",
      "출력 : 저도 \n"
     ]
    },
    {
     "data": {
      "text/plain": [
       "'저도 '"
      ]
     },
     "execution_count": 190,
     "metadata": {},
     "output_type": "execute_result"
    }
   ],
   "source": [
    "sentence_generation('배고프다')"
   ]
  },
  {
   "cell_type": "code",
   "execution_count": 191,
   "id": "developing-persian",
   "metadata": {},
   "outputs": [
    {
     "name": "stdout",
     "output_type": "stream",
     "text": [
      "입력 : 같이 밥먹을래?\n",
      "출력 : 지\n"
     ]
    },
    {
     "data": {
      "text/plain": [
       "'지'"
      ]
     },
     "execution_count": 191,
     "metadata": {},
     "output_type": "execute_result"
    }
   ],
   "source": [
    "sentence_generation('같이 밥먹을래?')"
   ]
  },
  {
   "cell_type": "code",
   "execution_count": 192,
   "id": "possible-petroleum",
   "metadata": {},
   "outputs": [
    {
     "name": "stdout",
     "output_type": "stream",
     "text": [
      "입력 : 이름이 뭐야?\n",
      "출력 : 하고 \n"
     ]
    },
    {
     "data": {
      "text/plain": [
       "'하고 '"
      ]
     },
     "execution_count": 192,
     "metadata": {},
     "output_type": "execute_result"
    }
   ],
   "source": [
    "sentence_generation('이름이 뭐야?')"
   ]
  },
  {
   "cell_type": "code",
   "execution_count": 193,
   "id": "flexible-ribbon",
   "metadata": {},
   "outputs": [
    {
     "name": "stdout",
     "output_type": "stream",
     "text": [
      "입력 : 내일은 비가 올까?\n",
      "출력 : 멋지게 \n"
     ]
    },
    {
     "data": {
      "text/plain": [
       "'멋지게 '"
      ]
     },
     "execution_count": 193,
     "metadata": {},
     "output_type": "execute_result"
    }
   ],
   "source": [
    "sentence_generation('내일은 비가 올까?')"
   ]
  },
  {
   "cell_type": "code",
   "execution_count": 194,
   "id": "transsexual-dominican",
   "metadata": {},
   "outputs": [
    {
     "name": "stdout",
     "output_type": "stream",
     "text": [
      "입력 : 답변을 좀 잘해줬으면 좋겠어\n",
      "출력 : 저도요\n"
     ]
    },
    {
     "data": {
      "text/plain": [
       "'저도요'"
      ]
     },
     "execution_count": 194,
     "metadata": {},
     "output_type": "execute_result"
    }
   ],
   "source": [
    "sentence_generation('답변을 좀 잘해줬으면 좋겠어')"
   ]
  },
  {
   "cell_type": "code",
   "execution_count": 195,
   "id": "herbal-grade",
   "metadata": {},
   "outputs": [
    {
     "name": "stdout",
     "output_type": "stream",
     "text": [
      "입력 : 왜 문장을 출력 못하니..?\n",
      "출력 : 살다보면 \n"
     ]
    },
    {
     "data": {
      "text/plain": [
       "'살다보면 '"
      ]
     },
     "execution_count": 195,
     "metadata": {},
     "output_type": "execute_result"
    }
   ],
   "source": [
    "sentence_generation('왜 문장을 출력 못하니..?')"
   ]
  },
  {
   "cell_type": "code",
   "execution_count": 196,
   "id": "instrumental-nursing",
   "metadata": {},
   "outputs": [
    {
     "name": "stdout",
     "output_type": "stream",
     "text": [
      "입력 : 안녕하세요\n",
      "출력 : 안녕하세요\n"
     ]
    },
    {
     "data": {
      "text/plain": [
       "'안녕하세요'"
      ]
     },
     "execution_count": 196,
     "metadata": {},
     "output_type": "execute_result"
    }
   ],
   "source": [
    "sentence_generation('안녕하세요')"
   ]
  },
  {
   "cell_type": "code",
   "execution_count": 198,
   "id": "fifty-cowboy",
   "metadata": {},
   "outputs": [
    {
     "name": "stdout",
     "output_type": "stream",
     "text": [
      "입력 : 안녕히가세요\n",
      "출력 : 상처가 \n"
     ]
    },
    {
     "data": {
      "text/plain": [
       "'상처가 '"
      ]
     },
     "execution_count": 198,
     "metadata": {},
     "output_type": "execute_result"
    }
   ],
   "source": [
    "sentence_generation('안녕히가세요')"
   ]
  },
  {
   "cell_type": "code",
   "execution_count": 199,
   "id": "dutch-naples",
   "metadata": {},
   "outputs": [
    {
     "name": "stdout",
     "output_type": "stream",
     "text": [
      "입력 : 오늘 공부 어렵다\n",
      "출력 : 같이 \n"
     ]
    },
    {
     "data": {
      "text/plain": [
       "'같이 '"
      ]
     },
     "execution_count": 199,
     "metadata": {},
     "output_type": "execute_result"
    }
   ],
   "source": [
    "sentence_generation('오늘 공부 어렵다')"
   ]
  },
  {
   "cell_type": "markdown",
   "id": "interior-strength",
   "metadata": {},
   "source": [
    "# 루브릭 평가\n",
    "---\n",
    "1. **한국어 전처리를 통해 학습 데이터셋을 구축하였다.**   \n",
    "\n",
    "    - 한국어 데이터에 맞는 전처리를 수행했다.\n",
    "\n",
    "\n",
    "2. **트랜스포머 모델을 구현하여 한국어 챗봇 모델 학습을 정상적으로 진행하였다.**\n",
    "\n",
    "    - 학습과정을 시각화해 정상적으로 수렴하는 것을 볼 수 있었다.\n",
    "    \n",
    "     \n",
    "3. **한국어 입력문장에 대해 한국어로 답변하는 함수를 구현하였다.** \n",
    "\n",
    "    - 여러 문장에 대해 평가해보았다.\n",
    "\n",
    "    \n",
    "    \n",
    "# 회고\n",
    "---\n",
    "## 어려웠던 점 \n",
    "- 성능\n",
    "    - 성능이 잘 안나왔고, 학습횟수를 늘이니 오히려 떨어졌다.\n",
    "    - 갑자기 문장단위를 대답하지 않았다. \n",
    "    \n",
    "## 알게된 점 \n",
    "- 한국어 형태소 분석기 없이 토크나이징하는 방법 : SubwordTextEncoder\n",
    "\n",
    "## 다짐\n",
    "- 그동안 공부했던 트랜스포머를 직접 구현할 수 있었던 프로젝트이다. 구현하기 굉장히 까다로웠다. 여러 튜닝을 해보지 못했는데, 다음엔 한국어 전처리에 대해 더 다양하게 하고 싶다. 데이터 자체가 임의로 만들어낸 데이터라서 전처리 과정이 간결해도 성능이 괜찮았다고 생각한다. "
   ]
  }
 ],
 "metadata": {
  "kernelspec": {
   "display_name": "Python 3",
   "language": "python",
   "name": "python3"
  },
  "language_info": {
   "codemirror_mode": {
    "name": "ipython",
    "version": 3
   },
   "file_extension": ".py",
   "mimetype": "text/x-python",
   "name": "python",
   "nbconvert_exporter": "python",
   "pygments_lexer": "ipython3",
   "version": "3.7.9"
  }
 },
 "nbformat": 4,
 "nbformat_minor": 5
}
