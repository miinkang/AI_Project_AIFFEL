{
 "cells": [
  {
   "cell_type": "markdown",
   "id": "removable-variety",
   "metadata": {},
   "source": [
    "# [Exploration 15] 한국어 데이터로 챗봇 만들기\n",
    "## 프로젝트 설명 \n",
    "---\n",
    "DCGAN을 이용해 CIFAR-10 이미지를 생선하는 프로젝트\n",
    "\n",
    "\n",
    "## 프로젝트 정리     \n",
    "---        \n",
    "1. 데이터 수집\n",
    "2. 데이터 전처리\n",
    "    - SubwordTextEncoder 사용\n",
    "        - 형태소분석기가 아닌 SubwordTextEncoder를 사용합니다.\n",
    "3. teacher forcing 사용하기 및 데이터셋 구성\n",
    "4. Transformer 모델 구현 및 학습\n",
    "5. 모델 평가 \n",
    "\n",
    "\n",
    "## 프로젝트 목표\n",
    "---\n",
    "- 한국어 데이터 전처리 \n",
    "- SubwordTextEncoder 이해\n",
    "- Transformer 구현\n",
    "\n",
    "\n",
    "## 01. 데이터 다운로드 \n",
    "- 한국어 챗봇 데이터 소스 : [송영숙 님 깃허브](https://github.com/songys/Chatbot_data/blob/master/ChatbotData%20.csv)\n",
    "    - 챗봇 트레이닝용 문답 페어 11,876개\n",
    "    - 일상다반서 0, 이별(부정) 1, 사랑(긍정) 2로 레이블링"
   ]
  },
  {
   "cell_type": "code",
   "execution_count": 155,
   "id": "bright-jungle",
   "metadata": {},
   "outputs": [],
   "source": [
    "import tensorflow as tf\n",
    "import tensorflow_datasets as tfds\n",
    "import os\n",
    "import re\n",
    "import numpy as np\n",
    "import matplotlib.pyplot as plt\n",
    "import pandas as pd"
   ]
  },
  {
   "cell_type": "code",
   "execution_count": 156,
   "id": "satisfied-cookie",
   "metadata": {},
   "outputs": [
    {
     "data": {
      "text/plain": [
       "'/home/aiffel-dj26/aiffel/songys_chatbot/ChatbotData .csv'"
      ]
     },
     "execution_count": 156,
     "metadata": {},
     "output_type": "execute_result"
    }
   ],
   "source": [
    "file_path = os.getenv('HOME')+'/aiffel/songys_chatbot/ChatbotData .csv'  # 주의 ! 파일명에 띄어쓰기가 있어요\n",
    "file_path"
   ]
  },
  {
   "cell_type": "code",
   "execution_count": 157,
   "id": "generic-celebrity",
   "metadata": {},
   "outputs": [
    {
     "data": {
      "text/html": [
       "<div>\n",
       "<style scoped>\n",
       "    .dataframe tbody tr th:only-of-type {\n",
       "        vertical-align: middle;\n",
       "    }\n",
       "\n",
       "    .dataframe tbody tr th {\n",
       "        vertical-align: top;\n",
       "    }\n",
       "\n",
       "    .dataframe thead th {\n",
       "        text-align: right;\n",
       "    }\n",
       "</style>\n",
       "<table border=\"1\" class=\"dataframe\">\n",
       "  <thead>\n",
       "    <tr style=\"text-align: right;\">\n",
       "      <th></th>\n",
       "      <th>Q</th>\n",
       "      <th>A</th>\n",
       "      <th>label</th>\n",
       "    </tr>\n",
       "  </thead>\n",
       "  <tbody>\n",
       "    <tr>\n",
       "      <th>0</th>\n",
       "      <td>12시 땡!</td>\n",
       "      <td>하루가 또 가네요.</td>\n",
       "      <td>0</td>\n",
       "    </tr>\n",
       "    <tr>\n",
       "      <th>1</th>\n",
       "      <td>1지망 학교 떨어졌어</td>\n",
       "      <td>위로해 드립니다.</td>\n",
       "      <td>0</td>\n",
       "    </tr>\n",
       "    <tr>\n",
       "      <th>2</th>\n",
       "      <td>3박4일 놀러가고 싶다</td>\n",
       "      <td>여행은 언제나 좋죠.</td>\n",
       "      <td>0</td>\n",
       "    </tr>\n",
       "    <tr>\n",
       "      <th>3</th>\n",
       "      <td>3박4일 정도 놀러가고 싶다</td>\n",
       "      <td>여행은 언제나 좋죠.</td>\n",
       "      <td>0</td>\n",
       "    </tr>\n",
       "    <tr>\n",
       "      <th>4</th>\n",
       "      <td>PPL 심하네</td>\n",
       "      <td>눈살이 찌푸려지죠.</td>\n",
       "      <td>0</td>\n",
       "    </tr>\n",
       "  </tbody>\n",
       "</table>\n",
       "</div>"
      ],
      "text/plain": [
       "                 Q            A  label\n",
       "0           12시 땡!   하루가 또 가네요.      0\n",
       "1      1지망 학교 떨어졌어    위로해 드립니다.      0\n",
       "2     3박4일 놀러가고 싶다  여행은 언제나 좋죠.      0\n",
       "3  3박4일 정도 놀러가고 싶다  여행은 언제나 좋죠.      0\n",
       "4          PPL 심하네   눈살이 찌푸려지죠.      0"
      ]
     },
     "execution_count": 157,
     "metadata": {},
     "output_type": "execute_result"
    }
   ],
   "source": [
    "data = pd.read_csv(file_path)\n",
    "data.head()"
   ]
  },
  {
   "cell_type": "code",
   "execution_count": 158,
   "id": "checked-nursery",
   "metadata": {},
   "outputs": [
    {
     "data": {
      "text/plain": [
       "11823"
      ]
     },
     "execution_count": 158,
     "metadata": {},
     "output_type": "execute_result"
    }
   ],
   "source": [
    "len(data)"
   ]
  },
  {
   "cell_type": "markdown",
   "id": "plastic-hollywood",
   "metadata": {},
   "source": [
    "**데이터 갯수가 적기때문에 전체를 사용합니다.**\n",
    "\n",
    "- 결측치 확인"
   ]
  },
  {
   "cell_type": "code",
   "execution_count": 159,
   "id": "primary-satin",
   "metadata": {},
   "outputs": [
    {
     "data": {
      "text/plain": [
       "Q        0\n",
       "A        0\n",
       "label    0\n",
       "dtype: int64"
      ]
     },
     "execution_count": 159,
     "metadata": {},
     "output_type": "execute_result"
    }
   ],
   "source": [
    "data.isnull().sum()"
   ]
  },
  {
   "cell_type": "code",
   "execution_count": 160,
   "id": "major-multiple",
   "metadata": {},
   "outputs": [
    {
     "name": "stdout",
     "output_type": "stream",
     "text": [
      "12시 땡!\n",
      "하루가 또 가네요.\n"
     ]
    }
   ],
   "source": [
    "print(data['Q'][0])\n",
    "print(data['A'][0])"
   ]
  },
  {
   "cell_type": "markdown",
   "id": "appreciated-arthur",
   "metadata": {},
   "source": [
    "## 02. 데이터 전처리"
   ]
  },
  {
   "cell_type": "code",
   "execution_count": 161,
   "id": "handed-clerk",
   "metadata": {},
   "outputs": [],
   "source": [
    "def preprocess_sentence(sentence):\n",
    "    sentence = re.sub(r'([?.!,])', r' \\1 ', sentence)\n",
    "    sentence = re.sub(r'[\" \"]+', ' ', sentence)\n",
    "    \n",
    "    sentence = re.sub(r\"[^가-힣?.!,]+\", \" \", sentence)\n",
    "    sentence = sentence.strip()\n",
    "    \n",
    "    return sentence"
   ]
  },
  {
   "cell_type": "code",
   "execution_count": 162,
   "id": "early-posting",
   "metadata": {},
   "outputs": [],
   "source": [
    "def load_conversations():\n",
    "    questions, answers = [], []\n",
    "    for q, a in zip(data['Q'], data['A']):\n",
    "        questions.append(preprocess_sentence(q))\n",
    "        answers.append(preprocess_sentence(a))\n",
    "        \n",
    "        if len(questions) >= len(data):\n",
    "            return questions, answers\n",
    "    return questions, answers"
   ]
  },
  {
   "cell_type": "code",
   "execution_count": 163,
   "id": "understanding-boutique",
   "metadata": {},
   "outputs": [
    {
     "name": "stdout",
     "output_type": "stream",
     "text": [
      "전체 질문 수 : 11823\n",
      "전체 답변 수 : 11823\n"
     ]
    }
   ],
   "source": [
    "questions, answers = load_conversations()\n",
    "print('전체 질문 수 :', len(questions))\n",
    "print('전체 답변 수 :', len(answers))"
   ]
  },
  {
   "cell_type": "markdown",
   "id": "split-virtue",
   "metadata": {},
   "source": [
    "- 문장부호(.!,?)와 단어 사이 띄어쓰기가 잘 되었는지 확인합니다.\n",
    "- 질문과 답변이 병렬로 전처리 되었는지 확인합니다. "
   ]
  },
  {
   "cell_type": "code",
   "execution_count": 164,
   "id": "median-nigeria",
   "metadata": {},
   "outputs": [
    {
     "name": "stdout",
     "output_type": "stream",
     "text": [
      "전처리 후 11번째 질문 샘플: 가끔 궁금해\n",
      "전처리 후 11번째 답변 샘플: 그 사람도 그럴 거예요 .\n"
     ]
    }
   ],
   "source": [
    "print('전처리 후 11번째 질문 샘플: {}'.format(questions[11]))\n",
    "print('전처리 후 11번째 답변 샘플: {}'.format(answers[11]))"
   ]
  },
  {
   "cell_type": "markdown",
   "id": "religious-health",
   "metadata": {},
   "source": [
    "- **단어장** 만들기"
   ]
  },
  {
   "cell_type": "code",
   "execution_count": 165,
   "id": "prescription-henry",
   "metadata": {},
   "outputs": [],
   "source": [
    "tokenizer = tfds.deprecated.text.SubwordTextEncoder.build_from_corpus(questions + answers, target_vocab_size=2**13)"
   ]
  },
  {
   "cell_type": "code",
   "execution_count": 166,
   "id": "intellectual-johnston",
   "metadata": {},
   "outputs": [],
   "source": [
    "START_TOKEN, END_TOKEN = [tokenizer.vocab_size], [tokenizer.vocab_size + 1]"
   ]
  },
  {
   "cell_type": "code",
   "execution_count": 167,
   "id": "meaning-wesley",
   "metadata": {},
   "outputs": [
    {
     "name": "stdout",
     "output_type": "stream",
     "text": [
      "START_TOKEN의 번호: [8127]\n",
      "END_TOKEN의 번호: [8128]\n"
     ]
    }
   ],
   "source": [
    "print('START_TOKEN의 번호:', [tokenizer.vocab_size])\n",
    "print('END_TOKEN의 번호:', [tokenizer.vocab_size + 1])"
   ]
  },
  {
   "cell_type": "code",
   "execution_count": 168,
   "id": "second-deficit",
   "metadata": {},
   "outputs": [
    {
     "name": "stdout",
     "output_type": "stream",
     "text": [
      "8129\n"
     ]
    }
   ],
   "source": [
    "VOCAB_SIZE = tokenizer.vocab_size + 2  # STRAT, END TOKEN 추가 \n",
    "print(VOCAB_SIZE)"
   ]
  },
  {
   "cell_type": "markdown",
   "id": "previous-brake",
   "metadata": {},
   "source": [
    "**tokenizer를 정의하고 vocabulary를 만들었습니다.**\n",
    "\n",
    "- 각 단어를 정수로 인코딩 후 패딩하겠습니다.\n",
    "- tokenizer.encdoe() 사용"
   ]
  },
  {
   "cell_type": "code",
   "execution_count": 169,
   "id": "impaired-screening",
   "metadata": {},
   "outputs": [
    {
     "name": "stdout",
     "output_type": "stream",
     "text": [
      "정수 인코딩 후 11번째 질문 샘플: [685, 747]\n",
      "정수 인코딩 후 11번째 답변 샘플: [63, 517, 139, 3, 1]\n"
     ]
    }
   ],
   "source": [
    "print('정수 인코딩 후 11번째 질문 샘플: {}'.format(tokenizer.encode(questions[11])))\n",
    "print('정수 인코딩 후 11번째 답변 샘플: {}'.format(tokenizer.encode(answers[11])))"
   ]
  },
  {
   "cell_type": "markdown",
   "id": "saved-ballot",
   "metadata": {},
   "source": [
    "- 패딩을 위해 문장의 최대 길이를 설정해야합니다.\n",
    "- 시각화를 통해 길이 분포를 확인하겠습니다."
   ]
  },
  {
   "cell_type": "code",
   "execution_count": 170,
   "id": "juvenile-address",
   "metadata": {},
   "outputs": [
    {
     "name": "stdout",
     "output_type": "stream",
     "text": [
      "16\n",
      "24\n"
     ]
    },
    {
     "data": {
      "text/plain": [
       "Text(0.5, 1.0, 'answer length')"
      ]
     },
     "execution_count": 170,
     "metadata": {},
     "output_type": "execute_result"
    },
    {
     "data": {
      "image/png": "[encoded data removed]",
      "text/plain": [
       "<Figure size 864x360 with 1 Axes>"
      ]
     },
     "metadata": {
      "needs_background": "light"
     },
     "output_type": "display_data"
    },
    {
     "data": {
      "image/png": "[encoded data removed]",
      "text/plain": [
       "<Figure size 864x360 with 1 Axes>"
      ]
     },
     "metadata": {
      "needs_background": "light"
     },
     "output_type": "display_data"
    }
   ],
   "source": [
    "import matplotlib.pyplot as plt \n",
    "\n",
    "question_len = [len(s.split()) for s in questions]\n",
    "answer_len = [len(s.split()) for s in answers]\n",
    "\n",
    "print(max(question_len))\n",
    "print(max(answer_len))\n",
    "\n",
    "plt.figure(figsize=(12, 5))\n",
    "plt.hist(question_len)\n",
    "plt.title('question length')\n",
    "\n",
    "plt.figure(figsize=(12, 5))\n",
    "plt.hist(answer_len)\n",
    "plt.title('answer length')"
   ]
  },
  {
   "cell_type": "markdown",
   "id": "august-leeds",
   "metadata": {},
   "source": [
    "**분포를 확인했으나, 전체 데이터를 사용하기 위해 최대 길이는 30으로 하겠습니다.**"
   ]
  },
  {
   "cell_type": "code",
   "execution_count": 171,
   "id": "favorite-delhi",
   "metadata": {},
   "outputs": [
    {
     "name": "stdout",
     "output_type": "stream",
     "text": [
      "40\n"
     ]
    }
   ],
   "source": [
    "MAX_LENGTH = 40\n",
    "print(MAX_LENGTH)"
   ]
  },
  {
   "cell_type": "code",
   "execution_count": 172,
   "id": "artificial-decision",
   "metadata": {},
   "outputs": [],
   "source": [
    "def tokenize_and_filter(inputs, outputs):\n",
    "    tokenized_inputs, tokenized_outputs = [], []\n",
    "    \n",
    "    for (sentence1, sentence2) in zip(inputs, outputs):\n",
    "        sentence1 = START_TOKEN + tokenizer.encode(sentence1) + END_TOKEN\n",
    "        sentence2 = START_TOKEN + tokenizer.encode(sentence2) + END_TOKEN\n",
    "        \n",
    "        if len(sentence1) <= MAX_LENGTH and len(sentence2) <= MAX_LENGTH:\n",
    "            tokenized_inputs.append(sentence1)\n",
    "            tokenized_outputs.append(sentence2)\n",
    "        \n",
    "    tokenized_inputs = tf.keras.preprocessing.sequence.pad_sequences(tokenized_inputs, maxlen=MAX_LENGTH, padding='post')\n",
    "    tokenized_outputs = tf.keras.preprocessing.sequence.pad_sequences(tokenized_outputs, maxlen=MAX_LENGTH, padding='post')        \n",
    "\n",
    "    return tokenized_inputs, tokenized_outputs"
   ]
  },
  {
   "cell_type": "code",
   "execution_count": 173,
   "id": "expanded-weekly",
   "metadata": {},
   "outputs": [
    {
     "name": "stdout",
     "output_type": "stream",
     "text": [
      "단어장 크기: 8129\n",
      "필터링 후 질문 샘플 개수:11823\n",
      "필터링 후 답변 샘플 개수:11823\n"
     ]
    }
   ],
   "source": [
    "questions, answers = tokenize_and_filter(questions, answers)\n",
    "\n",
    "print('단어장 크기:', (VOCAB_SIZE))\n",
    "print('필터링 후 질문 샘플 개수:{}'.format(len(questions)))\n",
    "print('필터링 후 답변 샘플 개수:{}'.format(len(answers)))"
   ]
  },
  {
   "cell_type": "markdown",
   "id": "listed-armstrong",
   "metadata": {},
   "source": [
    "## 03. teacher forcing(교사강요)사용하기 및 데이터셋 구성\n",
    "- 순차적으로 학습, 예측하는 모델 특성상 잘못된 예측이 그 후 학습, 예측에도 악영향을 주기 때문에 실제 레이블을 입력으로 넣어주는 기법입니다."
   ]
  },
  {
   "cell_type": "code",
   "execution_count": 174,
   "id": "checked-library",
   "metadata": {},
   "outputs": [],
   "source": [
    "BATCH_SIZE = 64\n",
    "BUFFER_SIZE = 20000\n",
    "\n",
    "dataset = tf.data.Dataset.from_tensor_slices((\n",
    "    {'inputs': questions,\n",
    "    'dec_inputs':answers[:, :-1]},\n",
    "    {'outputs': answers[:, 1:]}  # START_TOKEN 제외\n",
    "))\n",
    "\n",
    "dataset = dataset.cache()\n",
    "dataset = dataset.shuffle(BUFFER_SIZE)\n",
    "dataset = dataset.batch(BATCH_SIZE)\n",
    "dataset = dataset.prefetch(tf.data.experimental.AUTOTUNE)"
   ]
  },
  {
   "cell_type": "markdown",
   "id": "trained-accountability",
   "metadata": {},
   "source": [
    "## 04.  Transformer모델 구현 및 학습\n",
    "- 포지셔널 인코딩\n",
    "- 스케일드 닷 프로덕트 어텐션\n",
    "- 멀티헤드 어텐션\n",
    "- 패딩 마스킹 \n",
    "- 룩 어헤드 마스킹 \n",
    "\n",
    "- encoding layer, encoder\n",
    "- decoding layer, decoder\n",
    "\n",
    "- transformer"
   ]
  },
  {
   "cell_type": "code",
   "execution_count": 175,
   "id": "characteristic-herald",
   "metadata": {},
   "outputs": [],
   "source": [
    "class PositionalEncoding(tf.keras.layers.Layer):\n",
    "    \n",
    "    def __init__(self, position, d_model):\n",
    "        super(PositionalEncoding, self).__init__()\n",
    "        self.pos_encoding = self.positional_encoding(position, d_model)\n",
    "        \n",
    "    def get_angles(self, position, i, d_model):\n",
    "        angles = 1/tf.pow(10000, (2* (i//2))/ tf.cast(d_model, tf.float32))\n",
    "        return position * angles\n",
    "    \n",
    "    def positional_encoding(self, position, d_model):\n",
    "        angle_rads = self.get_angles(position=tf.range(position, dtype=tf.float32)[:, tf.newaxis],\n",
    "                                    i=tf.range(d_model, dtype=tf.float32)[tf.newaxis, :],\n",
    "                                    d_model=d_model)\n",
    "        sines = tf.math.sin(angle_rads[:, 0::2]) # 짝수 인덱스\n",
    "        cosines = tf.math.cos(angle_rads[:, 1::2]) # 홀수 인덱스\n",
    "        \n",
    "        pos_encoding = tf.concat([sines, cosines], axis= -1)\n",
    "        pos_encoding = pos_encoding[tf.newaxis, ...]\n",
    "        \n",
    "        return tf.cast(pos_encoding, tf.float32)\n",
    "    \n",
    "    def call(self, inputs):\n",
    "        return inputs + self.pos_encoding[:, :tf.shape(inputs)[1], :]"
   ]
  },
  {
   "cell_type": "code",
   "execution_count": 176,
   "id": "generic-butter",
   "metadata": {},
   "outputs": [
    {
     "data": {
      "image/png": "[encoded data removed]",
      "text/plain": [
       "<Figure size 432x288 with 2 Axes>"
      ]
     },
     "metadata": {
      "needs_background": "light"
     },
     "output_type": "display_data"
    }
   ],
   "source": [
    "sample_pos_encoding = PositionalEncoding(50, 512)\n",
    "\n",
    "plt.pcolormesh(sample_pos_encoding.pos_encoding.numpy()[0], cmap='RdBu')\n",
    "plt.xlabel('Depth')\n",
    "plt.xlim((0, 512))\n",
    "plt.ylabel('Position')\n",
    "plt.colorbar()\n",
    "plt.show()"
   ]
  },
  {
   "cell_type": "code",
   "execution_count": 177,
   "id": "several-oxygen",
   "metadata": {},
   "outputs": [],
   "source": [
    "def scaled_dot_product_attention(query, key, value, mask):\n",
    "    matmul_qk = tf.matmul(query, key, transpose_b=True)\n",
    "    \n",
    "    depth = tf.cast(tf.shape(key)[-1], tf.float32)\n",
    "    logits = matmul_qk / tf.math.sqrt(depth)\n",
    "    \n",
    "    if mask is not None:\n",
    "        logits += (mask * - 1e9)\n",
    "    \n",
    "    attention_weights = tf.nn.softmax(logits, axis=-1)\n",
    "    output = tf.matmul(attention_weights, value)\n",
    "    \n",
    "    return output"
   ]
  },
  {
   "cell_type": "code",
   "execution_count": 178,
   "id": "minor-sussex",
   "metadata": {},
   "outputs": [],
   "source": [
    "class MultiHeadAttention(tf.keras.layers.Layer):\n",
    "    \n",
    "    def __init__(self, d_model, num_heads, name='multi_head_attention'):\n",
    "        super(MultiHeadAttention, self).__init__(name=name)\n",
    "        self.num_heads = num_heads\n",
    "        self.d_model = d_model\n",
    "        \n",
    "        assert d_model % self.num_heads == 0 \n",
    "        \n",
    "        self.depth = d_model // self.num_heads\n",
    "        \n",
    "        self.query_dense = tf.keras.layers.Dense(units=d_model)\n",
    "        self.key_dense = tf.keras.layers.Dense(units=d_model)\n",
    "        self.value_dense = tf.keras.layers.Dense(units=d_model)\n",
    "        \n",
    "        self.dense = tf.keras.layers.Dense(units=d_model)\n",
    "    \n",
    "    def split_heads(self, inputs, batch_size):\n",
    "        inputs = tf.reshape(inputs, shape=(batch_size, -1, self.num_heads, self.depth))\n",
    "        return tf.transpose(inputs, perm=[0, 2, 1, 3])\n",
    "    \n",
    "    def call(self, inputs):\n",
    "        query, key, value, mask = inputs['query'], inputs['key'], inputs['value'], inputs['mask']\n",
    "        batch_size = tf.shape(query)[0]\n",
    "        \n",
    "        query = self.query_dense(query)\n",
    "        key = self.key_dense(key)\n",
    "        value = self.value_dense(value)\n",
    "        \n",
    "        query = self.split_heads(query, batch_size)\n",
    "        key = self.split_heads(key, batch_size)\n",
    "        value = self.split_heads(value, batch_size)\n",
    "        \n",
    "        scaled_attention = scaled_dot_product_attention(query, key, value, mask)\n",
    "        scaled_attention = tf.transpose(scaled_attention, perm=[0, 2, 1, 3])\n",
    "        \n",
    "        concat_attention = tf.reshape(scaled_attention, (batch_size, -1, self.d_model))\n",
    "        \n",
    "        outputs = self.dense(concat_attention)\n",
    "        \n",
    "        return outputs"
   ]
  },
  {
   "cell_type": "code",
   "execution_count": 179,
   "id": "collect-sally",
   "metadata": {},
   "outputs": [],
   "source": [
    "def create_padding_mask(x):\n",
    "    mask = tf.cast(tf.math.equal(x, 0), tf.float32)\n",
    "    return mask[:, tf.newaxis, tf.newaxis, :] # [batch_size, 1, 1, sequence_length]"
   ]
  },
  {
   "cell_type": "code",
   "execution_count": 180,
   "id": "daily-turtle",
   "metadata": {},
   "outputs": [
    {
     "name": "stdout",
     "output_type": "stream",
     "text": [
      "tf.Tensor(\n",
      "[[[[0. 0. 1. 0. 1.]]]\n",
      "\n",
      "\n",
      " [[[1. 1. 1. 0. 0.]]]], shape=(2, 1, 1, 5), dtype=float32)\n"
     ]
    }
   ],
   "source": [
    "print(create_padding_mask(tf.constant([[1, 2, 0, 3, 0], [0, 0, 0, 4, 5]])))"
   ]
  },
  {
   "cell_type": "markdown",
   "id": "hourly-purchase",
   "metadata": {},
   "source": [
    "**0인 부분을 1로 표시합니다.**"
   ]
  },
  {
   "cell_type": "code",
   "execution_count": 181,
   "id": "loving-junior",
   "metadata": {},
   "outputs": [],
   "source": [
    "def create_look_ahead_mask(x):\n",
    "    seq_len = tf.shape(x)[1]\n",
    "    look_ahead_mask = 1 - tf.linalg.band_part(tf.ones((seq_len, seq_len)), -1, 0)\n",
    "    padding_mask = create_padding_mask(x)\n",
    "    return tf.maximum(look_ahead_mask, padding_mask)"
   ]
  },
  {
   "cell_type": "code",
   "execution_count": 182,
   "id": "legitimate-enclosure",
   "metadata": {},
   "outputs": [
    {
     "name": "stdout",
     "output_type": "stream",
     "text": [
      "tf.Tensor(\n",
      "[[[[0. 1. 1. 1. 1.]\n",
      "   [0. 0. 1. 1. 1.]\n",
      "   [0. 0. 0. 1. 1.]\n",
      "   [0. 0. 0. 0. 1.]\n",
      "   [0. 0. 0. 0. 0.]]]], shape=(1, 1, 5, 5), dtype=float32)\n"
     ]
    }
   ],
   "source": [
    "print(create_look_ahead_mask(tf.constant([[1, 2, 3, 4, 5]])))"
   ]
  },
  {
   "cell_type": "code",
   "execution_count": 183,
   "id": "hollow-neighborhood",
   "metadata": {},
   "outputs": [
    {
     "name": "stdout",
     "output_type": "stream",
     "text": [
      "tf.Tensor(\n",
      "[[[[1. 1. 1. 1. 1.]\n",
      "   [1. 0. 1. 1. 1.]\n",
      "   [1. 0. 0. 1. 1.]\n",
      "   [1. 0. 0. 0. 1.]\n",
      "   [1. 0. 0. 0. 0.]]]], shape=(1, 1, 5, 5), dtype=float32)\n"
     ]
    }
   ],
   "source": [
    "print(create_look_ahead_mask(tf.constant([[0, 5, 1, 5, 5]])))"
   ]
  },
  {
   "cell_type": "markdown",
   "id": "simplified-physics",
   "metadata": {},
   "source": [
    "**0이 있으면 패딩까지 하는 것을 볼 수 있습니다.**"
   ]
  },
  {
   "cell_type": "code",
   "execution_count": 184,
   "id": "friendly-pixel",
   "metadata": {},
   "outputs": [],
   "source": [
    "def encoder_layer(units, d_model, num_heads, dropout, name='encoder_layer'):\n",
    "    inputs = tf.keras.Input(shape=(None, d_model), name='inputs')\n",
    "    \n",
    "    padding_mask = tf.keras.Input(shape=(1, 1, None), name='padding_mask')\n",
    "    \n",
    "    attention = MultiHeadAttention(d_model, num_heads, name='attention')({\n",
    "        'query':inputs, 'key':inputs, 'value':inputs, 'mask':padding_mask\n",
    "    })\n",
    "    \n",
    "    attention = tf.keras.layers.Dropout(rate=dropout)(attention)\n",
    "    attention = tf.keras.layers.LayerNormalization(epsilon=1e-6)(inputs + attention)\n",
    "    \n",
    "    outputs = tf.keras.layers.Dense(units=units, activation='relu')(attention)\n",
    "    outputs = tf.keras.layers.Dense(units=d_model)(outputs)\n",
    "    \n",
    "    outputs = tf.keras.layers.Dropout(rate=dropout)(outputs)\n",
    "    outputs = tf.keras.layers.LayerNormalization(epsilon=1e-6)(attention + outputs)\n",
    "    \n",
    "    return tf.keras.Model(inputs=[inputs, padding_mask], outputs=outputs, name=name)"
   ]
  },
  {
   "cell_type": "code",
   "execution_count": 185,
   "id": "supreme-active",
   "metadata": {},
   "outputs": [],
   "source": [
    "def encoder(vocab_size, num_layers, units, d_model, num_heads, dropout, name='encoder'):\n",
    "    inputs = tf.keras.Input(shape=(None,), name='inputs')\n",
    "    \n",
    "    padding_mask = tf.keras.Input(shape=(1, 1, None), name='padding_mask')\n",
    "    \n",
    "    embeddings = tf.keras.layers.Embedding(vocab_size, d_model)(inputs)\n",
    "    embeddings *= tf.math.sqrt(tf.cast(d_model, tf.float32))\n",
    "                                \n",
    "    embeddings = PositionalEncoding(vocab_size, d_model)(embeddings)\n",
    "                                \n",
    "    outputs = tf.keras.layers.Dropout(rate=dropout)(embeddings)\n",
    "                                \n",
    "    for i in range(num_layers):\n",
    "        outputs = encoder_layer(units=units, d_model=d_model, num_heads=num_heads, dropout=dropout, name='encoder_layer_{}'.format(i),)([outputs, padding_mask])\n",
    "    \n",
    "    return tf.keras.Model(inputs=[inputs, padding_mask], outputs=outputs, name=name)\n",
    "                                "
   ]
  },
  {
   "cell_type": "code",
   "execution_count": 186,
   "id": "exempt-tokyo",
   "metadata": {},
   "outputs": [],
   "source": [
    "def decoder_layer(units, d_model, num_heads, dropout, name='decoder_layer'):\n",
    "    inputs = tf.keras.Input(shape=(None, d_model), name='inputs')\n",
    "    enc_outputs = tf.keras.Input(shape=(None, d_model), name='encoder_outputs')\n",
    "    look_ahead_mask = tf.keras.Input(shape=(1, None, None), name='look_ahead_mask')\n",
    "    padding_mask = tf.keras.Input(shape=(1, 1, None), name='padding_mask')\n",
    "    \n",
    "    attention1 = MultiHeadAttention(d_model, num_heads, name='attention_1')(inputs={\n",
    "        'query':inputs, 'key':inputs, 'value':inputs, 'mask':look_ahead_mask\n",
    "    })\n",
    "    attention1 = tf.keras.layers.LayerNormalization(epsilon=1e-6)(attention1 + inputs)\n",
    "    \n",
    "    attention2 = MultiHeadAttention(d_model, num_heads, name='attention_2')(inputs={\n",
    "        'query':attention1, 'key':enc_outputs, 'value':enc_outputs, 'mask':padding_mask\n",
    "    })\n",
    "    attention2 = tf.keras.layers.Dropout(rate=dropout)(attention2)\n",
    "    attention2 = tf.keras.layers.LayerNormalization(epsilon=1e-6)(attention2 + attention1)\n",
    "    \n",
    "    outputs = tf.keras.layers.Dense(units=units, activation='relu')(attention2)\n",
    "    outputs = tf.keras.layers.Dense(units=d_model)(outputs)\n",
    "    \n",
    "    outputs = tf.keras.layers.Dropout(rate=dropout)(outputs)\n",
    "    outputs = tf.keras.layers.LayerNormalization(epsilon=1e-6)(outputs + attention2)\n",
    "    \n",
    "    return tf.keras.Model(inputs=[inputs, enc_outputs, look_ahead_mask, padding_mask], outputs=outputs, name=name)"
   ]
  },
  {
   "cell_type": "code",
   "execution_count": 187,
   "id": "heated-economy",
   "metadata": {},
   "outputs": [],
   "source": [
    "def decoder(vocab_size, num_layers, units, d_model,num_heads, dropout, name='decoder'):\n",
    "    inputs = tf.keras.Input(shape=(None,), name='inputs')\n",
    "    enc_outputs = tf.keras.Input(shape=(None, d_model), name='encoder_outputs')\n",
    "    look_ahead_mask = tf.keras.Input(shape=(1, None, None), name='look_ahead_mask')\n",
    "    \n",
    "    padding_mask = tf.keras.Input(shape=(1, 1, None), name='padding_mask')\n",
    "    \n",
    "    embeddings = tf.keras.layers.Embedding(vocab_size, d_model)(inputs)\n",
    "    embeddings *= tf.math.sqrt(tf.cast(d_model, tf.float32))\n",
    "    \n",
    "    embeddings = PositionalEncoding(vocab_size, d_model)(embeddings)\n",
    "    \n",
    "    outputs = tf.keras.layers.Dropout(rate=dropout)(embeddings)\n",
    "    \n",
    "    for i in range(num_layers):\n",
    "        outputs = decoder_layer(units=units, d_model=d_model, num_heads=num_heads, dropout=dropout, name='decoder_layer_{}'.format(i),)(inputs=[outputs, enc_outputs, look_ahead_mask, padding_mask])\n",
    "    \n",
    "    return tf.keras.Model(inputs=[inputs, enc_outputs, look_ahead_mask, padding_mask], outputs=outputs, name=name)"
   ]
  },
  {
   "cell_type": "code",
   "execution_count": 188,
   "id": "neural-preparation",
   "metadata": {},
   "outputs": [],
   "source": [
    "def transformer(vocab_size, num_layers,\n",
    "               units, d_model, num_heads, dropout, name='transformer'):\n",
    "    inputs = tf.keras.Input(shape=(None,), name='inputs')\n",
    "    dec_inputs = tf.keras.Input(shape=(None,), name='dec_inputs')\n",
    "    # encoder에서 패딩 마스크\n",
    "    enc_padding_mask = tf.keras.layers.Lambda(create_padding_mask, output_shape=(1, 1, None), name='enc_padding_mask')(inputs)\n",
    "    # decoder에서 미래 토큰 마스크, 패딩 마스크\n",
    "    look_ahead_mask = tf.keras.layers.Lambda(create_look_ahead_mask, output_shape=(1, None, None), name='look_ahead_mask')(dec_inputs)\n",
    "    # 두번째 어텐션 블록에서 encoder의 벡터들을 마스킹, decoder에서 패딩 마스크\n",
    "    dec_padding_mask = tf.keras.layers.Lambda(create_padding_mask, output_shape=(1, 1, None), name='dec_padding_mask')(inputs)\n",
    "    \n",
    "    # encoder\n",
    "    enc_outputs = encoder(vocab_size=vocab_size, num_layers=num_layers, units=units, d_model=d_model, num_heads=num_heads, dropout=dropout)(inputs=[inputs, enc_padding_mask])\n",
    "    # decoder\n",
    "    dec_outputs = decoder(vocab_size=vocab_size, num_layers=num_layers, units=units, d_model=d_model, num_heads=num_heads, dropout=dropout)(inputs=[dec_inputs, enc_outputs, look_ahead_mask, dec_padding_mask])\n",
    "    \n",
    "    # dense layer\n",
    "    outputs = tf.keras.layers.Dense(units=vocab_size, name='outputs')(dec_outputs)\n",
    "    \n",
    "    return tf.keras.Model(inputs=[inputs, dec_inputs], outputs=outputs, name=name)"
   ]
  },
  {
   "cell_type": "code",
   "execution_count": 189,
   "id": "senior-fashion",
   "metadata": {},
   "outputs": [
    {
     "name": "stdout",
     "output_type": "stream",
     "text": [
      "Model: \"transformer\"\n",
      "__________________________________________________________________________________________________\n",
      "Layer (type)                    Output Shape         Param #     Connected to                     \n",
      "==================================================================================================\n",
      "inputs (InputLayer)             [(None, None)]       0                                            \n",
      "__________________________________________________________________________________________________\n",
      "dec_inputs (InputLayer)         [(None, None)]       0                                            \n",
      "__________________________________________________________________________________________________\n",
      "enc_padding_mask (Lambda)       (None, 1, 1, None)   0           inputs[0][0]                     \n",
      "__________________________________________________________________________________________________\n",
      "encoder (Model)                 (None, None, 256)    3135232     inputs[0][0]                     \n",
      "                                                                 enc_padding_mask[0][0]           \n",
      "__________________________________________________________________________________________________\n",
      "look_ahead_mask (Lambda)        (None, 1, None, None 0           dec_inputs[0][0]                 \n",
      "__________________________________________________________________________________________________\n",
      "dec_padding_mask (Lambda)       (None, 1, 1, None)   0           inputs[0][0]                     \n",
      "__________________________________________________________________________________________________\n",
      "decoder (Model)                 (None, None, 256)    3662592     dec_inputs[0][0]                 \n",
      "                                                                 encoder[1][0]                    \n",
      "                                                                 look_ahead_mask[0][0]            \n",
      "                                                                 dec_padding_mask[0][0]           \n",
      "__________________________________________________________________________________________________\n",
      "outputs (Dense)                 (None, None, 8129)   2089153     decoder[1][0]                    \n",
      "==================================================================================================\n",
      "Total params: 8,886,977\n",
      "Trainable params: 8,886,977\n",
      "Non-trainable params: 0\n",
      "__________________________________________________________________________________________________\n"
     ]
    }
   ],
   "source": [
    "tf.keras.backend.clear_session()\n",
    "\n",
    "NUM_LAYERS = 2  # encoder, decoder의 층 개수\n",
    "D_MODEL = 256   # encoder, decoder 내부의 입/출력 고정 차원\n",
    "NUM_HEADS = 8   # 멀티 헤드 어텐션의 헤드 수 \n",
    "UNITS = 512     # feed forward 신경망 은닉층의 크기\n",
    "DROPOUT = 0.1\n",
    "\n",
    "model = transformer(vocab_size=VOCAB_SIZE, \n",
    "                   num_layers=NUM_LAYERS,\n",
    "                   d_model=D_MODEL,\n",
    "                   num_heads=NUM_HEADS,\n",
    "                   units=UNITS,\n",
    "                   dropout=DROPOUT)\n",
    "\n",
    "model.summary()"
   ]
  },
  {
   "cell_type": "markdown",
   "id": "piano-arnold",
   "metadata": {},
   "source": [
    "- loss function 구현"
   ]
  },
  {
   "cell_type": "code",
   "execution_count": 190,
   "id": "frank-ending",
   "metadata": {},
   "outputs": [],
   "source": [
    "def loss_function(y_true, y_pred):\n",
    "    y_true = tf.reshape(y_true, shape=(-1, MAX_LENGTH-1))\n",
    "    \n",
    "    loss = tf.keras.losses.SparseCategoricalCrossentropy(from_logits=True, reduction='none')(y_true, y_pred)\n",
    "    \n",
    "    mask = tf.cast(tf.not_equal(y_true, 0), tf.float32)\n",
    "    loss = tf.multiply(loss, mask)\n",
    "    \n",
    "    return tf.reduce_mean(loss)"
   ]
  },
  {
   "cell_type": "markdown",
   "id": "monthly-helping",
   "metadata": {},
   "source": [
    "- Custom Learning rate Scheduling(커스텀 학습률 스케쥴링)\n",
    "    - learning rate를 급격히 높였다가 서서히 낮추어 안정적으로 수렴하게 하는 기법"
   ]
  },
  {
   "cell_type": "code",
   "execution_count": 191,
   "id": "behavioral-august",
   "metadata": {},
   "outputs": [],
   "source": [
    "class CustomSchedule(tf.keras.optimizers.schedules.LearningRateSchedule):\n",
    "    \n",
    "    def __init__(self, d_model, warmup_steps=4000):\n",
    "        super(CustomSchedule, self).__init__()\n",
    "        \n",
    "        self.d_model = d_model\n",
    "        self.d_model = tf.cast(self.d_model, tf.float32)\n",
    "        \n",
    "        self.warmup_steps = warmup_steps\n",
    "        \n",
    "    def __call__(self, step):\n",
    "        arg1 = tf.math.rsqrt(step)\n",
    "        arg2 = step * (self.warmup_steps**-1.5)\n",
    "        \n",
    "        return tf.math.rsqrt(self.d_model) * tf.math.minimum(arg1, arg2)"
   ]
  },
  {
   "cell_type": "code",
   "execution_count": 192,
   "id": "reduced-arkansas",
   "metadata": {},
   "outputs": [
    {
     "data": {
      "text/plain": [
       "Text(0.5, 0, 'Train Step')"
      ]
     },
     "execution_count": 192,
     "metadata": {},
     "output_type": "execute_result"
    },
    {
     "data": {
      "image/png": "[encoded data removed]",
      "text/plain": [
       "<Figure size 432x288 with 1 Axes>"
      ]
     },
     "metadata": {
      "needs_background": "light"
     },
     "output_type": "display_data"
    }
   ],
   "source": [
    "sample_learning_rate = CustomSchedule(d_model=128)\n",
    "\n",
    "plt.plot(sample_learning_rate(tf.range(200000, dtype=tf.float32)))\n",
    "plt.ylabel('Learning Rate')\n",
    "plt.xlabel('Train Step')"
   ]
  },
  {
   "cell_type": "code",
   "execution_count": 193,
   "id": "numerous-macedonia",
   "metadata": {},
   "outputs": [],
   "source": [
    "learning_rate = CustomSchedule(D_MODEL)\n",
    "\n",
    "optimizer = tf.keras.optimizers.Adam(learning_rate, beta_1=0.9, beta_2=0.98, epsilon=1e-9)\n",
    "\n",
    "def accuracy(y_true, y_pred):\n",
    "    y_true = tf.reshape(y_true, shape=(-1, MAX_LENGTH -1))\n",
    "    return tf.keras.metrics.sparse_categorical_accuracy(y_true, y_pred)\n",
    "\n",
    "model.compile(optimizer=optimizer, loss=loss_function, metrics=[accuracy])"
   ]
  },
  {
   "cell_type": "code",
   "execution_count": 194,
   "id": "needed-vegetation",
   "metadata": {
    "scrolled": false
   },
   "outputs": [
    {
     "name": "stdout",
     "output_type": "stream",
     "text": [
      "Epoch 1/20\n",
      "185/185 [==============================] - 12s 66ms/step - loss: 1.4478 - accuracy: 0.0290\n",
      "Epoch 2/20\n",
      "185/185 [==============================] - 12s 66ms/step - loss: 1.1752 - accuracy: 0.0494\n",
      "Epoch 3/20\n",
      "185/185 [==============================] - 12s 66ms/step - loss: 1.0033 - accuracy: 0.0505\n",
      "Epoch 4/20\n",
      "185/185 [==============================] - 12s 66ms/step - loss: 0.9263 - accuracy: 0.0545\n",
      "Epoch 5/20\n",
      "185/185 [==============================] - 12s 67ms/step - loss: 0.8682 - accuracy: 0.0577\n",
      "Epoch 6/20\n",
      "185/185 [==============================] - 12s 67ms/step - loss: 0.8077 - accuracy: 0.0619\n",
      "Epoch 7/20\n",
      "185/185 [==============================] - 13s 68ms/step - loss: 0.7416 - accuracy: 0.0679\n",
      "Epoch 8/20\n",
      "185/185 [==============================] - 12s 67ms/step - loss: 0.6680 - accuracy: 0.0757\n",
      "Epoch 9/20\n",
      "185/185 [==============================] - 12s 67ms/step - loss: 0.5893 - accuracy: 0.0842\n",
      "Epoch 10/20\n",
      "185/185 [==============================] - 12s 67ms/step - loss: 0.5082 - accuracy: 0.0937\n",
      "Epoch 11/20\n",
      "185/185 [==============================] - 13s 68ms/step - loss: 0.4263 - accuracy: 0.1038\n",
      "Epoch 12/20\n",
      "185/185 [==============================] - 13s 68ms/step - loss: 0.3464 - accuracy: 0.1147\n",
      "Epoch 13/20\n",
      "185/185 [==============================] - 13s 68ms/step - loss: 0.2722 - accuracy: 0.1255\n",
      "Epoch 14/20\n",
      "185/185 [==============================] - 13s 68ms/step - loss: 0.2074 - accuracy: 0.1358\n",
      "Epoch 15/20\n",
      "185/185 [==============================] - 13s 69ms/step - loss: 0.1536 - accuracy: 0.1447\n",
      "Epoch 16/20\n",
      "185/185 [==============================] - 13s 70ms/step - loss: 0.1112 - accuracy: 0.1526\n",
      "Epoch 17/20\n",
      "185/185 [==============================] - 13s 68ms/step - loss: 0.0824 - accuracy: 0.1578\n",
      "Epoch 18/20\n",
      "185/185 [==============================] - 13s 68ms/step - loss: 0.0630 - accuracy: 0.1614\n",
      "Epoch 19/20\n",
      "185/185 [==============================] - 13s 68ms/step - loss: 0.0520 - accuracy: 0.1633\n",
      "Epoch 20/20\n",
      "185/185 [==============================] - 13s 68ms/step - loss: 0.0462 - accuracy: 0.1643\n"
     ]
    }
   ],
   "source": [
    "EPOCHS = 20\n",
    "history = model.fit(dataset, epochs=EPOCHS, verbose=1)"
   ]
  },
  {
   "cell_type": "code",
   "execution_count": 212,
   "id": "urban-understanding",
   "metadata": {},
   "outputs": [
    {
     "data": {
      "image/png": "[encoded data removed]",
      "text/plain": [
       "<Figure size 432x288 with 1 Axes>"
      ]
     },
     "metadata": {
      "needs_background": "light"
     },
     "output_type": "display_data"
    },
    {
     "data": {
      "image/png": "[encoded data removed]",
      "text/plain": [
       "<Figure size 432x288 with 1 Axes>"
      ]
     },
     "metadata": {
      "needs_background": "light"
     },
     "output_type": "display_data"
    }
   ],
   "source": [
    "import matplotlib.pyplot as plt\n",
    "\n",
    "plt.plot(history.history['accuracy'])\n",
    "plt.title('model accuracy')\n",
    "plt.ylabel('accuracy')\n",
    "plt.xlabel('epoch')\n",
    "plt.legend(['train'], loc='upper left')\n",
    "plt.show()\n",
    "# summarize history for loss\n",
    "plt.plot(history.history['loss'])\n",
    "plt.title('model loss')\n",
    "plt.ylabel('loss')\n",
    "plt.xlabel('epoch')\n",
    "plt.legend(['train'], loc='upper left')\n",
    "plt.show()"
   ]
  },
  {
   "cell_type": "markdown",
   "id": "enclosed-basis",
   "metadata": {},
   "source": [
    "## 05. 모델평가"
   ]
  },
  {
   "cell_type": "code",
   "execution_count": 232,
   "id": "foreign-amendment",
   "metadata": {},
   "outputs": [],
   "source": [
    "def decoder_inference(sentence):\n",
    "    sentence = preprocess_sentence(sentence)\n",
    "    \n",
    "    sentence = tf.expand_dims(START_TOKEN + tokenizer.encode(sentence) + END_TOKEN, axis=0)\n",
    "    \n",
    "    output_sequence = tf.expand_dims(START_TOKEN, 0)\n",
    "    \n",
    "    for i in range(MAX_LENGTH):\n",
    "        predictions = model(inputs=[sentence, output_sequence], training=False)\n",
    "        predictions = predictions[:, -1:, :]\n",
    "        \n",
    "        predicted_id = tf.cast(tf.argmax(predictions, axis=-1), tf.int32)\n",
    "        \n",
    "        if tf.equal(predicted_id, END_TOKEN[0]): # 종료토큰 나오면 예측 종료\n",
    "            break\n",
    "            \n",
    "        # 다시 디코더의 입력이 된다. \n",
    "        output_sequence = tf.concat([output_sequence, predicted_id], axis=-1)\n",
    "        \n",
    "    return tf.squeeze(output_sequence, axis=0)"
   ]
  },
  {
   "cell_type": "code",
   "execution_count": 233,
   "id": "determined-school",
   "metadata": {},
   "outputs": [],
   "source": [
    "def sentence_generation(sentence):\n",
    "    prediction = decoder_inference(sentence)\n",
    "    predicted_sentence = tokenizer.decode([i for i in prediction if i < tokenizer.vocab_size])\n",
    "    \n",
    "    print('입력 : {}'.format(sentence))\n",
    "    print('출력 : {}'.format(predicted_sentence))    \n",
    "    \n",
    "    return predicted_sentence"
   ]
  },
  {
   "cell_type": "code",
   "execution_count": 234,
   "id": "large-awareness",
   "metadata": {},
   "outputs": [
    {
     "name": "stdout",
     "output_type": "stream",
     "text": [
      "tf.Tensor([8127  394 2874 7903 2607    1], shape=(6,), dtype=int32)\n",
      "입력 : 오늘 날씨가 어때?\n",
      "출력 : 그래도 웃어 보아요 .\n"
     ]
    },
    {
     "data": {
      "text/plain": [
       "'그래도 웃어 보아요 .'"
      ]
     },
     "execution_count": 234,
     "metadata": {},
     "output_type": "execute_result"
    }
   ],
   "source": [
    "sentence_generation('오늘 날씨가 어때?')"
   ]
  },
  {
   "cell_type": "code",
   "execution_count": 236,
   "id": "retired-water",
   "metadata": {},
   "outputs": [
    {
     "name": "stdout",
     "output_type": "stream",
     "text": [
      "tf.Tensor([8127 1841   45 1141    3    1], shape=(6,), dtype=int32)\n",
      "입력 : 힘들어\n",
      "출력 : 언젠가 다 잊을 거예요 .\n"
     ]
    },
    {
     "data": {
      "text/plain": [
       "'언젠가 다 잊을 거예요 .'"
      ]
     },
     "execution_count": 236,
     "metadata": {},
     "output_type": "execute_result"
    }
   ],
   "source": [
    "sentence_generation('힘들어')"
   ]
  },
  {
   "cell_type": "code",
   "execution_count": 237,
   "id": "suited-association",
   "metadata": {},
   "outputs": [
    {
     "name": "stdout",
     "output_type": "stream",
     "text": [
      "tf.Tensor([8127   90 7434 7903    4 2008  230  146    1], shape=(9,), dtype=int32)\n",
      "입력 : 위로해줘\n",
      "출력 : 제가 도와드릴 수 있을거라 생각해요 .\n"
     ]
    },
    {
     "data": {
      "text/plain": [
       "'제가 도와드릴 수 있을거라 생각해요 .'"
      ]
     },
     "execution_count": 237,
     "metadata": {},
     "output_type": "execute_result"
    }
   ],
   "source": [
    "sentence_generation('위로해줘')"
   ]
  },
  {
   "cell_type": "code",
   "execution_count": 238,
   "id": "trained-ethics",
   "metadata": {},
   "outputs": [
    {
     "name": "stdout",
     "output_type": "stream",
     "text": [
      "tf.Tensor([8127   56 1042  284  265 3054    1], shape=(7,), dtype=int32)\n",
      "입력 : 야 왜그래 진짜\n",
      "출력 : 이제 내려올 때가 됐어요 .\n"
     ]
    },
    {
     "data": {
      "text/plain": [
       "'이제 내려올 때가 됐어요 .'"
      ]
     },
     "execution_count": 238,
     "metadata": {},
     "output_type": "execute_result"
    }
   ],
   "source": [
    "sentence_generation('야 왜그래 진짜')"
   ]
  },
  {
   "cell_type": "code",
   "execution_count": 239,
   "id": "weekly-harvard",
   "metadata": {},
   "outputs": [
    {
     "name": "stdout",
     "output_type": "stream",
     "text": [
      "tf.Tensor([8127 3349  829 5493  982    1], shape=(6,), dtype=int32)\n",
      "입력 : 병원가야할까?\n",
      "출력 : 이제라도 알게 돼서 다행이에요 .\n"
     ]
    },
    {
     "data": {
      "text/plain": [
       "'이제라도 알게 돼서 다행이에요 .'"
      ]
     },
     "execution_count": 239,
     "metadata": {},
     "output_type": "execute_result"
    }
   ],
   "source": [
    "sentence_generation('병원가야할까?')"
   ]
  },
  {
   "cell_type": "code",
   "execution_count": 240,
   "id": "organized-eating",
   "metadata": {},
   "outputs": [
    {
     "name": "stdout",
     "output_type": "stream",
     "text": [
      "tf.Tensor([8127  652 2019    1], shape=(4,), dtype=int32)\n",
      "입력 : 눈물이 계속 나\n",
      "출력 : 지금은 우세요 .\n"
     ]
    },
    {
     "data": {
      "text/plain": [
       "'지금은 우세요 .'"
      ]
     },
     "execution_count": 240,
     "metadata": {},
     "output_type": "execute_result"
    }
   ],
   "source": [
    "sentence_generation('눈물이 계속 나')"
   ]
  },
  {
   "cell_type": "code",
   "execution_count": 241,
   "id": "pharmaceutical-oriental",
   "metadata": {},
   "outputs": [
    {
     "name": "stdout",
     "output_type": "stream",
     "text": [
      "tf.Tensor([8127 4139    1], shape=(3,), dtype=int32)\n",
      "입력 : 안녕?\n",
      "출력 : 안녕하세요 .\n"
     ]
    },
    {
     "data": {
      "text/plain": [
       "'안녕하세요 .'"
      ]
     },
     "execution_count": 241,
     "metadata": {},
     "output_type": "execute_result"
    }
   ],
   "source": [
    "sentence_generation('안녕?')"
   ]
  },
  {
   "cell_type": "code",
   "execution_count": 242,
   "id": "hollow-missile",
   "metadata": {},
   "outputs": [
    {
     "name": "stdout",
     "output_type": "stream",
     "text": [
      "tf.Tensor([8127  580 2574   95    1], shape=(5,), dtype=int32)\n",
      "입력 : 공부하기 싫어\n",
      "출력 : 잠시 쉬어도 돼요 .\n"
     ]
    },
    {
     "data": {
      "text/plain": [
       "'잠시 쉬어도 돼요 .'"
      ]
     },
     "execution_count": 242,
     "metadata": {},
     "output_type": "execute_result"
    }
   ],
   "source": [
    "sentence_generation('공부하기 싫어')"
   ]
  },
  {
   "cell_type": "code",
   "execution_count": 243,
   "id": "chubby-intermediate",
   "metadata": {},
   "outputs": [
    {
     "name": "stdout",
     "output_type": "stream",
     "text": [
      "tf.Tensor([8127  100  502  128  432], shape=(5,), dtype=int32)\n",
      "입력 : 배고프다\n",
      "출력 : 저도 밥 먹고 싶어요\n"
     ]
    },
    {
     "data": {
      "text/plain": [
       "'저도 밥 먹고 싶어요'"
      ]
     },
     "execution_count": 243,
     "metadata": {},
     "output_type": "execute_result"
    }
   ],
   "source": [
    "sentence_generation('배고프다')"
   ]
  },
  {
   "cell_type": "code",
   "execution_count": 244,
   "id": "injured-addition",
   "metadata": {},
   "outputs": [
    {
     "name": "stdout",
     "output_type": "stream",
     "text": [
      "tf.Tensor([8127  504  125    1], shape=(4,), dtype=int32)\n",
      "입력 : 같이 밥먹을래?\n",
      "출력 : 맛있게 드세요 .\n"
     ]
    },
    {
     "data": {
      "text/plain": [
       "'맛있게 드세요 .'"
      ]
     },
     "execution_count": 244,
     "metadata": {},
     "output_type": "execute_result"
    }
   ],
   "source": [
    "sentence_generation('같이 밥먹을래?')"
   ]
  },
  {
   "cell_type": "code",
   "execution_count": 245,
   "id": "efficient-toolbox",
   "metadata": {},
   "outputs": [
    {
     "name": "stdout",
     "output_type": "stream",
     "text": [
      "tf.Tensor([8127 3366 5267 2501    1], shape=(5,), dtype=int32)\n",
      "입력 : 이름이 뭐야?\n",
      "출력 : 위로봇이요 .\n"
     ]
    },
    {
     "data": {
      "text/plain": [
       "'위로봇이요 .'"
      ]
     },
     "execution_count": 245,
     "metadata": {},
     "output_type": "execute_result"
    }
   ],
   "source": [
    "sentence_generation('이름이 뭐야?')"
   ]
  },
  {
   "cell_type": "code",
   "execution_count": 246,
   "id": "alike-consistency",
   "metadata": {},
   "outputs": [
    {
     "name": "stdout",
     "output_type": "stream",
     "text": [
      "tf.Tensor([8127  234 2284   15  118    1], shape=(6,), dtype=int32)\n",
      "입력 : 내일은 비가 올까?\n",
      "출력 : 지금 성격도 좋아요 .\n"
     ]
    },
    {
     "data": {
      "text/plain": [
       "'지금 성격도 좋아요 .'"
      ]
     },
     "execution_count": 246,
     "metadata": {},
     "output_type": "execute_result"
    }
   ],
   "source": [
    "sentence_generation('내일은 비가 올까?')"
   ]
  },
  {
   "cell_type": "code",
   "execution_count": 248,
   "id": "rapid-hampton",
   "metadata": {},
   "outputs": [
    {
     "name": "stdout",
     "output_type": "stream",
     "text": [
      "tf.Tensor([8127  181 2543 3550   34 1712  166    1], shape=(8,), dtype=int32)\n",
      "입력 : 오늘 공부 어렵다\n",
      "출력 : 사랑은 알다가도 모르는게 사람 마음이에요 .\n"
     ]
    },
    {
     "data": {
      "text/plain": [
       "'사랑은 알다가도 모르는게 사람 마음이에요 .'"
      ]
     },
     "execution_count": 248,
     "metadata": {},
     "output_type": "execute_result"
    }
   ],
   "source": [
    "sentence_generation('오늘 공부 어렵다')"
   ]
  },
  {
   "cell_type": "markdown",
   "id": "ongoing-october",
   "metadata": {},
   "source": [
    "- 실제 데이터 셋과 똑같은 문장을 예측한다."
   ]
  },
  {
   "cell_type": "code",
   "execution_count": 254,
   "id": "tested-superintendent",
   "metadata": {},
   "outputs": [
    {
     "data": {
      "text/html": [
       "<div>\n",
       "<style scoped>\n",
       "    .dataframe tbody tr th:only-of-type {\n",
       "        vertical-align: middle;\n",
       "    }\n",
       "\n",
       "    .dataframe tbody tr th {\n",
       "        vertical-align: top;\n",
       "    }\n",
       "\n",
       "    .dataframe thead th {\n",
       "        text-align: right;\n",
       "    }\n",
       "</style>\n",
       "<table border=\"1\" class=\"dataframe\">\n",
       "  <thead>\n",
       "    <tr style=\"text-align: right;\">\n",
       "      <th></th>\n",
       "      <th>Q</th>\n",
       "      <th>A</th>\n",
       "      <th>label</th>\n",
       "    </tr>\n",
       "  </thead>\n",
       "  <tbody>\n",
       "    <tr>\n",
       "      <th>0</th>\n",
       "      <td>12시 땡!</td>\n",
       "      <td>하루가 또 가네요.</td>\n",
       "      <td>0</td>\n",
       "    </tr>\n",
       "    <tr>\n",
       "      <th>1</th>\n",
       "      <td>1지망 학교 떨어졌어</td>\n",
       "      <td>위로해 드립니다.</td>\n",
       "      <td>0</td>\n",
       "    </tr>\n",
       "    <tr>\n",
       "      <th>2</th>\n",
       "      <td>3박4일 놀러가고 싶다</td>\n",
       "      <td>여행은 언제나 좋죠.</td>\n",
       "      <td>0</td>\n",
       "    </tr>\n",
       "  </tbody>\n",
       "</table>\n",
       "</div>"
      ],
      "text/plain": [
       "              Q            A  label\n",
       "0        12시 땡!   하루가 또 가네요.      0\n",
       "1   1지망 학교 떨어졌어    위로해 드립니다.      0\n",
       "2  3박4일 놀러가고 싶다  여행은 언제나 좋죠.      0"
      ]
     },
     "execution_count": 254,
     "metadata": {},
     "output_type": "execute_result"
    }
   ],
   "source": [
    "data.head(3)"
   ]
  },
  {
   "cell_type": "code",
   "execution_count": 249,
   "id": "rising-kennedy",
   "metadata": {
    "scrolled": true
   },
   "outputs": [
    {
     "name": "stdout",
     "output_type": "stream",
     "text": [
      "tf.Tensor([8127 3389  774  130    1], shape=(5,), dtype=int32)\n",
      "입력 : 3박4일 놀러가고 싶다\n",
      "출력 : 여행은 언제나 좋죠 .\n"
     ]
    },
    {
     "data": {
      "text/plain": [
       "'여행은 언제나 좋죠 .'"
      ]
     },
     "execution_count": 249,
     "metadata": {},
     "output_type": "execute_result"
    }
   ],
   "source": [
    "sentence_generation('3박4일 놀러가고 싶다')"
   ]
  },
  {
   "cell_type": "markdown",
   "id": "educational-agreement",
   "metadata": {},
   "source": [
    "# 루브릭 평가\n",
    "---\n",
    "1. **한국어 전처리를 통해 학습 데이터셋을 구축하였다.**   \n",
    "\n",
    "    - 한국어 데이터에 맞는 전처리를 수행했다.\n",
    "\n",
    "\n",
    "2. **트랜스포머 모델을 구현하여 한국어 챗봇 모델 학습을 정상적으로 진행하였다.**\n",
    "\n",
    "    - 학습과정을 시각화해 정상적으로 수렴하는 것을 볼 수 있었다.\n",
    "    \n",
    "     \n",
    "3. **한국어 입력문장에 대해 한국어로 답변하는 함수를 구현하였다.** \n",
    "\n",
    "    - 여러 문장에 대해 평가해보았다.\n",
    "\n",
    "    \n",
    "    \n",
    "# 회고\n",
    "---\n",
    "## 어려웠던 점  \n",
    "- lms 들여쓰기\n",
    "    - lms에 코드가 길어질 수록 코드 들여쓰기가 구별되지 않아서 애를 먹었다. 어떤 컨텐츠는 2칸 들여쓰기, 4칸 들여쓰기 등 이 문제 때문에 힘들었던게 이번만이 아니다... \n",
    "    \n",
    "## 알게된 점 \n",
    "- 한국어 형태소 분석기 없이 토크나이징하는 방법 : SubwordTextEncoder\n",
    "\n",
    "## 다짐\n",
    "- 그동안 공부했던 트랜스포머를 직접 구현할 수 있었던 프로젝트이다. 모든 요소를 다 하나하나 구현하면서 실제 역할에 대해 다시 공부할 수 있었다. 더 많은 튜닝을 해보지 못했는데, 다음엔 한국어 전처리에 대해 더 다양하게 하고 싶다. 데이터 자체가 임의로 만들어낸 데이터라서 전처리 과정이 간결해도 성능이 잘 나왔다. 하지만 이미 등록되어있는 문장에 대한 답변은 거의 똑같이 구사하고 있는 것을 확인할 수 있었다."
   ]
  }
 ],
 "metadata": {
  "kernelspec": {
   "display_name": "Python 3",
   "language": "python",
   "name": "python3"
  },
  "language_info": {
   "codemirror_mode": {
    "name": "ipython",
    "version": 3
   },
   "file_extension": ".py",
   "mimetype": "text/x-python",
   "name": "python",
   "nbconvert_exporter": "python",
   "pygments_lexer": "ipython3",
   "version": "3.7.9"
  }
 },
 "nbformat": 4,
 "nbformat_minor": 5
}
