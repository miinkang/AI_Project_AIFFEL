{
 "cells": [
  {
   "cell_type": "markdown",
   "id": "forty-acceptance",
   "metadata": {},
   "source": [
    "# [Going Deeper NLP 04] DTM, TF-IDF Vocabulary Size실험 \n",
    "\n",
    "Google에서 제공하는 오픈소스 기반 Sentence Tokenizer/Detokenizer 패키지인 SentencePiece를 사용하는 프로젝트입니다. \n",
    "\n",
    "---\n",
    "\n",
    "## 프로젝트 목표\n",
    "---\n",
    "- vocabulary size에 따른 모델 성능 비교\n",
    "- reuters 뉴스 데이터를 이용해 뉴스 카테고리 다중분류를 한다. \n",
    "\n",
    "## 프로젝트 설명\n",
    "---\n",
    "1. reuters 뉴스 데이터를 불러온다. (이 때 단어의 수를 조절할 수 있다.) \n",
    "    - 전체 단어\n",
    "    - 5000개 단어\n",
    "    - 그 외로 실험해보기(3가지)\n",
    "2. 머신러닝 모델 학습\n",
    "    - 나이브 베이즈 분류기\n",
    "    - CNB\n",
    "    - 로지스틱 회귀\n",
    "    - 서포트 벡터 머신(SVM)\n",
    "    - 결정 트리\n",
    "    - 랜덤 포레스트\n",
    "    - 그래디언트 부스팅 트리\n",
    "    - 보팅 \n",
    "    \n",
    "## 0. 모듈 Import"
   ]
  },
  {
   "cell_type": "code",
   "execution_count": 1,
   "id": "shaped-official",
   "metadata": {},
   "outputs": [],
   "source": [
    "from tensorflow.keras.datasets import reuters\n",
    "import matplotlib.pyplot as plt\n",
    "import seaborn as sns\n",
    "import numpy as np\n",
    "import pandas as pd"
   ]
  },
  {
   "cell_type": "markdown",
   "id": "illegal-nicholas",
   "metadata": {},
   "source": [
    "## 데이터 불러오기 및 분석, 전처리 "
   ]
  },
  {
   "cell_type": "markdown",
   "id": "recorded-behalf",
   "metadata": {},
   "source": [
    "### (1) 모든 단어 사용 \n",
    "- 실험을 위해 데이터셋의 모든 단어를 사용한다.\n",
    "- 해당 데이터셋은 정수 시퀀스로 변환되어 제공된다. "
   ]
  },
  {
   "cell_type": "code",
   "execution_count": 2,
   "id": "coral-desktop",
   "metadata": {},
   "outputs": [
    {
     "name": "stderr",
     "output_type": "stream",
     "text": [
      "/home/aiffel-dj26/anaconda3/envs/aiffel/lib/python3.7/site-packages/tensorflow_core/python/keras/datasets/reuters.py:113: VisibleDeprecationWarning: Creating an ndarray from ragged nested sequences (which is a list-or-tuple of lists-or-tuples-or ndarrays with different lengths or shapes) is deprecated. If you meant to do this, you must specify 'dtype=object' when creating the ndarray\n",
      "  x_train, y_train = np.array(xs[:idx]), np.array(labels[:idx])\n",
      "/home/aiffel-dj26/anaconda3/envs/aiffel/lib/python3.7/site-packages/tensorflow_core/python/keras/datasets/reuters.py:114: VisibleDeprecationWarning: Creating an ndarray from ragged nested sequences (which is a list-or-tuple of lists-or-tuples-or ndarrays with different lengths or shapes) is deprecated. If you meant to do this, you must specify 'dtype=object' when creating the ndarray\n",
      "  x_test, y_test = np.array(xs[idx:]), np.array(labels[idx:])\n"
     ]
    }
   ],
   "source": [
    "(x_train, y_train), (x_test, y_test) = reuters.load_data(num_words=None, test_split=0.2)"
   ]
  },
  {
   "cell_type": "code",
   "execution_count": 3,
   "id": "varying-coral",
   "metadata": {
    "scrolled": true
   },
   "outputs": [
    {
     "name": "stdout",
     "output_type": "stream",
     "text": [
      "훈련 샘플의 수: 8982\n",
      "테스트 샘플의 수: 2246\n"
     ]
    }
   ],
   "source": [
    "print('훈련 샘플의 수: {}'.format(len(x_train)))\n",
    "print('테스트 샘플의 수: {}'.format(len(x_test)))"
   ]
  },
  {
   "cell_type": "code",
   "execution_count": 4,
   "id": "existing-effect",
   "metadata": {
    "scrolled": true
   },
   "outputs": [
    {
     "name": "stdout",
     "output_type": "stream",
     "text": [
      "클래스의 수 : 46\n"
     ]
    }
   ],
   "source": [
    "num_classes = max(y_train) + 1\n",
    "print('클래스의 수 : {}'.format(num_classes))"
   ]
  },
  {
   "cell_type": "code",
   "execution_count": 5,
   "id": "informed-coral",
   "metadata": {
    "scrolled": true
   },
   "outputs": [
    {
     "name": "stdout",
     "output_type": "stream",
     "text": [
      "훈련용 뉴스의 최대 길이 :2376\n",
      "훈련용 뉴스의 평균 길이 :145.5398574927633\n"
     ]
    },
    {
     "data": {
      "image/png": "[encoded data removed]",
      "text/plain": [
       "<Figure size 432x288 with 1 Axes>"
      ]
     },
     "metadata": {
      "needs_background": "light"
     },
     "output_type": "display_data"
    }
   ],
   "source": [
    "print('훈련용 뉴스의 최대 길이 :{}'.format(max(len(l) for l in x_train)))\n",
    "print('훈련용 뉴스의 평균 길이 :{}'.format(sum(map(len, x_train))/len(x_train)))\n",
    "\n",
    "plt.hist([len(s) for s in x_train], bins=50)\n",
    "plt.xlabel('length of samples')\n",
    "plt.ylabel('number of samples')\n",
    "plt.show()"
   ]
  },
  {
   "cell_type": "code",
   "execution_count": 6,
   "id": "noted-flood",
   "metadata": {},
   "outputs": [],
   "source": [
    "word_index = reuters.get_word_index(path=\"reuters_word_index.json\")"
   ]
  },
  {
   "cell_type": "markdown",
   "id": "effective-charleston",
   "metadata": {},
   "source": [
    "- 0, 1, 2번에 \\<pad>, \\<sos>, \\<unk> 토큰이 매핑되어있다.    \n",
    "- 이를 위해 index에 3을 더해주는 추가 작업이 필요함"
   ]
  },
  {
   "cell_type": "code",
   "execution_count": 7,
   "id": "literary-fishing",
   "metadata": {},
   "outputs": [],
   "source": [
    "index_to_word = {index + 3 : word for word, index in word_index.items()}"
   ]
  },
  {
   "cell_type": "code",
   "execution_count": 8,
   "id": "personalized-throat",
   "metadata": {},
   "outputs": [],
   "source": [
    "# index_to_word에 숫자 0은 <pad>, 숫자 1은 <sos>, 숫자 2는 <unk>를 넣어줍니다.\n",
    "for index, token in enumerate((\"<pad>\", \"<sos>\", \"<unk>\")):\n",
    "  index_to_word[index]=token"
   ]
  },
  {
   "cell_type": "markdown",
   "id": "french-reservation",
   "metadata": {},
   "source": [
    "- 0번째 샘플로 확인"
   ]
  },
  {
   "cell_type": "code",
   "execution_count": 9,
   "id": "entitled-dinner",
   "metadata": {
    "scrolled": true
   },
   "outputs": [
    {
     "data": {
      "text/plain": [
       "[1,\n",
       " 27595,\n",
       " 28842,\n",
       " 8,\n",
       " 43,\n",
       " 10,\n",
       " 447,\n",
       " 5,\n",
       " 25,\n",
       " 207,\n",
       " 270,\n",
       " 5,\n",
       " 3095,\n",
       " 111,\n",
       " 16,\n",
       " 369,\n",
       " 186,\n",
       " 90,\n",
       " 67,\n",
       " 7,\n",
       " 89,\n",
       " 5,\n",
       " 19,\n",
       " 102,\n",
       " 6,\n",
       " 19,\n",
       " 124,\n",
       " 15,\n",
       " 90,\n",
       " 67,\n",
       " 84,\n",
       " 22,\n",
       " 482,\n",
       " 26,\n",
       " 7,\n",
       " 48,\n",
       " 4,\n",
       " 49,\n",
       " 8,\n",
       " 864,\n",
       " 39,\n",
       " 209,\n",
       " 154,\n",
       " 6,\n",
       " 151,\n",
       " 6,\n",
       " 83,\n",
       " 11,\n",
       " 15,\n",
       " 22,\n",
       " 155,\n",
       " 11,\n",
       " 15,\n",
       " 7,\n",
       " 48,\n",
       " 9,\n",
       " 4579,\n",
       " 1005,\n",
       " 504,\n",
       " 6,\n",
       " 258,\n",
       " 6,\n",
       " 272,\n",
       " 11,\n",
       " 15,\n",
       " 22,\n",
       " 134,\n",
       " 44,\n",
       " 11,\n",
       " 15,\n",
       " 16,\n",
       " 8,\n",
       " 197,\n",
       " 1245,\n",
       " 90,\n",
       " 67,\n",
       " 52,\n",
       " 29,\n",
       " 209,\n",
       " 30,\n",
       " 32,\n",
       " 132,\n",
       " 6,\n",
       " 109,\n",
       " 15,\n",
       " 17,\n",
       " 12]"
      ]
     },
     "execution_count": 9,
     "metadata": {},
     "output_type": "execute_result"
    }
   ],
   "source": [
    "x_train[0]"
   ]
  },
  {
   "cell_type": "code",
   "execution_count": 10,
   "id": "important-sport",
   "metadata": {
    "scrolled": true
   },
   "outputs": [
    {
     "name": "stdout",
     "output_type": "stream",
     "text": [
      "<sos> mcgrath rentcorp said as a result of its december acquisition of space co it expects earnings per share in 1987 of 1 15 to 1 30 dlrs per share up from 70 cts in 1986 the company said pretax net should rise to nine to 10 mln dlrs from six mln dlrs in 1986 and rental operation revenues to 19 to 22 mln dlrs from 12 5 mln dlrs it said cash flow per share this year should be 2 50 to three dlrs reuter 3\n"
     ]
    }
   ],
   "source": [
    "print(' '.join([index_to_word[index] for index in x_train[0]]))"
   ]
  },
  {
   "cell_type": "markdown",
   "id": "rough-tract",
   "metadata": {},
   "source": [
    "- 전체 데이터 변환(train, test)"
   ]
  },
  {
   "cell_type": "code",
   "execution_count": 11,
   "id": "relative-mystery",
   "metadata": {},
   "outputs": [],
   "source": [
    "decoded = []\n",
    "for i in range(len(x_train)):\n",
    "    t = ' '.join([index_to_word[index] for index in x_train[i]])\n",
    "    decoded.append(t)\n",
    "\n",
    "x_train = decoded"
   ]
  },
  {
   "cell_type": "code",
   "execution_count": 12,
   "id": "married-ordering",
   "metadata": {},
   "outputs": [],
   "source": [
    "decoded = []\n",
    "for i in range(len(x_test)):\n",
    "    t = ' '.join([index_to_word[index] for index in x_test[i]])\n",
    "    decoded.append(t)\n",
    "\n",
    "x_test = decoded"
   ]
  },
  {
   "cell_type": "markdown",
   "id": "international-clock",
   "metadata": {},
   "source": [
    "## 2. 벡터화 하기\n",
    "- Document Term Matrix, DTM을 활용한 TF-IDF행렬로 벡터화한다."
   ]
  },
  {
   "cell_type": "code",
   "execution_count": 25,
   "id": "worst-reply",
   "metadata": {},
   "outputs": [],
   "source": [
    "from sklearn.feature_extraction.text import CountVectorizer\n",
    "from sklearn.feature_extraction.text import TfidfTransformer"
   ]
  },
  {
   "cell_type": "markdown",
   "id": "distributed-clause",
   "metadata": {},
   "source": [
    "- DTM 생성"
   ]
  },
  {
   "cell_type": "code",
   "execution_count": 14,
   "id": "sacred-soldier",
   "metadata": {},
   "outputs": [
    {
     "name": "stdout",
     "output_type": "stream",
     "text": [
      "(8982, 26506)\n"
     ]
    }
   ],
   "source": [
    "dtmvector = CountVectorizer()\n",
    "x_train_dtm = dtmvector.fit_transform(x_train)\n",
    "print(x_train_dtm.shape)"
   ]
  },
  {
   "cell_type": "markdown",
   "id": "human-china",
   "metadata": {},
   "source": [
    "- TF-IDF 생성"
   ]
  },
  {
   "cell_type": "code",
   "execution_count": 16,
   "id": "unique-printer",
   "metadata": {},
   "outputs": [
    {
     "name": "stdout",
     "output_type": "stream",
     "text": [
      "(8982, 26506)\n"
     ]
    }
   ],
   "source": [
    "tfidf_transformer = TfidfTransformer()\n",
    "tfidfv = tfidf_transformer.fit_transform(x_train_dtm)\n",
    "print(tfidfv.shape)"
   ]
  },
  {
   "cell_type": "markdown",
   "id": "described-phrase",
   "metadata": {},
   "source": [
    "## 3. 머신러닝 모델 학습\n",
    "- 나이브 베이즈 분류기\n",
    "- Complement Naive Bayes Classifier, CNB\n",
    "- 로지스틱 회귀\n",
    "- 서포트 벡터 머신(SVM)\n",
    "- 결정 트리\n",
    "- 랜덤 포레스트\n",
    "- 그래디언트 부스팅 트리\n",
    "- 보팅 "
   ]
  },
  {
   "cell_type": "code",
   "execution_count": 17,
   "id": "muslim-bridal",
   "metadata": {},
   "outputs": [],
   "source": [
    "from sklearn.naive_bayes import MultinomialNB #다항분포 나이브 베이즈 모델\n",
    "from sklearn.linear_model import LogisticRegression, SGDClassifier\n",
    "from sklearn.naive_bayes import ComplementNB\n",
    "from sklearn.tree import DecisionTreeClassifier\n",
    "from sklearn.ensemble import RandomForestClassifier\n",
    "from sklearn.ensemble import GradientBoostingClassifier\n",
    "from sklearn.ensemble import VotingClassifier\n",
    "from sklearn.svm import LinearSVC\n",
    "from sklearn.metrics import accuracy_score #정확도 계산"
   ]
  },
  {
   "cell_type": "code",
   "execution_count": 23,
   "id": "willing-turner",
   "metadata": {},
   "outputs": [],
   "source": [
    "from sklearn.metrics import classification_report\n",
    "from sklearn.metrics import confusion_matrix"
   ]
  },
  {
   "cell_type": "markdown",
   "id": "reflected-filename",
   "metadata": {},
   "source": [
    "- train데이터를 TF-IDF행렬로 변환한 것처럼 test데이터도 변환합니다.\n",
    "- 정확도를 측정하기 위함 "
   ]
  },
  {
   "cell_type": "code",
   "execution_count": 38,
   "id": "identical-tract",
   "metadata": {},
   "outputs": [],
   "source": [
    "x_test_dtm = dtmvector.transform(x_test) #테스트 데이터를 DTM으로 변환\n",
    "tfidfv_test = tfidf_transformer.transform(x_test_dtm) #DTM을 TF-IDF 행렬로 변환"
   ]
  },
  {
   "cell_type": "code",
   "execution_count": 42,
   "id": "foreign-newcastle",
   "metadata": {},
   "outputs": [],
   "source": [
    "def train_ml(tfidfv, y_train, tfidfv_test, y_test):\n",
    "    # 나이브 베이즈 분류기 \n",
    "    mod = MultinomialNB()\n",
    "    mod.fit(tfidfv, y_train)\n",
    "    \n",
    "    mod_predicted = mod.predict(tfidfv_test) #테스트 데이터에 대한 예측\n",
    "    print(\"나이브 베이즈 정확도:\", accuracy_score(y_test, mod_predicted)) #예측값과 실제값 비교\n",
    "    \n",
    "    # CNB\n",
    "    cb = ComplementNB()\n",
    "    cb.fit(tfidfv, y_train)\n",
    "    \n",
    "    cb_predicted = cb.predict(tfidfv_test) #테스트 데이터에 대한 예측\n",
    "    print(\"CNB 정확도:\", accuracy_score(y_test, cb_predicted)) #예측값과 실제값 비교\n",
    "    \n",
    "    # 로지스틱 회귀 \n",
    "    lr = LogisticRegression(C=10000, penalty='l2')\n",
    "    lr.fit(tfidfv, y_train)\n",
    "\n",
    "    lr_predicted = lr.predict(tfidfv_test) #테스트 데이터에 대한 예측\n",
    "    print(\"로지스틱 회귀 정확도:\", accuracy_score(y_test, lr_predicted)) #예측값과 실제값 비교\n",
    "    \n",
    "    # 선형 서포트 벡터 머신 \n",
    "    lsvc = LinearSVC(C=1000, penalty='l1', max_iter=500, dual=False)\n",
    "    lsvc.fit(tfidfv, y_train)\n",
    "    \n",
    "    lsvc_predicted = lsvc.predict(tfidfv_test) #테스트 데이터에 대한 예측\n",
    "    print(\"SVM 정확도:\", accuracy_score(y_test, lsvc_predicted)) #예측값과 실제값 비교\n",
    "    \n",
    "    # 결정 트리(Decision Tree) \n",
    "    tree = DecisionTreeClassifier(max_depth=10, random_state=0)\n",
    "    tree.fit(tfidfv, y_train)\n",
    "    \n",
    "    tree_predicted = tree.predict(tfidfv_test) #테스트 데이터에 대한 예측\n",
    "    print(\"결정 트리 정확도:\", accuracy_score(y_test, tree_predicted)) #예측값과 실제값 비교\n",
    "    \n",
    "    # 랜덤 포레스트(Random Forest)\n",
    "    forest = RandomForestClassifier(n_estimators=5, random_state=0)\n",
    "    forest.fit(tfidfv, y_train)\n",
    "    \n",
    "    forest_predicted = forest.predict(tfidfv_test) #테스트 데이터에 대한 예측\n",
    "    print(\"랜덤 포레스트 정확도:\", accuracy_score(y_test, forest_predicted)) #예측값과 실제값 비교\n",
    "    \n",
    "    # 그래디언트 부스팅 트리(GradientBoostingClassifier)\n",
    "    grbt = GradientBoostingClassifier(random_state=0, verbose=3) # verbose=3\n",
    "    grbt.fit(tfidfv, y_train)\n",
    "\n",
    "    grbt_predicted = grbt.predict(tfidfv_test) #테스트 데이터에 대한 예측\n",
    "    print(\"그래디언트 부스팅 트리 정확도:\", accuracy_score(y_test, grbt_predicted)) #예측값과 실제값 비교\n",
    "    \n",
    "    # 보팅(Voting)\n",
    "    voting_classifier = VotingClassifier(estimators=[\n",
    "         ('lr', LogisticRegression(C=10000, penalty='l2')),\n",
    "        ('cb', ComplementNB()),\n",
    "        ('grbt', GradientBoostingClassifier(random_state=0))\n",
    "        ], voting='soft', n_jobs=-1)\n",
    "    voting_classifier.fit(tfidfv, y_train)\n",
    "    \n",
    "    voting_classifier_predicted = voting_classifier.predict(tfidfv_test) #테스트 데이터에 대한 예측\n",
    "    print(\"보팅 정확도:\", accuracy_score(y_test, voting_classifier_predicted)) #예측값과 실제값 비교\n",
    "    \n",
    "    return mod, cb, lr, lsvc, tree, forest, grbt, voting_classifier"
   ]
  },
  {
   "cell_type": "code",
   "execution_count": 44,
   "id": "outstanding-bench",
   "metadata": {},
   "outputs": [
    {
     "name": "stdout",
     "output_type": "stream",
     "text": [
      "나이브 베이즈 정확도: 0.5997328584149599\n",
      "CNB 정확도: 0.7649154051647373\n"
     ]
    },
    {
     "name": "stderr",
     "output_type": "stream",
     "text": [
      "/home/aiffel-dj26/anaconda3/envs/aiffel/lib/python3.7/site-packages/sklearn/linear_model/_logistic.py:764: ConvergenceWarning: lbfgs failed to converge (status=1):\n",
      "STOP: TOTAL NO. of ITERATIONS REACHED LIMIT.\n",
      "\n",
      "Increase the number of iterations (max_iter) or scale the data as shown in:\n",
      "    https://scikit-learn.org/stable/modules/preprocessing.html\n",
      "Please also refer to the documentation for alternative solver options:\n",
      "    https://scikit-learn.org/stable/modules/linear_model.html#logistic-regression\n",
      "  extra_warning_msg=_LOGISTIC_SOLVER_CONVERGENCE_MSG)\n"
     ]
    },
    {
     "name": "stdout",
     "output_type": "stream",
     "text": [
      "로지스틱 회귀 정확도: 0.813446126447017\n"
     ]
    },
    {
     "name": "stderr",
     "output_type": "stream",
     "text": [
      "/home/aiffel-dj26/anaconda3/envs/aiffel/lib/python3.7/site-packages/sklearn/svm/_base.py:977: ConvergenceWarning: Liblinear failed to converge, increase the number of iterations.\n",
      "  \"the number of iterations.\", ConvergenceWarning)\n"
     ]
    },
    {
     "name": "stdout",
     "output_type": "stream",
     "text": [
      "SVM 정확도: 0.784060552092609\n",
      "결정 트리 정확도: 0.6211041852181657\n",
      "랜덤 포레스트 정확도: 0.6544968833481746\n",
      "그래디언트 부스팅 트리 정확도: 0.7702582368655387\n",
      "보팅 정확도: 0.8187889581478184\n"
     ]
    }
   ],
   "source": [
    "mod, cb, lr, lsvc, tree, forest, grbt, voting_classifier = train_ml(tfidfv, y_train, tfidfv_test, y_test)"
   ]
  },
  {
   "cell_type": "markdown",
   "id": "incorrect-colleague",
   "metadata": {},
   "source": [
    "### (2) 단어 5000개 사용 "
   ]
  },
  {
   "cell_type": "code",
   "execution_count": 26,
   "id": "musical-combine",
   "metadata": {},
   "outputs": [],
   "source": [
    "(x_train_5k, y_train_5k), (x_test_5k, y_test_5k) = reuters.load_data(num_words=5000, test_split=0.2)"
   ]
  },
  {
   "cell_type": "code",
   "execution_count": 27,
   "id": "fifteen-performer",
   "metadata": {},
   "outputs": [],
   "source": [
    "decoded = []\n",
    "for i in range(len(x_train_5k)):\n",
    "    t = ' '.join([index_to_word[index] for index in x_train_5k[i]])\n",
    "    decoded.append(t)\n",
    "\n",
    "x_train_5k = decoded"
   ]
  },
  {
   "cell_type": "code",
   "execution_count": 28,
   "id": "vocational-gardening",
   "metadata": {},
   "outputs": [],
   "source": [
    "decoded = []\n",
    "for i in range(len(x_test_5k)):\n",
    "    t = ' '.join([index_to_word[index] for index in x_test_5k[i]])\n",
    "    decoded.append(t)\n",
    "\n",
    "x_test_5k = decoded"
   ]
  },
  {
   "cell_type": "markdown",
   "id": "cosmetic-silver",
   "metadata": {},
   "source": [
    "- 행렬 변환"
   ]
  },
  {
   "cell_type": "code",
   "execution_count": 29,
   "id": "described-birthday",
   "metadata": {},
   "outputs": [
    {
     "name": "stdout",
     "output_type": "stream",
     "text": [
      "(8982, 4867)\n"
     ]
    }
   ],
   "source": [
    "dtmvector = CountVectorizer()\n",
    "x_train_dtm_5k = dtmvector.fit_transform(x_train_5k)\n",
    "print(x_train_dtm_5k.shape)"
   ]
  },
  {
   "cell_type": "code",
   "execution_count": 30,
   "id": "deluxe-wonder",
   "metadata": {},
   "outputs": [
    {
     "name": "stdout",
     "output_type": "stream",
     "text": [
      "(8982, 4867)\n"
     ]
    }
   ],
   "source": [
    "tfidf_transformer = TfidfTransformer()\n",
    "tfidfv_5k = tfidf_transformer.fit_transform(x_train_dtm_5k)\n",
    "print(tfidfv_5k.shape)"
   ]
  },
  {
   "cell_type": "code",
   "execution_count": 31,
   "id": "virgin-parameter",
   "metadata": {},
   "outputs": [],
   "source": [
    "x_test_dtm_5k = dtmvector.transform(x_test_5k) # 테스트 데이터를 DTM으로 변환\n",
    "tfidfv_test_5k = tfidf_transformer.transform(x_test_dtm_5k) # DTM을 TF-IDF 행렬로 변환"
   ]
  },
  {
   "cell_type": "code",
   "execution_count": 51,
   "id": "permanent-platinum",
   "metadata": {
    "scrolled": false
   },
   "outputs": [
    {
     "name": "stdout",
     "output_type": "stream",
     "text": [
      "나이브 베이즈 정확도: 0.6731967943009796\n",
      "CNB 정확도: 0.7707034728406055\n"
     ]
    },
    {
     "name": "stderr",
     "output_type": "stream",
     "text": [
      "/home/aiffel-dj26/anaconda3/envs/aiffel/lib/python3.7/site-packages/sklearn/linear_model/_logistic.py:764: ConvergenceWarning: lbfgs failed to converge (status=1):\n",
      "STOP: TOTAL NO. of ITERATIONS REACHED LIMIT.\n",
      "\n",
      "Increase the number of iterations (max_iter) or scale the data as shown in:\n",
      "    https://scikit-learn.org/stable/modules/preprocessing.html\n",
      "Please also refer to the documentation for alternative solver options:\n",
      "    https://scikit-learn.org/stable/modules/linear_model.html#logistic-regression\n",
      "  extra_warning_msg=_LOGISTIC_SOLVER_CONVERGENCE_MSG)\n"
     ]
    },
    {
     "name": "stdout",
     "output_type": "stream",
     "text": [
      "로지스틱 회귀 정확도: 0.8058771148708815\n"
     ]
    },
    {
     "name": "stderr",
     "output_type": "stream",
     "text": [
      "/home/aiffel-dj26/anaconda3/envs/aiffel/lib/python3.7/site-packages/sklearn/svm/_base.py:977: ConvergenceWarning: Liblinear failed to converge, increase the number of iterations.\n",
      "  \"the number of iterations.\", ConvergenceWarning)\n"
     ]
    },
    {
     "name": "stdout",
     "output_type": "stream",
     "text": [
      "SVM 정확도: 0.7666963490650045\n",
      "결정 트리 정확도: 0.6179875333926982\n",
      "랜덤 포레스트 정확도: 0.701246660730187\n",
      "그래디언트 부스팅 트리 정확도: 0.767586821015138\n",
      "보팅 정확도: 0.8161175422974176\n",
      "time : 1338.3355541229248\n"
     ]
    }
   ],
   "source": [
    "import time\n",
    "start = time.time() \n",
    "\n",
    "mod_5k, cb_5k, lr_5k, lsvc_5k, tree_5k, forest_5k, grbt_5k, voting_classifier_5k = train_ml(tfidfv_5k, y_train_5k, tfidfv_test_5k, y_test_5k)\n",
    "\n",
    "print(\"time :\", time.time() - start)"
   ]
  },
  {
   "cell_type": "markdown",
   "id": "assisted-motor",
   "metadata": {},
   "source": [
    "### (3-1) 단어 1000개 사용"
   ]
  },
  {
   "cell_type": "code",
   "execution_count": 59,
   "id": "therapeutic-buffalo",
   "metadata": {},
   "outputs": [
    {
     "name": "stderr",
     "output_type": "stream",
     "text": [
      "/home/aiffel-dj26/anaconda3/envs/aiffel/lib/python3.7/site-packages/tensorflow_core/python/keras/datasets/reuters.py:113: VisibleDeprecationWarning: Creating an ndarray from ragged nested sequences (which is a list-or-tuple of lists-or-tuples-or ndarrays with different lengths or shapes) is deprecated. If you meant to do this, you must specify 'dtype=object' when creating the ndarray\n",
      "  x_train, y_train = np.array(xs[:idx]), np.array(labels[:idx])\n",
      "/home/aiffel-dj26/anaconda3/envs/aiffel/lib/python3.7/site-packages/tensorflow_core/python/keras/datasets/reuters.py:114: VisibleDeprecationWarning: Creating an ndarray from ragged nested sequences (which is a list-or-tuple of lists-or-tuples-or ndarrays with different lengths or shapes) is deprecated. If you meant to do this, you must specify 'dtype=object' when creating the ndarray\n",
      "  x_test, y_test = np.array(xs[idx:]), np.array(labels[idx:])\n"
     ]
    }
   ],
   "source": [
    "(x_train_1k, y_train_1k), (x_test_1k, y_test_1k) = reuters.load_data(num_words=1000, test_split=0.2)"
   ]
  },
  {
   "cell_type": "code",
   "execution_count": 60,
   "id": "material-imaging",
   "metadata": {},
   "outputs": [],
   "source": [
    "decoded = []\n",
    "for i in range(len(x_train_1k)):\n",
    "    t = ' '.join([index_to_word[index] for index in x_train_1k[i]])\n",
    "    decoded.append(t)\n",
    "\n",
    "x_train_1k = decoded"
   ]
  },
  {
   "cell_type": "code",
   "execution_count": 61,
   "id": "phantom-upgrade",
   "metadata": {},
   "outputs": [],
   "source": [
    "decoded = []\n",
    "for i in range(len(x_test_1k)):\n",
    "    t = ' '.join([index_to_word[index] for index in x_test_1k[i]])\n",
    "    decoded.append(t)\n",
    "\n",
    "x_test_1k = decoded"
   ]
  },
  {
   "cell_type": "markdown",
   "id": "medium-assurance",
   "metadata": {},
   "source": [
    "- 행렬 변환"
   ]
  },
  {
   "cell_type": "code",
   "execution_count": 62,
   "id": "developed-pocket",
   "metadata": {},
   "outputs": [
    {
     "name": "stdout",
     "output_type": "stream",
     "text": [
      "(8982, 969)\n"
     ]
    }
   ],
   "source": [
    "dtmvector = CountVectorizer()\n",
    "x_train_dtm_1k = dtmvector.fit_transform(x_train_1k)\n",
    "print(x_train_dtm_1k.shape)"
   ]
  },
  {
   "cell_type": "code",
   "execution_count": 63,
   "id": "royal-field",
   "metadata": {},
   "outputs": [
    {
     "name": "stdout",
     "output_type": "stream",
     "text": [
      "(8982, 969)\n"
     ]
    }
   ],
   "source": [
    "tfidf_transformer = TfidfTransformer()\n",
    "tfidfv_1k = tfidf_transformer.fit_transform(x_train_dtm_1k)\n",
    "print(tfidfv_1k.shape)"
   ]
  },
  {
   "cell_type": "code",
   "execution_count": 64,
   "id": "alien-support",
   "metadata": {},
   "outputs": [],
   "source": [
    "x_test_dtm_1k = dtmvector.transform(x_test_1k) #테스트 데이터를 DTM으로 변환\n",
    "tfidfv_test_1k = tfidf_transformer.transform(x_test_dtm_1k) #DTM을 TF-IDF 행렬로 변환"
   ]
  },
  {
   "cell_type": "code",
   "execution_count": 66,
   "id": "static-animation",
   "metadata": {},
   "outputs": [
    {
     "name": "stdout",
     "output_type": "stream",
     "text": [
      "나이브 베이즈 정확도: 0.6856634016028496\n",
      "CNB 정확도: 0.7346393588601959\n"
     ]
    },
    {
     "name": "stderr",
     "output_type": "stream",
     "text": [
      "/home/aiffel-dj26/anaconda3/envs/aiffel/lib/python3.7/site-packages/sklearn/linear_model/_logistic.py:764: ConvergenceWarning: lbfgs failed to converge (status=1):\n",
      "STOP: TOTAL NO. of ITERATIONS REACHED LIMIT.\n",
      "\n",
      "Increase the number of iterations (max_iter) or scale the data as shown in:\n",
      "    https://scikit-learn.org/stable/modules/preprocessing.html\n",
      "Please also refer to the documentation for alternative solver options:\n",
      "    https://scikit-learn.org/stable/modules/linear_model.html#logistic-regression\n",
      "  extra_warning_msg=_LOGISTIC_SOLVER_CONVERGENCE_MSG)\n"
     ]
    },
    {
     "name": "stdout",
     "output_type": "stream",
     "text": [
      "로지스틱 회귀 정확도: 0.780053428317008\n"
     ]
    },
    {
     "name": "stderr",
     "output_type": "stream",
     "text": [
      "/home/aiffel-dj26/anaconda3/envs/aiffel/lib/python3.7/site-packages/sklearn/svm/_base.py:977: ConvergenceWarning: Liblinear failed to converge, increase the number of iterations.\n",
      "  \"the number of iterations.\", ConvergenceWarning)\n"
     ]
    },
    {
     "name": "stdout",
     "output_type": "stream",
     "text": [
      "SVM 정확도: 0.7172751558325913\n",
      "결정 트리 정확도: 0.6179875333926982\n",
      "랜덤 포레스트 정확도: 0.707479964381122\n",
      "그래디언트 부스팅 트리 정확도: 0.7457702582368655\n",
      "보팅 정확도: 0.7845057880676759\n",
      "run time : 0:18:14\n"
     ]
    }
   ],
   "source": [
    "import time\n",
    "import datetime\n",
    "\n",
    "start = time.time() \n",
    "\n",
    "mod_1k, cb_1k, lr_1k, lsvc_1k, tree_1k, forest_1k, grbt_1k, voting_classifier_1k = train_ml(tfidfv_1k, y_train_1k, tfidfv_test_1k, y_test_1k)\n",
    "\n",
    "\n",
    "sec = time.time()-start\n",
    "times = str(datetime.timedelta(seconds=sec)).split(\".\")\n",
    "times = times[0]\n",
    "print('run time :', times)"
   ]
  },
  {
   "cell_type": "markdown",
   "id": "mounted-cause",
   "metadata": {},
   "source": [
    "### (3-2) 단어 10000개 사용"
   ]
  },
  {
   "cell_type": "code",
   "execution_count": 67,
   "id": "architectural-aerospace",
   "metadata": {},
   "outputs": [
    {
     "name": "stderr",
     "output_type": "stream",
     "text": [
      "/home/aiffel-dj26/anaconda3/envs/aiffel/lib/python3.7/site-packages/tensorflow_core/python/keras/datasets/reuters.py:113: VisibleDeprecationWarning: Creating an ndarray from ragged nested sequences (which is a list-or-tuple of lists-or-tuples-or ndarrays with different lengths or shapes) is deprecated. If you meant to do this, you must specify 'dtype=object' when creating the ndarray\n",
      "  x_train, y_train = np.array(xs[:idx]), np.array(labels[:idx])\n",
      "/home/aiffel-dj26/anaconda3/envs/aiffel/lib/python3.7/site-packages/tensorflow_core/python/keras/datasets/reuters.py:114: VisibleDeprecationWarning: Creating an ndarray from ragged nested sequences (which is a list-or-tuple of lists-or-tuples-or ndarrays with different lengths or shapes) is deprecated. If you meant to do this, you must specify 'dtype=object' when creating the ndarray\n",
      "  x_test, y_test = np.array(xs[idx:]), np.array(labels[idx:])\n"
     ]
    }
   ],
   "source": [
    "(x_train_10k, y_train_10k), (x_test_10k, y_test_10k) = reuters.load_data(num_words=10000, test_split=0.2)"
   ]
  },
  {
   "cell_type": "code",
   "execution_count": 68,
   "id": "engaging-reserve",
   "metadata": {},
   "outputs": [],
   "source": [
    "decoded = []\n",
    "for i in range(len(x_train_10k)):\n",
    "    t = ' '.join([index_to_word[index] for index in x_train_10k[i]])\n",
    "    decoded.append(t)\n",
    "\n",
    "x_train_10k = decoded"
   ]
  },
  {
   "cell_type": "code",
   "execution_count": 69,
   "id": "undefined-groove",
   "metadata": {},
   "outputs": [],
   "source": [
    "decoded = []\n",
    "for i in range(len(x_test_10k)):\n",
    "    t = ' '.join([index_to_word[index] for index in x_test_10k[i]])\n",
    "    decoded.append(t)\n",
    "\n",
    "x_test_10k = decoded"
   ]
  },
  {
   "cell_type": "markdown",
   "id": "internal-material",
   "metadata": {},
   "source": [
    "- 행렬 변환"
   ]
  },
  {
   "cell_type": "code",
   "execution_count": 70,
   "id": "color-research",
   "metadata": {},
   "outputs": [
    {
     "name": "stdout",
     "output_type": "stream",
     "text": [
      "(8982, 9670)\n"
     ]
    }
   ],
   "source": [
    "dtmvector = CountVectorizer()\n",
    "x_train_dtm_10k = dtmvector.fit_transform(x_train_10k)\n",
    "print(x_train_dtm_10k.shape)"
   ]
  },
  {
   "cell_type": "code",
   "execution_count": 71,
   "id": "virtual-growth",
   "metadata": {},
   "outputs": [
    {
     "name": "stdout",
     "output_type": "stream",
     "text": [
      "(8982, 9670)\n"
     ]
    }
   ],
   "source": [
    "tfidf_transformer = TfidfTransformer()\n",
    "tfidfv_10k = tfidf_transformer.fit_transform(x_train_dtm_10k)\n",
    "print(tfidfv_10k.shape)"
   ]
  },
  {
   "cell_type": "code",
   "execution_count": 72,
   "id": "cathedral-barrier",
   "metadata": {},
   "outputs": [],
   "source": [
    "x_test_dtm_10k = dtmvector.transform(x_test_10k) #테스트 데이터를 DTM으로 변환\n",
    "tfidfv_test_10k = tfidf_transformer.transform(x_test_dtm_10k) #DTM을 TF-IDF 행렬로 변환"
   ]
  },
  {
   "cell_type": "code",
   "execution_count": 73,
   "id": "diverse-equality",
   "metadata": {},
   "outputs": [
    {
     "name": "stdout",
     "output_type": "stream",
     "text": [
      "나이브 베이즈 정확도: 0.6567230632235085\n",
      "CNB 정확도: 0.7707034728406055\n"
     ]
    },
    {
     "name": "stderr",
     "output_type": "stream",
     "text": [
      "/home/aiffel-dj26/anaconda3/envs/aiffel/lib/python3.7/site-packages/sklearn/linear_model/_logistic.py:764: ConvergenceWarning: lbfgs failed to converge (status=1):\n",
      "STOP: TOTAL NO. of ITERATIONS REACHED LIMIT.\n",
      "\n",
      "Increase the number of iterations (max_iter) or scale the data as shown in:\n",
      "    https://scikit-learn.org/stable/modules/preprocessing.html\n",
      "Please also refer to the documentation for alternative solver options:\n",
      "    https://scikit-learn.org/stable/modules/linear_model.html#logistic-regression\n",
      "  extra_warning_msg=_LOGISTIC_SOLVER_CONVERGENCE_MSG)\n"
     ]
    },
    {
     "name": "stdout",
     "output_type": "stream",
     "text": [
      "로지스틱 회귀 정확도: 0.8076580587711487\n"
     ]
    },
    {
     "name": "stderr",
     "output_type": "stream",
     "text": [
      "/home/aiffel-dj26/anaconda3/envs/aiffel/lib/python3.7/site-packages/sklearn/svm/_base.py:977: ConvergenceWarning: Liblinear failed to converge, increase the number of iterations.\n",
      "  \"the number of iterations.\", ConvergenceWarning)\n"
     ]
    },
    {
     "name": "stdout",
     "output_type": "stream",
     "text": [
      "SVM 정확도: 0.7813891362422084\n",
      "결정 트리 정확도: 0.6202137132680321\n",
      "랜덤 포레스트 정확도: 0.674087266251113\n",
      "그래디언트 부스팅 트리 정확도: 0.7666963490650045\n",
      "보팅 정확도: 0.8116651825467498\n",
      "run time : 0:22:25\n"
     ]
    }
   ],
   "source": [
    "start = time.time() \n",
    "\n",
    "mod_10k, cb_10k, lr_10k, lsvc_10k, tree_10k, forest_10k, grbt_10k, voting_classifier_10k = train_ml(tfidfv_10k, y_train_10k, tfidfv_test_10k, y_test_10k)\n",
    "\n",
    "sec = time.time()-start\n",
    "times = str(datetime.timedelta(seconds=sec)).split(\".\")\n",
    "times = times[0]\n",
    "print('run time :', times)"
   ]
  },
  {
   "cell_type": "markdown",
   "id": "graduate-amazon",
   "metadata": {},
   "source": [
    "### (3-3) 단어 20000개 사용"
   ]
  },
  {
   "cell_type": "code",
   "execution_count": 32,
   "id": "existing-crisis",
   "metadata": {
    "scrolled": true
   },
   "outputs": [
    {
     "name": "stderr",
     "output_type": "stream",
     "text": [
      "/home/aiffel-dj26/anaconda3/envs/aiffel/lib/python3.7/site-packages/tensorflow_core/python/keras/datasets/reuters.py:113: VisibleDeprecationWarning: Creating an ndarray from ragged nested sequences (which is a list-or-tuple of lists-or-tuples-or ndarrays with different lengths or shapes) is deprecated. If you meant to do this, you must specify 'dtype=object' when creating the ndarray\n",
      "  x_train, y_train = np.array(xs[:idx]), np.array(labels[:idx])\n",
      "/home/aiffel-dj26/anaconda3/envs/aiffel/lib/python3.7/site-packages/tensorflow_core/python/keras/datasets/reuters.py:114: VisibleDeprecationWarning: Creating an ndarray from ragged nested sequences (which is a list-or-tuple of lists-or-tuples-or ndarrays with different lengths or shapes) is deprecated. If you meant to do this, you must specify 'dtype=object' when creating the ndarray\n",
      "  x_test, y_test = np.array(xs[idx:]), np.array(labels[idx:])\n"
     ]
    }
   ],
   "source": [
    "(x_train_20k, y_train_20k), (x_test_20k, y_test_20k) = reuters.load_data(num_words=20000, test_split=0.2)"
   ]
  },
  {
   "cell_type": "code",
   "execution_count": 33,
   "id": "supposed-terry",
   "metadata": {},
   "outputs": [],
   "source": [
    "decoded = []\n",
    "for i in range(len(x_train_20k)):\n",
    "    t = ' '.join([index_to_word[index] for index in x_train_20k[i]])\n",
    "    decoded.append(t)\n",
    "\n",
    "x_train_20k = decoded"
   ]
  },
  {
   "cell_type": "code",
   "execution_count": 34,
   "id": "mighty-protection",
   "metadata": {},
   "outputs": [],
   "source": [
    "decoded = []\n",
    "for i in range(len(x_test_20k)):\n",
    "    t = ' '.join([index_to_word[index] for index in x_test_20k[i]])\n",
    "    decoded.append(t)\n",
    "\n",
    "x_test_20k = decoded"
   ]
  },
  {
   "cell_type": "markdown",
   "id": "ecological-holmes",
   "metadata": {},
   "source": [
    "- 행렬 변환"
   ]
  },
  {
   "cell_type": "code",
   "execution_count": 35,
   "id": "traditional-treasurer",
   "metadata": {},
   "outputs": [
    {
     "name": "stdout",
     "output_type": "stream",
     "text": [
      "(8982, 18479)\n"
     ]
    }
   ],
   "source": [
    "dtmvector = CountVectorizer()\n",
    "x_train_dtm_20k = dtmvector.fit_transform(x_train_20k)\n",
    "print(x_train_dtm_20k.shape)"
   ]
  },
  {
   "cell_type": "code",
   "execution_count": 36,
   "id": "split-painting",
   "metadata": {},
   "outputs": [
    {
     "name": "stdout",
     "output_type": "stream",
     "text": [
      "(8982, 18479)\n"
     ]
    }
   ],
   "source": [
    "tfidf_transformer = TfidfTransformer()\n",
    "tfidfv_20k = tfidf_transformer.fit_transform(x_train_dtm_20k)\n",
    "print(tfidfv_20k.shape)"
   ]
  },
  {
   "cell_type": "code",
   "execution_count": 37,
   "id": "helpful-nigeria",
   "metadata": {},
   "outputs": [],
   "source": [
    "x_test_dtm_20k = dtmvector.transform(x_test_20k) #테스트 데이터를 DTM으로 변환\n",
    "tfidfv_test_20k = tfidf_transformer.transform(x_test_dtm_20k) #DTM을 TF-IDF 행렬로 변환"
   ]
  },
  {
   "cell_type": "code",
   "execution_count": 81,
   "id": "jewish-horror",
   "metadata": {
    "scrolled": false
   },
   "outputs": [
    {
     "name": "stdout",
     "output_type": "stream",
     "text": [
      "나이브 베이즈 정확도: 0.6193232413178985\n",
      "CNB 정확도: 0.7671415850400712\n"
     ]
    },
    {
     "name": "stderr",
     "output_type": "stream",
     "text": [
      "/home/aiffel-dj26/anaconda3/envs/aiffel/lib/python3.7/site-packages/sklearn/linear_model/_logistic.py:764: ConvergenceWarning: lbfgs failed to converge (status=1):\n",
      "STOP: TOTAL NO. of ITERATIONS REACHED LIMIT.\n",
      "\n",
      "Increase the number of iterations (max_iter) or scale the data as shown in:\n",
      "    https://scikit-learn.org/stable/modules/preprocessing.html\n",
      "Please also refer to the documentation for alternative solver options:\n",
      "    https://scikit-learn.org/stable/modules/linear_model.html#logistic-regression\n",
      "  extra_warning_msg=_LOGISTIC_SOLVER_CONVERGENCE_MSG)\n"
     ]
    },
    {
     "name": "stdout",
     "output_type": "stream",
     "text": [
      "로지스틱 회귀 정확도: 0.8098842386464826\n"
     ]
    },
    {
     "name": "stderr",
     "output_type": "stream",
     "text": [
      "/home/aiffel-dj26/anaconda3/envs/aiffel/lib/python3.7/site-packages/sklearn/svm/_base.py:977: ConvergenceWarning: Liblinear failed to converge, increase the number of iterations.\n",
      "  \"the number of iterations.\", ConvergenceWarning)\n"
     ]
    },
    {
     "name": "stdout",
     "output_type": "stream",
     "text": [
      "SVM 정확도: 0.7778272484416741\n",
      "결정 트리 정확도: 0.6211041852181657\n",
      "랜덤 포레스트 정확도: 0.6714158504007124\n",
      "그래디언트 부스팅 트리 정확도: 0.769813000890472\n",
      "보팅 정확도: 0.8178984861976848\n",
      "run time : 0:23:15\n"
     ]
    }
   ],
   "source": [
    "start = time.time() \n",
    "\n",
    "mod_20k, cb_20k, lr_20k, lsvc_20k, tree_20k, forest_20k, grbt_20k, voting_classifier_20k = train_ml(tfidfv_20k, y_train_20k, tfidfv_test_20k, y_test_20k)\n",
    "\n",
    "sec = time.time()-start\n",
    "times = str(datetime.timedelta(seconds=sec)).split(\".\")\n",
    "times = times[0]\n",
    "print('run time :', times)"
   ]
  },
  {
   "cell_type": "markdown",
   "id": "institutional-kinase",
   "metadata": {},
   "source": [
    "### 성능 평가\n",
    "- 각 vocab size별 모델의 정확도를 이용해 성능을 평가한다."
   ]
  },
  {
   "cell_type": "markdown",
   "id": "instructional-eating",
   "metadata": {},
   "source": [
    "### 전체 단어 \n",
    "- 나이브 베이즈 정확도: 0.5997328584149599     \n",
    "- CNB 정확도: 0.7649154051647373                 \n",
    "- 로지스틱 회귀 정확도: 0.813446126447017\n",
    "- SVM 정확도: 0.784060552092609\n",
    "- 결정 트리 정확도: 0.6211041852181657\n",
    "- 랜덤 포레스트 정확도: 0.6544968833481746\n",
    "- 그래디언트 부스팅 트리 정확도: 0.7702582368655387\n",
    "- 보팅 정확도: 0.8187889581478184\n",
    "\n",
    "### 5000개\n",
    "- 나이브 베이즈 정확도: 0.6731967943009796\n",
    "- CNB 정확도: 0.7707034728406055\n",
    "- 로지스틱 회귀 정확도: 0.8058771148708815\n",
    "- SVM 정확도: 0.7666963490650045\n",
    "- 결정 트리 정확도: 0.6179875333926982\n",
    "- 랜덤 포레스트 정확도: 0.701246660730187\n",
    "- 그래디언트 부스팅 트리 정확도: 0.767586821015138\n",
    "- 보팅 정확도: 0.8161175422974176\n",
    "\n",
    "### 1000개\n",
    "- 나이브 베이즈 정확도: 0.6856634016028496\n",
    "- CNB 정확도: 0.7346393588601959\n",
    "- 로지스틱 회귀 정확도: 0.780053428317008\n",
    "- SVM 정확도: 0.7172751558325913\n",
    "- 결정 트리 정확도: 0.6179875333926982\n",
    "- 랜덤 포레스트 정확도: 0.707479964381122\n",
    "- 그래디언트 부스팅 트리 정확도: 0.7457702582368655\n",
    "- 보팅 정확도: 0.7845057880676759\n",
    "\n",
    "### 10000개\n",
    "- 나이브 베이즈 정확도: 0.6567230632235085\n",
    "- CNB 정확도: 0.7707034728406055\n",
    "- 로지스틱 회귀 정확도: 0.8076580587711487\n",
    "- SVM 정확도: 0.7813891362422084\n",
    "- 결정 트리 정확도: 0.6202137132680321\n",
    "- 랜덤 포레스트 정확도: 0.674087266251113\n",
    "- 그래디언트 부스팅 트리 정확도: 0.7666963490650045\n",
    "- 보팅 정확도: 0.8116651825467498\n",
    "\n",
    "### 20000개\n",
    "- 나이브 베이즈 정확도: 0.6193232413178985\n",
    "- CNB 정확도: 0.7671415850400712\n",
    "- 로지스틱 회귀 정확도: 0.8098842386464826\n",
    "- SVM 정확도: 0.7778272484416741\n",
    "- 결정 트리 정확도: 0.6211041852181657\n",
    "- 랜덤 포레스트 정확도: 0.6714158504007124\n",
    "- 그래디언트 부스팅 트리 정확도: 0.769813000890472\n",
    "- 보팅 정확도: 0.8178984861976848"
   ]
  },
  {
   "cell_type": "code",
   "execution_count": 53,
   "id": "thrown-purse",
   "metadata": {},
   "outputs": [],
   "source": [
    "bayse = [0.5997328584149599, 0.6731967943009796, 0.6856634016028496, 0.6567230632235085, 0.6193232413178985]\n",
    "cnb = [0.7649154051647373, 0.7707034728406055, 0.7346393588601959, 0.7707034728406055, 0.7671415850400712]\n",
    "logistic = [0.813446126447017, 0.8058771148708815, 0.7346393588601959, 0.7707034728406055, 0.7671415850400712]\n",
    "svm = [0.784060552092609, 0.7666963490650045, 0.7172751558325913, 0.7813891362422084, 0.7778272484416741]\n",
    "tree = [0.6211041852181657, 0.6179875333926982, 0.6179875333926982, 0.6202137132680321, 0.6211041852181657]\n",
    "rf = [0.6544968833481746, 0.701246660730187, 0.707479964381122, 0.674087266251113, 0.6714158504007124]\n",
    "gbs = [0.7702582368655387, 0.767586821015138, 0.7457702582368655, 0.7666963490650045, 0.769813000890472]\n",
    "voting = [0.8187889581478184, 0.8161175422974176, 0.7845057880676759, 0.8116651825467498, 0.8178984861976848]\n",
    "\n",
    "vocab_size_list = ['whole', '5k', '1k', '10k', '20k']\n",
    "model_list = [bayse, cnb, logistic, svm, tree, rf, gbs, voting]"
   ]
  },
  {
   "cell_type": "code",
   "execution_count": 86,
   "id": "wrapped-boxing",
   "metadata": {},
   "outputs": [],
   "source": [
    "acc_dict = {}\n",
    "for idx, vs in enumerate(vocab_size_list):\n",
    "    acc_list = []\n",
    "    for model in model_list:\n",
    "        acc_list.append(model[idx])\n",
    "    acc_dict[vs] = sum(acc_list)/len(model_list)"
   ]
  },
  {
   "cell_type": "code",
   "execution_count": 87,
   "id": "solar-sterling",
   "metadata": {},
   "outputs": [
    {
     "data": {
      "text/plain": [
       "{'whole': 0.7283504007123776,\n",
       " '5k': 0.7399265360641141,\n",
       " '1k': 0.7159951024042743,\n",
       " '10k': 0.7315227070347284,\n",
       " '20k': 0.7264581478183436}"
      ]
     },
     "execution_count": 87,
     "metadata": {},
     "output_type": "execute_result"
    }
   ],
   "source": [
    "acc_dict"
   ]
  },
  {
   "cell_type": "markdown",
   "id": "applicable-acting",
   "metadata": {},
   "source": [
    "### 각 모델의 정확도 확인 결과, 5000개의 단어 개수가 가장 정확도가 높았음을 알 수 있었다. \n",
    "\n",
    "## 4. 딥러닝 모델 학습"
   ]
  },
  {
   "cell_type": "code",
   "execution_count": 22,
   "id": "reverse-carnival",
   "metadata": {},
   "outputs": [
    {
     "name": "stdout",
     "output_type": "stream",
     "text": [
      "Model: \"sequential\"\n",
      "_________________________________________________________________\n",
      "Layer (type)                 Output Shape              Param #   \n",
      "=================================================================\n",
      "embedding (Embedding)        (None, None, 32)          640000    \n",
      "_________________________________________________________________\n",
      "lstm (LSTM)                  (None, 32)                8320      \n",
      "_________________________________________________________________\n",
      "dense (Dense)                (None, 46)                1518      \n",
      "=================================================================\n",
      "Total params: 649,838\n",
      "Trainable params: 649,838\n",
      "Non-trainable params: 0\n",
      "_________________________________________________________________\n"
     ]
    }
   ],
   "source": [
    "from tensorflow import keras\n",
    "\n",
    "vocab_size = 20000\n",
    "word_vector_dim = 32  \n",
    "\n",
    "model_LSTM = keras.Sequential()\n",
    "model_LSTM.add(keras.layers.Embedding(vocab_size, \n",
    "                                 word_vector_dim))\n",
    "model_LSTM.add(keras.layers.LSTM(32))\n",
    "# model_LSTM.add(keras.layers.Dense(128, activation='relu'))  \n",
    "model_LSTM.add(keras.layers.Dense(num_classes, activation='softmax'))  \n",
    "\n",
    "model_LSTM.summary()"
   ]
  },
  {
   "cell_type": "code",
   "execution_count": 47,
   "id": "intelligent-deficit",
   "metadata": {
    "scrolled": false
   },
   "outputs": [
    {
     "data": {
      "text/plain": [
       "((8982, 18479), (8982,))"
      ]
     },
     "execution_count": 47,
     "metadata": {},
     "output_type": "execute_result"
    }
   ],
   "source": [
    "tfidfv_20k.shape, y_train_20k.shape"
   ]
  },
  {
   "cell_type": "markdown",
   "id": "gross-fabric",
   "metadata": {},
   "source": [
    "### 학습 데이터 실험\n",
    "- sparse한 행렬을 dense하게 만들기 위해 두가지 변환으로 실험\n",
    "1. toarray() : array로 변환(에러메세지에서 추천하는 방법)\n",
    "2. todense() : Return a dense matrix representation of this matrix."
   ]
  },
  {
   "cell_type": "code",
   "execution_count": 39,
   "id": "ecological-variance",
   "metadata": {},
   "outputs": [],
   "source": [
    "tfidfv_20k_arr = tfidfv_20k.toarray()\n",
    "tfidfv_20k_dense = tfidfv_20k.todense()"
   ]
  },
  {
   "cell_type": "code",
   "execution_count": 40,
   "id": "smart-stadium",
   "metadata": {},
   "outputs": [],
   "source": [
    "tfidfv_test_20k_arr = tfidfv_test_20k.toarray()\n",
    "tfidfv_test_20k_dense = tfidfv_test_20k.todense()"
   ]
  },
  {
   "cell_type": "code",
   "execution_count": 27,
   "id": "powerful-collectible",
   "metadata": {
    "scrolled": true
   },
   "outputs": [
    {
     "name": "stdout",
     "output_type": "stream",
     "text": [
      "Train on 7185 samples, validate on 1797 samples\n",
      "Epoch 1/20\n",
      "7185/7185 [==============================] - 82s 11ms/sample - loss: 2.7577 - accuracy: 0.3441 - val_loss: 2.4127 - val_accuracy: 0.3450\n",
      "Epoch 2/20\n",
      "7185/7185 [==============================] - 79s 11ms/sample - loss: 2.4090 - accuracy: 0.3534 - val_loss: 2.4080 - val_accuracy: 0.3450\n",
      "Epoch 3/20\n",
      "7185/7185 [==============================] - 80s 11ms/sample - loss: 2.4071 - accuracy: 0.3534 - val_loss: 2.4078 - val_accuracy: 0.3450\n",
      "Epoch 4/20\n",
      "7185/7185 [==============================] - 79s 11ms/sample - loss: 2.4065 - accuracy: 0.3534 - val_loss: 2.4085 - val_accuracy: 0.3450\n",
      "Epoch 5/20\n",
      "7185/7185 [==============================] - 78s 11ms/sample - loss: 2.4069 - accuracy: 0.3534 - val_loss: 2.4062 - val_accuracy: 0.3450\n",
      "Epoch 6/20\n",
      "7185/7185 [==============================] - 78s 11ms/sample - loss: 2.4062 - accuracy: 0.3534 - val_loss: 2.4057 - val_accuracy: 0.3450\n",
      "Epoch 7/20\n",
      "7185/7185 [==============================] - 79s 11ms/sample - loss: 2.4070 - accuracy: 0.3534 - val_loss: 2.4055 - val_accuracy: 0.3450\n",
      "Epoch 8/20\n",
      "7185/7185 [==============================] - 80s 11ms/sample - loss: 2.4059 - accuracy: 0.3534 - val_loss: 2.4085 - val_accuracy: 0.3450\n",
      "Epoch 9/20\n",
      "7185/7185 [==============================] - 79s 11ms/sample - loss: 2.4066 - accuracy: 0.3534 - val_loss: 2.4043 - val_accuracy: 0.3450\n",
      "Epoch 10/20\n",
      "7185/7185 [==============================] - 79s 11ms/sample - loss: 2.4070 - accuracy: 0.3534 - val_loss: 2.4072 - val_accuracy: 0.3450\n",
      "Epoch 11/20\n",
      "7185/7185 [==============================] - 79s 11ms/sample - loss: 2.4063 - accuracy: 0.3534 - val_loss: 2.4073 - val_accuracy: 0.3450\n",
      "Epoch 12/20\n",
      "7185/7185 [==============================] - 79s 11ms/sample - loss: 2.4060 - accuracy: 0.3534 - val_loss: 2.4098 - val_accuracy: 0.3450\n",
      "Epoch 13/20\n",
      "7185/7185 [==============================] - 79s 11ms/sample - loss: 2.4065 - accuracy: 0.3534 - val_loss: 2.4102 - val_accuracy: 0.3450\n",
      "Epoch 00013: early stopping\n"
     ]
    }
   ],
   "source": [
    "es = keras.callbacks.EarlyStopping(monitor='val_loss', mode='min', verbose=1, patience=4)\n",
    "\n",
    "model_LSTM.compile(optimizer='adam',\n",
    "              loss='sparse_categorical_crossentropy',\n",
    "              metrics=['accuracy'])\n",
    "            \n",
    "epochs=20\n",
    "batch_size=64\n",
    "\n",
    "\n",
    "history_LSTM = model_LSTM.fit(tfidfv_20k_arr,\n",
    "                                y_train_20k,\n",
    "                                epochs=epochs,\n",
    "                                batch_size=batch_size,\n",
    "                                callbacks=[es],\n",
    "                                validation_split=0.2,\n",
    "                                verbose=1)"
   ]
  },
  {
   "cell_type": "code",
   "execution_count": 30,
   "id": "measured-width",
   "metadata": {},
   "outputs": [
    {
     "name": "stdout",
     "output_type": "stream",
     "text": [
      "2246/2246 - 19s - loss: 2.4174 - accuracy: 0.3620\n",
      "[2.4173861999970296, 0.36197686]\n"
     ]
    }
   ],
   "source": [
    "results = model_LSTM.evaluate(tfidfv_test_20k_arr,  y_test_20k, verbose=2)\n",
    "print(results)"
   ]
  },
  {
   "cell_type": "code",
   "execution_count": 30,
   "id": "improved-azerbaijan",
   "metadata": {},
   "outputs": [
    {
     "name": "stdout",
     "output_type": "stream",
     "text": [
      "Model: \"sequential_2\"\n",
      "_________________________________________________________________\n",
      "Layer (type)                 Output Shape              Param #   \n",
      "=================================================================\n",
      "embedding_2 (Embedding)      (None, None, 32)          640000    \n",
      "_________________________________________________________________\n",
      "lstm_2 (LSTM)                (None, 32)                8320      \n",
      "_________________________________________________________________\n",
      "dense_2 (Dense)              (None, 46)                1518      \n",
      "=================================================================\n",
      "Total params: 649,838\n",
      "Trainable params: 649,838\n",
      "Non-trainable params: 0\n",
      "_________________________________________________________________\n"
     ]
    }
   ],
   "source": [
    "from tensorflow import keras\n",
    "\n",
    "vocab_size = 20000\n",
    "word_vector_dim = 32  \n",
    "\n",
    "model_LSTM_dense = keras.Sequential()\n",
    "model_LSTM_dense.add(keras.layers.Embedding(vocab_size, \n",
    "                                 word_vector_dim))\n",
    "model_LSTM_dense.add(keras.layers.LSTM(32))\n",
    "# model_LSTM_dense.add(keras.layers.Dense(128, activation='relu'))  \n",
    "model_LSTM_dense.add(keras.layers.Dense(num_classes, activation='softmax'))  \n",
    "\n",
    "model_LSTM_dense.summary()"
   ]
  },
  {
   "cell_type": "code",
   "execution_count": 31,
   "id": "practical-ghana",
   "metadata": {},
   "outputs": [
    {
     "name": "stdout",
     "output_type": "stream",
     "text": [
      "Train on 7185 samples, validate on 1797 samples\n",
      "Epoch 1/20\n",
      "7185/7185 [==============================] - 78s 11ms/sample - loss: 2.7400 - accuracy: 0.3482 - val_loss: 2.4057 - val_accuracy: 0.3450\n",
      "Epoch 2/20\n",
      "7185/7185 [==============================] - 77s 11ms/sample - loss: 2.4085 - accuracy: 0.3534 - val_loss: 2.4080 - val_accuracy: 0.3450\n",
      "Epoch 3/20\n",
      "7185/7185 [==============================] - 77s 11ms/sample - loss: 2.4079 - accuracy: 0.3534 - val_loss: 2.4091 - val_accuracy: 0.3450\n",
      "Epoch 4/20\n",
      "7185/7185 [==============================] - 76s 11ms/sample - loss: 2.4060 - accuracy: 0.3534 - val_loss: 2.4055 - val_accuracy: 0.3450\n",
      "Epoch 5/20\n",
      "7185/7185 [==============================] - 76s 11ms/sample - loss: 2.4064 - accuracy: 0.3534 - val_loss: 2.4080 - val_accuracy: 0.3450\n",
      "Epoch 6/20\n",
      "7185/7185 [==============================] - 76s 11ms/sample - loss: 2.4070 - accuracy: 0.3534 - val_loss: 2.4081 - val_accuracy: 0.3450\n",
      "Epoch 7/20\n",
      "7185/7185 [==============================] - 76s 11ms/sample - loss: 2.4066 - accuracy: 0.3534 - val_loss: 2.4071 - val_accuracy: 0.3450\n",
      "Epoch 8/20\n",
      "7185/7185 [==============================] - 76s 11ms/sample - loss: 2.4072 - accuracy: 0.3534 - val_loss: 2.4067 - val_accuracy: 0.3450\n",
      "Epoch 00008: early stopping\n"
     ]
    }
   ],
   "source": [
    "es = keras.callbacks.EarlyStopping(monitor='val_loss', mode='min', verbose=1, patience=4)\n",
    "\n",
    "model_LSTM_dense.compile(optimizer='adam',\n",
    "              loss='sparse_categorical_crossentropy',\n",
    "              metrics=['accuracy'])\n",
    "            \n",
    "epochs=20\n",
    "batch_size=64\n",
    "\n",
    "history_LSTM_dense = model_LSTM_dense.fit(tfidfv_20k_desnse,\n",
    "                                y_train_20k,\n",
    "                                epochs=epochs,\n",
    "                                batch_size=batch_size,\n",
    "                                callbacks=[es],\n",
    "                                validation_split=0.2,\n",
    "                                verbose=1)"
   ]
  },
  {
   "cell_type": "code",
   "execution_count": 33,
   "id": "experimental-stick",
   "metadata": {
    "scrolled": true
   },
   "outputs": [
    {
     "name": "stdout",
     "output_type": "stream",
     "text": [
      "2246/2246 - 16s - loss: 2.4157 - accuracy: 0.3620\n",
      "[2.415727226625886, 0.36197686]\n"
     ]
    }
   ],
   "source": [
    "results_dense = model_LSTM_dense.evaluate(tfidfv_test_20k_dense,  y_test_20k, verbose=2)\n",
    "print(results_dense)"
   ]
  },
  {
   "cell_type": "markdown",
   "id": "timely-steal",
   "metadata": {},
   "source": [
    "- toarray() : \\[2.4173861999970296, 0.36197686\\]\n",
    "- todense() : \\[2.415727226625886, 0.36197686\\]\n",
    "\n",
    "**toarray(), todense()로 학습한 결과 큰 차이가 나지 않았다.**\n",
    "\n",
    "- 인풋에 대해 sparse함을 확인할 수 있는 scipy의 **issparse**를 이용해 확인한다."
   ]
  },
  {
   "cell_type": "code",
   "execution_count": 39,
   "id": "modified-handbook",
   "metadata": {},
   "outputs": [
    {
     "data": {
      "text/plain": [
       "True"
      ]
     },
     "execution_count": 39,
     "metadata": {},
     "output_type": "execute_result"
    }
   ],
   "source": [
    "sparse.issparse(tfidfv_test_20k)"
   ]
  },
  {
   "cell_type": "code",
   "execution_count": 37,
   "id": "interstate-flashing",
   "metadata": {},
   "outputs": [
    {
     "data": {
      "text/plain": [
       "False"
      ]
     },
     "execution_count": 37,
     "metadata": {},
     "output_type": "execute_result"
    }
   ],
   "source": [
    "from scipy import sparse \n",
    "\n",
    "sparse.issparse(tfidfv_test_20k_dense)"
   ]
  },
  {
   "cell_type": "code",
   "execution_count": 38,
   "id": "unlikely-little",
   "metadata": {},
   "outputs": [
    {
     "data": {
      "text/plain": [
       "False"
      ]
     },
     "execution_count": 38,
     "metadata": {},
     "output_type": "execute_result"
    }
   ],
   "source": [
    "sparse.issparse(tfidfv_test_20k_arr)"
   ]
  },
  {
   "cell_type": "markdown",
   "id": "brilliant-vision",
   "metadata": {},
   "source": [
    "- toarray(), todense() 모두 sparse했던 행렬을 dense하게 변환시킨 것을 확인했다. \n",
    "- TF-IDF행렬로 vectorizing한 input을 사용하기 때문에 행렬형태인 todense()의 결과를 모델에 사용하겠다."
   ]
  },
  {
   "cell_type": "markdown",
   "id": "plastic-evaluation",
   "metadata": {},
   "source": [
    "### 성능 향상\n",
    "- 모델의 레이어를 추가하며 accuracy를 향상시킨다."
   ]
  },
  {
   "cell_type": "code",
   "execution_count": 41,
   "id": "stretch-means",
   "metadata": {},
   "outputs": [],
   "source": [
    "from tensorflow import keras\n",
    "\n",
    "def rnn(num_layer=8):\n",
    "\n",
    "    model_dense = keras.Sequential()\n",
    "    model_dense.add(keras.layers.Dense(num_layer*4, activation='relu', input_shape=(tfidfv_20k_dense.shape[1],)))  \n",
    "    model_dense.add(keras.layers.Dense(num_layer*4, activation='relu')) \n",
    "    model_dense.add(keras.layers.Dense(num_layer*8, activation='relu')) \n",
    "    model_dense.add(keras.layers.Dense(num_layer*16, activation='relu'))  \n",
    "    model_dense.add(keras.layers.Dense(num_classes, activation='softmax'))  \n",
    "\n",
    "    model_dense.summary()\n",
    "    \n",
    "    es = keras.callbacks.EarlyStopping(monitor='val_loss', mode='min', verbose=1, patience=4)\n",
    "\n",
    "    model_dense.compile(optimizer='adam',\n",
    "                  loss='sparse_categorical_crossentropy',\n",
    "                  metrics=['accuracy'])\n",
    "\n",
    "    epochs=20\n",
    "    batch_size=128\n",
    "\n",
    "    history_dense = model_dense.fit(tfidfv_20k_dense,\n",
    "                                    y_train_20k,\n",
    "                                    epochs=epochs,\n",
    "                                    batch_size=batch_size,\n",
    "                                    callbacks=[es],\n",
    "                                    validation_split=0.2,\n",
    "                                    verbose=1)\n",
    "    \n",
    "    results = model_dense.evaluate(tfidfv_test_20k_dense,  y_test_20k, verbose=2)\n",
    "    print(results)\n",
    "    \n",
    "    return history_dense, model_dense"
   ]
  },
  {
   "cell_type": "code",
   "execution_count": 42,
   "id": "arabic-spotlight",
   "metadata": {
    "scrolled": true
   },
   "outputs": [
    {
     "name": "stdout",
     "output_type": "stream",
     "text": [
      "Model: \"sequential\"\n",
      "_________________________________________________________________\n",
      "Layer (type)                 Output Shape              Param #   \n",
      "=================================================================\n",
      "dense (Dense)                (None, 32)                591360    \n",
      "_________________________________________________________________\n",
      "dense_1 (Dense)              (None, 32)                1056      \n",
      "_________________________________________________________________\n",
      "dense_2 (Dense)              (None, 64)                2112      \n",
      "_________________________________________________________________\n",
      "dense_3 (Dense)              (None, 128)               8320      \n",
      "_________________________________________________________________\n",
      "dense_4 (Dense)              (None, 46)                5934      \n",
      "=================================================================\n",
      "Total params: 608,782\n",
      "Trainable params: 608,782\n",
      "Non-trainable params: 0\n",
      "_________________________________________________________________\n",
      "Train on 7185 samples, validate on 1797 samples\n",
      "Epoch 1/20\n",
      "7185/7185 [==============================] - 1s 157us/sample - loss: 2.8339 - accuracy: 0.3491 - val_loss: 1.9976 - val_accuracy: 0.3450\n",
      "Epoch 2/20\n",
      "7185/7185 [==============================] - 1s 78us/sample - loss: 1.7319 - accuracy: 0.5228 - val_loss: 1.5294 - val_accuracy: 0.6205\n",
      "Epoch 3/20\n",
      "7185/7185 [==============================] - 1s 79us/sample - loss: 1.2888 - accuracy: 0.6747 - val_loss: 1.2876 - val_accuracy: 0.6622\n",
      "Epoch 4/20\n",
      "7185/7185 [==============================] - 1s 79us/sample - loss: 0.9827 - accuracy: 0.7368 - val_loss: 1.1549 - val_accuracy: 0.7390\n",
      "Epoch 5/20\n",
      "7185/7185 [==============================] - 1s 80us/sample - loss: 0.7295 - accuracy: 0.8177 - val_loss: 1.1178 - val_accuracy: 0.7457\n",
      "Epoch 6/20\n",
      "7185/7185 [==============================] - 1s 79us/sample - loss: 0.5511 - accuracy: 0.8537 - val_loss: 1.1790 - val_accuracy: 0.7468\n",
      "Epoch 7/20\n",
      "7185/7185 [==============================] - 1s 79us/sample - loss: 0.4422 - accuracy: 0.8863 - val_loss: 1.2084 - val_accuracy: 0.7479\n",
      "Epoch 8/20\n",
      "7185/7185 [==============================] - 1s 77us/sample - loss: 0.3422 - accuracy: 0.9158 - val_loss: 1.3051 - val_accuracy: 0.7568\n",
      "Epoch 9/20\n",
      "7185/7185 [==============================] - 1s 79us/sample - loss: 0.2790 - accuracy: 0.9289 - val_loss: 1.3203 - val_accuracy: 0.7501\n",
      "Epoch 00009: early stopping\n",
      "2246/2246 - 0s - loss: 1.4115 - accuracy: 0.7324\n",
      "[1.4114500380793746, 0.7324132]\n"
     ]
    }
   ],
   "source": [
    "history_dense, model_dense = rnn()"
   ]
  },
  {
   "cell_type": "code",
   "execution_count": 27,
   "id": "electronic-ownership",
   "metadata": {},
   "outputs": [],
   "source": [
    "def visualize_train(train_history):\n",
    "    # summarize history for accuracy\n",
    "    plt.plot(train_history.history['accuracy'])\n",
    "    plt.plot(train_history.history['val_accuracy'])\n",
    "    plt.title('accuracy')\n",
    "    plt.ylabel('accuracy')\n",
    "    plt.xlabel('epoch')\n",
    "    plt.legend(['train', 'val'], loc='upper left')\n",
    "    plt.show()\n",
    "    # summarize history for loss\n",
    "    plt.plot(train_history.history['loss'])\n",
    "    plt.plot(train_history.history['val_loss'])\n",
    "    plt.title('loss')\n",
    "    plt.ylabel('loss')\n",
    "    plt.xlabel('epoch')\n",
    "    plt.legend(['train', 'val'], loc='upper left')\n",
    "    plt.show()"
   ]
  },
  {
   "cell_type": "code",
   "execution_count": 28,
   "id": "asian-mayor",
   "metadata": {
    "scrolled": true
   },
   "outputs": [
    {
     "data": {
      "image/png": "[encoded data removed]",
      "text/plain": [
       "<Figure size 432x288 with 1 Axes>"
      ]
     },
     "metadata": {
      "needs_background": "light"
     },
     "output_type": "display_data"
    },
    {
     "data": {
      "image/png": "[encoded data removed]",
      "text/plain": [
       "<Figure size 432x288 with 1 Axes>"
      ]
     },
     "metadata": {
      "needs_background": "light"
     },
     "output_type": "display_data"
    }
   ],
   "source": [
    "visualize_train(history_dense)"
   ]
  },
  {
   "cell_type": "code",
   "execution_count": 49,
   "id": "informal-maintenance",
   "metadata": {},
   "outputs": [
    {
     "data": {
      "text/plain": [
       "array([[2.3596578e-09, 1.1202242e-02, 2.6613529e-08, ..., 2.6299460e-08,\n",
       "        5.1851712e-10, 6.4061179e-10],\n",
       "       [9.9257195e-05, 2.4428587e-05, 1.8817149e-05, ..., 2.7162274e-11,\n",
       "        3.8502634e-08, 1.3857623e-09],\n",
       "       [1.5992306e-05, 6.6110200e-01, 6.8357554e-03, ..., 1.9274550e-05,\n",
       "        5.9376680e-06, 8.0461041e-07],\n",
       "       ...,\n",
       "       [4.8251149e-13, 1.4291499e-05, 1.8133817e-12, ..., 3.7168546e-11,\n",
       "        3.0184316e-13, 9.2020673e-13],\n",
       "       [4.0048771e-04, 9.0070330e-02, 1.0920715e-03, ..., 2.9568464e-04,\n",
       "        2.4221664e-04, 1.6702710e-04],\n",
       "       [2.5708746e-04, 2.4997425e-01, 1.0343136e-01, ..., 6.5832995e-05,\n",
       "        6.7426740e-06, 1.3649124e-06]], dtype=float32)"
      ]
     },
     "execution_count": 49,
     "metadata": {},
     "output_type": "execute_result"
    }
   ],
   "source": [
    "model_dense.predict(tfidfv_test_20k_dense)"
   ]
  },
  {
   "cell_type": "code",
   "execution_count": 46,
   "id": "governmental-lending",
   "metadata": {
    "scrolled": true
   },
   "outputs": [
    {
     "name": "stdout",
     "output_type": "stream",
     "text": [
      "              precision    recall  f1-score   support\n",
      "\n",
      "           0       0.37      0.58      0.45        12\n",
      "           1       0.66      0.72      0.69       105\n",
      "           2       0.36      0.25      0.29        20\n",
      "           3       0.86      0.95      0.90       813\n",
      "           4       0.86      0.81      0.84       474\n",
      "           5       0.25      0.20      0.22         5\n",
      "           6       0.55      0.43      0.48        14\n",
      "           7       0.00      0.00      0.00         3\n",
      "           8       0.58      0.66      0.62        38\n",
      "           9       0.71      0.68      0.69        25\n",
      "          10       0.81      0.57      0.67        30\n",
      "          11       0.59      0.69      0.63        83\n",
      "          12       0.33      0.23      0.27        13\n",
      "          13       0.37      0.46      0.41        37\n",
      "          14       0.00      0.00      0.00         2\n",
      "          15       0.00      0.00      0.00         9\n",
      "          16       0.70      0.56      0.62        99\n",
      "          17       0.20      0.17      0.18        12\n",
      "          18       0.43      0.50      0.47        20\n",
      "          19       0.68      0.55      0.61       133\n",
      "          20       0.45      0.57      0.51        70\n",
      "          21       0.62      0.59      0.60        27\n",
      "          22       0.00      0.00      0.00         7\n",
      "          23       0.29      0.33      0.31        12\n",
      "          24       0.27      0.42      0.33        19\n",
      "          25       0.79      0.48      0.60        31\n",
      "          26       0.17      0.12      0.14         8\n",
      "          27       0.00      0.00      0.00         4\n",
      "          28       0.33      0.30      0.32        10\n",
      "          29       0.00      0.00      0.00         4\n",
      "          30       0.60      0.25      0.35        12\n",
      "          31       0.38      0.23      0.29        13\n",
      "          32       0.75      0.60      0.67        10\n",
      "          33       1.00      0.80      0.89         5\n",
      "          34       0.27      0.43      0.33         7\n",
      "          35       0.00      0.00      0.00         6\n",
      "          36       0.29      0.55      0.37        11\n",
      "          37       0.00      0.00      0.00         2\n",
      "          38       0.00      0.00      0.00         3\n",
      "          39       0.00      0.00      0.00         5\n",
      "          40       0.21      0.30      0.25        10\n",
      "          41       0.29      0.25      0.27         8\n",
      "          42       0.00      0.00      0.00         3\n",
      "          43       0.00      0.00      0.00         6\n",
      "          44       0.00      0.00      0.00         5\n",
      "          45       0.00      0.00      0.00         1\n",
      "\n",
      "    accuracy                           0.73      2246\n",
      "   macro avg       0.35      0.33      0.33      2246\n",
      "weighted avg       0.72      0.73      0.72      2246\n",
      "\n"
     ]
    },
    {
     "name": "stderr",
     "output_type": "stream",
     "text": [
      "/home/aiffel-dj26/anaconda3/envs/aiffel/lib/python3.7/site-packages/sklearn/metrics/_classification.py:1221: UndefinedMetricWarning: Precision and F-score are ill-defined and being set to 0.0 in labels with no predicted samples. Use `zero_division` parameter to control this behavior.\n",
      "  _warn_prf(average, modifier, msg_start, len(result))\n"
     ]
    }
   ],
   "source": [
    "from sklearn.metrics import classification_report\n",
    "from sklearn.metrics import confusion_matrix\n",
    "\n",
    "print(classification_report(y_test_20k, model_dense.predict(tfidfv_test_20k_dense).argmax(axis=1)))"
   ]
  },
  {
   "cell_type": "code",
   "execution_count": 51,
   "id": "capital-administrator",
   "metadata": {},
   "outputs": [],
   "source": [
    "def graph_confusion_matrix(model, x_test, y_test):#, classes_name):\n",
    "    df_cm = pd.DataFrame(confusion_matrix(y_test, model.predict(x_test).argmax(axis=1)))#, index=classes_name, columns=classes_name)\n",
    "    fig = plt.figure(figsize=(15,15))\n",
    "    heatmap = sns.heatmap(df_cm, annot=True, fmt=\"d\")\n",
    "    heatmap.yaxis.set_ticklabels(heatmap.yaxis.get_ticklabels(), rotation=0, ha='right', fontsize=12)\n",
    "    heatmap.xaxis.set_ticklabels(heatmap.xaxis.get_ticklabels(), rotation=45, ha='right', fontsize=12)\n",
    "    plt.ylabel('label')\n",
    "    plt.xlabel('predicted value')"
   ]
  },
  {
   "cell_type": "code",
   "execution_count": 52,
   "id": "norman-stage",
   "metadata": {},
   "outputs": [
    {
     "data": {
      "image/png": "[encoded data removed]",
      "text/plain": [
       "<Figure size 1080x1080 with 2 Axes>"
      ]
     },
     "metadata": {
      "needs_background": "light"
     },
     "output_type": "display_data"
    }
   ],
   "source": [
    "graph_confusion_matrix(model_dense, tfidfv_test_20k_dense, y_test_20k)"
   ]
  },
  {
   "cell_type": "markdown",
   "id": "automotive-ethics",
   "metadata": {},
   "source": [
    "# 루브릭 평가\n",
    "---\n",
    "1. **분류 모델의 accuracy가 기준 이상 높게 나왔는가?**   \n",
    "\n",
    "    - 5가지의 경우를 테스트하고 모델 별 accuracy를 확인했다.  \n",
    "\n",
    "\n",
    "2. **분류 모델의 F1 score가 기준 이상 높게 나왔는가?**\n",
    "\n",
    "    - f1 score를 출력해 높게 나온 것을 확인할 수 있었다. \n",
    "    \n",
    "     \n",
    "3. **생성모델의 metric(BLEU 등) 기준 이상 높은 성능이 확인되었는가?** \n",
    " \n",
    "     - confusion matrix, f1 score, 딥러닝 모델의 경우 test dataset의 accuracy를 확인했고, 기준 이상의 높은 성능을 확인했다. \n",
    "\n",
    "\n",
    "    \n",
    "# 회고\n",
    "---\n",
    "\n",
    "## 어려웠던 부분 \n",
    "- 머신러닝의 경우 학습시간이 오래걸렸고,  rnn으로 자주 사용되는 lstm으로 학습했을 때는 정확도가 나오지 않아서 어려웠다. \n",
    "\n",
    "## 알아낸 점 혹은 모호한 부분 \n",
    "- dense layer로만 분류하는 것이 더 성능이 좋았다. \n",
    "- sparse한 행렬의 경우 학습이 이루어지지 않고, 이를 toarray(), todense()로 해결할 수 있었다.\n",
    "- sparse함을 확인하는 함수, issparse()를 알게 되었다. \n",
    "\n",
    "## 평가기준을 위해 시도한 부분 \n",
    "- 단어 크기 별 각 모델의 정확도를 계산해서 파라미터를 설정할 수 있었다. \n",
    "\n",
    "## 느낀 점 \n",
    "- 이번에 과정을 함수로 만들어 시도하였는데 확실히 코드가 깔끔해지고 여러 실험을 간편하게 할 수 있음을 알게 되었다. "
   ]
  }
 ],
 "metadata": {
  "kernelspec": {
   "display_name": "Python 3",
   "language": "python",
   "name": "python3"
  },
  "language_info": {
   "codemirror_mode": {
    "name": "ipython",
    "version": 3
   },
   "file_extension": ".py",
   "mimetype": "text/x-python",
   "name": "python",
   "nbconvert_exporter": "python",
   "pygments_lexer": "ipython3",
   "version": "3.7.9"
  }
 },
 "nbformat": 4,
 "nbformat_minor": 5
}
