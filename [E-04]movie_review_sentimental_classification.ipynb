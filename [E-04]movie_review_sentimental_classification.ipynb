{
 "cells": [
  {
   "cell_type": "markdown",
   "metadata": {},
   "source": [
    "# [Exploration 04] Movie Review Sentimental Classification\n",
    "- 네이버 영화리뷰 corpus dataset을 이용해 **한국어 텍스트**의 감정분석을 한다.  \n",
    "\n",
    "## 1. load data\n",
    "- pd.read_table 을 이용해 불러온 데이터를 확인한다. "
   ]
  },
  {
   "cell_type": "code",
   "execution_count": 1,
   "metadata": {},
   "outputs": [
    {
     "data": {
      "text/html": [
       "<div>\n",
       "<style scoped>\n",
       "    .dataframe tbody tr th:only-of-type {\n",
       "        vertical-align: middle;\n",
       "    }\n",
       "\n",
       "    .dataframe tbody tr th {\n",
       "        vertical-align: top;\n",
       "    }\n",
       "\n",
       "    .dataframe thead th {\n",
       "        text-align: right;\n",
       "    }\n",
       "</style>\n",
       "<table border=\"1\" class=\"dataframe\">\n",
       "  <thead>\n",
       "    <tr style=\"text-align: right;\">\n",
       "      <th></th>\n",
       "      <th>id</th>\n",
       "      <th>document</th>\n",
       "      <th>label</th>\n",
       "    </tr>\n",
       "  </thead>\n",
       "  <tbody>\n",
       "    <tr>\n",
       "      <th>0</th>\n",
       "      <td>9976970</td>\n",
       "      <td>아 더빙.. 진짜 짜증나네요 목소리</td>\n",
       "      <td>0</td>\n",
       "    </tr>\n",
       "    <tr>\n",
       "      <th>1</th>\n",
       "      <td>3819312</td>\n",
       "      <td>흠...포스터보고 초딩영화줄....오버연기조차 가볍지 않구나</td>\n",
       "      <td>1</td>\n",
       "    </tr>\n",
       "    <tr>\n",
       "      <th>2</th>\n",
       "      <td>10265843</td>\n",
       "      <td>너무재밓었다그래서보는것을추천한다</td>\n",
       "      <td>0</td>\n",
       "    </tr>\n",
       "    <tr>\n",
       "      <th>3</th>\n",
       "      <td>9045019</td>\n",
       "      <td>교도소 이야기구먼 ..솔직히 재미는 없다..평점 조정</td>\n",
       "      <td>0</td>\n",
       "    </tr>\n",
       "    <tr>\n",
       "      <th>4</th>\n",
       "      <td>6483659</td>\n",
       "      <td>사이몬페그의 익살스런 연기가 돋보였던 영화!스파이더맨에서 늙어보이기만 했던 커스틴 ...</td>\n",
       "      <td>1</td>\n",
       "    </tr>\n",
       "  </tbody>\n",
       "</table>\n",
       "</div>"
      ],
      "text/plain": [
       "         id                                           document  label\n",
       "0   9976970                                아 더빙.. 진짜 짜증나네요 목소리      0\n",
       "1   3819312                  흠...포스터보고 초딩영화줄....오버연기조차 가볍지 않구나      1\n",
       "2  10265843                                  너무재밓었다그래서보는것을추천한다      0\n",
       "3   9045019                      교도소 이야기구먼 ..솔직히 재미는 없다..평점 조정      0\n",
       "4   6483659  사이몬페그의 익살스런 연기가 돋보였던 영화!스파이더맨에서 늙어보이기만 했던 커스틴 ...      1"
      ]
     },
     "execution_count": 1,
     "metadata": {},
     "output_type": "execute_result"
    }
   ],
   "source": [
    "import pandas as pd\n",
    "import urllib.request\n",
    "%matplotlib inline\n",
    "import matplotlib.pyplot as plt\n",
    "import re\n",
    "from konlpy.tag import Okt\n",
    "from tensorflow import keras\n",
    "from tensorflow.keras.preprocessing.text import Tokenizer\n",
    "import numpy as np\n",
    "from tensorflow.keras.preprocessing.sequence import pad_sequences\n",
    "from collections import Counter\n",
    "\n",
    "# 데이터를 읽어봅시다. \n",
    "train_data = pd.read_table('~/aiffel/sentiment_classification/ratings_train.txt')\n",
    "test_data = pd.read_table('~/aiffel/sentiment_classification/ratings_test.txt')\n",
    "\n",
    "train_data.head()"
   ]
  },
  {
   "cell_type": "code",
   "execution_count": 2,
   "metadata": {},
   "outputs": [
    {
     "name": "stdout",
     "output_type": "stream",
     "text": [
      "아 더빙.. 진짜 짜증나네요 목소리\n",
      "0\n",
      "<class 'pandas.core.frame.DataFrame'>\n",
      "RangeIndex: 150000 entries, 0 to 149999\n",
      "Data columns (total 3 columns):\n",
      " #   Column    Non-Null Count   Dtype \n",
      "---  ------    --------------   ----- \n",
      " 0   id        150000 non-null  int64 \n",
      " 1   document  149995 non-null  object\n",
      " 2   label     150000 non-null  int64 \n",
      "dtypes: int64(2), object(1)\n",
      "memory usage: 3.4+ MB\n"
     ]
    },
    {
     "data": {
      "text/html": [
       "<div>\n",
       "<style scoped>\n",
       "    .dataframe tbody tr th:only-of-type {\n",
       "        vertical-align: middle;\n",
       "    }\n",
       "\n",
       "    .dataframe tbody tr th {\n",
       "        vertical-align: top;\n",
       "    }\n",
       "\n",
       "    .dataframe thead th {\n",
       "        text-align: right;\n",
       "    }\n",
       "</style>\n",
       "<table border=\"1\" class=\"dataframe\">\n",
       "  <thead>\n",
       "    <tr style=\"text-align: right;\">\n",
       "      <th></th>\n",
       "      <th>id</th>\n",
       "      <th>label</th>\n",
       "    </tr>\n",
       "  </thead>\n",
       "  <tbody>\n",
       "    <tr>\n",
       "      <th>count</th>\n",
       "      <td>1.500000e+05</td>\n",
       "      <td>150000.000000</td>\n",
       "    </tr>\n",
       "    <tr>\n",
       "      <th>mean</th>\n",
       "      <td>6.743533e+06</td>\n",
       "      <td>0.498847</td>\n",
       "    </tr>\n",
       "    <tr>\n",
       "      <th>std</th>\n",
       "      <td>2.919051e+06</td>\n",
       "      <td>0.500000</td>\n",
       "    </tr>\n",
       "    <tr>\n",
       "      <th>min</th>\n",
       "      <td>3.300000e+01</td>\n",
       "      <td>0.000000</td>\n",
       "    </tr>\n",
       "    <tr>\n",
       "      <th>25%</th>\n",
       "      <td>4.766881e+06</td>\n",
       "      <td>0.000000</td>\n",
       "    </tr>\n",
       "    <tr>\n",
       "      <th>50%</th>\n",
       "      <td>7.526840e+06</td>\n",
       "      <td>0.000000</td>\n",
       "    </tr>\n",
       "    <tr>\n",
       "      <th>75%</th>\n",
       "      <td>9.249435e+06</td>\n",
       "      <td>1.000000</td>\n",
       "    </tr>\n",
       "    <tr>\n",
       "      <th>max</th>\n",
       "      <td>1.027815e+07</td>\n",
       "      <td>1.000000</td>\n",
       "    </tr>\n",
       "  </tbody>\n",
       "</table>\n",
       "</div>"
      ],
      "text/plain": [
       "                 id          label\n",
       "count  1.500000e+05  150000.000000\n",
       "mean   6.743533e+06       0.498847\n",
       "std    2.919051e+06       0.500000\n",
       "min    3.300000e+01       0.000000\n",
       "25%    4.766881e+06       0.000000\n",
       "50%    7.526840e+06       0.000000\n",
       "75%    9.249435e+06       1.000000\n",
       "max    1.027815e+07       1.000000"
      ]
     },
     "execution_count": 2,
     "metadata": {},
     "output_type": "execute_result"
    }
   ],
   "source": [
    "print(train_data.document[0])\n",
    "print(train_data.label[0])\n",
    "\n",
    "train_data.info()\n",
    "train_data.describe()"
   ]
  },
  {
   "cell_type": "code",
   "execution_count": 3,
   "metadata": {},
   "outputs": [
    {
     "name": "stdout",
     "output_type": "stream",
     "text": [
      "150000 150000\n",
      "50000 50000\n"
     ]
    }
   ],
   "source": [
    "print(len(train_data.document), len(train_data.label))\n",
    "print(len(test_data.document), len(test_data.label))"
   ]
  },
  {
   "cell_type": "markdown",
   "metadata": {},
   "source": [
    "## 2. make load_data()\n",
    "- 데이터셋을 가공할 함수를 만든다. \n",
    "- **load_data()**\n",
    "    - 중복 데이터 제거\n",
    "    - NaN 결측치 제거\n",
    "    - 한국어 토크나이저로 토큰화\n",
    "    - 불용어(Stopwords)제거\n",
    "    - 사전 word_to_index 구성\n",
    "    - 텍스트를 사전 인덱스 스트링으로 변환\n",
    "    - train, test, word_to_index로 리턴"
   ]
  },
  {
   "cell_type": "code",
   "execution_count": 4,
   "metadata": {},
   "outputs": [
    {
     "name": "stdout",
     "output_type": "stream",
     "text": [
      "146182\n",
      "True\n",
      "True\n",
      "id          0\n",
      "document    5\n",
      "label       0\n",
      "dtype: int64\n",
      "id          0\n",
      "document    3\n",
      "label       0\n",
      "dtype: int64\n",
      "False\n",
      "False\n"
     ]
    }
   ],
   "source": [
    "from konlpy.tag import Mecab\n",
    "tokenizer = Mecab()\n",
    "stopwords = ['의','가','이','은','들','는','좀','잘','걍','과','도','를','으로','자','에','와','한','하다']\n",
    "\n",
    "# 중복 데이터 확인 \n",
    "# nunique() : 중복되지 않은 데이터의 갯수 \n",
    "print(train_data['document'].nunique())  #146182\n",
    "\n",
    "# 결측치 확인 \n",
    "print(train_data.isnull().values.any()) # True \n",
    "print(test_data.isnull().values.any()) # True \n",
    "print(train_data.isnull().sum())\n",
    "print(test_data.isnull().sum())\n",
    "\n",
    "num_words = 10000\n",
    "\n",
    "def load_data(train_data, test_data, num_words=num_words):\n",
    "    # 중복 데이터 제거\n",
    "    train_data.drop_duplicates(subset=['document'], inplace=True)   # inplace=True 는 원본에서 제거한다. \n",
    "    test_data.drop_duplicates(subset=['document'], inplace=True)   # inplace=True 는 원본에서 제거한다. \n",
    "    \n",
    "    # NaN 결측치 제거 \n",
    "    train_data = train_data.dropna()\n",
    "    test_data = test_data.dropna()\n",
    "    \n",
    "    # 결측치 재확인 \n",
    "    print(train_data.isnull().values.any()) # False \n",
    "    print(test_data.isnull().values.any())  # False\n",
    "    \n",
    "    # 한국어 토크나이저로 토큰화(Mecab 이용)\n",
    "    X_train = []\n",
    "    for st in train_data['document']:\n",
    "        temp_x = tokenizer.morphs(st)\n",
    "        temp_x = [word for word in temp_x if not word in stopwords]   # 불용어 제거 \n",
    "        X_train.append(temp_x)\n",
    "        \n",
    "    X_test = []\n",
    "    for st in test_data['document']:\n",
    "        temp_x_test = tokenizer.morphs(st)\n",
    "        temp_x_test = [word for word in temp_x_test if not word in stopwords]   # 불용어 제거 \n",
    "        X_test.append(temp_x_test)\n",
    "        \n",
    "    \n",
    "    # word_to_index 만들기  \n",
    "    words = np.concatenate(X_train).tolist()      # train data를 list로 만든다.\n",
    "    counter = Counter(words)                      # 각 단어의 갯수와 단어를 키, 밸루로 하는 딕셔너리 생성 \n",
    "    counter = counter.most_common(10000-4) \n",
    "                                       # pad, bos, unk, unused 를 제외하고 가장 자주나오는 만개의 단어를 가져온다. (딕셔너리)\n",
    "    vocab = ['<PAD>', '<BOS>', '<UNK>', '<UNUSED>'] + [key for key, _ in counter]\n",
    "    word_to_index = {word:index for index, word in enumerate(vocab)}\n",
    "    \n",
    "    # 텍스트 스트링 -> 인덱스 스트링 \n",
    "    def wordlist_to_indexlist(wordlist):\n",
    "        return [word_to_index[word] if word in word_to_index else word_to_index['<UNK>'] for word in wordlist]\n",
    "\n",
    "    X_train = list(map(wordlist_to_indexlist, X_train))\n",
    "    X_test = list(map(wordlist_to_indexlist, X_test))\n",
    "\n",
    "    return X_train, np.array(list(train_data['label'])), X_test, np.array(list(test_data['label'])), word_to_index\n",
    "    \n",
    "    \n",
    "X_train, y_train, X_test, y_test, word_to_index = load_data(train_data, test_data)"
   ]
  },
  {
   "cell_type": "code",
   "execution_count": 5,
   "metadata": {},
   "outputs": [
    {
     "name": "stdout",
     "output_type": "stream",
     "text": [
      "146182 49157\n",
      "146182 49157\n"
     ]
    }
   ],
   "source": [
    "print(len(X_train), len(X_test))\n",
    "print(len(y_train), len(y_test))"
   ]
  },
  {
   "cell_type": "code",
   "execution_count": 6,
   "metadata": {},
   "outputs": [],
   "source": [
    "# index_to_word 생성 (전체파일을 생성하기 때문에 시간이 조금 걸린다)\n",
    "index_to_word = {index:word for word, index in word_to_index.items()}"
   ]
  },
  {
   "cell_type": "code",
   "execution_count": 7,
   "metadata": {},
   "outputs": [],
   "source": [
    "# 문장 1개를 활용할 딕셔너리와 함께 주면, 단어 인덱스 리스트 벡터로 변환해 주는 함수입니다. \n",
    "# 단, 모든 문장은 <BOS>로 시작하는 것으로 합니다. \n",
    "def get_encoded_sentence(sentence, word_to_index):\n",
    "    return [word_to_index['<BOS>']]+[word_to_index[word] if word in word_to_index else word_to_index['<UNK>'] for word in sentence.split()]\n",
    "\n",
    "# 여러 개의 문장 리스트를 한꺼번에 단어 인덱스 리스트 벡터로 encode해 주는 함수입니다. \n",
    "def get_encoded_sentences(sentences, word_to_index):\n",
    "    return [get_encoded_sentence(sentence, word_to_index) for sentence in sentences]\n",
    "\n",
    "# 숫자 벡터로 encode된 문장을 원래대로 decode하는 함수입니다. \n",
    "def get_decoded_sentence(encoded_sentence, index_to_word):\n",
    "    return ' '.join(index_to_word[index] if index in index_to_word else '<UNK>' for index in encoded_sentence[1:])  #[1:]를 통해 <BOS>를 제외\n",
    "\n",
    "# 여러개의 숫자 벡터로 encode된 문장을 한꺼번에 원래대로 decode하는 함수입니다. \n",
    "def get_decoded_sentences(encoded_sentences, index_to_word):\n",
    "    return [get_decoded_sentence(encoded_sentence, index_to_word) for encoded_sentence in encoded_sentences]"
   ]
  },
  {
   "cell_type": "markdown",
   "metadata": {},
   "source": [
    "## 3. 데이터 분석, 가공 \n",
    "- 데이터의 분포를 확인해 적절한 문장의 길이를 정한다.\n",
    "- 패딩을 한다. "
   ]
  },
  {
   "cell_type": "code",
   "execution_count": 8,
   "metadata": {},
   "outputs": [
    {
     "data": {
      "image/png": "[encoded data removed]",
      "text/plain": [
       "<Figure size 432x288 with 1 Axes>"
      ]
     },
     "metadata": {
      "needs_background": "light"
     },
     "output_type": "display_data"
    }
   ],
   "source": [
    "plt.hist([len(s) for s in X_train], bins=50)\n",
    "plt.xlabel('length of samples')\n",
    "plt.ylabel('number of samples')\n",
    "plt.show()"
   ]
  },
  {
   "cell_type": "code",
   "execution_count": 9,
   "metadata": {},
   "outputs": [
    {
     "name": "stdout",
     "output_type": "stream",
     "text": [
      "X_train's length : 146182\n",
      "X_test's length : 49157\n"
     ]
    }
   ],
   "source": [
    "print(\"X_train's length :\", len(X_train))\n",
    "print(\"X_test's length :\", len(X_test))"
   ]
  },
  {
   "cell_type": "code",
   "execution_count": 10,
   "metadata": {},
   "outputs": [
    {
     "name": "stdout",
     "output_type": "stream",
     "text": [
      "문장길이 평균 :  15.96940191154864\n",
      "문장길이 최대 :  116\n",
      "문장길이 표준편차 :  12.843571191092\n",
      "pad_sequences maxlen :  41\n",
      "전체 문장의 0.9342988343341575%가 maxlen 설정값 이내에 포함됩니다. \n"
     ]
    }
   ],
   "source": [
    "# 전체 데이터 셋 통합 \n",
    "total_data_text = list(X_train) + list(X_test)\n",
    "\n",
    "num_tokens = [len(tokens) for tokens in total_data_text]\n",
    "num_tokens = np.array(num_tokens)\n",
    "\n",
    "print('문장길이 평균 : ', np.mean(num_tokens))\n",
    "print('문장길이 최대 : ', np.max(num_tokens))\n",
    "print('문장길이 표준편차 : ', np.std(num_tokens))\n",
    "\n",
    "# 예를들어, 최대 길이를 (평균 + 2*표준편차)로 한다면,  \n",
    "max_tokens = np.mean(num_tokens) + 2 * np.std(num_tokens)\n",
    "maxlen = int(max_tokens)\n",
    "print('pad_sequences maxlen : ', maxlen)\n",
    "print('전체 문장의 {}%가 maxlen 설정값 이내에 포함됩니다. '.format(np.sum(num_tokens < max_tokens) / len(num_tokens)))"
   ]
  },
  {
   "cell_type": "code",
   "execution_count": 11,
   "metadata": {},
   "outputs": [
    {
     "name": "stdout",
     "output_type": "stream",
     "text": [
      "(146182, 41)\n"
     ]
    }
   ],
   "source": [
    "X_train = keras.preprocessing.sequence.pad_sequences(X_train,\n",
    "                                                        value=word_to_index[\"<PAD>\"],\n",
    "                                                        padding='pre', \n",
    "                                                        maxlen=maxlen)\n",
    "\n",
    "X_test = keras.preprocessing.sequence.pad_sequences(X_test,\n",
    "                                                       value=word_to_index[\"<PAD>\"],\n",
    "                                                       padding='pre', \n",
    "                                                       maxlen=maxlen)\n",
    "\n",
    "print(X_train.shape)"
   ]
  },
  {
   "cell_type": "markdown",
   "metadata": {},
   "source": [
    "## 4. 모델 설계\n",
    "(1) Conv1D"
   ]
  },
  {
   "cell_type": "code",
   "execution_count": 68,
   "metadata": {},
   "outputs": [
    {
     "name": "stdout",
     "output_type": "stream",
     "text": [
      "Model: \"sequential_10\"\n",
      "_________________________________________________________________\n",
      "Layer (type)                 Output Shape              Param #   \n",
      "=================================================================\n",
      "embedding_10 (Embedding)     (None, None, 16)          160000    \n",
      "_________________________________________________________________\n",
      "conv1d_10 (Conv1D)           (None, None, 16)          1808      \n",
      "_________________________________________________________________\n",
      "max_pooling1d_2 (MaxPooling1 (None, None, 16)          0         \n",
      "_________________________________________________________________\n",
      "conv1d_11 (Conv1D)           (None, None, 32)          3616      \n",
      "_________________________________________________________________\n",
      "global_max_pooling1d_4 (Glob (None, 32)                0         \n",
      "_________________________________________________________________\n",
      "dense_13 (Dense)             (None, 32)                1056      \n",
      "_________________________________________________________________\n",
      "dense_14 (Dense)             (None, 1)                 33        \n",
      "=================================================================\n",
      "Total params: 166,513\n",
      "Trainable params: 166,513\n",
      "Non-trainable params: 0\n",
      "_________________________________________________________________\n"
     ]
    }
   ],
   "source": [
    "vocab_size = 10000    # 어휘 사전의 크기입니다(10,000개의 단어)\n",
    "word_vector_dim = 16  # 워드 벡터의 차원수 (변경가능한 하이퍼파라미터)\n",
    "\n",
    "# model 설계 - 딥러닝 모델 코드를 직접 작성해 주세요.\n",
    "model = keras.Sequential()\n",
    "model.add(keras.layers.Embedding(vocab_size, word_vector_dim, input_shape=(None,)))\n",
    "model.add(keras.layers.Conv1D(16, 7, activation='relu'))\n",
    "model.add(keras.layers.MaxPooling1D(5))\n",
    "model.add(keras.layers.Conv1D(32, 7, activation='relu'))\n",
    "model.add(keras.layers.GlobalMaxPooling1D())\n",
    "model.add(keras.layers.Dense(32, activation='relu'))\n",
    "model.add(keras.layers.Dense(1, activation='sigmoid'))  # 최종 출력은 긍정/부정을 나타내는 1dim 입니다.\n",
    "\n",
    "model.summary()"
   ]
  },
  {
   "cell_type": "markdown",
   "metadata": {},
   "source": [
    "## 5. data split\n",
    "- train_test_split을 이용해서 train, valid를 이용한다. "
   ]
  },
  {
   "cell_type": "code",
   "execution_count": 13,
   "metadata": {},
   "outputs": [
    {
     "name": "stdout",
     "output_type": "stream",
     "text": [
      "(131563, 41) (131563,)\n",
      "(14619, 41) (14619,)\n"
     ]
    }
   ],
   "source": [
    "from sklearn import model_selection\n",
    "\n",
    "x_train, x_val, y_train, y_val = model_selection.train_test_split(X_train, y_train, test_size = 0.1, shuffle=False)\n",
    "\n",
    "print(x_train.shape, y_train.shape)\n",
    "print(x_val.shape, y_val.shape)"
   ]
  },
  {
   "cell_type": "code",
   "execution_count": 14,
   "metadata": {},
   "outputs": [],
   "source": [
    "# 슬라이싱을 이용해서 split하는 코드 \n",
    "\n",
    "# # validation set 10000건 분리\n",
    "# x_val = X_train[:10000]   \n",
    "# y_val = y_train[:10000]\n",
    "\n",
    "# # validation set을 제외한 나머지 15000건\n",
    "# partial_x_train = X_train[10000:]  \n",
    "# partial_y_train = y_train[10000:]\n",
    "\n",
    "# print(partial_x_train.shape)\n",
    "# print(partial_y_train.shape)"
   ]
  },
  {
   "cell_type": "markdown",
   "metadata": {},
   "source": [
    "## 6. run model"
   ]
  },
  {
   "cell_type": "code",
   "execution_count": 15,
   "metadata": {},
   "outputs": [
    {
     "name": "stdout",
     "output_type": "stream",
     "text": [
      "Epoch 1/20\n",
      "257/257 - 9s - loss: 0.4712 - accuracy: 0.7589 - val_loss: 0.3564 - val_accuracy: 0.8441\n",
      "Epoch 2/20\n",
      "257/257 - 1s - loss: 0.3177 - accuracy: 0.8649 - val_loss: 0.3393 - val_accuracy: 0.8547\n",
      "Epoch 3/20\n",
      "257/257 - 1s - loss: 0.2782 - accuracy: 0.8837 - val_loss: 0.3389 - val_accuracy: 0.8535\n",
      "Epoch 4/20\n",
      "257/257 - 1s - loss: 0.2379 - accuracy: 0.9049 - val_loss: 0.3532 - val_accuracy: 0.8502\n",
      "Epoch 5/20\n",
      "257/257 - 1s - loss: 0.1982 - accuracy: 0.9237 - val_loss: 0.3944 - val_accuracy: 0.8443\n",
      "Epoch 6/20\n",
      "257/257 - 1s - loss: 0.1609 - accuracy: 0.9406 - val_loss: 0.4427 - val_accuracy: 0.8421\n",
      "Epoch 7/20\n",
      "257/257 - 1s - loss: 0.1301 - accuracy: 0.9544 - val_loss: 0.4955 - val_accuracy: 0.8380\n",
      "Epoch 8/20\n",
      "257/257 - 1s - loss: 0.1076 - accuracy: 0.9635 - val_loss: 0.5509 - val_accuracy: 0.8354\n",
      "Epoch 9/20\n",
      "257/257 - 1s - loss: 0.0915 - accuracy: 0.9695 - val_loss: 0.6161 - val_accuracy: 0.8345\n",
      "Epoch 10/20\n",
      "257/257 - 1s - loss: 0.0785 - accuracy: 0.9746 - val_loss: 0.6881 - val_accuracy: 0.8327\n",
      "Epoch 11/20\n",
      "257/257 - 1s - loss: 0.0690 - accuracy: 0.9782 - val_loss: 0.7379 - val_accuracy: 0.8293\n",
      "Epoch 12/20\n",
      "257/257 - 1s - loss: 0.0625 - accuracy: 0.9798 - val_loss: 0.8102 - val_accuracy: 0.8293\n",
      "Epoch 13/20\n",
      "257/257 - 1s - loss: 0.0567 - accuracy: 0.9824 - val_loss: 0.8658 - val_accuracy: 0.8268\n",
      "Epoch 14/20\n",
      "257/257 - 1s - loss: 0.0518 - accuracy: 0.9840 - val_loss: 0.9395 - val_accuracy: 0.8289\n",
      "Epoch 15/20\n",
      "257/257 - 1s - loss: 0.0488 - accuracy: 0.9853 - val_loss: 1.0020 - val_accuracy: 0.8258\n",
      "Epoch 16/20\n",
      "257/257 - 1s - loss: 0.0477 - accuracy: 0.9855 - val_loss: 0.9954 - val_accuracy: 0.8252\n",
      "Epoch 17/20\n",
      "257/257 - 1s - loss: 0.0451 - accuracy: 0.9861 - val_loss: 1.0476 - val_accuracy: 0.8263\n",
      "Epoch 18/20\n",
      "257/257 - 1s - loss: 0.0433 - accuracy: 0.9868 - val_loss: 1.0495 - val_accuracy: 0.8246\n",
      "Epoch 19/20\n",
      "257/257 - 1s - loss: 0.0422 - accuracy: 0.9867 - val_loss: 1.1042 - val_accuracy: 0.8278\n",
      "Epoch 20/20\n",
      "257/257 - 1s - loss: 0.0412 - accuracy: 0.9869 - val_loss: 1.1414 - val_accuracy: 0.8251\n"
     ]
    }
   ],
   "source": [
    "model.compile(optimizer='adam',\n",
    "              loss='binary_crossentropy',\n",
    "              metrics=['accuracy'])\n",
    "              \n",
    "epochs=20  # 몇 epoch를 훈련하면 좋을지 결과를 보면서 바꾸어 봅시다. \n",
    "batch_size=512\n",
    "\n",
    "history = model.fit(x_train,\n",
    "                    y_train,\n",
    "                    epochs=epochs,\n",
    "                    batch_size=batch_size,\n",
    "                    validation_data=(x_val, y_val),\n",
    "                    verbose=2)"
   ]
  },
  {
   "cell_type": "code",
   "execution_count": 16,
   "metadata": {},
   "outputs": [
    {
     "name": "stdout",
     "output_type": "stream",
     "text": [
      "1537/1537 - 4s - loss: 1.2006 - accuracy: 0.8162\n",
      "[1.200562596321106, 0.8162214756011963]\n"
     ]
    }
   ],
   "source": [
    "results = model.evaluate(X_test,  y_test, verbose=2)\n",
    "\n",
    "print(results)"
   ]
  },
  {
   "cell_type": "markdown",
   "metadata": {},
   "source": [
    "## 7. visualize model training history"
   ]
  },
  {
   "cell_type": "code",
   "execution_count": 17,
   "metadata": {},
   "outputs": [
    {
     "data": {
      "image/png": "[encoded data removed]",
      "text/plain": [
       "<Figure size 432x288 with 1 Axes>"
      ]
     },
     "metadata": {
      "needs_background": "light"
     },
     "output_type": "display_data"
    },
    {
     "data": {
      "image/png": "[encoded data removed]",
      "text/plain": [
       "<Figure size 432x288 with 1 Axes>"
      ]
     },
     "metadata": {
      "needs_background": "light"
     },
     "output_type": "display_data"
    }
   ],
   "source": [
    "import matplotlib.pyplot as plt\n",
    "\n",
    "plt.plot(history.history['accuracy'])\n",
    "plt.plot(history.history['val_accuracy'])\n",
    "plt.title('model accuracy')\n",
    "plt.ylabel('accuracy')\n",
    "plt.xlabel('epoch')\n",
    "plt.legend(['train', 'val'], loc='upper left')\n",
    "plt.show()\n",
    "# summarize history for loss\n",
    "plt.plot(history.history['loss'])\n",
    "plt.plot(history.history['val_loss'])\n",
    "plt.title('model loss')\n",
    "plt.ylabel('loss')\n",
    "plt.xlabel('epoch')\n",
    "plt.legend(['train', 'val'], loc='upper left')\n",
    "plt.show()"
   ]
  },
  {
   "cell_type": "markdown",
   "metadata": {},
   "source": [
    "## 8. 학습된 embedding layer 분석\n",
    "- model을 구성하는 첫번째 레이어는 embedding layer이다. \n",
    "- 이 레이어를 통해 학습이 잘 이루어졌는지 분석할 수 있다. "
   ]
  },
  {
   "cell_type": "code",
   "execution_count": 18,
   "metadata": {},
   "outputs": [
    {
     "name": "stdout",
     "output_type": "stream",
     "text": [
      "(10000, 16)\n"
     ]
    }
   ],
   "source": [
    "embedding_layer = model.layers[0]\n",
    "weights = embedding_layer.get_weights()[0]\n",
    "print(weights.shape)    # shape: (vocab_size, embedding_dim)"
   ]
  },
  {
   "cell_type": "code",
   "execution_count": 19,
   "metadata": {},
   "outputs": [
    {
     "data": {
      "text/plain": [
       "array([ 0.00939852,  0.01526217, -0.02818016, -0.03565054,  0.07442958,\n",
       "       -0.05954067,  0.00651409,  0.00411228, -0.02230202,  0.01747662,\n",
       "       -0.0323615 , -0.0110852 , -0.02490189,  0.04164533,  0.00910819,\n",
       "        0.00805227], dtype=float32)"
      ]
     },
     "execution_count": 19,
     "metadata": {},
     "output_type": "execute_result"
    }
   ],
   "source": [
    "import os\n",
    "\n",
    "# 학습한 Embedding 파라미터를 파일에 써서 저장합니다. \n",
    "word2vec_file_path = os.getenv('HOME')+'/aiffel/sentiment_classification/word2vec.txt'\n",
    "f = open(word2vec_file_path, 'w')\n",
    "f.write('{} {}\\n'.format(vocab_size-4, word_vector_dim))  # 몇개의 벡터를 얼마 사이즈로 기재할지 타이틀을 씁니다.\n",
    "\n",
    "# 단어 개수(에서 특수문자 4개는 제외하고)만큼의 워드 벡터를 파일에 기록합니다. \n",
    "vectors = model.get_weights()[0]\n",
    "for i in range(4,vocab_size):\n",
    "    f.write('{} {}\\n'.format(index_to_word[i], ' '.join(map(str, list(vectors[i, :])))))\n",
    "f.close()\n",
    "\n",
    "from gensim.models.keyedvectors import Word2VecKeyedVectors\n",
    "\n",
    "word_vectors = Word2VecKeyedVectors.load_word2vec_format(word2vec_file_path, binary=False)\n",
    "vector = word_vectors['영화']\n",
    "vector"
   ]
  },
  {
   "cell_type": "code",
   "execution_count": 125,
   "metadata": {},
   "outputs": [
    {
     "data": {
      "text/plain": [
       "[('찜찜', 0.7784051895141602),\n",
       " ('입양', 0.7557978630065918),\n",
       " ('조니', 0.75007164478302),\n",
       " ('나눠서', 0.7487185597419739),\n",
       " ('결투', 0.7368910908699036),\n",
       " ('왜곡', 0.734046220779419),\n",
       " ('흘렸', 0.7217235565185547),\n",
       " ('워', 0.7133313417434692),\n",
       " ('불과', 0.7114652395248413),\n",
       " ('화신', 0.6984989643096924)]"
      ]
     },
     "execution_count": 125,
     "metadata": {},
     "output_type": "execute_result"
    }
   ],
   "source": [
    "word_vectors.similar_by_word(\"주인공\")"
   ]
  },
  {
   "cell_type": "code",
   "execution_count": 124,
   "metadata": {},
   "outputs": [
    {
     "data": {
      "text/plain": [
       "[('계몽', 0.9113956689834595),\n",
       " ('뿌듯', 0.9013506770133972),\n",
       " ('매트릭스', 0.9012303352355957),\n",
       " ('김현주', 0.8966587781906128),\n",
       " ('영역', 0.894691526889801),\n",
       " ('전두환', 0.888601541519165),\n",
       " ('앞서간', 0.882766604423523),\n",
       " ('들마', 0.8819926381111145),\n",
       " ('물결', 0.8810093402862549),\n",
       " ('짱짱', 0.88038569688797)]"
      ]
     },
     "execution_count": 124,
     "metadata": {},
     "output_type": "execute_result"
    }
   ],
   "source": [
    "word_vectors.similar_by_word(\"눈물\")"
   ]
  },
  {
   "cell_type": "markdown",
   "metadata": {},
   "source": [
    "- **'주인공'** 과 연관있는 단어를 word2vec 파일을 이용해서 뽑아낼 수있다.   \n",
    "    : 하지만 관련이 없어 보이는 단어(벡터)가 출력되었다.   \n",
    "    : 성능이 좋지 않다!"
   ]
  },
  {
   "cell_type": "markdown",
   "metadata": {},
   "source": [
    "## 9. 한국어 word2vec embedding 활용 성능개선\n",
    "- 한국어 word2vec 을 다운받아 사용한다.   \n",
    "    [다운로드 경로](https://github.com/Kyubyong/wordvectors)"
   ]
  },
  {
   "cell_type": "code",
   "execution_count": 21,
   "metadata": {},
   "outputs": [
    {
     "data": {
      "text/plain": [
       "[('여주인공', 0.7362918853759766),\n",
       " ('히로인', 0.7030971646308899),\n",
       " ('원작', 0.6740964651107788),\n",
       " ('악당', 0.6630157232284546),\n",
       " ('등장인물', 0.6590856909751892),\n",
       " ('악역', 0.6446496248245239),\n",
       " ('작중', 0.6274654865264893),\n",
       " ('극중', 0.6266963481903076),\n",
       " ('유령', 0.609932541847229),\n",
       " ('모험', 0.5971505641937256)]"
      ]
     },
     "execution_count": 21,
     "metadata": {},
     "output_type": "execute_result"
    }
   ],
   "source": [
    "import gensim\n",
    "from gensim.models import KeyedVectors\n",
    "from gensim.models import Word2Vec\n",
    "\n",
    "word2vec_path = os.getenv('HOME')+'/aiffel/sentiment_classification/ko.bin'\n",
    "ko_model = Word2Vec.load(word2vec_path)\n",
    "ko_model.wv.most_similar(\"주인공\")"
   ]
  },
  {
   "cell_type": "code",
   "execution_count": 126,
   "metadata": {},
   "outputs": [
    {
     "data": {
      "text/plain": [
       "[('땀', 0.6310575008392334),\n",
       " ('슬픔', 0.5787196159362793),\n",
       " ('이별', 0.5772002935409546),\n",
       " ('추억', 0.5725258588790894),\n",
       " ('한숨', 0.5546674728393555),\n",
       " ('슬프', 0.5339798927307129),\n",
       " ('웃음', 0.5283999443054199),\n",
       " ('울부짖', 0.5240476727485657),\n",
       " ('울음', 0.5148943066596985),\n",
       " ('온몸', 0.5059491395950317)]"
      ]
     },
     "execution_count": 126,
     "metadata": {},
     "output_type": "execute_result"
    }
   ],
   "source": [
    "ko_model.wv.most_similar(\"눈물\")"
   ]
  },
  {
   "cell_type": "markdown",
   "metadata": {},
   "source": [
    "### gensim 유사단어 찾기\n",
    "- word2vec을 사용하지 않은 embedding layer보다 pretrained word2vec을 이용한 결과가 유사도가 높은 단어를 출력했다.  \n",
    "\n",
    "\n",
    "- 해당 word2vec을 embedding layer에 적용해 기존 CNN 모델과의 성능비교를 해보고자 한다.\n",
    "\n",
    "### embedding layer 교체"
   ]
  },
  {
   "cell_type": "code",
   "execution_count": 22,
   "metadata": {},
   "outputs": [
    {
     "name": "stderr",
     "output_type": "stream",
     "text": [
      "/home/aiffel-dj26/anaconda3/envs/aiffel/lib/python3.7/site-packages/ipykernel_launcher.py:8: DeprecationWarning: Call to deprecated `__contains__` (Method will be removed in 4.0.0, use self.wv.__contains__() instead).\n",
      "  \n",
      "/home/aiffel-dj26/anaconda3/envs/aiffel/lib/python3.7/site-packages/ipykernel_launcher.py:9: DeprecationWarning: Call to deprecated `__getitem__` (Method will be removed in 4.0.0, use self.wv.__getitem__() instead).\n",
      "  if __name__ == '__main__':\n"
     ]
    }
   ],
   "source": [
    "vocab_size = 10000    # 어휘 사전의 크기입니다(10,000개의 단어)\n",
    "word_vector_dim = 200  # 워드 벡터의 차원수 (변경가능한 하이퍼파라미터)\n",
    "\n",
    "embedding_matrix = np.random.rand(vocab_size, word_vector_dim)\n",
    "\n",
    "# embedding_matrix에 Word2Vec 워드벡터를 단어 하나씩마다 차례차례 카피한다.\n",
    "for i in range(4,vocab_size):\n",
    "    if index_to_word[i] in ko_model:\n",
    "        embedding_matrix[i] = ko_model[index_to_word[i]]"
   ]
  },
  {
   "cell_type": "code",
   "execution_count": 23,
   "metadata": {},
   "outputs": [
    {
     "name": "stdout",
     "output_type": "stream",
     "text": [
      "Model: \"sequential_1\"\n",
      "_________________________________________________________________\n",
      "Layer (type)                 Output Shape              Param #   \n",
      "=================================================================\n",
      "embedding_1 (Embedding)      (None, 41, 200)           2000000   \n",
      "_________________________________________________________________\n",
      "conv1d_2 (Conv1D)            (None, 35, 16)            22416     \n",
      "_________________________________________________________________\n",
      "max_pooling1d_1 (MaxPooling1 (None, 7, 16)             0         \n",
      "_________________________________________________________________\n",
      "conv1d_3 (Conv1D)            (None, 1, 32)             3616      \n",
      "_________________________________________________________________\n",
      "global_max_pooling1d_1 (Glob (None, 32)                0         \n",
      "_________________________________________________________________\n",
      "dense_2 (Dense)              (None, 32)                1056      \n",
      "_________________________________________________________________\n",
      "dense_3 (Dense)              (None, 1)                 33        \n",
      "=================================================================\n",
      "Total params: 2,027,121\n",
      "Trainable params: 2,027,121\n",
      "Non-trainable params: 0\n",
      "_________________________________________________________________\n"
     ]
    }
   ],
   "source": [
    "from tensorflow.keras.initializers import Constant\n",
    "\n",
    "vocab_size = 10000    # 어휘 사전의 크기입니다(10,000개의 단어)\n",
    "word_vector_dim = 200  # 워드 벡터의 차원수 (변경가능한 하이퍼파라미터)\n",
    "\n",
    "# 모델 구성\n",
    "model_conv = keras.Sequential()\n",
    "model_conv.add(keras.layers.Embedding(vocab_size, \n",
    "                                 word_vector_dim, \n",
    "                                 embeddings_initializer=Constant(embedding_matrix),  # 카피한 임베딩을 여기서 활용\n",
    "                                 input_length=maxlen, \n",
    "                                 trainable=True))   # trainable을 True로 주면 Fine-tuning\n",
    "model_conv.add(keras.layers.Conv1D(16, 7, activation='relu'))\n",
    "model_conv.add(keras.layers.MaxPooling1D(5))\n",
    "model_conv.add(keras.layers.Conv1D(32, 7, activation='relu'))\n",
    "model_conv.add(keras.layers.GlobalMaxPooling1D())\n",
    "model_conv.add(keras.layers.Dense(32, activation='relu'))\n",
    "model_conv.add(keras.layers.Dense(1, activation='sigmoid')) \n",
    "\n",
    "model_conv.summary()"
   ]
  },
  {
   "cell_type": "markdown",
   "metadata": {},
   "source": [
    "word2vec을 적용하지 않은 모델보다 확연히 파라미터 수가 증가했다. (166,513 -> 2,027,121)"
   ]
  },
  {
   "cell_type": "code",
   "execution_count": 24,
   "metadata": {
    "scrolled": true
   },
   "outputs": [
    {
     "name": "stdout",
     "output_type": "stream",
     "text": [
      "Epoch 1/20\n",
      "257/257 [==============================] - 11s 44ms/step - loss: 0.5317 - accuracy: 0.7226 - val_loss: 0.4275 - val_accuracy: 0.8003\n",
      "Epoch 2/20\n",
      "257/257 [==============================] - 6s 24ms/step - loss: 0.3800 - accuracy: 0.8317 - val_loss: 0.3814 - val_accuracy: 0.8289\n",
      "Epoch 3/20\n",
      "257/257 [==============================] - 6s 24ms/step - loss: 0.3236 - accuracy: 0.8618 - val_loss: 0.3622 - val_accuracy: 0.8386\n",
      "Epoch 4/20\n",
      "257/257 [==============================] - 6s 24ms/step - loss: 0.2901 - accuracy: 0.8789 - val_loss: 0.3472 - val_accuracy: 0.8466\n",
      "Epoch 5/20\n",
      "257/257 [==============================] - 6s 24ms/step - loss: 0.2649 - accuracy: 0.8917 - val_loss: 0.3602 - val_accuracy: 0.8418\n",
      "Epoch 6/20\n",
      "257/257 [==============================] - 6s 24ms/step - loss: 0.2413 - accuracy: 0.9034 - val_loss: 0.3684 - val_accuracy: 0.8444\n",
      "Epoch 7/20\n",
      "257/257 [==============================] - 7s 26ms/step - loss: 0.2189 - accuracy: 0.9142 - val_loss: 0.3900 - val_accuracy: 0.8455\n",
      "Epoch 8/20\n",
      "257/257 [==============================] - 7s 25ms/step - loss: 0.1993 - accuracy: 0.9235 - val_loss: 0.4028 - val_accuracy: 0.8423\n",
      "Epoch 9/20\n",
      "257/257 [==============================] - 6s 24ms/step - loss: 0.1763 - accuracy: 0.9340 - val_loss: 0.4311 - val_accuracy: 0.8380\n",
      "Epoch 10/20\n",
      "257/257 [==============================] - 6s 25ms/step - loss: 0.1561 - accuracy: 0.9435 - val_loss: 0.4719 - val_accuracy: 0.8401\n",
      "Epoch 11/20\n",
      "257/257 [==============================] - 6s 25ms/step - loss: 0.1379 - accuracy: 0.9510 - val_loss: 0.5079 - val_accuracy: 0.8345\n",
      "Epoch 12/20\n",
      "257/257 [==============================] - 6s 24ms/step - loss: 0.1220 - accuracy: 0.9569 - val_loss: 0.5636 - val_accuracy: 0.8351\n",
      "Epoch 13/20\n",
      "257/257 [==============================] - 6s 25ms/step - loss: 0.1116 - accuracy: 0.9613 - val_loss: 0.5822 - val_accuracy: 0.8348\n",
      "Epoch 14/20\n",
      "257/257 [==============================] - 6s 24ms/step - loss: 0.1002 - accuracy: 0.9653 - val_loss: 0.6432 - val_accuracy: 0.8352\n",
      "Epoch 15/20\n",
      "257/257 [==============================] - 6s 24ms/step - loss: 0.0883 - accuracy: 0.9701 - val_loss: 0.6852 - val_accuracy: 0.8316\n",
      "Epoch 16/20\n",
      "257/257 [==============================] - 6s 25ms/step - loss: 0.0794 - accuracy: 0.9727 - val_loss: 0.7183 - val_accuracy: 0.8329\n",
      "Epoch 17/20\n",
      "257/257 [==============================] - 6s 24ms/step - loss: 0.0734 - accuracy: 0.9750 - val_loss: 0.7274 - val_accuracy: 0.8305\n",
      "Epoch 18/20\n",
      "257/257 [==============================] - 6s 25ms/step - loss: 0.0652 - accuracy: 0.9782 - val_loss: 0.7674 - val_accuracy: 0.8300\n",
      "Epoch 19/20\n",
      "257/257 [==============================] - 6s 24ms/step - loss: 0.0619 - accuracy: 0.9791 - val_loss: 0.8526 - val_accuracy: 0.8303\n",
      "Epoch 20/20\n",
      "257/257 [==============================] - 6s 24ms/step - loss: 0.0602 - accuracy: 0.9792 - val_loss: 0.9057 - val_accuracy: 0.8218\n"
     ]
    }
   ],
   "source": [
    "model_conv.compile(optimizer='adam',\n",
    "              loss='binary_crossentropy',\n",
    "              metrics=['accuracy'])\n",
    "              \n",
    "epochs=20\n",
    "batch_size=512\n",
    "\n",
    "history = model_conv.fit(x_train,\n",
    "                    y_train,\n",
    "                    epochs=epochs,\n",
    "                    batch_size=batch_size,\n",
    "                    validation_data=(x_val, y_val),\n",
    "                    verbose=1)"
   ]
  },
  {
   "cell_type": "code",
   "execution_count": 25,
   "metadata": {},
   "outputs": [
    {
     "name": "stdout",
     "output_type": "stream",
     "text": [
      "1537/1537 - 3s - loss: 0.9212 - accuracy: 0.8201\n",
      "[0.9211797714233398, 0.8201069831848145]\n"
     ]
    }
   ],
   "source": [
    "results = model_conv.evaluate(X_test,  y_test, verbose=2)\n",
    "\n",
    "print(results)"
   ]
  },
  {
   "cell_type": "code",
   "execution_count": 26,
   "metadata": {},
   "outputs": [
    {
     "data": {
      "image/png": "[encoded data removed]",
      "text/plain": [
       "<Figure size 432x288 with 1 Axes>"
      ]
     },
     "metadata": {
      "needs_background": "light"
     },
     "output_type": "display_data"
    },
    {
     "data": {
      "image/png": "[encoded data removed]",
      "text/plain": [
       "<Figure size 432x288 with 1 Axes>"
      ]
     },
     "metadata": {
      "needs_background": "light"
     },
     "output_type": "display_data"
    }
   ],
   "source": [
    "# summarize history for accuracy\n",
    "plt.plot(history.history['accuracy'])\n",
    "plt.plot(history.history['val_accuracy'])\n",
    "plt.title('model accuracy')\n",
    "plt.ylabel('accuracy')\n",
    "plt.xlabel('epoch')\n",
    "plt.legend(['train', 'val'], loc='upper left')\n",
    "plt.show()\n",
    "# summarize history for loss\n",
    "plt.plot(history.history['loss'])\n",
    "plt.plot(history.history['val_loss'])\n",
    "plt.title('model loss')\n",
    "plt.ylabel('loss')\n",
    "plt.xlabel('epoch')\n",
    "plt.legend(['train', 'val'], loc='upper left')\n",
    "plt.show()"
   ]
  },
  {
   "cell_type": "markdown",
   "metadata": {},
   "source": [
    "모든 하이퍼 파라미터가 동일한 상태에서 embedding layer를 교체하니 정확도가 높아진 것을 볼 수 있다.\n",
    "\n",
    "## 10. 하이퍼 파라미터 튜닝을 통한 성능 개선 및 다양한 모델 사용\n",
    "- 각 모델의 파라미터를 튜닝해 평가기준인 accuracy 85%이상의 성능으로 개선한다.\n",
    "\n",
    "\n",
    "### CNN"
   ]
  },
  {
   "cell_type": "code",
   "execution_count": 106,
   "metadata": {},
   "outputs": [
    {
     "name": "stdout",
     "output_type": "stream",
     "text": [
      "Model: \"sequential_17\"\n",
      "_________________________________________________________________\n",
      "Layer (type)                 Output Shape              Param #   \n",
      "=================================================================\n",
      "embedding_17 (Embedding)     (None, 41, 200)           2000000   \n",
      "_________________________________________________________________\n",
      "conv1d_18 (Conv1D)           (None, 32, 64)            128064    \n",
      "_________________________________________________________________\n",
      "global_max_pooling1d_11 (Glo (None, 64)                0         \n",
      "_________________________________________________________________\n",
      "dense_21 (Dense)             (None, 1)                 65        \n",
      "=================================================================\n",
      "Total params: 2,128,129\n",
      "Trainable params: 2,128,129\n",
      "Non-trainable params: 0\n",
      "_________________________________________________________________\n"
     ]
    }
   ],
   "source": [
    "vocab_size = 10000    # 어휘 사전의 크기입니다(10,000개의 단어)\n",
    "word_vector_dim = 200  # 워드 벡터의 차원수 (변경가능한 하이퍼파라미터)\n",
    "\n",
    "# 모델 구성\n",
    "model_conv_tuned = keras.Sequential()\n",
    "model_conv_tuned.add(keras.layers.Embedding(vocab_size, \n",
    "                                 word_vector_dim, \n",
    "                                 embeddings_initializer=Constant(embedding_matrix),  # 카피한 임베딩을 여기서 활용\n",
    "                                 input_length=maxlen, \n",
    "                                 trainable=True))   # trainable을 True로 주면 Fine-tuning\n",
    "model_conv_tuned.add(keras.layers.Conv1D(64, 10, activation='relu'))\n",
    "model_conv_tuned.add(keras.layers.GlobalMaxPooling1D())\n",
    "model_conv_tuned.add(keras.layers.Dense(1, activation='sigmoid')) \n",
    "\n",
    "model_conv_tuned.summary()"
   ]
  },
  {
   "cell_type": "code",
   "execution_count": 107,
   "metadata": {},
   "outputs": [
    {
     "name": "stdout",
     "output_type": "stream",
     "text": [
      "Epoch 1/4\n",
      "129/129 [==============================] - 11s 84ms/step - loss: 0.5928 - accuracy: 0.7057 - val_loss: 0.4861 - val_accuracy: 0.7666\n",
      "Epoch 2/4\n",
      "129/129 [==============================] - 5s 38ms/step - loss: 0.4150 - accuracy: 0.8130 - val_loss: 0.4210 - val_accuracy: 0.8073\n",
      "Epoch 3/4\n",
      "129/129 [==============================] - 5s 38ms/step - loss: 0.3358 - accuracy: 0.8575 - val_loss: 0.3857 - val_accuracy: 0.8291\n",
      "Epoch 4/4\n",
      "129/129 [==============================] - 5s 38ms/step - loss: 0.2849 - accuracy: 0.8837 - val_loss: 0.3747 - val_accuracy: 0.8347\n"
     ]
    }
   ],
   "source": [
    "model_conv_tuned.compile(optimizer='adam',\n",
    "              loss='binary_crossentropy',\n",
    "              metrics=['accuracy'])\n",
    "              \n",
    "epochs=4\n",
    "batch_size=1024\n",
    "\n",
    "history_conv = model_conv_tuned.fit(x_train,\n",
    "                    y_train,\n",
    "                    epochs=epochs,\n",
    "                    batch_size=batch_size,\n",
    "                    validation_data=(x_val, y_val),\n",
    "                    verbose=1)"
   ]
  },
  {
   "cell_type": "code",
   "execution_count": 108,
   "metadata": {},
   "outputs": [
    {
     "name": "stdout",
     "output_type": "stream",
     "text": [
      "1537/1537 - 4s - loss: 0.3873 - accuracy: 0.8307\n",
      "[0.38728663325309753, 0.8306853771209717]\n"
     ]
    }
   ],
   "source": [
    "results = model_conv_tuned.evaluate(X_test,  y_test, verbose=2)\n",
    "\n",
    "print(results)"
   ]
  },
  {
   "cell_type": "code",
   "execution_count": 109,
   "metadata": {},
   "outputs": [
    {
     "data": {
      "image/png": "[encoded data removed]",
      "text/plain": [
       "<Figure size 432x288 with 1 Axes>"
      ]
     },
     "metadata": {
      "needs_background": "light"
     },
     "output_type": "display_data"
    },
    {
     "data": {
      "image/png": "[encoded data removed]",
      "text/plain": [
       "<Figure size 432x288 with 1 Axes>"
      ]
     },
     "metadata": {
      "needs_background": "light"
     },
     "output_type": "display_data"
    }
   ],
   "source": [
    "# summarize history for accuracy\n",
    "plt.plot(history_conv.history['accuracy'])\n",
    "plt.plot(history_conv.history['val_accuracy'])\n",
    "plt.title('CNN model accuracy')\n",
    "plt.ylabel('accuracy')\n",
    "plt.xlabel('epoch')\n",
    "plt.legend(['train', 'val'], loc='upper left')\n",
    "plt.show()\n",
    "# summarize history for loss\n",
    "plt.plot(history_conv.history['loss'])\n",
    "plt.plot(history_conv.history['val_loss'])\n",
    "plt.title('CNN model loss')\n",
    "plt.ylabel('loss')\n",
    "plt.xlabel('epoch')\n",
    "plt.legend(['train', 'val'], loc='upper left')\n",
    "plt.show()"
   ]
  },
  {
   "cell_type": "markdown",
   "metadata": {},
   "source": [
    "#### CNN Accuracy : 0.8306853771209717\n",
    "### GlobalMaxPooling1D 1 layer"
   ]
  },
  {
   "cell_type": "code",
   "execution_count": 31,
   "metadata": {},
   "outputs": [
    {
     "name": "stdout",
     "output_type": "stream",
     "text": [
      "Model: \"sequential_3\"\n",
      "_________________________________________________________________\n",
      "Layer (type)                 Output Shape              Param #   \n",
      "=================================================================\n",
      "embedding_3 (Embedding)      (None, 41, 200)           2000000   \n",
      "_________________________________________________________________\n",
      "global_max_pooling1d_3 (Glob (None, 200)               0         \n",
      "_________________________________________________________________\n",
      "dense_5 (Dense)              (None, 7)                 1407      \n",
      "_________________________________________________________________\n",
      "dense_6 (Dense)              (None, 1)                 8         \n",
      "=================================================================\n",
      "Total params: 2,001,415\n",
      "Trainable params: 2,001,415\n",
      "Non-trainable params: 0\n",
      "_________________________________________________________________\n"
     ]
    }
   ],
   "source": [
    "vocab_size = 10000\n",
    "word_vector_dim = 200  \n",
    "\n",
    "model_GMP = keras.Sequential()\n",
    "model_GMP.add(keras.layers.Embedding(vocab_size, \n",
    "                                 word_vector_dim, \n",
    "                                 embeddings_initializer=Constant(embedding_matrix),  # 카피한 임베딩을 여기서 활용\n",
    "                                 input_length=maxlen, \n",
    "                                 trainable=True)) \n",
    "model_GMP.add(keras.layers.GlobalMaxPooling1D())\n",
    "model_GMP.add(keras.layers.Dense(7, activation='relu'))\n",
    "model_GMP.add(keras.layers.Dense(1, activation='sigmoid'))  \n",
    "model_GMP.summary()"
   ]
  },
  {
   "cell_type": "code",
   "execution_count": 32,
   "metadata": {},
   "outputs": [
    {
     "name": "stdout",
     "output_type": "stream",
     "text": [
      "Epoch 1/10\n",
      "132/132 [==============================] - 5s 36ms/step - loss: 0.6289 - accuracy: 0.6695 - val_loss: 0.4982 - val_accuracy: 0.7612\n",
      "Epoch 2/10\n",
      "132/132 [==============================] - 4s 34ms/step - loss: 0.4477 - accuracy: 0.7915 - val_loss: 0.4255 - val_accuracy: 0.8018\n",
      "Epoch 3/10\n",
      "132/132 [==============================] - 4s 34ms/step - loss: 0.3763 - accuracy: 0.8338 - val_loss: 0.3925 - val_accuracy: 0.8241\n",
      "Epoch 4/10\n",
      "132/132 [==============================] - 4s 34ms/step - loss: 0.3337 - accuracy: 0.8561 - val_loss: 0.3875 - val_accuracy: 0.8270\n",
      "Epoch 5/10\n",
      "132/132 [==============================] - 4s 34ms/step - loss: 0.2973 - accuracy: 0.8753 - val_loss: 0.3739 - val_accuracy: 0.8374\n",
      "Epoch 6/10\n",
      "132/132 [==============================] - 4s 33ms/step - loss: 0.2676 - accuracy: 0.8905 - val_loss: 0.3746 - val_accuracy: 0.8407\n",
      "Epoch 7/10\n",
      "132/132 [==============================] - 4s 32ms/step - loss: 0.2405 - accuracy: 0.9047 - val_loss: 0.3841 - val_accuracy: 0.8411\n",
      "Epoch 8/10\n",
      "132/132 [==============================] - 4s 32ms/step - loss: 0.2134 - accuracy: 0.9172 - val_loss: 0.4001 - val_accuracy: 0.8414\n",
      "Epoch 9/10\n",
      "132/132 [==============================] - 4s 32ms/step - loss: 0.1898 - accuracy: 0.9281 - val_loss: 0.4098 - val_accuracy: 0.8374\n",
      "Epoch 10/10\n",
      "132/132 [==============================] - 4s 32ms/step - loss: 0.1635 - accuracy: 0.9413 - val_loss: 0.4259 - val_accuracy: 0.8371\n"
     ]
    }
   ],
   "source": [
    "model_GMP.compile(optimizer=keras.optimizers.Adam(0.005),\n",
    "              loss='binary_crossentropy',\n",
    "              metrics=['accuracy'])\n",
    "              \n",
    "epochs=10\n",
    "batch_size=1000\n",
    "\n",
    "history_GMP = model_GMP.fit(x_train,\n",
    "                    y_train,\n",
    "                    epochs=epochs,\n",
    "                    batch_size=batch_size,\n",
    "                    validation_data=(x_val, y_val),\n",
    "                    verbose=1)"
   ]
  },
  {
   "cell_type": "code",
   "execution_count": 33,
   "metadata": {},
   "outputs": [
    {
     "name": "stdout",
     "output_type": "stream",
     "text": [
      "1537/1537 - 2s - loss: 0.4346 - accuracy: 0.8330\n",
      "[0.4345972239971161, 0.832963764667511]\n"
     ]
    }
   ],
   "source": [
    "results = model_GMP.evaluate(X_test,  y_test, verbose=2)\n",
    "\n",
    "print(results)"
   ]
  },
  {
   "cell_type": "code",
   "execution_count": 34,
   "metadata": {},
   "outputs": [
    {
     "data": {
      "image/png": "[encoded data removed]",
      "text/plain": [
       "<Figure size 432x288 with 1 Axes>"
      ]
     },
     "metadata": {
      "needs_background": "light"
     },
     "output_type": "display_data"
    },
    {
     "data": {
      "image/png": "[encoded data removed]",
      "text/plain": [
       "<Figure size 432x288 with 1 Axes>"
      ]
     },
     "metadata": {
      "needs_background": "light"
     },
     "output_type": "display_data"
    }
   ],
   "source": [
    "# summarize history for accuracy\n",
    "plt.plot(history_GMP.history['accuracy'])\n",
    "plt.plot(history_GMP.history['val_accuracy'])\n",
    "plt.title('GMP model accuracy')\n",
    "plt.ylabel('accuracy')\n",
    "plt.xlabel('epoch')\n",
    "plt.legend(['train', 'val'], loc='upper left')\n",
    "plt.show()\n",
    "# summarize history for loss\n",
    "plt.plot(history_GMP.history['loss'])\n",
    "plt.plot(history_GMP.history['val_loss'])\n",
    "plt.title('GMP model loss')\n",
    "plt.ylabel('loss')\n",
    "plt.xlabel('epoch')\n",
    "plt.legend(['train', 'val'], loc='upper left')\n",
    "plt.show()"
   ]
  },
  {
   "cell_type": "markdown",
   "metadata": {},
   "source": [
    "#### GlobalMaxPooling1D 1 layer Accuracy : 0.832963764667511\n",
    "\n",
    "### LSTM"
   ]
  },
  {
   "cell_type": "code",
   "execution_count": 35,
   "metadata": {},
   "outputs": [
    {
     "name": "stdout",
     "output_type": "stream",
     "text": [
      "Model: \"sequential_4\"\n",
      "_________________________________________________________________\n",
      "Layer (type)                 Output Shape              Param #   \n",
      "=================================================================\n",
      "embedding_4 (Embedding)      (None, 41, 200)           2000000   \n",
      "_________________________________________________________________\n",
      "lstm (LSTM)                  (None, 512)               1460224   \n",
      "_________________________________________________________________\n",
      "dense_7 (Dense)              (None, 1)                 513       \n",
      "=================================================================\n",
      "Total params: 3,460,737\n",
      "Trainable params: 3,460,737\n",
      "Non-trainable params: 0\n",
      "_________________________________________________________________\n"
     ]
    }
   ],
   "source": [
    "vocab_size = 10000\n",
    "word_vector_dim = 200  \n",
    "\n",
    "model_LSTM = keras.Sequential()\n",
    "model_LSTM.add(keras.layers.Embedding(vocab_size, \n",
    "                                 word_vector_dim, \n",
    "                                 embeddings_initializer=Constant(embedding_matrix),  # 카피한 임베딩을 여기서 활용\n",
    "                                 input_length=maxlen, \n",
    "                                 trainable=True)) \n",
    "model_LSTM.add(keras.layers.LSTM(512))   \n",
    "model_LSTM.add(keras.layers.Dense(1, activation='sigmoid'))  # 최종 출력은 긍정/부정을 나타내는 1dim 입니다.\n",
    "\n",
    "model_LSTM.summary()"
   ]
  },
  {
   "cell_type": "code",
   "execution_count": 36,
   "metadata": {},
   "outputs": [
    {
     "name": "stdout",
     "output_type": "stream",
     "text": [
      "Epoch 1/10\n",
      "132/132 [==============================] - 16s 119ms/step - loss: 0.4704 - accuracy: 0.7713 - val_loss: 0.3841 - val_accuracy: 0.8296\n",
      "Epoch 2/10\n",
      "132/132 [==============================] - 15s 113ms/step - loss: 0.3323 - accuracy: 0.8554 - val_loss: 0.3364 - val_accuracy: 0.8529\n",
      "Epoch 3/10\n",
      "132/132 [==============================] - 15s 114ms/step - loss: 0.2822 - accuracy: 0.8809 - val_loss: 0.3097 - val_accuracy: 0.8689\n",
      "Epoch 4/10\n",
      "132/132 [==============================] - 15s 113ms/step - loss: 0.2497 - accuracy: 0.8963 - val_loss: 0.3104 - val_accuracy: 0.8708\n",
      "Epoch 5/10\n",
      "132/132 [==============================] - 15s 111ms/step - loss: 0.2154 - accuracy: 0.9124 - val_loss: 0.3191 - val_accuracy: 0.8680\n",
      "Epoch 6/10\n",
      "132/132 [==============================] - 15s 113ms/step - loss: 0.1789 - accuracy: 0.9296 - val_loss: 0.3364 - val_accuracy: 0.8666\n",
      "Epoch 7/10\n",
      "132/132 [==============================] - 15s 114ms/step - loss: 0.1418 - accuracy: 0.9451 - val_loss: 0.3745 - val_accuracy: 0.8631\n",
      "Epoch 8/10\n",
      "132/132 [==============================] - 15s 111ms/step - loss: 0.1069 - accuracy: 0.9597 - val_loss: 0.4410 - val_accuracy: 0.8639\n",
      "Epoch 9/10\n",
      "132/132 [==============================] - 14s 110ms/step - loss: 0.0759 - accuracy: 0.9719 - val_loss: 0.4820 - val_accuracy: 0.8625\n",
      "Epoch 10/10\n",
      "132/132 [==============================] - 14s 110ms/step - loss: 0.0565 - accuracy: 0.9796 - val_loss: 0.5547 - val_accuracy: 0.8609\n"
     ]
    }
   ],
   "source": [
    "model_LSTM.compile(optimizer='adam',\n",
    "              loss='binary_crossentropy',\n",
    "              metrics=['accuracy'])\n",
    "              \n",
    "epochs=10\n",
    "batch_size=1000\n",
    "\n",
    "history_LSTM = model_LSTM.fit(x_train,\n",
    "                    y_train,\n",
    "                    epochs=epochs,\n",
    "                    batch_size=batch_size,\n",
    "                    validation_data=(x_val, y_val),\n",
    "                    verbose=1)"
   ]
  },
  {
   "cell_type": "code",
   "execution_count": 37,
   "metadata": {},
   "outputs": [
    {
     "name": "stdout",
     "output_type": "stream",
     "text": [
      "1537/1537 - 5s - loss: 0.5664 - accuracy: 0.8590\n",
      "[0.5663949251174927, 0.8589621186256409]\n"
     ]
    }
   ],
   "source": [
    "results = model_LSTM.evaluate(X_test,  y_test, verbose=2)\n",
    "\n",
    "print(results)"
   ]
  },
  {
   "cell_type": "code",
   "execution_count": 110,
   "metadata": {},
   "outputs": [
    {
     "data": {
      "image/png": "[encoded data removed]",
      "text/plain": [
       "<Figure size 432x288 with 1 Axes>"
      ]
     },
     "metadata": {
      "needs_background": "light"
     },
     "output_type": "display_data"
    },
    {
     "data": {
      "image/png": "[encoded data removed]",
      "text/plain": [
       "<Figure size 432x288 with 1 Axes>"
      ]
     },
     "metadata": {
      "needs_background": "light"
     },
     "output_type": "display_data"
    }
   ],
   "source": [
    "# summarize history for accuracy\n",
    "plt.plot(history_LSTM.history['accuracy'])\n",
    "plt.plot(history_LSTM.history['val_accuracy'])\n",
    "plt.title('LSTM model accuracy')\n",
    "plt.ylabel('accuracy')\n",
    "plt.xlabel('epoch')\n",
    "plt.legend(['train', 'val'], loc='upper left')\n",
    "plt.show()\n",
    "# summarize history for loss\n",
    "plt.plot(history_LSTM.history['loss'])\n",
    "plt.plot(history_LSTM.history['val_loss'])\n",
    "plt.title('LSTM model loss')\n",
    "plt.ylabel('loss')\n",
    "plt.xlabel('epoch')\n",
    "plt.legend(['train', 'val'], loc='upper left')\n",
    "plt.show()"
   ]
  },
  {
   "cell_type": "markdown",
   "metadata": {},
   "source": [
    "#### LSTM Accuracy : 0.8589621186256409\n",
    "\n",
    "### CNN + LSTM"
   ]
  },
  {
   "cell_type": "code",
   "execution_count": 112,
   "metadata": {},
   "outputs": [
    {
     "name": "stdout",
     "output_type": "stream",
     "text": [
      "Model: \"sequential_18\"\n",
      "_________________________________________________________________\n",
      "Layer (type)                 Output Shape              Param #   \n",
      "=================================================================\n",
      "embedding_18 (Embedding)     (None, 41, 200)           2000000   \n",
      "_________________________________________________________________\n",
      "conv1d_19 (Conv1D)           (None, 35, 3)             4203      \n",
      "_________________________________________________________________\n",
      "lstm_6 (LSTM)                (None, 128)               67584     \n",
      "_________________________________________________________________\n",
      "dense_22 (Dense)             (None, 1)                 129       \n",
      "=================================================================\n",
      "Total params: 2,071,916\n",
      "Trainable params: 2,071,916\n",
      "Non-trainable params: 0\n",
      "_________________________________________________________________\n"
     ]
    }
   ],
   "source": [
    "vocab_size = 10000\n",
    "word_vector_dim = 200  \n",
    "\n",
    "model_CNN_LSTM = keras.Sequential()\n",
    "model_CNN_LSTM.add(keras.layers.Embedding(vocab_size, \n",
    "                                 word_vector_dim, \n",
    "                                 embeddings_initializer=Constant(embedding_matrix),  # 카피한 임베딩을 여기서 활용\n",
    "                                 input_length=maxlen, \n",
    "                                 trainable=True)) \n",
    "model_CNN_LSTM.add(keras.layers.Conv1D(3, 7, activation='relu'))\n",
    "model_CNN_LSTM.add(keras.layers.LSTM(128))   \n",
    "model_CNN_LSTM.add(keras.layers.Dense(1, activation='sigmoid'))  # 최종 출력은 긍정/부정을 나타내는 1dim 입니다.\n",
    "\n",
    "model_CNN_LSTM.summary()"
   ]
  },
  {
   "cell_type": "code",
   "execution_count": 119,
   "metadata": {
    "scrolled": true
   },
   "outputs": [
    {
     "name": "stdout",
     "output_type": "stream",
     "text": [
      "Epoch 1/4\n",
      "257/257 [==============================] - 7s 28ms/step - loss: 0.2909 - accuracy: 0.8777 - val_loss: 0.3342 - val_accuracy: 0.8562\n",
      "Epoch 2/4\n",
      "257/257 [==============================] - 7s 27ms/step - loss: 0.2803 - accuracy: 0.8822 - val_loss: 0.3386 - val_accuracy: 0.8525\n",
      "Epoch 3/4\n",
      "257/257 [==============================] - 7s 27ms/step - loss: 0.2672 - accuracy: 0.8890 - val_loss: 0.3367 - val_accuracy: 0.8539\n",
      "Epoch 4/4\n",
      "257/257 [==============================] - 7s 27ms/step - loss: 0.2578 - accuracy: 0.8940 - val_loss: 0.3419 - val_accuracy: 0.8524\n"
     ]
    }
   ],
   "source": [
    "model_CNN_LSTM.compile(optimizer='adam',\n",
    "              loss='binary_crossentropy',\n",
    "              metrics=['accuracy'])\n",
    "              \n",
    "epochs=4\n",
    "batch_size=512\n",
    "\n",
    "history_CNN_LSTM = model_CNN_LSTM.fit(x_train,\n",
    "                    y_train,\n",
    "                    epochs=epochs,\n",
    "                    batch_size=batch_size,\n",
    "                    validation_data=(x_val, y_val),\n",
    "                    verbose=1)"
   ]
  },
  {
   "cell_type": "code",
   "execution_count": 120,
   "metadata": {},
   "outputs": [
    {
     "name": "stdout",
     "output_type": "stream",
     "text": [
      "1537/1537 - 3s - loss: 0.3518 - accuracy: 0.8509\n",
      "[0.3517517149448395, 0.8508859276771545]\n"
     ]
    }
   ],
   "source": [
    "results = model_CNN_LSTM.evaluate(X_test,  y_test, verbose=2)\n",
    "\n",
    "print(results)"
   ]
  },
  {
   "cell_type": "code",
   "execution_count": 122,
   "metadata": {},
   "outputs": [
    {
     "data": {
      "image/png": "[encoded data removed]",
      "text/plain": [
       "<Figure size 432x288 with 1 Axes>"
      ]
     },
     "metadata": {
      "needs_background": "light"
     },
     "output_type": "display_data"
    },
    {
     "data": {
      "image/png": "[encoded data removed]",
      "text/plain": [
       "<Figure size 432x288 with 1 Axes>"
      ]
     },
     "metadata": {
      "needs_background": "light"
     },
     "output_type": "display_data"
    }
   ],
   "source": [
    "# summarize history for accuracy\n",
    "plt.plot(history_CNN_LSTM.history['accuracy'])\n",
    "plt.plot(history_CNN_LSTM.history['val_accuracy'])\n",
    "plt.title('CNN LSTM model accuracy')\n",
    "plt.ylabel('accuracy')\n",
    "plt.xlabel('epoch')\n",
    "plt.legend(['train', 'val'], loc='upper left')\n",
    "plt.show()\n",
    "# summarize history for loss\n",
    "plt.plot(history_CNN_LSTM.history['loss'])\n",
    "plt.plot(history_CNN_LSTM.history['val_loss'])\n",
    "plt.title('CNN LSTM model loss')\n",
    "plt.ylabel('loss')\n",
    "plt.xlabel('epoch')\n",
    "plt.legend(['train', 'val'], loc='upper left')\n",
    "plt.show()"
   ]
  },
  {
   "cell_type": "markdown",
   "metadata": {},
   "source": [
    "#### CNN LSTM Accuracy : 0.8508859276771545"
   ]
  },
  {
   "cell_type": "markdown",
   "metadata": {},
   "source": [
    "# 정리\n",
    "---\n",
    "1. 네이버 영화리뷰 dataset을 load한다.   \n",
    "    - pd.read_tabel 을 이용하면 데이터를 표로 읽어올 수 있다. \n",
    "    - 데이터 description을 출력해 해당 데이터의 특성을 파악한다.\n",
    "2. 데이터셋을 가공할 함수를 만든다.   \n",
    "    - 중복된 데이터와 결측치를 제거한다.\n",
    "    - 문장을 토크나이저로 토큰화한다. \n",
    "    - 불용어는 제거한다.\n",
    "    - word_to_index, index_to_word를 구성한다.\n",
    "3. 데이터의 분포를 확인해 패딩할 최대 길이를 선정한다.\n",
    "    - 최대 길이는 (평균 + 2\\*표준편차)로 계산하였다. (41)\n",
    "4. 문장 앞에 패딩을 해 길이를 맞춘다.\n",
    "5. train, valid 로 dataset을 나눈다. \n",
    "6. 모델을 설계한다.\n",
    "    - 첫번째 레이어는 embedding layer로 구성한다.\n",
    "7. pretrain된 word2vec을 활용해 embedding layer를 구성한다.\n",
    "    - word2vec을 활용하면 단어간 유사도를 판별할 수 있다.\n",
    "8. 학습시킨 후 그래프 시각화를 통해 과적합을 판별해 파라미터를 조정한다.\n",
    "\n",
    "\n",
    "# 루브릭 평가\n",
    "---\n",
    "1. **다양한 방법으로 Text Classification 태스크를 성공적으로 구현하였다.**   \n",
    "    - convolution 1-dimension layer : 0.8306853771209717\n",
    "    - Global Max Pooling 1-layer : 0.832963764667511\n",
    "    - LSTM : 0.8589621186256409\n",
    "    - CNN+LSTM : 0.8508859276771545  \n",
    "    \n",
    "    \n",
    "2. **gensim을 활용하여 자체학습된 혹은 사전학습된 임베딩 레이어를 분석하였다.**  \n",
    "    - '주인공', '눈물' 각 단어의 유사단어를 출력해 사전학습된 임베딩 레이어의 성능을 확인했다.  \n",
    "    \n",
    "    \n",
    "3. **한국어 Word2Vec을 활용하여 가시적인 성능향상을 달성했다.**  \n",
    "    - LSTM, CNN+LSTM 모델의 accuracy를 85% 이상 달성했다.\n",
    "\n",
    "    \n",
    "# 회고\n",
    "---\n",
    "## 더 공부하고 싶은 부분\n",
    "- embedding layer의 원리\n",
    "- lstm 연산\n",
    "- vector dimension\n",
    "- callback함수를 사용해 earlystopping하는 것과 그래프로 확인해 에폭을 줄이는 것의 성능차이가 있을까?  \n",
    "\n",
    "## 느낀 점\n",
    "아직 RNN, NLP에 대해 부족한 부분이 많아 연산을 생각하며 모델을 구성하지 못한 점이 아쉬웠다. 문장을 토큰화하고, 벡터화하고 여러 전처리 과정에서 문장의 의미, 맥락, 단어들의 유사도 등 의미있는 데이터를 손상하지 않기위한 고민이 많이 필요하다는 것을 알게되었다. 더 재미있는 task도 빨리 만나고 싶다."
   ]
  }
 ],
 "metadata": {
  "kernelspec": {
   "display_name": "Python 3",
   "language": "python",
   "name": "python3"
  },
  "language_info": {
   "codemirror_mode": {
    "name": "ipython",
    "version": 3
   },
   "file_extension": ".py",
   "mimetype": "text/x-python",
   "name": "python",
   "nbconvert_exporter": "python",
   "pygments_lexer": "ipython3",
   "version": "3.7.9"
  }
 },
 "nbformat": 4,
 "nbformat_minor": 4
}
