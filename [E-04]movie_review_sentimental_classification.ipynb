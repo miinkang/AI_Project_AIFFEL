{
 "cells": [
  {
   "cell_type": "markdown",
   "metadata": {},
   "source": [
    "# [Exploration 04] Movie Review Sentimental Classification\n",
    "- 네이버 영화리뷰 corpus dataset을 이용해 **한국어 텍스트**의 감정분석을 한다.  \n",
    "\n",
    "## 1. load data\n",
    "- pd.read_table 을 이용해 불러온 데이터를 확인한다. "
   ]
  },
  {
   "cell_type": "code",
   "execution_count": 120,
   "metadata": {},
   "outputs": [
    {
     "data": {
      "text/html": [
       "<div>\n",
       "<style scoped>\n",
       "    .dataframe tbody tr th:only-of-type {\n",
       "        vertical-align: middle;\n",
       "    }\n",
       "\n",
       "    .dataframe tbody tr th {\n",
       "        vertical-align: top;\n",
       "    }\n",
       "\n",
       "    .dataframe thead th {\n",
       "        text-align: right;\n",
       "    }\n",
       "</style>\n",
       "<table border=\"1\" class=\"dataframe\">\n",
       "  <thead>\n",
       "    <tr style=\"text-align: right;\">\n",
       "      <th></th>\n",
       "      <th>id</th>\n",
       "      <th>document</th>\n",
       "      <th>label</th>\n",
       "    </tr>\n",
       "  </thead>\n",
       "  <tbody>\n",
       "    <tr>\n",
       "      <th>0</th>\n",
       "      <td>9976970</td>\n",
       "      <td>아 더빙.. 진짜 짜증나네요 목소리</td>\n",
       "      <td>0</td>\n",
       "    </tr>\n",
       "    <tr>\n",
       "      <th>1</th>\n",
       "      <td>3819312</td>\n",
       "      <td>흠...포스터보고 초딩영화줄....오버연기조차 가볍지 않구나</td>\n",
       "      <td>1</td>\n",
       "    </tr>\n",
       "    <tr>\n",
       "      <th>2</th>\n",
       "      <td>10265843</td>\n",
       "      <td>너무재밓었다그래서보는것을추천한다</td>\n",
       "      <td>0</td>\n",
       "    </tr>\n",
       "    <tr>\n",
       "      <th>3</th>\n",
       "      <td>9045019</td>\n",
       "      <td>교도소 이야기구먼 ..솔직히 재미는 없다..평점 조정</td>\n",
       "      <td>0</td>\n",
       "    </tr>\n",
       "    <tr>\n",
       "      <th>4</th>\n",
       "      <td>6483659</td>\n",
       "      <td>사이몬페그의 익살스런 연기가 돋보였던 영화!스파이더맨에서 늙어보이기만 했던 커스틴 ...</td>\n",
       "      <td>1</td>\n",
       "    </tr>\n",
       "  </tbody>\n",
       "</table>\n",
       "</div>"
      ],
      "text/plain": [
       "         id                                           document  label\n",
       "0   9976970                                아 더빙.. 진짜 짜증나네요 목소리      0\n",
       "1   3819312                  흠...포스터보고 초딩영화줄....오버연기조차 가볍지 않구나      1\n",
       "2  10265843                                  너무재밓었다그래서보는것을추천한다      0\n",
       "3   9045019                      교도소 이야기구먼 ..솔직히 재미는 없다..평점 조정      0\n",
       "4   6483659  사이몬페그의 익살스런 연기가 돋보였던 영화!스파이더맨에서 늙어보이기만 했던 커스틴 ...      1"
      ]
     },
     "execution_count": 120,
     "metadata": {},
     "output_type": "execute_result"
    }
   ],
   "source": [
    "import pandas as pd\n",
    "import urllib.request\n",
    "%matplotlib inline\n",
    "import matplotlib.pyplot as plt\n",
    "import re\n",
    "from konlpy.tag import Okt\n",
    "from tensorflow import keras\n",
    "from tensorflow.keras.preprocessing.text import Tokenizer\n",
    "import numpy as np\n",
    "from tensorflow.keras.preprocessing.sequence import pad_sequences\n",
    "from collections import Counter\n",
    "\n",
    "# 데이터를 읽어봅시다. \n",
    "train_data = pd.read_table('~/aiffel/sentiment_classification/ratings_train.txt')\n",
    "test_data = pd.read_table('~/aiffel/sentiment_classification/ratings_test.txt')\n",
    "\n",
    "train_data.head()"
   ]
  },
  {
   "cell_type": "code",
   "execution_count": 121,
   "metadata": {},
   "outputs": [
    {
     "name": "stdout",
     "output_type": "stream",
     "text": [
      "아 더빙.. 진짜 짜증나네요 목소리\n",
      "0\n",
      "<class 'pandas.core.frame.DataFrame'>\n",
      "RangeIndex: 150000 entries, 0 to 149999\n",
      "Data columns (total 3 columns):\n",
      " #   Column    Non-Null Count   Dtype \n",
      "---  ------    --------------   ----- \n",
      " 0   id        150000 non-null  int64 \n",
      " 1   document  149995 non-null  object\n",
      " 2   label     150000 non-null  int64 \n",
      "dtypes: int64(2), object(1)\n",
      "memory usage: 3.4+ MB\n"
     ]
    },
    {
     "data": {
      "text/html": [
       "<div>\n",
       "<style scoped>\n",
       "    .dataframe tbody tr th:only-of-type {\n",
       "        vertical-align: middle;\n",
       "    }\n",
       "\n",
       "    .dataframe tbody tr th {\n",
       "        vertical-align: top;\n",
       "    }\n",
       "\n",
       "    .dataframe thead th {\n",
       "        text-align: right;\n",
       "    }\n",
       "</style>\n",
       "<table border=\"1\" class=\"dataframe\">\n",
       "  <thead>\n",
       "    <tr style=\"text-align: right;\">\n",
       "      <th></th>\n",
       "      <th>id</th>\n",
       "      <th>label</th>\n",
       "    </tr>\n",
       "  </thead>\n",
       "  <tbody>\n",
       "    <tr>\n",
       "      <th>count</th>\n",
       "      <td>1.500000e+05</td>\n",
       "      <td>150000.000000</td>\n",
       "    </tr>\n",
       "    <tr>\n",
       "      <th>mean</th>\n",
       "      <td>6.743533e+06</td>\n",
       "      <td>0.498847</td>\n",
       "    </tr>\n",
       "    <tr>\n",
       "      <th>std</th>\n",
       "      <td>2.919051e+06</td>\n",
       "      <td>0.500000</td>\n",
       "    </tr>\n",
       "    <tr>\n",
       "      <th>min</th>\n",
       "      <td>3.300000e+01</td>\n",
       "      <td>0.000000</td>\n",
       "    </tr>\n",
       "    <tr>\n",
       "      <th>25%</th>\n",
       "      <td>4.766881e+06</td>\n",
       "      <td>0.000000</td>\n",
       "    </tr>\n",
       "    <tr>\n",
       "      <th>50%</th>\n",
       "      <td>7.526840e+06</td>\n",
       "      <td>0.000000</td>\n",
       "    </tr>\n",
       "    <tr>\n",
       "      <th>75%</th>\n",
       "      <td>9.249435e+06</td>\n",
       "      <td>1.000000</td>\n",
       "    </tr>\n",
       "    <tr>\n",
       "      <th>max</th>\n",
       "      <td>1.027815e+07</td>\n",
       "      <td>1.000000</td>\n",
       "    </tr>\n",
       "  </tbody>\n",
       "</table>\n",
       "</div>"
      ],
      "text/plain": [
       "                 id          label\n",
       "count  1.500000e+05  150000.000000\n",
       "mean   6.743533e+06       0.498847\n",
       "std    2.919051e+06       0.500000\n",
       "min    3.300000e+01       0.000000\n",
       "25%    4.766881e+06       0.000000\n",
       "50%    7.526840e+06       0.000000\n",
       "75%    9.249435e+06       1.000000\n",
       "max    1.027815e+07       1.000000"
      ]
     },
     "execution_count": 121,
     "metadata": {},
     "output_type": "execute_result"
    }
   ],
   "source": [
    "print(train_data.document[0])\n",
    "print(train_data.label[0])\n",
    "\n",
    "train_data.info()\n",
    "train_data.describe()"
   ]
  },
  {
   "cell_type": "code",
   "execution_count": 122,
   "metadata": {},
   "outputs": [
    {
     "name": "stdout",
     "output_type": "stream",
     "text": [
      "150000 150000\n",
      "50000 50000\n"
     ]
    }
   ],
   "source": [
    "print(len(train_data.document), len(train_data.label))\n",
    "print(len(test_data.document), len(test_data.label))"
   ]
  },
  {
   "cell_type": "markdown",
   "metadata": {},
   "source": [
    "## 2. make data_loader()\n",
    "- 데이터셋을 가공할 함수를 만든다. \n",
    "- **data_loader()**\n",
    "    - 중복 데이터 제거\n",
    "    - NaN 결측치 제거\n",
    "    - 한국어 토크나이저로 토큰화\n",
    "    - 불용어(Stopwords)제거\n",
    "    - 사전 word_to_index 구성\n",
    "    - 텍스트를 사전 인덱스 스트링으로 변환\n",
    "    - train, test, word_to_index로 리턴"
   ]
  },
  {
   "cell_type": "code",
   "execution_count": 123,
   "metadata": {},
   "outputs": [
    {
     "name": "stdout",
     "output_type": "stream",
     "text": [
      "146182\n",
      "True\n",
      "True\n",
      "id          0\n",
      "document    5\n",
      "label       0\n",
      "dtype: int64\n",
      "id          0\n",
      "document    3\n",
      "label       0\n",
      "dtype: int64\n",
      "False\n",
      "False\n"
     ]
    }
   ],
   "source": [
    "from konlpy.tag import Mecab\n",
    "tokenizer = Mecab()\n",
    "stopwords = ['의','가','이','은','들','는','좀','잘','걍','과','도','를','으로','자','에','와','한','하다']\n",
    "\n",
    "# 중복 데이터 확인 \n",
    "# nunique() : 중복되지 않은 데이터의 갯수 \n",
    "print(train_data['document'].nunique())  #146182\n",
    "\n",
    "# 결측치 확인 \n",
    "print(train_data.isnull().values.any()) # True \n",
    "print(test_data.isnull().values.any()) # True \n",
    "print(train_data.isnull().sum())\n",
    "print(test_data.isnull().sum())\n",
    "\n",
    "num_words = 10000\n",
    "\n",
    "def load_data(train_data, test_data, num_words=num_words):\n",
    "    # 중복 데이터 제거\n",
    "    train_data.drop_duplicates(subset=['document'], inplace=True)   # inplace=True 는 원본에서 제거한다. \n",
    "    test_data.drop_duplicates(subset=['document'], inplace=True)   # inplace=True 는 원본에서 제거한다. \n",
    "    \n",
    "    # NaN 결측치 제거 \n",
    "    train_data = train_data.dropna()\n",
    "    test_data = test_data.dropna()\n",
    "    \n",
    "    # 결측치 재확인 \n",
    "    print(train_data.isnull().values.any()) # False \n",
    "    print(test_data.isnull().values.any())  # False\n",
    "    \n",
    "    # 한국어 토크나이저로 토큰화(Mecab 이용)\n",
    "    X_train = []\n",
    "    for st in train_data['document']:\n",
    "        temp_x = tokenizer.morphs(st)\n",
    "        temp_x = [word for word in temp_x if not word in stopwords]   # 불용어 제거 \n",
    "        X_train.append(temp_x)\n",
    "        \n",
    "    X_test = []\n",
    "    for st in test_data['document']:\n",
    "        temp_x_test = tokenizer.morphs(st)\n",
    "        temp_x_test = [word for word in temp_x_test if not word in stopwords]   # 불용어 제거 \n",
    "        X_test.append(temp_x_test)\n",
    "        \n",
    "    \n",
    "    # word_to_index 만들기  \n",
    "    words = np.concatenate(X_train).tolist()      # train data를 list로 만든다.\n",
    "    counter = Counter(words)                      # 각 단어의 갯수와 단어를 키, 밸루로 하는 딕셔너리 생성 \n",
    "    counter = counter.most_common(10000-4) \n",
    "                                       # pad, bos, unk, unused 를 제외하고 가장 자주나오는 만개의 단어를 가져온다. (딕셔너리)\n",
    "    vocab = ['<PAD>', '<BOS>', '<UNK>', '<UNUSED>'] + [key for key, _ in counter]\n",
    "    word_to_index = {word:index for index, word in enumerate(vocab)}\n",
    "    \n",
    "    # 텍스트 스트링 -> 인덱스 스트링 \n",
    "    def wordlist_to_indexlist(wordlist):\n",
    "        return [word_to_index[word] if word in word_to_index else word_to_index['<UNK>'] for word in wordlist]\n",
    "\n",
    "    X_train = list(map(wordlist_to_indexlist, X_train))\n",
    "    X_test = list(map(wordlist_to_indexlist, X_test))\n",
    "\n",
    "    return X_train, np.array(list(train_data['label'])), X_test, np.array(list(test_data['label'])), word_to_index\n",
    "    \n",
    "    \n",
    "X_train, y_train, X_test, y_test, word_to_index = load_data(train_data, test_data)"
   ]
  },
  {
   "cell_type": "code",
   "execution_count": 124,
   "metadata": {},
   "outputs": [
    {
     "name": "stdout",
     "output_type": "stream",
     "text": [
      "146182 49157\n",
      "146182 49157\n"
     ]
    }
   ],
   "source": [
    "print(len(X_train), len(X_test))\n",
    "print(len(y_train), len(y_test))"
   ]
  },
  {
   "cell_type": "code",
   "execution_count": 125,
   "metadata": {},
   "outputs": [],
   "source": [
    "# index_to_word 생성 (전체파일을 생성하기 때문에 시간이 조금 걸린다)\n",
    "index_to_word = {index:word for word, index in word_to_index.items()}"
   ]
  },
  {
   "cell_type": "code",
   "execution_count": 126,
   "metadata": {},
   "outputs": [],
   "source": [
    "# 문장 1개를 활용할 딕셔너리와 함께 주면, 단어 인덱스 리스트 벡터로 변환해 주는 함수입니다. \n",
    "# 단, 모든 문장은 <BOS>로 시작하는 것으로 합니다. \n",
    "def get_encoded_sentence(sentence, word_to_index):\n",
    "    return [word_to_index['<BOS>']]+[word_to_index[word] if word in word_to_index else word_to_index['<UNK>'] for word in sentence.split()]\n",
    "\n",
    "# 여러 개의 문장 리스트를 한꺼번에 단어 인덱스 리스트 벡터로 encode해 주는 함수입니다. \n",
    "def get_encoded_sentences(sentences, word_to_index):\n",
    "    return [get_encoded_sentence(sentence, word_to_index) for sentence in sentences]\n",
    "\n",
    "# 숫자 벡터로 encode된 문장을 원래대로 decode하는 함수입니다. \n",
    "def get_decoded_sentence(encoded_sentence, index_to_word):\n",
    "    return ' '.join(index_to_word[index] if index in index_to_word else '<UNK>' for index in encoded_sentence[1:])  #[1:]를 통해 <BOS>를 제외\n",
    "\n",
    "# 여러개의 숫자 벡터로 encode된 문장을 한꺼번에 원래대로 decode하는 함수입니다. \n",
    "def get_decoded_sentences(encoded_sentences, index_to_word):\n",
    "    return [get_decoded_sentence(encoded_sentence, index_to_word) for encoded_sentence in encoded_sentences]"
   ]
  },
  {
   "cell_type": "markdown",
   "metadata": {},
   "source": [
    "## 3. 데이터 분석, 가공 \n",
    "- 데이터의 분포를 확인해 적절한 문장의 길이를 정한다.\n",
    "- 패딩을 한다. "
   ]
  },
  {
   "cell_type": "code",
   "execution_count": 127,
   "metadata": {},
   "outputs": [
    {
     "name": "stdout",
     "output_type": "stream",
     "text": [
      "146183\n",
      "49158\n",
      "0 [32, 74, 919, 4, 4, 39, 228, 20, 33, 748]\n"
     ]
    }
   ],
   "source": [
    "print(len(train_data.label))\n",
    "print(len(test_data.label))\n",
    "print(train_data.label[0], X_train[0])"
   ]
  },
  {
   "cell_type": "code",
   "execution_count": 128,
   "metadata": {},
   "outputs": [
    {
     "name": "stdout",
     "output_type": "stream",
     "text": [
      "X_train's length : 146182\n",
      "X_test's length : 49157\n"
     ]
    }
   ],
   "source": [
    "print(\"X_train's length :\", len(X_train))\n",
    "print(\"X_test's length :\", len(X_test))"
   ]
  },
  {
   "cell_type": "code",
   "execution_count": 129,
   "metadata": {},
   "outputs": [
    {
     "name": "stdout",
     "output_type": "stream",
     "text": [
      "문장길이 평균 :  15.96940191154864\n",
      "문장길이 최대 :  116\n",
      "문장길이 표준편차 :  12.843571191092\n",
      "pad_sequences maxlen :  41\n",
      "전체 문장의 0.9342988343341575%가 maxlen 설정값 이내에 포함됩니다. \n"
     ]
    }
   ],
   "source": [
    "# 전체 데이터 셋 통합 \n",
    "total_data_text = list(X_train) + list(X_test)\n",
    "\n",
    "num_tokens = [len(tokens) for tokens in total_data_text]\n",
    "num_tokens = np.array(num_tokens)\n",
    "\n",
    "print('문장길이 평균 : ', np.mean(num_tokens))\n",
    "print('문장길이 최대 : ', np.max(num_tokens))\n",
    "print('문장길이 표준편차 : ', np.std(num_tokens))\n",
    "\n",
    "# 예를들어, 최대 길이를 (평균 + 2*표준편차)로 한다면,  \n",
    "max_tokens = np.mean(num_tokens) + 2 * np.std(num_tokens)\n",
    "maxlen = int(max_tokens)\n",
    "print('pad_sequences maxlen : ', maxlen)\n",
    "print('전체 문장의 {}%가 maxlen 설정값 이내에 포함됩니다. '.format(np.sum(num_tokens < max_tokens) / len(num_tokens)))"
   ]
  },
  {
   "cell_type": "code",
   "execution_count": 130,
   "metadata": {},
   "outputs": [
    {
     "name": "stdout",
     "output_type": "stream",
     "text": [
      "(146182, 41)\n"
     ]
    }
   ],
   "source": [
    "X_train = keras.preprocessing.sequence.pad_sequences(X_train,\n",
    "                                                        value=word_to_index[\"<PAD>\"],\n",
    "                                                        padding='pre', \n",
    "                                                        maxlen=maxlen)\n",
    "\n",
    "X_test = keras.preprocessing.sequence.pad_sequences(X_test,\n",
    "                                                       value=word_to_index[\"<PAD>\"],\n",
    "                                                       padding='pre', \n",
    "                                                       maxlen=maxlen)\n",
    "\n",
    "print(X_train.shape)"
   ]
  },
  {
   "cell_type": "markdown",
   "metadata": {},
   "source": [
    "## 4. 모델 설계\n",
    "(1) Conv1D"
   ]
  },
  {
   "cell_type": "code",
   "execution_count": 136,
   "metadata": {},
   "outputs": [
    {
     "name": "stdout",
     "output_type": "stream",
     "text": [
      "Model: \"sequential_9\"\n",
      "_________________________________________________________________\n",
      "Layer (type)                 Output Shape              Param #   \n",
      "=================================================================\n",
      "embedding_9 (Embedding)      (None, None, 16)          160000    \n",
      "_________________________________________________________________\n",
      "conv1d_26 (Conv1D)           (None, None, 16)          1808      \n",
      "_________________________________________________________________\n",
      "max_pooling1d_16 (MaxPooling (None, None, 16)          0         \n",
      "_________________________________________________________________\n",
      "conv1d_27 (Conv1D)           (None, None, 32)          3616      \n",
      "_________________________________________________________________\n",
      "global_max_pooling1d_9 (Glob (None, 32)                0         \n",
      "_________________________________________________________________\n",
      "dense_18 (Dense)             (None, 32)                1056      \n",
      "_________________________________________________________________\n",
      "dense_19 (Dense)             (None, 1)                 33        \n",
      "=================================================================\n",
      "Total params: 166,513\n",
      "Trainable params: 166,513\n",
      "Non-trainable params: 0\n",
      "_________________________________________________________________\n"
     ]
    }
   ],
   "source": [
    "vocab_size = 10000    # 어휘 사전의 크기입니다(10,000개의 단어)\n",
    "word_vector_dim = 16  # 워드 벡터의 차원수 (변경가능한 하이퍼파라미터)\n",
    "\n",
    "# model 설계 - 딥러닝 모델 코드를 직접 작성해 주세요.\n",
    "model = keras.Sequential()\n",
    "model.add(keras.layers.Embedding(vocab_size, word_vector_dim, input_shape=(None,)))\n",
    "model.add(keras.layers.Conv1D(16, 7, activation='relu'))\n",
    "model.add(keras.layers.MaxPooling1D(5))\n",
    "model.add(keras.layers.Conv1D(32, 7, activation='relu'))\n",
    "model.add(keras.layers.GlobalMaxPooling1D())\n",
    "model.add(keras.layers.Dense(32, activation='relu'))\n",
    "model.add(keras.layers.Dense(1, activation='sigmoid'))  # 최종 출력은 긍정/부정을 나타내는 1dim 입니다.\n",
    "\n",
    "model.summary()"
   ]
  },
  {
   "cell_type": "markdown",
   "metadata": {},
   "source": [
    "## 5. data split\n",
    "- train_test_split을 이용해서 train, valid를 이용한다. "
   ]
  },
  {
   "cell_type": "code",
   "execution_count": 132,
   "metadata": {},
   "outputs": [
    {
     "name": "stdout",
     "output_type": "stream",
     "text": [
      "(131563, 41) (131563,)\n",
      "(14619, 41) (14619,)\n"
     ]
    }
   ],
   "source": [
    "from sklearn import model_selection\n",
    "\n",
    "x_train, x_val, y_train, y_val = model_selection.train_test_split(X_train, y_train, test_size = 0.1, shuffle=False)\n",
    "\n",
    "print(x_train.shape, y_train.shape)\n",
    "print(x_val.shape, y_val.shape)"
   ]
  },
  {
   "cell_type": "code",
   "execution_count": 96,
   "metadata": {},
   "outputs": [],
   "source": [
    "# 슬라이싱을 이용해서 split하는 코드 \n",
    "\n",
    "# # validation set 10000건 분리\n",
    "# x_val = X_train[:10000]   \n",
    "# y_val = y_train[:10000]\n",
    "\n",
    "# # validation set을 제외한 나머지 15000건\n",
    "# partial_x_train = X_train[10000:]  \n",
    "# partial_y_train = y_train[10000:]\n",
    "\n",
    "# print(partial_x_train.shape)\n",
    "# print(partial_y_train.shape)"
   ]
  },
  {
   "cell_type": "markdown",
   "metadata": {},
   "source": [
    "## 6. run model"
   ]
  },
  {
   "cell_type": "code",
   "execution_count": 137,
   "metadata": {},
   "outputs": [
    {
     "name": "stdout",
     "output_type": "stream",
     "text": [
      "Epoch 1/20\n",
      "257/257 - 9s - loss: 0.4678 - accuracy: 0.7640 - val_loss: 0.3520 - val_accuracy: 0.8456\n",
      "Epoch 2/20\n",
      "257/257 - 1s - loss: 0.3211 - accuracy: 0.8630 - val_loss: 0.3365 - val_accuracy: 0.8538\n",
      "Epoch 3/20\n",
      "257/257 - 1s - loss: 0.2861 - accuracy: 0.8809 - val_loss: 0.3375 - val_accuracy: 0.8564\n",
      "Epoch 4/20\n",
      "257/257 - 1s - loss: 0.2518 - accuracy: 0.8982 - val_loss: 0.3558 - val_accuracy: 0.8520\n",
      "Epoch 5/20\n",
      "257/257 - 1s - loss: 0.2148 - accuracy: 0.9168 - val_loss: 0.3698 - val_accuracy: 0.8494\n",
      "Epoch 6/20\n",
      "257/257 - 1s - loss: 0.1765 - accuracy: 0.9353 - val_loss: 0.4021 - val_accuracy: 0.8471\n",
      "Epoch 7/20\n",
      "257/257 - 1s - loss: 0.1439 - accuracy: 0.9500 - val_loss: 0.4371 - val_accuracy: 0.8431\n",
      "Epoch 8/20\n",
      "257/257 - 1s - loss: 0.1186 - accuracy: 0.9603 - val_loss: 0.4938 - val_accuracy: 0.8403\n",
      "Epoch 9/20\n",
      "257/257 - 1s - loss: 0.0985 - accuracy: 0.9683 - val_loss: 0.5355 - val_accuracy: 0.8410\n",
      "Epoch 10/20\n",
      "257/257 - 1s - loss: 0.0838 - accuracy: 0.9738 - val_loss: 0.5896 - val_accuracy: 0.8344\n",
      "Epoch 11/20\n",
      "257/257 - 1s - loss: 0.0727 - accuracy: 0.9780 - val_loss: 0.6367 - val_accuracy: 0.8351\n",
      "Epoch 12/20\n",
      "257/257 - 1s - loss: 0.0647 - accuracy: 0.9807 - val_loss: 0.6761 - val_accuracy: 0.8300\n",
      "Epoch 13/20\n",
      "257/257 - 1s - loss: 0.0586 - accuracy: 0.9825 - val_loss: 0.7060 - val_accuracy: 0.8324\n",
      "Epoch 14/20\n",
      "257/257 - 1s - loss: 0.0545 - accuracy: 0.9839 - val_loss: 0.7568 - val_accuracy: 0.8271\n",
      "Epoch 15/20\n",
      "257/257 - 1s - loss: 0.0505 - accuracy: 0.9850 - val_loss: 0.7855 - val_accuracy: 0.8247\n",
      "Epoch 16/20\n",
      "257/257 - 1s - loss: 0.0489 - accuracy: 0.9851 - val_loss: 0.8078 - val_accuracy: 0.8264\n",
      "Epoch 17/20\n",
      "257/257 - 1s - loss: 0.0476 - accuracy: 0.9852 - val_loss: 0.8030 - val_accuracy: 0.8238\n",
      "Epoch 18/20\n",
      "257/257 - 1s - loss: 0.0435 - accuracy: 0.9867 - val_loss: 0.8639 - val_accuracy: 0.8243\n",
      "Epoch 19/20\n",
      "257/257 - 1s - loss: 0.0408 - accuracy: 0.9876 - val_loss: 0.8593 - val_accuracy: 0.8261\n",
      "Epoch 20/20\n",
      "257/257 - 1s - loss: 0.0382 - accuracy: 0.9886 - val_loss: 0.9086 - val_accuracy: 0.8234\n"
     ]
    }
   ],
   "source": [
    "model.compile(optimizer='adam',\n",
    "              loss='binary_crossentropy',\n",
    "              metrics=['accuracy'])\n",
    "              \n",
    "epochs=20  # 몇 epoch를 훈련하면 좋을지 결과를 보면서 바꾸어 봅시다. \n",
    "batch_size=512\n",
    "\n",
    "history = model.fit(x_train,\n",
    "                    y_train,\n",
    "                    epochs=epochs,\n",
    "                    batch_size=batch_size,\n",
    "                    validation_data=(x_val, y_val),\n",
    "                    verbose=2)"
   ]
  },
  {
   "cell_type": "code",
   "execution_count": 139,
   "metadata": {},
   "outputs": [
    {
     "name": "stdout",
     "output_type": "stream",
     "text": [
      "1537/1537 - 4s - loss: 0.9194 - accuracy: 0.8192\n",
      "[0.919425904750824, 0.8191712498664856]\n"
     ]
    }
   ],
   "source": [
    "results = model.evaluate(X_test,  y_test, verbose=2)\n",
    "\n",
    "print(results)"
   ]
  },
  {
   "cell_type": "markdown",
   "metadata": {},
   "source": [
    "## 7. visualize model training history"
   ]
  },
  {
   "cell_type": "code",
   "execution_count": 140,
   "metadata": {},
   "outputs": [
    {
     "data": {
      "image/png": "[encoded data removed]",
      "text/plain": [
       "<Figure size 432x288 with 1 Axes>"
      ]
     },
     "metadata": {
      "needs_background": "light"
     },
     "output_type": "display_data"
    },
    {
     "data": {
      "image/png": "[encoded data removed]",
      "text/plain": [
       "<Figure size 432x288 with 1 Axes>"
      ]
     },
     "metadata": {
      "needs_background": "light"
     },
     "output_type": "display_data"
    }
   ],
   "source": [
    "import matplotlib.pyplot as plt\n",
    "\n",
    "plt.plot(history.history['accuracy'])\n",
    "plt.plot(history.history['val_accuracy'])\n",
    "plt.title('model accuracy')\n",
    "plt.ylabel('accuracy')\n",
    "plt.xlabel('epoch')\n",
    "plt.legend(['train', 'val'], loc='upper left')\n",
    "plt.show()\n",
    "# summarize history for loss\n",
    "plt.plot(history.history['loss'])\n",
    "plt.plot(history.history['val_loss'])\n",
    "plt.title('model loss')\n",
    "plt.ylabel('loss')\n",
    "plt.xlabel('epoch')\n",
    "plt.legend(['train', 'val'], loc='upper left')\n",
    "plt.show()"
   ]
  },
  {
   "cell_type": "markdown",
   "metadata": {},
   "source": [
    "## 8. 학습된 embedding layer 분석\n",
    "- model을 구성하는 첫번째 레이어는 embedding layer이다. \n",
    "- 이 레이어를 통해 학습이 잘 이루어졌는지 분석할 수 있다. "
   ]
  },
  {
   "cell_type": "code",
   "execution_count": 141,
   "metadata": {},
   "outputs": [
    {
     "name": "stdout",
     "output_type": "stream",
     "text": [
      "(10000, 16)\n"
     ]
    }
   ],
   "source": [
    "embedding_layer = model.layers[0]\n",
    "weights = embedding_layer.get_weights()[0]\n",
    "print(weights.shape)    # shape: (vocab_size, embedding_dim)"
   ]
  },
  {
   "cell_type": "code",
   "execution_count": 147,
   "metadata": {},
   "outputs": [
    {
     "data": {
      "text/plain": [
       "array([ 0.00735869,  0.03350969, -0.07834193, -0.12336007, -0.00590372,\n",
       "       -0.04572642,  0.03360189,  0.00598928,  0.02057785,  0.02866328,\n",
       "        0.0594396 , -0.00274949,  0.0107703 , -0.03913644,  0.04239653,\n",
       "        0.02737738], dtype=float32)"
      ]
     },
     "execution_count": 147,
     "metadata": {},
     "output_type": "execute_result"
    }
   ],
   "source": [
    "import os\n",
    "\n",
    "# 학습한 Embedding 파라미터를 파일에 써서 저장합니다. \n",
    "word2vec_file_path = os.getenv('HOME')+'/aiffel/sentiment_classification/word2vec.txt'\n",
    "f = open(word2vec_file_path, 'w')\n",
    "f.write('{} {}\\n'.format(vocab_size-4, word_vector_dim))  # 몇개의 벡터를 얼마 사이즈로 기재할지 타이틀을 씁니다.\n",
    "\n",
    "# 단어 개수(에서 특수문자 4개는 제외하고)만큼의 워드 벡터를 파일에 기록합니다. \n",
    "vectors = model.get_weights()[0]\n",
    "for i in range(4,vocab_size):\n",
    "    f.write('{} {}\\n'.format(index_to_word[i], ' '.join(map(str, list(vectors[i, :])))))\n",
    "f.close()\n",
    "\n",
    "from gensim.models.keyedvectors import Word2VecKeyedVectors\n",
    "\n",
    "word_vectors = Word2VecKeyedVectors.load_word2vec_format(word2vec_file_path, binary=False)\n",
    "vector = word_vectors['영화']\n",
    "vector"
   ]
  },
  {
   "cell_type": "code",
   "execution_count": 156,
   "metadata": {},
   "outputs": [
    {
     "data": {
      "text/plain": [
       "[('ㅇㅇㅇ', 0.778947651386261),\n",
       " ('남매', 0.756324052810669),\n",
       " ('나와요', 0.742383599281311),\n",
       " ('껄', 0.7320163249969482),\n",
       " ('씽', 0.7317867279052734),\n",
       " ('미친다', 0.7196764945983887),\n",
       " ('센스', 0.7177374958992004),\n",
       " ('구속', 0.7176232933998108),\n",
       " ('박한별', 0.702104926109314),\n",
       " ('급박', 0.6988272666931152)]"
      ]
     },
     "execution_count": 156,
     "metadata": {},
     "output_type": "execute_result"
    }
   ],
   "source": [
    "word_vectors.similar_by_word(\"주인공\")"
   ]
  },
  {
   "cell_type": "markdown",
   "metadata": {},
   "source": [
    "- **'주인공'** 과 연관있는 단어를 word2vec 파일을 이용해서 뽑아낼 수있다.   \n",
    "    : 하지만 관련이 없어 보이는 단어(벡터)가 출력되었다.   \n",
    "    : 성능이 좋지 않다!"
   ]
  },
  {
   "cell_type": "markdown",
   "metadata": {},
   "source": [
    "## 9. 한국어 word2vec embedding 활용 성능개선\n",
    "- 한국어 word2vec 을 다운받아 사용한다.   \n",
    "    [다운로드 경로](https://github.com/Kyubyong/wordvectors)"
   ]
  },
  {
   "cell_type": "code",
   "execution_count": 161,
   "metadata": {},
   "outputs": [
    {
     "data": {
      "text/plain": [
       "[('여주인공', 0.7362918853759766),\n",
       " ('히로인', 0.7030971646308899),\n",
       " ('원작', 0.6740964651107788),\n",
       " ('악당', 0.6630157232284546),\n",
       " ('등장인물', 0.6590856909751892),\n",
       " ('악역', 0.6446496248245239),\n",
       " ('작중', 0.6274654865264893),\n",
       " ('극중', 0.6266963481903076),\n",
       " ('유령', 0.609932541847229),\n",
       " ('모험', 0.5971505641937256)]"
      ]
     },
     "execution_count": 161,
     "metadata": {},
     "output_type": "execute_result"
    }
   ],
   "source": [
    "import gensim\n",
    "from gensim.models import KeyedVectors\n",
    "from gensim.models import Word2Vec\n",
    "\n",
    "word2vec_path = os.getenv('HOME')+'/aiffel/sentiment_classification/ko.bin'\n",
    "ko_model = Word2Vec.load(word2vec_path)\n",
    "ko_model.wv.most_similar(\"주인공\")"
   ]
  },
  {
   "cell_type": "markdown",
   "metadata": {},
   "source": [
    "### gensim 유사단어 찾기\n",
    "- word2vec을 사용하지 않은 embedding layer보다 pretrained word2vec을 이용한 결과가 유사도가 높은 단어를 출력했다.  \n",
    "\n",
    "\n",
    "- 해당 word2vec을 embedding layer에 적용해 기존 CNN 모델과의 성능비교를 해보고자 한다.\n",
    "\n",
    "### embedding layer 교체"
   ]
  },
  {
   "cell_type": "code",
   "execution_count": 163,
   "metadata": {},
   "outputs": [
    {
     "name": "stderr",
     "output_type": "stream",
     "text": [
      "/home/aiffel-dj26/anaconda3/envs/aiffel/lib/python3.7/site-packages/ipykernel_launcher.py:8: DeprecationWarning: Call to deprecated `__contains__` (Method will be removed in 4.0.0, use self.wv.__contains__() instead).\n",
      "  \n",
      "/home/aiffel-dj26/anaconda3/envs/aiffel/lib/python3.7/site-packages/ipykernel_launcher.py:9: DeprecationWarning: Call to deprecated `__getitem__` (Method will be removed in 4.0.0, use self.wv.__getitem__() instead).\n",
      "  if __name__ == '__main__':\n"
     ]
    }
   ],
   "source": [
    "vocab_size = 10000    # 어휘 사전의 크기입니다(10,000개의 단어)\n",
    "word_vector_dim = 200  # 워드 벡터의 차원수 (변경가능한 하이퍼파라미터)\n",
    "\n",
    "embedding_matrix = np.random.rand(vocab_size, word_vector_dim)\n",
    "\n",
    "# embedding_matrix에 Word2Vec 워드벡터를 단어 하나씩마다 차례차례 카피한다.\n",
    "for i in range(4,vocab_size):\n",
    "    if index_to_word[i] in ko_model:\n",
    "        embedding_matrix[i] = ko_model[index_to_word[i]]"
   ]
  },
  {
   "cell_type": "code",
   "execution_count": 167,
   "metadata": {},
   "outputs": [
    {
     "name": "stdout",
     "output_type": "stream",
     "text": [
      "Model: \"sequential_13\"\n",
      "_________________________________________________________________\n",
      "Layer (type)                 Output Shape              Param #   \n",
      "=================================================================\n",
      "embedding_13 (Embedding)     (None, 41, 200)           2000000   \n",
      "_________________________________________________________________\n",
      "conv1d_32 (Conv1D)           (None, 35, 16)            22416     \n",
      "_________________________________________________________________\n",
      "max_pooling1d_19 (MaxPooling (None, 7, 16)             0         \n",
      "_________________________________________________________________\n",
      "conv1d_33 (Conv1D)           (None, 1, 32)             3616      \n",
      "_________________________________________________________________\n",
      "global_max_pooling1d_12 (Glo (None, 32)                0         \n",
      "_________________________________________________________________\n",
      "dense_24 (Dense)             (None, 32)                1056      \n",
      "_________________________________________________________________\n",
      "dense_25 (Dense)             (None, 1)                 33        \n",
      "=================================================================\n",
      "Total params: 2,027,121\n",
      "Trainable params: 2,027,121\n",
      "Non-trainable params: 0\n",
      "_________________________________________________________________\n"
     ]
    }
   ],
   "source": [
    "from tensorflow.keras.initializers import Constant\n",
    "\n",
    "vocab_size = 10000    # 어휘 사전의 크기입니다(10,000개의 단어)\n",
    "word_vector_dim = 200  # 워드 벡터의 차원수 (변경가능한 하이퍼파라미터)\n",
    "\n",
    "# 모델 구성\n",
    "model_conv = keras.Sequential()\n",
    "model_conv.add(keras.layers.Embedding(vocab_size, \n",
    "                                 word_vector_dim, \n",
    "                                 embeddings_initializer=Constant(embedding_matrix),  # 카피한 임베딩을 여기서 활용\n",
    "                                 input_length=maxlen, \n",
    "                                 trainable=True))   # trainable을 True로 주면 Fine-tuning\n",
    "model_conv.add(keras.layers.Conv1D(16, 7, activation='relu'))\n",
    "model_conv.add(keras.layers.MaxPooling1D(5))\n",
    "model_conv.add(keras.layers.Conv1D(32, 7, activation='relu'))\n",
    "model_conv.add(keras.layers.GlobalMaxPooling1D())\n",
    "model_conv.add(keras.layers.Dense(32, activation='relu'))\n",
    "model_conv.add(keras.layers.Dense(1, activation='sigmoid')) \n",
    "\n",
    "model_conv.summary()"
   ]
  },
  {
   "cell_type": "markdown",
   "metadata": {},
   "source": [
    "word2vec을 적용하지 않은 모델보다 확연히 파라미터 수가 증가했다. (166,513 -> 2,027,121)"
   ]
  },
  {
   "cell_type": "code",
   "execution_count": 168,
   "metadata": {},
   "outputs": [
    {
     "name": "stdout",
     "output_type": "stream",
     "text": [
      "Epoch 1/20\n",
      "266/266 [==============================] - 15s 56ms/step - loss: 0.5184 - accuracy: 0.7349 - val_loss: 0.5149 - val_accuracy: 0.7537\n",
      "Epoch 2/20\n",
      "266/266 [==============================] - 6s 23ms/step - loss: 0.3742 - accuracy: 0.8347 - val_loss: 0.4507 - val_accuracy: 0.7970\n",
      "Epoch 3/20\n",
      "266/266 [==============================] - 6s 23ms/step - loss: 0.3208 - accuracy: 0.8630 - val_loss: 0.4223 - val_accuracy: 0.8308\n",
      "Epoch 4/20\n",
      "266/266 [==============================] - 6s 23ms/step - loss: 0.2902 - accuracy: 0.8791 - val_loss: 0.4041 - val_accuracy: 0.8315\n",
      "Epoch 5/20\n",
      "266/266 [==============================] - 6s 23ms/step - loss: 0.2663 - accuracy: 0.8909 - val_loss: 0.3930 - val_accuracy: 0.8328\n",
      "Epoch 6/20\n",
      "266/266 [==============================] - 6s 23ms/step - loss: 0.2445 - accuracy: 0.9011 - val_loss: 0.3804 - val_accuracy: 0.8333\n",
      "Epoch 7/20\n",
      "266/266 [==============================] - 6s 23ms/step - loss: 0.2262 - accuracy: 0.9105 - val_loss: 0.4195 - val_accuracy: 0.7947\n",
      "Epoch 8/20\n",
      "266/266 [==============================] - 6s 23ms/step - loss: 0.2055 - accuracy: 0.9202 - val_loss: 0.3724 - val_accuracy: 0.8319\n",
      "Epoch 9/20\n",
      "266/266 [==============================] - 6s 23ms/step - loss: 0.1863 - accuracy: 0.9288 - val_loss: 0.4038 - val_accuracy: 0.8165\n",
      "Epoch 10/20\n",
      "266/266 [==============================] - 6s 23ms/step - loss: 0.1675 - accuracy: 0.9375 - val_loss: 0.3679 - val_accuracy: 0.8323\n",
      "Epoch 11/20\n",
      "266/266 [==============================] - 6s 23ms/step - loss: 0.1489 - accuracy: 0.9463 - val_loss: 0.3791 - val_accuracy: 0.8268\n",
      "Epoch 12/20\n",
      "266/266 [==============================] - 6s 23ms/step - loss: 0.1316 - accuracy: 0.9529 - val_loss: 0.3991 - val_accuracy: 0.8248\n",
      "Epoch 13/20\n",
      "266/266 [==============================] - 6s 23ms/step - loss: 0.1174 - accuracy: 0.9585 - val_loss: 0.4293 - val_accuracy: 0.8074\n",
      "Epoch 14/20\n",
      "266/266 [==============================] - 6s 23ms/step - loss: 0.1063 - accuracy: 0.9625 - val_loss: 0.3972 - val_accuracy: 0.8308\n",
      "Epoch 15/20\n",
      "266/266 [==============================] - 6s 23ms/step - loss: 0.0934 - accuracy: 0.9675 - val_loss: 0.4058 - val_accuracy: 0.8258\n",
      "Epoch 16/20\n",
      "266/266 [==============================] - 6s 23ms/step - loss: 0.0846 - accuracy: 0.9714 - val_loss: 0.4219 - val_accuracy: 0.8247\n",
      "Epoch 17/20\n",
      "266/266 [==============================] - 6s 23ms/step - loss: 0.0755 - accuracy: 0.9746 - val_loss: 0.4191 - val_accuracy: 0.8367\n",
      "Epoch 18/20\n",
      "266/266 [==============================] - 6s 23ms/step - loss: 0.0713 - accuracy: 0.9756 - val_loss: 0.4577 - val_accuracy: 0.8202\n",
      "Epoch 19/20\n",
      "266/266 [==============================] - 6s 23ms/step - loss: 0.0653 - accuracy: 0.9782 - val_loss: 0.4976 - val_accuracy: 0.8108\n",
      "Epoch 20/20\n",
      "266/266 [==============================] - 6s 23ms/step - loss: 0.0615 - accuracy: 0.9793 - val_loss: 0.4648 - val_accuracy: 0.8286\n"
     ]
    }
   ],
   "source": [
    "model_conv.compile(optimizer='adam',\n",
    "              loss='binary_crossentropy',\n",
    "              metrics=['accuracy'])\n",
    "              \n",
    "epochs=20  # 몇 epoch를 훈련하면 좋을지 결과를 보면서 바꾸어 봅시다. \n",
    "\n",
    "history = model_conv.fit(partial_x_train,\n",
    "                    partial_y_train,\n",
    "                    epochs=epochs,\n",
    "                    batch_size=512,\n",
    "                    validation_data=(x_val, y_val),\n",
    "                    verbose=1)"
   ]
  },
  {
   "cell_type": "code",
   "execution_count": 170,
   "metadata": {},
   "outputs": [
    {
     "name": "stdout",
     "output_type": "stream",
     "text": [
      "1537/1537 - 3s - loss: 0.8110 - accuracy: 0.7638\n",
      "[0.811042308807373, 0.7637772560119629]\n"
     ]
    }
   ],
   "source": [
    "results = model_conv.evaluate(X_test,  y_test, verbose=2)\n",
    "\n",
    "print(results)"
   ]
  },
  {
   "cell_type": "code",
   "execution_count": 171,
   "metadata": {},
   "outputs": [
    {
     "data": {
      "image/png": "[encoded data removed]",
      "text/plain": [
       "<Figure size 432x288 with 1 Axes>"
      ]
     },
     "metadata": {
      "needs_background": "light"
     },
     "output_type": "display_data"
    },
    {
     "data": {
      "image/png": "[encoded data removed]",
      "text/plain": [
       "<Figure size 432x288 with 1 Axes>"
      ]
     },
     "metadata": {
      "needs_background": "light"
     },
     "output_type": "display_data"
    }
   ],
   "source": [
    "import matplotlib.pyplot as plt\n",
    "\n",
    "plt.plot(history.history['accuracy'])\n",
    "plt.plot(history.history['val_accuracy'])\n",
    "plt.title('model accuracy')\n",
    "plt.ylabel('accuracy')\n",
    "plt.xlabel('epoch')\n",
    "plt.legend(['train', 'val'], loc='upper left')\n",
    "plt.show()\n",
    "# summarize history for loss\n",
    "plt.plot(history.history['loss'])\n",
    "plt.plot(history.history['val_loss'])\n",
    "plt.title('model loss')\n",
    "plt.ylabel('loss')\n",
    "plt.xlabel('epoch')\n",
    "plt.legend(['train', 'val'], loc='upper left')\n",
    "plt.show()"
   ]
  },
  {
   "cell_type": "code",
   "execution_count": null,
   "metadata": {},
   "outputs": [],
   "source": []
  },
  {
   "cell_type": "markdown",
   "metadata": {},
   "source": [
    "# 정리\n",
    "---\n",
    "1. 손글씨(digits), 와인(wine), 유방암(breast cancer) dataset을 sklearn모듈을 이용해 load한다.   \n",
    "    - 데이터가 각 label당 고르게 분포하였는지 확인한다.\n",
    "    - 데이터 description을 출력해 해당 데이터의 특성을 파악한다.\n",
    "2. 학습과 평가를 위해 train, test 두 개의 dataset으로 나눈다.   \n",
    "    - 이 때, 시드를 고정시기고, label의 분포를 고정시켜 학습 시 분포를 일정하게 유지하였다.  \n",
    "3. 의사결정트리, 랜덤포레스트, SVM, SGD 분류, 로지스틱 회귀 **총 5개의 머신러닝 모델로 학습**한다.   \n",
    "4. confusion matrix를 확인할 수 있는 classification report를 통해 정밀도, 재현율, f1 스코어를 확인한다.\n",
    "5. 데이터 분포, 특성 등을 총합해 모델의 성능을 평가할 지표를 선택한다.\n",
    "\n",
    "# 루브릭 평가\n",
    "---\n",
    "1. **다양한 방법으로 Text Classification 태스크를 성공적으로 구현하였다.**   \n",
    "    - 3가지 이상의 모델이 성공적으로 시도됨.  \n",
    "    \n",
    "2. **gensim을 활용하여 자체학습된 혹은 사전학습된 임베딩 레이어를 분석하였다.**  \n",
    "    - gensim의 유사단어 찾기를 활용하여 자체학습한 임베딩과 사전학습 임베딩을 적절히 분석함\n",
    "    \n",
    "3. **한국어 Word2Vec을 활용하여 가시적인 성능향상을 달성했다.**  \n",
    "    - 네이버 영화리뷰 데이터 감성분석 정확도를 85% 이상 달성함\n",
    "\n",
    "    \n",
    "# 회고\n",
    "---\n",
    "## 새롭게 알게된(혹은 다시 정립한) 개념\n",
    "- **random_state**와 **stratify**의 차이  \n",
    "\n",
    "    (1) random_state  \n",
    "    데이터셋을 train, test로 나눌 때 shuffle=False 파라미터를 설정하지 않으면 자동으로 무작위로 섞게 된다. 여기에서 무작위란 어떤 특정한 숫자로부터 시작한 난수처럼 보이는 수열을 말한다. 수열이 시작되는 특정한 숫자를 시드(seed)라고 하며, 이 시드를 수동으로 설정하고 다음에도 동일한 시드를 사용하면 동일하게 나눠진 데이터를 얻을 수 있다.\n",
    "     따라서 데이터를 섞되 일정하게 섞고 싶을 때 사용하는 것이 seed이고, 이를 설정하는 파라미터가 random_state이다.  \n",
    "     \n",
    "    (2) stratify  \n",
    "    label당 데이터의 분포를 일정하게 고정하는 파라미터이다. 예를 들어 label=[0, 1]이라면, 매 split을 진행할 때마다 70:30의 비율로 고정할 수 있다. ~~비율을 어떻게 정하는 지는 더 공부해봐야겠다.~~ \n",
    "    해당 파라미터는 classification report에서 학습이 제대로 되지 않아 특정 label의 모든 지표와 데이터 개수가 0으로 나오는 바람에 찾아보게 되었다. \n",
    "    \n",
    "\n",
    "- **confusion matrix**와 **평가지표**  \n",
    "\n",
    "    (1) 정밀도(precision)  \n",
    "    정밀도는 예측한 모든 y_pred 중에 정확하게 예측한 값이 어느정도 있는가를 측정한 지표이다. 참과 거짓이 있다면 참이라고 예측한 값들 중 진짜 참은 얼마나 있는가?! 라고 말할 수 있다.  \n",
    "    정밀도를 통해 **우리는 예측하고자 하는 label을 얼마나 정확하게 예측하는지**를 알 수 있다. \n",
    "    \n",
    "    (2) 재현율(recall)  \n",
    "    재현율은 참과 거짓이 있다면 모든 참 중 참이라고 예측한 값이 얼마나 있는가를 측정한 지표이다. 이를 통해 **우리가 예측한 결과가 얼마나 정확한지**를 알 수 있다. \n",
    "    \n",
    "    (3) trouble shooting  \n",
    "    true positive+false positive==0 이면, 정밀도를 정의할 수 없기에 0으로 출력되고, true positive+false negative==0 이면, 재현율을 정의할 수 없어 0으로 출력된다.\n",
    "\n",
    "\n",
    "## 느낀 점\n",
    "confusion matrix를 이해하고 정밀도, 재현율에 대한 차이를 이해하는 것이 어려웠다. 아직 완벽하게 체화하지 못했지만 앞으로 다른 데이터에도 적용하면서 체화할 수 있을 것이라고 생각한다. 머신러닝 모델을 모듈을 사용해서 세 줄로 학습, 예측, 평가까지 끝낼 수 있다는게 놀라웠고 코드가 짧은 만큼 다양한 파라미터가 있는 것 같다. nn을 사용할 때 loss가 0으로 수렴하는 과정을 보다가 1초도 안되는 시간안에 학습을 끝낸다는 것이 놀라우면서 학습과정을 보지 못해 답답하기도 했다. 또한 데이터의 특성에 따라 성과지표가 다를 수 있다는 것은 매우 중요한 포인트라고 생각한다. 학습 모델을 구축하기 전에 평가지표에 대한 정립을 하는 과정이 필요하다는 것을 배울 수 있었다. "
   ]
  }
 ],
 "metadata": {
  "kernelspec": {
   "display_name": "Python 3",
   "language": "python",
   "name": "python3"
  },
  "language_info": {
   "codemirror_mode": {
    "name": "ipython",
    "version": 3
   },
   "file_extension": ".py",
   "mimetype": "text/x-python",
   "name": "python",
   "nbconvert_exporter": "python",
   "pygments_lexer": "ipython3",
   "version": "3.7.9"
  }
 },
 "nbformat": 4,
 "nbformat_minor": 4
}
