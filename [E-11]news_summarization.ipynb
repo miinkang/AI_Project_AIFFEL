{
 "cells": [
  {
   "cell_type": "markdown",
   "id": "invisible-orchestra",
   "metadata": {},
   "source": [
    "# [Exploration 11] 뉴스 요약봇 만들기\n",
    "## 프로젝트 설명 \n",
    "---\n",
    "뉴스 기사 원문과 뉴스 제목으로 구성된 데이터셋을 이용해 원문에서 제목을 추출하는 뉴스 요약봇을 설계한다.\n",
    "\n",
    "\n",
    "## 프로젝트 정리     \n",
    "---        \n",
    "1. 데이터 불러오기\n",
    "2. 데이터 전처리\n",
    "    - 불용어 처리\n",
    "    - 정규화 작업\n",
    "    - 데이터 분포 확인 후 최대 길이 설정\n",
    "    - 토큰 추가\n",
    "    - 단어 사전 생성\n",
    "    - 정수 인코딩 (단어 사전 사용)\n",
    "    - 빈도수를 기준으로 데이터 처리 (단어 사전 사용) \n",
    "3. 모델 설계\n",
    "    - encoder : 뉴스 기사 원문\n",
    "    - decoder : 뉴스 제목 \n",
    "4. 결과 평가\n",
    "    - 뉴스 기사 원문만 처리하는 encoder-decoder 모델을 설계\n",
    "    - 원문만으로 뉴스 제목을 예측\n",
    "    - 예측한 뉴스 제목과 실제 뉴스 제목을 비교\n",
    "5. 추출적 요약 진행\n",
    "\n",
    "\n",
    "## 프로젝트 목표\n",
    "---\n",
    "- lstm, seq2seq, attention 메커니즘을 이해한다.\n",
    "- 데이터 전처리 과정을 이해한다.\n",
    "- 추상적 요약(Abstractive Summarization)과 추출적 요약(Extractive Summarization)의 차이점을 이해한다. \n",
    "\n",
    "\n",
    "## 01. load data\n",
    "- 뉴스기사 데이터(newssummarymore.csv)사용 : [링크](https://github.com/sunnysai12345/News_Summary)"
   ]
  },
  {
   "cell_type": "code",
   "execution_count": null,
   "id": "pacific-cheat",
   "metadata": {},
   "outputs": [],
   "source": [
    "# 전처리 후 csv 파일 저장\n",
    "\n",
    "data.to_csv('news_summary_more_after_preprocessing.csv')\n",
    "# 전처리 끝난 csv파일 불러오기\n",
    "\n",
    "data = pd.read_csv('news_summary_more_after_preprocessing.csv', encoding='iso-8859-1')"
   ]
  },
  {
   "cell_type": "code",
   "execution_count": 1,
   "id": "political-wallet",
   "metadata": {},
   "outputs": [
    {
     "name": "stderr",
     "output_type": "stream",
     "text": [
      "[nltk_data] Downloading package stopwords to /home/aiffel-\n",
      "[nltk_data]     dj26/nltk_data...\n",
      "[nltk_data]   Package stopwords is already up-to-date!\n"
     ]
    }
   ],
   "source": [
    "import nltk\n",
    "nltk.download('stopwords')\n",
    "\n",
    "import numpy as np\n",
    "import pandas as pd\n",
    "import os\n",
    "import re\n",
    "import matplotlib.pyplot as plt\n",
    "from nltk.corpus import stopwords\n",
    "from bs4 import BeautifulSoup \n",
    "from tensorflow.keras.preprocessing.text import Tokenizer \n",
    "from tensorflow.keras.preprocessing.sequence import pad_sequences\n",
    "import urllib.request"
   ]
  },
  {
   "cell_type": "code",
   "execution_count": 2,
   "id": "familiar-barbados",
   "metadata": {},
   "outputs": [],
   "source": [
    "urllib.request.urlretrieve(\"https://raw.githubusercontent.com/sunnysai12345/News_Summary/master/news_summary_more.csv\", filename=\"news_summary_more.csv\")\n",
    "data = pd.read_csv('news_summary_more.csv', encoding='iso-8859-1')"
   ]
  },
  {
   "cell_type": "code",
   "execution_count": 3,
   "id": "figured-essex",
   "metadata": {},
   "outputs": [
    {
     "data": {
      "text/html": [
       "<div>\n",
       "<style scoped>\n",
       "    .dataframe tbody tr th:only-of-type {\n",
       "        vertical-align: middle;\n",
       "    }\n",
       "\n",
       "    .dataframe tbody tr th {\n",
       "        vertical-align: top;\n",
       "    }\n",
       "\n",
       "    .dataframe thead th {\n",
       "        text-align: right;\n",
       "    }\n",
       "</style>\n",
       "<table border=\"1\" class=\"dataframe\">\n",
       "  <thead>\n",
       "    <tr style=\"text-align: right;\">\n",
       "      <th></th>\n",
       "      <th>headlines</th>\n",
       "      <th>text</th>\n",
       "    </tr>\n",
       "  </thead>\n",
       "  <tbody>\n",
       "    <tr>\n",
       "      <th>0</th>\n",
       "      <td>upGrad learner switches to career in ML &amp; Al w...</td>\n",
       "      <td>Saurav Kant, an alumnus of upGrad and IIIT-B's...</td>\n",
       "    </tr>\n",
       "    <tr>\n",
       "      <th>1</th>\n",
       "      <td>Delhi techie wins free food from Swiggy for on...</td>\n",
       "      <td>Kunal Shah's credit card bill payment platform...</td>\n",
       "    </tr>\n",
       "    <tr>\n",
       "      <th>2</th>\n",
       "      <td>New Zealand end Rohit Sharma-led India's 12-ma...</td>\n",
       "      <td>New Zealand defeated India by 8 wickets in the...</td>\n",
       "    </tr>\n",
       "    <tr>\n",
       "      <th>3</th>\n",
       "      <td>Aegon life iTerm insurance plan helps customer...</td>\n",
       "      <td>With Aegon Life iTerm Insurance plan, customer...</td>\n",
       "    </tr>\n",
       "    <tr>\n",
       "      <th>4</th>\n",
       "      <td>Have known Hirani for yrs, what if MeToo claim...</td>\n",
       "      <td>Speaking about the sexual harassment allegatio...</td>\n",
       "    </tr>\n",
       "  </tbody>\n",
       "</table>\n",
       "</div>"
      ],
      "text/plain": [
       "                                           headlines  \\\n",
       "0  upGrad learner switches to career in ML & Al w...   \n",
       "1  Delhi techie wins free food from Swiggy for on...   \n",
       "2  New Zealand end Rohit Sharma-led India's 12-ma...   \n",
       "3  Aegon life iTerm insurance plan helps customer...   \n",
       "4  Have known Hirani for yrs, what if MeToo claim...   \n",
       "\n",
       "                                                text  \n",
       "0  Saurav Kant, an alumnus of upGrad and IIIT-B's...  \n",
       "1  Kunal Shah's credit card bill payment platform...  \n",
       "2  New Zealand defeated India by 8 wickets in the...  \n",
       "3  With Aegon Life iTerm Insurance plan, customer...  \n",
       "4  Speaking about the sexual harassment allegatio...  "
      ]
     },
     "execution_count": 3,
     "metadata": {},
     "output_type": "execute_result"
    }
   ],
   "source": [
    "data.head()"
   ]
  },
  {
   "cell_type": "code",
   "execution_count": 4,
   "id": "dress-activity",
   "metadata": {},
   "outputs": [
    {
     "data": {
      "text/html": [
       "<div>\n",
       "<style scoped>\n",
       "    .dataframe tbody tr th:only-of-type {\n",
       "        vertical-align: middle;\n",
       "    }\n",
       "\n",
       "    .dataframe tbody tr th {\n",
       "        vertical-align: top;\n",
       "    }\n",
       "\n",
       "    .dataframe thead th {\n",
       "        text-align: right;\n",
       "    }\n",
       "</style>\n",
       "<table border=\"1\" class=\"dataframe\">\n",
       "  <thead>\n",
       "    <tr style=\"text-align: right;\">\n",
       "      <th></th>\n",
       "      <th>headlines</th>\n",
       "      <th>text</th>\n",
       "    </tr>\n",
       "  </thead>\n",
       "  <tbody>\n",
       "    <tr>\n",
       "      <th>8223</th>\n",
       "      <td>Video: Ranveer Singh turns DJ at his 2nd Mumba...</td>\n",
       "      <td>A video shows Ranveer Singh turning DJ at his ...</td>\n",
       "    </tr>\n",
       "    <tr>\n",
       "      <th>67906</th>\n",
       "      <td>Ryanair given deadline to give 4L flyers alter...</td>\n",
       "      <td>The UK Civil Aviation Authority (CAA) has orde...</td>\n",
       "    </tr>\n",
       "    <tr>\n",
       "      <th>87567</th>\n",
       "      <td>1st Star Wars film made for $11 million earned...</td>\n",
       "      <td>The first Star Wars film 'Star Wars: Episode I...</td>\n",
       "    </tr>\n",
       "    <tr>\n",
       "      <th>73343</th>\n",
       "      <td>Haryana Dy Advocate Gen sacked for carrying Ra...</td>\n",
       "      <td>Haryana's Deputy Advocate General Gurdass Sing...</td>\n",
       "    </tr>\n",
       "    <tr>\n",
       "      <th>95320</th>\n",
       "      <td>Bihar's model of Grand Alliance can defeat BJP...</td>\n",
       "      <td>Bihar Chief Minister Nitish Kumar on Monday sa...</td>\n",
       "    </tr>\n",
       "    <tr>\n",
       "      <th>88433</th>\n",
       "      <td>Google announces Android version for 1 GB RAM ...</td>\n",
       "      <td>Technology major Google on Wednesday announced...</td>\n",
       "    </tr>\n",
       "    <tr>\n",
       "      <th>51636</th>\n",
       "      <td>Mumbai Police to have 8-hour duty schedule for...</td>\n",
       "      <td>The Mumbai Police will be switching to an eigh...</td>\n",
       "    </tr>\n",
       "    <tr>\n",
       "      <th>70365</th>\n",
       "      <td>Hospital operation theatre's roof collapses tw...</td>\n",
       "      <td>The roof of an operation theatre of Karnataka'...</td>\n",
       "    </tr>\n",
       "    <tr>\n",
       "      <th>54850</th>\n",
       "      <td>School van driver held for molesting Class 8 s...</td>\n",
       "      <td>A 32-year-old school van driver was arrested o...</td>\n",
       "    </tr>\n",
       "    <tr>\n",
       "      <th>81308</th>\n",
       "      <td>Man who wrote book on surviving bulls trampled...</td>\n",
       "      <td>An American man who was trampled by a bull in ...</td>\n",
       "    </tr>\n",
       "  </tbody>\n",
       "</table>\n",
       "</div>"
      ],
      "text/plain": [
       "                                               headlines  \\\n",
       "8223   Video: Ranveer Singh turns DJ at his 2nd Mumba...   \n",
       "67906  Ryanair given deadline to give 4L flyers alter...   \n",
       "87567  1st Star Wars film made for $11 million earned...   \n",
       "73343  Haryana Dy Advocate Gen sacked for carrying Ra...   \n",
       "95320  Bihar's model of Grand Alliance can defeat BJP...   \n",
       "88433  Google announces Android version for 1 GB RAM ...   \n",
       "51636  Mumbai Police to have 8-hour duty schedule for...   \n",
       "70365  Hospital operation theatre's roof collapses tw...   \n",
       "54850  School van driver held for molesting Class 8 s...   \n",
       "81308  Man who wrote book on surviving bulls trampled...   \n",
       "\n",
       "                                                    text  \n",
       "8223   A video shows Ranveer Singh turning DJ at his ...  \n",
       "67906  The UK Civil Aviation Authority (CAA) has orde...  \n",
       "87567  The first Star Wars film 'Star Wars: Episode I...  \n",
       "73343  Haryana's Deputy Advocate General Gurdass Sing...  \n",
       "95320  Bihar Chief Minister Nitish Kumar on Monday sa...  \n",
       "88433  Technology major Google on Wednesday announced...  \n",
       "51636  The Mumbai Police will be switching to an eigh...  \n",
       "70365  The roof of an operation theatre of Karnataka'...  \n",
       "54850  A 32-year-old school van driver was arrested o...  \n",
       "81308  An American man who was trampled by a bull in ...  "
      ]
     },
     "execution_count": 4,
     "metadata": {},
     "output_type": "execute_result"
    }
   ],
   "source": [
    "data.sample(10)"
   ]
  },
  {
   "cell_type": "markdown",
   "id": "boring-airline",
   "metadata": {},
   "source": [
    "## 02. 데이터 전처리\n",
    "- 중복샘플, NULL 처리"
   ]
  },
  {
   "cell_type": "code",
   "execution_count": 5,
   "id": "solid-booth",
   "metadata": {},
   "outputs": [
    {
     "name": "stdout",
     "output_type": "stream",
     "text": [
      "전체 data 길이 : 98401\n",
      "unique한 headline 수: 98280\n",
      "unique한 text 수: 98360\n"
     ]
    }
   ],
   "source": [
    "print('전체 data 길이 :', len(data))\n",
    "print('unique한 headline 수:', data.headlines.nunique())\n",
    "print('unique한 text 수:', data.text.nunique())"
   ]
  },
  {
   "cell_type": "markdown",
   "id": "static-score",
   "metadata": {},
   "source": [
    "- text를 기준으로 중복데이터를 제거"
   ]
  },
  {
   "cell_type": "code",
   "execution_count": 6,
   "id": "fifth-johnston",
   "metadata": {
    "scrolled": true
   },
   "outputs": [
    {
     "name": "stdout",
     "output_type": "stream",
     "text": [
      "전체 data 길이 : 98360\n",
      "unique한 headline 수: 98262\n"
     ]
    }
   ],
   "source": [
    "data.drop_duplicates(subset=['text'], inplace = True)\n",
    "print('전체 data 길이 :', len(data))\n",
    "print('unique한 headline 수:', data.headlines.nunique())"
   ]
  },
  {
   "cell_type": "markdown",
   "id": "military-performance",
   "metadata": {},
   "source": [
    "- null 확인 : 없음!"
   ]
  },
  {
   "cell_type": "code",
   "execution_count": 7,
   "id": "polyphonic-circulation",
   "metadata": {
    "scrolled": true
   },
   "outputs": [
    {
     "name": "stdout",
     "output_type": "stream",
     "text": [
      "headlines    0\n",
      "text         0\n",
      "dtype: int64\n"
     ]
    }
   ],
   "source": [
    "print(data.isnull().sum())"
   ]
  },
  {
   "cell_type": "markdown",
   "id": "fabulous-clark",
   "metadata": {},
   "source": [
    "- text normalization(텍스트 정규화)\n",
    "    - it'll == it will : 문법을 통일화해준다."
   ]
  },
  {
   "cell_type": "code",
   "execution_count": 8,
   "id": "meaningful-administrator",
   "metadata": {},
   "outputs": [
    {
     "name": "stdout",
     "output_type": "stream",
     "text": [
      "정규화 사전의 수:  120\n"
     ]
    }
   ],
   "source": [
    "contractions = {\"ain't\": \"is not\", \"aren't\": \"are not\",\"can't\": \"cannot\", \"'cause\": \"because\", \"could've\": \"could have\", \"couldn't\": \"could not\",\n",
    "                           \"didn't\": \"did not\",  \"doesn't\": \"does not\", \"don't\": \"do not\", \"hadn't\": \"had not\", \"hasn't\": \"has not\", \"haven't\": \"have not\",\n",
    "                           \"he'd\": \"he would\",\"he'll\": \"he will\", \"he's\": \"he is\", \"how'd\": \"how did\", \"how'd'y\": \"how do you\", \"how'll\": \"how will\", \"how's\": \"how is\",\n",
    "                           \"I'd\": \"I would\", \"I'd've\": \"I would have\", \"I'll\": \"I will\", \"I'll've\": \"I will have\",\"I'm\": \"I am\", \"I've\": \"I have\", \"i'd\": \"i would\",\n",
    "                           \"i'd've\": \"i would have\", \"i'll\": \"i will\",  \"i'll've\": \"i will have\",\"i'm\": \"i am\", \"i've\": \"i have\", \"isn't\": \"is not\", \"it'd\": \"it would\",\n",
    "                           \"it'd've\": \"it would have\", \"it'll\": \"it will\", \"it'll've\": \"it will have\",\"it's\": \"it is\", \"let's\": \"let us\", \"ma'am\": \"madam\",\n",
    "                           \"mayn't\": \"may not\", \"might've\": \"might have\",\"mightn't\": \"might not\",\"mightn't've\": \"might not have\", \"must've\": \"must have\",\n",
    "                           \"mustn't\": \"must not\", \"mustn't've\": \"must not have\", \"needn't\": \"need not\", \"needn't've\": \"need not have\",\"o'clock\": \"of the clock\",\n",
    "                           \"oughtn't\": \"ought not\", \"oughtn't've\": \"ought not have\", \"shan't\": \"shall not\", \"sha'n't\": \"shall not\", \"shan't've\": \"shall not have\",\n",
    "                           \"she'd\": \"she would\", \"she'd've\": \"she would have\", \"she'll\": \"she will\", \"she'll've\": \"she will have\", \"she's\": \"she is\",\n",
    "                           \"should've\": \"should have\", \"shouldn't\": \"should not\", \"shouldn't've\": \"should not have\", \"so've\": \"so have\",\"so's\": \"so as\",\n",
    "                           \"this's\": \"this is\",\"that'd\": \"that would\", \"that'd've\": \"that would have\", \"that's\": \"that is\", \"there'd\": \"there would\",\n",
    "                           \"there'd've\": \"there would have\", \"there's\": \"there is\", \"here's\": \"here is\",\"they'd\": \"they would\", \"they'd've\": \"they would have\",\n",
    "                           \"they'll\": \"they will\", \"they'll've\": \"they will have\", \"they're\": \"they are\", \"they've\": \"they have\", \"to've\": \"to have\",\n",
    "                           \"wasn't\": \"was not\", \"we'd\": \"we would\", \"we'd've\": \"we would have\", \"we'll\": \"we will\", \"we'll've\": \"we will have\", \"we're\": \"we are\",\n",
    "                           \"we've\": \"we have\", \"weren't\": \"were not\", \"what'll\": \"what will\", \"what'll've\": \"what will have\", \"what're\": \"what are\",\n",
    "                           \"what's\": \"what is\", \"what've\": \"what have\", \"when's\": \"when is\", \"when've\": \"when have\", \"where'd\": \"where did\", \"where's\": \"where is\",\n",
    "                           \"where've\": \"where have\", \"who'll\": \"who will\", \"who'll've\": \"who will have\", \"who's\": \"who is\", \"who've\": \"who have\",\n",
    "                           \"why's\": \"why is\", \"why've\": \"why have\", \"will've\": \"will have\", \"won't\": \"will not\", \"won't've\": \"will not have\",\n",
    "                           \"would've\": \"would have\", \"wouldn't\": \"would not\", \"wouldn't've\": \"would not have\", \"y'all\": \"you all\",\n",
    "                           \"y'all'd\": \"you all would\",\"y'all'd've\": \"you all would have\",\"y'all're\": \"you all are\",\"y'all've\": \"you all have\",\n",
    "                           \"you'd\": \"you would\", \"you'd've\": \"you would have\", \"you'll\": \"you will\", \"you'll've\": \"you will have\",\n",
    "                           \"you're\": \"you are\", \"you've\": \"you have\"}\n",
    "\n",
    "print(\"정규화 사전의 수: \",len(contractions))"
   ]
  },
  {
   "cell_type": "code",
   "execution_count": 9,
   "id": "cordless-origin",
   "metadata": {},
   "outputs": [
    {
     "name": "stdout",
     "output_type": "stream",
     "text": [
      "불용어 개수 : 179\n",
      "['i', 'me', 'my', 'myself', 'we', 'our', 'ours', 'ourselves', 'you', \"you're\", \"you've\", \"you'll\", \"you'd\", 'your', 'yours', 'yourself', 'yourselves', 'he', 'him', 'his', 'himself', 'she', \"she's\", 'her', 'hers', 'herself', 'it', \"it's\", 'its', 'itself', 'they', 'them', 'their', 'theirs', 'themselves', 'what', 'which', 'who', 'whom', 'this', 'that', \"that'll\", 'these', 'those', 'am', 'is', 'are', 'was', 'were', 'be', 'been', 'being', 'have', 'has', 'had', 'having', 'do', 'does', 'did', 'doing', 'a', 'an', 'the', 'and', 'but', 'if', 'or', 'because', 'as', 'until', 'while', 'of', 'at', 'by', 'for', 'with', 'about', 'against', 'between', 'into', 'through', 'during', 'before', 'after', 'above', 'below', 'to', 'from', 'up', 'down', 'in', 'out', 'on', 'off', 'over', 'under', 'again', 'further', 'then', 'once', 'here', 'there', 'when', 'where', 'why', 'how', 'all', 'any', 'both', 'each', 'few', 'more', 'most', 'other', 'some', 'such', 'no', 'nor', 'not', 'only', 'own', 'same', 'so', 'than', 'too', 'very', 's', 't', 'can', 'will', 'just', 'don', \"don't\", 'should', \"should've\", 'now', 'd', 'll', 'm', 'o', 're', 've', 'y', 'ain', 'aren', \"aren't\", 'couldn', \"couldn't\", 'didn', \"didn't\", 'doesn', \"doesn't\", 'hadn', \"hadn't\", 'hasn', \"hasn't\", 'haven', \"haven't\", 'isn', \"isn't\", 'ma', 'mightn', \"mightn't\", 'mustn', \"mustn't\", 'needn', \"needn't\", 'shan', \"shan't\", 'shouldn', \"shouldn't\", 'wasn', \"wasn't\", 'weren', \"weren't\", 'won', \"won't\", 'wouldn', \"wouldn't\"]\n"
     ]
    }
   ],
   "source": [
    "print('불용어 개수 :', len(stopwords.words('english') ))\n",
    "print(stopwords.words('english'))"
   ]
  },
  {
   "cell_type": "code",
   "execution_count": 10,
   "id": "median-ready",
   "metadata": {},
   "outputs": [],
   "source": [
    "#데이터 전처리 함수\n",
    "def preprocess_sentence(sentence, remove_stopwords=True):\n",
    "    sentence = sentence.lower() # 텍스트 소문자화\n",
    "    sentence = BeautifulSoup(sentence, \"lxml\").text # <br />, <a href = ...> 등의 html 태그 제거\n",
    "    sentence = re.sub(r'\\([^)]*\\)', '', sentence) # 괄호로 닫힌 문자열 (...) 제거 Ex) my husband (and myself!) for => my husband for\n",
    "    sentence = re.sub('\"','', sentence) # 쌍따옴표 \" 제거\n",
    "    sentence = ' '.join([contractions[t] if t in contractions else t for t in sentence.split(\" \")]) # 약어 정규화\n",
    "    sentence = re.sub(r\"'s\\b\",\"\",sentence) # 소유격 제거. Ex) roland's -> roland\n",
    "    sentence = re.sub(\"[^a-zA-Z]\", \" \", sentence) # 영어 외 문자(숫자, 특수문자 등) 공백으로 변환\n",
    "    sentence = re.sub('[m]{2,}', 'mm', sentence) # m이 3개 이상이면 2개로 변경. Ex) ummmmmmm yeah -> umm yeah\n",
    "    \n",
    "    # 불용어 제거 (Text)\n",
    "    if remove_stopwords:\n",
    "        tokens = ' '.join(word for word in sentence.split() if not word in stopwords.words('english') if len(word) > 1)\n",
    "    # 불용어 미제거 (Summary)\n",
    "    else:\n",
    "        tokens = ' '.join(word for word in sentence.split() if len(word) > 1)\n",
    "    return tokens"
   ]
  },
  {
   "cell_type": "code",
   "execution_count": 11,
   "id": "italian-chart",
   "metadata": {},
   "outputs": [
    {
     "data": {
      "text/plain": [
       "['saurav kant alumnus upgrad iiit pg program machine learning artificial intelligence sr systems engineer infosys almost years work experience program upgrad degree career support helped transition data scientist tech mahindra salary hike upgrad online power learning powered lakh careers',\n",
       " 'kunal shah credit card bill payment platform cred gave users chance win free food swiggy one year pranav kaushik delhi techie bagged reward spending cred coins users get one cred coin per rupee bill paid used avail rewards brands like ixigo bookmyshow ubereats cult fit',\n",
       " 'new zealand defeated india wickets fourth odi hamilton thursday win first match five match odi series india lost international match rohit sharma captaincy consecutive victories dating back march match witnessed india getting seventh lowest total odi cricket history',\n",
       " 'aegon life iterm insurance plan customers enjoy tax benefits premiums paid save taxes plan provides life cover age years also customers options insure critical illnesses disability accidental death benefit rider life cover age years',\n",
       " 'speaking sexual harassment allegations rajkumar hirani sonam kapoor said known hirani many years true metoo movement get derailed metoo movement always believe woman case need reserve judgment added hirani accused assistant worked sanju']"
      ]
     },
     "execution_count": 11,
     "metadata": {},
     "output_type": "execute_result"
    }
   ],
   "source": [
    "clean_text = []\n",
    "\n",
    "# 전체 Text 데이터에 대한 전처리 : 10분 이상 시간이 걸릴 수 있습니다. \n",
    "for s in data['text']:\n",
    "    clean_text.append(preprocess_sentence(s))\n",
    "\n",
    "# 전처리 후 출력\n",
    "clean_text[:5]"
   ]
  },
  {
   "cell_type": "code",
   "execution_count": 12,
   "id": "colored-feedback",
   "metadata": {},
   "outputs": [
    {
     "data": {
      "text/plain": [
       "['upgrad learner switches to career in ml al with salary hike',\n",
       " 'delhi techie wins free food from swiggy for one year on cred',\n",
       " 'new zealand end rohit sharma led india match winning streak',\n",
       " 'aegon life iterm insurance plan helps customers save tax',\n",
       " 'have known hirani for yrs what if metoo claims are not true sonam']"
      ]
     },
     "execution_count": 12,
     "metadata": {},
     "output_type": "execute_result"
    }
   ],
   "source": [
    "clean_summary = []\n",
    "\n",
    "# 전체 Summary 데이터에 대한 전처리 : 5분 이상 시간이 걸릴 수 있습니다. \n",
    "for s in data['headlines']:\n",
    "    clean_summary.append(preprocess_sentence(s, False))\n",
    "\n",
    "clean_summary[:5]"
   ]
  },
  {
   "cell_type": "code",
   "execution_count": 13,
   "id": "exposed-selling",
   "metadata": {},
   "outputs": [],
   "source": [
    "data['Text'] = clean_text\n",
    "data['Summary'] = clean_summary\n",
    "\n",
    "# 빈 값을 Null 값으로 변환\n",
    "data.replace('', np.nan, inplace=True)"
   ]
  },
  {
   "cell_type": "code",
   "execution_count": 14,
   "id": "stopped-storm",
   "metadata": {},
   "outputs": [
    {
     "data": {
      "text/plain": [
       "headlines    0\n",
       "text         0\n",
       "Text         0\n",
       "Summary      0\n",
       "dtype: int64"
      ]
     },
     "execution_count": 14,
     "metadata": {},
     "output_type": "execute_result"
    }
   ],
   "source": [
    "data.isnull().sum()"
   ]
  },
  {
   "cell_type": "code",
   "execution_count": 15,
   "id": "jewish-particle",
   "metadata": {},
   "outputs": [
    {
     "name": "stdout",
     "output_type": "stream",
     "text": [
      "전체 샘플수 : 98360\n"
     ]
    }
   ],
   "source": [
    "data.dropna(axis=0, inplace=True)\n",
    "print('전체 샘플수 :',(len(data)))#데이터 전처리 함수"
   ]
  },
  {
   "cell_type": "markdown",
   "id": "civil-scoop",
   "metadata": {},
   "source": [
    "- 불용어, 정규화 처리 후 분포 확인\n",
    "- 데이터의 길이를 정하는 단계"
   ]
  },
  {
   "cell_type": "code",
   "execution_count": 16,
   "id": "discrete-sheffield",
   "metadata": {},
   "outputs": [
    {
     "name": "stdout",
     "output_type": "stream",
     "text": [
      "텍스트의 최소 길이 : 1\n",
      "텍스트의 최대 길이 : 91\n",
      "텍스트의 평균 길이 : 58.23813542090281\n",
      "헤드라인의 최소 길이 : 1\n",
      "헤드라인의 최대 길이 : 18\n",
      "헤드라인의 평균 길이 : 9.553660024400163\n"
     ]
    },
    {
     "data": {
      "image/png": "[encoded data removed]",
      "text/plain": [
       "<Figure size 432x288 with 2 Axes>"
      ]
     },
     "metadata": {
      "needs_background": "light"
     },
     "output_type": "display_data"
    },
    {
     "data": {
      "image/png": "[encoded data removed]",
      "text/plain": [
       "<Figure size 432x288 with 1 Axes>"
      ]
     },
     "metadata": {
      "needs_background": "light"
     },
     "output_type": "display_data"
    },
    {
     "data": {
      "image/png": "[encoded data removed]",
      "text/plain": [
       "<Figure size 432x288 with 1 Axes>"
      ]
     },
     "metadata": {
      "needs_background": "light"
     },
     "output_type": "display_data"
    }
   ],
   "source": [
    "import matplotlib.pyplot as plt\n",
    "\n",
    "text_len = [len(s.split()) for s in data['text']]\n",
    "headline_len = [len(s.split()) for s in data['headlines']]\n",
    "\n",
    "print('텍스트의 최소 길이 : {}'.format(np.min(text_len)))\n",
    "print('텍스트의 최대 길이 : {}'.format(np.max(text_len)))\n",
    "print('텍스트의 평균 길이 : {}'.format(np.mean(text_len)))\n",
    "print('헤드라인의 최소 길이 : {}'.format(np.min(headline_len)))\n",
    "print('헤드라인의 최대 길이 : {}'.format(np.max(headline_len)))\n",
    "print('헤드라인의 평균 길이 : {}'.format(np.mean(headline_len)))\n",
    "\n",
    "plt.subplot(1, 2, 1)\n",
    "plt.boxplot(text_len)\n",
    "plt.title('text')\n",
    "plt.subplot(1, 2, 2)\n",
    "plt.boxplot(headline_len)\n",
    "plt.title('headlines')\n",
    "plt.tight_layout()\n",
    "plt.show()\n",
    "\n",
    "plt.title('text')\n",
    "plt.hist(text_len, bins = 40)\n",
    "plt.xlabel('length of samples')\n",
    "plt.ylabel('number of samples')\n",
    "plt.show()\n",
    "\n",
    "plt.title('headlines')\n",
    "plt.hist(headline_len, bins = 40)\n",
    "plt.xlabel('length of samples')\n",
    "plt.ylabel('number of samples')\n",
    "plt.show()"
   ]
  },
  {
   "cell_type": "markdown",
   "id": "weighted-tobago",
   "metadata": {},
   "source": [
    "- text의 경우 50-60 사이의 데이터가 많다. : 65 이하로 자른다. \n",
    "- headlines은 14로 잘라주도록 한다. "
   ]
  },
  {
   "cell_type": "code",
   "execution_count": 17,
   "id": "applied-geneva",
   "metadata": {},
   "outputs": [],
   "source": [
    "text_max_len = 60\n",
    "headline_max_len = 12"
   ]
  },
  {
   "cell_type": "markdown",
   "id": "broke-establishment",
   "metadata": {},
   "source": [
    "- max_len이 합리적인지 확인하기"
   ]
  },
  {
   "cell_type": "code",
   "execution_count": 18,
   "id": "complete-johnson",
   "metadata": {},
   "outputs": [],
   "source": [
    "def below_threshold_len(max_len, nested_list):\n",
    "    cnt = 0\n",
    "    for s in nested_list:\n",
    "        if(len(s.split()) <= max_len):\n",
    "            cnt = cnt+1\n",
    "    print('전체 샘플 중 길이가 %s 이하인 샘플의 비율: %s'%(max_len, (cnt/len(nested_list))))"
   ]
  },
  {
   "cell_type": "code",
   "execution_count": 19,
   "id": "rocky-lemon",
   "metadata": {},
   "outputs": [
    {
     "name": "stdout",
     "output_type": "stream",
     "text": [
      "전체 샘플 중 길이가 60 이하인 샘플의 비율: 0.997448149654331\n",
      "전체 샘플 중 길이가 12 이하인 샘플의 비율: 0.9768198454656364\n"
     ]
    }
   ],
   "source": [
    "below_threshold_len(text_max_len, data['text'])\n",
    "below_threshold_len(headline_max_len, data['headlines'])"
   ]
  },
  {
   "cell_type": "markdown",
   "id": "particular-decline",
   "metadata": {},
   "source": [
    "- text에서는 0.03%, headlines에서는 2.4%정도의 데이터를 버리게 됩니다.\n",
    "- "
   ]
  },
  {
   "cell_type": "code",
   "execution_count": 20,
   "id": "responsible-episode",
   "metadata": {},
   "outputs": [
    {
     "name": "stdout",
     "output_type": "stream",
     "text": [
      "전체 샘플 수: 95838\n"
     ]
    }
   ],
   "source": [
    "data = data[data['text'].apply(lambda x: len(x.split()) <= text_max_len)]\n",
    "data = data[data['headlines'].apply(lambda x: len(x.split()) <= headline_max_len)]\n",
    "print('전체 샘플 수:', len(data))"
   ]
  },
  {
   "cell_type": "markdown",
   "id": "regional-puzzle",
   "metadata": {},
   "source": [
    "- 디코더에서 문장의 시작과 끝을 알 수 있도록 각 문장에 **시작토큰, 종료토큰**을 추가합니다."
   ]
  },
  {
   "cell_type": "code",
   "execution_count": 21,
   "id": "enhanced-indiana",
   "metadata": {},
   "outputs": [
    {
     "data": {
      "text/html": [
       "<div>\n",
       "<style scoped>\n",
       "    .dataframe tbody tr th:only-of-type {\n",
       "        vertical-align: middle;\n",
       "    }\n",
       "\n",
       "    .dataframe tbody tr th {\n",
       "        vertical-align: top;\n",
       "    }\n",
       "\n",
       "    .dataframe thead th {\n",
       "        text-align: right;\n",
       "    }\n",
       "</style>\n",
       "<table border=\"1\" class=\"dataframe\">\n",
       "  <thead>\n",
       "    <tr style=\"text-align: right;\">\n",
       "      <th></th>\n",
       "      <th>headlines</th>\n",
       "      <th>text</th>\n",
       "      <th>Text</th>\n",
       "      <th>Summary</th>\n",
       "      <th>decoder_input</th>\n",
       "      <th>decoder_target</th>\n",
       "    </tr>\n",
       "  </thead>\n",
       "  <tbody>\n",
       "    <tr>\n",
       "      <th>1</th>\n",
       "      <td>Delhi techie wins free food from Swiggy for on...</td>\n",
       "      <td>Kunal Shah's credit card bill payment platform...</td>\n",
       "      <td>kunal shah credit card bill payment platform c...</td>\n",
       "      <td>delhi techie wins free food from swiggy for on...</td>\n",
       "      <td>sostoken Delhi techie wins free food from Swig...</td>\n",
       "      <td>Delhi techie wins free food from Swiggy for on...</td>\n",
       "    </tr>\n",
       "    <tr>\n",
       "      <th>2</th>\n",
       "      <td>New Zealand end Rohit Sharma-led India's 12-ma...</td>\n",
       "      <td>New Zealand defeated India by 8 wickets in the...</td>\n",
       "      <td>new zealand defeated india wickets fourth odi ...</td>\n",
       "      <td>new zealand end rohit sharma led india match w...</td>\n",
       "      <td>sostoken New Zealand end Rohit Sharma-led Indi...</td>\n",
       "      <td>New Zealand end Rohit Sharma-led India's 12-ma...</td>\n",
       "    </tr>\n",
       "    <tr>\n",
       "      <th>3</th>\n",
       "      <td>Aegon life iTerm insurance plan helps customer...</td>\n",
       "      <td>With Aegon Life iTerm Insurance plan, customer...</td>\n",
       "      <td>aegon life iterm insurance plan customers enjo...</td>\n",
       "      <td>aegon life iterm insurance plan helps customer...</td>\n",
       "      <td>sostoken Aegon life iTerm insurance plan helps...</td>\n",
       "      <td>Aegon life iTerm insurance plan helps customer...</td>\n",
       "    </tr>\n",
       "    <tr>\n",
       "      <th>5</th>\n",
       "      <td>Rahat Fateh Ali Khan denies getting notice for...</td>\n",
       "      <td>Pakistani singer Rahat Fateh Ali Khan has deni...</td>\n",
       "      <td>pakistani singer rahat fateh ali khan denied r...</td>\n",
       "      <td>rahat fateh ali khan denies getting notice for...</td>\n",
       "      <td>sostoken Rahat Fateh Ali Khan denies getting n...</td>\n",
       "      <td>Rahat Fateh Ali Khan denies getting notice for...</td>\n",
       "    </tr>\n",
       "    <tr>\n",
       "      <th>7</th>\n",
       "      <td>Govt directs Alok Verma to join work 1 day bef...</td>\n",
       "      <td>Weeks after ex-CBI Director Alok Verma told th...</td>\n",
       "      <td>weeks ex cbi director alok verma told departme...</td>\n",
       "      <td>govt directs alok verma to join work day befor...</td>\n",
       "      <td>sostoken Govt directs Alok Verma to join work ...</td>\n",
       "      <td>Govt directs Alok Verma to join work 1 day bef...</td>\n",
       "    </tr>\n",
       "  </tbody>\n",
       "</table>\n",
       "</div>"
      ],
      "text/plain": [
       "                                           headlines  \\\n",
       "1  Delhi techie wins free food from Swiggy for on...   \n",
       "2  New Zealand end Rohit Sharma-led India's 12-ma...   \n",
       "3  Aegon life iTerm insurance plan helps customer...   \n",
       "5  Rahat Fateh Ali Khan denies getting notice for...   \n",
       "7  Govt directs Alok Verma to join work 1 day bef...   \n",
       "\n",
       "                                                text  \\\n",
       "1  Kunal Shah's credit card bill payment platform...   \n",
       "2  New Zealand defeated India by 8 wickets in the...   \n",
       "3  With Aegon Life iTerm Insurance plan, customer...   \n",
       "5  Pakistani singer Rahat Fateh Ali Khan has deni...   \n",
       "7  Weeks after ex-CBI Director Alok Verma told th...   \n",
       "\n",
       "                                                Text  \\\n",
       "1  kunal shah credit card bill payment platform c...   \n",
       "2  new zealand defeated india wickets fourth odi ...   \n",
       "3  aegon life iterm insurance plan customers enjo...   \n",
       "5  pakistani singer rahat fateh ali khan denied r...   \n",
       "7  weeks ex cbi director alok verma told departme...   \n",
       "\n",
       "                                             Summary  \\\n",
       "1  delhi techie wins free food from swiggy for on...   \n",
       "2  new zealand end rohit sharma led india match w...   \n",
       "3  aegon life iterm insurance plan helps customer...   \n",
       "5  rahat fateh ali khan denies getting notice for...   \n",
       "7  govt directs alok verma to join work day befor...   \n",
       "\n",
       "                                       decoder_input  \\\n",
       "1  sostoken Delhi techie wins free food from Swig...   \n",
       "2  sostoken New Zealand end Rohit Sharma-led Indi...   \n",
       "3  sostoken Aegon life iTerm insurance plan helps...   \n",
       "5  sostoken Rahat Fateh Ali Khan denies getting n...   \n",
       "7  sostoken Govt directs Alok Verma to join work ...   \n",
       "\n",
       "                                      decoder_target  \n",
       "1  Delhi techie wins free food from Swiggy for on...  \n",
       "2  New Zealand end Rohit Sharma-led India's 12-ma...  \n",
       "3  Aegon life iTerm insurance plan helps customer...  \n",
       "5  Rahat Fateh Ali Khan denies getting notice for...  \n",
       "7  Govt directs Alok Verma to join work 1 day bef...  "
      ]
     },
     "execution_count": 21,
     "metadata": {},
     "output_type": "execute_result"
    }
   ],
   "source": [
    "data['decoder_input']=data['headlines'].apply(lambda x:'sostoken '+x)\n",
    "data['decoder_target']=data['headlines'].apply(lambda x:x+' eostoken')\n",
    "data.head()"
   ]
  },
  {
   "cell_type": "markdown",
   "id": "specialized-supplement",
   "metadata": {},
   "source": [
    "- 인코더의 입력 : data\\['text'\\]\n",
    "- 디코더의 입력 : data\\['decoder_input'\\]\n",
    "- 디코더의 레이블 : data\\['decoder_target'\\]   \n",
    "\n",
    "\n",
    "- 모두 numpy타입으로 저장한다. "
   ]
  },
  {
   "cell_type": "code",
   "execution_count": 22,
   "id": "indonesian-watson",
   "metadata": {},
   "outputs": [],
   "source": [
    "encoder_input = np.array(data['text'])\n",
    "decoder_input = np.array(data['decoder_input'])\n",
    "decoder_target = np.array(data['decoder_target'])"
   ]
  },
  {
   "cell_type": "markdown",
   "id": "married-detroit",
   "metadata": {},
   "source": [
    "- 데이터의 순서를 섞어줍니다.\n",
    "- 정수 시퀀스 이용"
   ]
  },
  {
   "cell_type": "code",
   "execution_count": 23,
   "id": "soviet-devon",
   "metadata": {},
   "outputs": [
    {
     "name": "stdout",
     "output_type": "stream",
     "text": [
      "[92791 46382 78951 ... 12188  8292 21252]\n"
     ]
    }
   ],
   "source": [
    "indices = np.arange(encoder_input.shape[0])\n",
    "np.random.shuffle(indices)\n",
    "print(indices)"
   ]
  },
  {
   "cell_type": "code",
   "execution_count": 24,
   "id": "balanced-investment",
   "metadata": {},
   "outputs": [],
   "source": [
    "encoder_input = encoder_input[indices]\n",
    "decoder_input = decoder_input[indices]\n",
    "decoder_target = decoder_target[indices]"
   ]
  },
  {
   "cell_type": "markdown",
   "id": "random-tobacco",
   "metadata": {},
   "source": [
    "### [코드이해] np.random.shuffle \n",
    "- shuffle parameter 조건 : **xndarray or MutableSequence**\n",
    "- indices가 배열의 크기보다 작을 경우엔? : index외의 데이터는 삭제된다. \n",
    "- indices가 배열의 크기보다 큰 경우엔? : 에러 발생 "
   ]
  },
  {
   "cell_type": "code",
   "execution_count": 143,
   "id": "premier-horse",
   "metadata": {},
   "outputs": [
    {
     "name": "stdout",
     "output_type": "stream",
     "text": [
      "[0 1 2]\n"
     ]
    }
   ],
   "source": [
    "indices = np.arange(3)\n",
    "np.random.shuffle(indices)\n",
    "print(indices)"
   ]
  },
  {
   "cell_type": "code",
   "execution_count": 144,
   "id": "blond-breath",
   "metadata": {},
   "outputs": [],
   "source": [
    "abc = [10, 20, 30, 40, 50]\n",
    "abc = np.array(abc)"
   ]
  },
  {
   "cell_type": "code",
   "execution_count": 145,
   "id": "radical-engagement",
   "metadata": {},
   "outputs": [
    {
     "data": {
      "text/plain": [
       "array([10, 20, 30])"
      ]
     },
     "execution_count": 145,
     "metadata": {},
     "output_type": "execute_result"
    }
   ],
   "source": [
    "abc = abc[indices]\n",
    "abc"
   ]
  },
  {
   "cell_type": "markdown",
   "id": "excessive-sleep",
   "metadata": {},
   "source": [
    "- 전체 데이터 크기를 이용해 전체 데이터를 **훈련, 테스트**로 나눈다."
   ]
  },
  {
   "cell_type": "code",
   "execution_count": 25,
   "id": "considered-jackson",
   "metadata": {},
   "outputs": [
    {
     "name": "stdout",
     "output_type": "stream",
     "text": [
      "훈련 데이터의 개수: 95838\n",
      "훈련 레이블의 개수: 95838\n"
     ]
    }
   ],
   "source": [
    "print('훈련 데이터의 개수:', len(encoder_input))\n",
    "print('훈련 레이블의 개수:', len(decoder_input))"
   ]
  },
  {
   "cell_type": "code",
   "execution_count": 26,
   "id": "younger-fellow",
   "metadata": {},
   "outputs": [
    {
     "name": "stdout",
     "output_type": "stream",
     "text": [
      "테스트 데이터의 수 : 19167\n"
     ]
    }
   ],
   "source": [
    "n_of_val = int(len(encoder_input)*0.2)\n",
    "print('테스트 데이터의 수 :', n_of_val)"
   ]
  },
  {
   "cell_type": "markdown",
   "id": "micro-alexander",
   "metadata": {},
   "source": [
    "- n_of_val : sklearn 함수 중 train_test_split에서 사용되는 test_size와 같은 역할"
   ]
  },
  {
   "cell_type": "code",
   "execution_count": 27,
   "id": "continuous-variety",
   "metadata": {},
   "outputs": [
    {
     "name": "stdout",
     "output_type": "stream",
     "text": [
      "훈련 데이터의 개수 : 76671\n",
      "훈련 레이블의 개수 : 76671\n",
      "테스트 데이터의 개수 : 19167\n",
      "테스트 레이블의 개수 : 19167\n"
     ]
    }
   ],
   "source": [
    "encoder_input_train = encoder_input[:-n_of_val]\n",
    "decoder_input_train = decoder_input[:-n_of_val]\n",
    "decoder_target_train = decoder_target[:-n_of_val]\n",
    "\n",
    "encoder_input_test = encoder_input[-n_of_val:]\n",
    "decoder_input_test = decoder_input[-n_of_val:]\n",
    "decoder_target_test = decoder_target[-n_of_val:]\n",
    "\n",
    "print('훈련 데이터의 개수 :', len(encoder_input_train))\n",
    "print('훈련 레이블의 개수 :', len(decoder_input_train))\n",
    "print('테스트 데이터의 개수 :', len(encoder_input_test))\n",
    "print('테스트 레이블의 개수 :', len(decoder_input_test))"
   ]
  },
  {
   "cell_type": "code",
   "execution_count": 32,
   "id": "wound-opera",
   "metadata": {},
   "outputs": [],
   "source": [
    "src_tokenizer = Tokenizer()\n",
    "src_tokenizer.fit_on_texts(encoder_input_train)"
   ]
  },
  {
   "cell_type": "markdown",
   "id": "distinct-controversy",
   "metadata": {},
   "source": [
    "## 03. 정수 인코딩\n",
    "- 생성된 단어 사전 확인\n",
    "    - 각 단어별 빈도수에 따라 정수를 1부터 부여합니다. "
   ]
  },
  {
   "cell_type": "code",
   "execution_count": 33,
   "id": "voluntary-scanning",
   "metadata": {},
   "outputs": [
    {
     "data": {
      "text/plain": [
       "{'the': 1,\n",
       " 'to': 2,\n",
       " 'a': 3,\n",
       " 'in': 4,\n",
       " 'of': 5,\n",
       " 'and': 6,\n",
       " 'on': 7,\n",
       " 'has': 8,\n",
       " 'for': 9,\n",
       " 'said': 10,\n",
       " 'that': 11,\n",
       " 'was': 12,\n",
       " 'is': 13,\n",
       " 'he': 14,\n",
       " 'by': 15,\n",
       " 'with': 16,\n",
       " 'his': 17,\n",
       " 'from': 18,\n",
       " 'after': 19,\n",
       " 'as': 20,\n",
       " 'it': 21,\n",
       " 'at': 22,\n",
       " 'will': 23,\n",
       " 'an': 24,\n",
       " 'be': 25,\n",
       " 'have': 26,\n",
       " 'had': 27,\n",
       " 'who': 28,\n",
       " 'which': 29,\n",
       " 'been': 30,\n",
       " 'year': 31,\n",
       " 'added': 32,\n",
       " 'her': 33,\n",
       " 'were': 34,\n",
       " 'over': 35,\n",
       " 'its': 36,\n",
       " 'this': 37,\n",
       " 'not': 38,\n",
       " 'india': 39,\n",
       " 'also': 40,\n",
       " 'us': 41,\n",
       " 'are': 42,\n",
       " 'she': 43,\n",
       " 'their': 44,\n",
       " 'i': 45,\n",
       " 'while': 46,\n",
       " 'against': 47,\n",
       " 'first': 48,\n",
       " 'police': 49,\n",
       " 'about': 50,\n",
       " 'government': 51,\n",
       " 'people': 52,\n",
       " 'indian': 53,\n",
       " 'two': 54,\n",
       " 'old': 55,\n",
       " 'they': 56,\n",
       " 'crore': 57,\n",
       " 'minister': 58,\n",
       " 'president': 59,\n",
       " 'film': 60,\n",
       " 'him': 61,\n",
       " 'one': 62,\n",
       " 'further': 63,\n",
       " 'during': 64,\n",
       " '000': 65,\n",
       " 'up': 66,\n",
       " 'court': 67,\n",
       " 'when': 68,\n",
       " 'reportedly': 69,\n",
       " 'all': 70,\n",
       " 'state': 71,\n",
       " 'new': 72,\n",
       " 'years': 73,\n",
       " 'out': 74,\n",
       " 'being': 75,\n",
       " 'former': 76,\n",
       " 'would': 77,\n",
       " 'time': 78,\n",
       " 'but': 79,\n",
       " 'last': 80,\n",
       " '1': 81,\n",
       " 'reports': 82,\n",
       " 'can': 83,\n",
       " 'we': 84,\n",
       " 'three': 85,\n",
       " 'delhi': 86,\n",
       " 'world': 87,\n",
       " 'or': 88,\n",
       " 'based': 89,\n",
       " 'earlier': 90,\n",
       " 'if': 91,\n",
       " 'like': 92,\n",
       " 'into': 93,\n",
       " 'congress': 94,\n",
       " 'them': 95,\n",
       " 'you': 96,\n",
       " 'bjp': 97,\n",
       " 'claimed': 98,\n",
       " 'man': 99,\n",
       " 'no': 100,\n",
       " 'accused': 101,\n",
       " 'chief': 102,\n",
       " 'day': 103,\n",
       " 'million': 104,\n",
       " 'lakh': 105,\n",
       " 'company': 106,\n",
       " '5': 107,\n",
       " 'other': 108,\n",
       " 'team': 109,\n",
       " 'pm': 110,\n",
       " 'according': 111,\n",
       " 'allegedly': 112,\n",
       " 'actor': 113,\n",
       " 'singh': 114,\n",
       " 'only': 115,\n",
       " 'more': 116,\n",
       " 'made': 117,\n",
       " 'tuesday': 118,\n",
       " 'wednesday': 119,\n",
       " 'my': 120,\n",
       " 'comes': 121,\n",
       " 'friday': 122,\n",
       " 'monday': 123,\n",
       " 'called': 124,\n",
       " 'than': 125,\n",
       " 'modi': 126,\n",
       " '2': 127,\n",
       " 'around': 128,\n",
       " 'video': 129,\n",
       " 'there': 130,\n",
       " 'pakistan': 131,\n",
       " 'billion': 132,\n",
       " 'trump': 133,\n",
       " '10': 134,\n",
       " 'party': 135,\n",
       " 'before': 136,\n",
       " 'thursday': 137,\n",
       " 'country': 138,\n",
       " 'asked': 139,\n",
       " 'tweeted': 140,\n",
       " 'between': 141,\n",
       " 'under': 142,\n",
       " 'including': 143,\n",
       " 'woman': 144,\n",
       " 'took': 145,\n",
       " 'case': 146,\n",
       " 'national': 147,\n",
       " 'actress': 148,\n",
       " 'cm': 149,\n",
       " 'found': 150,\n",
       " 'revealed': 151,\n",
       " 'officials': 152,\n",
       " 'four': 153,\n",
       " 'test': 154,\n",
       " 'saturday': 155,\n",
       " 'leader': 156,\n",
       " 'sunday': 157,\n",
       " 'arrested': 158,\n",
       " '3': 159,\n",
       " 'five': 160,\n",
       " 'mumbai': 161,\n",
       " 'women': 162,\n",
       " 'should': 163,\n",
       " 'wrote': 164,\n",
       " 'following': 165,\n",
       " 'announced': 166,\n",
       " \"india's\": 167,\n",
       " 'high': 168,\n",
       " 'any': 169,\n",
       " 'second': 170,\n",
       " 'off': 171,\n",
       " 'however': 172,\n",
       " 'match': 173,\n",
       " 'used': 174,\n",
       " 'khan': 175,\n",
       " 'pradesh': 176,\n",
       " 'captain': 177,\n",
       " 'could': 178,\n",
       " 'notably': 179,\n",
       " 'since': 180,\n",
       " 'alleged': 181,\n",
       " 'group': 182,\n",
       " 'take': 183,\n",
       " 'now': 184,\n",
       " 'startup': 185,\n",
       " 'media': 186,\n",
       " 'so': 187,\n",
       " 'part': 188,\n",
       " 'due': 189,\n",
       " 'narendra': 190,\n",
       " 'most': 191,\n",
       " 'killed': 192,\n",
       " 'me': 193,\n",
       " 'may': 194,\n",
       " 'led': 195,\n",
       " 'international': 196,\n",
       " 'cricket': 197,\n",
       " 'family': 198,\n",
       " 'where': 199,\n",
       " 'ceo': 200,\n",
       " 'donald': 201,\n",
       " 'get': 202,\n",
       " 'make': 203,\n",
       " 'users': 204,\n",
       " 'do': 205,\n",
       " 'per': 206,\n",
       " 'security': 207,\n",
       " '2018': 208,\n",
       " 'adding': 209,\n",
       " 'days': 210,\n",
       " 'set': 211,\n",
       " 'air': 212,\n",
       " 'bank': 213,\n",
       " '2017': 214,\n",
       " '4': 215,\n",
       " 'through': 216,\n",
       " 'twitter': 217,\n",
       " 'six': 218,\n",
       " \"it's\": 219,\n",
       " 'some': 220,\n",
       " 'month': 221,\n",
       " 'china': 222,\n",
       " 'such': 223,\n",
       " 'down': 224,\n",
       " 'our': 225,\n",
       " 'home': 226,\n",
       " 'south': 227,\n",
       " 'facebook': 228,\n",
       " 'just': 229,\n",
       " '2016': 230,\n",
       " 'house': 231,\n",
       " '20': 232,\n",
       " '6': 233,\n",
       " 'data': 234,\n",
       " '15': 235,\n",
       " 'incident': 236,\n",
       " 'saying': 237,\n",
       " 'help': 238,\n",
       " 'life': 239,\n",
       " 'number': 240,\n",
       " 'report': 241,\n",
       " 'using': 242,\n",
       " 'work': 243,\n",
       " 'official': 244,\n",
       " 'another': 245,\n",
       " 'picture': 246,\n",
       " 'gandhi': 247,\n",
       " '12': 248,\n",
       " 'prime': 249,\n",
       " 'north': 250,\n",
       " 'several': 251,\n",
       " 'nearly': 252,\n",
       " 'series': 253,\n",
       " 'what': 254,\n",
       " 'later': 255,\n",
       " 'released': 256,\n",
       " 'won': 257,\n",
       " 'supreme': 258,\n",
       " 'social': 259,\n",
       " 'seen': 260,\n",
       " 'then': 261,\n",
       " 'because': 262,\n",
       " 'kapoor': 263,\n",
       " 'public': 264,\n",
       " 'uttar': 265,\n",
       " 'least': 266,\n",
       " 'post': 267,\n",
       " 'back': 268,\n",
       " 'wife': 269,\n",
       " 'union': 270,\n",
       " 'upcoming': 271,\n",
       " 'car': 272,\n",
       " 'week': 273,\n",
       " 'next': 274,\n",
       " 'death': 275,\n",
       " 'money': 276,\n",
       " 'among': 277,\n",
       " 'taken': 278,\n",
       " 'launched': 279,\n",
       " 'recently': 280,\n",
       " 'board': 281,\n",
       " '7': 282,\n",
       " 'filed': 283,\n",
       " '100': 284,\n",
       " 'without': 285,\n",
       " 'elections': 286,\n",
       " 'rahul': 287,\n",
       " 'become': 288,\n",
       " '30': 289,\n",
       " 'hospital': 290,\n",
       " 'technology': 291,\n",
       " 'students': 292,\n",
       " 'talking': 293,\n",
       " 'third': 294,\n",
       " \"don't\": 295,\n",
       " 'director': 296,\n",
       " 'record': 297,\n",
       " 'months': 298,\n",
       " 'times': 299,\n",
       " 'shared': 300,\n",
       " 'kumar': 301,\n",
       " 'city': 302,\n",
       " 'show': 303,\n",
       " 'same': 304,\n",
       " 'even': 305,\n",
       " '8': 306,\n",
       " 'very': 307,\n",
       " 'girl': 308,\n",
       " 'named': 309,\n",
       " 'release': 310,\n",
       " 'many': 311,\n",
       " 'how': 312,\n",
       " 'cup': 313,\n",
       " 'school': 314,\n",
       " 'got': 315,\n",
       " 'user': 316,\n",
       " 'online': 317,\n",
       " 'worth': 318,\n",
       " 'others': 319,\n",
       " 'co': 320,\n",
       " 'attack': 321,\n",
       " 'researchers': 322,\n",
       " 'son': 323,\n",
       " 'away': 324,\n",
       " 'ever': 325,\n",
       " '11': 326,\n",
       " 'held': 327,\n",
       " 'ã¢â\\x82â¹1': 328,\n",
       " 'use': 329,\n",
       " 'run': 330,\n",
       " 'children': 331,\n",
       " 'district': 332,\n",
       " 'kohli': 333,\n",
       " 'law': 334,\n",
       " 'win': 335,\n",
       " 'reported': 336,\n",
       " 'came': 337,\n",
       " '50': 338,\n",
       " 'place': 339,\n",
       " 'making': 340,\n",
       " 'long': 341,\n",
       " 'hit': 342,\n",
       " 'google': 343,\n",
       " 'ministry': 344,\n",
       " 'did': 345,\n",
       " 'across': 346,\n",
       " 'deal': 347,\n",
       " 'order': 348,\n",
       " 'directed': 349,\n",
       " 'centre': 350,\n",
       " 'founder': 351,\n",
       " 'final': 352,\n",
       " '18': 353,\n",
       " 'given': 354,\n",
       " \"world's\": 355,\n",
       " 'each': 356,\n",
       " 'water': 357,\n",
       " 'system': 358,\n",
       " 'capital': 359,\n",
       " 'body': 360,\n",
       " 'died': 361,\n",
       " 'open': 362,\n",
       " 'general': 363,\n",
       " 'received': 364,\n",
       " 'members': 365,\n",
       " 'both': 366,\n",
       " 'australia': 367,\n",
       " 'told': 368,\n",
       " 'every': 369,\n",
       " '25': 370,\n",
       " 'shah': 371,\n",
       " 'working': 372,\n",
       " 'hours': 373,\n",
       " 'along': 374,\n",
       " 'started': 375,\n",
       " 'come': 376,\n",
       " 'pay': 377,\n",
       " 'chinese': 378,\n",
       " 'tax': 379,\n",
       " 'father': 380,\n",
       " '2015': 381,\n",
       " 'taking': 382,\n",
       " 'event': 383,\n",
       " 'flight': 384,\n",
       " 'those': 385,\n",
       " 'app': 386,\n",
       " 'american': 387,\n",
       " 'sharma': 388,\n",
       " 'uk': 389,\n",
       " 'way': 390,\n",
       " 'decision': 391,\n",
       " 'play': 392,\n",
       " '17': 393,\n",
       " 'top': 394,\n",
       " 'best': 395,\n",
       " 'raised': 396,\n",
       " 'army': 397,\n",
       " 'assembly': 398,\n",
       " 'space': 399,\n",
       " '16': 400,\n",
       " 'want': 401,\n",
       " 'your': 402,\n",
       " 'left': 403,\n",
       " 'men': 404,\n",
       " 'lost': 405,\n",
       " 'never': 406,\n",
       " '9': 407,\n",
       " 'human': 408,\n",
       " 'largest': 409,\n",
       " 'these': 410,\n",
       " 'daughter': 411,\n",
       " 'services': 412,\n",
       " 'firm': 413,\n",
       " 'name': 414,\n",
       " 'department': 415,\n",
       " 'within': 416,\n",
       " 'united': 417,\n",
       " 'person': 418,\n",
       " 'went': 419,\n",
       " 'highest': 420,\n",
       " 'e': 421,\n",
       " 'go': 422,\n",
       " 'australian': 423,\n",
       " 'authorities': 424,\n",
       " 'power': 425,\n",
       " 'fire': 426,\n",
       " 'injured': 427,\n",
       " 'end': 428,\n",
       " 'became': 429,\n",
       " 'airport': 430,\n",
       " 'right': 431,\n",
       " 'seven': 432,\n",
       " 'own': 433,\n",
       " 'officer': 434,\n",
       " 'well': 435,\n",
       " 'countries': 436,\n",
       " 'university': 437,\n",
       " 'employees': 438,\n",
       " 'am': 439,\n",
       " 'service': 440,\n",
       " 'karnataka': 441,\n",
       " 'information': 442,\n",
       " 'cricketer': 443,\n",
       " 'chairman': 444,\n",
       " 'issued': 445,\n",
       " 'today': 446,\n",
       " 'good': 447,\n",
       " 'read': 448,\n",
       " 'food': 449,\n",
       " 'odi': 450,\n",
       " 'known': 451,\n",
       " 'runs': 452,\n",
       " 'star': 453,\n",
       " 'england': 454,\n",
       " 'speaking': 455,\n",
       " 'action': 456,\n",
       " 'mother': 457,\n",
       " 'russian': 458,\n",
       " 'playing': 459,\n",
       " 'sexual': 460,\n",
       " 'total': 461,\n",
       " 'business': 462,\n",
       " 'korea': 463,\n",
       " 'player': 464,\n",
       " 'currently': 465,\n",
       " 'december': 466,\n",
       " 'gold': 467,\n",
       " 'meanwhile': 468,\n",
       " 'companies': 469,\n",
       " 'support': 470,\n",
       " 'central': 471,\n",
       " 'sent': 472,\n",
       " '14': 473,\n",
       " 'meeting': 474,\n",
       " 'apple': 475,\n",
       " 'round': 476,\n",
       " 'move': 477,\n",
       " 'films': 478,\n",
       " 'office': 479,\n",
       " 'states': 480,\n",
       " 'foreign': 481,\n",
       " 'posted': 482,\n",
       " '19': 483,\n",
       " '500': 484,\n",
       " 'ram': 485,\n",
       " '2014': 486,\n",
       " \"country's\": 487,\n",
       " 'role': 488,\n",
       " 'near': 489,\n",
       " 'cases': 490,\n",
       " 'eight': 491,\n",
       " 'special': 492,\n",
       " 'tweet': 493,\n",
       " 'private': 494,\n",
       " 'give': 495,\n",
       " \"didn't\": 496,\n",
       " 'share': 497,\n",
       " 'head': 498,\n",
       " 'visit': 499,\n",
       " 'amid': 500,\n",
       " 'june': 501,\n",
       " 'march': 502,\n",
       " 'virat': 503,\n",
       " 'free': 504,\n",
       " 'league': 505,\n",
       " 'slammed': 506,\n",
       " 'bengaluru': 507,\n",
       " 'face': 508,\n",
       " \"i'm\": 509,\n",
       " 'issue': 510,\n",
       " 'election': 511,\n",
       " 'april': 512,\n",
       " 'statement': 513,\n",
       " 'instagram': 514,\n",
       " 'scheduled': 515,\n",
       " 'investigation': 516,\n",
       " 'tamil': 517,\n",
       " 'claiming': 518,\n",
       " 'ahead': 519,\n",
       " 'market': 520,\n",
       " 'ball': 521,\n",
       " 'going': 522,\n",
       " 'n': 523,\n",
       " 'non': 524,\n",
       " '13': 525,\n",
       " 'kashmir': 526,\n",
       " 'list': 527,\n",
       " 'sabha': 528,\n",
       " 'war': 529,\n",
       " 'need': 530,\n",
       " 'ban': 531,\n",
       " 'january': 532,\n",
       " '40': 533,\n",
       " 'child': 534,\n",
       " 'military': 535,\n",
       " 'nuclear': 536,\n",
       " 'think': 537,\n",
       " 'registered': 538,\n",
       " 'kerala': 539,\n",
       " 'august': 540,\n",
       " 'class': 541,\n",
       " 'west': 542,\n",
       " 'ex': 543,\n",
       " 'september': 544,\n",
       " 'much': 545,\n",
       " 'health': 546,\n",
       " 'secretary': 547,\n",
       " 'ago': 548,\n",
       " 'russia': 549,\n",
       " 'un': 550,\n",
       " 'commission': 551,\n",
       " 'shows': 552,\n",
       " 'anti': 553,\n",
       " 'song': 554,\n",
       " 'played': 555,\n",
       " 'passengers': 556,\n",
       " 'know': 557,\n",
       " 'passed': 558,\n",
       " 'senior': 559,\n",
       " '21': 560,\n",
       " 'scored': 561,\n",
       " 'real': 562,\n",
       " 'development': 563,\n",
       " 'himself': 564,\n",
       " 'sri': 565,\n",
       " 'global': 566,\n",
       " 'inside': 567,\n",
       " 'funding': 568,\n",
       " 'finance': 569,\n",
       " 'shot': 570,\n",
       " 'leaders': 571,\n",
       " 'ordered': 572,\n",
       " 'member': 573,\n",
       " 'launch': 574,\n",
       " 'political': 575,\n",
       " 'platform': 576,\n",
       " 'husband': 577,\n",
       " 'defence': 578,\n",
       " 'feature': 579,\n",
       " 'ipl': 580,\n",
       " 'pakistani': 581,\n",
       " 'salman': 582,\n",
       " 'maharashtra': 583,\n",
       " 'rape': 584,\n",
       " 'station': 585,\n",
       " 'late': 586,\n",
       " 'singer': 587,\n",
       " 'love': 588,\n",
       " 'age': 589,\n",
       " 'cbi': 590,\n",
       " 'see': 591,\n",
       " 'major': 592,\n",
       " 'gujarat': 593,\n",
       " 'area': 594,\n",
       " 'news': 595,\n",
       " 'train': 596,\n",
       " 'having': 597,\n",
       " '2019': 598,\n",
       " 'towards': 599,\n",
       " 'recent': 600,\n",
       " 'denied': 601,\n",
       " 'female': 602,\n",
       " 'medical': 603,\n",
       " 'put': 604,\n",
       " 'financial': 605,\n",
       " 'bill': 606,\n",
       " 'bollywood': 607,\n",
       " 'dead': 608,\n",
       " 'july': 609,\n",
       " 'failed': 610,\n",
       " 'complaint': 611,\n",
       " 'trying': 612,\n",
       " 'suicide': 613,\n",
       " 'allegations': 614,\n",
       " '24': 615,\n",
       " 'different': 616,\n",
       " 'giant': 617,\n",
       " 'lead': 618,\n",
       " 'act': 619,\n",
       " 'cannot': 620,\n",
       " 'why': 621,\n",
       " 'control': 622,\n",
       " 'jail': 623,\n",
       " 'players': 624,\n",
       " 'award': 625,\n",
       " 'expected': 626,\n",
       " 'saudi': 627,\n",
       " 'wedding': 628,\n",
       " 'mp': 629,\n",
       " 'force': 630,\n",
       " 'ã¢â\\x82â¹2': 631,\n",
       " 'minutes': 632,\n",
       " 'boy': 633,\n",
       " \"doesn't\": 634,\n",
       " 'still': 635,\n",
       " 'korean': 636,\n",
       " 'stop': 637,\n",
       " 'founded': 638,\n",
       " 'claims': 639,\n",
       " 'november': 640,\n",
       " 'getting': 641,\n",
       " 'project': 642,\n",
       " 'study': 643,\n",
       " 'white': 644,\n",
       " '22': 645,\n",
       " 'account': 646,\n",
       " 'decided': 647,\n",
       " 'stated': 648,\n",
       " 'paid': 649,\n",
       " 'change': 650,\n",
       " 'student': 651,\n",
       " 'does': 652,\n",
       " 'plans': 653,\n",
       " \"women's\": 654,\n",
       " 'rights': 655,\n",
       " 'british': 656,\n",
       " 'vice': 657,\n",
       " 'scientists': 658,\n",
       " 'allowed': 659,\n",
       " 'look': 660,\n",
       " 'forces': 661,\n",
       " 'local': 662,\n",
       " 'mark': 663,\n",
       " 'road': 664,\n",
       " 'outside': 665,\n",
       " 'fake': 666,\n",
       " 'gst': 667,\n",
       " 'despite': 668,\n",
       " 'october': 669,\n",
       " 'punjab': 670,\n",
       " \"pradesh's\": 671,\n",
       " 'jammu': 672,\n",
       " 'wanted': 673,\n",
       " 'campaign': 674,\n",
       " 'together': 675,\n",
       " 'history': 676,\n",
       " 'reacting': 677,\n",
       " 'agency': 678,\n",
       " 'bihar': 679,\n",
       " 'couple': 680,\n",
       " 'past': 681,\n",
       " 'birthday': 682,\n",
       " 'building': 683,\n",
       " '0': 684,\n",
       " '200': 685,\n",
       " 'quarter': 686,\n",
       " 'railway': 687,\n",
       " 'violence': 688,\n",
       " 'seeking': 689,\n",
       " \"trump's\": 690,\n",
       " 'behind': 691,\n",
       " 'starrer': 692,\n",
       " 'workers': 693,\n",
       " 'calling': 694,\n",
       " 'married': 695,\n",
       " 'committee': 696,\n",
       " 'cost': 697,\n",
       " 'football': 698,\n",
       " 'batsman': 699,\n",
       " 'refused': 700,\n",
       " 'priyanka': 701,\n",
       " 'sharing': 702,\n",
       " 'side': 703,\n",
       " 'sachin': 704,\n",
       " 'debut': 705,\n",
       " 'till': 706,\n",
       " 'developed': 707,\n",
       " 'phone': 708,\n",
       " 'planning': 709,\n",
       " 'temple': 710,\n",
       " 'yadav': 711,\n",
       " 'coach': 712,\n",
       " 'banned': 713,\n",
       " 'winning': 714,\n",
       " 'games': 715,\n",
       " 'half': 716,\n",
       " 'uber': 717,\n",
       " 'too': 718,\n",
       " 'doing': 719,\n",
       " 'letter': 720,\n",
       " 'provide': 721,\n",
       " 'game': 722,\n",
       " 'driver': 723,\n",
       " 'great': 724,\n",
       " 'border': 725,\n",
       " 'always': 726,\n",
       " 'madhya': 727,\n",
       " 'mobile': 728,\n",
       " 'dhoni': 729,\n",
       " '23': 730,\n",
       " 'night': 731,\n",
       " 'pictures': 732,\n",
       " 'ali': 733,\n",
       " 'declared': 734,\n",
       " '26': 735,\n",
       " 'live': 736,\n",
       " 'instead': 737,\n",
       " 'once': 738,\n",
       " 'protest': 739,\n",
       " 'call': 740,\n",
       " 'murder': 741,\n",
       " 'parents': 742,\n",
       " 'gave': 743,\n",
       " 'fell': 744,\n",
       " 'leave': 745,\n",
       " 'met': 746,\n",
       " 'affairs': 747,\n",
       " 'intelligence': 748,\n",
       " 'land': 749,\n",
       " 'big': 750,\n",
       " 'amazon': 751,\n",
       " 'muslim': 752,\n",
       " 'amount': 753,\n",
       " 'french': 754,\n",
       " 'single': 755,\n",
       " 'fund': 756,\n",
       " 'nine': 757,\n",
       " 'musk': 758,\n",
       " 'start': 759,\n",
       " 'staff': 760,\n",
       " 'filmmaker': 761,\n",
       " 'personal': 762,\n",
       " 'biggest': 763,\n",
       " 'matches': 764,\n",
       " 'charges': 765,\n",
       " 'london': 766,\n",
       " 'lok': 767,\n",
       " 'better': 768,\n",
       " 'cash': 769,\n",
       " 'light': 770,\n",
       " 'fourth': 771,\n",
       " 'self': 772,\n",
       " 'justice': 773,\n",
       " 'previous': 774,\n",
       " 'offered': 775,\n",
       " 'vehicles': 776,\n",
       " 'far': 777,\n",
       " 'spokesperson': 778,\n",
       " '60': 779,\n",
       " 'parliament': 780,\n",
       " 'created': 781,\n",
       " 'few': 782,\n",
       " 'suspended': 783,\n",
       " 'matter': 784,\n",
       " 'probe': 785,\n",
       " 'harassment': 786,\n",
       " 'showed': 787,\n",
       " 'loss': 788,\n",
       " 'stating': 789,\n",
       " 'must': 790,\n",
       " 'current': 791,\n",
       " 'confirmed': 792,\n",
       " 'black': 793,\n",
       " 'nation': 794,\n",
       " 'investors': 795,\n",
       " 'tried': 796,\n",
       " 'brother': 797,\n",
       " 'yet': 798,\n",
       " 'already': 799,\n",
       " 'season': 800,\n",
       " \"company's\": 801,\n",
       " 'aircraft': 802,\n",
       " 'aadhaar': 803,\n",
       " 'education': 804,\n",
       " 'increase': 805,\n",
       " 'turned': 806,\n",
       " 'admitted': 807,\n",
       " '31': 808,\n",
       " 'written': 809,\n",
       " 'price': 810,\n",
       " 'banks': 811,\n",
       " 'rajasthan': 812,\n",
       " 'issues': 813,\n",
       " 'industry': 814,\n",
       " 'period': 815,\n",
       " 'owned': 816,\n",
       " 'caused': 817,\n",
       " 'nadu': 818,\n",
       " '28': 819,\n",
       " 'stake': 820,\n",
       " 'model': 821,\n",
       " 'accounts': 822,\n",
       " 'sale': 823,\n",
       " 'february': 824,\n",
       " 'done': 825,\n",
       " 'character': 826,\n",
       " 'say': 827,\n",
       " 'level': 828,\n",
       " 'include': 829,\n",
       " 'appointed': 830,\n",
       " 'income': 831,\n",
       " 'policy': 832,\n",
       " 'hotel': 833,\n",
       " \"pakistan's\": 834,\n",
       " 'create': 835,\n",
       " 'able': 836,\n",
       " 'return': 837,\n",
       " 'village': 838,\n",
       " 'km': 839,\n",
       " 'club': 840,\n",
       " 'iran': 841,\n",
       " 'fight': 842,\n",
       " 'innings': 843,\n",
       " 'commerce': 844,\n",
       " 'allow': 845,\n",
       " 'driving': 846,\n",
       " 'reach': 847,\n",
       " 'suggested': 848,\n",
       " 'gone': 849,\n",
       " 'shares': 850,\n",
       " 'officers': 851,\n",
       " 'form': 852,\n",
       " 'treatment': 853,\n",
       " 'earth': 854,\n",
       " 'involved': 855,\n",
       " 'wearing': 856,\n",
       " 'economic': 857,\n",
       " 'cut': 858,\n",
       " 'tv': 859,\n",
       " 'showing': 860,\n",
       " 'bachchan': 861,\n",
       " 'photo': 862,\n",
       " 'ongoing': 863,\n",
       " 'keep': 864,\n",
       " 'nations': 865,\n",
       " 'council': 866,\n",
       " '2013': 867,\n",
       " 'indians': 868,\n",
       " 'meet': 869,\n",
       " 'carrying': 870,\n",
       " 'forced': 871,\n",
       " 'proposed': 872,\n",
       " 'process': 873,\n",
       " 'victim': 874,\n",
       " 'vehicle': 875,\n",
       " 'oil': 876,\n",
       " 'demanded': 877,\n",
       " 'continue': 878,\n",
       " 'operations': 879,\n",
       " 'sought': 880,\n",
       " 'missing': 881,\n",
       " 'happy': 882,\n",
       " 'opposition': 883,\n",
       " 'investment': 884,\n",
       " 'reliance': 885,\n",
       " 'talks': 886,\n",
       " 'full': 887,\n",
       " 'trade': 888,\n",
       " 'job': 889,\n",
       " 'tournament': 890,\n",
       " 'rbi': 891,\n",
       " 'various': 892,\n",
       " 'reached': 893,\n",
       " 'champions': 894,\n",
       " 'haryana': 895,\n",
       " 'bus': 896,\n",
       " 'tesla': 897,\n",
       " 'sold': 898,\n",
       " 'warned': 899,\n",
       " 'hand': 900,\n",
       " 'passenger': 901,\n",
       " 'response': 902,\n",
       " 'plan': 903,\n",
       " 'personnel': 904,\n",
       " 'region': 905,\n",
       " 'rukh': 906,\n",
       " \"government's\": 907,\n",
       " 'term': 908,\n",
       " '300': 909,\n",
       " 'illegal': 910,\n",
       " 'sanjay': 911,\n",
       " 'features': 912,\n",
       " 'ensure': 913,\n",
       " 'marriage': 914,\n",
       " 'hyderabad': 915,\n",
       " 'score': 916,\n",
       " 'cars': 917,\n",
       " 'threatened': 918,\n",
       " 'lot': 919,\n",
       " '27': 920,\n",
       " 'compared': 921,\n",
       " 'related': 922,\n",
       " 'mla': 923,\n",
       " 'governor': 924,\n",
       " 'things': 925,\n",
       " 'community': 926,\n",
       " 'attacks': 927,\n",
       " 'girls': 928,\n",
       " 'broke': 929,\n",
       " 'travel': 930,\n",
       " 'chopra': 931,\n",
       " 'let': 932,\n",
       " 'less': 933,\n",
       " 'africa': 934,\n",
       " 'organisation': 935,\n",
       " 'born': 936,\n",
       " 'committed': 937,\n",
       " 'andhra': 938,\n",
       " 'defeated': 939,\n",
       " 'date': 940,\n",
       " 'find': 941,\n",
       " 'baby': 942,\n",
       " 'fans': 943,\n",
       " 'electric': 944,\n",
       " 'future': 945,\n",
       " 'research': 946,\n",
       " 'hearing': 947,\n",
       " 'products': 948,\n",
       " 'career': 949,\n",
       " 'protests': 950,\n",
       " 'addressing': 951,\n",
       " 'signed': 952,\n",
       " 'legal': 953,\n",
       " 'discovered': 954,\n",
       " '35': 955,\n",
       " 'access': 956,\n",
       " '70': 957,\n",
       " 'customers': 958,\n",
       " 'giving': 959,\n",
       " '400': 960,\n",
       " 'sex': 961,\n",
       " 'built': 962,\n",
       " \"'the\": 963,\n",
       " 'conducted': 964,\n",
       " 'flipkart': 965,\n",
       " \"can't\": 966,\n",
       " 'line': 967,\n",
       " 'terror': 968,\n",
       " 'bengal': 969,\n",
       " 'safety': 970,\n",
       " 'notice': 971,\n",
       " 'caught': 972,\n",
       " 'forward': 973,\n",
       " 'hindu': 974,\n",
       " 'farmers': 975,\n",
       " 'saw': 976,\n",
       " 'red': 977,\n",
       " 'title': 978,\n",
       " 'doctors': 979,\n",
       " 'revenue': 980,\n",
       " 'offer': 981,\n",
       " 'rao': 982,\n",
       " 'almost': 983,\n",
       " '2012': 984,\n",
       " 'spot': 985,\n",
       " 'feel': 986,\n",
       " '29': 987,\n",
       " 'wickets': 988,\n",
       " 'corruption': 989,\n",
       " 'schools': 990,\n",
       " 'vijay': 991,\n",
       " 'viral': 992,\n",
       " 'increased': 993,\n",
       " 'asking': 994,\n",
       " 'whose': 995,\n",
       " 'corporation': 996,\n",
       " 'ã¢â\\x82â¹5': 997,\n",
       " 'until': 998,\n",
       " 'anil': 999,\n",
       " 'internet': 1000,\n",
       " ...}"
      ]
     },
     "execution_count": 33,
     "metadata": {},
     "output_type": "execute_result"
    }
   ],
   "source": [
    "src_tokenizer.word_index"
   ]
  },
  {
   "cell_type": "code",
   "execution_count": 37,
   "id": "listed-progress",
   "metadata": {
    "scrolled": true
   },
   "outputs": [
    {
     "name": "stdout",
     "output_type": "stream",
     "text": [
      "단어 집합(voacabulary)의 크기: 90276\n",
      "등장 빈도가 6번 이하인 희귀 단어의 수: 65840\n",
      "단어 집합에서 희귀 단어를 제외시킬 경우의 단어 집합의 크기 24436\n",
      "단어 집합에서 희귀 단어의 비율: 72.93189773583234\n",
      "전체 등장 빈도에서 희귀 단어 등장 빈도 비율: 2.7811735138424893\n"
     ]
    }
   ],
   "source": [
    "threshold = 7  # 빈도의 기준\n",
    "total_cnt = len(src_tokenizer.word_index)\n",
    "rare_cnt = 0   # threshold보다 작은 빈도를 가진 단어의 개수\n",
    "total_freq = 0 # 전체 단어의 빈도수 총 합\n",
    "rare_freq = 0\n",
    "                  # (단어, 단어의 빈도수)\n",
    "for key, value in src_tokenizer.word_counts.items():\n",
    "    total_freq = total_freq + value\n",
    "    \n",
    "    if(value < threshold):\n",
    "        rare_cnt = rare_cnt + 1\n",
    "        rare_freq = rare_freq + value\n",
    "\n",
    "print('단어 집합(voacabulary)의 크기:', total_cnt)\n",
    "print('등장 빈도가 %s번 이하인 희귀 단어의 수: %s'%(threshold-1, rare_cnt))\n",
    "print('단어 집합에서 희귀 단어를 제외시킬 경우의 단어 집합의 크기 %s'%(total_cnt-rare_cnt))\n",
    "print('단어 집합에서 희귀 단어의 비율:',(rare_cnt/total_cnt)*100)\n",
    "print('전체 등장 빈도에서 희귀 단어 등장 빈도 비율:', (rare_freq/total_freq)*100)"
   ]
  },
  {
   "cell_type": "code",
   "execution_count": 43,
   "id": "geographic-vegetable",
   "metadata": {},
   "outputs": [
    {
     "data": {
      "text/plain": [
       "keras_preprocessing.text.Tokenizer"
      ]
     },
     "execution_count": 43,
     "metadata": {},
     "output_type": "execute_result"
    }
   ],
   "source": [
    "type(src_tokenizer)"
   ]
  },
  {
   "cell_type": "code",
   "execution_count": 42,
   "id": "contrary-howard",
   "metadata": {},
   "outputs": [
    {
     "data": {
      "text/plain": [
       "dict"
      ]
     },
     "execution_count": 42,
     "metadata": {},
     "output_type": "execute_result"
    }
   ],
   "source": [
    "type(src_tokenizer.word_index)"
   ]
  },
  {
   "cell_type": "code",
   "execution_count": 41,
   "id": "cutting-breeding",
   "metadata": {},
   "outputs": [
    {
     "data": {
      "text/plain": [
       "collections.OrderedDict"
      ]
     },
     "execution_count": 41,
     "metadata": {},
     "output_type": "execute_result"
    }
   ],
   "source": [
    "type(src_tokenizer.word_counts)"
   ]
  },
  {
   "cell_type": "markdown",
   "id": "threaded-mining",
   "metadata": {},
   "source": [
    "**전체 등장 빈도에서 희귀 단어가 등장하는 빈도가 2.78% 정도이기 때문에, 빈도가 6회 이하인 단어를 제거합니다.**"
   ]
  },
  {
   "cell_type": "code",
   "execution_count": 39,
   "id": "advisory-server",
   "metadata": {},
   "outputs": [],
   "source": [
    "src_vocab = 20000\n",
    "src_tokenizer = Tokenizer(num_words = src_vocab) # 단어 집합 크기에 제한을 둔다.\n",
    "src_tokenizer.fit_on_texts(encoder_input_train)"
   ]
  },
  {
   "cell_type": "code",
   "execution_count": 40,
   "id": "annoying-chassis",
   "metadata": {},
   "outputs": [
    {
     "name": "stdout",
     "output_type": "stream",
     "text": [
      "훈련 데이터의 개수 : 76671\n",
      "훈련 레이블의 개수 : 76671\n",
      "[[135, 693, 5, 8769, 974, 5482, 7677, 506, 1, 60, 1697, 14333, 4973, 46, 789, 111, 2, 225, 974, 8367, 3, 2569, 620, 202, 695, 68, 43, 13, 2226, 56, 3587, 665, 1188, 479, 4, 161, 5932, 10, 56, 77, 310, 1, 60, 7, 512, 282, 20, 1, 2687, 281, 558, 21, 285, 169, 3374], [455, 22, 3, 1222, 4, 3357, 94, 59, 287, 247, 2811, 2, 110, 190, 126, 6, 139, 61, 2, 759, 372, 262, 14, 345, 38, 26, 545, 78, 247, 32, 130, 42, 54, 5535, 5, 2767, 62, 11, 2465, 324, 1, 2101, 2, 1, 3053, 6, 245, 29, 2101, 2, 1, 1364, 1440], [24, 196, 67, 8, 572, 4552, 617, 6692, 11417, 2, 377, 1, 423, 51, 3311, 5, 4811, 4, 953, 3732, 19, 17336, 9555, 1, 794, 35, 36, 10920, 8770, 1663, 4, 1193, 367, 11, 5583, 790, 25, 898, 4, 7678, 16, 9708, 546, 5811, 172, 6692, 11417, 796, 2, 15384, 1, 1663, 79, 405, 1, 146, 4, 381, 523]]\n",
      "훈련 데이터의 개수 : 76671\n",
      "훈련 레이블의 개수 : 76671\n"
     ]
    }
   ],
   "source": [
    "print('훈련 데이터의 개수 :', len(encoder_input_train))\n",
    "print('훈련 레이블의 개수 :', len(decoder_input_train))\n",
    "\n",
    "# src_tokenizer 에서 생성한 정수로 변환\n",
    "encoder_input_train = src_tokenizer.texts_to_sequences(encoder_input_train)\n",
    "encoder_input_test = src_tokenizer.texts_to_sequences(encoder_input_test)\n",
    "\n",
    "# 샘플 출력\n",
    "print(encoder_input_train[:3])\n",
    "print('훈련 데이터의 개수 :', len(encoder_input_train))\n",
    "print('훈련 레이블의 개수 :', len(decoder_input_train))"
   ]
  },
  {
   "cell_type": "markdown",
   "id": "entertaining-insulation",
   "metadata": {},
   "source": [
    "- 정수 시퀀스로 변환 후, 확인 결과 문장이 줄어들지 않고 잘 변환된 것을 확인할 수 있었다.\n",
    "- headlines 데이터 정수 시퀀스로 변환하기"
   ]
  },
  {
   "cell_type": "code",
   "execution_count": 44,
   "id": "planned-research",
   "metadata": {},
   "outputs": [
    {
     "name": "stdout",
     "output_type": "stream",
     "text": [
      "훈련 데이터의 개수 : 76671\n",
      "훈련 레이블의 개수 : 76671\n",
      "테스트 데이터의 개수 : 19167\n",
      "테스트 레이블의 개수 : 19167\n"
     ]
    }
   ],
   "source": [
    "tar_tokenizer = Tokenizer()\n",
    "tar_tokenizer.fit_on_texts(decoder_input_train)\n",
    "print('훈련 데이터의 개수 :', len(encoder_input_train))\n",
    "print('훈련 레이블의 개수 :', len(decoder_input_train))\n",
    "print('테스트 데이터의 개수 :', len(encoder_input_test))\n",
    "print('테스트 레이블의 개수 :', len(decoder_input_test))"
   ]
  },
  {
   "cell_type": "code",
   "execution_count": 45,
   "id": "featured-attempt",
   "metadata": {},
   "outputs": [
    {
     "name": "stdout",
     "output_type": "stream",
     "text": [
      "단어 집합(vocabulary)의 크기 : 40460\n",
      "등장 빈도가 6번 이하인 희귀 단어의 수: 30291\n",
      "단어 집합에서 희귀 단어를 제외시킬 경우의 단어 집합의 크기 10169\n",
      "단어 집합에서 희귀 단어의 비율: 74.86653484923382\n",
      "전체 등장 빈도에서 희귀 단어 등장 빈도 비율: 7.022192618019075\n"
     ]
    }
   ],
   "source": [
    "threshold = 7\n",
    "total_cnt = len(tar_tokenizer.word_index) \n",
    "rare_cnt = 0 \n",
    "total_freq = 0 \n",
    "rare_freq = 0 \n",
    "\n",
    "\n",
    "for key, value in tar_tokenizer.word_counts.items():\n",
    "    total_freq = total_freq + value\n",
    "\n",
    "    \n",
    "    if(value < threshold):\n",
    "        rare_cnt = rare_cnt + 1\n",
    "        rare_freq = rare_freq + value\n",
    "\n",
    "print('단어 집합(vocabulary)의 크기 :',total_cnt)\n",
    "print('등장 빈도가 %s번 이하인 희귀 단어의 수: %s'%(threshold - 1, rare_cnt))\n",
    "print('단어 집합에서 희귀 단어를 제외시킬 경우의 단어 집합의 크기 %s'%(total_cnt - rare_cnt))\n",
    "print(\"단어 집합에서 희귀 단어의 비율:\", (rare_cnt / total_cnt)*100)\n",
    "print(\"전체 등장 빈도에서 희귀 단어 등장 빈도 비율:\", (rare_freq / total_freq)*100)"
   ]
  },
  {
   "cell_type": "code",
   "execution_count": 46,
   "id": "original-awareness",
   "metadata": {},
   "outputs": [
    {
     "name": "stdout",
     "output_type": "stream",
     "text": [
      "input\n",
      "input  [[1, 3026, 207, 947, 62, 1562, 1250, 46, 782, 869], [1, 788, 491, 1318, 176, 2260, 58, 59, 90, 3, 23, 48], [1, 3160, 191, 3, 161, 348, 24, 4543, 12, 7159, 69], [1, 166, 75, 4841, 3, 390, 1664, 5, 9343], [1, 328, 146, 1304, 1771, 3, 5183]]\n",
      "target\n",
      "decoder  [[3026, 207, 947, 62, 1562, 1250, 46, 782, 869, 2], [788, 491, 1318, 176, 2260, 58, 59, 90, 3, 23, 48, 2], [3160, 191, 3, 161, 348, 24, 4543, 12, 7159, 69, 2], [166, 75, 4841, 3, 390, 1664, 5, 9343, 2], [328, 146, 1304, 1771, 3, 5183, 2]]\n"
     ]
    }
   ],
   "source": [
    "tar_vocab = 10000\n",
    "tar_tokenizer = Tokenizer(num_words = tar_vocab) \n",
    "tar_tokenizer.fit_on_texts(decoder_input_train)\n",
    "tar_tokenizer.fit_on_texts(decoder_target_train)\n",
    "\n",
    "# 텍스트 시퀀스를 정수 시퀀스로 변환\n",
    "decoder_input_train = tar_tokenizer.texts_to_sequences(decoder_input_train) \n",
    "decoder_target_train = tar_tokenizer.texts_to_sequences(decoder_target_train)\n",
    "decoder_input_test = tar_tokenizer.texts_to_sequences(decoder_input_test)\n",
    "decoder_target_test = tar_tokenizer.texts_to_sequences(decoder_target_test)\n",
    "\n",
    "#잘 변환되었는지 확인\n",
    "print('input')\n",
    "print('input ',decoder_input_train[:5])\n",
    "print('target')\n",
    "print('decoder ',decoder_target_train[:5])"
   ]
  },
  {
   "cell_type": "markdown",
   "id": "running-bicycle",
   "metadata": {},
   "source": [
    "- headlines은 문장이 짧기 때문에 빈도수가 낮은 단어가 삭제되면서 길이가 0일 수도 있습니다.\n",
    "- decoder_input은 시작 토큰과 종료 토큰이 있습니다.\n",
    "- 때문에 빈도수가 낮으면, 토큰만 남아 문장 길이가 1입니다.\n",
    "- 1인 문장을 삭제합니다."
   ]
  },
  {
   "cell_type": "code",
   "execution_count": 47,
   "id": "random-health",
   "metadata": {},
   "outputs": [
    {
     "name": "stdout",
     "output_type": "stream",
     "text": [
      "삭제할 훈련 데이터의 개수 : 0\n",
      "삭제할 테스트 데이터의 개수 : 0\n"
     ]
    },
    {
     "name": "stderr",
     "output_type": "stream",
     "text": [
      "/home/aiffel-dj26/anaconda3/envs/aiffel/lib/python3.7/site-packages/numpy/core/_asarray.py:83: VisibleDeprecationWarning: Creating an ndarray from ragged nested sequences (which is a list-or-tuple of lists-or-tuples-or ndarrays with different lengths or shapes) is deprecated. If you meant to do this, you must specify 'dtype=object' when creating the ndarray\n",
      "  return array(a, dtype, copy=False, order=order)\n"
     ]
    },
    {
     "name": "stdout",
     "output_type": "stream",
     "text": [
      "훈련 데이터의 개수 : 76671\n",
      "훈련 레이블의 개수 : 76671\n",
      "테스트 데이터의 개수 : 19167\n",
      "테스트 레이블의 개수 : 19167\n"
     ]
    }
   ],
   "source": [
    "drop_train = [index for index, sentence in enumerate(decoder_input_train) if len(sentence) == 1]\n",
    "drop_test = [index for index, sentence in enumerate(decoder_input_test) if len(sentence) == 1]\n",
    "\n",
    "print('삭제할 훈련 데이터의 개수 :',len(drop_train))\n",
    "print('삭제할 테스트 데이터의 개수 :',len(drop_test))\n",
    "\n",
    "encoder_input_train = np.delete(encoder_input_train, drop_train, axis=0)\n",
    "decoder_input_train = np.delete(decoder_input_train, drop_train, axis=0)\n",
    "decoder_target_train = np.delete(decoder_target_train, drop_train, axis=0)\n",
    "\n",
    "encoder_input_test = np.delete(encoder_input_test, drop_test, axis=0)\n",
    "decoder_input_test = np.delete(decoder_input_test, drop_test, axis=0)\n",
    "decoder_target_test = np.delete(decoder_target_test, drop_test, axis=0)\n",
    "\n",
    "print('훈련 데이터의 개수 :', len(encoder_input_train))\n",
    "print('훈련 레이블의 개수 :',len(decoder_input_train))\n",
    "print('테스트 데이터의 개수 :',len(encoder_input_test))\n",
    "print('테스트 레이블의 개수 :',len(decoder_input_test))"
   ]
  },
  {
   "cell_type": "markdown",
   "id": "narrow-treat",
   "metadata": {},
   "source": [
    "- 이전에 문장 길이 분포를 확인해 text, headlines의 최대 길이를 정했습니다.\n",
    "- 정한 최대 길이를 기준으로 padding작업을 합니다."
   ]
  },
  {
   "cell_type": "code",
   "execution_count": 49,
   "id": "presidential-mountain",
   "metadata": {},
   "outputs": [],
   "source": [
    "encoder_input_train = pad_sequences(encoder_input_train, maxlen = text_max_len, padding='post')\n",
    "encoder_input_test = pad_sequences(encoder_input_test, maxlen = text_max_len, padding='post')\n",
    "decoder_input_train = pad_sequences(decoder_input_train, maxlen = headline_max_len, padding='post')\n",
    "decoder_target_train = pad_sequences(decoder_target_train, maxlen = headline_max_len, padding='post')\n",
    "decoder_input_test = pad_sequences(decoder_input_test, maxlen = headline_max_len, padding='post')\n",
    "decoder_target_test = pad_sequences(decoder_target_test, maxlen = headline_max_len, padding='post')"
   ]
  },
  {
   "cell_type": "markdown",
   "id": "functional-trinidad",
   "metadata": {},
   "source": [
    "## 04. 모델 설계\n",
    "- 함수형 API를 이용해 인코더 설계\n",
    "- 각 단어의 가중치를 더하는 attention 메커니즘을 사용"
   ]
  },
  {
   "cell_type": "code",
   "execution_count": 50,
   "id": "lightweight-imaging",
   "metadata": {},
   "outputs": [
    {
     "name": "stdout",
     "output_type": "stream",
     "text": [
      "WARNING:tensorflow:Layer lstm will not use cuDNN kernel since it doesn't meet the cuDNN kernel criteria. It will use generic GPU kernel as fallback when running on GPU\n",
      "WARNING:tensorflow:Layer lstm_1 will not use cuDNN kernel since it doesn't meet the cuDNN kernel criteria. It will use generic GPU kernel as fallback when running on GPU\n",
      "WARNING:tensorflow:Layer lstm_2 will not use cuDNN kernel since it doesn't meet the cuDNN kernel criteria. It will use generic GPU kernel as fallback when running on GPU\n"
     ]
    }
   ],
   "source": [
    "from tensorflow.keras.layers import Input, LSTM, Embedding, Dense, Concatenate\n",
    "from tensorflow.keras.models import Model\n",
    "from tensorflow.keras.callbacks import EarlyStopping, ModelCheckpoint\n",
    "\n",
    "\n",
    "# 인코더 설계 시작\n",
    "embedding_dim = 128\n",
    "hidden_size = 256\n",
    "\n",
    "# 인코더\n",
    "encoder_inputs = Input(shape=(text_max_len,))\n",
    "\n",
    "# 인코더의 임베딩 층\n",
    "enc_emb = Embedding(src_vocab, embedding_dim)(encoder_inputs)\n",
    "\n",
    "# 인코더의 LSTM 1\n",
    "encoder_lstm1 = LSTM(hidden_size, return_sequences=True, return_state=True ,dropout = 0.4, recurrent_dropout = 0.4)\n",
    "encoder_output1, state_h1, state_c1 = encoder_lstm1(enc_emb)\n",
    "\n",
    "# 인코더의 LSTM 2\n",
    "encoder_lstm2 = LSTM(hidden_size, return_sequences=True, return_state=True, dropout=0.4, recurrent_dropout=0.4)\n",
    "encoder_output2, state_h2, state_c2 = encoder_lstm2(encoder_output1)\n",
    "\n",
    "# 인코더의 LSTM 3\n",
    "encoder_lstm3 = LSTM(hidden_size, return_state=True, return_sequences=True, dropout=0.4, recurrent_dropout=0.4)\n",
    "encoder_outputs, state_h, state_c= encoder_lstm3(encoder_output2)"
   ]
  },
  {
   "cell_type": "code",
   "execution_count": 51,
   "id": "standing-virgin",
   "metadata": {},
   "outputs": [
    {
     "name": "stdout",
     "output_type": "stream",
     "text": [
      "WARNING:tensorflow:Layer lstm_3 will not use cuDNN kernel since it doesn't meet the cuDNN kernel criteria. It will use generic GPU kernel as fallback when running on GPU\n"
     ]
    }
   ],
   "source": [
    "# 디코더 설계\n",
    "\n",
    "decoder_inputs = Input(shape=(None,))\n",
    "\n",
    "# 디코더의 임베딩 층\n",
    "dec_emb_layer = Embedding(tar_vocab, embedding_dim)\n",
    "dec_emb = dec_emb_layer(decoder_inputs)\n",
    "\n",
    "# 디코더의 LSTM\n",
    "decoder_lstm = LSTM(hidden_size, return_sequences = True, return_state = True, dropout = 0.4, recurrent_dropout=0.2)\n",
    "decoder_outputs, _, _ = decoder_lstm(dec_emb, initial_state = [state_h, state_c])"
   ]
  },
  {
   "cell_type": "code",
   "execution_count": 53,
   "id": "seven-minutes",
   "metadata": {},
   "outputs": [],
   "source": [
    "urllib.request.urlretrieve(\"https://raw.githubusercontent.com/thushv89/attention_keras/master/src/layers/attention.py\", filename=\"attention.py\")\n",
    "from attention import AttentionLayer"
   ]
  },
  {
   "cell_type": "code",
   "execution_count": 54,
   "id": "spatial-malaysia",
   "metadata": {},
   "outputs": [
    {
     "name": "stdout",
     "output_type": "stream",
     "text": [
      "Model: \"model_1\"\n",
      "__________________________________________________________________________________________________\n",
      "Layer (type)                    Output Shape         Param #     Connected to                     \n",
      "==================================================================================================\n",
      "input_1 (InputLayer)            [(None, 60)]         0                                            \n",
      "__________________________________________________________________________________________________\n",
      "embedding (Embedding)           (None, 60, 128)      2560000     input_1[0][0]                    \n",
      "__________________________________________________________________________________________________\n",
      "lstm (LSTM)                     [(None, 60, 256), (N 394240      embedding[0][0]                  \n",
      "__________________________________________________________________________________________________\n",
      "input_2 (InputLayer)            [(None, None)]       0                                            \n",
      "__________________________________________________________________________________________________\n",
      "lstm_1 (LSTM)                   [(None, 60, 256), (N 525312      lstm[0][0]                       \n",
      "__________________________________________________________________________________________________\n",
      "embedding_1 (Embedding)         (None, None, 128)    1280000     input_2[0][0]                    \n",
      "__________________________________________________________________________________________________\n",
      "lstm_2 (LSTM)                   [(None, 60, 256), (N 525312      lstm_1[0][0]                     \n",
      "__________________________________________________________________________________________________\n",
      "lstm_3 (LSTM)                   [(None, None, 256),  394240      embedding_1[0][0]                \n",
      "                                                                 lstm_2[0][1]                     \n",
      "                                                                 lstm_2[0][2]                     \n",
      "__________________________________________________________________________________________________\n",
      "attention_layer (AttentionLayer ((None, None, 256),  131328      lstm_2[0][0]                     \n",
      "                                                                 lstm_3[0][0]                     \n",
      "__________________________________________________________________________________________________\n",
      "concat_layer (Concatenate)      (None, None, 512)    0           lstm_3[0][0]                     \n",
      "                                                                 attention_layer[0][0]            \n",
      "__________________________________________________________________________________________________\n",
      "dense_1 (Dense)                 (None, None, 10000)  5130000     concat_layer[0][0]               \n",
      "==================================================================================================\n",
      "Total params: 10,940,432\n",
      "Trainable params: 10,940,432\n",
      "Non-trainable params: 0\n",
      "__________________________________________________________________________________________________\n"
     ]
    }
   ],
   "source": [
    "# 어텐션 층(어텐션 함수)\n",
    "attn_layer = AttentionLayer(name='attention_layer')\n",
    "# 인코더와 디코더의 모든 time step의 hidden state를 어텐션 층에 전달하고 결과를 리턴\n",
    "attn_out, attn_states = attn_layer([encoder_outputs, decoder_outputs])\n",
    "\n",
    "# 어텐션의 결과와 디코더의 hidden state들을 연결\n",
    "decoder_concat_input = Concatenate(axis = -1, name='concat_layer')([decoder_outputs, attn_out])\n",
    "\n",
    "# 디코더의 출력층\n",
    "decoder_softmax_layer = Dense(tar_vocab, activation='softmax')\n",
    "decoder_softmax_outputs = decoder_softmax_layer(decoder_concat_input)\n",
    "\n",
    "# 모델 정의\n",
    "model = Model([encoder_inputs, decoder_inputs], decoder_softmax_outputs)\n",
    "model.summary()"
   ]
  },
  {
   "cell_type": "code",
   "execution_count": 55,
   "id": "sudden-meaning",
   "metadata": {},
   "outputs": [
    {
     "name": "stdout",
     "output_type": "stream",
     "text": [
      "Epoch 1/20\n",
      "300/300 [==============================] - 141s 470ms/step - loss: 5.7982 - val_loss: 5.4193\n",
      "Epoch 2/20\n",
      "300/300 [==============================] - 142s 473ms/step - loss: 5.2403 - val_loss: 5.0092\n",
      "Epoch 3/20\n",
      "300/300 [==============================] - 142s 473ms/step - loss: 4.8769 - val_loss: 4.7149\n",
      "Epoch 4/20\n",
      "300/300 [==============================] - 142s 474ms/step - loss: 4.5991 - val_loss: 4.4922\n",
      "Epoch 5/20\n",
      "300/300 [==============================] - 144s 479ms/step - loss: 4.3709 - val_loss: 4.3424\n",
      "Epoch 6/20\n",
      "300/300 [==============================] - 144s 480ms/step - loss: 4.1868 - val_loss: 4.2041\n",
      "Epoch 7/20\n",
      "300/300 [==============================] - 142s 474ms/step - loss: 4.0282 - val_loss: 4.1072\n",
      "Epoch 8/20\n",
      "300/300 [==============================] - 142s 472ms/step - loss: 3.8941 - val_loss: 4.0232\n",
      "Epoch 9/20\n",
      "300/300 [==============================] - 141s 471ms/step - loss: 3.7711 - val_loss: 3.9529\n",
      "Epoch 10/20\n",
      "300/300 [==============================] - 141s 472ms/step - loss: 3.6641 - val_loss: 3.9042\n",
      "Epoch 11/20\n",
      "300/300 [==============================] - 142s 472ms/step - loss: 3.5671 - val_loss: 3.8475\n",
      "Epoch 12/20\n",
      "300/300 [==============================] - 142s 473ms/step - loss: 3.4830 - val_loss: 3.8128\n",
      "Epoch 13/20\n",
      "300/300 [==============================] - 142s 473ms/step - loss: 3.4063 - val_loss: 3.7818\n",
      "Epoch 14/20\n",
      "300/300 [==============================] - 142s 475ms/step - loss: 3.3334 - val_loss: 3.7537\n",
      "Epoch 15/20\n",
      "300/300 [==============================] - 142s 474ms/step - loss: 3.2619 - val_loss: 3.7227\n",
      "Epoch 16/20\n",
      "300/300 [==============================] - 143s 478ms/step - loss: 3.2016 - val_loss: 3.6981\n",
      "Epoch 17/20\n",
      "300/300 [==============================] - 143s 475ms/step - loss: 3.1426 - val_loss: 3.6808\n",
      "Epoch 18/20\n",
      "300/300 [==============================] - 142s 473ms/step - loss: 3.0917 - val_loss: 3.6729\n",
      "Epoch 19/20\n",
      "300/300 [==============================] - 143s 477ms/step - loss: 3.0428 - val_loss: 3.6494\n",
      "Epoch 20/20\n",
      "300/300 [==============================] - 144s 481ms/step - loss: 2.9917 - val_loss: 3.6374\n"
     ]
    }
   ],
   "source": [
    "model.compile(optimizer='rmsprop', loss='sparse_categorical_crossentropy')\n",
    "es = EarlyStopping(monitor='val_loss', mode='min', verbose=1, patience = 2)\n",
    "history = model.fit(x = [encoder_input_train, decoder_input_train], y = decoder_target_train, \\\n",
    "          validation_data = ([encoder_input_test, decoder_input_test], decoder_target_test),\n",
    "          batch_size = 256, callbacks=[es], epochs = 20)"
   ]
  },
  {
   "cell_type": "code",
   "execution_count": 56,
   "id": "provincial-wesley",
   "metadata": {},
   "outputs": [
    {
     "data": {
      "image/png": "[encoded data removed]",
      "text/plain": [
       "<Figure size 432x288 with 1 Axes>"
      ]
     },
     "metadata": {
      "needs_background": "light"
     },
     "output_type": "display_data"
    }
   ],
   "source": [
    "plt.plot(history.history['loss'], label='train')\n",
    "plt.plot(history.history['val_loss'], label='test')\n",
    "plt.legend()\n",
    "plt.show()"
   ]
  },
  {
   "cell_type": "markdown",
   "id": "micro-offense",
   "metadata": {},
   "source": [
    "## 05. 결과 평가하기\n",
    "- 정수 인덱스 행렬을 실제 데이터로 복원한다.\n",
    "- 학습 시와 다른 점 : 정답 데이터가 없다. (원본 데이터와 비교하기 때문에)"
   ]
  },
  {
   "cell_type": "code",
   "execution_count": 57,
   "id": "outstanding-collectible",
   "metadata": {},
   "outputs": [],
   "source": [
    "src_index_to_word = src_tokenizer.index_word # 원문 단어 집합에서 정수 -> 단어를 얻음\n",
    "tar_word_to_index = tar_tokenizer.word_index # 요약 단어 집합에서 단어 -> 정수를 얻음\n",
    "tar_index_to_word = tar_tokenizer.index_word # 요약 단어 집합에서 정수 -> 단어를 얻음"
   ]
  },
  {
   "cell_type": "code",
   "execution_count": 58,
   "id": "indonesian-london",
   "metadata": {},
   "outputs": [],
   "source": [
    "# 인코더 설계\n",
    "encoder_model = Model(inputs=encoder_inputs, outputs=[encoder_outputs, state_h, state_c])\n",
    "\n",
    "# 이전 시점의 상태들을 저장하는 텐서\n",
    "decoder_state_input_h = Input(shape=(hidden_size,))\n",
    "decoder_state_input_c = Input(shape=(hidden_size,))\n",
    "\n",
    "dec_emb2 = dec_emb_layer(decoder_inputs)\n",
    "# 문장의 다음 단어를 예측하기 위해서 초기 상태(initial_state)를 이전 시점의 상태로 사용. 이는 뒤의 함수 decode_sequence()에 구현\n",
    "# 훈련 과정에서와 달리 LSTM의 리턴하는 은닉 상태와 셀 상태인 state_h와 state_c를 버리지 않음.\n",
    "decoder_outputs2, state_h2, state_c2 = decoder_lstm(dec_emb2, initial_state=[decoder_state_input_h, decoder_state_input_c])"
   ]
  },
  {
   "cell_type": "code",
   "execution_count": 59,
   "id": "coordinate-staff",
   "metadata": {},
   "outputs": [],
   "source": [
    "# 어텐션 함수\n",
    "decoder_hidden_state_input = Input(shape=(text_max_len, hidden_size))\n",
    "attn_out_inf, attn_states_inf = attn_layer([decoder_hidden_state_input, decoder_outputs2])\n",
    "decoder_inf_concat = Concatenate(axis=-1, name='concat')([decoder_outputs2, attn_out_inf])\n",
    "\n",
    "# 디코더의 출력층\n",
    "decoder_outputs2 = decoder_softmax_layer(decoder_inf_concat) \n",
    "\n",
    "# 최종 디코더 모델\n",
    "decoder_model = Model(\n",
    "    [decoder_inputs] + [decoder_hidden_state_input,decoder_state_input_h, decoder_state_input_c],\n",
    "    [decoder_outputs2] + [state_h2, state_c2])"
   ]
  },
  {
   "cell_type": "code",
   "execution_count": 63,
   "id": "present-house",
   "metadata": {},
   "outputs": [],
   "source": [
    "def decode_sequence(input_seq):\n",
    "    # 입력으로부터 인코더의 상태를 얻음\n",
    "    e_out, e_h, e_c = encoder_model.predict(input_seq)\n",
    "\n",
    "     # <SOS>에 해당하는 토큰 생성\n",
    "    target_seq = np.zeros((1,1))\n",
    "    target_seq[0, 0] = tar_word_to_index['sostoken']\n",
    "\n",
    "    stop_condition = False\n",
    "    decoded_sentence = ''\n",
    "    while not stop_condition: # stop_condition이 True가 될 때까지 루프 반복\n",
    "\n",
    "        output_tokens, h, c = decoder_model.predict([target_seq] + [e_out, e_h, e_c])\n",
    "        sampled_token_index = np.argmax(output_tokens[0, -1, :])\n",
    "        sampled_token = tar_index_to_word[sampled_token_index]\n",
    "\n",
    "        if(sampled_token!='eostoken'):\n",
    "            decoded_sentence += ' '+sampled_token\n",
    "\n",
    "        #  <eos>에 도달하거나 최대 길이를 넘으면 중단.\n",
    "        if (sampled_token == 'eostoken'  or len(decoded_sentence.split()) >= (headline_max_len-1)):\n",
    "            stop_condition = True\n",
    "\n",
    "        # 길이가 1인 타겟 시퀀스를 업데이트\n",
    "        target_seq = np.zeros((1,1))\n",
    "        target_seq[0, 0] = sampled_token_index\n",
    "\n",
    "        # 상태를 업데이트 합니다.\n",
    "        e_h, e_c = h, c\n",
    "\n",
    "    return decoded_sentence"
   ]
  },
  {
   "cell_type": "markdown",
   "id": "entire-meeting",
   "metadata": {},
   "source": [
    "- 결과를 확인할 수 있는 함수를 생성합니다."
   ]
  },
  {
   "cell_type": "code",
   "execution_count": 64,
   "id": "basic-contest",
   "metadata": {},
   "outputs": [],
   "source": [
    "# 원문의 정수 시퀀스를 텍스트 시퀀스로 변환\n",
    "def seq2text(input_seq):\n",
    "    temp=''\n",
    "    for i in input_seq:\n",
    "        if(i!=0):\n",
    "            temp = temp + src_index_to_word[i]+' '\n",
    "    return temp\n",
    "\n",
    "# 요약문의 정수 시퀀스를 텍스트 시퀀스로 변환\n",
    "def seq2summary(input_seq):\n",
    "    temp=''\n",
    "    for i in input_seq:\n",
    "        if((i!=0 and i!=tar_word_to_index['sostoken']) and i!=tar_word_to_index['eostoken']):\n",
    "            temp = temp + tar_index_to_word[i] + ' '\n",
    "    return temp"
   ]
  },
  {
   "cell_type": "code",
   "execution_count": 65,
   "id": "hungarian-radical",
   "metadata": {},
   "outputs": [
    {
     "name": "stdout",
     "output_type": "stream",
     "text": [
      "원문 : alleging that the income tax department carried out a raid at his sister's hospital in haryana's rewari swaraj india leader yogendra yadav on wednesday said modiji you can't silence me in a tweet he claimed that the raid was the government's attempt to intimidate him he said this happened because he launched an agitation seeking better prices for farmers' crops \n",
      "실제 요약 : can't silence me on tax raid at sister's hospital \n",
      "예측 요약 :  i don't know you don't know you akhilesh on note ban\n",
      "\n",
      "\n",
      "원문 : passengers onboard rajdhani and shatabdi trains can pre order from food outlets like domino's mcdonald's and directly to their seat starting thursday mandatory meals have become optional although passengers must book their meals at irctc co in two hours in advance the eatery will ensure the order is delivered to the passenger when the train at stations \n",
      "실제 요약 : railways starts delivering domino's mcdonald's on trains \n",
      "예측 요약 :  passengers to get food food at mumbai airport\n",
      "\n",
      "\n",
      "원문 : the only good thing to come out of the bjp's jan raksha yatra in kerala could be amit shah reducing his weight kerala opposition leader ramesh said on thursday he further slammed the cpm led government for making arrangements for bjp president amit shah's visit the bjp's aims to protest the violence by cpm on rss bjp cadres \n",
      "실제 요약 : shah can lose weight by walking through kerala opp'n leader \n",
      "예측 요약 :  will be removed from politics in kerala\n",
      "\n",
      "\n",
      "원문 : a disabled single mother claims to have been left after her 10 year old son spent her money on the fortnite game in south wales she claims she won't be able to buy food or pay for electricity who receives around 900 a month in benefits said she found out about it after going to the cash machine \n",
      "실제 요약 : mother left after son spends all money on fortnite \n",
      "예측 요약 :  father son son son son son denies reports\n",
      "\n",
      "\n",
      "원문 : after congress mp sunil jakhar made a paper plane in the parliament saying he can make a better rafale jet he clarified that he used the paper plane to seek attention over the rafale deal slamming reliance chairman anil ambani jakhar said if a person without any experience can make a fighter jet then i can also do that \n",
      "실제 요약 : used paper plane to seek attention over rafale deal cong mp \n",
      "예측 요약 :  rafale is a rafale challenge to rafale mp congress\n",
      "\n",
      "\n",
      "원문 : nasa on monday said the chandra x ray observatory space telescope came back online on friday after experiencing a brief shutdown the observatory automatically went into safe mode last week possibly due to a failure nasa said earlier the flight controllers restored pointing by switching to a backup and observations are expected to resume by this week \n",
      "실제 요약 : nasa x ray space telescope back online after shutdown \n",
      "예측 요약 :  nasa reveals nasa image of nasa\n",
      "\n",
      "\n",
      "원문 : union minister mukhtar abbas naqvi on monday asserted that the bjp was not facing any pressure from allies ahead of the 2019 general elections he added that the bjp has always honoured allies and listened to them he further said those parties rlsp and tdp leaving the nda for their own political reasons cannot be stopped \n",
      "실제 요약 : bjp under no pressure from allies naqvi \n",
      "예측 요약 :  no trust motion against bjp union minister\n",
      "\n",
      "\n",
      "원문 : minister p chidambaram's son karti chidambaram was sent to one day cbi custody by a delhi court yesterday in connection with the inx media money laundering case the 46 year old was arrested on wednesday morning at the chennai airport karti is being probed for allegedly taking bribes to help inx media get foreign investment clearance during his father's tenure \n",
      "실제 요약 : karti chidambaram sent to 1 day custody in inx media case \n",
      "예측 요약 :  karti chidambaram sent to judicial custody in inx media case\n",
      "\n",
      "\n",
      "원문 : the world is in the middle of cold war 2 0 due to the threat of a new phase of nuclear german foreign minister gabriel has warned he further said that chancellor angela merkel is making a major mistake by allegedly following us president donald trump and planning an increase in the country's military spending \n",
      "실제 요약 : world in middle of cold war 2 0 german foreign minister \n",
      "예측 요약 :  world is a east world war germany\n",
      "\n",
      "\n",
      "원문 : on being asked about the secret of his pm narendra modi said 20 saal se main daily 1 2 kg hu for the past 2 decades i've been eating 1 2 kg abuses addressing an event in london pm modi also said before 2014 newspapers used to have headlines today's news is 'modi ji \n",
      "실제 요약 : 20 se main daily 1 pm modi \n",
      "예측 요약 :  pm modi is a kg of the largest of the largest\n",
      "\n",
      "\n",
      "원문 : police officers in us' indiana have shared a surveillance video of an inmate managing to escape from their custody by under a closing garage door while in the inmate was being transported to the jail when he ran out of the car as it was parked in the garage the authorities recaptured him about a day later \n",
      "실제 요약 : video inmate in escapes under closing garage door \n",
      "예측 요약 :  police police station to police station\n",
      "\n",
      "\n",
      "원문 : noida authority officials on monday demolished around thirty makeshift shops near sector 78 after residents demanded for removal of this comes after over 300 protestors mostly domestic helps gathered outside a housing complex last week alleging that one of its residents had assaulted a domestic help noida authority has however claimed that it was a routine demolition \n",
      "실제 요약 : shops demolished by noida authority \n",
      "예측 요약 :  noida cops burn noida residents over protest against\n",
      "\n",
      "\n",
      "원문 : spacex founder elon musk has said he can't think of anything more exciting than going on mars musk on friday unveiled a detailed plan to build a human colony on mars and said the startup plans to land two cargo ships on the planet by 2022 the startup is also aiming to take two flights to mars by 2024 \n",
      "실제 요약 : canã¢âât think of anything more musk on mars plan \n",
      "예측 요약 :  spacex has no mars to mars than mars nasa elon musk\n",
      "\n",
      "\n",
      "원문 : hours after the us recognised jerusalem as israel's capital bjp mp subramanian swamy called for the shifting of india's embassy in israel to jerusalem from tel aviv he said israel has international recognition of a part of jerusalem as its territory meanwhile external affairs ministry has said india's position on palestine would remain consistent and independent \n",
      "실제 요약 : india should shift embassy in israel to jerusalem swamy \n",
      "예측 요약 :  jerusalem to jerusalem embassy in jerusalem\n",
      "\n",
      "\n",
      "원문 : the fares of the luxury train tejas express will be 20 more than that of the shatabdi express fare for the full journey from mumbai to goa ranges between ã¢ââ¹1 220 and ã¢ââ¹2 940 depending on the coach and whether food services are availed people who haven't paid for food during booking will have to pay ã¢ââ¹50 extra per service \n",
      "실제 요약 : how much will travelling in the tejas express cost \n",
      "예측 요약 :  mumbai airport to get its own metro stations\n",
      "\n",
      "\n",
      "원문 : earth passed through the debris left by comet during the weekend with the comet remnants expected to light up the night sky at rates of up to 40 per hour known as the meteor shower gets its name as it appears to come from the constellation near one of brightest stars \n",
      "실제 요약 : meteor shower of comet seen during weekend \n",
      "예측 요약 :  asteroid to be the first ever\n",
      "\n",
      "\n",
      "원문 : us homeland security department has said that it is investigating possible abuse of authority in a case that triggered a lawsuit against it by social network company twitter inc twitter complained in the lawsuit that it received a summons from the department demanding records about an account on its platform which featured posts critical of president donald trump's immigration policies \n",
      "실제 요약 : us probes possible abuse in twitter summons case \n",
      "예측 요약 :  us govt admits to sue us lawsuit over lawsuit\n",
      "\n",
      "\n",
      "원문 : taking a dig at previous upa government at defence on thursday pm narendra modi said there was a time when the critical issue of defence preparedness was hampered by policy paralysis we have seen the damage such or perhaps some hidden motives can cause to the nation not now not anymore never the pm added \n",
      "실제 요약 : policy defence pm modi \n",
      "예측 요약 :  pm modi is the nation of the state minister\n",
      "\n",
      "\n",
      "원문 : the defence research and development organisation successfully ran a test flight of india made 2 which is developed along the lines of us' predator drones with a 24 hour flying capacity 2 can conduct sustained surveillance and carry weapons along with surveillance equipment the test was conducted at the test range at town in karnataka \n",
      "실제 요약 : india successfully tests home made 2 drone \n"
     ]
    },
    {
     "name": "stdout",
     "output_type": "stream",
     "text": [
      "예측 요약 :  indian test tests nasa flight tests\n",
      "\n",
      "\n",
      "원문 : muslim parents of an adopted hindu in dehradun have married him according to hindu customs instead of islamic rituals the family which adopted the boy when he was 12 years old raised him as a hindu and he said he grew up celebrating all the hindu festivals my family has loved me and supported me in everything he added \n",
      "실제 요약 : muslim parents get adopted hindu son married in his customs \n",
      "예측 요약 :  muslim women hindu muslim muslim muslim muslim muslim muslim family\n",
      "\n",
      "\n",
      "원문 : riteish deshmukh and his wife genelia d'souza will reunite onscreen after four years for a song in upcoming marathi film confirming the news riteish said i've actually forced her to do the number it felt so good to dance together after four years they were last seen together in a song from his debut marathi film \n",
      "실제 요약 : riteish to reunite onscreen after 4 years for a song \n",
      "예측 요약 :  abhishek to play in his debut film reports\n",
      "\n",
      "\n",
      "원문 : sidelined bjp mp shatrughan sinha on saturday said congress president rahul gandhi stole the show during the lok sabha debate on the no confidence motion against the government in an apparent jibe at pm narendra modi shatrughan tweeted people enjoyed his skills but one wished his speech could have been shorter instead of 1 5 making it more \n",
      "실제 요약 : rahul stole the show bjp mp shatrughan on lok sabha debate \n",
      "예측 요약 :  rahul's poster on rahul's lok sabha bjp mp shatrughan\n",
      "\n",
      "\n",
      "원문 : prime minister narendra modi on his visit to the white house on monday exchanged gifts with us president donald trump and first lady melania trump he gifted a stamp issued by india in 1965 marking abraham death centenary a wooden chest from punjab a silver bracelet tea and honey and hand from j k and himachal pradesh \n",
      "실제 요약 : what all gifts from india did modi present trump wife with \n",
      "예측 요약 :  pm modi modi to meet trump's dinner with trump\n",
      "\n",
      "\n",
      "원문 : of lashkar e taiba militants who were involved in the attack on amarnath pilgrims in july have been killed during an encounter with security forces jammu and kashmir dgp said three terrorists were terminated while one was arrested by the forces however a jawan was martyred and one other sustained injuries after the terrorists opened fire at an army convoy \n",
      "실제 요약 : terror group responsible for amarnath yatra attack wiped out \n",
      "예측 요약 :  let e security security forces responsibility in j k\n",
      "\n",
      "\n",
      "원문 : has decided to ban pillion riding on two wheelers with less than 100 cc engine it will not affect the existing two wheelers but will be applicable for new vehicles while manufacturers will have to ensure that such vehicles have seating for only the riders the buyers will also be prohibited from adding an extra seat for the pillion rider \n",
      "실제 요약 : karnataka to ban riding for 2 wheelers below \n",
      "예측 요약 :  govt proposes ban on sale of vehicles for vehicles\n",
      "\n",
      "\n",
      "원문 : the rajasthan congress has launched a 77 day crowdfunding campaign to finance the upcoming assembly elections it has managed to collect a sum of over ã¢ââ¹3 lakh from donors in the past four days rajasthan congress president sachin pilot said the idea behind it is not just to raise funds but to connect with people \n",
      "실제 요약 : congress for to finance rajasthan polls \n",
      "예측 요약 :  congress launches ã¢ââ¹1 lakh crore for\n",
      "\n",
      "\n",
      "원문 : the first nobel prize was awarded to sweden's erik in for literature the only nobel peace prize was given in 1961 to the youngest united nations secretary general in 1996 economist william died before the presentation ceremony while ralph was given 2011 medicine nobel posthumously as the committee wasn't aware of his death \n",
      "실제 요약 : what are the rare cases when nobel prize was given after death \n",
      "예측 요약 :  nobel prize was once won nobel peace prize\n",
      "\n",
      "\n",
      "원문 : spanish tennis star rafael nadal complained he couldn't hear the sound of the ball due to the noise inside the closed arthur stadium at the us open i was not able to hear the ball when you are hitting no nadal said nadal progressed to the second round of the tournament by beating in straight sets \n",
      "실제 요약 : nadal complains about noise under closed roof at the us open \n",
      "예측 요약 :  nadal is the tennis player to federer\n",
      "\n",
      "\n",
      "원문 : former rjd mp singh was sentenced to life imprisonment along with two of his brothers for killing the then janata dal mla ashok singh in 1995 according to the prosecution ashok singh was killed at his residence with the use of bombs and firing the three were found guilty by district court last week \n",
      "실제 요약 : former rjd mp gets life sentence for killing dal mla \n",
      "예측 요약 :  ex bjp leader sentenced to death in bihar\n",
      "\n",
      "\n",
      "원문 : an accused in the bhopal ujjain passenger train blast during the interrogation has reportedly revealed that the blast was a gift from islamic state leader abu bakr al baghdadi this announcement by the islamic state was made in the form of a letter which was wrapped around the pipe bomb that caused the explosion \n",
      "실제 요약 : bhopal train blast was a gift from is leader baghdadi probe \n",
      "예측 요약 :  was killed in air court\n",
      "\n",
      "\n",
      "원문 : the death toll from an apartment building that partially collapsed in russia earlier this week reportedly due to a gas explosion has risen to 37 the emergencies ministry said as of thursday 22 of the 37 bodies had been identified the explosion on monday damaged 48 apartments in the 10 storey building in the city of \n",
      "실제 요약 : death toll from russia building collapse rises to 37 \n",
      "예측 요약 :  death toll in us after collapses in us\n",
      "\n",
      "\n",
      "원문 : a six metre high inflatable balloon depicting us president donald trump as a baby flew outside the british parliament on friday the organisers said that the giant balloon had been designed to speak to trump in a language that he understands which is personal insults this coincided with several planned protests against trump across the uk \n",
      "실제 요약 : 'trump baby' balloon flies over london \n",
      "예측 요약 :  trump crashes into hurricane irma\n",
      "\n",
      "\n",
      "원문 : nba champion kevin apologised for his years remark he made about india after his promotional visit to the nation last month said that he was grateful for the time he spent in india and accepted blame for how he had his comments just a bunch of underprivileged people there in india had said \n",
      "실제 요약 : nba champ apologises for years remark on india \n",
      "예측 요약 :  nba player apologises for calling him to\n",
      "\n",
      "\n",
      "원문 : elon musk recently faced backlash after calling british rescue diver who said musk's submarine plan to help in thai cave rescue was a pr stunt a musk said he'd prove it would've worked and added sorry guy you really did ask for it when some users questioned his statement musk responded bet ya a signed dollar it's true \n",
      "실제 요약 : musk calls rescue diver who called his submarine pr stunt a \n",
      "예측 요약 :  elon musk musk apologises for thai cave diver\n",
      "\n",
      "\n",
      "원문 : the government has reportedly received ã¢ââ¹10 000 crore in tax' on the deal amount walmart paid to shareholders of flipkart walmart confirmed the payment of the tax to the government but did not disclose the tax amount american retailer walmart completed the acquisition of 77 stake in flipkart for around 16 billion in the middle of august \n",
      "실제 요약 : govt gets ã¢ââ¹10 000 cr tax from flipkart walmart deal report \n",
      "예측 요약 :  govt to pay ã¢ââ¹10 000 crore on flipkart flipkart flipkart\n",
      "\n",
      "\n",
      "원문 : censor board chief pahlaj nihalani has confirmed that the censor board will go digital now producers would not have to submit of their films to the cbfc everything including their films will be submitted for certification online said nihalani he added we're just waiting for the green signal from the information and broadcasting ministry \n",
      "실제 요약 : censor board to go digital confirms chief pahlaj nihalani \n",
      "예측 요약 :  cbfc cuts pahlaj on censor board pahlaj\n",
      "\n",
      "\n",
      "원문 : google's controversial project code named to make a customised search engine for china to meet the country's norms was an experiment ceo sundar pichai has said earlier pichai admitted the project was in early stages of development the project received criticism from the company's own employees who argued that a project supporting censorship is against google's values \n",
      "실제 요약 : china search engine was google ceo sundar pichai \n",
      "예측 요약 :  google adds search for china china border talks with china\n",
      "\n",
      "\n",
      "원문 : australia on saturday witnessed losses in cricket tennis football and rugby their cricket team lost their second odi to england in wales while the lost to france in a fifa world cup group match in russia australia's rugby side lost to ireland at home and australian tennis player nick kyrgios lost to roger federer in stuttgart open semifinal \n",
      "실제 요약 : australia lost in cricket fifa wc rugby tennis on same day \n"
     ]
    },
    {
     "name": "stdout",
     "output_type": "stream",
     "text": [
      "예측 요약 :  australia match due to eng wc due to wc\n",
      "\n",
      "\n",
      "원문 : former cricketer virender sehwag has claimed that ex india captain sourav ganguly's sacrifice of his batting spot to give ms dhoni a chance to bat higher up the order was one of the reasons behind the latter's success speaking about ganguly's tendency to experiment with the batting order sehwag said ganguly always believed in giving chances to new players \n",
      "실제 요약 : ganguly's sacrifice reason behind dhoni's success sehwag \n",
      "예측 요약 :  dhoni is a innings in a innings sehwag\n",
      "\n",
      "\n",
      "원문 : facing a 13 5 million lawsuit by a us state attorney general for not disclosing the 2016 data breach within a reasonable time frame hackers had stolen the first names last names and license numbers of at least 13 500 uber drivers in the state of pennsylvania the attorney general may seek fine of up to 1 000 per violation \n",
      "실제 요약 : uber faces 13 5 million lawsuit over stolen data of drivers \n",
      "예측 요약 :  us firm sued for stealing data on data breach\n",
      "\n",
      "\n",
      "원문 : the us secret service has arrested a man dressed as the character after he tried to jump the white house fence the man said that he hoped to become famous by posting footage of the stunt on youtube he told law enforcement that he wanted to come back to the white house with his son for a tour \n",
      "실제 요약 : us secret service catches trying to jump wh fence \n",
      "예측 요약 :  us man arrested for sending to ex us pm\n",
      "\n",
      "\n",
      "원문 : the government on wednesday appointed the managing directors and ceos of 10 state owned banks five of the newly named chiefs are currently working as deputy managing directors at sbi j mohapatra and of sbi have been appointed at andhra bank indian bank syndicate bank central bank of india and dena bank respectively \n",
      "실제 요약 : 5 deputy of sbi made ceos of different state owned banks \n",
      "예측 요약 :  govt payments bank of idbi bank of services\n",
      "\n",
      "\n",
      "원문 : andrey a senior russian diplomat has said that the us is attempting to meddle in its upcoming elections russian officials further accused youtube google and social media platforms of engaging in unlawful behaviour during the election campaign elections are due to take place in several regions in russia on sunday including the capital moscow \n",
      "실제 요약 : russia accuses us of attempting to in its elections \n",
      "예측 요약 :  us russia to be used to russian election meddling\n",
      "\n",
      "\n",
      "원문 : american economist richard h has been awarded the 2017 nobel prize in economic sciences for his contributions to behavioural economics his research is often cited in marketing literature and helps recognise marketing tricks and avoid bad economic decisions the nobel foundation said and added demonstrated how a term he coined may help people exercise better self control \n",
      "실제 요약 : american economist richard h wins 2017 nobel in economics \n",
      "예측 요약 :  world is the nobel prize prize\n",
      "\n",
      "\n",
      "원문 : ranveer singh chopped off his beard and long moustache on a live video on instagram he did this as he had finished shooting for the older version of alauddin khilji in the film 'padmavati' and will be shooting for the character's younger version ranveer also shared a picture of the facial hair he removed and captioned it i'll miss you \n",
      "실제 요약 : ranveer chops off beard moustache on live instagram video \n",
      "예측 요약 :  ranveer singh shares video of himself with his dad\n",
      "\n",
      "\n",
      "원문 : actress deepika padukone has confirmed that she was paid more than her male co stars ranveer singh and shahid kapoor for the film 'padmaavat' she confirmed this on the neha dhupia hosted talk show 'bffs with vogue' earlier it was reported that deepika was paid ã¢ââ¹13 crore for the film while ranveer and shahid got close to ã¢ââ¹10 crore each \n",
      "실제 요약 : was paid more than ranveer shahid for 'padmaavat' deepika \n",
      "예측 요약 :  deepika ranveer to star in ranveer on debut film\n",
      "\n",
      "\n",
      "원문 : the national green tribunal ngt on friday directed the delhi development authority to submit an action plan for the restoration of yamuna this comes after an expert committee appointed by the ngt claimed that the of over 420 acres of was adversely affected by the world culture festival organised in 2016 by the art of living \n",
      "실제 요약 : to submit action plan for yamuna \n",
      "예측 요약 :  ngt asks delhi govt to appoint public\n",
      "\n",
      "\n",
      "원문 : a major fire broke out at an under construction hospital on road in maharashtra's nagpur on wednesday the fire broke out due to a short circuit in the building according to the reports ten fire tenders were present at the spot and the blaze has been brought under control at least seven people were injured in the fire incident \n",
      "실제 요약 : fire breaks out at under construction maharashtra hospital \n",
      "예측 요약 :  fire breaks out at mumbai hospital collapse\n",
      "\n",
      "\n",
      "원문 : cricketer hardik pandya called teammate shikhar dhawan's three year old son a tweeting pictures of the boy's new hairstyle shikhar also shared a picture on instagram of with his mother pandya and virat kohli captioning it everyone loving new hair style aur woh nahi virat kohli \n",
      "실제 요약 : hardik pandya calls dhawan's 3 year old son a \n",
      "예측 요약 :  pandya shares video of daughter with rumoured girlfriend\n",
      "\n",
      "\n",
      "원문 : winning ton in the sixth south africa odi virat kohli said his wife anushka sharma deserves a lot of credit she's been a huge factor she has been criticised a lot but she is one person who kept pushing me he further said i've got 8 9 years left in my career want to make most of it he added \n",
      "실제 요약 : my wife who keeps me deserves lot of credit kohli \n",
      "예측 요약 :  i don't have no such more than my money virat kohli\n",
      "\n",
      "\n"
     ]
    }
   ],
   "source": [
    "for i in range(50, 100):\n",
    "    print(\"원문 :\", seq2text(encoder_input_test[i]))\n",
    "    print(\"실제 요약 :\", seq2summary(decoder_input_test[i]))\n",
    "    print(\"예측 요약 :\", decode_sequence(encoder_input_test[i].reshape(1, text_max_len)))\n",
    "    print(\"\\n\")"
   ]
  },
  {
   "cell_type": "markdown",
   "id": "paperback-closure",
   "metadata": {},
   "source": [
    "- 실제 요약본과 문장의 길이는 비슷하지만, 동일한 단어가 반복되는 문제가 있다.   \n",
    "\n",
    "\n",
    "## 06. 추출적 요약\n",
    "- 추출적 요약이란 본문에 있는 문장을 그대로 가져와 요약하는 방법입니다.\n",
    "- summa 패키지를 이용하면 summarize 모듈을 사용할 수 있습니다.\n",
    "- 모듈 사용법\n",
    "    - 리스트로 이루어진 여러 문장은 동작하지 않음"
   ]
  },
  {
   "cell_type": "code",
   "execution_count": 77,
   "id": "major-infrared",
   "metadata": {},
   "outputs": [],
   "source": [
    "import requests\n",
    "from summa.summarizer import summarize"
   ]
  },
  {
   "cell_type": "code",
   "execution_count": 106,
   "id": "intensive-canada",
   "metadata": {
    "scrolled": true
   },
   "outputs": [
    {
     "name": "stdout",
     "output_type": "stream",
     "text": [
      "Australia's wicketkeeper-batswoman Alyssa Healy has said that the Australian team needs to be wary of India's women's T20I team captain Harmanpreet Kaur at the ICC Women's T20 World Cup next year.\n"
     ]
    }
   ],
   "source": [
    "text_str = data['text'][200]\n",
    "print(summarize(text_str, ratio=0.5))"
   ]
  },
  {
   "cell_type": "code",
   "execution_count": 99,
   "id": "liable-leave",
   "metadata": {},
   "outputs": [
    {
     "name": "stdout",
     "output_type": "stream",
     "text": [
      "German multinational engineering and electronics firm Bosch has made its first investment in India in Bengaluru-based deep-tech startup SimYog. SimYog has raised about Ã¢ÂÂ¹6.3 crore in the funding round, with participation from early-stage venture capital firm Ideaspring Capital.\n"
     ]
    }
   ],
   "source": [
    "text_str = data['text'][100]\n",
    "print(summarize(text_str, ratio=0.8))"
   ]
  },
  {
   "cell_type": "code",
   "execution_count": 98,
   "id": "naked-puzzle",
   "metadata": {},
   "outputs": [
    {
     "name": "stdout",
     "output_type": "stream",
     "text": [
      "Former Finance Minister Yashwant Sinha on Tuesday demanded a probe into the alleged diversion of loans worth Ã¢ÂÂ¹31,000 crore by Dewan Housing Finance (DHFL).\n",
      "This comes after a media report on Tuesday accused DHFL's controlling shareholders of diverting funds to shell companies to buy assets.\n"
     ]
    }
   ],
   "source": [
    "text_str = data['text'][50]\n",
    "print(summarize(text_str, ratio=0.8))"
   ]
  },
  {
   "cell_type": "markdown",
   "id": "turned-studio",
   "metadata": {},
   "source": [
    "Step 1. 데이터 수집하기\n",
    "\n",
    "Step 2. 데이터 전처리하기 (추상적 요약)\n",
    "실습에서 사용된 전처리를 참고하여 각자 필요하다고 생각하는 전처리를 추가 사용하여 텍스트를 정규화 또는 정제해 보세요. 만약, 불용어 제거를 선택한다면 상대적으로 길이가 짧은 요약 데이터에 대해서도 불용어를 제거하는 것이 좋을지 고민해보세요.\n",
    "\n",
    "Step 3. 어텐션 메커니즘 사용하기 (추상적 요약)\n",
    "일반적인 seq2seq보다는 어텐션 메커니즘을 사용한 seq2seq를 사용하는 것이 더 나은 성능을 얻을 수 있어요. 실습 내용을 참고하여 어텐션 메커니즘을 사용한 seq2seq를 설계해 보세요.\n",
    "\n",
    "Step 4. 실제 결과와 요약문 비교하기 (추상적 요약)\n",
    "원래의 요약문(headlines 열)과 학습을 통해 얻은 추상적 요약의 결과를 비교해보세요.\n",
    "\n",
    "Step 5. Summa을 이용해서 추출적 요약해보기\n",
    "추상적 요약은 추출적 요약과는 달리 문장의 표현력을 다양하게 가져갈 수 있지만, 추출적 요약에 비해서 난이도가 높아요. 반대로 말하면 추출적 요약은 추상적 요약에 비해 난이도가 낮고 기존 문장에서 문장을 꺼내오는 것이므로 잘못된 요약이 나올 가능성이 낮아요.\n",
    "\n",
    "Summa의 summarize를 사용하여 추출적 요약을 해보세요."
   ]
  },
  {
   "cell_type": "markdown",
   "id": "limited-wages",
   "metadata": {},
   "source": [
    "# 루브릭 평가\n",
    "---\n",
    "1. **Abstractive 모델 구성을 위한 텍스트 전처리 단계가 체계적으로 진행되었다.**   \n",
    "\n",
    "\n",
    "2. **텍스트 요약모델이 성공적으로 학습되었음을 확인하였다.**  \n",
    "    \n",
    "     \n",
    "3. **Extractive 요약을 시도해 보고 Abstractive 요약 결과과 함께 비교해 보았다.** \n",
    "   \n",
    "\n",
    "    \n",
    "# 회고\n",
    "---\n",
    "## 어려웠던 점 \n",
    "- 평가\n",
    "    - 영어로 된 기사의 요약을 직접 읽어서 평가하는 방법이 어려웠다.\n",
    "    \n",
    "## 알게된 점 \n",
    "- attention\n",
    "    - 노드의 가중치를 적용하는 attention을 직접 구성하고 동작시켜보았다.\n",
    "- np.random.shuffle\n",
    "    - numpy array의 순서를 indicies로 섞는 코드를 뜯어보면서 익힐 수 있었다.\\\n",
    "- tokenizer의 데이터타입\n",
    "    - tokenizer의 여러 속성의 데이터 타입을 직접 확인하였다. \n",
    "    \n",
    "## 더 공부할 점\n",
    "- 요약 평가 지표 적용\n",
    "    - 직접 읽어서 확인하는 것이 아닌 정량적인 평가 지표가 있다고 한다. 이를 직접 적용시켜보고 싶다.\n",
    "\n",
    "## 다짐\n",
    "- 개념에 대해 파악하고 궁금한 점을 찾아보느라, 시간이 늦어져 학습을 여러 번 해보지 못한 점이 아쉽다. 더 효율적으로 프로젝트를 진행하는 방법을 익혀야겠다. 코드에 대해 공식 다큐먼트로도 이해가 가지 않을 때에는 작은 데이터셋을 직접 만들어 실험해보면서 문법을 공부할 수 있었다."
   ]
  }
 ],
 "metadata": {
  "kernelspec": {
   "display_name": "Python 3",
   "language": "python",
   "name": "python3"
  },
  "language_info": {
   "codemirror_mode": {
    "name": "ipython",
    "version": 3
   },
   "file_extension": ".py",
   "mimetype": "text/x-python",
   "name": "python",
   "nbconvert_exporter": "python",
   "pygments_lexer": "ipython3",
   "version": "3.7.9"
  }
 },
 "nbformat": 4,
 "nbformat_minor": 5
}
