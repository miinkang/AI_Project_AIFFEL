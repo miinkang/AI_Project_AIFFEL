{
 "cells": [
  {
   "cell_type": "markdown",
   "id": "opening-battlefield",
   "metadata": {},
   "source": [
    "# [Exploration 11] 뉴스 요약봇 만들기\n",
    "## 프로젝트 설명 \n",
    "\n",
    "\n",
    "\n",
    "## 프로젝트 목표\n",
    "\n",
    "\n",
    "## 01. load data\n",
    "- 뉴스기사 데이터(newssummarymore.csv)사용 : [링크](https://github.com/sunnysai12345/News_Summary)"
   ]
  },
  {
   "cell_type": "code",
   "execution_count": 2,
   "id": "adjustable-operation",
   "metadata": {},
   "outputs": [
    {
     "name": "stderr",
     "output_type": "stream",
     "text": [
      "[nltk_data] Downloading package stopwords to /home/aiffel-\n",
      "[nltk_data]     dj26/nltk_data...\n",
      "[nltk_data]   Package stopwords is already up-to-date!\n"
     ]
    }
   ],
   "source": [
    "import nltk\n",
    "nltk.download('stopwords')\n",
    "\n",
    "import numpy as np\n",
    "import pandas as pd\n",
    "import os\n",
    "import re\n",
    "import matplotlib.pyplot as plt\n",
    "from nltk.corpus import stopwords\n",
    "from bs4 import BeautifulSoup \n",
    "from tensorflow.keras.preprocessing.text import Tokenizer \n",
    "from tensorflow.keras.preprocessing.sequence import pad_sequences\n",
    "import urllib.request"
   ]
  },
  {
   "cell_type": "code",
   "execution_count": 3,
   "id": "available-renaissance",
   "metadata": {},
   "outputs": [],
   "source": [
    "urllib.request.urlretrieve(\"https://raw.githubusercontent.com/sunnysai12345/News_Summary/master/news_summary_more.csv\", filename=\"news_summary_more.csv\")\n",
    "data = pd.read_csv('news_summary_more.csv', encoding='iso-8859-1')"
   ]
  },
  {
   "cell_type": "code",
   "execution_count": 4,
   "id": "bigger-flight",
   "metadata": {},
   "outputs": [
    {
     "data": {
      "text/html": [
       "<div>\n",
       "<style scoped>\n",
       "    .dataframe tbody tr th:only-of-type {\n",
       "        vertical-align: middle;\n",
       "    }\n",
       "\n",
       "    .dataframe tbody tr th {\n",
       "        vertical-align: top;\n",
       "    }\n",
       "\n",
       "    .dataframe thead th {\n",
       "        text-align: right;\n",
       "    }\n",
       "</style>\n",
       "<table border=\"1\" class=\"dataframe\">\n",
       "  <thead>\n",
       "    <tr style=\"text-align: right;\">\n",
       "      <th></th>\n",
       "      <th>headlines</th>\n",
       "      <th>text</th>\n",
       "    </tr>\n",
       "  </thead>\n",
       "  <tbody>\n",
       "    <tr>\n",
       "      <th>0</th>\n",
       "      <td>upGrad learner switches to career in ML &amp; Al w...</td>\n",
       "      <td>Saurav Kant, an alumnus of upGrad and IIIT-B's...</td>\n",
       "    </tr>\n",
       "    <tr>\n",
       "      <th>1</th>\n",
       "      <td>Delhi techie wins free food from Swiggy for on...</td>\n",
       "      <td>Kunal Shah's credit card bill payment platform...</td>\n",
       "    </tr>\n",
       "    <tr>\n",
       "      <th>2</th>\n",
       "      <td>New Zealand end Rohit Sharma-led India's 12-ma...</td>\n",
       "      <td>New Zealand defeated India by 8 wickets in the...</td>\n",
       "    </tr>\n",
       "    <tr>\n",
       "      <th>3</th>\n",
       "      <td>Aegon life iTerm insurance plan helps customer...</td>\n",
       "      <td>With Aegon Life iTerm Insurance plan, customer...</td>\n",
       "    </tr>\n",
       "    <tr>\n",
       "      <th>4</th>\n",
       "      <td>Have known Hirani for yrs, what if MeToo claim...</td>\n",
       "      <td>Speaking about the sexual harassment allegatio...</td>\n",
       "    </tr>\n",
       "  </tbody>\n",
       "</table>\n",
       "</div>"
      ],
      "text/plain": [
       "                                           headlines  \\\n",
       "0  upGrad learner switches to career in ML & Al w...   \n",
       "1  Delhi techie wins free food from Swiggy for on...   \n",
       "2  New Zealand end Rohit Sharma-led India's 12-ma...   \n",
       "3  Aegon life iTerm insurance plan helps customer...   \n",
       "4  Have known Hirani for yrs, what if MeToo claim...   \n",
       "\n",
       "                                                text  \n",
       "0  Saurav Kant, an alumnus of upGrad and IIIT-B's...  \n",
       "1  Kunal Shah's credit card bill payment platform...  \n",
       "2  New Zealand defeated India by 8 wickets in the...  \n",
       "3  With Aegon Life iTerm Insurance plan, customer...  \n",
       "4  Speaking about the sexual harassment allegatio...  "
      ]
     },
     "execution_count": 4,
     "metadata": {},
     "output_type": "execute_result"
    }
   ],
   "source": [
    "data.head()"
   ]
  },
  {
   "cell_type": "code",
   "execution_count": 5,
   "id": "statutory-fifth",
   "metadata": {},
   "outputs": [
    {
     "data": {
      "text/html": [
       "<div>\n",
       "<style scoped>\n",
       "    .dataframe tbody tr th:only-of-type {\n",
       "        vertical-align: middle;\n",
       "    }\n",
       "\n",
       "    .dataframe tbody tr th {\n",
       "        vertical-align: top;\n",
       "    }\n",
       "\n",
       "    .dataframe thead th {\n",
       "        text-align: right;\n",
       "    }\n",
       "</style>\n",
       "<table border=\"1\" class=\"dataframe\">\n",
       "  <thead>\n",
       "    <tr style=\"text-align: right;\">\n",
       "      <th></th>\n",
       "      <th>headlines</th>\n",
       "      <th>text</th>\n",
       "    </tr>\n",
       "  </thead>\n",
       "  <tbody>\n",
       "    <tr>\n",
       "      <th>9142</th>\n",
       "      <td>Wiped-out US hedge fund manager confesses his ...</td>\n",
       "      <td>A US-based hedge fund manager has apologised f...</td>\n",
       "    </tr>\n",
       "    <tr>\n",
       "      <th>13386</th>\n",
       "      <td>Couldn't spell 'entrepreneur' when I heard it ...</td>\n",
       "      <td>OYO's Founder and CEO, 24-year-old Ritesh Agar...</td>\n",
       "    </tr>\n",
       "    <tr>\n",
       "      <th>72925</th>\n",
       "      <td>Team declares at 18-1, loses match but wins title</td>\n",
       "      <td>Carew Cricket Club, a Welsh club, won their le...</td>\n",
       "    </tr>\n",
       "    <tr>\n",
       "      <th>73935</th>\n",
       "      <td>Mark Wahlberg named world's highest paid actor...</td>\n",
       "      <td>Deepwater Horizon actor Mark Wahlberg has topp...</td>\n",
       "    </tr>\n",
       "    <tr>\n",
       "      <th>70121</th>\n",
       "      <td>Happy b'day to my favouritest human: Akshay on...</td>\n",
       "      <td>Akshay Kumar shared a picture of his son Aarav...</td>\n",
       "    </tr>\n",
       "    <tr>\n",
       "      <th>75513</th>\n",
       "      <td>Haven't received formal order: Pahlaj on Censo...</td>\n",
       "      <td>Ousted Censor Board Chief Pahlaj Nihalani has ...</td>\n",
       "    </tr>\n",
       "    <tr>\n",
       "      <th>97279</th>\n",
       "      <td>How did hair removal become a norm for women?</td>\n",
       "      <td>It is believed that Ancient Egyptians removed ...</td>\n",
       "    </tr>\n",
       "    <tr>\n",
       "      <th>68677</th>\n",
       "      <td>HC relief for Mumbai eatery which billed Ã¢ÂÂ...</td>\n",
       "      <td>The Bombay High Court has restrained governmen...</td>\n",
       "    </tr>\n",
       "    <tr>\n",
       "      <th>78356</th>\n",
       "      <td>Rolling Stone features Trudeau, asks why can't...</td>\n",
       "      <td>US magazine Rolling Stone featured Canadian PM...</td>\n",
       "    </tr>\n",
       "    <tr>\n",
       "      <th>7280</th>\n",
       "      <td>Top 10 fastest-growing cities from 2019 to 203...</td>\n",
       "      <td>All the top 10 fastest growing cities in the w...</td>\n",
       "    </tr>\n",
       "  </tbody>\n",
       "</table>\n",
       "</div>"
      ],
      "text/plain": [
       "                                               headlines  \\\n",
       "9142   Wiped-out US hedge fund manager confesses his ...   \n",
       "13386  Couldn't spell 'entrepreneur' when I heard it ...   \n",
       "72925  Team declares at 18-1, loses match but wins title   \n",
       "73935  Mark Wahlberg named world's highest paid actor...   \n",
       "70121  Happy b'day to my favouritest human: Akshay on...   \n",
       "75513  Haven't received formal order: Pahlaj on Censo...   \n",
       "97279      How did hair removal become a norm for women?   \n",
       "68677  HC relief for Mumbai eatery which billed Ã¢ÂÂ...   \n",
       "78356  Rolling Stone features Trudeau, asks why can't...   \n",
       "7280   Top 10 fastest-growing cities from 2019 to 203...   \n",
       "\n",
       "                                                    text  \n",
       "9142   A US-based hedge fund manager has apologised f...  \n",
       "13386  OYO's Founder and CEO, 24-year-old Ritesh Agar...  \n",
       "72925  Carew Cricket Club, a Welsh club, won their le...  \n",
       "73935  Deepwater Horizon actor Mark Wahlberg has topp...  \n",
       "70121  Akshay Kumar shared a picture of his son Aarav...  \n",
       "75513  Ousted Censor Board Chief Pahlaj Nihalani has ...  \n",
       "97279  It is believed that Ancient Egyptians removed ...  \n",
       "68677  The Bombay High Court has restrained governmen...  \n",
       "78356  US magazine Rolling Stone featured Canadian PM...  \n",
       "7280   All the top 10 fastest growing cities in the w...  "
      ]
     },
     "execution_count": 5,
     "metadata": {},
     "output_type": "execute_result"
    }
   ],
   "source": [
    "data.sample(10)"
   ]
  },
  {
   "cell_type": "markdown",
   "id": "reserved-clarity",
   "metadata": {},
   "source": [
    "## 02. 데이터 전처리\n",
    "- 중복샘플, NULL 처리"
   ]
  },
  {
   "cell_type": "code",
   "execution_count": 8,
   "id": "accompanied-report",
   "metadata": {},
   "outputs": [
    {
     "name": "stdout",
     "output_type": "stream",
     "text": [
      "전체 data 길이 : 98401\n",
      "unique한 headline 수: 98280\n",
      "unique한 text 수: 98360\n"
     ]
    }
   ],
   "source": [
    "print('전체 data 길이 :', len(data))\n",
    "print('unique한 headline 수:', data.headlines.nunique())\n",
    "print('unique한 text 수:', data.text.nunique())"
   ]
  },
  {
   "cell_type": "markdown",
   "id": "fourth-edinburgh",
   "metadata": {},
   "source": [
    "- text를 기준으로 중복데이터를 제거"
   ]
  },
  {
   "cell_type": "code",
   "execution_count": 10,
   "id": "early-terrace",
   "metadata": {
    "scrolled": true
   },
   "outputs": [
    {
     "name": "stdout",
     "output_type": "stream",
     "text": [
      "전체 data 길이 : 98360\n",
      "unique한 headline 수: 98262\n"
     ]
    }
   ],
   "source": [
    "data.drop_duplicates(subset=['text'], inplace = True)\n",
    "print('전체 data 길이 :', len(data))\n",
    "print('unique한 headline 수:', data.headlines.nunique())"
   ]
  },
  {
   "cell_type": "markdown",
   "id": "civic-preserve",
   "metadata": {},
   "source": [
    "- null 확인 : 없음!"
   ]
  },
  {
   "cell_type": "code",
   "execution_count": 11,
   "id": "ready-status",
   "metadata": {
    "scrolled": true
   },
   "outputs": [
    {
     "name": "stdout",
     "output_type": "stream",
     "text": [
      "headlines    0\n",
      "text         0\n",
      "dtype: int64\n"
     ]
    }
   ],
   "source": [
    "print(data.isnull().sum())"
   ]
  },
  {
   "cell_type": "markdown",
   "id": "agreed-characteristic",
   "metadata": {},
   "source": [
    "- text normalization(텍스트 정규화)\n",
    "    - it'll == it will : 문법을 통일화해준다."
   ]
  },
  {
   "cell_type": "code",
   "execution_count": null,
   "id": "executive-nothing",
   "metadata": {},
   "outputs": [],
   "source": []
  },
  {
   "cell_type": "code",
   "execution_count": null,
   "id": "auburn-client",
   "metadata": {},
   "outputs": [],
   "source": []
  },
  {
   "cell_type": "code",
   "execution_count": null,
   "id": "extreme-procedure",
   "metadata": {},
   "outputs": [],
   "source": []
  },
  {
   "cell_type": "code",
   "execution_count": null,
   "id": "hydraulic-browser",
   "metadata": {},
   "outputs": [],
   "source": []
  },
  {
   "cell_type": "code",
   "execution_count": null,
   "id": "northern-secretary",
   "metadata": {},
   "outputs": [],
   "source": []
  },
  {
   "cell_type": "code",
   "execution_count": null,
   "id": "advance-stationery",
   "metadata": {},
   "outputs": [],
   "source": []
  },
  {
   "cell_type": "code",
   "execution_count": null,
   "id": "electronic-sponsorship",
   "metadata": {},
   "outputs": [],
   "source": []
  },
  {
   "cell_type": "code",
   "execution_count": null,
   "id": "protective-participant",
   "metadata": {},
   "outputs": [],
   "source": []
  },
  {
   "cell_type": "code",
   "execution_count": null,
   "id": "collected-journalist",
   "metadata": {},
   "outputs": [],
   "source": []
  },
  {
   "cell_type": "code",
   "execution_count": null,
   "id": "grateful-couple",
   "metadata": {},
   "outputs": [],
   "source": []
  },
  {
   "cell_type": "markdown",
   "id": "negative-mumbai",
   "metadata": {},
   "source": [
    "Step 1. 데이터 수집하기\n",
    "\n",
    "Step 2. 데이터 전처리하기 (추상적 요약)\n",
    "실습에서 사용된 전처리를 참고하여 각자 필요하다고 생각하는 전처리를 추가 사용하여 텍스트를 정규화 또는 정제해 보세요. 만약, 불용어 제거를 선택한다면 상대적으로 길이가 짧은 요약 데이터에 대해서도 불용어를 제거하는 것이 좋을지 고민해보세요.\n",
    "\n",
    "Step 3. 어텐션 메커니즘 사용하기 (추상적 요약)\n",
    "일반적인 seq2seq보다는 어텐션 메커니즘을 사용한 seq2seq를 사용하는 것이 더 나은 성능을 얻을 수 있어요. 실습 내용을 참고하여 어텐션 메커니즘을 사용한 seq2seq를 설계해 보세요.\n",
    "\n",
    "Step 4. 실제 결과와 요약문 비교하기 (추상적 요약)\n",
    "원래의 요약문(headlines 열)과 학습을 통해 얻은 추상적 요약의 결과를 비교해보세요.\n",
    "\n",
    "Step 5. Summa을 이용해서 추출적 요약해보기\n",
    "추상적 요약은 추출적 요약과는 달리 문장의 표현력을 다양하게 가져갈 수 있지만, 추출적 요약에 비해서 난이도가 높아요. 반대로 말하면 추출적 요약은 추상적 요약에 비해 난이도가 낮고 기존 문장에서 문장을 꺼내오는 것이므로 잘못된 요약이 나올 가능성이 낮아요.\n",
    "\n",
    "Summa의 summarize를 사용하여 추출적 요약을 해보세요."
   ]
  },
  {
   "cell_type": "markdown",
   "id": "massive-insured",
   "metadata": {},
   "source": [
    "# 정리     \n",
    "---        \n",
    "1. 이미지 로드\n",
    "2. DeepLab 모델 생성\n",
    "3. pretrained weight 불러오기\n",
    "4. 피사체 sementic segmentation\n",
    "5. 배경 blur처리\n",
    "6. 피사체, 배경 합성 \n",
    "\n",
    "# 루브릭 평가\n",
    "---\n",
    "1. **Abstractive 모델 구성을 위한 텍스트 전처리 단계가 체계적으로 진행되었다.**   \n",
    "    - 분석단계, 정제단계, 정규화와 불용어 제거, 데이터셋 분리, 인코딩 과정이 빠짐없이 체계적으로 진행되었다.\n",
    "\n",
    "\n",
    "2. **텍스트 요약모델이 성공적으로 학습되었음을 확인하였다.**  \n",
    "    - 모델학습이 안정적으로 수렴되었음을 그래프를 통해 확인하였으며, 실제 요약문과 유사한 요약문장을 얻을 수 있었다. \n",
    "    \n",
    "     \n",
    "3. **Extractive 요약을 시도해 보고 Abstractive 요약 결과과 함께 비교해 보았다.** \n",
    "    - 두 요약 결과를 문법완성도 측면과 핵심단어 포함 측면으로 나누어 비교분석 결과를 제시하였다.\n",
    "   \n",
    "\n",
    "    \n",
    "# 회고\n",
    "---\n",
    "## 어려웠던 점 \n",
    "- 모델에 대한 이해\n",
    "    - 이미 학습된 가중치를 불러오기 때문에 그 구조에 대해서 자세하게 알기 힘들어 따로 여러 자료들을 찾아보았다.\n",
    "- 사진을 촬영하는 방법\n",
    "    - 참고 글을 계속해서 읽어보아도 제대로 이해되지는 않았다.\n",
    "    \n",
    "## 알게된 점 \n",
    "- 스티커 사진 프로젝트([Exp.3](https://github.com/miinkang/Project_AIFFEL/blob/main/%5BE-03%5Dcamera_sticker_application.ipynb))를 할 때 사용했던, 여러 이미지(벡터)연산들을 다시 사용해보면서 개념을 확실하게 이해했다.\n",
    "- openCV의 여러 함수들도 다시 학습할 수 있었다.\n",
    "    \n",
    "## 더 공부할 점\n",
    "- 사진\n",
    "    - 실제 카메라의 작동법에 더 알아두면 이미지 처리하는 데에 많은 인사이트를 얻을 수 있을 것이라고 생각한다.\n",
    "    \n",
    "## 시도한 것들\n",
    "- openCV의 여러 함수들의 파라미터들을 변경해보면서 쓰임새를 익혔다.\n",
    "\n",
    "## 다짐\n",
    "- 모델이 왜 연구되었는지에 대한 배경을 아는 것이 확실히 모델의 구조를 이해하기 쉽게한다."
   ]
  }
 ],
 "metadata": {
  "kernelspec": {
   "display_name": "Python 3",
   "language": "python",
   "name": "python3"
  },
  "language_info": {
   "codemirror_mode": {
    "name": "ipython",
    "version": 3
   },
   "file_extension": ".py",
   "mimetype": "text/x-python",
   "name": "python",
   "nbconvert_exporter": "python",
   "pygments_lexer": "ipython3",
   "version": "3.7.9"
  }
 },
 "nbformat": 4,
 "nbformat_minor": 5
}
