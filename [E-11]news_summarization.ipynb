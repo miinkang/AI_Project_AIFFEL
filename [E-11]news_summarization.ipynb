{
 "cells": [
  {
   "cell_type": "markdown",
   "id": "turkish-pilot",
   "metadata": {},
   "source": [
    "# [Exploration 11] 뉴스 요약봇 만들기\n",
    "## 프로젝트 설명 \n",
    "\n",
    "\n",
    "\n",
    "## 프로젝트 목표\n",
    "\n",
    "\n",
    "## 01. load image"
   ]
  },
  {
   "cell_type": "markdown",
   "id": "affiliated-packing",
   "metadata": {},
   "source": [
    "# 정리     \n",
    "---        \n",
    "1. 이미지 로드\n",
    "2. DeepLab 모델 생성\n",
    "3. pretrained weight 불러오기\n",
    "4. 피사체 sementic segmentation\n",
    "5. 배경 blur처리\n",
    "6. 피사체, 배경 합성 \n",
    "\n",
    "# 루브릭 평가\n",
    "---\n",
    "1. **인물모드 사진을 성공적으로 제작하였다.**   \n",
    "    - 인물 모드 사진, 고양이 사진, 합성사진을 제작했다.\n",
    "\n",
    "\n",
    "2. **제작한 인물모드 사진들에서 나타나는 문제점을 정확히 지적하였다.**  \n",
    "    - 인물 모드 사진, 강아지 사진에서 문제점이 발견되었다. \n",
    "    \n",
    "     \n",
    "3. **인물모드 사진의 문제점을 개선할 수 있는 솔루션을 적절히 제시하였다.**  \n",
    "   \n",
    "\n",
    "    \n",
    "# 회고\n",
    "---\n",
    "## 어려웠던 점 \n",
    "- 모델에 대한 이해\n",
    "    - 이미 학습된 가중치를 불러오기 때문에 그 구조에 대해서 자세하게 알기 힘들어 따로 여러 자료들을 찾아보았다.\n",
    "- 사진을 촬영하는 방법\n",
    "    - 참고 글을 계속해서 읽어보아도 제대로 이해되지는 않았다.\n",
    "    \n",
    "## 알게된 점 \n",
    "- 스티커 사진 프로젝트([Exp.3](https://github.com/miinkang/Project_AIFFEL/blob/main/%5BE-03%5Dcamera_sticker_application.ipynb))를 할 때 사용했던, 여러 이미지(벡터)연산들을 다시 사용해보면서 개념을 확실하게 이해했다.\n",
    "- openCV의 여러 함수들도 다시 학습할 수 있었다.\n",
    "    \n",
    "## 더 공부할 점\n",
    "- 사진\n",
    "    - 실제 카메라의 작동법에 더 알아두면 이미지 처리하는 데에 많은 인사이트를 얻을 수 있을 것이라고 생각한다.\n",
    "    \n",
    "## 시도한 것들\n",
    "- openCV의 여러 함수들의 파라미터들을 변경해보면서 쓰임새를 익혔다.\n",
    "\n",
    "## 다짐\n",
    "- 모델이 왜 연구되었는지에 대한 배경을 아는 것이 확실히 모델의 구조를 이해하기 쉽게한다."
   ]
  }
 ],
 "metadata": {
  "kernelspec": {
   "display_name": "Python 3",
   "language": "python",
   "name": "python3"
  },
  "language_info": {
   "codemirror_mode": {
    "name": "ipython",
    "version": 3
   },
   "file_extension": ".py",
   "mimetype": "text/x-python",
   "name": "python",
   "nbconvert_exporter": "python",
   "pygments_lexer": "ipython3",
   "version": "3.7.9"
  }
 },
 "nbformat": 4,
 "nbformat_minor": 5
}
