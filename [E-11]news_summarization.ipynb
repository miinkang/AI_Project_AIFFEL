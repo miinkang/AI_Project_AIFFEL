{
 "cells": [
  {
   "cell_type": "markdown",
   "id": "outside-singles",
   "metadata": {},
   "source": [
    "# [Exploration 11] 뉴스 요약봇 만들기\n",
    "## 프로젝트 설명 \n",
    "\n",
    "\n",
    "\n",
    "## 프로젝트 목표\n",
    "\n",
    "\n",
    "## 01. load data\n",
    "- 뉴스기사 데이터(newssummarymore.csv)사용 : [링크](https://github.com/sunnysai12345/News_Summary)"
   ]
  },
  {
   "cell_type": "code",
   "execution_count": 1,
   "id": "dominican-checklist",
   "metadata": {},
   "outputs": [
    {
     "name": "stderr",
     "output_type": "stream",
     "text": [
      "[nltk_data] Downloading package stopwords to /home/aiffel-\n",
      "[nltk_data]     dj26/nltk_data...\n",
      "[nltk_data]   Package stopwords is already up-to-date!\n"
     ]
    }
   ],
   "source": [
    "import nltk\n",
    "nltk.download('stopwords')\n",
    "\n",
    "import numpy as np\n",
    "import pandas as pd\n",
    "import os\n",
    "import re\n",
    "import matplotlib.pyplot as plt\n",
    "from nltk.corpus import stopwords\n",
    "from bs4 import BeautifulSoup \n",
    "from tensorflow.keras.preprocessing.text import Tokenizer \n",
    "from tensorflow.keras.preprocessing.sequence import pad_sequences\n",
    "import urllib.request"
   ]
  },
  {
   "cell_type": "code",
   "execution_count": 2,
   "id": "continent-sullivan",
   "metadata": {},
   "outputs": [],
   "source": [
    "urllib.request.urlretrieve(\"https://raw.githubusercontent.com/sunnysai12345/News_Summary/master/news_summary_more.csv\", filename=\"news_summary_more.csv\")\n",
    "data = pd.read_csv('news_summary_more.csv', encoding='iso-8859-1')"
   ]
  },
  {
   "cell_type": "code",
   "execution_count": 3,
   "id": "signal-qatar",
   "metadata": {},
   "outputs": [
    {
     "data": {
      "text/html": [
       "<div>\n",
       "<style scoped>\n",
       "    .dataframe tbody tr th:only-of-type {\n",
       "        vertical-align: middle;\n",
       "    }\n",
       "\n",
       "    .dataframe tbody tr th {\n",
       "        vertical-align: top;\n",
       "    }\n",
       "\n",
       "    .dataframe thead th {\n",
       "        text-align: right;\n",
       "    }\n",
       "</style>\n",
       "<table border=\"1\" class=\"dataframe\">\n",
       "  <thead>\n",
       "    <tr style=\"text-align: right;\">\n",
       "      <th></th>\n",
       "      <th>headlines</th>\n",
       "      <th>text</th>\n",
       "    </tr>\n",
       "  </thead>\n",
       "  <tbody>\n",
       "    <tr>\n",
       "      <th>0</th>\n",
       "      <td>upGrad learner switches to career in ML &amp; Al w...</td>\n",
       "      <td>Saurav Kant, an alumnus of upGrad and IIIT-B's...</td>\n",
       "    </tr>\n",
       "    <tr>\n",
       "      <th>1</th>\n",
       "      <td>Delhi techie wins free food from Swiggy for on...</td>\n",
       "      <td>Kunal Shah's credit card bill payment platform...</td>\n",
       "    </tr>\n",
       "    <tr>\n",
       "      <th>2</th>\n",
       "      <td>New Zealand end Rohit Sharma-led India's 12-ma...</td>\n",
       "      <td>New Zealand defeated India by 8 wickets in the...</td>\n",
       "    </tr>\n",
       "    <tr>\n",
       "      <th>3</th>\n",
       "      <td>Aegon life iTerm insurance plan helps customer...</td>\n",
       "      <td>With Aegon Life iTerm Insurance plan, customer...</td>\n",
       "    </tr>\n",
       "    <tr>\n",
       "      <th>4</th>\n",
       "      <td>Have known Hirani for yrs, what if MeToo claim...</td>\n",
       "      <td>Speaking about the sexual harassment allegatio...</td>\n",
       "    </tr>\n",
       "  </tbody>\n",
       "</table>\n",
       "</div>"
      ],
      "text/plain": [
       "                                           headlines  \\\n",
       "0  upGrad learner switches to career in ML & Al w...   \n",
       "1  Delhi techie wins free food from Swiggy for on...   \n",
       "2  New Zealand end Rohit Sharma-led India's 12-ma...   \n",
       "3  Aegon life iTerm insurance plan helps customer...   \n",
       "4  Have known Hirani for yrs, what if MeToo claim...   \n",
       "\n",
       "                                                text  \n",
       "0  Saurav Kant, an alumnus of upGrad and IIIT-B's...  \n",
       "1  Kunal Shah's credit card bill payment platform...  \n",
       "2  New Zealand defeated India by 8 wickets in the...  \n",
       "3  With Aegon Life iTerm Insurance plan, customer...  \n",
       "4  Speaking about the sexual harassment allegatio...  "
      ]
     },
     "execution_count": 3,
     "metadata": {},
     "output_type": "execute_result"
    }
   ],
   "source": [
    "data.head()"
   ]
  },
  {
   "cell_type": "code",
   "execution_count": 4,
   "id": "fabulous-helen",
   "metadata": {},
   "outputs": [
    {
     "data": {
      "text/html": [
       "<div>\n",
       "<style scoped>\n",
       "    .dataframe tbody tr th:only-of-type {\n",
       "        vertical-align: middle;\n",
       "    }\n",
       "\n",
       "    .dataframe tbody tr th {\n",
       "        vertical-align: top;\n",
       "    }\n",
       "\n",
       "    .dataframe thead th {\n",
       "        text-align: right;\n",
       "    }\n",
       "</style>\n",
       "<table border=\"1\" class=\"dataframe\">\n",
       "  <thead>\n",
       "    <tr style=\"text-align: right;\">\n",
       "      <th></th>\n",
       "      <th>headlines</th>\n",
       "      <th>text</th>\n",
       "    </tr>\n",
       "  </thead>\n",
       "  <tbody>\n",
       "    <tr>\n",
       "      <th>8223</th>\n",
       "      <td>Video: Ranveer Singh turns DJ at his 2nd Mumba...</td>\n",
       "      <td>A video shows Ranveer Singh turning DJ at his ...</td>\n",
       "    </tr>\n",
       "    <tr>\n",
       "      <th>67906</th>\n",
       "      <td>Ryanair given deadline to give 4L flyers alter...</td>\n",
       "      <td>The UK Civil Aviation Authority (CAA) has orde...</td>\n",
       "    </tr>\n",
       "    <tr>\n",
       "      <th>87567</th>\n",
       "      <td>1st Star Wars film made for $11 million earned...</td>\n",
       "      <td>The first Star Wars film 'Star Wars: Episode I...</td>\n",
       "    </tr>\n",
       "    <tr>\n",
       "      <th>73343</th>\n",
       "      <td>Haryana Dy Advocate Gen sacked for carrying Ra...</td>\n",
       "      <td>Haryana's Deputy Advocate General Gurdass Sing...</td>\n",
       "    </tr>\n",
       "    <tr>\n",
       "      <th>95320</th>\n",
       "      <td>Bihar's model of Grand Alliance can defeat BJP...</td>\n",
       "      <td>Bihar Chief Minister Nitish Kumar on Monday sa...</td>\n",
       "    </tr>\n",
       "    <tr>\n",
       "      <th>88433</th>\n",
       "      <td>Google announces Android version for 1 GB RAM ...</td>\n",
       "      <td>Technology major Google on Wednesday announced...</td>\n",
       "    </tr>\n",
       "    <tr>\n",
       "      <th>51636</th>\n",
       "      <td>Mumbai Police to have 8-hour duty schedule for...</td>\n",
       "      <td>The Mumbai Police will be switching to an eigh...</td>\n",
       "    </tr>\n",
       "    <tr>\n",
       "      <th>70365</th>\n",
       "      <td>Hospital operation theatre's roof collapses tw...</td>\n",
       "      <td>The roof of an operation theatre of Karnataka'...</td>\n",
       "    </tr>\n",
       "    <tr>\n",
       "      <th>54850</th>\n",
       "      <td>School van driver held for molesting Class 8 s...</td>\n",
       "      <td>A 32-year-old school van driver was arrested o...</td>\n",
       "    </tr>\n",
       "    <tr>\n",
       "      <th>81308</th>\n",
       "      <td>Man who wrote book on surviving bulls trampled...</td>\n",
       "      <td>An American man who was trampled by a bull in ...</td>\n",
       "    </tr>\n",
       "  </tbody>\n",
       "</table>\n",
       "</div>"
      ],
      "text/plain": [
       "                                               headlines  \\\n",
       "8223   Video: Ranveer Singh turns DJ at his 2nd Mumba...   \n",
       "67906  Ryanair given deadline to give 4L flyers alter...   \n",
       "87567  1st Star Wars film made for $11 million earned...   \n",
       "73343  Haryana Dy Advocate Gen sacked for carrying Ra...   \n",
       "95320  Bihar's model of Grand Alliance can defeat BJP...   \n",
       "88433  Google announces Android version for 1 GB RAM ...   \n",
       "51636  Mumbai Police to have 8-hour duty schedule for...   \n",
       "70365  Hospital operation theatre's roof collapses tw...   \n",
       "54850  School van driver held for molesting Class 8 s...   \n",
       "81308  Man who wrote book on surviving bulls trampled...   \n",
       "\n",
       "                                                    text  \n",
       "8223   A video shows Ranveer Singh turning DJ at his ...  \n",
       "67906  The UK Civil Aviation Authority (CAA) has orde...  \n",
       "87567  The first Star Wars film 'Star Wars: Episode I...  \n",
       "73343  Haryana's Deputy Advocate General Gurdass Sing...  \n",
       "95320  Bihar Chief Minister Nitish Kumar on Monday sa...  \n",
       "88433  Technology major Google on Wednesday announced...  \n",
       "51636  The Mumbai Police will be switching to an eigh...  \n",
       "70365  The roof of an operation theatre of Karnataka'...  \n",
       "54850  A 32-year-old school van driver was arrested o...  \n",
       "81308  An American man who was trampled by a bull in ...  "
      ]
     },
     "execution_count": 4,
     "metadata": {},
     "output_type": "execute_result"
    }
   ],
   "source": [
    "data.sample(10)"
   ]
  },
  {
   "cell_type": "markdown",
   "id": "colonial-desire",
   "metadata": {},
   "source": [
    "## 02. 데이터 전처리\n",
    "- 중복샘플, NULL 처리"
   ]
  },
  {
   "cell_type": "code",
   "execution_count": 5,
   "id": "frank-canal",
   "metadata": {},
   "outputs": [
    {
     "name": "stdout",
     "output_type": "stream",
     "text": [
      "전체 data 길이 : 98401\n",
      "unique한 headline 수: 98280\n",
      "unique한 text 수: 98360\n"
     ]
    }
   ],
   "source": [
    "print('전체 data 길이 :', len(data))\n",
    "print('unique한 headline 수:', data.headlines.nunique())\n",
    "print('unique한 text 수:', data.text.nunique())"
   ]
  },
  {
   "cell_type": "markdown",
   "id": "secondary-camel",
   "metadata": {},
   "source": [
    "- text를 기준으로 중복데이터를 제거"
   ]
  },
  {
   "cell_type": "code",
   "execution_count": 6,
   "id": "worst-apartment",
   "metadata": {
    "scrolled": true
   },
   "outputs": [
    {
     "name": "stdout",
     "output_type": "stream",
     "text": [
      "전체 data 길이 : 98360\n",
      "unique한 headline 수: 98262\n"
     ]
    }
   ],
   "source": [
    "data.drop_duplicates(subset=['text'], inplace = True)\n",
    "print('전체 data 길이 :', len(data))\n",
    "print('unique한 headline 수:', data.headlines.nunique())"
   ]
  },
  {
   "cell_type": "markdown",
   "id": "dutch-discussion",
   "metadata": {},
   "source": [
    "- null 확인 : 없음!"
   ]
  },
  {
   "cell_type": "code",
   "execution_count": 7,
   "id": "sought-context",
   "metadata": {
    "scrolled": true
   },
   "outputs": [
    {
     "name": "stdout",
     "output_type": "stream",
     "text": [
      "headlines    0\n",
      "text         0\n",
      "dtype: int64\n"
     ]
    }
   ],
   "source": [
    "print(data.isnull().sum())"
   ]
  },
  {
   "cell_type": "markdown",
   "id": "aboriginal-victoria",
   "metadata": {},
   "source": [
    "- text normalization(텍스트 정규화)\n",
    "    - it'll == it will : 문법을 통일화해준다."
   ]
  },
  {
   "cell_type": "code",
   "execution_count": 8,
   "id": "african-latex",
   "metadata": {},
   "outputs": [
    {
     "name": "stdout",
     "output_type": "stream",
     "text": [
      "정규화 사전의 수:  120\n"
     ]
    }
   ],
   "source": [
    "contractions = {\"ain't\": \"is not\", \"aren't\": \"are not\",\"can't\": \"cannot\", \"'cause\": \"because\", \"could've\": \"could have\", \"couldn't\": \"could not\",\n",
    "                           \"didn't\": \"did not\",  \"doesn't\": \"does not\", \"don't\": \"do not\", \"hadn't\": \"had not\", \"hasn't\": \"has not\", \"haven't\": \"have not\",\n",
    "                           \"he'd\": \"he would\",\"he'll\": \"he will\", \"he's\": \"he is\", \"how'd\": \"how did\", \"how'd'y\": \"how do you\", \"how'll\": \"how will\", \"how's\": \"how is\",\n",
    "                           \"I'd\": \"I would\", \"I'd've\": \"I would have\", \"I'll\": \"I will\", \"I'll've\": \"I will have\",\"I'm\": \"I am\", \"I've\": \"I have\", \"i'd\": \"i would\",\n",
    "                           \"i'd've\": \"i would have\", \"i'll\": \"i will\",  \"i'll've\": \"i will have\",\"i'm\": \"i am\", \"i've\": \"i have\", \"isn't\": \"is not\", \"it'd\": \"it would\",\n",
    "                           \"it'd've\": \"it would have\", \"it'll\": \"it will\", \"it'll've\": \"it will have\",\"it's\": \"it is\", \"let's\": \"let us\", \"ma'am\": \"madam\",\n",
    "                           \"mayn't\": \"may not\", \"might've\": \"might have\",\"mightn't\": \"might not\",\"mightn't've\": \"might not have\", \"must've\": \"must have\",\n",
    "                           \"mustn't\": \"must not\", \"mustn't've\": \"must not have\", \"needn't\": \"need not\", \"needn't've\": \"need not have\",\"o'clock\": \"of the clock\",\n",
    "                           \"oughtn't\": \"ought not\", \"oughtn't've\": \"ought not have\", \"shan't\": \"shall not\", \"sha'n't\": \"shall not\", \"shan't've\": \"shall not have\",\n",
    "                           \"she'd\": \"she would\", \"she'd've\": \"she would have\", \"she'll\": \"she will\", \"she'll've\": \"she will have\", \"she's\": \"she is\",\n",
    "                           \"should've\": \"should have\", \"shouldn't\": \"should not\", \"shouldn't've\": \"should not have\", \"so've\": \"so have\",\"so's\": \"so as\",\n",
    "                           \"this's\": \"this is\",\"that'd\": \"that would\", \"that'd've\": \"that would have\", \"that's\": \"that is\", \"there'd\": \"there would\",\n",
    "                           \"there'd've\": \"there would have\", \"there's\": \"there is\", \"here's\": \"here is\",\"they'd\": \"they would\", \"they'd've\": \"they would have\",\n",
    "                           \"they'll\": \"they will\", \"they'll've\": \"they will have\", \"they're\": \"they are\", \"they've\": \"they have\", \"to've\": \"to have\",\n",
    "                           \"wasn't\": \"was not\", \"we'd\": \"we would\", \"we'd've\": \"we would have\", \"we'll\": \"we will\", \"we'll've\": \"we will have\", \"we're\": \"we are\",\n",
    "                           \"we've\": \"we have\", \"weren't\": \"were not\", \"what'll\": \"what will\", \"what'll've\": \"what will have\", \"what're\": \"what are\",\n",
    "                           \"what's\": \"what is\", \"what've\": \"what have\", \"when's\": \"when is\", \"when've\": \"when have\", \"where'd\": \"where did\", \"where's\": \"where is\",\n",
    "                           \"where've\": \"where have\", \"who'll\": \"who will\", \"who'll've\": \"who will have\", \"who's\": \"who is\", \"who've\": \"who have\",\n",
    "                           \"why's\": \"why is\", \"why've\": \"why have\", \"will've\": \"will have\", \"won't\": \"will not\", \"won't've\": \"will not have\",\n",
    "                           \"would've\": \"would have\", \"wouldn't\": \"would not\", \"wouldn't've\": \"would not have\", \"y'all\": \"you all\",\n",
    "                           \"y'all'd\": \"you all would\",\"y'all'd've\": \"you all would have\",\"y'all're\": \"you all are\",\"y'all've\": \"you all have\",\n",
    "                           \"you'd\": \"you would\", \"you'd've\": \"you would have\", \"you'll\": \"you will\", \"you'll've\": \"you will have\",\n",
    "                           \"you're\": \"you are\", \"you've\": \"you have\"}\n",
    "\n",
    "print(\"정규화 사전의 수: \",len(contractions))"
   ]
  },
  {
   "cell_type": "code",
   "execution_count": 9,
   "id": "funky-occasion",
   "metadata": {},
   "outputs": [
    {
     "name": "stdout",
     "output_type": "stream",
     "text": [
      "불용어 개수 : 179\n",
      "['i', 'me', 'my', 'myself', 'we', 'our', 'ours', 'ourselves', 'you', \"you're\", \"you've\", \"you'll\", \"you'd\", 'your', 'yours', 'yourself', 'yourselves', 'he', 'him', 'his', 'himself', 'she', \"she's\", 'her', 'hers', 'herself', 'it', \"it's\", 'its', 'itself', 'they', 'them', 'their', 'theirs', 'themselves', 'what', 'which', 'who', 'whom', 'this', 'that', \"that'll\", 'these', 'those', 'am', 'is', 'are', 'was', 'were', 'be', 'been', 'being', 'have', 'has', 'had', 'having', 'do', 'does', 'did', 'doing', 'a', 'an', 'the', 'and', 'but', 'if', 'or', 'because', 'as', 'until', 'while', 'of', 'at', 'by', 'for', 'with', 'about', 'against', 'between', 'into', 'through', 'during', 'before', 'after', 'above', 'below', 'to', 'from', 'up', 'down', 'in', 'out', 'on', 'off', 'over', 'under', 'again', 'further', 'then', 'once', 'here', 'there', 'when', 'where', 'why', 'how', 'all', 'any', 'both', 'each', 'few', 'more', 'most', 'other', 'some', 'such', 'no', 'nor', 'not', 'only', 'own', 'same', 'so', 'than', 'too', 'very', 's', 't', 'can', 'will', 'just', 'don', \"don't\", 'should', \"should've\", 'now', 'd', 'll', 'm', 'o', 're', 've', 'y', 'ain', 'aren', \"aren't\", 'couldn', \"couldn't\", 'didn', \"didn't\", 'doesn', \"doesn't\", 'hadn', \"hadn't\", 'hasn', \"hasn't\", 'haven', \"haven't\", 'isn', \"isn't\", 'ma', 'mightn', \"mightn't\", 'mustn', \"mustn't\", 'needn', \"needn't\", 'shan', \"shan't\", 'shouldn', \"shouldn't\", 'wasn', \"wasn't\", 'weren', \"weren't\", 'won', \"won't\", 'wouldn', \"wouldn't\"]\n"
     ]
    }
   ],
   "source": [
    "print('불용어 개수 :', len(stopwords.words('english') ))\n",
    "print(stopwords.words('english'))"
   ]
  },
  {
   "cell_type": "code",
   "execution_count": 10,
   "id": "departmental-habitat",
   "metadata": {},
   "outputs": [],
   "source": [
    "#데이터 전처리 함수\n",
    "def preprocess_sentence(sentence, remove_stopwords=True):\n",
    "    sentence = sentence.lower() # 텍스트 소문자화\n",
    "    sentence = BeautifulSoup(sentence, \"lxml\").text # <br />, <a href = ...> 등의 html 태그 제거\n",
    "    sentence = re.sub(r'\\([^)]*\\)', '', sentence) # 괄호로 닫힌 문자열 (...) 제거 Ex) my husband (and myself!) for => my husband for\n",
    "    sentence = re.sub('\"','', sentence) # 쌍따옴표 \" 제거\n",
    "    sentence = ' '.join([contractions[t] if t in contractions else t for t in sentence.split(\" \")]) # 약어 정규화\n",
    "    sentence = re.sub(r\"'s\\b\",\"\",sentence) # 소유격 제거. Ex) roland's -> roland\n",
    "    sentence = re.sub(\"[^a-zA-Z]\", \" \", sentence) # 영어 외 문자(숫자, 특수문자 등) 공백으로 변환\n",
    "    sentence = re.sub('[m]{2,}', 'mm', sentence) # m이 3개 이상이면 2개로 변경. Ex) ummmmmmm yeah -> umm yeah\n",
    "    \n",
    "    # 불용어 제거 (Text)\n",
    "    if remove_stopwords:\n",
    "        tokens = ' '.join(word for word in sentence.split() if not word in stopwords.words('english') if len(word) > 1)\n",
    "    # 불용어 미제거 (Summary)\n",
    "    else:\n",
    "        tokens = ' '.join(word for word in sentence.split() if len(word) > 1)\n",
    "    return tokens"
   ]
  },
  {
   "cell_type": "code",
   "execution_count": 11,
   "id": "wound-bachelor",
   "metadata": {},
   "outputs": [
    {
     "data": {
      "text/plain": [
       "['saurav kant alumnus upgrad iiit pg program machine learning artificial intelligence sr systems engineer infosys almost years work experience program upgrad degree career support helped transition data scientist tech mahindra salary hike upgrad online power learning powered lakh careers',\n",
       " 'kunal shah credit card bill payment platform cred gave users chance win free food swiggy one year pranav kaushik delhi techie bagged reward spending cred coins users get one cred coin per rupee bill paid used avail rewards brands like ixigo bookmyshow ubereats cult fit',\n",
       " 'new zealand defeated india wickets fourth odi hamilton thursday win first match five match odi series india lost international match rohit sharma captaincy consecutive victories dating back march match witnessed india getting seventh lowest total odi cricket history',\n",
       " 'aegon life iterm insurance plan customers enjoy tax benefits premiums paid save taxes plan provides life cover age years also customers options insure critical illnesses disability accidental death benefit rider life cover age years',\n",
       " 'speaking sexual harassment allegations rajkumar hirani sonam kapoor said known hirani many years true metoo movement get derailed metoo movement always believe woman case need reserve judgment added hirani accused assistant worked sanju']"
      ]
     },
     "execution_count": 11,
     "metadata": {},
     "output_type": "execute_result"
    }
   ],
   "source": [
    "clean_text = []\n",
    "\n",
    "# 전체 Text 데이터에 대한 전처리 : 10분 이상 시간이 걸릴 수 있습니다. \n",
    "for s in data['text']:\n",
    "    clean_text.append(preprocess_sentence(s))\n",
    "\n",
    "# 전처리 후 출력\n",
    "clean_text[:5]"
   ]
  },
  {
   "cell_type": "code",
   "execution_count": 12,
   "id": "auburn-bennett",
   "metadata": {},
   "outputs": [
    {
     "data": {
      "text/plain": [
       "['upgrad learner switches to career in ml al with salary hike',\n",
       " 'delhi techie wins free food from swiggy for one year on cred',\n",
       " 'new zealand end rohit sharma led india match winning streak',\n",
       " 'aegon life iterm insurance plan helps customers save tax',\n",
       " 'have known hirani for yrs what if metoo claims are not true sonam']"
      ]
     },
     "execution_count": 12,
     "metadata": {},
     "output_type": "execute_result"
    }
   ],
   "source": [
    "clean_summary = []\n",
    "\n",
    "# 전체 Summary 데이터에 대한 전처리 : 5분 이상 시간이 걸릴 수 있습니다. \n",
    "for s in data['headlines']:\n",
    "    clean_summary.append(preprocess_sentence(s, False))\n",
    "\n",
    "clean_summary[:5]"
   ]
  },
  {
   "cell_type": "code",
   "execution_count": 13,
   "id": "minor-attraction",
   "metadata": {},
   "outputs": [],
   "source": [
    "data['Text'] = clean_text\n",
    "data['Summary'] = clean_summary\n",
    "\n",
    "# 빈 값을 Null 값으로 변환\n",
    "data.replace('', np.nan, inplace=True)"
   ]
  },
  {
   "cell_type": "code",
   "execution_count": 14,
   "id": "primary-filling",
   "metadata": {},
   "outputs": [
    {
     "data": {
      "text/plain": [
       "headlines    0\n",
       "text         0\n",
       "Text         0\n",
       "Summary      0\n",
       "dtype: int64"
      ]
     },
     "execution_count": 14,
     "metadata": {},
     "output_type": "execute_result"
    }
   ],
   "source": [
    "data.isnull().sum()"
   ]
  },
  {
   "cell_type": "code",
   "execution_count": 15,
   "id": "controversial-spanking",
   "metadata": {},
   "outputs": [
    {
     "name": "stdout",
     "output_type": "stream",
     "text": [
      "전체 샘플수 : 98360\n"
     ]
    }
   ],
   "source": [
    "data.dropna(axis=0, inplace=True)\n",
    "print('전체 샘플수 :',(len(data)))#데이터 전처리 함수"
   ]
  },
  {
   "cell_type": "markdown",
   "id": "rolled-proportion",
   "metadata": {},
   "source": [
    "- 불용어, 정규화 처리 후 분포 확인\n",
    "- 데이터의 길이를 정하는 단계"
   ]
  },
  {
   "cell_type": "code",
   "execution_count": 16,
   "id": "passive-monkey",
   "metadata": {},
   "outputs": [
    {
     "name": "stdout",
     "output_type": "stream",
     "text": [
      "텍스트의 최소 길이 : 1\n",
      "텍스트의 최대 길이 : 91\n",
      "텍스트의 평균 길이 : 58.23813542090281\n",
      "헤드라인의 최소 길이 : 1\n",
      "헤드라인의 최대 길이 : 18\n",
      "헤드라인의 평균 길이 : 9.553660024400163\n"
     ]
    },
    {
     "data": {
      "image/png": "[encoded data removed]",
      "text/plain": [
       "<Figure size 432x288 with 2 Axes>"
      ]
     },
     "metadata": {
      "needs_background": "light"
     },
     "output_type": "display_data"
    },
    {
     "data": {
      "image/png": "[encoded data removed]",
      "text/plain": [
       "<Figure size 432x288 with 1 Axes>"
      ]
     },
     "metadata": {
      "needs_background": "light"
     },
     "output_type": "display_data"
    },
    {
     "data": {
      "image/png": "[encoded data removed]",
      "text/plain": [
       "<Figure size 432x288 with 1 Axes>"
      ]
     },
     "metadata": {
      "needs_background": "light"
     },
     "output_type": "display_data"
    }
   ],
   "source": [
    "import matplotlib.pyplot as plt\n",
    "\n",
    "text_len = [len(s.split()) for s in data['text']]\n",
    "headline_len = [len(s.split()) for s in data['headlines']]\n",
    "\n",
    "print('텍스트의 최소 길이 : {}'.format(np.min(text_len)))\n",
    "print('텍스트의 최대 길이 : {}'.format(np.max(text_len)))\n",
    "print('텍스트의 평균 길이 : {}'.format(np.mean(text_len)))\n",
    "print('헤드라인의 최소 길이 : {}'.format(np.min(headline_len)))\n",
    "print('헤드라인의 최대 길이 : {}'.format(np.max(headline_len)))\n",
    "print('헤드라인의 평균 길이 : {}'.format(np.mean(headline_len)))\n",
    "\n",
    "plt.subplot(1, 2, 1)\n",
    "plt.boxplot(text_len)\n",
    "plt.title('text')\n",
    "plt.subplot(1, 2, 2)\n",
    "plt.boxplot(headline_len)\n",
    "plt.title('headlines')\n",
    "plt.tight_layout()\n",
    "plt.show()\n",
    "\n",
    "plt.title('text')\n",
    "plt.hist(text_len, bins = 40)\n",
    "plt.xlabel('length of samples')\n",
    "plt.ylabel('number of samples')\n",
    "plt.show()\n",
    "\n",
    "plt.title('headlines')\n",
    "plt.hist(headline_len, bins = 40)\n",
    "plt.xlabel('length of samples')\n",
    "plt.ylabel('number of samples')\n",
    "plt.show()"
   ]
  },
  {
   "cell_type": "markdown",
   "id": "secret-embassy",
   "metadata": {},
   "source": [
    "- text의 경우 50-60 사이의 데이터가 많다. : 65 이하로 자른다. \n",
    "- headlines은 14로 잘라주도록 한다. "
   ]
  },
  {
   "cell_type": "code",
   "execution_count": 17,
   "id": "instrumental-needle",
   "metadata": {},
   "outputs": [],
   "source": [
    "text_max_len = 60\n",
    "headline_max_len = 12"
   ]
  },
  {
   "cell_type": "markdown",
   "id": "narrow-compact",
   "metadata": {},
   "source": [
    "- max_len이 합리적인지 확인하기"
   ]
  },
  {
   "cell_type": "code",
   "execution_count": 18,
   "id": "worse-glucose",
   "metadata": {},
   "outputs": [],
   "source": [
    "def below_threshold_len(max_len, nested_list):\n",
    "    cnt = 0\n",
    "    for s in nested_list:\n",
    "        if(len(s.split()) <= max_len):\n",
    "            cnt = cnt+1\n",
    "    print('전체 샘플 중 길이가 %s 이하인 샘플의 비율: %s'%(max_len, (cnt/len(nested_list))))"
   ]
  },
  {
   "cell_type": "code",
   "execution_count": 19,
   "id": "combined-better",
   "metadata": {},
   "outputs": [
    {
     "name": "stdout",
     "output_type": "stream",
     "text": [
      "전체 샘플 중 길이가 60 이하인 샘플의 비율: 0.997448149654331\n",
      "전체 샘플 중 길이가 12 이하인 샘플의 비율: 0.9768198454656364\n"
     ]
    }
   ],
   "source": [
    "below_threshold_len(text_max_len, data['text'])\n",
    "below_threshold_len(headline_max_len, data['headlines'])"
   ]
  },
  {
   "cell_type": "markdown",
   "id": "shared-fitness",
   "metadata": {},
   "source": [
    "- text에서는 0.03%, headlines에서는 2.4%정도의 데이터를 버리게 됩니다.\n",
    "- "
   ]
  },
  {
   "cell_type": "code",
   "execution_count": 20,
   "id": "together-moscow",
   "metadata": {},
   "outputs": [
    {
     "name": "stdout",
     "output_type": "stream",
     "text": [
      "전체 샘플 수: 95838\n"
     ]
    }
   ],
   "source": [
    "data = data[data['text'].apply(lambda x: len(x.split()) <= text_max_len)]\n",
    "data = data[data['headlines'].apply(lambda x: len(x.split()) <= headline_max_len)]\n",
    "print('전체 샘플 수:', len(data))"
   ]
  },
  {
   "cell_type": "markdown",
   "id": "pursuant-destination",
   "metadata": {},
   "source": [
    "- 디코더에서 문장의 시작과 끝을 알 수 있도록 각 문장에 **시작토큰, 종료토큰**을 추가합니다."
   ]
  },
  {
   "cell_type": "code",
   "execution_count": 21,
   "id": "nominated-translation",
   "metadata": {},
   "outputs": [
    {
     "data": {
      "text/html": [
       "<div>\n",
       "<style scoped>\n",
       "    .dataframe tbody tr th:only-of-type {\n",
       "        vertical-align: middle;\n",
       "    }\n",
       "\n",
       "    .dataframe tbody tr th {\n",
       "        vertical-align: top;\n",
       "    }\n",
       "\n",
       "    .dataframe thead th {\n",
       "        text-align: right;\n",
       "    }\n",
       "</style>\n",
       "<table border=\"1\" class=\"dataframe\">\n",
       "  <thead>\n",
       "    <tr style=\"text-align: right;\">\n",
       "      <th></th>\n",
       "      <th>headlines</th>\n",
       "      <th>text</th>\n",
       "      <th>Text</th>\n",
       "      <th>Summary</th>\n",
       "      <th>decoder_input</th>\n",
       "      <th>decoder_target</th>\n",
       "    </tr>\n",
       "  </thead>\n",
       "  <tbody>\n",
       "    <tr>\n",
       "      <th>1</th>\n",
       "      <td>Delhi techie wins free food from Swiggy for on...</td>\n",
       "      <td>Kunal Shah's credit card bill payment platform...</td>\n",
       "      <td>kunal shah credit card bill payment platform c...</td>\n",
       "      <td>delhi techie wins free food from swiggy for on...</td>\n",
       "      <td>sostoken Delhi techie wins free food from Swig...</td>\n",
       "      <td>Delhi techie wins free food from Swiggy for on...</td>\n",
       "    </tr>\n",
       "    <tr>\n",
       "      <th>2</th>\n",
       "      <td>New Zealand end Rohit Sharma-led India's 12-ma...</td>\n",
       "      <td>New Zealand defeated India by 8 wickets in the...</td>\n",
       "      <td>new zealand defeated india wickets fourth odi ...</td>\n",
       "      <td>new zealand end rohit sharma led india match w...</td>\n",
       "      <td>sostoken New Zealand end Rohit Sharma-led Indi...</td>\n",
       "      <td>New Zealand end Rohit Sharma-led India's 12-ma...</td>\n",
       "    </tr>\n",
       "    <tr>\n",
       "      <th>3</th>\n",
       "      <td>Aegon life iTerm insurance plan helps customer...</td>\n",
       "      <td>With Aegon Life iTerm Insurance plan, customer...</td>\n",
       "      <td>aegon life iterm insurance plan customers enjo...</td>\n",
       "      <td>aegon life iterm insurance plan helps customer...</td>\n",
       "      <td>sostoken Aegon life iTerm insurance plan helps...</td>\n",
       "      <td>Aegon life iTerm insurance plan helps customer...</td>\n",
       "    </tr>\n",
       "    <tr>\n",
       "      <th>5</th>\n",
       "      <td>Rahat Fateh Ali Khan denies getting notice for...</td>\n",
       "      <td>Pakistani singer Rahat Fateh Ali Khan has deni...</td>\n",
       "      <td>pakistani singer rahat fateh ali khan denied r...</td>\n",
       "      <td>rahat fateh ali khan denies getting notice for...</td>\n",
       "      <td>sostoken Rahat Fateh Ali Khan denies getting n...</td>\n",
       "      <td>Rahat Fateh Ali Khan denies getting notice for...</td>\n",
       "    </tr>\n",
       "    <tr>\n",
       "      <th>7</th>\n",
       "      <td>Govt directs Alok Verma to join work 1 day bef...</td>\n",
       "      <td>Weeks after ex-CBI Director Alok Verma told th...</td>\n",
       "      <td>weeks ex cbi director alok verma told departme...</td>\n",
       "      <td>govt directs alok verma to join work day befor...</td>\n",
       "      <td>sostoken Govt directs Alok Verma to join work ...</td>\n",
       "      <td>Govt directs Alok Verma to join work 1 day bef...</td>\n",
       "    </tr>\n",
       "  </tbody>\n",
       "</table>\n",
       "</div>"
      ],
      "text/plain": [
       "                                           headlines  \\\n",
       "1  Delhi techie wins free food from Swiggy for on...   \n",
       "2  New Zealand end Rohit Sharma-led India's 12-ma...   \n",
       "3  Aegon life iTerm insurance plan helps customer...   \n",
       "5  Rahat Fateh Ali Khan denies getting notice for...   \n",
       "7  Govt directs Alok Verma to join work 1 day bef...   \n",
       "\n",
       "                                                text  \\\n",
       "1  Kunal Shah's credit card bill payment platform...   \n",
       "2  New Zealand defeated India by 8 wickets in the...   \n",
       "3  With Aegon Life iTerm Insurance plan, customer...   \n",
       "5  Pakistani singer Rahat Fateh Ali Khan has deni...   \n",
       "7  Weeks after ex-CBI Director Alok Verma told th...   \n",
       "\n",
       "                                                Text  \\\n",
       "1  kunal shah credit card bill payment platform c...   \n",
       "2  new zealand defeated india wickets fourth odi ...   \n",
       "3  aegon life iterm insurance plan customers enjo...   \n",
       "5  pakistani singer rahat fateh ali khan denied r...   \n",
       "7  weeks ex cbi director alok verma told departme...   \n",
       "\n",
       "                                             Summary  \\\n",
       "1  delhi techie wins free food from swiggy for on...   \n",
       "2  new zealand end rohit sharma led india match w...   \n",
       "3  aegon life iterm insurance plan helps customer...   \n",
       "5  rahat fateh ali khan denies getting notice for...   \n",
       "7  govt directs alok verma to join work day befor...   \n",
       "\n",
       "                                       decoder_input  \\\n",
       "1  sostoken Delhi techie wins free food from Swig...   \n",
       "2  sostoken New Zealand end Rohit Sharma-led Indi...   \n",
       "3  sostoken Aegon life iTerm insurance plan helps...   \n",
       "5  sostoken Rahat Fateh Ali Khan denies getting n...   \n",
       "7  sostoken Govt directs Alok Verma to join work ...   \n",
       "\n",
       "                                      decoder_target  \n",
       "1  Delhi techie wins free food from Swiggy for on...  \n",
       "2  New Zealand end Rohit Sharma-led India's 12-ma...  \n",
       "3  Aegon life iTerm insurance plan helps customer...  \n",
       "5  Rahat Fateh Ali Khan denies getting notice for...  \n",
       "7  Govt directs Alok Verma to join work 1 day bef...  "
      ]
     },
     "execution_count": 21,
     "metadata": {},
     "output_type": "execute_result"
    }
   ],
   "source": [
    "data['decoder_input']=data['headlines'].apply(lambda x:'sostoken '+x)\n",
    "data['decoder_target']=data['headlines'].apply(lambda x:x+' eostoken')\n",
    "data.head()"
   ]
  },
  {
   "cell_type": "markdown",
   "id": "demographic-providence",
   "metadata": {},
   "source": [
    "- 인코더의 입력 : data\\['text'\\]\n",
    "- 디코더의 입력 : data\\['decoder_input'\\]\n",
    "- 디코더의 레이블 : data\\['decoder_target'\\]   \n",
    "\n",
    "\n",
    "- 모두 numpy타입으로 저장한다. "
   ]
  },
  {
   "cell_type": "code",
   "execution_count": 22,
   "id": "governing-picking",
   "metadata": {},
   "outputs": [],
   "source": [
    "encoder_input = np.array(data['text'])\n",
    "decoder_input = np.array(data['decoder_input'])\n",
    "decoder_target = np.array(data['decoder_target'])"
   ]
  },
  {
   "cell_type": "markdown",
   "id": "boring-updating",
   "metadata": {},
   "source": [
    "- 데이터의 순서를 섞어줍니다.\n",
    "- 정수 시퀀스 이용"
   ]
  },
  {
   "cell_type": "code",
   "execution_count": 23,
   "id": "engaging-moisture",
   "metadata": {},
   "outputs": [
    {
     "name": "stdout",
     "output_type": "stream",
     "text": [
      "[92791 46382 78951 ... 12188  8292 21252]\n"
     ]
    }
   ],
   "source": [
    "indices = np.arange(encoder_input.shape[0])\n",
    "np.random.shuffle(indices)\n",
    "print(indices)"
   ]
  },
  {
   "cell_type": "code",
   "execution_count": 24,
   "id": "australian-workstation",
   "metadata": {},
   "outputs": [],
   "source": [
    "encoder_input = encoder_input[indices]\n",
    "decoder_input = decoder_input[indices]\n",
    "decoder_target = decoder_target[indices]"
   ]
  },
  {
   "cell_type": "markdown",
   "id": "aquatic-messenger",
   "metadata": {},
   "source": [
    "### [코드이해] np.random.shuffle \n",
    "- shuffle parameter 조건 : **xndarray or MutableSequence**\n",
    "- indices가 배열의 크기보다 작을 경우엔? : index외의 데이터는 삭제된다. \n",
    "- indices가 배열의 크기보다 큰 경우엔? : 에러 발생 "
   ]
  },
  {
   "cell_type": "code",
   "execution_count": 143,
   "id": "married-valuation",
   "metadata": {},
   "outputs": [
    {
     "name": "stdout",
     "output_type": "stream",
     "text": [
      "[0 1 2]\n"
     ]
    }
   ],
   "source": [
    "indices = np.arange(3)\n",
    "np.random.shuffle(indices)\n",
    "print(indices)"
   ]
  },
  {
   "cell_type": "code",
   "execution_count": 144,
   "id": "shaped-presence",
   "metadata": {},
   "outputs": [],
   "source": [
    "abc = [10, 20, 30, 40, 50]\n",
    "abc = np.array(abc)"
   ]
  },
  {
   "cell_type": "code",
   "execution_count": 145,
   "id": "sharp-republic",
   "metadata": {},
   "outputs": [
    {
     "data": {
      "text/plain": [
       "array([10, 20, 30])"
      ]
     },
     "execution_count": 145,
     "metadata": {},
     "output_type": "execute_result"
    }
   ],
   "source": [
    "abc = abc[indices]\n",
    "abc"
   ]
  },
  {
   "cell_type": "markdown",
   "id": "orange-stupid",
   "metadata": {},
   "source": [
    "- 전체 데이터 크기를 이용해 전체 데이터를 **훈련, 테스트**로 나눈다."
   ]
  },
  {
   "cell_type": "code",
   "execution_count": 25,
   "id": "eight-preference",
   "metadata": {},
   "outputs": [
    {
     "name": "stdout",
     "output_type": "stream",
     "text": [
      "훈련 데이터의 개수: 95838\n",
      "훈련 레이블의 개수: 95838\n"
     ]
    }
   ],
   "source": [
    "print('훈련 데이터의 개수:', len(encoder_input))\n",
    "print('훈련 레이블의 개수:', len(decoder_input))"
   ]
  },
  {
   "cell_type": "code",
   "execution_count": 26,
   "id": "brief-class",
   "metadata": {},
   "outputs": [
    {
     "name": "stdout",
     "output_type": "stream",
     "text": [
      "테스트 데이터의 수 : 19167\n"
     ]
    }
   ],
   "source": [
    "n_of_val = int(len(encoder_input)*0.2)\n",
    "print('테스트 데이터의 수 :', n_of_val)"
   ]
  },
  {
   "cell_type": "markdown",
   "id": "comic-warrant",
   "metadata": {},
   "source": [
    "- n_of_val : sklearn 함수 중 train_test_split에서 사용되는 test_size와 같은 역할"
   ]
  },
  {
   "cell_type": "code",
   "execution_count": 27,
   "id": "interpreted-domain",
   "metadata": {},
   "outputs": [
    {
     "name": "stdout",
     "output_type": "stream",
     "text": [
      "훈련 데이터의 개수 : 76671\n",
      "훈련 레이블의 개수 : 76671\n",
      "테스트 데이터의 개수 : 19167\n",
      "테스트 레이블의 개수 : 19167\n"
     ]
    }
   ],
   "source": [
    "encoder_input_train = encoder_input[:-n_of_val]\n",
    "decoder_input_train = decoder_input[:-n_of_val]\n",
    "decoder_target_train = decoder_target[:-n_of_val]\n",
    "\n",
    "encoder_input_test = encoder_input[-n_of_val:]\n",
    "decoder_input_test = decoder_input[-n_of_val:]\n",
    "decoder_target_test = decoder_target[-n_of_val:]\n",
    "\n",
    "print('훈련 데이터의 개수 :', len(encoder_input_train))\n",
    "print('훈련 레이블의 개수 :', len(decoder_input_train))\n",
    "print('테스트 데이터의 개수 :', len(encoder_input_test))\n",
    "print('테스트 레이블의 개수 :', len(decoder_input_test))"
   ]
  },
  {
   "cell_type": "code",
   "execution_count": 32,
   "id": "interesting-durham",
   "metadata": {},
   "outputs": [],
   "source": [
    "src_tokenizer = Tokenizer()\n",
    "src_tokenizer.fit_on_texts(encoder_input_train)"
   ]
  },
  {
   "cell_type": "code",
   "execution_count": null,
   "id": "daily-jones",
   "metadata": {},
   "outputs": [],
   "source": []
  },
  {
   "cell_type": "code",
   "execution_count": null,
   "id": "overall-apparel",
   "metadata": {},
   "outputs": [],
   "source": []
  },
  {
   "cell_type": "code",
   "execution_count": null,
   "id": "periodic-gardening",
   "metadata": {},
   "outputs": [],
   "source": []
  },
  {
   "cell_type": "code",
   "execution_count": null,
   "id": "received-floating",
   "metadata": {},
   "outputs": [],
   "source": []
  },
  {
   "cell_type": "markdown",
   "id": "loving-conservation",
   "metadata": {},
   "source": [
    "Step 1. 데이터 수집하기\n",
    "\n",
    "Step 2. 데이터 전처리하기 (추상적 요약)\n",
    "실습에서 사용된 전처리를 참고하여 각자 필요하다고 생각하는 전처리를 추가 사용하여 텍스트를 정규화 또는 정제해 보세요. 만약, 불용어 제거를 선택한다면 상대적으로 길이가 짧은 요약 데이터에 대해서도 불용어를 제거하는 것이 좋을지 고민해보세요.\n",
    "\n",
    "Step 3. 어텐션 메커니즘 사용하기 (추상적 요약)\n",
    "일반적인 seq2seq보다는 어텐션 메커니즘을 사용한 seq2seq를 사용하는 것이 더 나은 성능을 얻을 수 있어요. 실습 내용을 참고하여 어텐션 메커니즘을 사용한 seq2seq를 설계해 보세요.\n",
    "\n",
    "Step 4. 실제 결과와 요약문 비교하기 (추상적 요약)\n",
    "원래의 요약문(headlines 열)과 학습을 통해 얻은 추상적 요약의 결과를 비교해보세요.\n",
    "\n",
    "Step 5. Summa을 이용해서 추출적 요약해보기\n",
    "추상적 요약은 추출적 요약과는 달리 문장의 표현력을 다양하게 가져갈 수 있지만, 추출적 요약에 비해서 난이도가 높아요. 반대로 말하면 추출적 요약은 추상적 요약에 비해 난이도가 낮고 기존 문장에서 문장을 꺼내오는 것이므로 잘못된 요약이 나올 가능성이 낮아요.\n",
    "\n",
    "Summa의 summarize를 사용하여 추출적 요약을 해보세요."
   ]
  },
  {
   "cell_type": "markdown",
   "id": "civic-condition",
   "metadata": {},
   "source": [
    "# 정리     \n",
    "---        \n",
    "1. 이미지 로드\n",
    "2. DeepLab 모델 생성\n",
    "3. pretrained weight 불러오기\n",
    "4. 피사체 sementic segmentation\n",
    "5. 배경 blur처리\n",
    "6. 피사체, 배경 합성 \n",
    "\n",
    "# 루브릭 평가\n",
    "---\n",
    "1. **Abstractive 모델 구성을 위한 텍스트 전처리 단계가 체계적으로 진행되었다.**   \n",
    "    - 분석단계, 정제단계, 정규화와 불용어 제거, 데이터셋 분리, 인코딩 과정이 빠짐없이 체계적으로 진행되었다.\n",
    "\n",
    "\n",
    "2. **텍스트 요약모델이 성공적으로 학습되었음을 확인하였다.**  \n",
    "    - 모델학습이 안정적으로 수렴되었음을 그래프를 통해 확인하였으며, 실제 요약문과 유사한 요약문장을 얻을 수 있었다. \n",
    "    \n",
    "     \n",
    "3. **Extractive 요약을 시도해 보고 Abstractive 요약 결과과 함께 비교해 보았다.** \n",
    "    - 두 요약 결과를 문법완성도 측면과 핵심단어 포함 측면으로 나누어 비교분석 결과를 제시하였다.\n",
    "   \n",
    "\n",
    "    \n",
    "# 회고\n",
    "---\n",
    "## 어려웠던 점 \n",
    "- 모델에 대한 이해\n",
    "    - 이미 학습된 가중치를 불러오기 때문에 그 구조에 대해서 자세하게 알기 힘들어 따로 여러 자료들을 찾아보았다.\n",
    "- 사진을 촬영하는 방법\n",
    "    - 참고 글을 계속해서 읽어보아도 제대로 이해되지는 않았다.\n",
    "    \n",
    "## 알게된 점 \n",
    "- 스티커 사진 프로젝트([Exp.3](https://github.com/miinkang/Project_AIFFEL/blob/main/%5BE-03%5Dcamera_sticker_application.ipynb))를 할 때 사용했던, 여러 이미지(벡터)연산들을 다시 사용해보면서 개념을 확실하게 이해했다.\n",
    "- openCV의 여러 함수들도 다시 학습할 수 있었다.\n",
    "    \n",
    "## 더 공부할 점\n",
    "- 사진\n",
    "    - 실제 카메라의 작동법에 더 알아두면 이미지 처리하는 데에 많은 인사이트를 얻을 수 있을 것이라고 생각한다.\n",
    "    \n",
    "## 시도한 것들\n",
    "- openCV의 여러 함수들의 파라미터들을 변경해보면서 쓰임새를 익혔다.\n",
    "\n",
    "## 다짐\n",
    "- 모델이 왜 연구되었는지에 대한 배경을 아는 것이 확실히 모델의 구조를 이해하기 쉽게한다."
   ]
  }
 ],
 "metadata": {
  "kernelspec": {
   "display_name": "Python 3",
   "language": "python",
   "name": "python3"
  },
  "language_info": {
   "codemirror_mode": {
    "name": "ipython",
    "version": 3
   },
   "file_extension": ".py",
   "mimetype": "text/x-python",
   "name": "python",
   "nbconvert_exporter": "python",
   "pygments_lexer": "ipython3",
   "version": "3.7.9"
  }
 },
 "nbformat": 4,
 "nbformat_minor": 5
}
