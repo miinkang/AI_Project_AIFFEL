{
 "cells": [
  {
   "cell_type": "markdown",
   "id": "backed-thursday",
   "metadata": {},
   "source": [
    "# [Exploration 16] SRGAN 활용하기 \n",
    "## 프로젝트 설명 \n",
    "---\n",
    "DCGAN을 이용해 CIFAR-10 이미지를 생선하는 프로젝트\n",
    "\n",
    "\n",
    "## 프로젝트 정리     \n",
    "---        \n",
    "1. 데이터 수집\n",
    "2. 데이터 전처리\n",
    "    - SubwordTextEncoder 사용\n",
    "        - 형태소분석기가 아닌 SubwordTextEncoder를 사용합니다.\n",
    "3. Transformer 모델 구션\n",
    "4. 모델 평가 \n",
    "\n",
    "\n",
    "## 프로젝트 목표\n",
    "---\n",
    "- 한국어 데이터 전처리 \n",
    "- SubwordTextEncoder 이해\n",
    "- Transformer 구현\n",
    "\n",
    "\n",
    "## 01. 데이터 다운로드 \n",
    "- 한국어 챗봇 데이터 소스 : [송영숙 님 깃허브](https://github.com/songys/Chatbot_data/blob/master/ChatbotData%20.csv)\n",
    "    - 챗봇 트레이닝용 문답 페어 11,876개\n",
    "    - 일상다반서 0, 이별(부정) 1, 사랑(긍정) 2로 레이블링"
   ]
  },
  {
   "cell_type": "code",
   "execution_count": null,
   "id": "directed-cross",
   "metadata": {},
   "outputs": [],
   "source": []
  },
  {
   "cell_type": "markdown",
   "id": "russian-riverside",
   "metadata": {},
   "source": [
    "# 루브릭 평가\n",
    "---\n",
    "1. **의료영상을 처리하는 CNN 기반 딥러닝 모델이 잘 구현되었다.**   \n",
    "\n",
    "    - 학습과정 시각화를 통해 accuracy, loss가 잘 수렴하는 것을 확인했다.\n",
    "\n",
    "\n",
    "2. **데이터 준비, 모델구성 등의 과정의 다양한 실험이 체계적으로 수행되었다.**\n",
    "\n",
    "    - 레이어를 수정하면서 성능개선을 위해 실험하였다.\n",
    "     \n",
    "     \n",
    "3. **실습코드를 잘 개선하여 폐렴 검출 정확도가 추가로 향상되었다.** \n",
    "\n",
    "    - accuracy를 높이고, recall도 더 높일 수 있었다.\n",
    "\n",
    "    \n",
    "    \n",
    "# 회고\n",
    "---\n",
    "## 어려웠던 점 \n",
    "- 도메인 지식 부족\n",
    "    - 폐렴 이미지에 대한 설명을 확인했지만, 사실 구분하기에는 어려웠다.\n",
    "    \n",
    "## 알게된 점 \n",
    "- 데이터 불균형 처리\n",
    "    - class_weight를 통해 레이블 별 가중치를 다르게 할 수 있다는 것을 배웠다.\n",
    "\n",
    "## 다짐\n",
    "- 자주 사용했던 모델이어서 금방 구현할 수 있었다. "
   ]
  }
 ],
 "metadata": {
  "kernelspec": {
   "display_name": "Python 3",
   "language": "python",
   "name": "python3"
  },
  "language_info": {
   "codemirror_mode": {
    "name": "ipython",
    "version": 3
   },
   "file_extension": ".py",
   "mimetype": "text/x-python",
   "name": "python",
   "nbconvert_exporter": "python",
   "pygments_lexer": "ipython3",
   "version": "3.7.9"
  }
 },
 "nbformat": 4,
 "nbformat_minor": 5
}
