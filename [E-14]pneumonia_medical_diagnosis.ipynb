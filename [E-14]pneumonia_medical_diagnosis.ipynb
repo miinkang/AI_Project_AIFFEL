{
 "cells": [
  {
   "cell_type": "markdown",
   "id": "anonymous-clearance",
   "metadata": {},
   "source": [
    "# [Exploration 14] 폐렴 진단기 성능개선\n",
    "## 프로젝트 설명 \n",
    "---\n",
    "DCGAN을 이용해 CIFAR-10 이미지를 생선하는 프로젝트\n",
    "\n",
    "\n",
    "## 프로젝트 정리     \n",
    "---        \n",
    "1. 실험환경 set-up\n",
    "2. 데이터 준비하기\n",
    "3. 데이터 시각화 \n",
    "4. CNN 모델링\n",
    "5. 데이터 imbalance 처리\n",
    "6. 모델 훈련 \n",
    "7. 결과 확인과 시각화\n",
    "\n",
    "\n",
    "## 프로젝트 목표\n",
    "---\n",
    "\n",
    "\n",
    "\n",
    "## 01. 실험환경 set-up (하이퍼 파라미터 설정)"
   ]
  },
  {
   "cell_type": "code",
   "execution_count": 1,
   "id": "minus-guarantee",
   "metadata": {},
   "outputs": [],
   "source": [
    "import re    # 정규표현식 관련된 작업에 필요한 패키지\n",
    "import os    # I/O 관련된 작업에 필요한 패키지 \n",
    "import pandas as pd     # 데이터 전처리 관련된 작업에 필요한 패키지\n",
    "import numpy as np      # 데이터 array 작업에 필요한 패키지\n",
    "import tensorflow as tf  # 딥러닝 관련된 작업에 필요한 패키지\n",
    "import matplotlib.pyplot as plt    # 데이터 시각화에 관련된 작업에 필요한 패키지\n",
    "from sklearn.model_selection import train_test_split  # 데이터 전처리에 필요한 패키지"
   ]
  },
  {
   "cell_type": "code",
   "execution_count": null,
   "id": "ecological-console",
   "metadata": {},
   "outputs": [],
   "source": []
  },
  {
   "cell_type": "code",
   "execution_count": null,
   "id": "atlantic-partner",
   "metadata": {},
   "outputs": [],
   "source": []
  },
  {
   "cell_type": "markdown",
   "id": "working-thunder",
   "metadata": {},
   "source": [
    "# 루브릭 평가\n",
    "---\n",
    "1. **GAN의 두 모델 구조를 통해 이미지를 성공적으로 생성하였다.**   \n",
    "\n",
    "    - 레이어를 수정하는 것이 가장 큰 도움이 되었다.\n",
    "    - G, D의 아웃풋을 똑같게 하는 것이 아니라 다르게 조정하니까 확실히 개선이 되었다.\n",
    "\n",
    "\n",
    "2. **생성 이미지 시각화 및 학습 그래프를 통해 GAN 학습이 바르게 진행되었음을 입증하였다.**\n",
    "\n",
    "    - 마지막 학습 그래프를 보면 fake accuracy가 0.5에 가깝게 가고 있는 것을 확인할 수 있었다. \n",
    "     \n",
    "     \n",
    "3. **추가적인 GAN 모델구조 혹은 학습과정 개선 아이디어를 제안하고 이를 적용하였다.** \n",
    "\n",
    "    - 그래프를 연달아 보면서 품질이 개선되는 것을 확인할 수 있었다.\n",
    "    - 만들어진 샘플들이 변화하는 것을 봐도 확실히 개선되었다.\n",
    "    \n",
    "    \n",
    "# 회고\n",
    "---\n",
    "## 어려웠던 점 \n",
    "- 모델\n",
    "    - 사실 모델의 개략적인 메커니즘만 노드에서 설명이 되어있기 때문에, 성능을 개선하기 어려웠다.\n",
    "    - 실제 모델의 수식 등을 이해하면 성능 개선 부분이 수월했을 것 같다.\n",
    "    \n",
    "## 알게된 점 \n",
    "- encoder, decoder와 다르다!\n",
    "    - 처음엔 G와 D의 레이어 필터 수나 output shape을 동일하게 해야하는 줄 알았는데, 아니었다. \n",
    "    - G는 이미지를 생성하는 역할, D는 생성된 이미지를 판별한다.\n",
    "    - D는 이미지를 판별해야하기 때문에 더 촘촘한 레이어가 필요하고, G는 처음엔 넓은 범위(edge)를 먼저 생성해도 된다고 생각한다.\n",
    "    - 이런 식으로 정보가 많이 필요하면 레이어를 촘촘하게 구성해서 파라미터를 늘이고, 등등의 직관을 사용해 구성하니 훨씬 생성이 잘 되었다.\n",
    "    \n",
    "## 더 공부할 점\n",
    "- 다른 GAN모델\n",
    "    - 다른 모델도 적용해봐야겠다.\n",
    "- accuracy가 왜 batch마다 상이할까?\n",
    "    - 다른 알고리즘은 학습횟수가 증가함에 따라 지표가 점층적으로 목표점으로 수렴했는데, GAN은 batch마다 너무 달랐다.\n",
    "    - 내가 잘못 학습한 줄 알았는데, 구글링해보니 다들 이런 모양의 그래프가 나왔다.\n",
    "    - 어떤 블로그에서는 이런 점때문인지 early stopping을 하는 것이 좋지 않다고 했는데, 이유를 공부해야겠다.\n",
    "\n",
    "## 다짐\n",
    "- 어떤 모델을 공부할 때, 논문을 읽어봐야겠다. 다른 사람들의 글도 충분히 이해가 가고 도움이 되지만, 직접 튜닝을 해서 원하는 결과물을 도출하고자 할 때는 연구자만큼 이해해야 가능한 것 같다. "
   ]
  }
 ],
 "metadata": {
  "kernelspec": {
   "display_name": "Python 3",
   "language": "python",
   "name": "python3"
  },
  "language_info": {
   "codemirror_mode": {
    "name": "ipython",
    "version": 3
   },
   "file_extension": ".py",
   "mimetype": "text/x-python",
   "name": "python",
   "nbconvert_exporter": "python",
   "pygments_lexer": "ipython3",
   "version": "3.7.9"
  }
 },
 "nbformat": 4,
 "nbformat_minor": 5
}
