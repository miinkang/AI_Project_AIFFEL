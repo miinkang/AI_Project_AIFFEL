{
 "cells": [
  {
   "cell_type": "markdown",
   "id": "narrative-pleasure",
   "metadata": {},
   "source": [
    "# [Going Deeper NLP 08] 한영 번역기 만들기\n",
    "attention을 기반으로 한 seq2seq모델로 한영 번역기를 생성하는 프로젝트  \n",
    "\n",
    "---\n",
    "\n",
    "## 프로젝트 목표\n",
    "---\n",
    "- WEAT score를 이해하고, 단어 임베딩 간의 편향성(관계)측정하는 메커니즘을 이해한다.\n",
    "- 영화 시놉시스 데이터를 전처리한다.\n",
    "- 해당 프로젝트에서 개선점을 찾는다. \n",
    "\n",
    "## 프로젝트 설명\n",
    "---\n",
    "1. 형태소 분석기를 이용하여 품사가 명사인 경우 해당 단어를 추출하기\n",
    "2. 추출된 결과로 embedding model 만들기\n",
    "3. target, attribute 단어 셋 만들기\n",
    "4. WEAT score 계산과 시각화\n",
    "\n",
    "    \n",
    "## 1. 영화 시놉시스 데이터에서 코퍼스 만들기"
   ]
  },
  {
   "cell_type": "code",
   "execution_count": null,
   "id": "suburban-valentine",
   "metadata": {},
   "outputs": [],
   "source": []
  },
  {
   "cell_type": "code",
   "execution_count": null,
   "id": "unlikely-orchestra",
   "metadata": {},
   "outputs": [],
   "source": []
  },
  {
   "cell_type": "code",
   "execution_count": null,
   "id": "worse-retrieval",
   "metadata": {},
   "outputs": [],
   "source": []
  },
  {
   "cell_type": "code",
   "execution_count": null,
   "id": "abandoned-effectiveness",
   "metadata": {},
   "outputs": [],
   "source": []
  },
  {
   "cell_type": "code",
   "execution_count": null,
   "id": "handy-nancy",
   "metadata": {},
   "outputs": [],
   "source": []
  },
  {
   "cell_type": "code",
   "execution_count": null,
   "id": "quick-sandwich",
   "metadata": {},
   "outputs": [],
   "source": []
  },
  {
   "cell_type": "code",
   "execution_count": null,
   "id": "sufficient-marketing",
   "metadata": {},
   "outputs": [],
   "source": []
  },
  {
   "cell_type": "code",
   "execution_count": null,
   "id": "peripheral-pillow",
   "metadata": {},
   "outputs": [],
   "source": []
  },
  {
   "cell_type": "code",
   "execution_count": null,
   "id": "secure-france",
   "metadata": {},
   "outputs": [],
   "source": []
  },
  {
   "cell_type": "code",
   "execution_count": null,
   "id": "reduced-apache",
   "metadata": {},
   "outputs": [],
   "source": []
  },
  {
   "cell_type": "markdown",
   "id": "scientific-knock",
   "metadata": {},
   "source": [
    "# 루브릭 평가\n",
    "---\n",
    "1. **주어진 영화 코퍼스를 바탕으로 워드임베딩 모델을 정상적으로 만들었다.**   \n",
    "\n",
    "    - 학습한 워드임베딩 모델이 정상적으로 작동하는 것을 유사한 단어를 보여주는 most_similar함수로 확인했다. \n",
    "\n",
    "\n",
    "2. **영화 구분, 장르별로 target, attribute에 대한 대표성있는 단어 셋을 생성하였다.**\n",
    "\n",
    "    - 중복을 제거하는 과정을 통해 단어 셋을 구축할 수 있었다.\n",
    "    \n",
    "     \n",
    "3. **WEAT score 계산 및 시각화를 정상적으로 진행하였다.** \n",
    " \n",
    "     - WEAT score를 계산하고 시각화하여 결과를 분석했다. \n",
    "\n",
    "    \n",
    "# 회고\n",
    "---\n",
    "\n",
    "## 어려웠던 부분 \n",
    "- 수식을 이해하는 부분이 어려웠으나 퍼실 @홍진표님의 도움으로 잘 이해하고 넘어갈 수 있었다.\n",
    "\n",
    "## 알아낸 점 혹은 모호한 부분 \n",
    "- 데이터의 편향이 있을 수 있다라는 점을 알고 있었는데 이를 평가할 수 있는 지표가 있다는 점을 배울 수 있었다. \n",
    "- 이런 편향에 대해 어떠한 처리가 필요한 것인지 궁금하지만 이는 임베딩을 만드는 모델에서 처리해야할 것 같다. \n",
    "- 또한 편향이 데이터의 특성이 될 수 있는데, 편향을 없애는 것외에 편향이 있다는 사실을 모델에 적용할 수 있는 방법에 대해 고민이 된다.\n",
    "- 행렬 계산을 통해 여러 attribute에 대한 WEAT score를 한 번에 계산할 수 있었다. \n",
    "- 예술영화와 일반영화에 대한 구분 기준이 모호하다고 생각한다. 두 구분은 영화 장르에 따라 구분되지 않으며, 이는 두 구분을 대표하는 단어를 보면 중복되는 단어가 많으며 기준이 모호하다는 것을 볼 수 있다. \n",
    "- 더 구분 기준이 뚜렷한 예시로 프로젝트를 진행했으면 결과에 대해 납득을 할 수 있었을 것이다. \n",
    "\n",
    "## 느낀 점 \n",
    "- 지표를 공부하고 평가하는 방법을 배웠으니 이를 어디에 활용하면 더 좋은 모델을 구성할 수 있을지 고민하고 싶다. "
   ]
  }
 ],
 "metadata": {
  "kernelspec": {
   "display_name": "Python 3",
   "language": "python",
   "name": "python3"
  },
  "language_info": {
   "codemirror_mode": {
    "name": "ipython",
    "version": 3
   },
   "file_extension": ".py",
   "mimetype": "text/x-python",
   "name": "python",
   "nbconvert_exporter": "python",
   "pygments_lexer": "ipython3",
   "version": "3.7.9"
  }
 },
 "nbformat": 4,
 "nbformat_minor": 5
}
