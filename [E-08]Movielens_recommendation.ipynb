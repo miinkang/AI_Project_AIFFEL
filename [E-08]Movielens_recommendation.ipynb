{
 "cells": [
  {
   "cell_type": "markdown",
   "id": "caroline-asbestos",
   "metadata": {},
   "source": [
    "# [Exploration 07] Movielens 영화 추천 \n",
    "\n",
    "## 프로젝트 설명 \n",
    "- 추천시스템 실습\n",
    "- Movielens 데이터셋을 사용\n",
    "    ```\n",
    "    $ wget http://files.grouplens.org/datasets/movielens/ml-1m.zip\n",
    "    ```\n",
    "    \n",
    "- MF모델 사용"
   ]
  },
  {
   "cell_type": "markdown",
   "id": "social-concentration",
   "metadata": {},
   "source": [
    "## 01. 데이터 준비와 전처리\n",
    "## 02. 분석해 봅시다.\n",
    "- ratings에 있는 유니크한 영화 개수\n",
    "- rating에 있는 유니크한 사용자 수\n",
    "- 가장 인기 있는 영화 30개(인기순)\n",
    "## 03. 내가 선호하는 영화를 5가지 골라서 rating에 추가해 줍시다.\n",
    "## 04. CSR matrix를 직접 만들어 봅시다.\n",
    "## 05. als_model = AlternatingLeastSquares 모델을 직접 구성하여 훈련시켜 봅시다.\n",
    "## 06. 내가 선호하는 5가지 영화 중 하나와 그 외의 영화 하나를 골라 훈련된 모델이 예측한 나의 선호도를 파악해 보세요.\n",
    "## 07. 내가 좋아하는 영화와 비슷한 영화를 추천받아 봅시다.\n",
    "## 08. 내가 가장 좋아할 만한 영화들을 추천받아 봅시다."
   ]
  },
  {
   "cell_type": "markdown",
   "id": "silver-scholar",
   "metadata": {},
   "source": [
    "# 정리     \n",
    "---        \n",
    "1. 사진 모으기         \n",
    "    - 얼굴 정면 사진을 모은다.\n",
    "2. 얼굴 영역 자르기         \n",
    "    - dlib의 face_recognition을 사용해 얼굴 영역 좌표로 사진을 자른다.            \n",
    "3. 얼굴 영역의 임베딩 추출하기    \n",
    "    - face_recognition을 사용해서 얼굴 영역 이미지에서 임베딩 벡터를 추출한다.\n",
    "4. 사진 간 임베딩 벡터 거리 비교하기       \n",
    "    - 각 사진의 벡터 거리를 L2 Norm Distance로 계산한다.\n",
    "    - 가장 닮은 사진을 찾는다.\n",
    "5. 다양한 재미있는 시각화 시도해 보기         \n",
    "    - 사진을 출력해본다.\n",
    "\n",
    "\n",
    "# 루브릭 평가\n",
    "---\n",
    "1. ** CSR matrix가 정상적으로 만들어졌다.**   \n",
    "    - 사용자와 아이템 개수를 바탕으로 정확한 사이즈로 만들었다.\n",
    "\n",
    "\n",
    "2. **MF 모델이 정상적으로 훈련되어 그럴듯한 추천이 이루어졌다.**  \n",
    "    - 사용자와 아이템 벡터 내적수치가 의미있게 형성되었다.\n",
    "    \n",
    "     \n",
    "3. **비슷한 영화 찾기와 유저에게 추천하기의 과정이 정상적으로 진행되었다.**  \n",
    "    - MF모델이 예측한 유저 선호도 및 아이템간 유사도, 기여도가 의미있게 측정되었다.\n",
    "\n",
    "    \n",
    "# 회고\n",
    "---\n",
    "## 더 공부하고 싶은 부분\n",
    "\n",
    "\n",
    "## 느낀 점"
   ]
  }
 ],
 "metadata": {
  "kernelspec": {
   "display_name": "Python 3",
   "language": "python",
   "name": "python3"
  },
  "language_info": {
   "codemirror_mode": {
    "name": "ipython",
    "version": 3
   },
   "file_extension": ".py",
   "mimetype": "text/x-python",
   "name": "python",
   "nbconvert_exporter": "python",
   "pygments_lexer": "ipython3",
   "version": "3.7.9"
  }
 },
 "nbformat": 4,
 "nbformat_minor": 5
}
