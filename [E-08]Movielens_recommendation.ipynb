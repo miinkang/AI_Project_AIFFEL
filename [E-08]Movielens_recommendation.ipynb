{
 "cells": [
  {
   "cell_type": "markdown",
   "id": "standard-quantity",
   "metadata": {},
   "source": [
    "# [Exploration 08] Movielens 영화 추천 \n",
    "\n",
    "## 프로젝트 설명 \n",
    "- 추천시스템 실습\n",
    "- Movielens 데이터셋을 사용    \n",
    "`\n",
    "$ wget http://files.grouplens.org/datasets/movielens/ml-1m.zip\n",
    "`\n",
    "    - Movielens : 영화에 대한 평점을 매긴 데이터\n",
    "    - 평점 데이터는 explicit데이터이지만, implicit데이터로 간주하고 테스트 진행 \n",
    "    - 3점 미만은 비선호로 간주해 데이터셋에서 제외\n",
    "- MF모델 사용\n",
    "\n",
    "## 프로젝트 목표\n",
    "-"
   ]
  },
  {
   "cell_type": "markdown",
   "id": "fixed-checkout",
   "metadata": {},
   "source": [
    "## 01. load and preprocess data\n",
    "- column name을 생성합니다."
   ]
  },
  {
   "cell_type": "code",
   "execution_count": 1,
   "id": "stupid-campbell",
   "metadata": {},
   "outputs": [
    {
     "name": "stdout",
     "output_type": "stream",
     "text": [
      "(1000209, 4)\n"
     ]
    },
    {
     "data": {
      "text/html": [
       "<div>\n",
       "<style scoped>\n",
       "    .dataframe tbody tr th:only-of-type {\n",
       "        vertical-align: middle;\n",
       "    }\n",
       "\n",
       "    .dataframe tbody tr th {\n",
       "        vertical-align: top;\n",
       "    }\n",
       "\n",
       "    .dataframe thead th {\n",
       "        text-align: right;\n",
       "    }\n",
       "</style>\n",
       "<table border=\"1\" class=\"dataframe\">\n",
       "  <thead>\n",
       "    <tr style=\"text-align: right;\">\n",
       "      <th></th>\n",
       "      <th>user_id</th>\n",
       "      <th>movie_id</th>\n",
       "      <th>rating</th>\n",
       "      <th>timestamp</th>\n",
       "    </tr>\n",
       "  </thead>\n",
       "  <tbody>\n",
       "    <tr>\n",
       "      <th>0</th>\n",
       "      <td>1</td>\n",
       "      <td>1193</td>\n",
       "      <td>5</td>\n",
       "      <td>978300760</td>\n",
       "    </tr>\n",
       "    <tr>\n",
       "      <th>1</th>\n",
       "      <td>1</td>\n",
       "      <td>661</td>\n",
       "      <td>3</td>\n",
       "      <td>978302109</td>\n",
       "    </tr>\n",
       "    <tr>\n",
       "      <th>2</th>\n",
       "      <td>1</td>\n",
       "      <td>914</td>\n",
       "      <td>3</td>\n",
       "      <td>978301968</td>\n",
       "    </tr>\n",
       "    <tr>\n",
       "      <th>3</th>\n",
       "      <td>1</td>\n",
       "      <td>3408</td>\n",
       "      <td>4</td>\n",
       "      <td>978300275</td>\n",
       "    </tr>\n",
       "    <tr>\n",
       "      <th>4</th>\n",
       "      <td>1</td>\n",
       "      <td>2355</td>\n",
       "      <td>5</td>\n",
       "      <td>978824291</td>\n",
       "    </tr>\n",
       "  </tbody>\n",
       "</table>\n",
       "</div>"
      ],
      "text/plain": [
       "   user_id  movie_id  rating  timestamp\n",
       "0        1      1193       5  978300760\n",
       "1        1       661       3  978302109\n",
       "2        1       914       3  978301968\n",
       "3        1      3408       4  978300275\n",
       "4        1      2355       5  978824291"
      ]
     },
     "execution_count": 1,
     "metadata": {},
     "output_type": "execute_result"
    }
   ],
   "source": [
    "import os\n",
    "import pandas as pd\n",
    "\n",
    "rating_file_path=os.getenv('HOME') + '/aiffel/recommendata_iu/data/ml-1m/ratings.dat'\n",
    "ratings_cols = ['user_id', 'movie_id', 'rating', 'timestamp']      # column name이 없기 때문에 생성\n",
    "ratings = pd.read_csv(rating_file_path, sep='::', names=ratings_cols, engine='python')\n",
    "print(ratings.shape)\n",
    "ratings.head()"
   ]
  },
  {
   "cell_type": "markdown",
   "id": "joint-samoa",
   "metadata": {},
   "source": [
    "**메타 데이터('movies.dat')으로 영화 제목을 확인합니다.**"
   ]
  },
  {
   "cell_type": "code",
   "execution_count": 2,
   "id": "recent-niagara",
   "metadata": {
    "scrolled": true
   },
   "outputs": [
    {
     "name": "stdout",
     "output_type": "stream",
     "text": [
      "(3883, 3)\n"
     ]
    },
    {
     "data": {
      "text/html": [
       "<div>\n",
       "<style scoped>\n",
       "    .dataframe tbody tr th:only-of-type {\n",
       "        vertical-align: middle;\n",
       "    }\n",
       "\n",
       "    .dataframe tbody tr th {\n",
       "        vertical-align: top;\n",
       "    }\n",
       "\n",
       "    .dataframe thead th {\n",
       "        text-align: right;\n",
       "    }\n",
       "</style>\n",
       "<table border=\"1\" class=\"dataframe\">\n",
       "  <thead>\n",
       "    <tr style=\"text-align: right;\">\n",
       "      <th></th>\n",
       "      <th>movie_id</th>\n",
       "      <th>title</th>\n",
       "      <th>genre</th>\n",
       "    </tr>\n",
       "  </thead>\n",
       "  <tbody>\n",
       "    <tr>\n",
       "      <th>0</th>\n",
       "      <td>1</td>\n",
       "      <td>Toy Story (1995)</td>\n",
       "      <td>Animation|Children's|Comedy</td>\n",
       "    </tr>\n",
       "    <tr>\n",
       "      <th>1</th>\n",
       "      <td>2</td>\n",
       "      <td>Jumanji (1995)</td>\n",
       "      <td>Adventure|Children's|Fantasy</td>\n",
       "    </tr>\n",
       "    <tr>\n",
       "      <th>2</th>\n",
       "      <td>3</td>\n",
       "      <td>Grumpier Old Men (1995)</td>\n",
       "      <td>Comedy|Romance</td>\n",
       "    </tr>\n",
       "    <tr>\n",
       "      <th>3</th>\n",
       "      <td>4</td>\n",
       "      <td>Waiting to Exhale (1995)</td>\n",
       "      <td>Comedy|Drama</td>\n",
       "    </tr>\n",
       "    <tr>\n",
       "      <th>4</th>\n",
       "      <td>5</td>\n",
       "      <td>Father of the Bride Part II (1995)</td>\n",
       "      <td>Comedy</td>\n",
       "    </tr>\n",
       "  </tbody>\n",
       "</table>\n",
       "</div>"
      ],
      "text/plain": [
       "   movie_id                               title                         genre\n",
       "0         1                    Toy Story (1995)   Animation|Children's|Comedy\n",
       "1         2                      Jumanji (1995)  Adventure|Children's|Fantasy\n",
       "2         3             Grumpier Old Men (1995)                Comedy|Romance\n",
       "3         4            Waiting to Exhale (1995)                  Comedy|Drama\n",
       "4         5  Father of the Bride Part II (1995)                        Comedy"
      ]
     },
     "execution_count": 2,
     "metadata": {},
     "output_type": "execute_result"
    }
   ],
   "source": [
    "movie_file_path=os.getenv('HOME') + '/aiffel/recommendata_iu/data/ml-1m/movies.dat'\n",
    "cols = ['movie_id', 'title', 'genre'] \n",
    "movies = pd.read_csv(movie_file_path, sep='::', names=cols, engine='python', encoding = 'ISO-8859-1')\n",
    "print(movies.shape)\n",
    "movies.head()"
   ]
  },
  {
   "cell_type": "markdown",
   "id": "rental-initial",
   "metadata": {},
   "source": [
    "**ratings, movies의 데이터 갯수가 같은지 확인합니다.**"
   ]
  },
  {
   "cell_type": "code",
   "execution_count": 3,
   "id": "banned-optics",
   "metadata": {},
   "outputs": [
    {
     "name": "stdout",
     "output_type": "stream",
     "text": [
      "3706\n",
      "3883\n"
     ]
    }
   ],
   "source": [
    "print(ratings['movie_id'].nunique())\n",
    "print(movies['movie_id'].nunique())"
   ]
  },
  {
   "cell_type": "markdown",
   "id": "registered-cosmetic",
   "metadata": {},
   "source": [
    "- **데이터를 다루기 쉽도록 movies와 ratings를 합쳐주도록 하겠습니다.**"
   ]
  },
  {
   "cell_type": "code",
   "execution_count": 4,
   "id": "nasty-corpus",
   "metadata": {},
   "outputs": [],
   "source": [
    "ratings = pd.merge(ratings,movies, how='outer',on='movie_id') \n",
    "orginal_data_size = len(ratings)"
   ]
  },
  {
   "cell_type": "code",
   "execution_count": 5,
   "id": "trained-sessions",
   "metadata": {},
   "outputs": [
    {
     "data": {
      "text/html": [
       "<div>\n",
       "<style scoped>\n",
       "    .dataframe tbody tr th:only-of-type {\n",
       "        vertical-align: middle;\n",
       "    }\n",
       "\n",
       "    .dataframe tbody tr th {\n",
       "        vertical-align: top;\n",
       "    }\n",
       "\n",
       "    .dataframe thead th {\n",
       "        text-align: right;\n",
       "    }\n",
       "</style>\n",
       "<table border=\"1\" class=\"dataframe\">\n",
       "  <thead>\n",
       "    <tr style=\"text-align: right;\">\n",
       "      <th></th>\n",
       "      <th>user_id</th>\n",
       "      <th>movie_id</th>\n",
       "      <th>rating</th>\n",
       "      <th>timestamp</th>\n",
       "      <th>title</th>\n",
       "      <th>genre</th>\n",
       "    </tr>\n",
       "  </thead>\n",
       "  <tbody>\n",
       "    <tr>\n",
       "      <th>0</th>\n",
       "      <td>1.0</td>\n",
       "      <td>1193</td>\n",
       "      <td>5.0</td>\n",
       "      <td>978300760.0</td>\n",
       "      <td>One Flew Over the Cuckoo's Nest (1975)</td>\n",
       "      <td>Drama</td>\n",
       "    </tr>\n",
       "    <tr>\n",
       "      <th>1</th>\n",
       "      <td>2.0</td>\n",
       "      <td>1193</td>\n",
       "      <td>5.0</td>\n",
       "      <td>978298413.0</td>\n",
       "      <td>One Flew Over the Cuckoo's Nest (1975)</td>\n",
       "      <td>Drama</td>\n",
       "    </tr>\n",
       "    <tr>\n",
       "      <th>2</th>\n",
       "      <td>12.0</td>\n",
       "      <td>1193</td>\n",
       "      <td>4.0</td>\n",
       "      <td>978220179.0</td>\n",
       "      <td>One Flew Over the Cuckoo's Nest (1975)</td>\n",
       "      <td>Drama</td>\n",
       "    </tr>\n",
       "    <tr>\n",
       "      <th>3</th>\n",
       "      <td>15.0</td>\n",
       "      <td>1193</td>\n",
       "      <td>4.0</td>\n",
       "      <td>978199279.0</td>\n",
       "      <td>One Flew Over the Cuckoo's Nest (1975)</td>\n",
       "      <td>Drama</td>\n",
       "    </tr>\n",
       "    <tr>\n",
       "      <th>4</th>\n",
       "      <td>17.0</td>\n",
       "      <td>1193</td>\n",
       "      <td>5.0</td>\n",
       "      <td>978158471.0</td>\n",
       "      <td>One Flew Over the Cuckoo's Nest (1975)</td>\n",
       "      <td>Drama</td>\n",
       "    </tr>\n",
       "    <tr>\n",
       "      <th>...</th>\n",
       "      <td>...</td>\n",
       "      <td>...</td>\n",
       "      <td>...</td>\n",
       "      <td>...</td>\n",
       "      <td>...</td>\n",
       "      <td>...</td>\n",
       "    </tr>\n",
       "    <tr>\n",
       "      <th>1000381</th>\n",
       "      <td>NaN</td>\n",
       "      <td>3650</td>\n",
       "      <td>NaN</td>\n",
       "      <td>NaN</td>\n",
       "      <td>Anguish (Angustia) (1986)</td>\n",
       "      <td>Horror</td>\n",
       "    </tr>\n",
       "    <tr>\n",
       "      <th>1000382</th>\n",
       "      <td>NaN</td>\n",
       "      <td>3750</td>\n",
       "      <td>NaN</td>\n",
       "      <td>NaN</td>\n",
       "      <td>Boricua's Bond (2000)</td>\n",
       "      <td>Drama</td>\n",
       "    </tr>\n",
       "    <tr>\n",
       "      <th>1000383</th>\n",
       "      <td>NaN</td>\n",
       "      <td>3829</td>\n",
       "      <td>NaN</td>\n",
       "      <td>NaN</td>\n",
       "      <td>Mad About Mambo (2000)</td>\n",
       "      <td>Comedy|Romance</td>\n",
       "    </tr>\n",
       "    <tr>\n",
       "      <th>1000384</th>\n",
       "      <td>NaN</td>\n",
       "      <td>3856</td>\n",
       "      <td>NaN</td>\n",
       "      <td>NaN</td>\n",
       "      <td>Autumn Heart (1999)</td>\n",
       "      <td>Drama</td>\n",
       "    </tr>\n",
       "    <tr>\n",
       "      <th>1000385</th>\n",
       "      <td>NaN</td>\n",
       "      <td>3907</td>\n",
       "      <td>NaN</td>\n",
       "      <td>NaN</td>\n",
       "      <td>Prince of Central Park, The (1999)</td>\n",
       "      <td>Drama</td>\n",
       "    </tr>\n",
       "  </tbody>\n",
       "</table>\n",
       "<p>1000386 rows × 6 columns</p>\n",
       "</div>"
      ],
      "text/plain": [
       "         user_id  movie_id  rating    timestamp  \\\n",
       "0            1.0      1193     5.0  978300760.0   \n",
       "1            2.0      1193     5.0  978298413.0   \n",
       "2           12.0      1193     4.0  978220179.0   \n",
       "3           15.0      1193     4.0  978199279.0   \n",
       "4           17.0      1193     5.0  978158471.0   \n",
       "...          ...       ...     ...          ...   \n",
       "1000381      NaN      3650     NaN          NaN   \n",
       "1000382      NaN      3750     NaN          NaN   \n",
       "1000383      NaN      3829     NaN          NaN   \n",
       "1000384      NaN      3856     NaN          NaN   \n",
       "1000385      NaN      3907     NaN          NaN   \n",
       "\n",
       "                                          title           genre  \n",
       "0        One Flew Over the Cuckoo's Nest (1975)           Drama  \n",
       "1        One Flew Over the Cuckoo's Nest (1975)           Drama  \n",
       "2        One Flew Over the Cuckoo's Nest (1975)           Drama  \n",
       "3        One Flew Over the Cuckoo's Nest (1975)           Drama  \n",
       "4        One Flew Over the Cuckoo's Nest (1975)           Drama  \n",
       "...                                         ...             ...  \n",
       "1000381               Anguish (Angustia) (1986)          Horror  \n",
       "1000382                   Boricua's Bond (2000)           Drama  \n",
       "1000383                  Mad About Mambo (2000)  Comedy|Romance  \n",
       "1000384                     Autumn Heart (1999)           Drama  \n",
       "1000385      Prince of Central Park, The (1999)           Drama  \n",
       "\n",
       "[1000386 rows x 6 columns]"
      ]
     },
     "execution_count": 5,
     "metadata": {},
     "output_type": "execute_result"
    }
   ],
   "source": [
    "ratings"
   ]
  },
  {
   "cell_type": "markdown",
   "id": "accepting-editor",
   "metadata": {},
   "source": [
    "- 정수로 된 user_id, movie_id, 평점(rating), 재생시간(timestamp)을 확인    \n",
    "- 총 데이터 100만여개 확인\n",
    "\n",
    "**3점 이상의 데이터만 남깁니다.**\n",
    "- f string 소수점 코드 :.2%"
   ]
  },
  {
   "cell_type": "code",
   "execution_count": 6,
   "id": "pressed-stuff",
   "metadata": {},
   "outputs": [
    {
     "name": "stdout",
     "output_type": "stream",
     "text": [
      "orginal_data_size: 1000386, filtered_data_size: 836478\n",
      "Ratio of Remaining Data is 83.62%\n"
     ]
    }
   ],
   "source": [
    "ratings = ratings[ratings['rating']>=3]\n",
    "filtered_data_size = len(ratings)\n",
    "\n",
    "print(f'orginal_data_size: {orginal_data_size}, filtered_data_size: {filtered_data_size}')\n",
    "print(f'Ratio of Remaining Data is {filtered_data_size / orginal_data_size:.2%}')"
   ]
  },
  {
   "cell_type": "markdown",
   "id": "healthy-currency",
   "metadata": {},
   "source": [
    "**파일이름(ratings)와 겹치지 않도록 컬럼 *rating*의 이름을 *count*로 바꿉니다.**"
   ]
  },
  {
   "cell_type": "code",
   "execution_count": 7,
   "id": "significant-fraud",
   "metadata": {},
   "outputs": [
    {
     "name": "stderr",
     "output_type": "stream",
     "text": [
      "/home/aiffel-dj26/anaconda3/envs/aiffel/lib/python3.7/site-packages/pandas/core/frame.py:4446: SettingWithCopyWarning: \n",
      "A value is trying to be set on a copy of a slice from a DataFrame\n",
      "\n",
      "See the caveats in the documentation: https://pandas.pydata.org/pandas-docs/stable/user_guide/indexing.html#returning-a-view-versus-a-copy\n",
      "  errors=errors,\n"
     ]
    },
    {
     "data": {
      "text/plain": [
       "0          5.0\n",
       "1          5.0\n",
       "2          4.0\n",
       "3          4.0\n",
       "4          5.0\n",
       "          ... \n",
       "1000203    3.0\n",
       "1000204    5.0\n",
       "1000205    3.0\n",
       "1000207    5.0\n",
       "1000208    4.0\n",
       "Name: count, Length: 836478, dtype: float64"
      ]
     },
     "execution_count": 7,
     "metadata": {},
     "output_type": "execute_result"
    }
   ],
   "source": [
    "ratings.rename(columns={'rating':'count'}, inplace=True)\n",
    "ratings['count']"
   ]
  },
  {
   "cell_type": "code",
   "execution_count": 8,
   "id": "still-catch",
   "metadata": {},
   "outputs": [
    {
     "data": {
      "text/plain": [
       "3883"
      ]
     },
     "execution_count": 8,
     "metadata": {},
     "output_type": "execute_result"
    }
   ],
   "source": [
    "movies['movie_id'].nunique()"
   ]
  },
  {
   "cell_type": "code",
   "execution_count": 9,
   "id": "endangered-gateway",
   "metadata": {},
   "outputs": [
    {
     "data": {
      "text/plain": [
       "3628"
      ]
     },
     "execution_count": 9,
     "metadata": {},
     "output_type": "execute_result"
    }
   ],
   "source": [
    "ratings['movie_id'].nunique()"
   ]
  },
  {
   "cell_type": "markdown",
   "id": "completed-sudan",
   "metadata": {},
   "source": [
    "**ratings 데이터로 학습한 후, 메타 데이터로 예측한 영화의 제목, 장르를 확인해 모델을 평가할 수 있을 것으로 보입니다.**\n",
    "\n",
    "- id, title을 확인하는 함수 생성"
   ]
  },
  {
   "cell_type": "code",
   "execution_count": 11,
   "id": "differential-clearing",
   "metadata": {},
   "outputs": [],
   "source": [
    "def id_to_title(id):\n",
    "    return movies['title'][movies['movie_id']==id].values[0]"
   ]
  },
  {
   "cell_type": "code",
   "execution_count": 12,
   "id": "hungarian-demographic",
   "metadata": {},
   "outputs": [
    {
     "data": {
      "text/plain": [
       "'Jumanji (1995)'"
      ]
     },
     "execution_count": 12,
     "metadata": {},
     "output_type": "execute_result"
    }
   ],
   "source": [
    "id_to_title(2)"
   ]
  },
  {
   "cell_type": "code",
   "execution_count": 13,
   "id": "threaded-friendly",
   "metadata": {},
   "outputs": [],
   "source": [
    "def title_to_id(title):\n",
    "    return movies['movie_id'][movies['title']==title].values[0].item()"
   ]
  },
  {
   "cell_type": "code",
   "execution_count": 14,
   "id": "greenhouse-democrat",
   "metadata": {},
   "outputs": [
    {
     "data": {
      "text/plain": [
       "2"
      ]
     },
     "execution_count": 14,
     "metadata": {},
     "output_type": "execute_result"
    }
   ],
   "source": [
    "title_to_id('Jumanji (1995)')"
   ]
  },
  {
   "cell_type": "markdown",
   "id": "animal-interference",
   "metadata": {},
   "source": [
    "## 02. 데이터 파헤치기 \n",
    "- 더 세부적인 정보를 얻기 위해 다음을 출력해보겠습니다.\n",
    "    - ratings에 있는 유니크한 영화 개수\n",
    "    - rating에 있는 유니크한 사용자 수\n",
    "    - 가장 인기 있는 영화 30개(인기순)  "
   ]
  },
  {
   "cell_type": "code",
   "execution_count": 16,
   "id": "fatty-specification",
   "metadata": {},
   "outputs": [
    {
     "data": {
      "text/html": [
       "<div>\n",
       "<style scoped>\n",
       "    .dataframe tbody tr th:only-of-type {\n",
       "        vertical-align: middle;\n",
       "    }\n",
       "\n",
       "    .dataframe tbody tr th {\n",
       "        vertical-align: top;\n",
       "    }\n",
       "\n",
       "    .dataframe thead th {\n",
       "        text-align: right;\n",
       "    }\n",
       "</style>\n",
       "<table border=\"1\" class=\"dataframe\">\n",
       "  <thead>\n",
       "    <tr style=\"text-align: right;\">\n",
       "      <th></th>\n",
       "      <th>user_id</th>\n",
       "      <th>movie_id</th>\n",
       "      <th>count</th>\n",
       "      <th>timestamp</th>\n",
       "      <th>title</th>\n",
       "      <th>genre</th>\n",
       "    </tr>\n",
       "  </thead>\n",
       "  <tbody>\n",
       "    <tr>\n",
       "      <th>0</th>\n",
       "      <td>1.0</td>\n",
       "      <td>1193</td>\n",
       "      <td>5.0</td>\n",
       "      <td>978300760.0</td>\n",
       "      <td>One Flew Over the Cuckoo's Nest (1975)</td>\n",
       "      <td>Drama</td>\n",
       "    </tr>\n",
       "    <tr>\n",
       "      <th>1</th>\n",
       "      <td>2.0</td>\n",
       "      <td>1193</td>\n",
       "      <td>5.0</td>\n",
       "      <td>978298413.0</td>\n",
       "      <td>One Flew Over the Cuckoo's Nest (1975)</td>\n",
       "      <td>Drama</td>\n",
       "    </tr>\n",
       "    <tr>\n",
       "      <th>2</th>\n",
       "      <td>12.0</td>\n",
       "      <td>1193</td>\n",
       "      <td>4.0</td>\n",
       "      <td>978220179.0</td>\n",
       "      <td>One Flew Over the Cuckoo's Nest (1975)</td>\n",
       "      <td>Drama</td>\n",
       "    </tr>\n",
       "    <tr>\n",
       "      <th>3</th>\n",
       "      <td>15.0</td>\n",
       "      <td>1193</td>\n",
       "      <td>4.0</td>\n",
       "      <td>978199279.0</td>\n",
       "      <td>One Flew Over the Cuckoo's Nest (1975)</td>\n",
       "      <td>Drama</td>\n",
       "    </tr>\n",
       "    <tr>\n",
       "      <th>4</th>\n",
       "      <td>17.0</td>\n",
       "      <td>1193</td>\n",
       "      <td>5.0</td>\n",
       "      <td>978158471.0</td>\n",
       "      <td>One Flew Over the Cuckoo's Nest (1975)</td>\n",
       "      <td>Drama</td>\n",
       "    </tr>\n",
       "  </tbody>\n",
       "</table>\n",
       "</div>"
      ],
      "text/plain": [
       "   user_id  movie_id  count    timestamp  \\\n",
       "0      1.0      1193    5.0  978300760.0   \n",
       "1      2.0      1193    5.0  978298413.0   \n",
       "2     12.0      1193    4.0  978220179.0   \n",
       "3     15.0      1193    4.0  978199279.0   \n",
       "4     17.0      1193    5.0  978158471.0   \n",
       "\n",
       "                                    title  genre  \n",
       "0  One Flew Over the Cuckoo's Nest (1975)  Drama  \n",
       "1  One Flew Over the Cuckoo's Nest (1975)  Drama  \n",
       "2  One Flew Over the Cuckoo's Nest (1975)  Drama  \n",
       "3  One Flew Over the Cuckoo's Nest (1975)  Drama  \n",
       "4  One Flew Over the Cuckoo's Nest (1975)  Drama  "
      ]
     },
     "execution_count": 16,
     "metadata": {},
     "output_type": "execute_result"
    }
   ],
   "source": [
    "ratings.head()"
   ]
  },
  {
   "cell_type": "code",
   "execution_count": 17,
   "id": "informal-sacramento",
   "metadata": {},
   "outputs": [
    {
     "data": {
      "text/plain": [
       "6039"
      ]
     },
     "execution_count": 17,
     "metadata": {},
     "output_type": "execute_result"
    }
   ],
   "source": [
    "# 유니크한 사용자 수 \n",
    "ratings['user_id'].nunique()"
   ]
  },
  {
   "cell_type": "code",
   "execution_count": 18,
   "id": "tough-naples",
   "metadata": {},
   "outputs": [
    {
     "data": {
      "text/plain": [
       "3628"
      ]
     },
     "execution_count": 18,
     "metadata": {},
     "output_type": "execute_result"
    }
   ],
   "source": [
    "# 유니크한 영화 개수 \n",
    "ratings['movie_id'].nunique()"
   ]
  },
  {
   "cell_type": "code",
   "execution_count": 19,
   "id": "powerful-burner",
   "metadata": {
    "scrolled": true
   },
   "outputs": [
    {
     "data": {
      "text/plain": [
       "movie_id\n",
       "2858    3211\n",
       "260     2910\n",
       "1196    2885\n",
       "1210    2716\n",
       "2028    2561\n",
       "589     2509\n",
       "593     2498\n",
       "1198    2473\n",
       "1270    2460\n",
       "2571    2434\n",
       "480     2413\n",
       "2762    2385\n",
       "608     2371\n",
       "110     2314\n",
       "1580    2297\n",
       "527     2257\n",
       "1197    2252\n",
       "2396    2213\n",
       "1617    2210\n",
       "318     2194\n",
       "858     2167\n",
       "1265    2121\n",
       "1097    2102\n",
       "2997    2066\n",
       "2716    2051\n",
       "296     2030\n",
       "356     2022\n",
       "1240    2019\n",
       "1       2000\n",
       "457     1941\n",
       "Name: user_id, dtype: int64"
      ]
     },
     "execution_count": 19,
     "metadata": {},
     "output_type": "execute_result"
    }
   ],
   "source": [
    "# 인기 많은 영화\n",
    "movies_count = ratings.groupby('movie_id')['user_id'].count()   # 영화별 grouping, 사용자 수를 카운트\n",
    "movies_count.sort_values(ascending=False).head(30)              # 상위 30편"
   ]
  },
  {
   "cell_type": "markdown",
   "id": "closing-berry",
   "metadata": {},
   "source": [
    "**id로 되어있는 영화들, 영화의 제목을 알아봅시다!**"
   ]
  },
  {
   "cell_type": "code",
   "execution_count": 20,
   "id": "handled-enclosure",
   "metadata": {},
   "outputs": [
    {
     "data": {
      "text/plain": [
       "Int64Index([2858,  260, 1196, 1210, 2028,  589,  593, 1198, 1270, 2571,  480,\n",
       "            2762,  608,  110, 1580,  527, 1197, 2396, 1617,  318,  858, 1265,\n",
       "            1097, 2997, 2716,  296,  356, 1240,    1,  457],\n",
       "           dtype='int64', name='movie_id')"
      ]
     },
     "execution_count": 20,
     "metadata": {},
     "output_type": "execute_result"
    }
   ],
   "source": [
    "movies_30 = movies_count.sort_values(ascending=False).head(30)\n",
    "movies_30.keys()"
   ]
  },
  {
   "cell_type": "markdown",
   "id": "placed-mauritius",
   "metadata": {},
   "source": [
    "- 순위와 함꼐 뽑기"
   ]
  },
  {
   "cell_type": "code",
   "execution_count": 21,
   "id": "cellular-yellow",
   "metadata": {},
   "outputs": [
    {
     "name": "stdout",
     "output_type": "stream",
     "text": [
      "2858 American Beauty (1999)\n",
      "260 Star Wars: Episode IV - A New Hope (1977)\n",
      "1196 Star Wars: Episode V - The Empire Strikes Back (1980)\n",
      "1210 Star Wars: Episode VI - Return of the Jedi (1983)\n",
      "2028 Saving Private Ryan (1998)\n",
      "589 Terminator 2: Judgment Day (1991)\n",
      "593 Silence of the Lambs, The (1991)\n",
      "1198 Raiders of the Lost Ark (1981)\n",
      "1270 Back to the Future (1985)\n",
      "2571 Matrix, The (1999)\n",
      "480 Jurassic Park (1993)\n",
      "2762 Sixth Sense, The (1999)\n",
      "608 Fargo (1996)\n",
      "110 Braveheart (1995)\n",
      "1580 Men in Black (1997)\n",
      "527 Schindler's List (1993)\n",
      "1197 Princess Bride, The (1987)\n",
      "2396 Shakespeare in Love (1998)\n",
      "1617 L.A. Confidential (1997)\n",
      "318 Shawshank Redemption, The (1994)\n",
      "858 Godfather, The (1972)\n",
      "1265 Groundhog Day (1993)\n",
      "1097 E.T. the Extra-Terrestrial (1982)\n",
      "2997 Being John Malkovich (1999)\n",
      "2716 Ghostbusters (1984)\n",
      "296 Pulp Fiction (1994)\n",
      "356 Forrest Gump (1994)\n",
      "1240 Terminator, The (1984)\n",
      "1 Toy Story (1995)\n",
      "457 Fugitive, The (1993)\n"
     ]
    }
   ],
   "source": [
    "for idx, i in zip(movies_30.index, movies_30.keys()):\n",
    "    print(idx, id_to_title(i))"
   ]
  },
  {
   "cell_type": "markdown",
   "id": "martial-kenya",
   "metadata": {},
   "source": [
    "**영화와 유저에 대한 통계, 영화 재생 시간에 대한 통계를 내보겠습니다.**"
   ]
  },
  {
   "cell_type": "code",
   "execution_count": 22,
   "id": "impressive-crawford",
   "metadata": {},
   "outputs": [
    {
     "data": {
      "text/plain": [
       "count    6039.000000\n",
       "mean      138.512668\n",
       "std       156.241599\n",
       "min         1.000000\n",
       "25%        38.000000\n",
       "50%        81.000000\n",
       "75%       177.000000\n",
       "max      1968.000000\n",
       "Name: movie_id, dtype: float64"
      ]
     },
     "execution_count": 22,
     "metadata": {},
     "output_type": "execute_result"
    }
   ],
   "source": [
    "# 유저별 몇 편의 영화를 봤는지에 대한 통계\n",
    "user_count = ratings.groupby('user_id')['movie_id'].count()\n",
    "user_count.describe()"
   ]
  },
  {
   "cell_type": "code",
   "execution_count": 23,
   "id": "aerial-swimming",
   "metadata": {},
   "outputs": [
    {
     "data": {
      "text/plain": [
       "count    6.039000e+03\n",
       "mean     9.705019e+08\n",
       "std      8.916703e+06\n",
       "min      9.567058e+08\n",
       "25%      9.650976e+08\n",
       "50%      9.720067e+08\n",
       "75%      9.748566e+08\n",
       "max      1.045440e+09\n",
       "Name: timestamp, dtype: float64"
      ]
     },
     "execution_count": 23,
     "metadata": {},
     "output_type": "execute_result"
    }
   ],
   "source": [
    "# 유저별 play횟수 중앙값에 대한 통계\n",
    "user_median = ratings.groupby('user_id')['timestamp'].median()\n",
    "user_median.describe()"
   ]
  },
  {
   "cell_type": "code",
   "execution_count": 24,
   "id": "upper-aspect",
   "metadata": {},
   "outputs": [
    {
     "data": {
      "text/html": [
       "<div>\n",
       "<style scoped>\n",
       "    .dataframe tbody tr th:only-of-type {\n",
       "        vertical-align: middle;\n",
       "    }\n",
       "\n",
       "    .dataframe tbody tr th {\n",
       "        vertical-align: top;\n",
       "    }\n",
       "\n",
       "    .dataframe thead th {\n",
       "        text-align: right;\n",
       "    }\n",
       "</style>\n",
       "<table border=\"1\" class=\"dataframe\">\n",
       "  <thead>\n",
       "    <tr style=\"text-align: right;\">\n",
       "      <th></th>\n",
       "      <th>user_id</th>\n",
       "      <th>movie_id</th>\n",
       "      <th>count</th>\n",
       "      <th>timestamp</th>\n",
       "    </tr>\n",
       "  </thead>\n",
       "  <tbody>\n",
       "    <tr>\n",
       "      <th>count</th>\n",
       "      <td>836478.000000</td>\n",
       "      <td>836478.000000</td>\n",
       "      <td>836478.000000</td>\n",
       "      <td>8.364780e+05</td>\n",
       "    </tr>\n",
       "    <tr>\n",
       "      <th>mean</th>\n",
       "      <td>3033.120626</td>\n",
       "      <td>1849.099114</td>\n",
       "      <td>3.958293</td>\n",
       "      <td>9.721628e+08</td>\n",
       "    </tr>\n",
       "    <tr>\n",
       "      <th>std</th>\n",
       "      <td>1729.255651</td>\n",
       "      <td>1091.870094</td>\n",
       "      <td>0.762280</td>\n",
       "      <td>1.206216e+07</td>\n",
       "    </tr>\n",
       "    <tr>\n",
       "      <th>min</th>\n",
       "      <td>1.000000</td>\n",
       "      <td>1.000000</td>\n",
       "      <td>3.000000</td>\n",
       "      <td>9.567039e+08</td>\n",
       "    </tr>\n",
       "    <tr>\n",
       "      <th>25%</th>\n",
       "      <td>1531.000000</td>\n",
       "      <td>1029.000000</td>\n",
       "      <td>3.000000</td>\n",
       "      <td>9.652795e+08</td>\n",
       "    </tr>\n",
       "    <tr>\n",
       "      <th>50%</th>\n",
       "      <td>3080.000000</td>\n",
       "      <td>1747.000000</td>\n",
       "      <td>4.000000</td>\n",
       "      <td>9.728388e+08</td>\n",
       "    </tr>\n",
       "    <tr>\n",
       "      <th>75%</th>\n",
       "      <td>4485.000000</td>\n",
       "      <td>2763.000000</td>\n",
       "      <td>5.000000</td>\n",
       "      <td>9.752064e+08</td>\n",
       "    </tr>\n",
       "    <tr>\n",
       "      <th>max</th>\n",
       "      <td>6040.000000</td>\n",
       "      <td>3952.000000</td>\n",
       "      <td>5.000000</td>\n",
       "      <td>1.046455e+09</td>\n",
       "    </tr>\n",
       "  </tbody>\n",
       "</table>\n",
       "</div>"
      ],
      "text/plain": [
       "             user_id       movie_id          count     timestamp\n",
       "count  836478.000000  836478.000000  836478.000000  8.364780e+05\n",
       "mean     3033.120626    1849.099114       3.958293  9.721628e+08\n",
       "std      1729.255651    1091.870094       0.762280  1.206216e+07\n",
       "min         1.000000       1.000000       3.000000  9.567039e+08\n",
       "25%      1531.000000    1029.000000       3.000000  9.652795e+08\n",
       "50%      3080.000000    1747.000000       4.000000  9.728388e+08\n",
       "75%      4485.000000    2763.000000       5.000000  9.752064e+08\n",
       "max      6040.000000    3952.000000       5.000000  1.046455e+09"
      ]
     },
     "execution_count": 24,
     "metadata": {},
     "output_type": "execute_result"
    }
   ],
   "source": [
    "ratings.describe()"
   ]
  },
  {
   "cell_type": "markdown",
   "id": "funded-mobile",
   "metadata": {},
   "source": [
    "## 02. 모델 검증을 위한 데이터 추가\n",
    "- 내가 선호하는 영화를 5가지 골라서 rating에 추가합니다.\n",
    "    - 필요한 데이터 : user_id, movie_id, count, timestamp"
   ]
  },
  {
   "cell_type": "code",
   "execution_count": 25,
   "id": "beautiful-investor",
   "metadata": {},
   "outputs": [
    {
     "data": {
      "text/html": [
       "<div>\n",
       "<style scoped>\n",
       "    .dataframe tbody tr th:only-of-type {\n",
       "        vertical-align: middle;\n",
       "    }\n",
       "\n",
       "    .dataframe tbody tr th {\n",
       "        vertical-align: top;\n",
       "    }\n",
       "\n",
       "    .dataframe thead th {\n",
       "        text-align: right;\n",
       "    }\n",
       "</style>\n",
       "<table border=\"1\" class=\"dataframe\">\n",
       "  <thead>\n",
       "    <tr style=\"text-align: right;\">\n",
       "      <th></th>\n",
       "      <th>user_id</th>\n",
       "      <th>movie_id</th>\n",
       "      <th>count</th>\n",
       "      <th>timestamp</th>\n",
       "      <th>title</th>\n",
       "      <th>genre</th>\n",
       "    </tr>\n",
       "  </thead>\n",
       "  <tbody>\n",
       "    <tr>\n",
       "      <th>1000203</th>\n",
       "      <td>5556.0</td>\n",
       "      <td>2198</td>\n",
       "      <td>3.0</td>\n",
       "      <td>959445515.0</td>\n",
       "      <td>Modulations (1998)</td>\n",
       "      <td>Documentary</td>\n",
       "    </tr>\n",
       "    <tr>\n",
       "      <th>1000204</th>\n",
       "      <td>5949.0</td>\n",
       "      <td>2198</td>\n",
       "      <td>5.0</td>\n",
       "      <td>958846401.0</td>\n",
       "      <td>Modulations (1998)</td>\n",
       "      <td>Documentary</td>\n",
       "    </tr>\n",
       "    <tr>\n",
       "      <th>1000205</th>\n",
       "      <td>5675.0</td>\n",
       "      <td>2703</td>\n",
       "      <td>3.0</td>\n",
       "      <td>976029116.0</td>\n",
       "      <td>Broken Vessels (1998)</td>\n",
       "      <td>Drama</td>\n",
       "    </tr>\n",
       "    <tr>\n",
       "      <th>1000207</th>\n",
       "      <td>5851.0</td>\n",
       "      <td>3607</td>\n",
       "      <td>5.0</td>\n",
       "      <td>957756608.0</td>\n",
       "      <td>One Little Indian (1973)</td>\n",
       "      <td>Comedy|Drama|Western</td>\n",
       "    </tr>\n",
       "    <tr>\n",
       "      <th>1000208</th>\n",
       "      <td>5938.0</td>\n",
       "      <td>2909</td>\n",
       "      <td>4.0</td>\n",
       "      <td>957273353.0</td>\n",
       "      <td>Five Wives, Three Secretaries and Me (1998)</td>\n",
       "      <td>Documentary</td>\n",
       "    </tr>\n",
       "    <tr>\n",
       "      <th>0</th>\n",
       "      <td>miinkang</td>\n",
       "      <td>Alien (1979)</td>\n",
       "      <td>5.0</td>\n",
       "      <td>972162800.0</td>\n",
       "      <td>NaN</td>\n",
       "      <td>NaN</td>\n",
       "    </tr>\n",
       "    <tr>\n",
       "      <th>1</th>\n",
       "      <td>miinkang</td>\n",
       "      <td>Sudden Manhattan (1996)</td>\n",
       "      <td>5.0</td>\n",
       "      <td>972162800.0</td>\n",
       "      <td>NaN</td>\n",
       "      <td>NaN</td>\n",
       "    </tr>\n",
       "    <tr>\n",
       "      <th>2</th>\n",
       "      <td>miinkang</td>\n",
       "      <td>Fall (1997)</td>\n",
       "      <td>5.0</td>\n",
       "      <td>972162800.0</td>\n",
       "      <td>NaN</td>\n",
       "      <td>NaN</td>\n",
       "    </tr>\n",
       "    <tr>\n",
       "      <th>3</th>\n",
       "      <td>miinkang</td>\n",
       "      <td>Mad City (1997)</td>\n",
       "      <td>5.0</td>\n",
       "      <td>972162800.0</td>\n",
       "      <td>NaN</td>\n",
       "      <td>NaN</td>\n",
       "    </tr>\n",
       "    <tr>\n",
       "      <th>4</th>\n",
       "      <td>miinkang</td>\n",
       "      <td>Alien: Resurrection (1997)</td>\n",
       "      <td>5.0</td>\n",
       "      <td>972162800.0</td>\n",
       "      <td>NaN</td>\n",
       "      <td>NaN</td>\n",
       "    </tr>\n",
       "  </tbody>\n",
       "</table>\n",
       "</div>"
      ],
      "text/plain": [
       "          user_id                    movie_id  count    timestamp  \\\n",
       "1000203    5556.0                        2198    3.0  959445515.0   \n",
       "1000204    5949.0                        2198    5.0  958846401.0   \n",
       "1000205    5675.0                        2703    3.0  976029116.0   \n",
       "1000207    5851.0                        3607    5.0  957756608.0   \n",
       "1000208    5938.0                        2909    4.0  957273353.0   \n",
       "0        miinkang                Alien (1979)    5.0  972162800.0   \n",
       "1        miinkang     Sudden Manhattan (1996)    5.0  972162800.0   \n",
       "2        miinkang                 Fall (1997)    5.0  972162800.0   \n",
       "3        miinkang             Mad City (1997)    5.0  972162800.0   \n",
       "4        miinkang  Alien: Resurrection (1997)    5.0  972162800.0   \n",
       "\n",
       "                                               title                 genre  \n",
       "1000203                           Modulations (1998)           Documentary  \n",
       "1000204                           Modulations (1998)           Documentary  \n",
       "1000205                        Broken Vessels (1998)                 Drama  \n",
       "1000207                     One Little Indian (1973)  Comedy|Drama|Western  \n",
       "1000208  Five Wives, Three Secretaries and Me (1998)           Documentary  \n",
       "0                                                NaN                   NaN  \n",
       "1                                                NaN                   NaN  \n",
       "2                                                NaN                   NaN  \n",
       "3                                                NaN                   NaN  \n",
       "4                                                NaN                   NaN  "
      ]
     },
     "execution_count": 25,
     "metadata": {},
     "output_type": "execute_result"
    }
   ],
   "source": [
    "# 내가 좋아하는 영화 5편 추가\n",
    "my_fav = ['Alien (1979)' , 'Sudden Manhattan (1996)' ,'Fall (1997)' ,'Mad City (1997)' ,'Alien: Resurrection (1997)']\n",
    "\n",
    "# my_favorite을 movie_id로 변환 \n",
    "my_fav_id = [title_to_id(i) for i in my_fav]\n",
    "\n",
    "# user_id를 'miinkang'으로 정하고, 좋아하는 영화이니 모두 5점을 부여하겠습니다. \n",
    "my_movies = pd.DataFrame({'user_id': ['miinkang']*5, 'movie_id': my_fav, 'count':[5]*5, 'timestamp':[972162800]*5})\n",
    "\n",
    "if not ratings.isin({'user_id':['miinkang']})['user_id'].any():  # user_id에 동일 id가 있는지 확인 후 추가\n",
    "    ratings = ratings.append(my_movies)                            \n",
    "\n",
    "ratings.tail(10)       # append는 맨 뒤에 붙인다. "
   ]
  },
  {
   "cell_type": "code",
   "execution_count": 26,
   "id": "finnish-compromise",
   "metadata": {},
   "outputs": [],
   "source": [
    "# 고유한 유저, 아티스트를 찾아내는 코드\n",
    "user_unique = ratings['user_id'].unique()\n",
    "movie_unique = ratings['movie_id'].unique()\n",
    "\n",
    "# 유저, 아티스트 indexing 하는 코드 idx는 index의 약자입니다.\n",
    "user_to_idx = {v:k for k,v in enumerate(user_unique)}\n",
    "movie_to_idx = {v:k for k,v in enumerate(movie_unique)}"
   ]
  },
  {
   "cell_type": "code",
   "execution_count": 27,
   "id": "buried-equivalent",
   "metadata": {},
   "outputs": [
    {
     "data": {
      "text/plain": [
       "6039"
      ]
     },
     "execution_count": 27,
     "metadata": {},
     "output_type": "execute_result"
    }
   ],
   "source": [
    "user_to_idx['miinkang']"
   ]
  },
  {
   "cell_type": "markdown",
   "id": "subject-premises",
   "metadata": {},
   "source": [
    "- 위 방법으로 바꾸려고 했지만, id중복이 되기 때문에 빠진 값으로 바꿔준다. "
   ]
  },
  {
   "cell_type": "code",
   "execution_count": 26,
   "id": "exceptional-computer",
   "metadata": {},
   "outputs": [
    {
     "name": "stdout",
     "output_type": "stream",
     "text": [
      "3598\n"
     ]
    }
   ],
   "source": [
    "for i in range(1, 6040):\n",
    "    if i in ratings['user_id'].values:\n",
    "        continue\n",
    "    else:\n",
    "        print(i)"
   ]
  },
  {
   "cell_type": "code",
   "execution_count": 28,
   "id": "ranging-samuel",
   "metadata": {},
   "outputs": [
    {
     "name": "stdout",
     "output_type": "stream",
     "text": [
      "user_id column indexing OK!!\n",
      "movie id column indexing OK!!\n"
     ]
    },
    {
     "data": {
      "text/html": [
       "<div>\n",
       "<style scoped>\n",
       "    .dataframe tbody tr th:only-of-type {\n",
       "        vertical-align: middle;\n",
       "    }\n",
       "\n",
       "    .dataframe tbody tr th {\n",
       "        vertical-align: top;\n",
       "    }\n",
       "\n",
       "    .dataframe thead th {\n",
       "        text-align: right;\n",
       "    }\n",
       "</style>\n",
       "<table border=\"1\" class=\"dataframe\">\n",
       "  <thead>\n",
       "    <tr style=\"text-align: right;\">\n",
       "      <th></th>\n",
       "      <th>user_id</th>\n",
       "      <th>movie_id</th>\n",
       "      <th>count</th>\n",
       "      <th>timestamp</th>\n",
       "      <th>title</th>\n",
       "      <th>genre</th>\n",
       "    </tr>\n",
       "  </thead>\n",
       "  <tbody>\n",
       "    <tr>\n",
       "      <th>0</th>\n",
       "      <td>0</td>\n",
       "      <td>0</td>\n",
       "      <td>5.0</td>\n",
       "      <td>978300760.0</td>\n",
       "      <td>One Flew Over the Cuckoo's Nest (1975)</td>\n",
       "      <td>Drama</td>\n",
       "    </tr>\n",
       "    <tr>\n",
       "      <th>1</th>\n",
       "      <td>1</td>\n",
       "      <td>0</td>\n",
       "      <td>5.0</td>\n",
       "      <td>978298413.0</td>\n",
       "      <td>One Flew Over the Cuckoo's Nest (1975)</td>\n",
       "      <td>Drama</td>\n",
       "    </tr>\n",
       "    <tr>\n",
       "      <th>2</th>\n",
       "      <td>2</td>\n",
       "      <td>0</td>\n",
       "      <td>4.0</td>\n",
       "      <td>978220179.0</td>\n",
       "      <td>One Flew Over the Cuckoo's Nest (1975)</td>\n",
       "      <td>Drama</td>\n",
       "    </tr>\n",
       "    <tr>\n",
       "      <th>3</th>\n",
       "      <td>3</td>\n",
       "      <td>0</td>\n",
       "      <td>4.0</td>\n",
       "      <td>978199279.0</td>\n",
       "      <td>One Flew Over the Cuckoo's Nest (1975)</td>\n",
       "      <td>Drama</td>\n",
       "    </tr>\n",
       "    <tr>\n",
       "      <th>4</th>\n",
       "      <td>4</td>\n",
       "      <td>0</td>\n",
       "      <td>5.0</td>\n",
       "      <td>978158471.0</td>\n",
       "      <td>One Flew Over the Cuckoo's Nest (1975)</td>\n",
       "      <td>Drama</td>\n",
       "    </tr>\n",
       "    <tr>\n",
       "      <th>...</th>\n",
       "      <td>...</td>\n",
       "      <td>...</td>\n",
       "      <td>...</td>\n",
       "      <td>...</td>\n",
       "      <td>...</td>\n",
       "      <td>...</td>\n",
       "    </tr>\n",
       "    <tr>\n",
       "      <th>0</th>\n",
       "      <td>6039</td>\n",
       "      <td>3628</td>\n",
       "      <td>5.0</td>\n",
       "      <td>972162800.0</td>\n",
       "      <td>NaN</td>\n",
       "      <td>NaN</td>\n",
       "    </tr>\n",
       "    <tr>\n",
       "      <th>1</th>\n",
       "      <td>6039</td>\n",
       "      <td>3629</td>\n",
       "      <td>5.0</td>\n",
       "      <td>972162800.0</td>\n",
       "      <td>NaN</td>\n",
       "      <td>NaN</td>\n",
       "    </tr>\n",
       "    <tr>\n",
       "      <th>2</th>\n",
       "      <td>6039</td>\n",
       "      <td>3630</td>\n",
       "      <td>5.0</td>\n",
       "      <td>972162800.0</td>\n",
       "      <td>NaN</td>\n",
       "      <td>NaN</td>\n",
       "    </tr>\n",
       "    <tr>\n",
       "      <th>3</th>\n",
       "      <td>6039</td>\n",
       "      <td>3631</td>\n",
       "      <td>5.0</td>\n",
       "      <td>972162800.0</td>\n",
       "      <td>NaN</td>\n",
       "      <td>NaN</td>\n",
       "    </tr>\n",
       "    <tr>\n",
       "      <th>4</th>\n",
       "      <td>6039</td>\n",
       "      <td>3632</td>\n",
       "      <td>5.0</td>\n",
       "      <td>972162800.0</td>\n",
       "      <td>NaN</td>\n",
       "      <td>NaN</td>\n",
       "    </tr>\n",
       "  </tbody>\n",
       "</table>\n",
       "<p>836483 rows × 6 columns</p>\n",
       "</div>"
      ],
      "text/plain": [
       "    user_id  movie_id  count    timestamp  \\\n",
       "0         0         0    5.0  978300760.0   \n",
       "1         1         0    5.0  978298413.0   \n",
       "2         2         0    4.0  978220179.0   \n",
       "3         3         0    4.0  978199279.0   \n",
       "4         4         0    5.0  978158471.0   \n",
       "..      ...       ...    ...          ...   \n",
       "0      6039      3628    5.0  972162800.0   \n",
       "1      6039      3629    5.0  972162800.0   \n",
       "2      6039      3630    5.0  972162800.0   \n",
       "3      6039      3631    5.0  972162800.0   \n",
       "4      6039      3632    5.0  972162800.0   \n",
       "\n",
       "                                     title  genre  \n",
       "0   One Flew Over the Cuckoo's Nest (1975)  Drama  \n",
       "1   One Flew Over the Cuckoo's Nest (1975)  Drama  \n",
       "2   One Flew Over the Cuckoo's Nest (1975)  Drama  \n",
       "3   One Flew Over the Cuckoo's Nest (1975)  Drama  \n",
       "4   One Flew Over the Cuckoo's Nest (1975)  Drama  \n",
       "..                                     ...    ...  \n",
       "0                                      NaN    NaN  \n",
       "1                                      NaN    NaN  \n",
       "2                                      NaN    NaN  \n",
       "3                                      NaN    NaN  \n",
       "4                                      NaN    NaN  \n",
       "\n",
       "[836483 rows x 6 columns]"
      ]
     },
     "execution_count": 28,
     "metadata": {},
     "output_type": "execute_result"
    }
   ],
   "source": [
    "temp_user_data = ratings['user_id'].map(user_to_idx.get).dropna()\n",
    "if len(temp_user_data) == len(ratings):   # 모든 row가 정상적으로 인덱싱되었다면\n",
    "    print('user_id column indexing OK!!')\n",
    "    ratings['user_id'] = temp_user_data   # data['user_id']을 인덱싱된 Series로 교체해 줍니다. \n",
    "else:\n",
    "    print('user_id column indexing Fail!!')\n",
    "\n",
    "# artist_to_idx을 통해 artist 컬럼도 동일한 방식으로 인덱싱해 줍니다. \n",
    "temp_movie_data = ratings['movie_id'].map(movie_to_idx.get).dropna()\n",
    "if len(temp_movie_data) == len(ratings):\n",
    "    print('movie id column indexing OK!!')\n",
    "    ratings['movie_id'] = temp_movie_data\n",
    "else:\n",
    "    print('movie id column indexing Fail!!')\n",
    "\n",
    "ratings"
   ]
  },
  {
   "cell_type": "markdown",
   "id": "silent-leader",
   "metadata": {},
   "source": [
    "## 03. CSR matrix 만들기 "
   ]
  },
  {
   "cell_type": "code",
   "execution_count": 29,
   "id": "associate-maximum",
   "metadata": {
    "scrolled": true
   },
   "outputs": [
    {
     "data": {
      "text/plain": [
       "<6040x3633 sparse matrix of type '<class 'numpy.float64'>'\n",
       "\twith 836483 stored elements in Compressed Sparse Row format>"
      ]
     },
     "execution_count": 29,
     "metadata": {},
     "output_type": "execute_result"
    }
   ],
   "source": [
    "from scipy.sparse import csr_matrix\n",
    "\n",
    "num_user = ratings['user_id'].nunique()\n",
    "num_movie = ratings['movie_id'].nunique()\n",
    "\n",
    "csr_data = csr_matrix((ratings['count'], (ratings['user_id'], ratings['movie_id'])), shape=(num_user, num_movie))\n",
    "csr_data"
   ]
  },
  {
   "cell_type": "markdown",
   "id": "final-assault",
   "metadata": {},
   "source": [
    "## 04. 모델 학습 \n",
    "- als_model = AlternatingLeastSquares 모델을 직접 구성하여 학습하기"
   ]
  },
  {
   "cell_type": "code",
   "execution_count": 30,
   "id": "accompanied-behalf",
   "metadata": {},
   "outputs": [],
   "source": [
    "from implicit.als import AlternatingLeastSquares\n",
    "import os\n",
    "import numpy as np\n",
    "\n",
    "# implicit 라이브러리에서 권장하는 환경설정\n",
    "os.environ['OPENBLAS_NUM_THREADS']='1'\n",
    "os.environ['KMP_DUPLICATE_LIB_OK']='True'\n",
    "os.environ['MKL_NUM_THREADS']='1'"
   ]
  },
  {
   "cell_type": "code",
   "execution_count": 31,
   "id": "confused-output",
   "metadata": {},
   "outputs": [],
   "source": [
    "# Implicit AlternatingLeastSquares 모델 선언\n",
    "als_model = AlternatingLeastSquares(factors=3000, regularization=0.01, use_gpu=False, iterations=50, dtype=np.float32)"
   ]
  },
  {
   "cell_type": "code",
   "execution_count": 32,
   "id": "stainless-abortion",
   "metadata": {},
   "outputs": [
    {
     "data": {
      "text/plain": [
       "<3633x6040 sparse matrix of type '<class 'numpy.float64'>'\n",
       "\twith 836483 stored elements in Compressed Sparse Column format>"
      ]
     },
     "execution_count": 32,
     "metadata": {},
     "output_type": "execute_result"
    }
   ],
   "source": [
    "# als 모델은 input으로 (item X user 꼴의 matrix를 받기 때문에 Transpose해줍니다.)\n",
    "csr_data_transpose = csr_data.T\n",
    "csr_data_transpose"
   ]
  },
  {
   "cell_type": "code",
   "execution_count": 33,
   "id": "bulgarian-tobago",
   "metadata": {},
   "outputs": [
    {
     "data": {
      "application/vnd.jupyter.widget-view+json": {
       "model_id": "b3c7f115e33541b8ad669f031934fe55",
       "version_major": 2,
       "version_minor": 0
      },
      "text/plain": [
       "  0%|          | 0/50 [00:00<?, ?it/s]"
      ]
     },
     "metadata": {},
     "output_type": "display_data"
    }
   ],
   "source": [
    "# 모델 훈련\n",
    "als_model.fit(csr_data_transpose)"
   ]
  },
  {
   "cell_type": "markdown",
   "id": "stuffed-perry",
   "metadata": {},
   "source": [
    "## 05. 선호하는 영화를 이용해 학습된 모델이 예측한 선호도를 확인하기"
   ]
  },
  {
   "cell_type": "code",
   "execution_count": 81,
   "id": "entire-ocean",
   "metadata": {},
   "outputs": [],
   "source": [
    "miinkang, alien = user_to_idx['miinkang'], movie_to_idx['Alien: Resurrection (1997)']\n",
    "miinkang_vector, alien_vector = als_model.user_factors[miinkang], als_model.item_factors[alien]"
   ]
  },
  {
   "cell_type": "code",
   "execution_count": 36,
   "id": "alive-basis",
   "metadata": {},
   "outputs": [
    {
     "data": {
      "text/plain": [
       "array([ 0.42108274, -0.1434877 , -0.10709431, ..., -0.0661026 ,\n",
       "        0.1046145 ,  0.03232726], dtype=float32)"
      ]
     },
     "execution_count": 36,
     "metadata": {},
     "output_type": "execute_result"
    }
   ],
   "source": [
    "miinkang_vector"
   ]
  },
  {
   "cell_type": "code",
   "execution_count": 37,
   "id": "close-worst",
   "metadata": {},
   "outputs": [
    {
     "data": {
      "text/plain": [
       "array([0.00748233, 0.00262783, 0.00422243, ..., 0.00409044, 0.00725666,\n",
       "       0.00625757], dtype=float32)"
      ]
     },
     "execution_count": 37,
     "metadata": {},
     "output_type": "execute_result"
    }
   ],
   "source": [
    "alien_vector"
   ]
  },
  {
   "cell_type": "markdown",
   "id": "purple-integral",
   "metadata": {},
   "source": [
    "- 두 벡터를 곱해 1에 가까운 수가 나올 수록 학습이 잘 된 것이다."
   ]
  },
  {
   "cell_type": "code",
   "execution_count": 38,
   "id": "australian-equipment",
   "metadata": {
    "scrolled": true
   },
   "outputs": [
    {
     "data": {
      "text/plain": [
       "0.9511499"
      ]
     },
     "execution_count": 38,
     "metadata": {},
     "output_type": "execute_result"
    }
   ],
   "source": [
    "np.dot(miinkang_vector, alien_vector)"
   ]
  },
  {
   "cell_type": "markdown",
   "id": "specific-ozone",
   "metadata": {},
   "source": [
    "- 너무 낮기 때문에, iteration, factors를 높여보겠다.\n",
    "    - 0.00004xxx -> 0.0193257 로 높였다. \n",
    "- factors 100-> 500\n",
    "    - 0.0193257 -> 0.04424449\n",
    "- iteration 500 -> 1000\n",
    "    - 0.04424449 -> 8.422308e-10\n",
    "- iteration 50, fators 500 -> 3000\n",
    "    - 8.422308e-10 -> 0.9511499\n",
    "\n",
    "**iteration보다 fators를 늘이는 것이 학습이 잘 되었다.**\n",
    "\n",
    "### 선호하는 영화 리스트에 없었던 영화와 비교해보겠습니다."
   ]
  },
  {
   "cell_type": "code",
   "execution_count": 56,
   "id": "simple-amino",
   "metadata": {},
   "outputs": [
    {
     "name": "stdout",
     "output_type": "stream",
     "text": [
      "['Action|Horror|Sci-Fi|Thriller']\n",
      "[]\n",
      "['Romance']\n",
      "['Action|Drama']\n",
      "['Action|Horror|Sci-Fi']\n"
     ]
    }
   ],
   "source": [
    "# 선호하는 영화들의 장르 확인하기 \n",
    "\n",
    "for i in my_fav:\n",
    "    print(ratings[ratings['title']==i]['genre'].unique())"
   ]
  },
  {
   "cell_type": "code",
   "execution_count": 100,
   "id": "loaded-authority",
   "metadata": {},
   "outputs": [
    {
     "data": {
      "text/plain": [
       "array(['Alien: Resurrection (1997)', 'Hidden, The (1987)',\n",
       "       'Night of the Comet (1984)', 'Deep Rising (1998)',\n",
       "       'Hellraiser: Bloodline (1996)', 'Alligator (1980)',\n",
       "       'Chopping Mall (a.k.a. Killbots) (1986)'], dtype=object)"
      ]
     },
     "execution_count": 100,
     "metadata": {},
     "output_type": "execute_result"
    }
   ],
   "source": [
    "ratings[ratings['genre']=='Action|Horror|Sci-Fi']['title'].unique()"
   ]
  },
  {
   "cell_type": "code",
   "execution_count": 101,
   "id": "reserved-airplane",
   "metadata": {},
   "outputs": [
    {
     "data": {
      "text/plain": [
       "1762"
      ]
     },
     "execution_count": 101,
     "metadata": {},
     "output_type": "execute_result"
    }
   ],
   "source": [
    "title_to_id('Deep Rising (1998)')"
   ]
  },
  {
   "cell_type": "code",
   "execution_count": 107,
   "id": "critical-sociology",
   "metadata": {},
   "outputs": [
    {
     "data": {
      "text/plain": [
       "0.010117743"
      ]
     },
     "execution_count": 107,
     "metadata": {},
     "output_type": "execute_result"
    }
   ],
   "source": [
    "# deep = movie_to_idx['Deep Rising (1998)']  # 왜인지 안된다.. \n",
    "deep_vector = als_model.item_factors[1762]\n",
    "np.dot(miinkang_vector, deep_vector)"
   ]
  },
  {
   "cell_type": "markdown",
   "id": "simple-groove",
   "metadata": {},
   "source": [
    "낮게 나왔다..\n",
    "## 06. 내가 좋아하는 영화와 비슷한 영화를 추천받기\n",
    "- AlternatingLeastSquares의 similar_items 메서드를 통해 비슷한 영화를 찾기"
   ]
  },
  {
   "cell_type": "code",
   "execution_count": 105,
   "id": "intelligent-offering",
   "metadata": {},
   "outputs": [
    {
     "data": {
      "text/plain": [
       "[(3628, 1.0000001),\n",
       " (3632, 0.89860016),\n",
       " (3631, 0.89265996),\n",
       " (3630, 0.8847001),\n",
       " (3629, 0.8752242),\n",
       " (3587, 0.86790055),\n",
       " (3579, 0.867627),\n",
       " (3593, 0.86609346),\n",
       " (3478, 0.86546844),\n",
       " (3327, 0.8644257),\n",
       " (3598, 0.8639781),\n",
       " (3594, 0.86375123),\n",
       " (3613, 0.8624202),\n",
       " (3484, 0.86116225),\n",
       " (3459, 0.8602585)]"
      ]
     },
     "execution_count": 105,
     "metadata": {},
     "output_type": "execute_result"
    }
   ],
   "source": [
    "favorite_movie = 'Alien (1979)'\n",
    "movie_id = movie_to_idx[favorite_movie]\n",
    "similar_artist = als_model.similar_items(movie_id, N=15)\n",
    "similar_artist"
   ]
  },
  {
   "cell_type": "code",
   "execution_count": 115,
   "id": "saved-luxury",
   "metadata": {
    "scrolled": true
   },
   "outputs": [
    {
     "name": "stdout",
     "output_type": "stream",
     "text": [
      "['Action|Drama|War']\n",
      "['Comedy']\n",
      "['Comedy']\n",
      "[]\n",
      "['Comedy']\n",
      "['Horror']\n",
      "['Drama']\n",
      "['Action|Sci-Fi']\n",
      "['Drama']\n",
      "['Documentary']\n",
      "['Drama']\n",
      "['Drama']\n",
      "['Comedy']\n",
      "['Thriller']\n",
      "['Drama|Horror']\n"
     ]
    },
    {
     "data": {
      "text/plain": [
       "['Flying Tigers (1942)',\n",
       " 'Monsieur Verdoux (1947)',\n",
       " \"It's in the Water (1998)\",\n",
       " \"House of Exorcism, The (La Casa dell'esorcismo) (1974)\",\n",
       " 'Gold Rush, The (1925)',\n",
       " 'Inferno (1980)',\n",
       " 'I Dreamed of Africa (2000)',\n",
       " 'Battlefield Earth (2000)',\n",
       " 'Bamba, La (1987)',\n",
       " 'Beyond the Mat (2000)',\n",
       " 'Hamlet (2000)',\n",
       " 'Center Stage (2000)',\n",
       " 'Things Change (1988)',\n",
       " 'Skulls, The (2000)',\n",
       " 'Gothic (1986)']"
      ]
     },
     "execution_count": 115,
     "metadata": {},
     "output_type": "execute_result"
    }
   ],
   "source": [
    "# (movie_id, 유사도)\n",
    "# movie_id를 tilte로 변환합니다.\n",
    "for i in [id_to_title(i[0]) for i in similar_artist]:\n",
    "    print(ratings[ratings['title']==i]['genre'].unique())\n",
    "[id_to_title(i[0]) for i in similar_artist]"
   ]
  },
  {
   "cell_type": "markdown",
   "id": "bored-bahamas",
   "metadata": {},
   "source": [
    "**장르를 확인해보니 3가지만 좋아하는 영화의 장르와 같은 장르이다.**\n",
    "- 함수로 만들기"
   ]
  },
  {
   "cell_type": "code",
   "execution_count": 124,
   "id": "disciplinary-console",
   "metadata": {},
   "outputs": [],
   "source": [
    "def get_similar_movie(movie_name: str):\n",
    "    movie_name = movie_name\n",
    "    movie_id = movie_to_idx[movie_name]\n",
    "    similar_movie = als_model.similar_items(movie_id)\n",
    "    similar_movie = [id_to_title(i[0]) for i in similar_movie]\n",
    "    return similar_movie"
   ]
  },
  {
   "cell_type": "markdown",
   "id": "adequate-seating",
   "metadata": {},
   "source": [
    "## 07. 내가 가장 좋아할 만한 영화들을 추천받아 봅시다.\n",
    "- AlternatingLeastSquares의 recommend 메서드를 통해 비슷한 영화를 찾기"
   ]
  },
  {
   "cell_type": "code",
   "execution_count": 126,
   "id": "light-carnival",
   "metadata": {},
   "outputs": [
    {
     "data": {
      "text/plain": [
       "[(3543, 0.08742896),\n",
       " (3602, 0.08175069),\n",
       " (2910, 0.07100366),\n",
       " (3520, 0.066416845),\n",
       " (3489, 0.06490412),\n",
       " (3510, 0.059789747),\n",
       " (2682, 0.05894955),\n",
       " (2183, 0.057301566),\n",
       " (3593, 0.056624465),\n",
       " (3394, 0.054914333),\n",
       " (2676, 0.05396311),\n",
       " (3407, 0.05388003),\n",
       " (2790, 0.052828714),\n",
       " (3395, 0.052022915),\n",
       " (2990, 0.051221434),\n",
       " (3160, 0.05000774),\n",
       " (3555, 0.048234966),\n",
       " (3187, 0.047321834),\n",
       " (2802, 0.046658874),\n",
       " (3286, 0.046518803)]"
      ]
     },
     "execution_count": 126,
     "metadata": {},
     "output_type": "execute_result"
    }
   ],
   "source": [
    "user = user_to_idx['miinkang']\n",
    "# recommend에서는 user*item CSR Matrix를 받습니다.\n",
    "movie_recommended = als_model.recommend(user, csr_data, N=20, filter_already_liked_items=True)\n",
    "movie_recommended"
   ]
  },
  {
   "cell_type": "code",
   "execution_count": 130,
   "id": "found-couple",
   "metadata": {},
   "outputs": [
    {
     "data": {
      "text/plain": [
       "['Diner (1982)',\n",
       " 'G. I. Blues (1960)',\n",
       " \"Ennui, L' (1998)\",\n",
       " 'How to Stuff a Wild Bikini (1965)',\n",
       " 'Hook (1991)',\n",
       " 'Frequency (2000)',\n",
       " 'Limbo (1999)',\n",
       " 'Man Who Knew Too Much, The (1956)',\n",
       " 'Battlefield Earth (2000)',\n",
       " 'Blind Date (1987)',\n",
       " 'Instinct (1999)',\n",
       " 'Carriers Are Waiting, The (Les Convoyeurs Attendent) (1999)',\n",
       " 'Final Conflict, The (a.k.a. Omen III: The Final Conflict) (1981)',\n",
       " 'Nadine (1987)',\n",
       " 'Licence to Kill (1989)',\n",
       " 'Magnolia (1999)',\n",
       " 'U-571 (2000)',\n",
       " 'Trans (1998)',\n",
       " 'Tequila Sunrise (1988)',\n",
       " 'Snow Day (2000)']"
      ]
     },
     "execution_count": 130,
     "metadata": {},
     "output_type": "execute_result"
    }
   ],
   "source": [
    "[id_to_title(i[0]) for i in movie_recommended]"
   ]
  },
  {
   "cell_type": "code",
   "execution_count": 131,
   "id": "digital-banks",
   "metadata": {},
   "outputs": [
    {
     "name": "stdout",
     "output_type": "stream",
     "text": [
      "['Comedy|Drama']\n",
      "['Musical']\n",
      "[]\n",
      "['Comedy']\n",
      "['Adventure|Fantasy']\n",
      "['Drama|Thriller']\n",
      "['Drama']\n",
      "['Thriller']\n",
      "['Action|Sci-Fi']\n",
      "['Comedy|Romance']\n",
      "['Drama|Thriller']\n",
      "['Comedy|Drama']\n",
      "['Horror']\n",
      "['Comedy']\n",
      "['Action']\n",
      "['Drama']\n",
      "['Action|Thriller']\n",
      "['Drama']\n",
      "['Action|Romance|Thriller']\n",
      "['Comedy']\n"
     ]
    }
   ],
   "source": [
    "for i in [id_to_title(i[0]) for i in movie_recommended]:\n",
    "    print(ratings[ratings['title']==i]['genre'].unique())"
   ]
  },
  {
   "cell_type": "markdown",
   "id": "south-making",
   "metadata": {},
   "source": [
    "**뮤지컬, 코미디를 제외하고 다 좋아하는 영화의 장르가 나왔다.**\n",
    "- 이제  AlternatingLeastSquares 클래스에 구현된 explain 메소드를 이용해 추천시스템에 기여한 정도를 확인합니다."
   ]
  },
  {
   "cell_type": "code",
   "execution_count": 132,
   "id": "coordinated-coating",
   "metadata": {},
   "outputs": [],
   "source": [
    "alien = movie_to_idx['Alien (1979)']\n",
    "explain = als_model.explain(user, csr_data, itemid=alien)"
   ]
  },
  {
   "cell_type": "code",
   "execution_count": 133,
   "id": "latin-holocaust",
   "metadata": {
    "scrolled": true
   },
   "outputs": [
    {
     "data": {
      "text/plain": [
       "(0.9002295347956508,\n",
       " [(3628, 0.6565555105936658),\n",
       "  (3631, 0.07160090897228938),\n",
       "  (3632, 0.06873689239842334),\n",
       "  (3630, 0.0632145828176548),\n",
       "  (3629, 0.04012164001361762)],\n",
       " (array([[ 0.48148632,  0.19070034,  0.17290259, ...,  0.19827063,\n",
       "           0.1965718 ,  0.19098492],\n",
       "         [ 0.09181961,  0.43556172,  0.1130279 , ...,  0.12026023,\n",
       "           0.12590529,  0.12677351],\n",
       "         [ 0.08325023,  0.08220321,  0.41203133, ...,  0.08798368,\n",
       "           0.08409664,  0.08851522],\n",
       "         ...,\n",
       "         [ 0.09546459,  0.09019103,  0.0841263 , ...,  0.28165356,\n",
       "          -0.00548367,  0.00183927],\n",
       "         [ 0.09464663,  0.09232583,  0.08286904, ...,  0.09446497,\n",
       "           0.28534116,  0.00507954],\n",
       "         [ 0.09195663,  0.09163858,  0.08382177, ...,  0.09315241,\n",
       "           0.09770541,  0.28085487]]),\n",
       "  False))"
      ]
     },
     "execution_count": 133,
     "metadata": {},
     "output_type": "execute_result"
    }
   ],
   "source": [
    "explain"
   ]
  },
  {
   "cell_type": "markdown",
   "id": "acceptable-conversion",
   "metadata": {},
   "source": [
    "**explain에 (영화, 기여도) 가 나와있다.**"
   ]
  },
  {
   "cell_type": "code",
   "execution_count": 134,
   "id": "scheduled-reset",
   "metadata": {},
   "outputs": [
    {
     "data": {
      "text/plain": [
       "[('Flying Tigers (1942)', 0.6565555105936658),\n",
       " (\"It's in the Water (1998)\", 0.07160090897228938),\n",
       " ('Monsieur Verdoux (1947)', 0.06873689239842334),\n",
       " (\"House of Exorcism, The (La Casa dell'esorcismo) (1974)\",\n",
       "  0.0632145828176548),\n",
       " ('Gold Rush, The (1925)', 0.04012164001361762)]"
      ]
     },
     "execution_count": 134,
     "metadata": {},
     "output_type": "execute_result"
    }
   ],
   "source": [
    "[(id_to_title(i[0]), i[1]) for i in explain[1]]"
   ]
  },
  {
   "cell_type": "markdown",
   "id": "loose-stopping",
   "metadata": {},
   "source": [
    "- 가장 높은 기여도를 가진 'Flying Tigers (1942)'영화를 확인해보니, 장르가 선호하는 영화와 유사하다.\n",
    "- 가장 낮은 기여도를 가진 'Gold Rush, The (1925)'는 코미디 영화이다. (선호하는 영화 중 없었음)"
   ]
  },
  {
   "cell_type": "markdown",
   "id": "partial-disclosure",
   "metadata": {},
   "source": [
    "# 정리     \n",
    "---        \n",
    "1. 데이터 준비와 전처리\n",
    "    - ratings에 있는 유니크한 영화 개수\n",
    "    - rating에 있는 유니크한 사용자 수\n",
    "    - 가장 인기 있는 영화 30개(인기순)\n",
    "    - meta data(movies)와 ratings를 합친다.\n",
    "    - 평점 3점 이하의 데이터는 삭제한다.\n",
    "2. 내가 선호하는 영화를 5가지 골라서 rating에 추가\n",
    "    - 이를 통해서 후에 학습한 모델을 평가한다.\n",
    "3. CSR matrix 생성\n",
    "4. als_model = AlternatingLeastSquares 모델 구성 후 학습\n",
    "5. 모델 평가\n",
    "    - 추가한 데이터를 통해 선호도 추출\n",
    "    - 비슷한 영화 추출\n",
    "    - 사용자에게 추천하기\n",
    "\n",
    "\n",
    "# 루브릭 평가\n",
    "---\n",
    "1. **CSR matrix가 정상적으로 만들어졌다.**   \n",
    "    - 잘 만들어졌음을 확인할 수 있다.\n",
    "\n",
    "\n",
    "2. **MF 모델이 정상적으로 훈련되어 그럴듯한 추천이 이루어졌다.**  \n",
    "    - 기존 추가한 영화와의 선호도는 잘 나왔다.\n",
    "    \n",
    "     \n",
    "3. **비슷한 영화 찾기와 유저에게 추천하기의 과정이 정상적으로 진행되었다.**  \n",
    "    - 영화간 유사도는 의미있지 않았지만, 기여도는 의미있게 측정이 되었다. \n",
    "\n",
    "    \n",
    "# 회고\n",
    "---\n",
    "## 느낀 점\n",
    "- 영화 데이터 중 아는 영화가 거의 없어서 장르를 기준으로 판단할 수 밖에 없었던 점이 아쉬웠다.\n",
    "- MF 매트릭스, ALS 모델이 어떻게 구성되는지 공부할 수 있었다.\n",
    "- 하지만 단지 선호 여부에 따라서만 판단하는 점이 아쉽다.\n",
    "- 보다 세밀하게 구성되어있는 모델을 공부해보고 싶다. "
   ]
  }
 ],
 "metadata": {
  "kernelspec": {
   "display_name": "Python 3",
   "language": "python",
   "name": "python3"
  },
  "language_info": {
   "codemirror_mode": {
    "name": "ipython",
    "version": 3
   },
   "file_extension": ".py",
   "mimetype": "text/x-python",
   "name": "python",
   "nbconvert_exporter": "python",
   "pygments_lexer": "ipython3",
   "version": "3.7.9"
  }
 },
 "nbformat": 4,
 "nbformat_minor": 5
}
