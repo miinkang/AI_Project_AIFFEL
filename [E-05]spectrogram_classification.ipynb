{
 "cells": [
  {
   "cell_type": "markdown",
   "metadata": {},
   "source": [
    "# [Exploration 05] Spectrogram Classification\n",
    "- 2차원의 spectrogram 데이터를 분류하는 task\n",
    "- 기본 모델과 skip connection을 사용한 모델로 나누어 성능을 비교한다. \n",
    "- data source : [Kaggle/TensorFlow Speech Recognition Challenge](https://www.kaggle.com/c/tensorflow-speech-recognition-challenge)\n",
    "\n",
    "# 1-dimension wav file classification\n",
    "spectrogram 데이터를 다루기 전(변환 전) wav 파일을 이용해서 분류해보겠다.(데이터 간의 성능비교를 위해)\n",
    "## 1. load data "
   ]
  },
  {
   "cell_type": "code",
   "execution_count": 5,
   "metadata": {},
   "outputs": [
    {
     "name": "stdout",
     "output_type": "stream",
     "text": [
      "<numpy.lib.npyio.NpzFile object at 0x7faef85e0790>\n",
      "KeysView(<numpy.lib.npyio.NpzFile object at 0x7faef85e0790>)\n",
      "ValuesView(<numpy.lib.npyio.NpzFile object at 0x7faef85e0790>)\n"
     ]
    }
   ],
   "source": [
    "import numpy as np\n",
    "import os\n",
    "\n",
    "data_path = os.getenv(\"HOME\")+'/aiffel/speech_recognition/data/speech_wav_8000.npz'\n",
    "speech_data = np.load(data_path)\n",
    "\n",
    "print(speech_data)\n",
    "print(speech_data.keys())\n",
    "print(speech_data.values())\n"
   ]
  },
  {
   "cell_type": "markdown",
   "metadata": {},
   "source": [
    "- speech_data는 wav_vals, label_vals로 이루어져있다."
   ]
  },
  {
   "cell_type": "code",
   "execution_count": 6,
   "metadata": {},
   "outputs": [
    {
     "name": "stdout",
     "output_type": "stream",
     "text": [
      "Wave data shape :  (50620, 8000)\n",
      "Label data shape :  (50620, 1)\n"
     ]
    }
   ],
   "source": [
    "print(\"Wave data shape : \", speech_data[\"wav_vals\"].shape)\n",
    "print(\"Label data shape : \", speech_data[\"label_vals\"].shape)"
   ]
  },
  {
   "cell_type": "code",
   "execution_count": 7,
   "metadata": {},
   "outputs": [
    {
     "name": "stdout",
     "output_type": "stream",
     "text": [
      "[-1.27418665e-04 -1.12644804e-04 -1.86756923e-04 ... -1.62762426e-05\n",
      " -4.93293861e-04 -3.55132594e-04]\n",
      "8000\n",
      "[['down']\n",
      " ['down']\n",
      " ['down']\n",
      " ...\n",
      " ['silence']\n",
      " ['silence']\n",
      " ['silence']]\n"
     ]
    }
   ],
   "source": [
    "print(speech_data[\"wav_vals\"][0])\n",
    "print(len(speech_data[\"wav_vals\"][0]))\n",
    "print(speech_data[\"label_vals\"])"
   ]
  },
  {
   "cell_type": "markdown",
   "metadata": {},
   "source": [
    "- data는 총 50,620개\n",
    "- 모두 1초 음성데이터이다. \n",
    "- sampling rate : 8,000   \n",
    "\n",
    "\n",
    "- data 확인"
   ]
  },
  {
   "cell_type": "code",
   "execution_count": 8,
   "metadata": {},
   "outputs": [
    {
     "name": "stdout",
     "output_type": "stream",
     "text": [
      "rand num :  20348\n",
      "Wave data shape :  (8000,)\n",
      "label :  ['yes']\n"
     ]
    },
    {
     "data": {
      "text/html": [
       "\n",
       "                <audio  controls=\"controls\" >\n",
       "                    <source src=\"data:audio/wav;base64,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\" type=\"audio/wav\" />\n",
       "                    Your browser does not support the audio element.\n",
       "                </audio>\n",
       "              "
      ],
      "text/plain": [
       "<IPython.lib.display.Audio object>"
      ]
     },
     "execution_count": 8,
     "metadata": {},
     "output_type": "execute_result"
    }
   ],
   "source": [
    "import IPython.display as ipd\n",
    "import random\n",
    "\n",
    "rand = random.randint(0, len(speech_data[\"wav_vals\"]))\n",
    "print(\"rand num : \", rand)\n",
    "\n",
    "sr = 8000 # sampling rate : 1초동안 재생되는 샘플의 갯수\n",
    "data = speech_data[\"wav_vals\"][rand]\n",
    "print(\"Wave data shape : \", data.shape)\n",
    "print(\"label : \", speech_data[\"label_vals\"][rand])\n",
    "\n",
    "ipd.Audio(data, rate=sr)"
   ]
  },
  {
   "cell_type": "markdown",
   "metadata": {},
   "source": [
    "## 2. data 전처리\n",
    "- text로 된 label data 처리 \n",
    "- split data set    \n",
    "\n",
    "\n",
    "\n",
    "- label data 확인"
   ]
  },
  {
   "cell_type": "code",
   "execution_count": 9,
   "metadata": {},
   "outputs": [
    {
     "data": {
      "text/plain": [
       "array(['down', 'go', 'left', 'no', 'off', 'on', 'right', 'silence',\n",
       "       'stop', 'unknown', 'up', 'yes'], dtype='<U7')"
      ]
     },
     "execution_count": 9,
     "metadata": {},
     "output_type": "execute_result"
    }
   ],
   "source": [
    "labels = speech_data[\"label_vals\"]\n",
    "np.unique(labels)"
   ]
  },
  {
   "cell_type": "markdown",
   "metadata": {},
   "source": [
    "- 'unkown', 'silence'를 추가한다.\n",
    "- 각 label에 인덱스를 부여한다."
   ]
  },
  {
   "cell_type": "code",
   "execution_count": 10,
   "metadata": {},
   "outputs": [
    {
     "name": "stdout",
     "output_type": "stream",
     "text": [
      "LABEL :  ['yes', 'no', 'up', 'down', 'left', 'right', 'on', 'off', 'stop', 'go', 'unknown', 'silence']\n",
      "Indexed LABEL :  {'yes': 0, 'no': 1, 'up': 2, 'down': 3, 'left': 4, 'right': 5, 'on': 6, 'off': 7, 'stop': 8, 'go': 9, 'unknown': 10, 'silence': 11}\n"
     ]
    }
   ],
   "source": [
    "target_list = ['yes', 'no', 'up', 'down', 'left', 'right', 'on', 'off', 'stop', 'go']\n",
    "\n",
    "label_value = target_list\n",
    "label_value.append('unknown')\n",
    "label_value.append('silence')\n",
    "\n",
    "print('LABEL : ', label_value)\n",
    "\n",
    "new_label_value = dict()\n",
    "for i, l in enumerate(label_value):\n",
    "    new_label_value[l] = i\n",
    "label_value = new_label_value\n",
    "\n",
    "print('Indexed LABEL : ', label_value)"
   ]
  },
  {
   "cell_type": "markdown",
   "metadata": {},
   "source": [
    "- 위에서 만들어 둔 index를 이용해 label data를 숫자(index)로 바꾼다. "
   ]
  },
  {
   "cell_type": "code",
   "execution_count": 11,
   "metadata": {},
   "outputs": [
    {
     "data": {
      "text/plain": [
       "array([ 3,  3,  3, ..., 11, 11, 11])"
      ]
     },
     "execution_count": 11,
     "metadata": {},
     "output_type": "execute_result"
    }
   ],
   "source": [
    "temp = []\n",
    "for v in speech_data[\"label_vals\"]:\n",
    "    temp.append(label_value[v[0]])\n",
    "label_data = np.array(temp)\n",
    "\n",
    "label_data"
   ]
  },
  {
   "cell_type": "markdown",
   "metadata": {},
   "source": [
    "- data split : sklearn.model_selection을 이용한다. "
   ]
  },
  {
   "cell_type": "code",
   "execution_count": 38,
   "metadata": {},
   "outputs": [
    {
     "name": "stdout",
     "output_type": "stream",
     "text": [
      "train data :  (45558, 8000, 1)\n",
      "train labels :  (45558,)\n",
      "test data :  (5062, 8000, 1)\n",
      "test labels :  (5062,)\n"
     ]
    }
   ],
   "source": [
    "from sklearn.model_selection import train_test_split\n",
    "\n",
    "sr = 8000\n",
    "train_wav, test_wav, train_label, test_label = train_test_split(speech_data[\"wav_vals\"], \n",
    "                                                                label_data, \n",
    "                                                                test_size=0.1,\n",
    "                                                                shuffle=True)\n",
    "#print(train_wav)\n",
    "\n",
    "train_wav = train_wav.reshape([-1, sr, 1]) # CNN모델에 넣기 위해 차원을 늘려준다. \n",
    "test_wav = test_wav.reshape([-1, sr, 1])\n",
    "\n",
    "print(\"train data : \", train_wav.shape)\n",
    "print(\"train labels : \", train_label.shape)\n",
    "print(\"test data : \", test_wav.shape)\n",
    "print(\"test labels : \", test_label.shape)"
   ]
  },
  {
   "cell_type": "markdown",
   "metadata": {},
   "source": [
    "## 3. data setting\n",
    "- tf.data.Dataset 을 이용해 데이터셋을 구성한다. \n",
    "- 데이터셋 전처리, 배치처리를 쉽게할 수 있는 패키지"
   ]
  },
  {
   "cell_type": "code",
   "execution_count": 13,
   "metadata": {},
   "outputs": [],
   "source": [
    "# one hot encoding 해주는 함수\n",
    "def one_hot_label(wav, label):\n",
    "    label = tf.one_hot(label, depth=12)\n",
    "    return wav, label"
   ]
  },
  {
   "cell_type": "markdown",
   "metadata": {},
   "source": [
    "### hyper parameter 조정 "
   ]
  },
  {
   "cell_type": "code",
   "execution_count": 20,
   "metadata": {},
   "outputs": [
    {
     "data": {
      "text/plain": [
       "'/home/aiffel-dj26/aiffel/speech_recognition/models/wav'"
      ]
     },
     "execution_count": 20,
     "metadata": {},
     "output_type": "execute_result"
    }
   ],
   "source": [
    "batch_size = 32\n",
    "max_epochs = 5\n",
    "\n",
    "# the save point\n",
    "checkpoint_dir = os.getenv('HOME')+'/aiffel/speech_recognition/models/wav'\n",
    "\n",
    "checkpoint_dir"
   ]
  },
  {
   "cell_type": "code",
   "execution_count": 15,
   "metadata": {},
   "outputs": [
    {
     "name": "stdout",
     "output_type": "stream",
     "text": [
      "<BatchDataset shapes: ((None, 8000, 1), (None, 12)), types: (tf.float32, tf.float32)>\n",
      "<BatchDataset shapes: ((None, 8000, 1), (None, 12)), types: (tf.float32, tf.float32)>\n"
     ]
    }
   ],
   "source": [
    "import tensorflow as tf\n",
    "\n",
    "# for train\n",
    "train_dataset = tf.data.Dataset.from_tensor_slices((train_wav, train_label))\n",
    "# map함수를 사용하면, 함수를 매핑할 수 있다.\n",
    "train_dataset = train_dataset.map(one_hot_label)\n",
    "# repeat() : data를 반복호출한다.\n",
    "train_dataset = train_dataset.repeat().batch(batch_size=batch_size)\n",
    "print(train_dataset)\n",
    "\n",
    "# for test\n",
    "test_dataset = tf.data.Dataset.from_tensor_slices((test_wav, test_label))\n",
    "test_dataset = test_dataset.map(one_hot_label)\n",
    "test_dataset = test_dataset.batch(batch_size=batch_size)\n",
    "print(test_dataset)"
   ]
  },
  {
   "cell_type": "markdown",
   "metadata": {},
   "source": [
    "## 4. wave classification 모델 구현 \n",
    "- 1차원으로 구성한 데이터를 분류할 수 있는 CNN 모델을 구축한다."
   ]
  },
  {
   "cell_type": "code",
   "execution_count": 16,
   "metadata": {},
   "outputs": [
    {
     "name": "stdout",
     "output_type": "stream",
     "text": [
      "Model: \"model\"\n",
      "_________________________________________________________________\n",
      "Layer (type)                 Output Shape              Param #   \n",
      "=================================================================\n",
      "input_1 (InputLayer)         [(None, 8000, 1)]         0         \n",
      "_________________________________________________________________\n",
      "conv1d (Conv1D)              (None, 8000, 32)          320       \n",
      "_________________________________________________________________\n",
      "conv1d_1 (Conv1D)            (None, 8000, 32)          9248      \n",
      "_________________________________________________________________\n",
      "max_pooling1d (MaxPooling1D) (None, 4000, 32)          0         \n",
      "_________________________________________________________________\n",
      "conv1d_2 (Conv1D)            (None, 4000, 64)          18496     \n",
      "_________________________________________________________________\n",
      "conv1d_3 (Conv1D)            (None, 4000, 64)          36928     \n",
      "_________________________________________________________________\n",
      "max_pooling1d_1 (MaxPooling1 (None, 2000, 64)          0         \n",
      "_________________________________________________________________\n",
      "conv1d_4 (Conv1D)            (None, 2000, 128)         73856     \n",
      "_________________________________________________________________\n",
      "conv1d_5 (Conv1D)            (None, 2000, 128)         147584    \n",
      "_________________________________________________________________\n",
      "conv1d_6 (Conv1D)            (None, 2000, 128)         147584    \n",
      "_________________________________________________________________\n",
      "max_pooling1d_2 (MaxPooling1 (None, 1000, 128)         0         \n",
      "_________________________________________________________________\n",
      "conv1d_7 (Conv1D)            (None, 1000, 256)         295168    \n",
      "_________________________________________________________________\n",
      "conv1d_8 (Conv1D)            (None, 1000, 256)         590080    \n",
      "_________________________________________________________________\n",
      "conv1d_9 (Conv1D)            (None, 1000, 256)         590080    \n",
      "_________________________________________________________________\n",
      "max_pooling1d_3 (MaxPooling1 (None, 500, 256)          0         \n",
      "_________________________________________________________________\n",
      "dropout (Dropout)            (None, 500, 256)          0         \n",
      "_________________________________________________________________\n",
      "flatten (Flatten)            (None, 128000)            0         \n",
      "_________________________________________________________________\n",
      "dense (Dense)                (None, 256)               32768256  \n",
      "_________________________________________________________________\n",
      "batch_normalization (BatchNo (None, 256)               1024      \n",
      "_________________________________________________________________\n",
      "activation (Activation)      (None, 256)               0         \n",
      "_________________________________________________________________\n",
      "dense_1 (Dense)              (None, 12)                3084      \n",
      "=================================================================\n",
      "Total params: 34,681,708\n",
      "Trainable params: 34,681,196\n",
      "Non-trainable params: 512\n",
      "_________________________________________________________________\n"
     ]
    }
   ],
   "source": [
    "from tensorflow.keras import layers\n",
    "\n",
    "input_tensor = layers.Input(shape=(sr, 1))\n",
    "\n",
    "x = layers.Conv1D(32, 9, padding='same', activation='relu')(input_tensor)\n",
    "x = layers.Conv1D(32, 9, padding='same', activation='relu')(x)\n",
    "x = layers.MaxPool1D()(x)\n",
    "\n",
    "x = layers.Conv1D(64, 9, padding='same', activation='relu')(x)\n",
    "x = layers.Conv1D(64, 9, padding='same', activation='relu')(x)\n",
    "x = layers.MaxPool1D()(x)\n",
    "\n",
    "x = layers.Conv1D(128, 9, padding='same', activation='relu')(x)\n",
    "x = layers.Conv1D(128, 9, padding='same', activation='relu')(x)\n",
    "x = layers.Conv1D(128, 9, padding='same', activation='relu')(x)\n",
    "x = layers.MaxPool1D()(x)\n",
    "\n",
    "x = layers.Conv1D(256, 9, padding='same', activation='relu')(x)\n",
    "x = layers.Conv1D(256, 9, padding='same', activation='relu')(x)\n",
    "x = layers.Conv1D(256, 9, padding='same', activation='relu')(x)\n",
    "x = layers.MaxPool1D()(x)\n",
    "x = layers.Dropout(0.3)(x)\n",
    "\n",
    "x = layers.Flatten()(x)\n",
    "x = layers.Dense(256)(x)\n",
    "x = layers.BatchNormalization()(x)\n",
    "x = layers.Activation('relu')(x)\n",
    "\n",
    "output_tensor = layers.Dense(12)(x)\n",
    "\n",
    "model_wav = tf.keras.Model(input_tensor, output_tensor)\n",
    "\n",
    "model_wav.summary()"
   ]
  },
  {
   "cell_type": "code",
   "execution_count": 18,
   "metadata": {},
   "outputs": [],
   "source": [
    "optimizer=tf.keras.optimizers.Adam(1e-4)\n",
    "model_wav.compile(loss=tf.keras.losses.CategoricalCrossentropy(from_logits=True),\n",
    "             optimizer=optimizer,\n",
    "             metrics=['accuracy'])"
   ]
  },
  {
   "cell_type": "markdown",
   "metadata": {},
   "source": [
    "- 가장 성능이 좋은 모델을 checkpoint directory에 저장한다."
   ]
  },
  {
   "cell_type": "code",
   "execution_count": 21,
   "metadata": {},
   "outputs": [],
   "source": [
    "cp_callback = tf.keras.callbacks.ModelCheckpoint(checkpoint_dir,\n",
    "                                                 save_weights_only=True,\n",
    "                                                 monitor='val_loss',\n",
    "                                                 mode='auto',\n",
    "                                                 save_best_only=True,\n",
    "                                                 verbose=1)"
   ]
  },
  {
   "cell_type": "code",
   "execution_count": 22,
   "metadata": {},
   "outputs": [
    {
     "name": "stdout",
     "output_type": "stream",
     "text": [
      "Epoch 1/5\n",
      "1423/1423 [==============================] - ETA: 0s - loss: 1.4095 - accuracy: 0.5311\n",
      "Epoch 00001: val_loss improved from inf to 0.95853, saving model to /home/aiffel-dj26/aiffel/speech_recognition/models/wav\n",
      "1423/1423 [==============================] - 171s 120ms/step - loss: 1.4095 - accuracy: 0.5311 - val_loss: 0.9585 - val_accuracy: 0.7053\n",
      "Epoch 2/5\n",
      "1423/1423 [==============================] - ETA: 0s - loss: 0.7984 - accuracy: 0.7530\n",
      "Epoch 00002: val_loss improved from 0.95853 to 0.74234, saving model to /home/aiffel-dj26/aiffel/speech_recognition/models/wav\n",
      "1423/1423 [==============================] - 173s 121ms/step - loss: 0.7984 - accuracy: 0.7530 - val_loss: 0.7423 - val_accuracy: 0.7603\n",
      "Epoch 3/5\n",
      "1423/1423 [==============================] - ETA: 0s - loss: 0.5697 - accuracy: 0.8283\n",
      "Epoch 00003: val_loss improved from 0.74234 to 0.58828, saving model to /home/aiffel-dj26/aiffel/speech_recognition/models/wav\n",
      "1423/1423 [==============================] - 172s 121ms/step - loss: 0.5697 - accuracy: 0.8283 - val_loss: 0.5883 - val_accuracy: 0.8113\n",
      "Epoch 4/5\n",
      "1423/1423 [==============================] - ETA: 0s - loss: 0.3935 - accuracy: 0.8862\n",
      "Epoch 00004: val_loss improved from 0.58828 to 0.45308, saving model to /home/aiffel-dj26/aiffel/speech_recognition/models/wav\n",
      "1423/1423 [==============================] - 169s 119ms/step - loss: 0.3935 - accuracy: 0.8862 - val_loss: 0.4531 - val_accuracy: 0.8483\n",
      "Epoch 5/5\n",
      "1423/1423 [==============================] - ETA: 0s - loss: 0.2667 - accuracy: 0.9273\n",
      "Epoch 00005: val_loss improved from 0.45308 to 0.34263, saving model to /home/aiffel-dj26/aiffel/speech_recognition/models/wav\n",
      "1423/1423 [==============================] - 171s 120ms/step - loss: 0.2667 - accuracy: 0.9273 - val_loss: 0.3426 - val_accuracy: 0.8883\n"
     ]
    }
   ],
   "source": [
    "history_wav = model_wav.fit(train_dataset, epochs=max_epochs,\n",
    "                    steps_per_epoch=len(train_wav) // batch_size,\n",
    "                    validation_data=test_dataset,\n",
    "                    validation_steps=len(test_wav) // batch_size,\n",
    "                    callbacks=[cp_callback]\n",
    "                    )"
   ]
  },
  {
   "cell_type": "markdown",
   "metadata": {},
   "source": [
    "## 5. visualize model training history"
   ]
  },
  {
   "cell_type": "code",
   "execution_count": 23,
   "metadata": {},
   "outputs": [
    {
     "data": {
      "image/png": "[encoded data removed]",
      "text/plain": [
       "<Figure size 576x576 with 2 Axes>"
      ]
     },
     "metadata": {
      "needs_background": "light"
     },
     "output_type": "display_data"
    }
   ],
   "source": [
    "import matplotlib.pyplot as plt\n",
    "\n",
    "acc = history_wav.history['accuracy']\n",
    "val_acc = history_wav.history['val_accuracy']\n",
    "\n",
    "loss=history_wav.history['loss']\n",
    "val_loss=history_wav.history['val_loss']\n",
    "\n",
    "epochs_range = range(len(acc))\n",
    "\n",
    "plt.figure(figsize=(8, 8))\n",
    "plt.subplot(1, 2, 1)\n",
    "plt.plot(epochs_range, acc, label='Training Accuracy')\n",
    "plt.plot(epochs_range, val_acc, label='Validation Accuracy')\n",
    "plt.legend(loc='lower right')\n",
    "plt.title('Training and Validation Accuracy')\n",
    "\n",
    "plt.subplot(1, 2, 2)\n",
    "plt.plot(epochs_range, loss, label='Training Loss')\n",
    "plt.plot(epochs_range, val_loss, label='Validation Loss')\n",
    "plt.legend(loc='upper right')\n",
    "plt.title('Training and Validation Loss')\n",
    "plt.show()"
   ]
  },
  {
   "cell_type": "markdown",
   "metadata": {},
   "source": [
    "## 6. evaluate with best model weights"
   ]
  },
  {
   "cell_type": "code",
   "execution_count": 26,
   "metadata": {},
   "outputs": [
    {
     "name": "stdout",
     "output_type": "stream",
     "text": [
      "159/159 [==============================] - 14s 89ms/step - loss: 0.3423 - accuracy: 0.8884\n",
      "[0.34234097599983215, 0.8883840441703796]\n"
     ]
    }
   ],
   "source": [
    "model_wav.load_weights(checkpoint_dir)\n",
    "results = model_wav.evaluate(test_dataset)\n",
    "print(results)"
   ]
  },
  {
   "cell_type": "code",
   "execution_count": 27,
   "metadata": {},
   "outputs": [
    {
     "name": "stdout",
     "output_type": "stream",
     "text": [
      "loss value: 0.342\n",
      "accuracy value: 88.8384%\n"
     ]
    }
   ],
   "source": [
    "# loss\n",
    "print(\"loss value: {:.3f}\".format(results[0]))\n",
    "# accuracy\n",
    "print(\"accuracy value: {:.4f}%\".format(results[1]*100))"
   ]
  },
  {
   "cell_type": "markdown",
   "metadata": {},
   "source": [
    "## 7. test model\n",
    "- 음성 파일을 확인해 예측한 결과를 확인한다."
   ]
  },
  {
   "cell_type": "code",
   "execution_count": 28,
   "metadata": {},
   "outputs": [
    {
     "name": "stdout",
     "output_type": "stream",
     "text": [
      "label :  down\n"
     ]
    },
    {
     "data": {
      "text/html": [
       "\n",
       "                <audio  controls=\"controls\" >\n",
       "                    <source src=\"data:audio/wav;base64,UklGRqQ+AABXQVZFZm10IBAAAAABAAEAQB8AAIA+AAACABAAZGF0YYA+AAD+/wEAAwACAAAA/////wAAAgABAAEAAQACAAMAAgADAAIAAQAAAAAAAgADAAIAAAD///7//v8AAAMAAQD//////////wAAAwABAP3//v/+/wAAAgACAAIAAAD9//3///////3/AAD+//3//f/+/wEAAAAAAP3//P/9//7//v/+//7/AAABAP//////////AgAAAP///////wAA///////////+//7/AAAAAP/////+/wAAAQAAAP////8AAP/////+////AAAAAAAAAAD//////////wAAAQAAAP////////7//v/+/wAAAgAAAAAA///////////+//3//P/9//z//f8DAAIAAwACAAIAAwAAAAIA///8//z//P/+/wEAAQABAAIAAgADAAAA///////////+/wAAAwACAAMAAgAAAP//AAD//////v8BAAIAAgACAAEAAQAAAAAA/////wAA///9////AAACAAIAAAACAAAA/v////////8AAAAA/////wEAAwACAAMAAgADAAIAAAD//wMAAgADAAIAAwAAAP3//v8BAAAAAAACAAQAAAD7//v//P/8//3//////////v///wAAAAD+/wAA//8AAAAAAAACAP//AAABAAIAAQABAAEAAAD+//3///////7/AAAAAP////8CAAMA//8CAAMAAgADAAIAAwAAAP7//////////v8AAP///v/+/wAAAwACAAEAAQADAAIAAgABAAAAAAABAAQAAAAAAAIA/v/8//z/+//8//z//v8DAAIAAgABAAMAAQD+/wAAAwADAAEAAQACAAEAAQADAAAAAAD///////8AAAAA//8CAP/////+/wIAAAABAAEA//8DAAEAAgAAAAEAAAACAAAAAAAAAP/////9/wIAAAADAAIAAwAAAP//////////AQACAP//AQAAAP7/////////AAAAAAEAAwABAAIAAAAAAAQAAAD//wAAAQACAP7///////7//P/+//z//f8AAAAAAAD//wAA///+/////////wMAAwACAAMAAwAAAP3/AQD+/wEAAAACAAEAAAABAP3////+/wAA//8AAAMABAAAAAAAAwACAAIAAgAEAAMAAAAAAP//AAACAP7/AAAAAP//AQACAAAAAAAAAAIAAgADAAEA//8AAP7///////3//f8AAP//AwD+/////v8AAAAA/v8AAP7/AwD//wMAAwADAAIAAgAAAP//AAD9/wIAAAAAAAIAAgABAP//AwAAAAAAAAABAAEA//8CAP//AQAAAP7////+/wAAAAD//wAAAwADAAAAAAABAAEA//8AAAIAAAD/////AQACAP7/AAAAAAEAAQAAAAAAAQACAAMAAAD//wcAAAD+/wMAAQD7//3///8AAAgA///+/wAAAAAGAPf/AAD//wIAAAD3/wYA+v8NAPX/AQADAAQA+/8AAAQABAD+/wIA+v8FAAMAAAAKAN3/JwDm/14AXf8+AHwAZP9DANP/VwC6/xIABADx/yYA0/8mAN7/HwDu/wUAAAAAAAsA8/8HAAUAAQD2/wUABAAAAAAAAgD///3/AAAFAP3/+v8CAAMA///8/wAABQAAAP3/AAACAP3//v8CAPz/AQADAPf//v8JAAEA+/8EAAEAAQABAAAAAgD9/wEA/v8IAPj//v8JAP7/AwD5/w4A+v/8/w0A/f/8//3/CgD8////CAD6////AQAHAP7/+v8HAAUA/f/5/wUABQD///n/AQAJAPv//f8DAAEA/v8HAPz//f8DAAEABQD1/wcABQD9//3/BAAFAPn/CQD6//v/CAACAPr//P8IAAEA/P/7/wIACQD///f/AAALAAAA/P/9/wEABgD//wAA/P8GAAIA/v8AAAEABAD9//v/AAAHAAAA/f/8/wcAAQD7/wMAAAD+/wMAAwD3//z/BwADAP//+v8CAAsA/P8AAAAAAQAFAP7/AAACAAAA/v8EAAAA/f8GAAAA/f8CAAEA/v/8/wUAAwAAAP3/AQAAAAAACAD2//z/CQD+//r/BAAIAPv/AwACAPr/BwD7/wEA///8/woA/P8BAP3/AQAEAPv/AwD+/wEAAwD9//7/BgAAAPv/CAAAAAEA/v8FAAAA/P8HAP3/AAD//wAA/////wQA+f8DAAMA/P8DAAAACADy/wkACADt/wkABAD7//z/CAD///7/BQABAP7/AQAFAPv/AwAAAPz/AgAAAAAAAAACAP3/AAADAPv//P8DAAEA/P8DAP7//P8HAPf/AAACAPv/BwD7/wIAAgD/////AgACAP3/BQD+/wMAAAACAAAA//8GAPz/BAAAAAIAAQD+/wIAAgD//wIABQD6/wQA/////wUAAAAAAAMAAAAAAAQA/f8AAAAABQD///7/BAD+/wIA//8DAAAA/f8DAAMA/v/8/wQAAgD8//7/BAABAP7//f8AAAIA+v8BAP//9v8GAAEA+v8FAP7/AAD//wEA/v/9/wYA//8CAP//AgD//wAABAD+/wIA/v8CAAQA/f8EAAIA//8DAAIA/v8AAAMA//8AAAEA/v8DAAAA/v///wEAAAD+/wIAAQACAP7/AQABAP//AAD//wQA/v8BAAAA/v8DAP7/AgACAAMAAAAAAAMA/v8AAAAAAwACAP7/AAACAAEA/v///wIA/v8AAP//AgD///7/AAD8/wMA+v8AAAEA+/8AAP//AQD///7///8AAAMAAAD//wEAAgAAAAEABQD+/wEAAAD//wIA//8AAAAABAAAAP//AAAAAAIA//8CAAEAAAACAAIAAgAAAAAAAgABAAMAAAAAAAIAAAAAAAIAAwAAAAAAAwACAAIAAwACAAMA/////wMA//8BAAAA/v8AAP///f/8//z/+////wMAAgACAAMAAgACAP///P8DAAIA/v8AAAMAAAAAAAMA//8AAAIA/v8AAAMAAgD//wAABAACAAMAAAAAAAMA////////AAACAAEAAgABAAEA/f8BAAMAAAAAAAEAAwD+////AgD///7///8BAAMA/////wAAAgACAP7/AQABAP//AAAAAAQAAwACAP7/AAABAP7//v////7/+/8AAAIAAgADAAIAAwABAAIAAgADAAAA+//+//3/AQD/////AwAAAAAA//8AAAAAAgADAAAAAgAAAP///f///wEA/v8AAAAA//8CAAAAAgAAAAEAAQD+//////8DAP//AwABAP7/AgAEAAIAAQADAAAAAAADAAEAAwAAAAEAAAD//wMA//8DAAAA//8CAP7/AAABAAAAAgD/////AAD9//z///8BAAEAAAD+/wIAAAD//wQAAAABAP7/+//+/wAAAAD//wMAAwACAAIAAQACAAMAAgACAAAA/////wAAAAABAAAAAAADAAEA//8BAAMAAQACAAMA///9//3///8CAP//AAADAAAAAAACAAMAAQD/////AAADAAIAAwACAAMAAAD+/wMAAgACAAMAAgABAP7/AgD/////AgD///7/AQD///z/AQD+/wAA///9/////P///////v/+//3///8CAAIAAAD8/wAAAAD+/wIAAAD+/wIAAAAAAAMAAwAAAP////////7/AAADAAAA//8BAAAA/v8CAAMAAAAAAAEA/v8CAAAA//8CAAEAAAD+////AQABAP3///////3/AAADAAIAAwACAAIAAgAEAAIA//8AAP/////+//7////9//3/AAD8//7////////////+//3//v/6//v/+//6//v//f/9//z//P/+//3//P/8//v//f/8//z//v/+//3//P/9////AAD/////AQAFAAQABgAJAAsADQAOAA0ADgAPABAADgANAA4ADAALAAwACgAKAAsACAAHAAkACQAFAAAA/v/8//f/8//u/+n/5v/e/9n/1//S/8z/xv/E/8P/vv+//8H/wf/E/8n/0f/b/+P/7f/6/wcAFwAoADgASwBcAG4AfwCOAJoApgCuALUAuQC3ALUArACkAJsAiABzAGAASQAwABUA/P/f/8L/p/+L/3P/Wv9D/zD/IP8S/wv/Av/+/gD/A/8L/xb/Jf82/0j/Xv95/5b/tv/Y//3/HgBBAGYAhwCkAMAA1ADqAPcAAgEJAQkBCAH8APMA4ADNALQAmgCAAGIARQAkAAcA5v/G/6r/lP97/2D/Tv9D/0D/P/9E/03/YP97/5P/rv/F/+H//f8bAC0AMQA4AEgAVABPAEUAOgBEAEkAQwAZAPb/AAA0ADYA2P9w/03/cf+A/2X/Kv8H/w7/IP8p/y//M/9D/3H/sP/r/xMALABLAHcAnwC7ANMA/QAuAWUBlAG0AcYB0AHOAboBkgFXARoB0gCMAEsADQDZ/6H/b/9U/1T/YP9h/0v/Kv8X/wb/+/73/vz+H/9R/3f/gf9//4r/rP/Y//7/EAAPAAgAAADx/9j/rP9w/yb/4v60/pn+hf52/nb+mv7g/jj/lv/W/wwANgBfAHkAoADBAPgAQgGBAdkBBAI5AksCVwJoAk0CSgIYAvkBvwFpASQBpQBPAOj/lf8+/+H+l/5f/lf+V/5q/mL+Zf5h/mL+jv6j/q/+pP4G/zD/of+A/yUAHwBqACYAWwB7ABQAdgBGAJwABACXAAYAdADP/8oAyP9FAY4ATwLDAxcB/vs9+rX5nPgt/Hb4iQtzDk4DbAQA/z0AFP/l/p0A7wCUALr8BP1X/Av9EwDy/woBNgNVAQoEXgJuALgBXwFPASAA0/5M/VD/W/yi/Ib8qvwEAKABGAE8Av4CqQFQAr8AyP4SAOH/5P6z/k396/sp/Vv8bPy1/U7+1/+BAB0BeQGwAmQCrgI6AoICfQKbAYT/av7l/eL8v/wW/YL81/wr/fj7KP6BACsC8AJ4A3UDzANCA9QCKgIsAfEAwwF4AIQBvgFp/34BhACQ/k4BkgJyA4QJugpUC00LMgktBlwD+f0c9hPy1utp6DLnk+US6ILsjfGd+IH/oAW1C4AR0xJZEwQSUA0KC40FMAC6/Az5LPiG+ET5lfzoAdQFOgmSC0AMCw3UCrgGlQOU/137Cvhk9HTyJvKm8lX0r/Zl+ij+3wFaAnQGCwi9CDEJbwanBpcGqgZNAbYBXAIZDo0ayhb6EnkLcgVP/5HyaeOQ2tnXwtd52sHe5+Na9cIEug2LFCQUgRhrGuURDAdF/hD4+/cE9vjxw/Cp+gsHsw3XE5wVkhn3HUkYUQvzAWX3BfR978fo2u318eD6vP4U/rb+iAFjAHv94vxA9fz7Lf9R/VQBgQM5BaEL0AzcBicJkArRDtQaHSx7G7gOhAOD6nrt3tpkyZfMTtMz4JfxoflBANkT0hrdF+kS0QHT9a/24ewg5z/qL/EFBFoUThgxHdojgx9AHLoR0gAu/Y/zn+468kTxVfo1BmwIlA4FD98IQwns/7TyT+vH5iTkXe2J7dvxyQLKCq0RQxQYEdcQBRNVBr0Edvzu/OH8egzuNY8ekBY9Ay7l0vKv1YXJ9M8/z+DlOP13BegCWRZBF4ANKw588Hns+vDi6C30iPm8AJ4RNyK+GVgbbhhIB/gKWP2j95T8y/i2/5cJ7wRrCusOngfVBwT/A/Ze9CLwf+3o8IzwEPVO/JT4qPtjA1MGKgwoCt0LyAngBnsGugYK/2gDBwYgEgBDUyNpENn3/s9W4XvOzMxI1HjaN/fIEbkYjwyQDJoEz/Yg/ArmPd1160XziwxpGtkZAhhdHgkUURDuAanpaPRv+pcI2BCBDZMP+RNmD38Hz/qK8OP3H/nk/Af4VvK/8zP3ifa48j7xnfUGA5gN2A9oC8kNQAkICMoCs/cz+t4AYQ0AEvg8UUUGHK4J8M/gyITJfLso2CPbY/GFE4Ye2RyeDxD4TuR06+bm++Dj8N/2lxGoJNkkcx7kDM4DjQI6/V3y+vmfAP8SoSRwGqcPwQFZ+iv76/I08qj4QQJJC8sJbPjh6iTowuVQ79ry9/VuBiEVFx2TE+ID7P9Y+UwBxv47BpsEYwZPCiArOmcHLnMPl9DKsIjQEbY36KjpCeHfEQ8fxCQcEJvqX80/zSXrk/caBs78/AozItQgVib7AsvulO5R+80Gkg31DFYWbiNqG6QP0veK7kfwXwM9DR8MrAEx/6b7O/MG5wHdqOSJ8XoCvQQRDaICvgc9EH0E9Py89or9fP1JBoAMlQi4CuoHY1YYboQX1+d2rTWkUcG06/r2xPgaC4cUjCTBEGPr8MDxvQPWegJHDZgKwRT8B5EY2iJHAiXpveuY/+QMTCYcIL4J/hcxFBMIIPRQ8bnubQLaHmAe3Aob9hbxIunI5m3gCuU99IENKRF7AV373vUB+7MFLAdhAsH+CQvhCRgOTQphAeHxRBz/f584KQF51piMO8Di5UgEiP1r9M4T7RG0G2n4VM4uuMDFJQQIEHIWwhM++NYBPiJ2D0/5kfY69P4FOyi5KhQLDAyEAxwB/AHr+8/5WwDWFk4b3BrUA6nvrOQx4pDmR+bw86L9IwcaAk39jfgo92YGMgRdB6AGQAPvAzcKBhA9BU4EevOoVIdv7xVdBLaeKZ2K0zLzJhgR+5sM+P6uB3oNIuSEyIm2C9/PAXIbqiupBuvv7gwSChEFDghL7y7yDBeOKS0hoBusAwv8wAX8BlQEjgYNDv8QcxZOCff33+XV3+PqCuWT8vf6rv2+AT3/EPty8I7/iwgVBIcIEgL6/N8CIgdFCHcM+P6HAk5wY1jnE0H2/oxIrtHVQwYAHIYFUQt+7FMD8/qg4ZrIusel7cYIsSvNJm74Ae9jAHL4VgnLBkfuXf3QIMUoDSlsG0f52PePA50IYgpjCzMCYgaDCYYNBAWI6w7ty9/45Vn71fxT+yX+tgBS90f4dPfy/N4IpAeI/Of91gUpCosLoBKpE05UF1+cE83zYKMrqg3Vx/o0H4IJKAbA7ST2L/gz4RDOnMxG7AYCoB+IJkD8J+pi9F7xrQdOE/IBYwbwGzAg7CIaGmr5qPdh/woJeQ8oDhoG3QfBDjMJHwD572f2vvGy6Tvtx+qH8Y4BlwTI/Wj3POxJ8/P/dAgxBPUDRAPjAKwM+Qt8DNUM81UPbNAgpf6qoBmdcteE/6sl6wpL/YrcsO2F97rnsN4f1HPrhwSzHzwcuPMd5VfqFvECFSETJARuCgUV5hw/JxcYFfXV9Cv4nQuCGoAYtQxlBsIFyQaQCCzyr+b239Ts9/kj/Af78PNu82z21/fY8dn+KAO+/0cEdwKCA7QFnwYaCdUEexU5W6BgbyXL+c6lTK6G2nn9KRp5BdL7bN7f8Yf0jux+5JLd/e3bAFobmQ10897rzenN+bYUARE4CwgQaBAuGN4kBA/X+5P5/vulEJkfmhpADEH/x/UR/toA7QCC+dPtLuwM7PrxW/UL90n3GfrF9xL5bATPAAsB6/wr/UUBDge6B4EEOwcCQPF+rjLKElC2RJCn1HPuxCixCpAHi93q5o4Dau/Q7mzY4OD0870cKRudAM7qmeDF7UgNrBdnDn8PywkGDkkf5xbvA+X8jfdyBRIWvBnJFdUNfQDyASAKwQDX8m7lBeKU7Pj8nP1Z9PXxd+80+PcAVgkvAJf6+/k6+EIDQgk3DN8EtPwKEx5vnlNGKDrvUo8Rw/La5A7gFLcHm+yO3IAJJvV29xzfXNab4yIL/x4gB/3299s14TQEUxqVFE8SDwesA4IaSR7CDtMG7vfp90EOEhZUFagUGQVt+1gFCASF/nX3AOpB51DvOvR29gX3V/Ok9SH74wWiBEcC4f5H+Pn9Fwd9CmgJ9/hjE+xyA06xKCLp3468xTfdGBLGEwcG8Oiu2gMMgfY6+6DhItKf4aYJvB3sCEX8g9kH5DIGhxgbHMkU/ga3AqUXshZ0EOoFCPQWAU0MoxYsFigRZwmwA40KYP9/91TrW+qm8OLz1/X87Xzw+/VKALgARgNhALD+ngMLAyID3AX5AQD8dPg1DRdwZ1VqKg7yipKIxtfbMQtIDwIASeuB3ggQlf+H/kfhwNDt3w4BphkrCTf9fN7/5x0GyBY6HQcRcgUzA6cWsRdeEVIHufeuAh8Log9UEX0N5AhzC4cIdv3v+8X1+e8W8DHqMui/6wXxhvWl/fcBmwSpBM8B8QWH/wgEbgFoBEYEzvpu/w5j+WfINb0QfY0puTXOo/vHHs/+f/KHy1MIgQcyCqr1nMm51O3whBliFo4HmN8s2uX9ZhRYIiAYjgQZAAkTEBm0EK0GnfYu/u4PExFZFO4QNAXSC2cLEPtO9L/pkeQz9Tr6ZvME8YLqte7HABYGxgHwAYn8JQNgCIMF4QC8ADv/7P5h/ts9O3HNPGQlo7x3qAnUo90VEfH+rv5i4Q3+OAvI+w/3o81Y3Bft7w6CDkQCbew+30370A6oG3gXIQ1iABMN/xh4ErgMAgC4+UEHlBW4FQsSkgaFAd0LRwDG/BT2mO5T8vzqVfDV7OrrhPF3+eH/fv/kACQAsAFaAQX/8QIeBBEGdgDnAnkIclsYaywzeRC4mCS1Vs579xkjfAXd+L/Paf5QA20Ft+55zMXS5fHqFWUPIgOy32ni7ALZGD4fsBZWAOb+XRJOGjMaXwom9bn3GwvrGkkfBRQ/BHQCZAOH+472eesx6wfx1vV++Y3xou2e8QH4nv56/g7/5f7+A6ABBwU4BKQCDwbPAkABTSFAbEhFUC1Z20Sbws9c0ukOQhDCBrnnvufoAkf6p/6O2ITS19xiA+IRWwx1+E3d3/HFCjYanhoWD4oAggmSGFgaKxKl/6nzo/0KEbUdHhsJDXQBPwLeABP6JvH957frtfD+9Sf1JPIN86z4j/px/Wn9+gCjBiAG3wOcAVsAKQVjBUsGQgI1NiJreDl+I7TAL6pt0T3ZOhePB+oCOON07koAY/lb90zYQ9et5kANuRFGCwjvX9y89ZINqRsGG28NMgL7EGEaGxiXD3f7aPXXAkITux9NHfwLn/x9/J/63/y69UTvQ+xD6jjy3vBn9Urx/vSG+PT87wS6BacHWP8/+sz+BAYXCgAJtv/vCF1WGFnsMwoFBaQFwkPSXvorGY8ClPUm3DT+zvtv/+PoeNJ63AT3TRQwDQYAIN+t5ugAJBONHawT9Ad5B3wWThkAF3UJdPYe/08KShnwIA0dZguX/4H4OvAo8lDvifN98pn2ne/J8CDuuvFE+9P5iv7NAfMD/gXDBY3+dwJuA+IHuAT1AbQVOWBpVGoyJfOAnaPGr8vWAhMVuQP+8ybi/v4L+zIBNOaP03be6vr0D8IPl/sO4WjthwOvE+oZwRCjA5AKUhZCGFMYlAbw9yj+nwhBGjYlgBnnBe38iPVb+Ev8RvP86xXpNOoq8An3e/K09DP3EfaO/lADGQWNBOcBFfyWBasIvAwBBkv/4v0fJzFuHEmMK47OIKJHy8XZeBfvCnb/id0Q4q4APv+PAe3epNac4GoD+g9ICzP2JeAP758EkBs5H2MTMwOOBRgUnhwLGacELfXG+BQOuSJhI94Qo/368nfwAfcD+D/xc+2R7p3yqPmq+9L1svLk7+X01P4dA2cGagIzAUMFDA47DEQHq/s3/2EISzsdbXA9ihyBvlGvddNI36IVHQSX+rPd+uhS+rv5tvuF3aXbAekZAKUQ3gnb9ELlnfJbC8Ab6x+jCgb9bwkEG8siRxp7/SHx7/qJFZIjCh6ECKv1RPKA89n4ePQx9Gvxw/Of9JT5T/fQ8B/xq+80/GQCVwXkBQD/TgEoBIsOzA1MBg39rwB3EoVcrl8oM/L8J550wUDMdPwlGJ3/PfDe01j2+PmnA3HvKdXe2tXx0w53E+8BBuEO5ZT7jxkrKyYXJQMQ/dkMHCLTJfgQ2fhs9LwFGh63IbsV7fuC81/0efer+krtf+m27RH3kgG5Ai71KfDc7h70NwEfAjoC2QK0AWUCDgxuC+cN6f82/oYAty80ZQpAGCkxyY2zGcuq1tAQwAJs/1re6+e394z4Mf8Q47DdVuib/2YL3w+Q+DrujfsCB/AcPRoeDE0ECgn9Fn0jth5PAzj7i/qwCs0ejByACqj1u++i8mr/r/678ejoDOlr9YL/SvyF7xvpcuzD+rkIJQiHAO35lvt5BBQQjgmqBNn7KP+yDf1PB2nUO4wPU67rumfMFes0FPj9OfmM2tPxMPeW/Wr8zd5i5DvrNf0zBroG9vOy8zf+OQbNFycUUQ0RCAIPTxlKIB4XwwKV+mP+Jw/YHYkZawVP9s/wB/TD+q32Ee6g7930UPxHA+349vCj7S3u+P1fAaADef/MAP/+4wFxCUAGOgrJ/0oFKBOMWKBhBDmZAdWpB74rwTjvgBAeBUj8od7G717vsf+/+fjliN9t5/D76g1bEZb2lO4Y8YME9B1MIP8QTghYC1MX7CNGF0UBfPY//fEWfCNeGwYB8vC96tL1zAJ19Y/yf+qq8kL9MwLW+8Tw0Omv65P7OwJcCAr/6P7s+qb9yQjPDTAPQwI9BQYA3kDjZyxDOyH6uW2x/b9U4KoWkgu4AN3UvOKA8FsEIwk267Dg1+Ko/jsLaRO/8d/iCu8sAbgi8SN6Fl4J3AzWERkhORcKA3b6aPykEh8ibSAEB6T2guYB9JwAsPqO+fLsXu+O82D7Pfsh89Lnnea/9SYCKwr5Awz+dfb++QYGGBAAFtMK2QhWBFIju2EeTOot7+BYql/EF8+eCuwOFwVM5oDUtPCI9o4MmPhN6CDhd+6W/14HHgKG6E3xhPVvDy8lbCACGb8Ozwv/Da0XnxD7B88AEAPkEAcaDRfVCTr5AO4A8YnyJPw8+5/xYu8O7sv2c/mJ9UDtHe3z9OX++AOO/8/9Uv9pBJoLeBExC7sFggOVA805OGTYRBsiCciIsPrDHtvbFHYNKAOP0wXZAuqTAOcVLve+50zV7egf+okQnAE473DvE+++E9EjJiifGdIJNQItDAgZ1BQUD7j9Rv5UDqIZlxjFDMz48u2y7wL0w/2R/7D2+e7T7c3t/PBi857vgvEH94T6Gv7GAcQBRgPyB9oK/RBXDLcF5ANsDxlPmVcPPbIHxrgpvEy/4/TbFB8P8PNwzZXdaecjER8O8vgW34LRUeZk/PASoQKD+r/qLPTdEvEg7CvhGa0IxAFjCc4TLBjCDzcAYwMtCnUXsRlBDZL6B+6Q613zQ/5L+n3z7eqS6rLv0vWr93DzGu657jr2GgIqC0MNbQx/BJsGJwnPDQ4NzApTClkzMVKgPl0mZdRiusG4M9EvCQYSCgqI2rPVjddA+h8VBwMH8QvQGNUY63sRmxSCCoD11ePaAeAWEjJOMIUVSwLB+jwGHxdrHgETnwlo/7YD3gyiDyMMiPuH73zn6u0G9mb6Cvjs7h/oDehn7nfykvhS9hP7/f8bCFwQkQ/cCy8GAwYRB1MKAwtuDXcaeULBQr0yCAROxoHDYr3/6dYH1Qnc9D/V4tdR3msHyQnnBDPvJ9Xi37/uvAkJD2gNqfnf+XgHxRavLrskARrtBTf+QweUEbYbAhRODCH/pv2/BKYKXgmj/bDvVeWa6aHuivZP9kbumusG6nvu7fb++kUCKwWzBtcGkgQwBkkHIA39C7IMpAneCkMMqyMkR2Y94jHh8X/GHsGMuhnvSAAMChvwhtu/2Jnh4go7BpUNIO5D2tDfyujZBmUQVBV6BOAAmwGVDqskSiNEJIgRNQWIBFQGwhHUE44VCQfg/fX1KvjqAtAE/AHx8HXmu9zR5vbyfvl1/EfwZu7x72b47gb3DJQLIgRoAIgA4QmVESUR8w8IA7wEswlTJIhF9D3QMxf3g867wFO2DuTp9F8HN/YQ4wDZuNjq+yMCTRmaAjXtZ+Pm3Oj7IAzZHYQVKwdE/FH9BBf6JZYx1yUqEJ/+4fasAtcMhxhBEBcGeP2d9xD9b/rx9o7tmumB6Tru8fK48o71yvEJ9vP5/vtwBZEFrAi0BpcDPwWqBrcM2QvwDcsItwgHDGAWATibOd019w6a3C7M0bDDzhbqmv5sBDjwJOaP1/3tV/kmEm8SgvqD8xXbhecD9YsHDxe0EZMQAwSVDI8SwR3eI2UZ3BNJBEACrP64BG4L3gsYDjz/Rvud8JXtjfPG85T5rvOm8MXr1evc8Pr3DAGAAycFwwMVAHsASQKyBrYNFQ3pDtQKoghEBagGWwu1HJA33DZWMLb/+ttLxLyyOtSN5wMB0gDS8xfqz+Tt8vf8Mw8pB9L9UPFV4gfqWO9lAo4QkxafGUsQNA+dC1QRRhrCHKoaYAxmAS33S/pBAqMKbQ8tCNkC8/hP9JDyz+/h74Xu4vDb9KL3yPrz+Bf5o/pg/SkEegQMBTICYAJcBScIqgpECAoJpQZSCoQNHBRbJ5Ar4SrZE7DzMNtWu8TCGdT37foE5QRUAKnweO/N75L+kgS4AnwBe+5r60/na/BhAXYMVhiuGLMY2BT3E1MTGBHSD+4KWAiLBmMDpf/H+6r7TACRBMQJUQfZ/5T2m+6G7b7t8PKz9cv2TPhj+Nz7Jv6OAbAEuwayBuICBAH0/vgALQZsCfYLTQa0BJYEBhH6Jw8uwC0oDX7vn9bIvKPNxttK9B4GsgNLAvv3ZvXL9RL8dvmi+i/7+/N39gLw2PBI9qT90g12GQEg1ByGFTcP7Ar/C6YL3QlFBjEAyP/SAJsCFQZGB5AI/QSL/6n3bPDi7sTuPPOS9iz4ePnT9mL4X/xv/0kCXQLS/z7+Ov4h/40DTAYZCWYHrQRkBFwFtAxDHjAqCCvdHP0Bsu8b1OfQIduz5c/7PgARBHb+P/S273byy/Z8+vf+e/jJ9qTxZu4U88H1xf9XChsURBwpHR4bvBS8DfkJBQhOCeYH5AZPB3AGkQjkCJUI7QRk/8P7C/fp9JDyJ/L28frw6PGd8S/0w/eU+1D+o/1Q/D77X/1/AJEDEgecBt0H8wYaBxYKAQtWDrQUfCD7JVAjRxJSAVXrYtkx2+HbX+l08/P4c/0++7z1q/Qv9A3zRvlo9vT29PTo73rylPUP/2EK8BSBGxoe/x3rGCEUxg6NCYIIzAesCE8MQwvUCpwJNgVFAhX/aPsw95zyfu3x6hTqTuwa8PfymvWT9mf5YvwP/w0AOf97/oj9//95Ak4GFQxaD60SLxG6DLgI/wYTBxAOPh6yIigfWw3k/L3qktei2nba5uMc7bnwMPeS92rzkPRy8wnvEPa29Bn55/7d/EUD1wK6BPoKgg3SFW4ZAhvNGp4WFhPLDdYLlgmVCIYIFQYoBZ4BVf7G+y34cfaL883wRu+f7Zvr0Ooh7Mvv9vNC+QT+4/8VA6wCdwNzBFoDRgWaBo4HEgkVC8kLmQ4/DeoL+QpFBkcGfg3XFREZwhJ9BWX2KeC918LXTNte5iPsR/A99pj3fPms/oX5tvoj+SP31/4QAEUF2gcSBkEI6Ak0DjEVkhrgGyYbiRdJEiQO/geuAhP/N/5J/rv9WP1Z+hP42vZ59hL2OfMC8KftFe1q7/jy1vbm+ez9tQH0A5sG4QSBA7ECtAGNBPUF9gaGB1YHaAmSC7QL1grPBmUBRP8/AX8KyxCODzwItfxd7V/htt+l39zlSesu7/v1fvpW/bABwQDT/Vz+ofpn/gsBDwIkB8cHbAlEC2wL7QydDsoOpRFEEn4QmA6nCeAEWAHd/xv+fv0p/ZX73vuZ+gP6dPkd91H2sfVl9mX30vcR+RP4Bfh++Wn7j/+XAvoE/ASpA3gC+ALnA8UDEQQgA3gDAwN+BEoFhQRlA4YBLQEPBfkMEhFjEHoKAQI28x/pl+T+4ZTncOsj8cn4r/tw/tMCOQHYAnoCbf7O/x38r/vu/rP/QgPaBaYHFQzXDlgSgRQHEzYR/wzYCU0HiATYAsf/m/2R/DX9jv4x/kP91Pr2+EL30fVH9DTyqvCx8GzzT/eX+wn/YwKIA4wD/QKvADwA7f/ZAIIDFAQCBhgH/QZ1CPgIrQgDCPcGaQU7Cs4OgQ+vDPgDV/n/61vmbOWQ5x3tre/58gX2xPdQ+33+OP7T/gL9+/v6/Yn+VgFZBJAFLAhZCvYLww3IDqAQbxFrEnoR+g4/C4oGbQPU///91fw//GL7KfqJ+L73vvep9q/2pPSU87XyJ/M49TL2rfm++z7/WgKYA0IFxAQvBOsE7wXCBtYGkQYsBl4F3AXXBlsGSgS1AiAAUQBnAqUI+A2qC48HMgC59tHtj+rx6JrqZu327i/zavaD+Gr8YQC8AUcEnATuA54EIgQkBM0EbgOUAxIF+gXgCCMMwA48ENIPKA1yCukGpgMDAtL/kv7O/TD9Af3m+6L6Lfn99vT18/Xj9Xz2UPch+L/5UPs7/Yn/GAGVAo0DnAN9AwkDewKTATMB0AEVAroCnQNyBL0EzQQiBUoFFAUABasE3AdAC4IJEAahACL5MPFs7bLsZe7M8BHzGPZC+Gj6Vvys/gH/Qv/d/27/egB0AUEBjwHAAYAC1gR+B7wJNQykDdoNCA6HDGgKrgenBE8DSQKWAVQBeQBA/3/9i/sa+pT4f/dV99D2t/bM9qX2F/e/96v5V/z0/iUBeAI1AksBxwBXAE4CAQTlBVMHygZyBvYFXAYsBp0FDQSPAkoC6AKeBeUKrgw0Cl0G+/+7+Frxeu3K66/rGu0m8B3zKvbi+Ej6gfz+/WEA9gL0BNoEUgTsAvQAGwG6AS0FsQnnDG0Q/hEREQMPVQwOCdsFZgQzAxMC/gBV/0v9iPuF+Uj4efdH9rH2PPax9Zr1YfU+9sL31vnu++n94//+AEIC2QMtBOMDTgNlA4MEOAavB+EHYQaABEcDvwI7AwkE1AOIAvQAVwCeAB0ECQgUBzcECv729n7wH+0V7q7wZfMm9U33gPcC+UX7of2jACoDNQRABNEE/wMqBIkDKgPXBNcFvwcoCqULHAwTCzwJpAdTBpUFiwXeBGED7QAd/vn7U/qz+Wj5nvjE9473zPeG+If5Avre+SP6Xfpp+6L9/v4iANcAjgE0AtYCQQOMAxUEbgMrA20DdANeA/YC0AJdAkoCjgImApEB+gAjAfMBDQWRB3YGhQO2/gT51PMf8uLyJPXS9nD3zfii+J74ZfqI/I7+vABtAhMDDwPvAoUC/wJVBD4G6gdsCMQIVgjfBwAIEwiRCNAI8wf6Bv0FNAQjAjMA7f6r/aj8A/yi+jX5evc+9lX2rvdS+UP6IfqP+Zr5s/qH/VEAuwIHBAsETgPSAWYBFQG4AMAB0ALxAwQFGgWWBGIDUwNzAxADDQLnABMAq/92AcMF+AhLB+kCqvxO9wX0bvSA99D4C/lB9+j1XfaH98f6K/65/1MBsAGUAUIC+AHDAogDMQQgBR0FPwXQBbEGLQjZCUwKxwmMCGkH4AbaBl0GgwTCAd3+HPx++rT6zvp6+pL5Uvie92H3F/iR+RP7Evx1/Gj8dfzY/ED9GP7W/kX/nv8DAFUAygCFAncEAQaOBmUG2wXkBJ0EpwRXBCEDCwJcARECmgRrCNgJFQf7AR38aviQ9S722Pe39nD1ofON8g/0K/YK+av7ufuj/BT9y/3o/z4B3QL9A74EIQZ7BxMJHAtsDFMNIw3ZC4MK2wjyBzoHlQa4BUgDVQDO/bf7ePpJ+rT5svhe9wD2RfU09cr10PYV+Mb4RvlS+tj7Pv3a/osAGgIwAzMEWAUyBvgGBwfPBikGTAV8BIMDywLhAm4DkAP1AqIBTAAO/+L+IAD0AcYDPgM6APD8OPpz+Kr3S/it+L33gvay9Rn2Tvf2+Fz7dv0D/7EA+wE3A0EEJAUdBqsGJAcTB54GDgZ5BTUF9ATgBLMEcQQpBPYD5APSA2kDaQKBAdIA2P/f/uX91fyZ+2T62/lf+Rr5aPn3+Tn6G/ty/In9mP6B/97/2v8VAOn/ov+R/7L/LQDQAAgBZwFWAgAD5AIAA5IDcQPwAs0CgAL2AZAByAF6AkAD+wQXBQAE5APqAgIBwv8k/tH7jPkA93r1lvT782b0cvWh9mL4fvoj/AT+9f9mAfQCYAQ5BZ0FtgWxBTgGxAYuB+MHVgjPCIcJHQpSCl8KdgnDBwEGYARaAvn/t/1p+yf5gPfY9nH2KvYN9hn2T/bJ9p73qfiQ+Zn6nvu5/P79Ef9AABcB/gEeA5cEyAVtBvUGVgcyB4wGfwYIBnAFsATFA60CPAFHAND/kf+//+kARAFsAPn/Hv+d/Yj8YvsF+nj42vbv9br14PXT9h34T/nc+sf8qf6uALgC8wO+BGsFvAXnBQIGIgZgBmkG5QaBBwgIOwjAB78GlQXgBN0D1QIFAuIAVv+8/Y38t/vv+hX6cfnH+EX4Nfh5+OT4Yvn9+ZP6bftv/Ir9dP4z/xkA7AB8ARYC0QJsAx8EkQQIBWMFCwVOBNkDOwOBAvsBmQFbAb4AuwCOAfgBQwKjA+QDzwJWAnsB0v84/rX8OPvW+VP4effd9j/2bfY59zT4o/ld++f8nf5GAKIB4wLiA38E6QQ3BXwF6AU0BnYGxQYPB04HlQeGBxIH1gbsBZAEegMmAn8A3f53/Un8EvsN+kv5nfgc+Pf3L/hc+MX4L/nG+ZH6avu8/A3+PP9SAEQBFgLDAlsD1gNfBIQEfARoBBcEtQN/A2oDHAPSAmsCcAL5AUsBKAHOADUAEgBjAEEA+P+J/x3/gv7C/R/9nfzS+wn7dfrm+af5oPnp+Y76cvta/GP9jf6i/6oA2AHIApMDJAR5BMME4QT2BPcE4gS8BKcEhwRVBGcEXwQABLUDWAOuAtUB/gDx/9P+vf2y/NH7/vpc+uP5nfmk+f/5gPoZ+9L7ffwX/cH9c/4h/8L/VADsAGABxgFUAsgCHANjA2sDjgOOAzADEgPeAmYC/wHUAYIBKQEGAQsB9wC6ABoBCQGRAFkA3/8W/0j+Yf1w/In7iPoB+q/5UPmA+Qv6l/qQ+6L8rv3U/sn/twC1AWwCCAOpAw4EZwSzBPcELQVfBZEFugXGBZgFaQXtBD4EkAOqArABvgC8/63+3f3x/An8Zfvf+mf6L/oc+if6a/rO+m77FfzT/Iz9Sv4A/6b/TQDUAD8BrgH8AU4CpgLHAvcCCQPlAukCpAI7AgICegEHAbUAUQAcAA8A1v8OAFAAJACcANoAlwCrAIMA6P98/7b+0/0U/Q/8W/v3+o36g/rz+l/7M/w5/ST+Sv8+AAUBzgFEAowCzgLTAuAC/wIOA0sDnQPwA10E0AQsBWoFeQUwBbwEAgT8AvQBrgBg/y/+7vzr+y77lfo++jr6VPqY+hz7kfsq/MH8Nf29/SP+fv71/ln/q/81ALQALgHUAUYCzwI9A24DlgOEA0cD+QJ+AhoCqwElAe4AtgB0AHQAfgBVAIIAYAAoACoAw/9X/wv/cf7V/X/95vyP/F78JPwp/FP8evzp/Hj95v2I/g3/g/8SAH4A5gBfAbMBFgJsAsECHQNkA7ID7AMTBCoEOgQXBOMDmwMnA5oC/wFTAY0A1/8a/2X+uv0j/af8RPz9++X74vvv+zX8b/zL/C79ov0W/n7+8P5W/7f/DQBwALcA9gBJAXYBnwHfAQQCHgI0AkMCTQI4AisCHwLcAbMBeAElAd0AggAvAO3/lP85/xn/5f6r/pz+ef5L/j3+BP7i/cz9jP1u/V79Qv1E/WH9i/3Z/Tr+rP43/8X/UwD5AIsBGAKTAgQDZQOtA+oDCAQdBAsE9APAA20DGwOqAi0CowEYAYEA8/9o/9n+Yf7m/Xz9I/3f/Kv8hfx6/Ir8oPzT/CL9dP3U/Uf+tv4l/5z///9sANsAKgF3AcwB8wEhAjwCOwIwAg4C1wGmAVgBAAHCAGMAFwDn/63/hf96/2b/fP+E/4L/p/+z/5n/nv+R/1L/Mf/5/rn+hv5R/iD+Ev4G/g3+NP5X/pb+8f4+/5//FwBuANYARgGbAfgBRwKFAsoC9AIeAzsDPAM0AxwD6QKkAlwC7QF+AQUBeQD0/23/5f5w/gT+n/1Y/Rb96/zd/Nv88fwc/U39kv3m/TT+kf79/lb/w/8oAHoA2QAkAWQBoAHHAdwB7wHpAdMBxgGcAXEBTwEcAesAxgCIAGIAQgAAAO3/z/+Z/4z/c/9M/0X/LP8K//z+4v7A/rf+ov6G/oz+f/6C/p7+rP7N/gP/MP9v/7j//v9PAJUA3wAmAWoBpwHeAQICHQJCAkACPwI9Ah0C+gHWAZgBXgEmAdIAkgBJAPH/q/9h/w//1v6R/lP+Mf4K/vD97f3u/QX+K/5N/oj+xv4C/1H/mP/S/yEAXgCLAMgA8AAOATUBQwFJAV8BUQFJAUQBHQEHAegAsgCKAF0AHgDy/77/gP9g/zH/B//7/uP+1P7e/tz+3P72/v/+EP8q/zf/Sv9e/23/hv+k/7f/4v8EACYAXwCJALUA7AAYAToBZgF6AYsBogGiAZoBlAF/AWYBUgErAQMB1QCgAGwANgD2/73/gP8//wv/1/6s/oz+d/5t/nH+fP6c/sP+7f4p/2X/of/f/xoAUgCJALoA4QD9ABEBIAEiAR8BDwH8AN8AtgCPAFoAKwD5/8H/jv9f/zj/FP/+/uv+4/7l/un++/4X/zD/Sv9t/4n/qv/L/+L/+f8MABkAKQA0ADsARgBOAFkAaAB0AIIAmgCoALkAywDYAOMA8QD4APsA/wD2AO4A5ADPALcAoAB3AFQALQD9/9f/qP95/1X/Kv8Q//3+7f7t/vD+//4a/zT/Vf+D/6T/zf/4/xsAPwBfAHsAkAChAK4ArgCoAKMAjwB3AFwAOgAUAPD/y/+j/37/YP9H/y3/HP8T/wr/Df8X/x//Mv9O/2f/f/+h/73/3v8AABgAOQBSAGwAhQCcAK4AxADZAOYA+QADAQwBEgEOAQcB/ADoANAAsQCRAG4ASAAgAP3/1/+x/5X/e/9k/1H/R/9D/z//Qf9M/1r/bv+F/6D/vP/e/wAAHAA8AFsAcwCMAKAApwCxALEAqgCfAI4AcQBUADUAEQDw/8n/pP+G/2r/U/9B/zb/MP8x/zf/Pf9L/1r/b/+D/5T/q//B/9P/5//5/wYAEwAdACsAMQA1ADsARABKAFAAWABeAGgAcQB4AH8AhwCJAIsAhwCEAH8AcwBmAFcASQA5ACkAFwAJAPv/7f/i/9b/z//D/7//uf+3/7z/uf/B/8T/zv/Z/+H/7f/2/wAADgAZACIAJwArAC0ALAAsACMAHAAUAAUA9//n/97/1P/J/7//sv+y/7X/tv+8/8P/zf/X/+D/6P/w//f///8AAAYACQAJAAwADAAMAAwACwALAAkACwAJAAgACQAGAAYABAAFAAgACAAKAA0ADQASABUAGAAcACEAJwAnACkAKgAtADIAMwAvAC4ALQAsACkAJwAsACYAIwAeABsAGwAVABIADgALAAQA/v/6//v/8//r/+n/3//W/9L/zv/G/8H/v/+4/7T/tP+2/7j/u//C/8n/0f/c/+f/8/8AAAsAFQAjADAAOABBAEgASwBNAEwASgBGAEAANwArACEAFQAKAAAA9P/q/9r/0//O/8f/wv+9/8D/vv/E/8X/zf/O/9r/6f/w//7/AgATABkAJwAxADcAPQBFAEgASABLAEkASQBJAD8AMwAwACgAIQAUAA8ABwD7/+//6//g/9j/0//K/8j/uf+z/7D/sv+u/67/sf+y/7b/uv/D/8n/0v/a/+L/6//x//r/BQANABMAGwAkAC0AMwA4AD4ARwBJAEQAQgBBAD0ANwAzACwAJwAfABcADgAEAP3/9P/s/+T/2P/P/83/yv/J/8f/xf/G/8j/y//R/9X/3f/l/+//+P/8/wkADgAWACAAIwAqADAAMgA0ADUANQA3ADIALQAqACMAIgAdABMADQAEAP7/9v/t/+X/3//Z/9L/zf/J/8X/wf/B/8L/wv/C/8f/zv/U/9v/4//t//f/AAAJABEAGgAiACgALQA0ADcAOAA5ADkAOQA4ADUAMgAvACoAJAAhABoAEwAOAAgAAgD7//X/7f/r/+T/4P/b/9f/3f/X/9n/1//b/+D/4//m/+r/9P/3//r//f8GAAoADQAQABcAHQAdACEAIgAjACEAIgAiACIAIAAdABoAGAAWABIACwAHAAQA///7//b/8//t/+v/5//k/+P/4f/h/+L/4v/h/+T/5f/p/+z/8P/1//j//P8AAAUACAAMABEAFAAWABYAFwAbABwAHAAaACAAGwAaABkAEgAQAA4ACwAEAAMA/P/5//b/9f/y//D/7//r/+3/6v/q/+r/7f/x/+7/7v/u//D/8//3//z//v8AAAIABAAGAAoADgAOAA4ADgAQABAADgAOAA4ADQAJAAkABgAEAAMAAgD/////+//6//r/9f/4//X/9P/x//L/8//0//b/9v/2//j/+//6//v/+v/9////////////AQACAAQABgAFAAUABQAHAAcACAANAAsABwAHAAcABwAIAAYAAgACAAMAAwADAAQABAAEAAAAAAAAAP///P/7//z/+v/7//r/+v/5//r/+f/5//v//P/9//7/////////AAABAAIABAACAAIAAwAFAAUABgAFAAMAAwABAAMAAAACAAAAAgAEAAAAAQD+/wAA///+/wAA/f////r/+v/6//j//P/4//3//v/+/wAA/f/+/wEA//8AAAAAAgABAAEAAwAAAAMAAAACAAEAAgAFAAAABQABAAUABQABAAUAAQABAAIAAAACAAAAAAACAPv/BwD2/wgA8/8HAPr//P8FAPn/CQDz/wgA9v8HAPz/AwD//wEAAAAAAAEAAAABAP//BAD//wYA/P8FAP//AgAAAAAAAgAAAAIAAAABAAEAAAABAAAAAgAAAAAA/f8AAP//+//7//v/+f/8/wAA+//9//r/AQD6/wAA///+/wEA/P8EAAIAAwABAAMAAAAEAAAAAwABAAAAAwAAAAEA//8DAAAAAAD8/wAA/f8AAP///v/+//v////8/wAA/P/+//7//v///wEAAQD9/wAAAgD+/wYA/v8GAAAAAwABAAAABgD+/wcA/v8HAAEAAQABAAEAAAAAAAAAAgD8/wIA//8AAAAA+v8FAPr/AgAAAAEAAgAAAAAAAAAAAAEA//8AAP7/AAAAAAAAAAD9/wAA/v8BAPv////9/wAA/f/9//7//f8AAP//////////////////AgAAAAEAAAABAAMAAwADAAIAAgAEAAMABQACAAMAAAACAAMAAAADAAAAAgADAAIAAgAAAAAAAQAAAAMA//8CAAAAAQACAAAAAgAAAAIAAAADAAAAAwABAPz//P/7//n/+v/7//b/9v/2//f/9v/3//v/+v/6//r/+v/7//r/+//9////////////AgADAAMAAwAFAAYA\" type=\"audio/wav\" />\n",
       "                    Your browser does not support the audio element.\n",
       "                </audio>\n",
       "              "
      ],
      "text/plain": [
       "<IPython.lib.display.Audio object>"
      ]
     },
     "execution_count": 28,
     "metadata": {},
     "output_type": "execute_result"
    }
   ],
   "source": [
    "inv_label_value = {v: k for k, v in label_value.items()}\n",
    "batch_index = np.random.choice(len(test_wav), size=1, replace=False)\n",
    "\n",
    "batch_xs = test_wav[batch_index]\n",
    "batch_ys = test_label[batch_index]\n",
    "y_pred_ = model_wav(batch_xs, training=False)\n",
    "\n",
    "print(\"label : \", str(inv_label_value[batch_ys[0]]))\n",
    "\n",
    "ipd.Audio(batch_xs.reshape(8000,), rate=8000)"
   ]
  },
  {
   "cell_type": "code",
   "execution_count": 29,
   "metadata": {},
   "outputs": [
    {
     "name": "stdout",
     "output_type": "stream",
     "text": [
      "y_pred: down(Correct!)\n"
     ]
    }
   ],
   "source": [
    "if np.argmax(y_pred_) == batch_ys[0]:\n",
    "    print(\"y_pred: \" + str(inv_label_value[np.argmax(y_pred_)]) + '(Correct!)')\n",
    "else:\n",
    "    print(\"y_pred: \" + str(inv_label_value[np.argmax(y_pred_)]) + '(Incorrect!)')"
   ]
  },
  {
   "cell_type": "markdown",
   "metadata": {},
   "source": [
    "# spectrogram classification\n",
    "- 1차원의 데이터를 spectrogram으로 변환한다. \n",
    "\n",
    "## 1. data 전처리\n",
    "- data를 가져온다. 위 코드에서 사용한 데이터를 사용한다. \n",
    "- train, validation으로 나눈다."
   ]
  },
  {
   "cell_type": "code",
   "execution_count": 5,
   "metadata": {},
   "outputs": [
    {
     "name": "stdout",
     "output_type": "stream",
     "text": [
      "<numpy.lib.npyio.NpzFile object at 0x7f5a6e9ee750>\n",
      "KeysView(<numpy.lib.npyio.NpzFile object at 0x7f5a6e9ee750>)\n",
      "ValuesView(<numpy.lib.npyio.NpzFile object at 0x7f5a6e9ee750>)\n",
      "<class 'numpy.ndarray'>\n"
     ]
    }
   ],
   "source": [
    "import numpy as np\n",
    "import os\n",
    "\n",
    "data_path = os.getenv(\"HOME\")+'/aiffel/speech_recognition/data/speech_wav_8000.npz'\n",
    "speech_data = np.load(data_path)\n",
    "\n",
    "print(speech_data)\n",
    "print(speech_data.keys())\n",
    "print(speech_data.values())\n",
    "print(type(speech_data['wav_vals'][0]))"
   ]
  },
  {
   "cell_type": "code",
   "execution_count": 7,
   "metadata": {},
   "outputs": [
    {
     "name": "stdout",
     "output_type": "stream",
     "text": [
      "LABEL :  ['yes', 'no', 'up', 'down', 'left', 'right', 'on', 'off', 'stop', 'go', 'unknown', 'silence']\n",
      "Indexed LABEL :  {'yes': 0, 'no': 1, 'up': 2, 'down': 3, 'left': 4, 'right': 5, 'on': 6, 'off': 7, 'stop': 8, 'go': 9, 'unknown': 10, 'silence': 11}\n"
     ]
    }
   ],
   "source": [
    "target_list = ['yes', 'no', 'up', 'down', 'left', 'right', 'on', 'off', 'stop', 'go']\n",
    "\n",
    "label_value = target_list\n",
    "label_value.append('unknown')\n",
    "label_value.append('silence')\n",
    "\n",
    "print('LABEL : ', label_value)\n",
    "\n",
    "new_label_value = dict()\n",
    "for i, l in enumerate(label_value):\n",
    "    new_label_value[l] = i\n",
    "label_value = new_label_value\n",
    "\n",
    "print('Indexed LABEL : ', label_value)"
   ]
  },
  {
   "cell_type": "code",
   "execution_count": 9,
   "metadata": {},
   "outputs": [
    {
     "data": {
      "text/plain": [
       "array([ 3,  3,  3, ..., 11, 11, 11])"
      ]
     },
     "execution_count": 9,
     "metadata": {},
     "output_type": "execute_result"
    }
   ],
   "source": [
    "temp = []\n",
    "for v in speech_data[\"label_vals\"]:\n",
    "    temp.append(label_value[v[0]])\n",
    "label_data = np.array(temp)\n",
    "\n",
    "label_data"
   ]
  },
  {
   "cell_type": "markdown",
   "metadata": {},
   "source": [
    "## 2. data setting\n",
    "- wav2spec 함수를 매핑해서 데이터셋을 변환한다. "
   ]
  },
  {
   "cell_type": "code",
   "execution_count": 2,
   "metadata": {},
   "outputs": [],
   "source": [
    "import librosa\n",
    "\n",
    "def wav2spec(wav, fft_size=258): # spectrogram shape을 맞추기위해서 size 변형\n",
    "    D = np.abs(librosa.stft(wav, n_fft=fft_size))\n",
    "    return D"
   ]
  },
  {
   "cell_type": "code",
   "execution_count": 2,
   "metadata": {},
   "outputs": [
    {
     "ename": "NameError",
     "evalue": "name 'speech_data' is not defined",
     "output_type": "error",
     "traceback": [
      "\u001b[0;31m---------------------------------------------------------------------------\u001b[0m",
      "\u001b[0;31mNameError\u001b[0m                                 Traceback (most recent call last)",
      "\u001b[0;32m<ipython-input-2-5060cb8bc527>\u001b[0m in \u001b[0;36m<module>\u001b[0;34m\u001b[0m\n\u001b[0;32m----> 1\u001b[0;31m \u001b[0;32mdel\u001b[0m \u001b[0mspeech_data\u001b[0m\u001b[0;34m\u001b[0m\u001b[0;34m\u001b[0m\u001b[0m\n\u001b[0m",
      "\u001b[0;31mNameError\u001b[0m: name 'speech_data' is not defined"
     ]
    }
   ],
   "source": [
    "del speech_data"
   ]
  },
  {
   "cell_type": "code",
   "execution_count": 3,
   "metadata": {},
   "outputs": [
    {
     "ename": "AttributeError",
     "evalue": "'numpy.ndarray' object has no attribute 'map'",
     "output_type": "error",
     "traceback": [
      "\u001b[0;31m---------------------------------------------------------------------------\u001b[0m",
      "\u001b[0;31mAttributeError\u001b[0m                            Traceback (most recent call last)",
      "\u001b[0;32m<ipython-input-3-43fc3103a20e>\u001b[0m in \u001b[0;36m<module>\u001b[0;34m\u001b[0m\n\u001b[0;32m----> 1\u001b[0;31m \u001b[0mspec_data\u001b[0m \u001b[0;34m=\u001b[0m \u001b[0mspeech_data\u001b[0m\u001b[0;34m[\u001b[0m\u001b[0;34m\"wav_vals\"\u001b[0m\u001b[0;34m]\u001b[0m\u001b[0;34m.\u001b[0m\u001b[0mmap\u001b[0m\u001b[0;34m(\u001b[0m\u001b[0mwav2spec\u001b[0m\u001b[0;34m)\u001b[0m\u001b[0;34m\u001b[0m\u001b[0;34m\u001b[0m\u001b[0m\n\u001b[0m",
      "\u001b[0;31mAttributeError\u001b[0m: 'numpy.ndarray' object has no attribute 'map'"
     ]
    }
   ],
   "source": [
    "spec_data = speech_data[\"wav_vals\"].map(wav2spec)"
   ]
  },
  {
   "cell_type": "code",
   "execution_count": null,
   "metadata": {},
   "outputs": [],
   "source": []
  },
  {
   "cell_type": "code",
   "execution_count": 35,
   "metadata": {},
   "outputs": [
    {
     "name": "stdout",
     "output_type": "stream",
     "text": [
      "Indexed LABEL :  {'yes': 0, 'no': 1, 'up': 2, 'down': 3, 'left': 4, 'right': 5, 'on': 6, 'off': 7, 'stop': 8, 'go': 9, 'unknown': 10, 'silence': 11}\n"
     ]
    }
   ],
   "source": [
    "print('Indexed LABEL : ', label_value)"
   ]
  },
  {
   "cell_type": "code",
   "execution_count": 11,
   "metadata": {},
   "outputs": [
    {
     "name": "stdout",
     "output_type": "stream",
     "text": [
      "<class 'numpy.ndarray'>\n"
     ]
    },
    {
     "ename": "AttributeError",
     "evalue": "'numpy.ndarray' object has no attribute 'map'",
     "output_type": "error",
     "traceback": [
      "\u001b[0;31m---------------------------------------------------------------------------\u001b[0m",
      "\u001b[0;31mAttributeError\u001b[0m                            Traceback (most recent call last)",
      "\u001b[0;32m<ipython-input-11-59bc38cac8d7>\u001b[0m in \u001b[0;36m<module>\u001b[0;34m\u001b[0m\n\u001b[1;32m      7\u001b[0m                                                                 shuffle=True)\n\u001b[1;32m      8\u001b[0m \u001b[0mprint\u001b[0m\u001b[0;34m(\u001b[0m\u001b[0mtype\u001b[0m\u001b[0;34m(\u001b[0m\u001b[0mtrain_wav\u001b[0m\u001b[0;34m)\u001b[0m\u001b[0;34m)\u001b[0m\u001b[0;34m\u001b[0m\u001b[0;34m\u001b[0m\u001b[0m\n\u001b[0;32m----> 9\u001b[0;31m \u001b[0mtrain_wav\u001b[0m \u001b[0;34m=\u001b[0m \u001b[0mtrain_wav\u001b[0m\u001b[0;34m.\u001b[0m\u001b[0mmap\u001b[0m\u001b[0;34m(\u001b[0m\u001b[0mwav2spec\u001b[0m\u001b[0;34m)\u001b[0m\u001b[0;34m\u001b[0m\u001b[0;34m\u001b[0m\u001b[0m\n\u001b[0m\u001b[1;32m     10\u001b[0m \u001b[0;34m\u001b[0m\u001b[0m\n\u001b[1;32m     11\u001b[0m \u001b[0mtrain_wav\u001b[0m \u001b[0;34m=\u001b[0m \u001b[0mtrain_wav\u001b[0m\u001b[0;34m.\u001b[0m\u001b[0mreshape\u001b[0m\u001b[0;34m(\u001b[0m\u001b[0;34m[\u001b[0m\u001b[0;34m-\u001b[0m\u001b[0;36m1\u001b[0m\u001b[0;34m,\u001b[0m \u001b[0msr\u001b[0m\u001b[0;34m,\u001b[0m \u001b[0;36m1\u001b[0m\u001b[0;34m]\u001b[0m\u001b[0;34m)\u001b[0m \u001b[0;31m# CNN모델에 넣기 위해 차원을 늘려준다.\u001b[0m\u001b[0;34m\u001b[0m\u001b[0;34m\u001b[0m\u001b[0m\n",
      "\u001b[0;31mAttributeError\u001b[0m: 'numpy.ndarray' object has no attribute 'map'"
     ]
    }
   ],
   "source": [
    "from sklearn.model_selection import train_test_split\n",
    "\n",
    "sr = 8000\n",
    "train_wav, test_wav, train_label, test_label = train_test_split(speech_data[\"wav_vals\"], \n",
    "                                                                label_data, \n",
    "                                                                test_size=0.1,\n",
    "                                                                shuffle=True)\n",
    "print(type(train_wav))\n",
    "train_wav = train_wav.map(wav2spec)\n",
    "\n",
    "train_wav = train_wav.reshape([-1, sr, 1]) # CNN모델에 넣기 위해 차원을 늘려준다. \n",
    "test_wav = test_wav.reshape([-1, sr, 1])\n",
    "\n",
    "print(\"train data : \", train_wav.shape)\n",
    "print(\"train labels : \", train_label.shape)\n",
    "print(\"test data : \", test_wav.shape)\n",
    "print(\"test labels : \", test_label.shape)"
   ]
  },
  {
   "cell_type": "markdown",
   "metadata": {},
   "source": [
    "### hyper parameter 조정 "
   ]
  },
  {
   "cell_type": "code",
   "execution_count": 41,
   "metadata": {},
   "outputs": [
    {
     "data": {
      "text/plain": [
       "'/home/aiffel-dj26/aiffel/speech_recognition/models/spec'"
      ]
     },
     "execution_count": 41,
     "metadata": {},
     "output_type": "execute_result"
    }
   ],
   "source": [
    "batch_size = 32\n",
    "max_epochs = 5\n",
    "\n",
    "# the save point\n",
    "checkpoint_dir = os.getenv('HOME')+'/aiffel/speech_recognition/models/spec'\n",
    "\n",
    "checkpoint_dir"
   ]
  },
  {
   "cell_type": "code",
   "execution_count": 33,
   "metadata": {},
   "outputs": [
    {
     "name": "stdout",
     "output_type": "stream",
     "text": [
      "Waveform shape :  (8000,)\n",
      "Spectrogram shape :  (130, 126)\n"
     ]
    }
   ],
   "source": [
    "# 1차원 데이터에서 샘플로 뽑은 data\n",
    "# data = speech_data[\"wav_vals\"][rand]\n",
    "\n",
    "spec = wav2spec(data)\n",
    "print(\"Waveform shape : \",data.shape)\n",
    "print(\"Spectrogram shape : \",spec.shape)"
   ]
  },
  {
   "cell_type": "markdown",
   "metadata": {},
   "source": [
    "- spectrogram 확인 "
   ]
  },
  {
   "cell_type": "code",
   "execution_count": 34,
   "metadata": {},
   "outputs": [
    {
     "data": {
      "image/png": "[encoded data removed]",
      "text/plain": [
       "<Figure size 432x288 with 2 Axes>"
      ]
     },
     "metadata": {
      "needs_background": "light"
     },
     "output_type": "display_data"
    }
   ],
   "source": [
    "import librosa.display\n",
    "\n",
    "librosa.display.specshow(librosa.amplitude_to_db(spec, ref=np.max), x_axis='time')\n",
    "plt.title('Power spectrogram')\n",
    "plt.colorbar(format='%+2.0f dB')\n",
    "plt.xticks(range(0, 1))\n",
    "plt.tight_layout()\n",
    "plt.show()"
   ]
  },
  {
   "cell_type": "code",
   "execution_count": 44,
   "metadata": {},
   "outputs": [
    {
     "ename": "TypeError",
     "evalue": "in user code:\n\n    <ipython-input-32-6ac2f57e8a50>:4 wav2spec  *\n        D = np.abs(librosa.stft(wav, n_fft=fft_size))\n    /home/aiffel-dj26/anaconda3/envs/aiffel/lib/python3.7/site-packages/librosa/core/spectrum.py:208 stft  *\n        fft_window = get_window(window, win_length, fftbins=True)\n    /home/aiffel-dj26/anaconda3/envs/aiffel/lib/python3.7/site-packages/librosa/filters.py:884 get_window  *\n        return scipy.signal.get_window(window, Nx, fftbins=fftbins)\n    /home/aiffel-dj26/anaconda3/envs/aiffel/lib/python3.7/site-packages/scipy/signal/windows/windows.py:2121 get_window  *\n        return winfunc(*params)\n    /home/aiffel-dj26/anaconda3/envs/aiffel/lib/python3.7/site-packages/scipy/signal/windows/windows.py:787 hann  *\n        return general_hamming(M, 0.5, sym)\n    /home/aiffel-dj26/anaconda3/envs/aiffel/lib/python3.7/site-packages/scipy/signal/windows/windows.py:1017 general_hamming  *\n        return general_cosine(M, [alpha, 1. - alpha], sym)\n    /home/aiffel-dj26/anaconda3/envs/aiffel/lib/python3.7/site-packages/scipy/signal/windows/windows.py:109 general_cosine  *\n        if _len_guards(M):\n    /home/aiffel-dj26/anaconda3/envs/aiffel/lib/python3.7/site-packages/scipy/signal/windows/windows.py:18 _len_guards  *\n        if int(M) != M or M < 0:\n    /home/aiffel-dj26/anaconda3/envs/aiffel/lib/python3.7/site-packages/tensorflow/python/ops/math_ops.py:1502 tensor_not_equals\n        return gen_math_ops.not_equal(self, other, incompatible_shape_error=False)\n    /home/aiffel-dj26/anaconda3/envs/aiffel/lib/python3.7/site-packages/tensorflow/python/ops/gen_math_ops.py:6422 not_equal\n        name=name)\n    /home/aiffel-dj26/anaconda3/envs/aiffel/lib/python3.7/site-packages/tensorflow/python/framework/op_def_library.py:506 _apply_op_helper\n        inferred_from[input_arg.type_attr]))\n\n    TypeError: Input 'y' of 'NotEqual' Op has type int64 that does not match type int32 of argument 'x'.\n",
     "output_type": "error",
     "traceback": [
      "\u001b[0;31m---------------------------------------------------------------------------\u001b[0m",
      "\u001b[0;31mTypeError\u001b[0m                                 Traceback (most recent call last)",
      "\u001b[0;32m<ipython-input-44-f44d8811a4a3>\u001b[0m in \u001b[0;36m<module>\u001b[0;34m\u001b[0m\n\u001b[1;32m      1\u001b[0m \u001b[0;31m# for train\u001b[0m\u001b[0;34m\u001b[0m\u001b[0;34m\u001b[0m\u001b[0;34m\u001b[0m\u001b[0m\n\u001b[1;32m      2\u001b[0m \u001b[0mtrain_dataset\u001b[0m \u001b[0;34m=\u001b[0m \u001b[0mtf\u001b[0m\u001b[0;34m.\u001b[0m\u001b[0mdata\u001b[0m\u001b[0;34m.\u001b[0m\u001b[0mDataset\u001b[0m\u001b[0;34m.\u001b[0m\u001b[0mfrom_tensor_slices\u001b[0m\u001b[0;34m(\u001b[0m\u001b[0;34m(\u001b[0m\u001b[0mtrain_wav\u001b[0m\u001b[0;34m,\u001b[0m \u001b[0mtrain_label\u001b[0m\u001b[0;34m)\u001b[0m\u001b[0;34m)\u001b[0m\u001b[0;34m\u001b[0m\u001b[0;34m\u001b[0m\u001b[0m\n\u001b[0;32m----> 3\u001b[0;31m \u001b[0mtrain_dataset\u001b[0m \u001b[0;34m=\u001b[0m \u001b[0mtrain_dataset\u001b[0m\u001b[0;34m.\u001b[0m\u001b[0mmap\u001b[0m\u001b[0;34m(\u001b[0m\u001b[0mwav2spec\u001b[0m\u001b[0;34m)\u001b[0m\u001b[0;34m\u001b[0m\u001b[0;34m\u001b[0m\u001b[0m\n\u001b[0m\u001b[1;32m      4\u001b[0m \u001b[0mtrain_dataset\u001b[0m \u001b[0;34m=\u001b[0m \u001b[0mtrain_dataset\u001b[0m\u001b[0;34m.\u001b[0m\u001b[0mrepeat\u001b[0m\u001b[0;34m(\u001b[0m\u001b[0;34m)\u001b[0m\u001b[0;34m.\u001b[0m\u001b[0mbatch\u001b[0m\u001b[0;34m(\u001b[0m\u001b[0mbatch_size\u001b[0m\u001b[0;34m=\u001b[0m\u001b[0mbatch_size\u001b[0m\u001b[0;34m)\u001b[0m\u001b[0;34m\u001b[0m\u001b[0;34m\u001b[0m\u001b[0m\n\u001b[1;32m      5\u001b[0m \u001b[0mprint\u001b[0m\u001b[0;34m(\u001b[0m\u001b[0mtrain_dataset\u001b[0m\u001b[0;34m)\u001b[0m\u001b[0;34m\u001b[0m\u001b[0;34m\u001b[0m\u001b[0m\n",
      "\u001b[0;32m~/anaconda3/envs/aiffel/lib/python3.7/site-packages/tensorflow/python/data/ops/dataset_ops.py\u001b[0m in \u001b[0;36mmap\u001b[0;34m(self, map_func, num_parallel_calls, deterministic)\u001b[0m\n\u001b[1;32m   1619\u001b[0m     \"\"\"\n\u001b[1;32m   1620\u001b[0m     \u001b[0;32mif\u001b[0m \u001b[0mnum_parallel_calls\u001b[0m \u001b[0;32mis\u001b[0m \u001b[0;32mNone\u001b[0m\u001b[0;34m:\u001b[0m\u001b[0;34m\u001b[0m\u001b[0;34m\u001b[0m\u001b[0m\n\u001b[0;32m-> 1621\u001b[0;31m       \u001b[0;32mreturn\u001b[0m \u001b[0mMapDataset\u001b[0m\u001b[0;34m(\u001b[0m\u001b[0mself\u001b[0m\u001b[0;34m,\u001b[0m \u001b[0mmap_func\u001b[0m\u001b[0;34m,\u001b[0m \u001b[0mpreserve_cardinality\u001b[0m\u001b[0;34m=\u001b[0m\u001b[0;32mTrue\u001b[0m\u001b[0;34m)\u001b[0m\u001b[0;34m\u001b[0m\u001b[0;34m\u001b[0m\u001b[0m\n\u001b[0m\u001b[1;32m   1622\u001b[0m     \u001b[0;32melse\u001b[0m\u001b[0;34m:\u001b[0m\u001b[0;34m\u001b[0m\u001b[0;34m\u001b[0m\u001b[0m\n\u001b[1;32m   1623\u001b[0m       return ParallelMapDataset(\n",
      "\u001b[0;32m~/anaconda3/envs/aiffel/lib/python3.7/site-packages/tensorflow/python/data/ops/dataset_ops.py\u001b[0m in \u001b[0;36m__init__\u001b[0;34m(self, input_dataset, map_func, use_inter_op_parallelism, preserve_cardinality, use_legacy_function)\u001b[0m\n\u001b[1;32m   3979\u001b[0m         \u001b[0mself\u001b[0m\u001b[0;34m.\u001b[0m\u001b[0m_transformation_name\u001b[0m\u001b[0;34m(\u001b[0m\u001b[0;34m)\u001b[0m\u001b[0;34m,\u001b[0m\u001b[0;34m\u001b[0m\u001b[0;34m\u001b[0m\u001b[0m\n\u001b[1;32m   3980\u001b[0m         \u001b[0mdataset\u001b[0m\u001b[0;34m=\u001b[0m\u001b[0minput_dataset\u001b[0m\u001b[0;34m,\u001b[0m\u001b[0;34m\u001b[0m\u001b[0;34m\u001b[0m\u001b[0m\n\u001b[0;32m-> 3981\u001b[0;31m         use_legacy_function=use_legacy_function)\n\u001b[0m\u001b[1;32m   3982\u001b[0m     variant_tensor = gen_dataset_ops.map_dataset(\n\u001b[1;32m   3983\u001b[0m         \u001b[0minput_dataset\u001b[0m\u001b[0;34m.\u001b[0m\u001b[0m_variant_tensor\u001b[0m\u001b[0;34m,\u001b[0m  \u001b[0;31m# pylint: disable=protected-access\u001b[0m\u001b[0;34m\u001b[0m\u001b[0;34m\u001b[0m\u001b[0m\n",
      "\u001b[0;32m~/anaconda3/envs/aiffel/lib/python3.7/site-packages/tensorflow/python/data/ops/dataset_ops.py\u001b[0m in \u001b[0;36m__init__\u001b[0;34m(self, func, transformation_name, dataset, input_classes, input_shapes, input_types, input_structure, add_to_graph, use_legacy_function, defun_kwargs)\u001b[0m\n\u001b[1;32m   3219\u001b[0m       \u001b[0;32mwith\u001b[0m \u001b[0mtracking\u001b[0m\u001b[0;34m.\u001b[0m\u001b[0mresource_tracker_scope\u001b[0m\u001b[0;34m(\u001b[0m\u001b[0mresource_tracker\u001b[0m\u001b[0;34m)\u001b[0m\u001b[0;34m:\u001b[0m\u001b[0;34m\u001b[0m\u001b[0;34m\u001b[0m\u001b[0m\n\u001b[1;32m   3220\u001b[0m         \u001b[0;31m# TODO(b/141462134): Switch to using garbage collection.\u001b[0m\u001b[0;34m\u001b[0m\u001b[0;34m\u001b[0m\u001b[0;34m\u001b[0m\u001b[0m\n\u001b[0;32m-> 3221\u001b[0;31m         \u001b[0mself\u001b[0m\u001b[0;34m.\u001b[0m\u001b[0m_function\u001b[0m \u001b[0;34m=\u001b[0m \u001b[0mwrapper_fn\u001b[0m\u001b[0;34m.\u001b[0m\u001b[0mget_concrete_function\u001b[0m\u001b[0;34m(\u001b[0m\u001b[0;34m)\u001b[0m\u001b[0;34m\u001b[0m\u001b[0;34m\u001b[0m\u001b[0m\n\u001b[0m\u001b[1;32m   3222\u001b[0m \u001b[0;34m\u001b[0m\u001b[0m\n\u001b[1;32m   3223\u001b[0m         \u001b[0;32mif\u001b[0m \u001b[0madd_to_graph\u001b[0m\u001b[0;34m:\u001b[0m\u001b[0;34m\u001b[0m\u001b[0;34m\u001b[0m\u001b[0m\n",
      "\u001b[0;32m~/anaconda3/envs/aiffel/lib/python3.7/site-packages/tensorflow/python/eager/function.py\u001b[0m in \u001b[0;36mget_concrete_function\u001b[0;34m(self, *args, **kwargs)\u001b[0m\n\u001b[1;32m   2530\u001b[0m     \"\"\"\n\u001b[1;32m   2531\u001b[0m     graph_function = self._get_concrete_function_garbage_collected(\n\u001b[0;32m-> 2532\u001b[0;31m         *args, **kwargs)\n\u001b[0m\u001b[1;32m   2533\u001b[0m     \u001b[0mgraph_function\u001b[0m\u001b[0;34m.\u001b[0m\u001b[0m_garbage_collector\u001b[0m\u001b[0;34m.\u001b[0m\u001b[0mrelease\u001b[0m\u001b[0;34m(\u001b[0m\u001b[0;34m)\u001b[0m  \u001b[0;31m# pylint: disable=protected-access\u001b[0m\u001b[0;34m\u001b[0m\u001b[0;34m\u001b[0m\u001b[0m\n\u001b[1;32m   2534\u001b[0m     \u001b[0;32mreturn\u001b[0m \u001b[0mgraph_function\u001b[0m\u001b[0;34m\u001b[0m\u001b[0;34m\u001b[0m\u001b[0m\n",
      "\u001b[0;32m~/anaconda3/envs/aiffel/lib/python3.7/site-packages/tensorflow/python/eager/function.py\u001b[0m in \u001b[0;36m_get_concrete_function_garbage_collected\u001b[0;34m(self, *args, **kwargs)\u001b[0m\n\u001b[1;32m   2494\u001b[0m       \u001b[0margs\u001b[0m\u001b[0;34m,\u001b[0m \u001b[0mkwargs\u001b[0m \u001b[0;34m=\u001b[0m \u001b[0;32mNone\u001b[0m\u001b[0;34m,\u001b[0m \u001b[0;32mNone\u001b[0m\u001b[0;34m\u001b[0m\u001b[0;34m\u001b[0m\u001b[0m\n\u001b[1;32m   2495\u001b[0m     \u001b[0;32mwith\u001b[0m \u001b[0mself\u001b[0m\u001b[0;34m.\u001b[0m\u001b[0m_lock\u001b[0m\u001b[0;34m:\u001b[0m\u001b[0;34m\u001b[0m\u001b[0;34m\u001b[0m\u001b[0m\n\u001b[0;32m-> 2496\u001b[0;31m       \u001b[0mgraph_function\u001b[0m\u001b[0;34m,\u001b[0m \u001b[0margs\u001b[0m\u001b[0;34m,\u001b[0m \u001b[0mkwargs\u001b[0m \u001b[0;34m=\u001b[0m \u001b[0mself\u001b[0m\u001b[0;34m.\u001b[0m\u001b[0m_maybe_define_function\u001b[0m\u001b[0;34m(\u001b[0m\u001b[0margs\u001b[0m\u001b[0;34m,\u001b[0m \u001b[0mkwargs\u001b[0m\u001b[0;34m)\u001b[0m\u001b[0;34m\u001b[0m\u001b[0;34m\u001b[0m\u001b[0m\n\u001b[0m\u001b[1;32m   2497\u001b[0m       \u001b[0;32mif\u001b[0m \u001b[0mself\u001b[0m\u001b[0;34m.\u001b[0m\u001b[0minput_signature\u001b[0m\u001b[0;34m:\u001b[0m\u001b[0;34m\u001b[0m\u001b[0;34m\u001b[0m\u001b[0m\n\u001b[1;32m   2498\u001b[0m         \u001b[0margs\u001b[0m \u001b[0;34m=\u001b[0m \u001b[0mself\u001b[0m\u001b[0;34m.\u001b[0m\u001b[0minput_signature\u001b[0m\u001b[0;34m\u001b[0m\u001b[0;34m\u001b[0m\u001b[0m\n",
      "\u001b[0;32m~/anaconda3/envs/aiffel/lib/python3.7/site-packages/tensorflow/python/eager/function.py\u001b[0m in \u001b[0;36m_maybe_define_function\u001b[0;34m(self, args, kwargs)\u001b[0m\n\u001b[1;32m   2775\u001b[0m \u001b[0;34m\u001b[0m\u001b[0m\n\u001b[1;32m   2776\u001b[0m       \u001b[0mself\u001b[0m\u001b[0;34m.\u001b[0m\u001b[0m_function_cache\u001b[0m\u001b[0;34m.\u001b[0m\u001b[0mmissed\u001b[0m\u001b[0;34m.\u001b[0m\u001b[0madd\u001b[0m\u001b[0;34m(\u001b[0m\u001b[0mcall_context_key\u001b[0m\u001b[0;34m)\u001b[0m\u001b[0;34m\u001b[0m\u001b[0;34m\u001b[0m\u001b[0m\n\u001b[0;32m-> 2777\u001b[0;31m       \u001b[0mgraph_function\u001b[0m \u001b[0;34m=\u001b[0m \u001b[0mself\u001b[0m\u001b[0;34m.\u001b[0m\u001b[0m_create_graph_function\u001b[0m\u001b[0;34m(\u001b[0m\u001b[0margs\u001b[0m\u001b[0;34m,\u001b[0m \u001b[0mkwargs\u001b[0m\u001b[0;34m)\u001b[0m\u001b[0;34m\u001b[0m\u001b[0;34m\u001b[0m\u001b[0m\n\u001b[0m\u001b[1;32m   2778\u001b[0m       \u001b[0mself\u001b[0m\u001b[0;34m.\u001b[0m\u001b[0m_function_cache\u001b[0m\u001b[0;34m.\u001b[0m\u001b[0mprimary\u001b[0m\u001b[0;34m[\u001b[0m\u001b[0mcache_key\u001b[0m\u001b[0;34m]\u001b[0m \u001b[0;34m=\u001b[0m \u001b[0mgraph_function\u001b[0m\u001b[0;34m\u001b[0m\u001b[0;34m\u001b[0m\u001b[0m\n\u001b[1;32m   2779\u001b[0m       \u001b[0;32mreturn\u001b[0m \u001b[0mgraph_function\u001b[0m\u001b[0;34m,\u001b[0m \u001b[0margs\u001b[0m\u001b[0;34m,\u001b[0m \u001b[0mkwargs\u001b[0m\u001b[0;34m\u001b[0m\u001b[0;34m\u001b[0m\u001b[0m\n",
      "\u001b[0;32m~/anaconda3/envs/aiffel/lib/python3.7/site-packages/tensorflow/python/eager/function.py\u001b[0m in \u001b[0;36m_create_graph_function\u001b[0;34m(self, args, kwargs, override_flat_arg_shapes)\u001b[0m\n\u001b[1;32m   2665\u001b[0m             \u001b[0marg_names\u001b[0m\u001b[0;34m=\u001b[0m\u001b[0marg_names\u001b[0m\u001b[0;34m,\u001b[0m\u001b[0;34m\u001b[0m\u001b[0;34m\u001b[0m\u001b[0m\n\u001b[1;32m   2666\u001b[0m             \u001b[0moverride_flat_arg_shapes\u001b[0m\u001b[0;34m=\u001b[0m\u001b[0moverride_flat_arg_shapes\u001b[0m\u001b[0;34m,\u001b[0m\u001b[0;34m\u001b[0m\u001b[0;34m\u001b[0m\u001b[0m\n\u001b[0;32m-> 2667\u001b[0;31m             capture_by_value=self._capture_by_value),\n\u001b[0m\u001b[1;32m   2668\u001b[0m         \u001b[0mself\u001b[0m\u001b[0;34m.\u001b[0m\u001b[0m_function_attributes\u001b[0m\u001b[0;34m,\u001b[0m\u001b[0;34m\u001b[0m\u001b[0;34m\u001b[0m\u001b[0m\n\u001b[1;32m   2669\u001b[0m         \u001b[0;31m# Tell the ConcreteFunction to clean up its graph once it goes out of\u001b[0m\u001b[0;34m\u001b[0m\u001b[0;34m\u001b[0m\u001b[0;34m\u001b[0m\u001b[0m\n",
      "\u001b[0;32m~/anaconda3/envs/aiffel/lib/python3.7/site-packages/tensorflow/python/framework/func_graph.py\u001b[0m in \u001b[0;36mfunc_graph_from_py_func\u001b[0;34m(name, python_func, args, kwargs, signature, func_graph, autograph, autograph_options, add_control_dependencies, arg_names, op_return_value, collections, capture_by_value, override_flat_arg_shapes)\u001b[0m\n\u001b[1;32m    979\u001b[0m         \u001b[0m_\u001b[0m\u001b[0;34m,\u001b[0m \u001b[0moriginal_func\u001b[0m \u001b[0;34m=\u001b[0m \u001b[0mtf_decorator\u001b[0m\u001b[0;34m.\u001b[0m\u001b[0munwrap\u001b[0m\u001b[0;34m(\u001b[0m\u001b[0mpython_func\u001b[0m\u001b[0;34m)\u001b[0m\u001b[0;34m\u001b[0m\u001b[0;34m\u001b[0m\u001b[0m\n\u001b[1;32m    980\u001b[0m \u001b[0;34m\u001b[0m\u001b[0m\n\u001b[0;32m--> 981\u001b[0;31m       \u001b[0mfunc_outputs\u001b[0m \u001b[0;34m=\u001b[0m \u001b[0mpython_func\u001b[0m\u001b[0;34m(\u001b[0m\u001b[0;34m*\u001b[0m\u001b[0mfunc_args\u001b[0m\u001b[0;34m,\u001b[0m \u001b[0;34m**\u001b[0m\u001b[0mfunc_kwargs\u001b[0m\u001b[0;34m)\u001b[0m\u001b[0;34m\u001b[0m\u001b[0;34m\u001b[0m\u001b[0m\n\u001b[0m\u001b[1;32m    982\u001b[0m \u001b[0;34m\u001b[0m\u001b[0m\n\u001b[1;32m    983\u001b[0m       \u001b[0;31m# invariant: `func_outputs` contains only Tensors, CompositeTensors,\u001b[0m\u001b[0;34m\u001b[0m\u001b[0;34m\u001b[0m\u001b[0;34m\u001b[0m\u001b[0m\n",
      "\u001b[0;32m~/anaconda3/envs/aiffel/lib/python3.7/site-packages/tensorflow/python/data/ops/dataset_ops.py\u001b[0m in \u001b[0;36mwrapper_fn\u001b[0;34m(*args)\u001b[0m\n\u001b[1;32m   3212\u001b[0m           attributes=defun_kwargs)\n\u001b[1;32m   3213\u001b[0m       \u001b[0;32mdef\u001b[0m \u001b[0mwrapper_fn\u001b[0m\u001b[0;34m(\u001b[0m\u001b[0;34m*\u001b[0m\u001b[0margs\u001b[0m\u001b[0;34m)\u001b[0m\u001b[0;34m:\u001b[0m  \u001b[0;31m# pylint: disable=missing-docstring\u001b[0m\u001b[0;34m\u001b[0m\u001b[0;34m\u001b[0m\u001b[0m\n\u001b[0;32m-> 3214\u001b[0;31m         \u001b[0mret\u001b[0m \u001b[0;34m=\u001b[0m \u001b[0m_wrapper_helper\u001b[0m\u001b[0;34m(\u001b[0m\u001b[0;34m*\u001b[0m\u001b[0margs\u001b[0m\u001b[0;34m)\u001b[0m\u001b[0;34m\u001b[0m\u001b[0;34m\u001b[0m\u001b[0m\n\u001b[0m\u001b[1;32m   3215\u001b[0m         \u001b[0mret\u001b[0m \u001b[0;34m=\u001b[0m \u001b[0mstructure\u001b[0m\u001b[0;34m.\u001b[0m\u001b[0mto_tensor_list\u001b[0m\u001b[0;34m(\u001b[0m\u001b[0mself\u001b[0m\u001b[0;34m.\u001b[0m\u001b[0m_output_structure\u001b[0m\u001b[0;34m,\u001b[0m \u001b[0mret\u001b[0m\u001b[0;34m)\u001b[0m\u001b[0;34m\u001b[0m\u001b[0;34m\u001b[0m\u001b[0m\n\u001b[1;32m   3216\u001b[0m         \u001b[0;32mreturn\u001b[0m \u001b[0;34m[\u001b[0m\u001b[0mops\u001b[0m\u001b[0;34m.\u001b[0m\u001b[0mconvert_to_tensor\u001b[0m\u001b[0;34m(\u001b[0m\u001b[0mt\u001b[0m\u001b[0;34m)\u001b[0m \u001b[0;32mfor\u001b[0m \u001b[0mt\u001b[0m \u001b[0;32min\u001b[0m \u001b[0mret\u001b[0m\u001b[0;34m]\u001b[0m\u001b[0;34m\u001b[0m\u001b[0;34m\u001b[0m\u001b[0m\n",
      "\u001b[0;32m~/anaconda3/envs/aiffel/lib/python3.7/site-packages/tensorflow/python/data/ops/dataset_ops.py\u001b[0m in \u001b[0;36m_wrapper_helper\u001b[0;34m(*args)\u001b[0m\n\u001b[1;32m   3154\u001b[0m         \u001b[0mnested_args\u001b[0m \u001b[0;34m=\u001b[0m \u001b[0;34m(\u001b[0m\u001b[0mnested_args\u001b[0m\u001b[0;34m,\u001b[0m\u001b[0;34m)\u001b[0m\u001b[0;34m\u001b[0m\u001b[0;34m\u001b[0m\u001b[0m\n\u001b[1;32m   3155\u001b[0m \u001b[0;34m\u001b[0m\u001b[0m\n\u001b[0;32m-> 3156\u001b[0;31m       \u001b[0mret\u001b[0m \u001b[0;34m=\u001b[0m \u001b[0mautograph\u001b[0m\u001b[0;34m.\u001b[0m\u001b[0mtf_convert\u001b[0m\u001b[0;34m(\u001b[0m\u001b[0mfunc\u001b[0m\u001b[0;34m,\u001b[0m \u001b[0mag_ctx\u001b[0m\u001b[0;34m)\u001b[0m\u001b[0;34m(\u001b[0m\u001b[0;34m*\u001b[0m\u001b[0mnested_args\u001b[0m\u001b[0;34m)\u001b[0m\u001b[0;34m\u001b[0m\u001b[0;34m\u001b[0m\u001b[0m\n\u001b[0m\u001b[1;32m   3157\u001b[0m       \u001b[0;31m# If `func` returns a list of tensors, `nest.flatten()` and\u001b[0m\u001b[0;34m\u001b[0m\u001b[0;34m\u001b[0m\u001b[0;34m\u001b[0m\u001b[0m\n\u001b[1;32m   3158\u001b[0m       \u001b[0;31m# `ops.convert_to_tensor()` would conspire to attempt to stack\u001b[0m\u001b[0;34m\u001b[0m\u001b[0;34m\u001b[0m\u001b[0;34m\u001b[0m\u001b[0m\n",
      "\u001b[0;32m~/anaconda3/envs/aiffel/lib/python3.7/site-packages/tensorflow/python/autograph/impl/api.py\u001b[0m in \u001b[0;36mwrapper\u001b[0;34m(*args, **kwargs)\u001b[0m\n\u001b[1;32m    263\u001b[0m       \u001b[0;32mexcept\u001b[0m \u001b[0mException\u001b[0m \u001b[0;32mas\u001b[0m \u001b[0me\u001b[0m\u001b[0;34m:\u001b[0m  \u001b[0;31m# pylint:disable=broad-except\u001b[0m\u001b[0;34m\u001b[0m\u001b[0;34m\u001b[0m\u001b[0m\n\u001b[1;32m    264\u001b[0m         \u001b[0;32mif\u001b[0m \u001b[0mhasattr\u001b[0m\u001b[0;34m(\u001b[0m\u001b[0me\u001b[0m\u001b[0;34m,\u001b[0m \u001b[0;34m'ag_error_metadata'\u001b[0m\u001b[0;34m)\u001b[0m\u001b[0;34m:\u001b[0m\u001b[0;34m\u001b[0m\u001b[0;34m\u001b[0m\u001b[0m\n\u001b[0;32m--> 265\u001b[0;31m           \u001b[0;32mraise\u001b[0m \u001b[0me\u001b[0m\u001b[0;34m.\u001b[0m\u001b[0mag_error_metadata\u001b[0m\u001b[0;34m.\u001b[0m\u001b[0mto_exception\u001b[0m\u001b[0;34m(\u001b[0m\u001b[0me\u001b[0m\u001b[0;34m)\u001b[0m\u001b[0;34m\u001b[0m\u001b[0;34m\u001b[0m\u001b[0m\n\u001b[0m\u001b[1;32m    266\u001b[0m         \u001b[0;32melse\u001b[0m\u001b[0;34m:\u001b[0m\u001b[0;34m\u001b[0m\u001b[0;34m\u001b[0m\u001b[0m\n\u001b[1;32m    267\u001b[0m           \u001b[0;32mraise\u001b[0m\u001b[0;34m\u001b[0m\u001b[0;34m\u001b[0m\u001b[0m\n",
      "\u001b[0;31mTypeError\u001b[0m: in user code:\n\n    <ipython-input-32-6ac2f57e8a50>:4 wav2spec  *\n        D = np.abs(librosa.stft(wav, n_fft=fft_size))\n    /home/aiffel-dj26/anaconda3/envs/aiffel/lib/python3.7/site-packages/librosa/core/spectrum.py:208 stft  *\n        fft_window = get_window(window, win_length, fftbins=True)\n    /home/aiffel-dj26/anaconda3/envs/aiffel/lib/python3.7/site-packages/librosa/filters.py:884 get_window  *\n        return scipy.signal.get_window(window, Nx, fftbins=fftbins)\n    /home/aiffel-dj26/anaconda3/envs/aiffel/lib/python3.7/site-packages/scipy/signal/windows/windows.py:2121 get_window  *\n        return winfunc(*params)\n    /home/aiffel-dj26/anaconda3/envs/aiffel/lib/python3.7/site-packages/scipy/signal/windows/windows.py:787 hann  *\n        return general_hamming(M, 0.5, sym)\n    /home/aiffel-dj26/anaconda3/envs/aiffel/lib/python3.7/site-packages/scipy/signal/windows/windows.py:1017 general_hamming  *\n        return general_cosine(M, [alpha, 1. - alpha], sym)\n    /home/aiffel-dj26/anaconda3/envs/aiffel/lib/python3.7/site-packages/scipy/signal/windows/windows.py:109 general_cosine  *\n        if _len_guards(M):\n    /home/aiffel-dj26/anaconda3/envs/aiffel/lib/python3.7/site-packages/scipy/signal/windows/windows.py:18 _len_guards  *\n        if int(M) != M or M < 0:\n    /home/aiffel-dj26/anaconda3/envs/aiffel/lib/python3.7/site-packages/tensorflow/python/ops/math_ops.py:1502 tensor_not_equals\n        return gen_math_ops.not_equal(self, other, incompatible_shape_error=False)\n    /home/aiffel-dj26/anaconda3/envs/aiffel/lib/python3.7/site-packages/tensorflow/python/ops/gen_math_ops.py:6422 not_equal\n        name=name)\n    /home/aiffel-dj26/anaconda3/envs/aiffel/lib/python3.7/site-packages/tensorflow/python/framework/op_def_library.py:506 _apply_op_helper\n        inferred_from[input_arg.type_attr]))\n\n    TypeError: Input 'y' of 'NotEqual' Op has type int64 that does not match type int32 of argument 'x'.\n"
     ]
    }
   ],
   "source": [
    "# for train\n",
    "train_dataset = tf.data.Dataset.from_tensor_slices((train_wav, train_label))\n",
    "train_dataset = train_dataset.map(one_hot_label)\n",
    "train_dataset = train_dataset.repeat().batch(batch_size=batch_size)\n",
    "print(train_dataset)\n",
    "\n",
    "# for test\n",
    "test_dataset = tf.data.Dataset.from_tensor_slices((test_wav, test_label))\n",
    "test_dataset = test_dataset.map(one_hot_label)\n",
    "test_dataset = test_dataset.batch(batch_size=batch_size)\n",
    "print(test_dataset)"
   ]
  },
  {
   "cell_type": "code",
   "execution_count": null,
   "metadata": {},
   "outputs": [],
   "source": []
  },
  {
   "cell_type": "code",
   "execution_count": null,
   "metadata": {},
   "outputs": [],
   "source": []
  },
  {
   "cell_type": "code",
   "execution_count": null,
   "metadata": {},
   "outputs": [],
   "source": []
  },
  {
   "cell_type": "code",
   "execution_count": null,
   "metadata": {},
   "outputs": [],
   "source": []
  },
  {
   "cell_type": "code",
   "execution_count": null,
   "metadata": {},
   "outputs": [],
   "source": []
  },
  {
   "cell_type": "code",
   "execution_count": null,
   "metadata": {},
   "outputs": [],
   "source": []
  },
  {
   "cell_type": "code",
   "execution_count": null,
   "metadata": {},
   "outputs": [],
   "source": []
  },
  {
   "cell_type": "code",
   "execution_count": null,
   "metadata": {},
   "outputs": [],
   "source": []
  },
  {
   "cell_type": "code",
   "execution_count": null,
   "metadata": {},
   "outputs": [],
   "source": []
  },
  {
   "cell_type": "code",
   "execution_count": null,
   "metadata": {},
   "outputs": [],
   "source": []
  },
  {
   "cell_type": "code",
   "execution_count": null,
   "metadata": {},
   "outputs": [],
   "source": []
  },
  {
   "cell_type": "code",
   "execution_count": null,
   "metadata": {},
   "outputs": [],
   "source": []
  },
  {
   "cell_type": "markdown",
   "metadata": {},
   "source": [
    "# 정리\n",
    "---\n",
    "1. 네이버 영화리뷰 dataset을 load한다.   \n",
    "    - pd.read_tabel 을 이용하면 데이터를 표로 읽어올 수 있다. \n",
    "    - 데이터 description을 출력해 해당 데이터의 특성을 파악한다.\n",
    "2. 데이터셋을 가공할 함수를 만든다.   \n",
    "    - 중복된 데이터와 결측치를 제거한다.\n",
    "    - 문장을 토크나이저로 토큰화한다. \n",
    "    - 불용어는 제거한다.\n",
    "    - word_to_index, index_to_word를 구성한다.\n",
    "3. 데이터의 분포를 확인해 패딩할 최대 길이를 선정한다.\n",
    "    - 최대 길이는 (평균 + 2\\*표준편차)로 계산하였다. (41)\n",
    "4. 문장 앞에 패딩을 해 길이를 맞춘다.\n",
    "5. train, valid 로 dataset을 나눈다. \n",
    "6. 모델을 설계한다.\n",
    "    - 첫번째 레이어는 embedding layer로 구성한다.\n",
    "7. pretrain된 word2vec을 활용해 embedding layer를 구성한다.\n",
    "    - word2vec을 활용하면 단어간 유사도를 판별할 수 있다.\n",
    "8. 학습시킨 후 그래프 시각화를 통해 과적합을 판별해 파라미터를 조정한다.\n",
    "\n",
    "\n",
    "# 루브릭 평가\n",
    "---\n",
    "1. **음성데이터를 2차원 Spectrogram 으로 변환하여 데이터셋을 구성하였다.**   \n",
    "    - 스펙트로그램 시각화 및 train/test 데이터셋 구성이 정상진행되었다.\n",
    "\n",
    "    \n",
    "2. **1,2차원 데이터를 처리하는 음성인식 모델이 정상 작동한다.**  \n",
    "    - 스펙트로그램을 입력받은 모델이 학습과정에서 안정적으로 수렴하며, evaluation/test 단계를 무리없이 진행가능하다.\n",
    "    \n",
    "    \n",
    "3. **테스트셋 수행결과 음성인식 모델의 Accuracy가 일정 수준에 도달하였다.**  \n",
    "    - evaluation 결과 75% 이상의 정확도를 달성하는 모델이 하나 이상 존재한다.\n",
    "\n",
    "    \n",
    "# 회고\n",
    "---\n",
    "## 더 공부하고 싶은 부분\n",
    "- embedding layer의 원리\n",
    "- lstm 연산\n",
    "- vector dimension\n",
    "- callback함수를 사용해 earlystopping하는 것과 그래프로 확인해 에폭을 줄이는 것의 성능차이가 있을까?  \n",
    "\n",
    "## 느낀 점\n",
    "아직 RNN, NLP에 대해 부족한 부분이 많아 연산을 생각하며 모델을 구성하지 못한 점이 아쉬웠다. 문장을 토큰화하고, 벡터화하고 여러 전처리 과정에서 문장의 의미, 맥락, 단어들의 유사도 등 의미있는 데이터를 손상하지 않기위한 고민이 많이 필요하다는 것을 알게되었다. 더 재미있는 task도 빨리 만나고 싶다."
   ]
  }
 ],
 "metadata": {
  "kernelspec": {
   "display_name": "Python 3",
   "language": "python",
   "name": "python3"
  },
  "language_info": {
   "codemirror_mode": {
    "name": "ipython",
    "version": 3
   },
   "file_extension": ".py",
   "mimetype": "text/x-python",
   "name": "python",
   "nbconvert_exporter": "python",
   "pygments_lexer": "ipython3",
   "version": "3.7.9"
  }
 },
 "nbformat": 4,
 "nbformat_minor": 5
}
