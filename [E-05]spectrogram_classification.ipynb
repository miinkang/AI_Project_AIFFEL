{
 "cells": [
  {
   "cell_type": "markdown",
   "id": "joined-brand",
   "metadata": {},
   "source": [
    "# [Exploration 05] Spectrogram Classification\n",
    "- 2차원의 spectrogram 데이터를 분류하는 task\n",
    "- 기본 모델과 skip connection을 사용한 모델로 나누어 성능을 비교한다. \n",
    "- data source : [Kaggle/TensorFlow Speech Recognition Challenge](https://www.kaggle.com/c/tensorflow-speech-recognition-challenge)\n",
    "## 1. load data "
   ]
  },
  {
   "cell_type": "code",
   "execution_count": 7,
   "id": "focal-reach",
   "metadata": {},
   "outputs": [
    {
     "name": "stdout",
     "output_type": "stream",
     "text": [
      "<numpy.lib.npyio.NpzFile object at 0x7fc358fa1cd0>\n",
      "KeysView(<numpy.lib.npyio.NpzFile object at 0x7fc358fa1cd0>)\n",
      "ValuesView(<numpy.lib.npyio.NpzFile object at 0x7fc358fa1cd0>)\n"
     ]
    }
   ],
   "source": [
    "import numpy as np\n",
    "import os\n",
    "\n",
    "data_path = os.getenv(\"HOME\")+'/aiffel/speech_recognition/data/speech_wav_8000.npz'\n",
    "speech_data = np.load(data_path)\n",
    "\n",
    "print(speech_data)\n",
    "print(speech_data.keys())\n",
    "print(speech_data.values())\n"
   ]
  },
  {
   "cell_type": "markdown",
   "id": "developing-metropolitan",
   "metadata": {},
   "source": [
    "speech_data는 wav_vals, label_vals로 이루어져있다."
   ]
  },
  {
   "cell_type": "code",
   "execution_count": 8,
   "id": "unlike-cookie",
   "metadata": {},
   "outputs": [
    {
     "name": "stdout",
     "output_type": "stream",
     "text": [
      "Wave data shape :  (50620, 8000)\n",
      "Label data shape :  (50620, 1)\n"
     ]
    }
   ],
   "source": [
    "print(\"Wave data shape : \", speech_data[\"wav_vals\"].shape)\n",
    "print(\"Label data shape : \", speech_data[\"label_vals\"].shape)"
   ]
  },
  {
   "cell_type": "markdown",
   "id": "charitable-grove",
   "metadata": {},
   "source": [
    "- data는 총 50,620개\n",
    "- sampling rate : 8,000"
   ]
  },
  {
   "cell_type": "code",
   "execution_count": null,
   "id": "bound-christian",
   "metadata": {},
   "outputs": [],
   "source": []
  },
  {
   "cell_type": "code",
   "execution_count": null,
   "id": "western-elephant",
   "metadata": {},
   "outputs": [],
   "source": []
  },
  {
   "cell_type": "code",
   "execution_count": null,
   "id": "narrow-lighting",
   "metadata": {},
   "outputs": [],
   "source": []
  },
  {
   "cell_type": "code",
   "execution_count": null,
   "id": "grateful-season",
   "metadata": {},
   "outputs": [],
   "source": []
  },
  {
   "cell_type": "code",
   "execution_count": null,
   "id": "round-doctor",
   "metadata": {},
   "outputs": [],
   "source": []
  },
  {
   "cell_type": "code",
   "execution_count": null,
   "id": "alpha-lawyer",
   "metadata": {},
   "outputs": [],
   "source": []
  },
  {
   "cell_type": "code",
   "execution_count": null,
   "id": "classical-vanilla",
   "metadata": {},
   "outputs": [],
   "source": []
  }
 ],
 "metadata": {
  "kernelspec": {
   "display_name": "Python 3",
   "language": "python",
   "name": "python3"
  },
  "language_info": {
   "codemirror_mode": {
    "name": "ipython",
    "version": 3
   },
   "file_extension": ".py",
   "mimetype": "text/x-python",
   "name": "python",
   "nbconvert_exporter": "python",
   "pygments_lexer": "ipython3",
   "version": "3.7.9"
  }
 },
 "nbformat": 4,
 "nbformat_minor": 5
}
