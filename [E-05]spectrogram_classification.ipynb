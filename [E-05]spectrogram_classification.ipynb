{
 "cells": [
  {
   "cell_type": "markdown",
   "id": "daily-acrylic",
   "metadata": {},
   "source": [
    "# [Exploration 05] Spectrogram Classification\n",
    "- 2차원의 spectrogram 데이터를 분류하는 task\n",
    "- 기본 모델과 skip connection을 사용한 모델로 나누어 성능을 비교한다. \n",
    "- data source : [Kaggle/TensorFlow Speech Recognition Challenge](https://www.kaggle.com/c/tensorflow-speech-recognition-challenge)\n",
    "\n",
    "# 1-dimension wav file classification\n",
    "spectrogram 데이터를 다루기 전(변환 전) wav 파일을 이용해서 분류해보겠다.(데이터 간의 성능비교를 위해)\n",
    "## 1. load data "
   ]
  },
  {
   "cell_type": "code",
   "execution_count": 1,
   "id": "royal-semester",
   "metadata": {},
   "outputs": [
    {
     "name": "stdout",
     "output_type": "stream",
     "text": [
      "<numpy.lib.npyio.NpzFile object at 0x7f81e630edd0>\n",
      "KeysView(<numpy.lib.npyio.NpzFile object at 0x7f81e630edd0>)\n",
      "ValuesView(<numpy.lib.npyio.NpzFile object at 0x7f81e630edd0>)\n"
     ]
    }
   ],
   "source": [
    "import numpy as np\n",
    "import os\n",
    "\n",
    "data_path = os.getenv(\"HOME\")+'/aiffel/speech_recognition/data/speech_wav_8000.npz'\n",
    "speech_data = np.load(data_path)\n",
    "\n",
    "print(speech_data)\n",
    "print(speech_data.keys())\n",
    "print(speech_data.values())"
   ]
  },
  {
   "cell_type": "markdown",
   "id": "french-elizabeth",
   "metadata": {},
   "source": [
    "- speech_data는 wav_vals, label_vals로 이루어져있다."
   ]
  },
  {
   "cell_type": "code",
   "execution_count": 2,
   "id": "painful-bidding",
   "metadata": {},
   "outputs": [
    {
     "name": "stdout",
     "output_type": "stream",
     "text": [
      "Wave data shape :  (50620, 8000)\n",
      "Label data shape :  (50620, 1)\n"
     ]
    }
   ],
   "source": [
    "print(\"Wave data shape : \", speech_data[\"wav_vals\"].shape)\n",
    "print(\"Label data shape : \", speech_data[\"label_vals\"].shape)"
   ]
  },
  {
   "cell_type": "code",
   "execution_count": 3,
   "id": "vertical-graham",
   "metadata": {},
   "outputs": [
    {
     "name": "stdout",
     "output_type": "stream",
     "text": [
      "[-1.27418665e-04 -1.12644804e-04 -1.86756923e-04 ... -1.62762426e-05\n",
      " -4.93293861e-04 -3.55132594e-04]\n",
      "8000\n",
      "[['down']\n",
      " ['down']\n",
      " ['down']\n",
      " ...\n",
      " ['silence']\n",
      " ['silence']\n",
      " ['silence']]\n"
     ]
    }
   ],
   "source": [
    "print(speech_data[\"wav_vals\"][0])\n",
    "print(len(speech_data[\"wav_vals\"][0]))\n",
    "print(speech_data[\"label_vals\"])"
   ]
  },
  {
   "cell_type": "markdown",
   "id": "excess-conversation",
   "metadata": {},
   "source": [
    "- data는 총 50,620개\n",
    "- 모두 1초 음성데이터이다. \n",
    "- sampling rate : 8,000   \n",
    "\n",
    "\n",
    "- data 확인"
   ]
  },
  {
   "cell_type": "code",
   "execution_count": 4,
   "id": "educated-alfred",
   "metadata": {},
   "outputs": [
    {
     "name": "stdout",
     "output_type": "stream",
     "text": [
      "rand num :  22829\n",
      "Wave data shape :  (8000,)\n",
      "label :  ['down']\n"
     ]
    },
    {
     "data": {
      "text/html": [
       "\n",
       "                <audio  controls=\"controls\" >\n",
       "                    <source src=\"data:audio/wav;base64,UklGRqQ+AABXQVZFZm10IBAAAAABAAEAQB8AAIA+AAACABAAZGF0YYA+AABJAdkBAAAm/u0AGwHXAEX/B/8T/7T+5ABF/3P+4ADIAb7/d/8CAyoBKQEiAAYABv4l/tQBSf8D/qD/WAEP/k0AEwM2A50A2ACe/jD+JADhADkCmP54/q/+8f9C/ncCxgAv/5n+zv+RAMH+2ALR/QP+jP7yAesA4/4wAAYAWQG7ALkAb/3f/9AC+gBA/t3+if+W/wgA7v5g/2j/XQDTANAAGQEwANf++f4SAff/MQB4/7L/PAAeABEBeP78/0UAEwDEAKwAaAA6/3sAKQE9/0r/dwD4/yv/sgAzAAf9Cf4EAZ8CRAGv/jv/BQLKALEAtQB2/4j/QQD0/7H+Rf8IAKkBHQDq/z3/A/8XAUYBK/9m/o4AsABqADgAcADJ/qv9VP48AhQB2/zn/QcA+gLlAjwCk/4I/+D/yf/cAVwBx/91/I/+SAAMASIAKwDkAKkA1P+E/kgAggAG/+T+UwEbAfP/o/8P/yf+4P8qATz+xP75AF0BTwEZAS0C2wH0/g3/FgD//h8AEgCF/p3+Gv/GAD0BxAAyAGr/awCB/1cAjQGuAEb+0/3zAH4AHgE5AS0Akf1T/nn/av5PACQA8f/R//YBywEi/5T+9wAFAI7+cAALAF//jf8HAHv/8/6b/6cC7QCy/wUAMwEsAbT/YwCI/tn+r/9p/2r+LAAFAh8BI//W/zQAef92ABcCZAEL/t7/VgEOAH7+Uf9WAt8At/51ACgBMgDT/ZL+9/8iAbcCBwDD/UkADwMkAS//b/4e/6/+fv/T/Rb+CQF4ADMAywCaALQBIgN+AAEAjv54/mz+j/8V/nH/ngAYAGcCswBNAOD97QCuAOb/tAGUAfEAVf+kAIwAZv+r/479sv0n/lMAWv+X/rkAp/46A8gA8Aj4A/T0gfpD/hn2n/h4Bh8DrvrB/RQHHAk7DXoH9P/I/pr9ZP739tjykgcDBd33dwVSDEQGv/t1/oYALPj49XP3AfnQAeb+DQL4C5YMSQpeAAAATgBV+sn8Y/tZ/joC1PrL/lEEbQIqATUAPf+FASsFUQHM++T/DP+290D9zf7P+/v65v3mAiMBXv8gALoDBAHY+wL9aQHv/REAOAMJAhYDVwN3A/cCLQX+Ay4ADwFOCUQJMgemBqgIyAaJ/Xf5j/nv+J7yrO0j7Kzt9+5O8p/42P9AAjAGkQ35CIMNJBU3Bkv+HQm9BbX4P/X5+Mr3efg09Wb7vQfaBswDxA2SELcELBo0JJ0ZBxAnGqoW/gVl87jr/u9t3iDCub5e1zLVAdLH4xMBTRTcFlcRYyEhMKQf2Qm+EVkSuP4N9Zr2x+1S9br8KfK3ALEcRxLGAqASThasBsIBgwLO+Qz8KenI7tcZkTyIApsEe0x7NhTX5uXQD8/RE554l225ldamz7a1MgIGRYwvJhX6Qy5SqjHrA4f+RQ4H/0nP/b769s4MXeYr7a00zzrCEQ4LdCwGKvD+H9xK+CL69drKykbxUOxpKghQxwHjGll2hCjZpv3/6RBwq1aQJaJbtQndmtK02YY712+QKu0oYVKMPBnxltIH20Hgp8iUp7frfjODGDACw1WDYKsiFw6EE20B7uRDyD7GBOdZ3yXWePtvI2ITxzzCeXo0hhFHXpNAh5zUvU3fDpcyj/WiMLr0+7QRVAwvUTl6a0cWHC4jQg/ZyaqXP6ojwaTTrsNxCWRH3EWDPx5XL0QsHWMG39qO1nzasMQQyV3sUf1l/AUjWDKfOkAxslR0adn+BfPDMjfwvY95wV3PBKX8lhvfBwz+PDYziS7ZW8FpDAoezoPlR9JwoX+U+suC7ugCtAQhSn5i9Ud6IYo07w3r40/fRdzg3L7h/O348e4RsxIZHkoYljTDGtZV6VjI87ECgExI9OqNa9yA5syjCZx98x8RMzZEHtMbo0ZHVM/lP8CO4izi4qG0rVv1QgG9GzgRgUYjOxQnnwu0HRfn2eDC+KjgTOZJDhwYjvvWGhES+BsoFU0P1AT0SGBrl/L/5GJLshHeiUHGXATpwQKQiucnKY4+uSH0Co83Ukx44imkFMmN44GzVqaECmIznzBoHIdfnzOf7UbxNgh/ujnHIB2O/yn0EijINaYUpxQ1+oEB1gGG6kfnJlxFZljlfwLbe2sDQYX/2RAG2LJKnBELrz+dWgAmpvWZKSg0GrFLkP/Lr/HVs1rMLjW+O+MzrgkOSI00esRvsEoncu3cshsjCkrEC9IF8yWhER0EeeY2514E6QbQ6AZTuW8/+n/miWkjDpeEisfvDcvCjKV8IVZB31ruL+roGwTFJOO1RoibyJr+9Map4gFGbD+YMYEFnQ7LMqjk3I8zCKgyfb/S81Fjzyfk8HsPyRCU/O30j94F+wAt+vCfC6N2JzKbq5sc+1pBqdCnUxZHC8CkKv1eRNJAFkjN5nfR8Rjv8LeIhrOlEaL3SstqJCNAGCiPCjzn3AllLiHCZbQARR8nSr8cIDdfvfkJ4bQSOPu/7oj8g/ICEQ8qCPKYIf9/Nvkqp8M7FTjwjpPDtzh0C+OrCRq8RJ8xORn+zn3iXyAO39uLveSBEf3gYNGbI80dqxfy+WDk+SmSMifaaOtZQ0r/Ad6IFJwUMfgkAgD5fPYtEVEDyvOEECAaPfv4WxBd2M5A4cxRluenjrkLajv8ytbKREimKEoOifTj3Mv9qA7GtIC5cvv0+DfIH+wyIbsOiRR4930GkTftIP7f6xIfGrPklvI/B4X6BQ7KGdH3hPkSHwMGUerZBB0Rv/82Ub9Z08/x7KxLBdoBkwYeljSSwjTheT0nEg0CMf3K12X7Cgh8ufe4Wefj6jvG7/UAJrMs4CJfAx0SpU9AHFS/CQfcF8PZzN9XGjIKvRgsF+3xmAWjJTXnpth5FAIWZ/IhRJRrNuwi11AxLP3wjQ30sCVj8KXekRHACaURTAAAxEj3RxYNzTyrTOMx8STeNedKLnxAsSK7/IgSilYoBgmys/YtK9rbM9apIR41WR2I+YXwfxRsGBTUNt20GQEZqe6VUadgP+bH2is6eOk8lYwGXSk58GrfrRTLCpgPEuraySUBbghEuru9X+8W8u7WOPwiN8IxXxlF9BIjREJe51fFjCChEkHOHwIcLIwbwhLA/Ub1xQuoA2bM0/NwIQUD6O+KSV90ze0fymE3tRGXj8DevT23CSvGBe31E+cN/O0fxekBkRhw0TS8FOtN84bfDPKUIu85Og7z/a0MqD6fERe1OQ6TRYbbI8zqSmMrLuPh+T4Lb/rw/ZTbgPFTMMj84PC7J4tt0S6O1Mft8UDD3Bia3hGHL0/g/L0h9/IRWA212mrj6hodAbHHr86F3aD0O+Sh/ZI0XCNBDGsDjhuRLtcA5snSHKkwJ95R60U9dB7G5an10fzFDan7Fut5+hQhxu/5Ctcaxz/ITFvm9OwDKcUC25P38C0hUeTJrnjqEh3OFkQAe+DfCL8NZNNSr+3M0vPQ/GL8MSuxI9YrMQ3Z/LMkOAZG3+YEZiUv9lAVCSNHB63+9gM5+CX6SQWK7zD+1QcDEE36swm6CoVJhEHo6cHpcB637EyYhvcZDMHdkdEaAxUXSRqO9p3XSwDY7Z+7PbcP3HsGsQvREvYt8ixrHJj+ru2DGV4POt/wGrBG4Qs59y0j+gnD7m/zEv1g/FsBrfTOBhYWnAUy+1bv0xApEic9mSAN6bn2xBqt17mrTQf9/yTcW92cATcM4Q4c9H7Y4/BH4ZDIdM2W4ZUKqhpGHoIhKhtRFL4CZ/2qJywbSP5VHbEmNAe/AjsLx/kl9mL7yPw4CKEOoAIlBQIAYPTz9mvteeFCF7cTq0BIOcvxHOtRDoTcw59P5CTzwvsl5lb07xH3Itvpm8M05R7fktfT2MTrqBIMKkwoKRa9FMAeLxR4+Zsroj4O+LQQDjb/AITfeAibCCYDevkY9fMTLw8z6jTopvJE9rPmQ/Tr+Vgg1iBvIHxA1xIS5hHRY/bVzAPBzN/nDTYFfuOl8zEAZwK41AfSq+Mz587uJ/fHBKQdNiRFHF0cdB4xEFASMRy8O9o2lQjqCtAhQf2T3iz7YgOaAZbslecQBToJ7/GX62n6MPbz8uHt4ABACkUYSBTGFBcxwRJy4OnG9uuc0RnKMusN+C//dPHk6VbtHgWP53XaIOjB5FkJ0RMYCo0UnDQOQisgfxj/GgIiZRboJwI4LhZA8v3xzv2248zpp/U/CfoBwOy58g8JZgd58Sjg9OmA+dX30eUn9QAhOBzJIj7xiQ6IFB3ogsJE1uLxHt6v9trsMAP+8CToWOsf80/6VvybDH7/lg0BIo4ZOxnkF6gjFSO1GfkbhBIcFYQaWCLsJdEKneDX2HTqTOxU8Uv97gNjEmv7mez49Er8X/NL7FTq4OqS+LrsiOzr7RADORFjFPz9hvr9DpsK5+qczObmqPHN9Tv79AY0DtUIQwZkAgkMjQq8A0n+l/qVFhse0RpOEbsZlCFHEyMIU/6jBHMJTxYGDQIl2Bqh4vrWdepY9Kzpq/UY8ojyBfFk7Bj5vAKj+Bbm8dxu1fnff/nN9Xj5HQkkFBQe9QcdCnX/tAsRBYsEuhSdD7oOXPgy/4D3bQK7/xYAHgNaAn8RhAlTBgYEN/V28eT6eAjVBWkLUheYGfQiyxACDsn51fVN9Cr8DBT1/7rn1dRy5bHm/vJd9XTmy/L896gFCAUYBBL5CPLQ7fXkfvsOB4oVARCoB5UQdw4wCb/+uQKY/00SrRKYDs0ZMBQzEj4BP/r65pLkxuqj+kcMcg0bE/0G4wCl+Zn18/Ka6CTv0/dI/loFsAVTCY8AkwSZBy8AUvRB9mEERwODEiELTAK7AFT42+2A96kNFwlsAuP19flO/LwAHQXfAGn0vOOv84/4hPwIAfUIvg9s/5n7hwZeBi7+lvw4AM4R/xXcFJMTvA/gBQQEEQTH/xX7bPV09bHymfbC9U/7V/uR8ono0+Un7JD4ufzh+x0ExwvwCML/0gLcB14InQskEikWuhhqFhoJ6QnrD88IAAWc+57zX+v66zfvivm3BKX4jPP49KH1QPce/vb6R+qa7x30YfoXAaUB8A8qDtwCRv4pBKYI8f9+/ID99gd+C8cOqBBlCiYHl/7oBXcEIAYAA6AJ2Qy7BroGDvqs9eztoO7h8gj3zv3l/239bgF5ALf88fXP8+PvHvTl/V//6gcfC0sOGAzcCyIJ3QLrAEn/CgdYDFUIrwNW/5P58vAQ8fby1PsZADL6Hf1c+l38zP9i/uj4C/BS8pb4NAHxAlAMeBXtDAkIhwVxA40EfQVUBGQH0wcHCVIOgQ4LB+ECbgBr+k33tPSN9QT+kwXIADf59fuj/pv7ffkk9wHz5uzI6SXpKvQQ+Kf3dvsu/3wDDAgEDWQM9QqBA/4BJ/3+/9ALyA8EFrYa9ReVFfgPDgpiA3sAUABx+7j2nvCD8DfvHPHw8gf1nfbk8drupu86/OkDTgI///v67PmZ+cf+oQRZEC4Urg37Cv4J0Qak/2gAgQKNA68Bvf8cBBYFAAJkAJUC1/zI99735/puAjAAcQCKAwgDJvqh9fH4T/zvAVEHXA6sCYT9IPV784LvU+/I9rL6QALqBNkG7A3dDTcIYwF//tH+MAHI/kP/wQSbB64I4wfOB38FNgL9/0QF8wQR/SD1Se7C58bnx+5P+kUFTgV7BvsBRPvO+NX/jgRsB/gHCgOkAlQAAwPdAxQJBA1pCksEC/4q/l0APwWgB18ERf+v+vX4uPiH95z47/wUAtP9cPvbACYAiQCO/977Gfvl+Vz2dPOn+roCyQzmEdsSVwuV/dL0BvDF89n3MgDTAwIJUAucCC8HcQXcBZIEgAJE/OL5Zv0E/o/9tAIBCioJMwPm/6/9Gfp4+Y77lP5iANz+z/o+9r/yxe928Vb35v+tAJwD1wk2BpYAYAJ1B1ECPf4ABOEGggT4AEgFzgxMD3EMIgUOAvf+4Prn++YCUgNVAib9i/aG9Nvzd/TU9fj8JAAVAVICGgB1+Vf7z/ta/UEB6gOXChQK/gUhALD9k/W888T4Hvui/SwBtwkcDtIQZQ59CDgDZ/6z+7T2LvdA+QcBzArCCMwIHga4Ak3+Gv5n/MT5bvzT+ST5N/eD+aT4PPrM/tL+Uf5YAfEBjfrn95v8ygEOBc8FqANzCIoAZfwoAxAF5wORAlUCaALmBukFCgWUBTcGCwFQ/gD+xfkR9Gr2L/0DAQ8F3QRbBHP/A/tW+qL+rf2X+8f8lwGuBIwE6AbJAhH/ufnE+K74Xfg/+PH3m/5IB6MIGgRsA0gDLv4F/D0BWwFz/0gC/wTWAzYF5gSJAb4BTgTxBnECYgFMATH+p/uc+FX4Pfmt/nT/uP6AAeEB+gJtAtn+Kf0H/WX74/mZ++j9JgKjAs3/sfyv/dkB7//iALUA2gKLBCUDdgDDAGYBxgLeAzYAfAInAukCrf5i/37+Cv6AAp4BjwB3/Br/AgCzABD//wJEBIQBHf83/l7+YPo9+wr7GvyV+5z7kfqB+2D7f/0U/xf+lAFaBHoF4QMuBOkAxP8JAyEFuAWjA/wD5QQiB+MHHAQrAkQBEv/Z/2AAC/0v/mf+NPtn+TD52PkM+oD83AG+Asr/8QFuASn8PPqd+j35vPhy+zD/4wAHAiIF3gQpAsABzQTVBaYCggMgBZYF9gApAGcCJP8s/1sAdQJV//YAvQRFAZn/hf6u/X/90f7q/c36xfoqADoEwAGKAI0A4/7A/Bz6f/oJ/P/6Xfy3/bv+//7M/Cz9+P4eAgICvQIpA5kCowXzBfkHIgeuBCMEQAPRAkEDpQK2/3T/AP9OAH/+Wvoe+4/++/5v/yIBQf/K/Nf73fos/KEBbv4q/m/+uP1x/h398vym/TEBvP1h/18BWwD4/ff8A/9JAJICLAS/AoEDNAZGBC0DnwOUAnMBGQURAp4AwgJqBIYCWv2Q/Pz8kv6E/Vn9TvyW/vUBBgA8/n3+7//bAiACzv7i/oEAnf/0+9386/x9/VH+wvx0/ND7yvwJ++n8lgBVARgCov/bAhcD6wDbARMBYgFgAksDGAQyBi8GQAXWBG8F/wQjAwAAjf5U/wEBwAA2/R/7bPyy+6r6VvwV/ff9rv1r/v8APgBA/jj83Ph9+lf7K/17/UYBfwOT/7cBCwMuAZ/+8gG5BDICzwIZBeQDOQIJA/gEewT+AyEBDf5z/WoBXQTzARAD+gKOAQD+q/2L/oD8S/yx/eH/uP3O+8f7oPie+PL7vv7T/OL7kP8X/5cAgP9A/rz9Yf3//xn/5wANAn8D8gSSBpIHXwdxBaUC3gHHAlUDSQIiA0cAYv+P/mECNAPaAPT/q//AAK3/sP7h+279KfyX+lD6cf5QAMf8q/zK/ez8pfyP+6b7k/4uACL+7/pX/yIAKgBRAUUCbQG6AK0CBwGfAV0DqwKcAmAFKwYpBHICvgAhAlgFPQYLBOYBJAC5+0f8VP7r/cv+I/9tAE4BZ//L/Xn+yf4s/mr7XvuC+4/75fq/+s79cwARAYf9l//nAeYCIwI2AikCUwGa/wr/zwE3AFsAuADHAmwBxAHFAqAAzgD1AMEB3gHBAmoA+v9bAAgBvgBQAEcBwP+nARUAXf0U/qMBKANa/5f7oPvy/YT9m/ym/On9B/9N/1z91/vI/tABRgH5//7/5f6j/tD9hgHIAe/+6gBXAd8CUAKUApYAVQKxBi4EMP9DADgD5gGYAcAAHwEMAT8BSP6w/dYA/wHOABz+i/0O/b39aP3B/TP/b//d/Iz9H/8J/ysAdP2R/mT+LgCoAsz9zv2a/dD+vwH+AukA9v3u/xYBNQPSAfkBzQHoAfME/QHj/97+tv91AE//4AEf/3b+VwPcAoUAcv4c/+//FwB5/83+Y/3R/GH/WgAk/mv+1f/I/9j+z/8GAfQAvgAI/igBdP+L/E/+pgAvASL+m/+V/18AMwM5BAoD3wEZAQL/dP1+/iMCyQFA/7v+pgBgADH/KgFwAjwCUQE+ALj9Nv6rAHYB1P2Z/ND/RgD2/ggAaQG//3EAHP8F/yQAOwHpAYcAxP/C/rr9Hf1Z/uD+Vv/6/4YAcAGXANQCEgCy/s4AiABhATj+hQDlAGYAb//r/5f+3P78AhEBjAAAAGYBIQHmAAYAQgADAMT+A/4E/uH+PQCh/jT85/+eBAYG8/5s/lkBNwGm/s7+e/5c+3gAPgHR/m/+KgGCAXD/cQGOAbUAQwDj/h/+qf/uAYf/DgBT/xr/twAe/9D+YwDIAoQBUQEuAZAAD/0CADIDKQBi/Tn9DwFIAX8AoP4R/l7/0AFNAIn+0P+bAVQCewA6/w3+ev8D/xj/kv0q/z0CHAHr/wkAEQLhAfgBwP+7/3z/GPz5/Bj++f7SACoAmQE1AB8CWgSvAhIBc/5S/1v/H/+y/Lf8xv5HAFgBaQBRAJ0COQLgAUsBNgDw/vz8Nf7g/b7+e/93AlwB3f50AD0BUQBS/4UCfAGo/63/6P/T/+/+wP+5/Yf+IQOwAlj+KP3cACQB9v+tANkAqP6w//UCoQHa/gD+AADw/6n+hf/7AMX/GP/pADoB1/6wAMACQAAi/53+3vyt/ecBYwEz/7n/LAGiAdn/qwC+/+/9N/9VAFL/2v2h/4T/kf9hAAUASQIMAzMBigAA/lf+tAFzABD9ov2J/kL+IgHgAVYBdAKWAagAfABlAPUAzADDADT+qvwN/vD+6f2i//ECUALPAAABmgEyAPEB3wAI/oj+mP+hANf+R/yb/QYCowH2/1j/rv8TAUgD9QGH/n7/fP9xAKn+XP6TAd7/WP5+/sv+agCvAfIA9f/a/ysCtAPe/sv9MwBv/pb8rv58AXoAff/2/1f/Vv+tASYAD/8W/4sCPgM7/iz/gAAeADL+KABP/xv9u/7J/+YB9f+UAOIBZQLmAYcBnABl/ccBPgGM/KT7Dv/0AuMAgv8EAPsBugEEA0QCIf62/ff/S//C/tn/xP97/wX+UwF5AAkAbv/Z/1UAmgAJAq//cf+i/akAQP+z/0MBr/7n/0L/hAGBAE/+agCeAVP/sP4NARgATwAJ/yv/Y/94AIwBIf8iAAoA/gCQ/+n9j/1F/5cCpQFp//f9Pv92AWgCjf9f/kEAuwB3AK4ALQLuALP+/P1j/2//qP9lACz/8ABdAjMD4QDu/zkA3f93/6b/xf/v/WP/ywD0/xX9aQBvAz4CYv/8/7IBTf/v/k3+I/4V/qkB1/+0/Rv+sADtAS7/RQI+ABj+Yv63/4wBlgHl/vn+cQHDAPv/+P+QAQUAfv48/UP+lv+kAMMAxgAVAlwBGgNFAn//4PzE/jX/kv1C//z+Yf7O/nIDAAShAsIBDADbAKYAgf71/bz/7P3X/loBKQDi/o4AIwLeAqgAUv4l/uX+MAILAPz9H/+jAA4AlwDU/2H/wP88/83/A/+wAJ4AAgAp/8ABYQLE/0T+Lf8CAjQA4vwV/dT+cP84ART/S/7k/lEDdQKL/4AC4P+u/+T+6/9T/wz+l/40AYYCR/+u/18A0v8eAYwAGP8t/+kA0AKa/6D+2/0BAvr/2PxK/nX/rAEOAgYDqgHZAe4AwgKFAGT/Nf7e/ZL98f13/mL+kgCjAHgBNQCEAx8EoAAS/Xn+LgBj/uv+rv07/cz/1wEQAVsAgQDOApADt//e/jP+aABG/+v9k/6R//gBrv7v/yz/JQDTAFMBZAFR/sb+zf8QAJf+tf9LAfMAhQBXAMv+4/15AG8Bf/8rAKT/fgB3AB0AmgHtAO8AKf8Z/oT/egAIAf7/YQB0/yf+MwEXAX0CYwD3/igBSv9P/ln+qQBiAK//vf9YAOr/FALeAlf8hv1FAUsC9QDe/53/7P2UAG0AU/9k/nL/oQCh/5YA2P0/APkCBgFp/8P+x/6w/9v/i/4a/rb/agCs/9AB3gJuATz+XgB8AXP/Yv2r/Jj9iwDxA4cAn/6YAW8DdAHI/0MAZP99/2r/DP62/tcAhwDu/dEACQODAgwBwgDX/xj+Sf+lAJP/Gf5t/zT+WwBrAe8A9P+KACYDXv9E/8b+Vv+c/1n+RABfAOUAn/+N/0ACZgFg/oH/nf9e/0P/Yf89/0j/kADfAJL+3v+RAmb/mf7D/u//YwAVAKX+b/5EAPgBcwOwAn7/wfzM/foBYQH+/iL/PAF3AhYAaP5//1MDqgE//iz8D/+aAHgAMwG4/xsAegEnAaT+LADSAfoAiP/p/1H/cv+8ASb/jvz1AIwElADR+yr+yQCbAWEBWgANAB0BIQE7/rD9H/7zAOb/if+b/tL9IgDcAXABUgEcAfD+LwAw/sj+0gBzAYf+Rf0F/+T+HAAvATACqAJ6ARL+xP+rAZv/ff1kAMX/MP6m/7//QQF+AFgBUP5C/9IAwAAPAawAXgH2/3MAw/7x/xcBkf8jAFv/WP+6AAEB9f8Y/wn/8/z6AJgCpgHK/9H9dAAiALkAEALV/zb8sfwu/voB7AGSAfr/bf8nAVAAugDRAYoBwvxT/Gr+9gBuAUn/gf3N/+sCTQGtANAAIP8i/jIAWQGv/4sAvgFz/579dACqAksBvf6z/mkATADQAF3+sP60AQcCdv7G/Nj+cQOKA1j/0ABl/4D9HAASAAD9Sv7EARwCYQCzAAUA8P9UAegAHAHG/g7/KwBzAc8AN/3k/QT+pf8J/1j/lAB7/xoBPwL9AeQAPAGj/vn9agBe/1X/Ov4C/tL+ZgBSAd0C3ANGAFr/3v7b/s//Mv94AN7/QP4gAJAA5wC8/xEBQgERAEwBHv9u/wcA2gHi/0r/tQDD/YQAe//HAFQAF/9u/5z+xQAV/2IAHP8LA3sDav9m/uL9PQCT/2oACACv/mn/FP/4AAcCtv+VANEAsQMoBSf/5ftbABMDpP1z+30A1wTn/238oP5S/PD8ovwpAOkALf4b+VTzBwE2CFYCSvwt+xQGuwh1B4MG3wZLBVYBcv+fBJEMeQFS/GD7y/539h/tyfT3/R0CH/56AAz5mfa2BKcPMQdQ+b3/jxBKCYr4HP8yBlj+WP8yCIH/iPwFAk0EZ/jZ7I7/VAgeAFL8Cv6a/67+fQN5B/IL/gSk/AT2ivEG+aL7xANfBvoBv/4Y/D33ivlBBroJ2/62/GECIvxj/Xv+TQALBn4K1QfAA7QCQwZtB1D5KPmbAW3/bPbq9Yn7EgCDA+wFggIK+7n70vgr/PYBLAdiBYX6TwB6COQHywGv/P8ABQN6BlkHs/wv+qv93P9w/lH+RQG0/vL6ufm9APcDbPml9/gCSAnCBVL/Qvyg/Fn9Jf2o/8EA3/8L/d/7yP3LBDAHPQKOA6MCYgR5AWb+MPsP92P83wVgCVEDpv16/egE4gVXAOD9h/9v+zf+SgEQ/xP+z/hE/hn/Yf7E/eH+MAHu+/T+lQEfAWsAmwDxAdMBfgdNCl4DXv9G/tD8N/3q/ugDXQPP/oz8gfxxAFX99fzRAIECLQbTBIH9Dfcu+y8CLP5n+nb8Lfw3/0kByAH6/2T+JgVWCAoGLgBV/VwBaQDo/zIAkAEsALb8+/8UAm4BFACiArcDvv+N/Pn6nPw0/+n+rPxK/Y0ANwED/6T/swGlAsYCtP6j/hn+KP+SApEB//+G//YAoAIMAZv/igDMAIIBuv7xALoCWwHR/Qf+ggHo/jf+DP9E/7f+IP6SAPUB5v/IAKL+TAGHAJH+nv6Q/Pn/ev5U/pT/EQJUAQUAwwF1Ap4CMwNWAf39IQD/AeEABvzA/sUAsv6lACwAtv4V+7MBnQUX/4n9Tv78/Af7nf0iAnkBrAC3AtT+K/3E/agBzgHpASQEiP/I/kz/cAEWALH+zAKzA6cBZP9q/c/90P8iA0cCSP6s/Vz/uwACABYC2AI9/5/+sAHVABn8g/qc/AL+dP8mAagDUwFy/pUC7ASCART9OwDC/zoA4P+C/7//CwCTAsABBwJGAGP/4v9cBNcCwf5P+r/5jvs4ADUD9AHkAqX/Wv+EAKUDvP80/MD90P72/1YAgP9z/Bz+0QBoAPoAiQOiAIP9rP2+/gEB+v6gAGoC1/+5/5sBEwMaAQMC+AIuAar9yf/P/6H4CfzsArcCrP02/mD/v/8JAzUCXP60+0T/+gDJAfoAMv1h/h8CqwSFBLQCAvyB/WMBKwGUAE//HAHu/pr+PPwq/DP/ZAEKAmv/J//1/wMA6P/9/14AjwI6ABP/uQA5AFb9qv6jAnn/UQApA+UBKgLYAsv/PP7pAAr+FfxHAE0Ck/8P/Pz7QwAxA2sBbf8BAQsBdP7J/g3/ef/J/38Amv0q/qwBCwJ3/o/8DwIEA2gCRQHd/fn9EgL1A2cCPwA5/zj/JwJZABn+tv1u/6YBJgFbA5n/cPys/YL/TP+qACoArv2n/i7/pwBdAfj+CwC0Ah0CpwJ7/0H8hf8jBX0Ehv4//FD/ZQIk/zL+UwDg/jYARgC5AT4AqP8iAcH+AAEr/1AAPP+l/VX+4f35/l/9MQC3AKj/df+FAC8D+AH0/xv/OP9BAGv/C/6I/Gb9+gEzAuABNv+EAdEDggCeAJAA2wAC/ikBqwAk/Qb93v7UAekAv/8l/DL/0AFiAt8CAABe/hH+r/9u//b/dQDY/nz9ZAE7At3/vgIuArv/yv/BAcoCxwGK/WP98v9BAGwBuQA///X8awDSAm7/1f37/W4ABv7x/QEAo/9YAVUCIQPEAL3+9P6q/9H+KABJAsv/FP2jAJ8DSQAU/UD+WQCu/gcAyv84AcQB6f6Z/zMAJgIsAjQBO/4v/LP+H/9p/4sAswKnAHP/8ALhAi4BYwAg/7L8L/5r/gD//P7S/cT/AAB2AFECCwQpAmYAMQARADT+Jf86AdT9xPwv/pcAVQIwAvT+lf7vATsBDf+K/+QA6v97AQ0Bvf2t/BL+5f//AJwAAQCD/xUBLgPqAv8BGQB5ALz9QP0D/cX8o//J//gAEwHJARQCCQGd/+r/lgF5/5r+ev0r/p3/PP+rAIEB9AKW/3X+EQOvAfP9Zf1UAOb/gP/v/8v9IACkAmUDSP58/Mz/mv+MAE4A5f9w/i0AdgPGAKX+y/4PAsgB8v2//rX/o/8oAdcEVAEN/ID9C/9fAcYDxgEk/NX79wGCAjQBCgEa/97+4gF9Ax7/NvyV/k8ABP+8/kX/z//xAdIB8f/t/xL/vgDB/979Gv7Z/5YAsP3P/4MB7//Z/QQBOQNrAYcAFv/E/ywBmQB1/4f9Bf4UATYCowGZ/lf/JALXAq3/aP5TADP+U/54/u7/2gBXAOMAnf5IAEYCQAF3/5//a/6A/WMAdwF3ApcAOP+NAA4BxAHC/9j9bP0F/YH+lQCGAWkB9gG8AKICCQNmAEb+Z/2S/tL9nP+B/UP9qgDN/14AlwKRAhcASv9l//3/1gDY/6n+qf7t/8oAHAFvABgBFgFvADgAaP5P/lf/GAH9/xP/SAAjAg4APf5uAb8CnwHq/VX+v/5DAAACGgDR/SL9xP8nA3oD3P9dAAYAFf9N/yUA6f98/7UACv8b/uv+kQKJAOT/EwKPAA0AkAAgAt3+O/2NAFAB///5/0n+6//P/+D/rQB6/zT9xfsuAA8BRwIwANgAB/9i/gUBeQG8Am3+7/+e/2P+0v5V/0UBBwAaAG8BPQFiABL/eQEcAez/9/9S/vb9Hf+BAUv/tP+gAGkBZ/8B/44CFQIb/yH+qP8x/Vb/0gC7/o7+agHuA9sAZP6LAH8CZ/94/rz/iv+r/yoAM/8P/2MAQwL7APv/xwCsAD8BVQBT/5X9GP5D/z3/2f4ZAM8A+AAGAWz/pQA9ASYA/wARAQL+8f54AG3+Jf90ABr/aAAbAgL/6P1///ECnADV/y0BLAAEAkj+Tf8I/2sAZwAz/hoBFwB3AGH/mv8b/+QAPQIyAX8APf/6/ij/+v8//5/90P34/1AAvwAsAXMC3P5O/9kAjgGjA5IA5v7L/2kCYQD8/y7/4/wM/Tf+tf+fANoAFf9H/80BuAL9AFgAVgFt/qn+egC5/EX8w/6R/nf/6wNiAh4ANgBWAMcAQAEWAtD+VPtE+7AATQNVAGP9XP5pAnQAUABb//j+Zf9E//QAq/8ZA8kDOAGM/4MA1AAW/qP+Ev8y/av9xgCPAU//qP4nAlcDPwJXALwAsQBO/6D8+vwoApsB6/8y/5YAkwJ6AoL/w/61ASECnf5J/xUBQP/N/SD/4f8F/fn/FACY/04BFwKp/rj+DQKk//L/jP4jAXwAbP6RAJv+H/9SAHcBM/5p/bEBFAMwAbP8Qv5rAM8AzQAt/+L94P7+AQkBFQH+At7/Nv5HANEAnwHDAOb9if0nANP/MgDkAPABjAMgAGwA5//j/lcApQEv/zn9kwCq/6v9JP/6ADMCKgF5AXIAFP1t/0gAJf6g/VwBeQD6/ED/VABSAdL/cv8X/xv+zwC9AL7/+f+nAaEBo/40/xMCSgJo/0L+i/5iAA8AQ/5XAAIAigBf/+4AMgM0AWP/Jv68/RX+SAJ8AI3+FAARAXIAbP93AIcAPwGxAGX/Zv53/6AAkf8i/un/dgEYAB0B6gG5ASsBSwHgAGf9fPx4AIwBFf6j/RsAXAD2AQYDrADL/mwA+gAX/vj/awCJ/ZX8gAGqA77/Pf3f/58C2QI5Atz/kADB/3wA4f4c/5YA2v73/iUAEwGV/6QAif8GAEUA7/+g/7v97v2+/+cAef4V/6IAWgPg/9T9Yv6h/kMAD/8O/4r+hAATAY8BcwF6AgAAAv+ZABP/Y/+pACIC4v5o/8v/w/7c/ykB3P+F/YD/YAHLANT+HwHRAJX/lwBnAdQA9/6a//MBlAFG/ub82fzhACgBqgDCAAH/NgLdAFUABwEqAV7/Cv5xAJ3+kf/n//QB1QO4AXL/Ev5oAP8AQP/M/eP/0wBh/44AkwDa/ygAyQEQADD8rv0x/bn8fgDVAUcA6P53ABwDMAMLAtwAT/0p/LL/xQC4/dD+KgFDATX/CgGFA3wAagBJAZwBq/7f/Eb+W//n/lH+uv7GADUDxQP//8D9uP8CAmD/Kf3e/5X//AFhAPT+e/9wAKEAOgD5AVv/3f/MAJ7+kwDEAnv//f2F/6z/EADnAUkAs/1S/2wB+/5F/eYAmQJHAq0CNAGW/mT+2P2I/OT9twCxAMP9ef6G/44A1QJJArMAJgCx/+P/yv+M/SwANAEfAO3+xf80AxcCUADK/9D/xf9NAQ//Sf1Q/3ECXwNj/vX9Of8P/nX/TgE0AeL+xv7wAIAA1//fAFMB+f63/r4AG/9//8P/x/8tANUC9AII/hYAhf8G/38AQwDB/VP9LQJiATUBwgCcAbACiv9V/7X+bv7y/30B0P/L/Tn/RgAZAc7/m/6aAS8B9P6P/0gAaACU/+T/G/0U/vcArv/X/qIA8gFM/0oAVAGgAZ8C2wFp/2n81/3o//3/Kv89/vMAFQARACUA6QCKAzQBQP/o/aUAtgAZAF7/oPwk/Fj+KAGtAHcBPAFJANIABQFsAtABowDF/qz8o/6Y/44A2f4z/3sBngHjAIoBTAKM/rT+MABkACIA+P8k/yf/kwHo//j+mwAe/2//Gv9n/yIAJv+zAWsBNgBmALX/S/7e/jj/7/4aAIgAzP1f/n4CgQOlAOr/eAFx/8z+5v2t/43+eACaAhoB5wK+AtkDDAHJAn4Cmf/6AN39M/56+xH75fl9+uT8rPwn/nX87P6H/iEAVABfAmMCggBdAvQClgNfA0oGvgeWA9oA9AL1AFgBsv40/Xr9ov5D/rX8pf5G/5j+8/xA/oT9xv53/8X/yv7L/xABKwLRAx8DPgIvAm8DOwKEAi4C0/+F/R8AQAAx/4wBcf9d/Tj9Of8B/yj+6QA5Ahr/rP67AMX/JP7W/P/9wfyN/LH9L/4s/VP+N/6n/BUAVACHAEABJQKgArsA9wApAhAAev9MAvMCEv9w/iMBygDe/80AZgKMACr/MQBOAX3/ev91/+j9rP/PALUAPP/UAGQAqACWAa4A8wBxAfcA2v/lAPAA/gH8AMr+fv0V/ov/UwCn/yL/aALvAfP/jwKXA6YCCAHF/pb81Pxh/k7+Vv6X/sr+7/+/AkAAzf8VAb4BbAHq/QT+Q/5l/y//+/6M/wwBbv+D/rwBvQCtACABWQA8/93/df/b/QUAtwFHAHD/yv+LAU8C+f/DANABg/+3/lIBogHD/fwANQOX/8T/4QG2/jr83gH+AYb+XP1n/6z/6gDqAe8A6wDBAfYChf9L/5T+c/8K/0T8kf0AAMkA/v+//mH8nf2g/xT/Pv2wAGoAaf2F/S//zALMARMC3ADoAMb93f96A70DuAKZAkUCJfvX+nf5p/0VAJgAsf+7/d36a/zB/scBqgiHBNgAAf1q/0T/uwKYBcECkwF7AmcC0/w4/eH9cP1m/bD/6gDkAAgDUgBe/kgCwgSOBj0E5wHq/t79nf0T+/f8A/9R/wYAvQJXAnUB1v7G/Kf6Mf3Z/73+AAEX/2/+aP63Ab4BdwIHBtcEFgNc/x//zP/zAKH+3fy9/j8BGQC9/YX91/3ZAEECdwCh/gv+rP7l/sv+OQDD/wsDYAT1AFL/eAGs/1r/xQFdABf9KPyRAccCywJHACX+kPzv/kkBWADC/vL94wEjA9ADEAFw/8IAXwCf/kn+3v9q/9/+yfya+yX/WwGdAWgAHwAxAtkBJv8j/Kr8jP6r/8D/wP/gAbwBYQKHAkf/y/1rAKoAQgDvAaYDDgAr/ZD/4v0N/8kBEAOQ/xn+vf+uAaEBOP41//j/u//D/kAA1v2V/j4AZvzX+lf/fQTEAKD/Gv/Q/5EBqACN/u/+qP/U/w0B1ADTARAAKACO//v+wQIZBLIC5P61/u7/KP9HAbMBRP6I/9gCQwDn/TD/+gAeALf/O/+l/9kATwCt/vv/egIKAoQB4f7j/eP+9v8hArcA0AB9AT8A1f8z/gr/Ff8ZARMDfALm/vj7r/5YAWEDPQD7/en8vPzf/t3/1P+l/vcBSwOCAm4CeQF+/rn8P/68/uX9Jf1o/Mv9LALzAD0AqQLNBGsDAgB//17+jf9V/yr9bP3T/QEAbQLCAnECSgEfAaP/OgBhAIUAq/+L/g//uP4dAnj/e/0Y/XP/6f81/jMByAHkAAT/5f+E/1sBpwGc//X+PP9O/27/rf/8/rIA//7X/1MC7wOIAYf/5AHWAan/IP5X/7X9gv2z/jYBrgDU/yMBKAEFAhcB1wA2AKn+6f0B/3b/if84/8L+wv6IAdkDdAJGAdwB6wDq/sD+uf5w/wr/8//O/0cAcALH/8b/hAC6AO0AL/6S/jz/JADX/of+o/5n/t4ABwJgAWD/L/94/0r+PP/nASUB7P9V/x4AOwCKAEIBQ/8y/qv/l/7p/dgANgAT/gf+sAHAA30C7QHt/jH+ff6L/uv+Gv4fAcgA1/+tAFQBfQSmAf39sP7/AQQAevwm/pb+Wf/U/lIC5QGTAR4DPQBNAJ0AYP9p/YcA1f9U/AD+ff+PAL8BgQIhA+ABMQA7AB0BVwEaAP79dv6L/yv/mP5Y/0T/zP1jAPsAZwCL/zUAwv+a/qsAUQHNAQABRAAa/nb9CwCJ/kv9iv/KAm4CNQENAc0AZgJs//H/hQHx/6T91/1v/fT8AwDL/+L+PAGaA7H/6f90AZkCZgDRAZcBo/2u/5D97P8KAOD+Hf7Y/iUBOwKIA8j/8P/oATAAq/61AaUCIP4I/WX+Uv8D/zH//v0F/u4CYgNyAHL/7//7AAYC1gBt/3/+av8M/9b97P5m/W4Amf9U/2wB7QIyAvX+vABx/10B8QBi/iv8b/0H/+f+IQGtAOYA0QH5Au8AewAD/xz+oQExArT8tPzsAKIBNAC3/xoAWv9EAZn/W/6M/x0AX/+8/mwAYALc//D+Zf4PANQCpACf/jn9rv/f//wBuwHW/80ASwHXAMv/LgE7ANb96/5wAGj/DP8s/0YBkQDrAd4B//52/iYAiAN9AXX+APzm/8oABwFtAe/+tQAzAPQBJQHi//D/HP5I/XT+hAE8AH3+wAFhAeH+Vf75/74B7P8a/7f+vv8hAdIADP/B/t3/2QBT/rX+xAIvAOT+7/+9AEoBOACWANH+H/4JAG4BVQIV/7D/QAAH/QAA2QJdAt0A6v2w/Q3/PAEtAXP/b/5vAdcBc//2ALkAO/+s/mD/uP9DAZ4AWf+B/nsADAEHAYX/Gf0XAD0AWABb/0H/kf9OAK4A6v8fAS7/nP5b/jEBkQKX/jX+dP6YAAwC0wEjAk//1f3EANwBe/91/bT+Lv4g/lMAagCNAa0BsACJAGMBqwGW/iT9mP+PASIA0f+GABv/Dv+o/rsBawLiACz+Nf1i/6oB2QOT/cD9XQF5ANP+uP8DAWX/vACNAEH/tgFLAqYABAAX/7YAHwEw/rf9U/+eAHgAf/91/87/1gF7ApkBcQBfAQUBEv7e/Db/Tv8P/sP/rP5QATAEdAIY/l0AfAK2/4L/Hf41AKL/a/8k/yr9M/4AAa4CK/+U//L/0wCIASn+Zf0HAAkCRgInAKn9QgDM/z7/NQDpAED/5v6uAOMA4wCb/98Afv+uAAMAnv8b/pv+6gBc/9gAdAC5AE3/LwEEA4kB7f5a/nr+V//U/u7+mQCz/5sB8gAMAAwB3gDE/hz+af7y/1UAgv7p/aX+fwCZALX/GQCHADwBrwLXAOT+SP+IALsANwHkAbj/KgD5/77/9P8w/mL+kv4rAUYB4v9b/5oA7wPvAKn+g/zb/fgA6P/kAEz+nv7cAF4CHwHp/Q//xv9qAeIAf/6J/igAiQExAF0BmQFJ/1b+W/9JAY//wf6n/kMBLwJCAdD+ZP+vAi0BDP9l/1v/kf8fAO/9E/9wAB0AxP4YAdYA1f6Z/oAAgAFF//3/BgFpARQARwG+AJAAzv/Q/U3+NwFFADL/SwARAUkBOwDAAW8ArgDM/Z786f1XAK8AS/5P/wsB9QDQ/8MBTQLUAEcAC/3N/EgAh/+v/3n/qACdALgAS/9RAKwCxP5u/rn/HQHxACUAnAAp/4H/+wETAVb///61AOAAYACRANH/oP5m/mUARv/IADMAmv2E/+j/7AGHAEv+7AAkAdn+Zf/RATn+n/6KAcQAzf8E/5v/Uf9G/z4AggFtAAkB5f5x/Xv/7gHSAjcASP9J/8f9uf2CAqICrP8Q/j0AZgH0/g4BGwASAOABpgHYALb/FAGs/ZT99QAbAHj/n/8KAQ8BWQDU/+T/OAB4AGj/QwCD/47+XgERALb9FQDKAWoAMwHr/+D+3wAiAVz/o/79/gP/Of9Q/37+EAFBAlwDk/8u/lgB6v7r/zH/Tf9O/TD+fADW/xv+BQHDAf4BoAJdALr/kP4MAt3+Kf3e/HcAUwG8AMUBFwALAB7/4QBJAQICvAC+/6D9DP40AaYBJgEF/7H8yv4vASsBtf8q/sn/EQH6AUcBFgGPAQ8APv/z/nj9/P2c/5YBm//w/y4BGwGzAiUCxgAI/n0AwgC3/eX+OAJQADr9xv6EAdsAav9V/+L++ABoAoEBePyW/Z8AFAHKAEz+FACc/mj/cv8rAEz/Bf8FA1UCOQKm/+z/iP3F/jf9Sfvw/zoDoAG//BYCSgMCANX+tgEzAA7+nf59/jj/tP/PABkATf8nAX0EwgFrAFYBygK0/578tPxY/vX/4//yAcb/6gAAAzwB+v26/hEBngD3AMb+Bv41AGQCPwFB/j3+tgAeAdL+PP3s/1MCTgF4ACQBPQJSAnr/1P1E/vv+ov74+vL8KP+hAGEA6gH+AowDOQIhAdwBuf5n/879kv2W+yT+CAAcAFMAyP9vAqUCxAMvAhEBqv36/MT/uP4c/iD+Y/+hAKABKP+0/UUAgADsAnACagFjAH3/y/8u/yoBfP81/9/+x/8YAfX/+/8y/x0AWQET/zD+RACeAUkA9P4hAIX/jgG+AB//If/2//gApP+7/+z+6/+wAHMCfwHj/3b/yv+zAE/9Tf6RAL8AGwCK/zIAFQAeAW4BOf+g/tP+X/7x/iwAzgHUAO7+k/81AWoBPgDqAOD+UP7IAOf+9v6M/0T/Hv6v/3sCnwCw/rEAsgIAAeIAZf9X/pX+rgCFANX9Lv7dAHQDRf9oAAMCpQBNAEQAHQFW/jT/nv3n/SQBqgPjAQD9UgAUAwIBp/93/8gAGAA0/1kALP/rAD4B3wAT/vD+3QFSALj+Iv1GAMQAuv8v/6P/4QATAZr/lv7Y/Z3++//I/hL+QQBvAcX/lgDyAIYAbQDCAMMA4f9o/TH/hACJ/kH/yQCy/wH/9v9CAWoBGf+hAZ8BKABS/5r/fABc/+b/W/6q/vn/+QAyAmv/oABSA3YEQwLu/GD/l//t/m7/7/7O/lYA5AFi/Wb/6AOQAXv9eQDOBJ8B/v+M/n/92P2e/3D/Vv0r/27/0AD6/wMA6wC4AFEC/wENAQ3+n/7q//z+Nv6b/w0ANv9y/7gA8AA1AtgB0/7X/kT/aAFnAGgBSf/7/qcAJP8v/1D9Sv/dAJcBsP+A/0kBMgDXAGoAS//c/QoANALm/4X/mv++/zP/FAFMAGX+Jf8l/XL/MgJlAXQADgFqAFwBMAHm/7P+o/4cAZQAYP5s/osChAEpAD0AK/5y/C3+fwA2AREAyP/p/97+qgP1Au3/sf0f/18Blv/w/p39/f3X/psBtAE2AkQBxQAfAn0BQAD8/er9/v0+/7/9y/18AZ8CHwG9AI0DRALc/zEBFgCe/jb+Jf71/Kz9PgCLAW0CtwFmAT/+uf3a/s//8QDh/6L+Zf/bAfkCRQFG/kkAoQBi/rn84P3AAFwDBQF3/pUAFADtAKT/UQD5AH8ARv9r/UL+vADvASr+ev4SAr8DJwIh/pj9AgDKAN8BY/92/Zf9Hf++AL4AWgG//jz+eAADA+oAsgCPANj/FAA2/pP9h/7MAUACPwLUAVv/uv4jANb/6QBZAOX/ZP3w/h4CDgESAdX98/0x/rsBZAFI/4cA6f49/93/wwBx/xMBQAEr/zkAnQDi/wD9C/9BAYEAcQAG/0j/XgG1A38A4f3p/2QAeQDn/4X/KP8g/3P/W//c/o4ABwGNASEBN/9YAJr/4P8p//P9Nv5kAJcAuPyh/W0AZgJQAfz/rwFtAaACuACf/gsAnf4u/6H+xv6C/zMDMgKa/QcAZwE3AYn/ZwCQ/hn+N/+S/uL/7gBxADj/2/6J/xUA5v/j/vn9DwCE/0kA0f61AJMCXP4R/mn9ff8XAKIAm//a/68BOv6y/wsAFQD/AXIAJ/5c/VIB6gFM/2H95v2QAOwATAC//x4BMQGR/zv+Xv+D/yn/GwB7/vb9tgAyA/oCGAG7/nn/eQBPASz+9P0E/2r8d/40/6gAqQFVAhkAVgCwAogBC/9T/e//HQDR/nH/b//z/u7/bgEUAqUCzQF1/Zr+swBBARIAh/0Q/q399QDFADn/\" type=\"audio/wav\" />\n",
       "                    Your browser does not support the audio element.\n",
       "                </audio>\n",
       "              "
      ],
      "text/plain": [
       "<IPython.lib.display.Audio object>"
      ]
     },
     "execution_count": 4,
     "metadata": {},
     "output_type": "execute_result"
    }
   ],
   "source": [
    "import IPython.display as ipd\n",
    "import random\n",
    "\n",
    "rand = random.randint(0, len(speech_data[\"wav_vals\"]))\n",
    "print(\"rand num : \", rand)\n",
    "\n",
    "sr = 8000 # sampling rate : 1초동안 재생되는 샘플의 갯수\n",
    "data = speech_data[\"wav_vals\"][rand]\n",
    "print(\"Wave data shape : \", data.shape)\n",
    "print(\"label : \", speech_data[\"label_vals\"][rand])\n",
    "\n",
    "ipd.Audio(data, rate=sr)"
   ]
  },
  {
   "cell_type": "markdown",
   "id": "allied-pattern",
   "metadata": {},
   "source": [
    "## 2. data 전처리\n",
    "- text로 된 label data 처리 \n",
    "- split data set    \n",
    "\n",
    "\n",
    "\n",
    "- label data 확인"
   ]
  },
  {
   "cell_type": "code",
   "execution_count": 5,
   "id": "frank-killing",
   "metadata": {},
   "outputs": [
    {
     "data": {
      "text/plain": [
       "array(['down', 'go', 'left', 'no', 'off', 'on', 'right', 'silence',\n",
       "       'stop', 'unknown', 'up', 'yes'], dtype='<U7')"
      ]
     },
     "execution_count": 5,
     "metadata": {},
     "output_type": "execute_result"
    }
   ],
   "source": [
    "labels = speech_data[\"label_vals\"]\n",
    "np.unique(labels)"
   ]
  },
  {
   "cell_type": "markdown",
   "id": "higher-hearts",
   "metadata": {},
   "source": [
    "- 'unkown', 'silence'를 추가한다.\n",
    "- 각 label에 인덱스를 부여한다."
   ]
  },
  {
   "cell_type": "code",
   "execution_count": 6,
   "id": "alternative-shopper",
   "metadata": {},
   "outputs": [
    {
     "name": "stdout",
     "output_type": "stream",
     "text": [
      "LABEL :  ['yes', 'no', 'up', 'down', 'left', 'right', 'on', 'off', 'stop', 'go', 'unknown', 'silence']\n",
      "Indexed LABEL :  {'yes': 0, 'no': 1, 'up': 2, 'down': 3, 'left': 4, 'right': 5, 'on': 6, 'off': 7, 'stop': 8, 'go': 9, 'unknown': 10, 'silence': 11}\n"
     ]
    }
   ],
   "source": [
    "target_list = ['yes', 'no', 'up', 'down', 'left', 'right', 'on', 'off', 'stop', 'go']\n",
    "\n",
    "label_value = target_list\n",
    "label_value.append('unknown')\n",
    "label_value.append('silence')\n",
    "\n",
    "print('LABEL : ', label_value)\n",
    "\n",
    "new_label_value = dict()\n",
    "for i, l in enumerate(label_value):\n",
    "    new_label_value[l] = i\n",
    "label_value = new_label_value\n",
    "\n",
    "print('Indexed LABEL : ', label_value)"
   ]
  },
  {
   "cell_type": "markdown",
   "id": "metropolitan-infrared",
   "metadata": {},
   "source": [
    "- 위에서 만들어 둔 index를 이용해 label data를 숫자(index)로 바꾼다. "
   ]
  },
  {
   "cell_type": "code",
   "execution_count": 7,
   "id": "unsigned-tiffany",
   "metadata": {},
   "outputs": [
    {
     "data": {
      "text/plain": [
       "array([ 3,  3,  3, ..., 11, 11, 11])"
      ]
     },
     "execution_count": 7,
     "metadata": {},
     "output_type": "execute_result"
    }
   ],
   "source": [
    "temp = []\n",
    "for v in speech_data[\"label_vals\"]:\n",
    "    temp.append(label_value[v[0]])\n",
    "label_data = np.array(temp)\n",
    "\n",
    "label_data"
   ]
  },
  {
   "cell_type": "markdown",
   "id": "reported-textbook",
   "metadata": {},
   "source": [
    "- data split : sklearn.model_selection을 이용한다. "
   ]
  },
  {
   "cell_type": "code",
   "execution_count": 8,
   "id": "hungarian-syndrome",
   "metadata": {},
   "outputs": [
    {
     "name": "stdout",
     "output_type": "stream",
     "text": [
      "train data :  (45558, 8000, 1)\n",
      "train labels :  (45558,)\n",
      "test data :  (5062, 8000, 1)\n",
      "test labels :  (5062,)\n"
     ]
    }
   ],
   "source": [
    "from sklearn.model_selection import train_test_split\n",
    "\n",
    "sr = 8000\n",
    "train_wav, test_wav, train_label, test_label = train_test_split(speech_data[\"wav_vals\"], \n",
    "                                                                label_data, \n",
    "                                                                test_size=0.1,\n",
    "                                                                shuffle=True)\n",
    "#print(train_wav)\n",
    "\n",
    "train_wav = train_wav.reshape([-1, sr, 1]) # CNN모델에 넣기 위해 차원을 늘려준다. \n",
    "test_wav = test_wav.reshape([-1, sr, 1])\n",
    "\n",
    "print(\"train data : \", train_wav.shape)\n",
    "print(\"train labels : \", train_label.shape)\n",
    "print(\"test data : \", test_wav.shape)\n",
    "print(\"test labels : \", test_label.shape)"
   ]
  },
  {
   "cell_type": "markdown",
   "id": "southeast-bosnia",
   "metadata": {},
   "source": [
    "## 3. data setting\n",
    "- tf.data.Dataset 을 이용해 데이터셋을 구성한다. \n",
    "- 데이터셋 전처리, 배치처리를 쉽게할 수 있는 패키지"
   ]
  },
  {
   "cell_type": "code",
   "execution_count": 9,
   "id": "southwest-patient",
   "metadata": {},
   "outputs": [],
   "source": [
    "# one hot encoding 해주는 함수\n",
    "def one_hot_label(wav, label):\n",
    "    label = tf.one_hot(label, depth=12)\n",
    "    return wav, label"
   ]
  },
  {
   "cell_type": "markdown",
   "id": "peripheral-surge",
   "metadata": {},
   "source": [
    "### hyper parameter 조정 "
   ]
  },
  {
   "cell_type": "code",
   "execution_count": 10,
   "id": "civilian-missile",
   "metadata": {},
   "outputs": [
    {
     "data": {
      "text/plain": [
       "'/home/aiffel-dj26/aiffel/speech_recognition/models/wav'"
      ]
     },
     "execution_count": 10,
     "metadata": {},
     "output_type": "execute_result"
    }
   ],
   "source": [
    "batch_size = 32\n",
    "max_epochs = 5\n",
    "\n",
    "# the save point\n",
    "checkpoint_dir = os.getenv('HOME')+'/aiffel/speech_recognition/models/wav'\n",
    "\n",
    "checkpoint_dir"
   ]
  },
  {
   "cell_type": "code",
   "execution_count": 11,
   "id": "through-avenue",
   "metadata": {},
   "outputs": [
    {
     "name": "stdout",
     "output_type": "stream",
     "text": [
      "<BatchDataset shapes: ((None, 8000, 1), (None, 12)), types: (tf.float32, tf.float32)>\n",
      "<BatchDataset shapes: ((None, 8000, 1), (None, 12)), types: (tf.float32, tf.float32)>\n"
     ]
    }
   ],
   "source": [
    "import tensorflow as tf\n",
    "\n",
    "# for train\n",
    "train_dataset = tf.data.Dataset.from_tensor_slices((train_wav, train_label))\n",
    "# map함수를 사용하면, 함수를 매핑할 수 있다.\n",
    "train_dataset = train_dataset.map(one_hot_label)\n",
    "# repeat() : data를 반복호출한다.\n",
    "train_dataset = train_dataset.repeat().batch(batch_size=batch_size)\n",
    "print(train_dataset)\n",
    "\n",
    "# for test\n",
    "test_dataset = tf.data.Dataset.from_tensor_slices((test_wav, test_label))\n",
    "test_dataset = test_dataset.map(one_hot_label)\n",
    "test_dataset = test_dataset.batch(batch_size=batch_size)\n",
    "print(test_dataset)"
   ]
  },
  {
   "cell_type": "markdown",
   "id": "shared-springfield",
   "metadata": {},
   "source": [
    "## 4. wave classification 모델 구현 \n",
    "- 1차원으로 구성한 데이터를 분류할 수 있는 CNN 모델을 구축한다."
   ]
  },
  {
   "cell_type": "code",
   "execution_count": 12,
   "id": "sporting-underground",
   "metadata": {},
   "outputs": [
    {
     "name": "stdout",
     "output_type": "stream",
     "text": [
      "Model: \"model\"\n",
      "_________________________________________________________________\n",
      "Layer (type)                 Output Shape              Param #   \n",
      "=================================================================\n",
      "input_1 (InputLayer)         [(None, 8000, 1)]         0         \n",
      "_________________________________________________________________\n",
      "conv1d (Conv1D)              (None, 8000, 32)          320       \n",
      "_________________________________________________________________\n",
      "conv1d_1 (Conv1D)            (None, 8000, 32)          9248      \n",
      "_________________________________________________________________\n",
      "max_pooling1d (MaxPooling1D) (None, 4000, 32)          0         \n",
      "_________________________________________________________________\n",
      "conv1d_2 (Conv1D)            (None, 4000, 64)          18496     \n",
      "_________________________________________________________________\n",
      "conv1d_3 (Conv1D)            (None, 4000, 64)          36928     \n",
      "_________________________________________________________________\n",
      "max_pooling1d_1 (MaxPooling1 (None, 2000, 64)          0         \n",
      "_________________________________________________________________\n",
      "conv1d_4 (Conv1D)            (None, 2000, 128)         73856     \n",
      "_________________________________________________________________\n",
      "conv1d_5 (Conv1D)            (None, 2000, 128)         147584    \n",
      "_________________________________________________________________\n",
      "conv1d_6 (Conv1D)            (None, 2000, 128)         147584    \n",
      "_________________________________________________________________\n",
      "max_pooling1d_2 (MaxPooling1 (None, 1000, 128)         0         \n",
      "_________________________________________________________________\n",
      "conv1d_7 (Conv1D)            (None, 1000, 256)         295168    \n",
      "_________________________________________________________________\n",
      "conv1d_8 (Conv1D)            (None, 1000, 256)         590080    \n",
      "_________________________________________________________________\n",
      "conv1d_9 (Conv1D)            (None, 1000, 256)         590080    \n",
      "_________________________________________________________________\n",
      "max_pooling1d_3 (MaxPooling1 (None, 500, 256)          0         \n",
      "_________________________________________________________________\n",
      "dropout (Dropout)            (None, 500, 256)          0         \n",
      "_________________________________________________________________\n",
      "flatten (Flatten)            (None, 128000)            0         \n",
      "_________________________________________________________________\n",
      "dense (Dense)                (None, 256)               32768256  \n",
      "_________________________________________________________________\n",
      "batch_normalization (BatchNo (None, 256)               1024      \n",
      "_________________________________________________________________\n",
      "activation (Activation)      (None, 256)               0         \n",
      "_________________________________________________________________\n",
      "dense_1 (Dense)              (None, 12)                3084      \n",
      "=================================================================\n",
      "Total params: 34,681,708\n",
      "Trainable params: 34,681,196\n",
      "Non-trainable params: 512\n",
      "_________________________________________________________________\n"
     ]
    }
   ],
   "source": [
    "from tensorflow.keras import layers\n",
    "\n",
    "input_tensor = layers.Input(shape=(sr, 1))\n",
    "\n",
    "x = layers.Conv1D(32, 9, padding='same', activation='relu')(input_tensor)\n",
    "x = layers.Conv1D(32, 9, padding='same', activation='relu')(x)\n",
    "x = layers.MaxPool1D()(x)\n",
    "\n",
    "x = layers.Conv1D(64, 9, padding='same', activation='relu')(x)\n",
    "x = layers.Conv1D(64, 9, padding='same', activation='relu')(x)\n",
    "x = layers.MaxPool1D()(x)\n",
    "\n",
    "x = layers.Conv1D(128, 9, padding='same', activation='relu')(x)\n",
    "x = layers.Conv1D(128, 9, padding='same', activation='relu')(x)\n",
    "x = layers.Conv1D(128, 9, padding='same', activation='relu')(x)\n",
    "x = layers.MaxPool1D()(x)\n",
    "\n",
    "x = layers.Conv1D(256, 9, padding='same', activation='relu')(x)\n",
    "x = layers.Conv1D(256, 9, padding='same', activation='relu')(x)\n",
    "x = layers.Conv1D(256, 9, padding='same', activation='relu')(x)\n",
    "x = layers.MaxPool1D()(x)\n",
    "x = layers.Dropout(0.3)(x)\n",
    "\n",
    "x = layers.Flatten()(x)\n",
    "x = layers.Dense(256)(x)\n",
    "x = layers.BatchNormalization()(x)\n",
    "x = layers.Activation('relu')(x)\n",
    "\n",
    "output_tensor = layers.Dense(12)(x)\n",
    "\n",
    "model_wav = tf.keras.Model(input_tensor, output_tensor)\n",
    "\n",
    "model_wav.summary()"
   ]
  },
  {
   "cell_type": "code",
   "execution_count": 13,
   "id": "racial-illustration",
   "metadata": {},
   "outputs": [],
   "source": [
    "optimizer=tf.keras.optimizers.Adam(1e-4)\n",
    "model_wav.compile(loss=tf.keras.losses.CategoricalCrossentropy(from_logits=True),\n",
    "             optimizer=optimizer,\n",
    "             metrics=['accuracy'])"
   ]
  },
  {
   "cell_type": "markdown",
   "id": "unavailable-august",
   "metadata": {},
   "source": [
    "- 가장 성능이 좋은 모델을 checkpoint directory에 저장한다."
   ]
  },
  {
   "cell_type": "code",
   "execution_count": 14,
   "id": "assumed-mustang",
   "metadata": {},
   "outputs": [],
   "source": [
    "cp_callback = tf.keras.callbacks.ModelCheckpoint(checkpoint_dir,\n",
    "                                                 save_weights_only=True,\n",
    "                                                 monitor='val_loss',\n",
    "                                                 mode='auto',\n",
    "                                                 save_best_only=True,\n",
    "                                                 verbose=1)"
   ]
  },
  {
   "cell_type": "code",
   "execution_count": 15,
   "id": "single-window",
   "metadata": {},
   "outputs": [
    {
     "name": "stdout",
     "output_type": "stream",
     "text": [
      "Epoch 1/5\n",
      "1423/1423 [==============================] - ETA: 0s - loss: 1.3899 - accuracy: 0.5404\n",
      "Epoch 00001: val_loss improved from inf to 1.07408, saving model to /home/aiffel-dj26/aiffel/speech_recognition/models/wav\n",
      "1423/1423 [==============================] - 160s 113ms/step - loss: 1.3899 - accuracy: 0.5404 - val_loss: 1.0741 - val_accuracy: 0.6347\n",
      "Epoch 2/5\n",
      "1423/1423 [==============================] - ETA: 0s - loss: 0.8650 - accuracy: 0.7303\n",
      "Epoch 00002: val_loss improved from 1.07408 to 0.77658, saving model to /home/aiffel-dj26/aiffel/speech_recognition/models/wav\n",
      "1423/1423 [==============================] - 162s 114ms/step - loss: 0.8650 - accuracy: 0.7303 - val_loss: 0.7766 - val_accuracy: 0.7496\n",
      "Epoch 3/5\n",
      "1423/1423 [==============================] - ETA: 0s - loss: 0.6309 - accuracy: 0.8083\n",
      "Epoch 00003: val_loss improved from 0.77658 to 0.55744, saving model to /home/aiffel-dj26/aiffel/speech_recognition/models/wav\n",
      "1423/1423 [==============================] - 162s 114ms/step - loss: 0.6309 - accuracy: 0.8083 - val_loss: 0.5574 - val_accuracy: 0.8182\n",
      "Epoch 4/5\n",
      "1423/1423 [==============================] - ETA: 0s - loss: 0.4508 - accuracy: 0.8671\n",
      "Epoch 00004: val_loss improved from 0.55744 to 0.45822, saving model to /home/aiffel-dj26/aiffel/speech_recognition/models/wav\n",
      "1423/1423 [==============================] - 162s 114ms/step - loss: 0.4508 - accuracy: 0.8671 - val_loss: 0.4582 - val_accuracy: 0.8495\n",
      "Epoch 5/5\n",
      "1423/1423 [==============================] - ETA: 0s - loss: 0.3209 - accuracy: 0.9100\n",
      "Epoch 00005: val_loss improved from 0.45822 to 0.42960, saving model to /home/aiffel-dj26/aiffel/speech_recognition/models/wav\n",
      "1423/1423 [==============================] - 163s 114ms/step - loss: 0.3209 - accuracy: 0.9100 - val_loss: 0.4296 - val_accuracy: 0.8623\n"
     ]
    }
   ],
   "source": [
    "history_wav = model_wav.fit(train_dataset, epochs=max_epochs,\n",
    "                    steps_per_epoch=len(train_wav) // batch_size,\n",
    "                    validation_data=test_dataset,\n",
    "                    validation_steps=len(test_wav) // batch_size,\n",
    "                    callbacks=[cp_callback]\n",
    "                    )"
   ]
  },
  {
   "cell_type": "markdown",
   "id": "specific-smile",
   "metadata": {},
   "source": [
    "## 5. visualize model training history"
   ]
  },
  {
   "cell_type": "code",
   "execution_count": 16,
   "id": "understanding-challenge",
   "metadata": {},
   "outputs": [
    {
     "data": {
      "image/png": "[encoded data removed]",
      "text/plain": [
       "<Figure size 576x576 with 2 Axes>"
      ]
     },
     "metadata": {
      "needs_background": "light"
     },
     "output_type": "display_data"
    }
   ],
   "source": [
    "import matplotlib.pyplot as plt\n",
    "\n",
    "acc = history_wav.history['accuracy']\n",
    "val_acc = history_wav.history['val_accuracy']\n",
    "\n",
    "loss=history_wav.history['loss']\n",
    "val_loss=history_wav.history['val_loss']\n",
    "\n",
    "epochs_range = range(len(acc))\n",
    "\n",
    "plt.figure(figsize=(8, 8))\n",
    "plt.subplot(1, 2, 1)\n",
    "plt.plot(epochs_range, acc, label='Training Accuracy')\n",
    "plt.plot(epochs_range, val_acc, label='Validation Accuracy')\n",
    "plt.legend(loc='lower right')\n",
    "plt.title('Training and Validation Accuracy')\n",
    "\n",
    "plt.subplot(1, 2, 2)\n",
    "plt.plot(epochs_range, loss, label='Training Loss')\n",
    "plt.plot(epochs_range, val_loss, label='Validation Loss')\n",
    "plt.legend(loc='upper right')\n",
    "plt.title('Training and Validation Loss')\n",
    "plt.show()"
   ]
  },
  {
   "cell_type": "markdown",
   "id": "local-nightlife",
   "metadata": {},
   "source": [
    "## 6. evaluate with best model weights"
   ]
  },
  {
   "cell_type": "code",
   "execution_count": 17,
   "id": "destroyed-garden",
   "metadata": {},
   "outputs": [
    {
     "name": "stdout",
     "output_type": "stream",
     "text": [
      "159/159 [==============================] - 12s 78ms/step - loss: 0.4294 - accuracy: 0.8625\n",
      "[0.4293529689311981, 0.8625049591064453]\n"
     ]
    }
   ],
   "source": [
    "model_wav.load_weights(checkpoint_dir)\n",
    "results_wav = model_wav.evaluate(test_dataset)\n",
    "print(results_wav)"
   ]
  },
  {
   "cell_type": "code",
   "execution_count": 18,
   "id": "sublime-inventory",
   "metadata": {},
   "outputs": [
    {
     "name": "stdout",
     "output_type": "stream",
     "text": [
      "loss value: 0.429\n",
      "accuracy value: 86.2505%\n"
     ]
    }
   ],
   "source": [
    "# loss\n",
    "print(\"loss value: {:.3f}\".format(results_wav[0]))\n",
    "# accuracy\n",
    "print(\"accuracy value: {:.4f}%\".format(results_wav[1]*100))"
   ]
  },
  {
   "cell_type": "markdown",
   "id": "specific-bubble",
   "metadata": {},
   "source": [
    "## 7. test model\n",
    "- 음성 파일을 확인해 예측한 결과를 확인한다."
   ]
  },
  {
   "cell_type": "code",
   "execution_count": 19,
   "id": "dynamic-camel",
   "metadata": {},
   "outputs": [
    {
     "name": "stdout",
     "output_type": "stream",
     "text": [
      "label :  silence\n"
     ]
    },
    {
     "data": {
      "text/html": [
       "\n",
       "                <audio  controls=\"controls\" >\n",
       "                    <source src=\"data:audio/wav;base64,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\" type=\"audio/wav\" />\n",
       "                    Your browser does not support the audio element.\n",
       "                </audio>\n",
       "              "
      ],
      "text/plain": [
       "<IPython.lib.display.Audio object>"
      ]
     },
     "execution_count": 19,
     "metadata": {},
     "output_type": "execute_result"
    }
   ],
   "source": [
    "inv_label_value = {v: k for k, v in label_value.items()}\n",
    "batch_index = np.random.choice(len(test_wav), size=1, replace=False)\n",
    "\n",
    "batch_xs = test_wav[batch_index]\n",
    "batch_ys = test_label[batch_index]\n",
    "y_pred_ = model_wav(batch_xs, training=False)\n",
    "\n",
    "print(\"label : \", str(inv_label_value[batch_ys[0]]))\n",
    "\n",
    "ipd.Audio(batch_xs.reshape(8000,), rate=8000)"
   ]
  },
  {
   "cell_type": "code",
   "execution_count": 20,
   "id": "qualified-indie",
   "metadata": {},
   "outputs": [
    {
     "name": "stdout",
     "output_type": "stream",
     "text": [
      "y_pred: silence(Correct!)\n"
     ]
    }
   ],
   "source": [
    "if np.argmax(y_pred_) == batch_ys[0]:\n",
    "    print(\"y_pred: \" + str(inv_label_value[np.argmax(y_pred_)]) + '(Correct!)')\n",
    "else:\n",
    "    print(\"y_pred: \" + str(inv_label_value[np.argmax(y_pred_)]) + '(Incorrect!)')"
   ]
  },
  {
   "cell_type": "code",
   "execution_count": 21,
   "id": "actual-serve",
   "metadata": {},
   "outputs": [],
   "source": [
    "del speech_data\n",
    "del label_data"
   ]
  },
  {
   "cell_type": "markdown",
   "id": "polar-anatomy",
   "metadata": {},
   "source": [
    "# spectrogram classification\n",
    "- 1차원의 데이터를 spectrogram으로 변환한다. \n",
    "\n",
    "## 1. data 전처리\n",
    "- data를 가져온다. 위 코드에서 사용한 데이터를 사용한다. "
   ]
  },
  {
   "cell_type": "code",
   "execution_count": 2,
   "id": "dependent-matter",
   "metadata": {},
   "outputs": [
    {
     "name": "stdout",
     "output_type": "stream",
     "text": [
      "<numpy.lib.npyio.NpzFile object at 0x7f4af823d750>\n",
      "KeysView(<numpy.lib.npyio.NpzFile object at 0x7f4af823d750>)\n",
      "ValuesView(<numpy.lib.npyio.NpzFile object at 0x7f4af823d750>)\n",
      "<class 'numpy.ndarray'>\n"
     ]
    }
   ],
   "source": [
    "import numpy as np\n",
    "import os\n",
    "\n",
    "data_path = os.getenv(\"HOME\")+'/aiffel/speech_recognition/data/speech_wav_8000.npz'\n",
    "speech_data = np.load(data_path)\n",
    "\n",
    "print(speech_data)\n",
    "print(speech_data.keys())\n",
    "print(speech_data.values())\n",
    "print(type(speech_data['wav_vals'][0]))"
   ]
  },
  {
   "cell_type": "code",
   "execution_count": 3,
   "id": "remarkable-meaning",
   "metadata": {},
   "outputs": [
    {
     "name": "stdout",
     "output_type": "stream",
     "text": [
      "LABEL :  ['yes', 'no', 'up', 'down', 'left', 'right', 'on', 'off', 'stop', 'go', 'unknown', 'silence']\n",
      "Indexed LABEL :  {'yes': 0, 'no': 1, 'up': 2, 'down': 3, 'left': 4, 'right': 5, 'on': 6, 'off': 7, 'stop': 8, 'go': 9, 'unknown': 10, 'silence': 11}\n"
     ]
    }
   ],
   "source": [
    "target_list = ['yes', 'no', 'up', 'down', 'left', 'right', 'on', 'off', 'stop', 'go']\n",
    "\n",
    "label_value = target_list\n",
    "label_value.append('unknown')\n",
    "label_value.append('silence')\n",
    "\n",
    "print('LABEL : ', label_value)\n",
    "\n",
    "new_label_value = dict()\n",
    "for i, l in enumerate(label_value):\n",
    "    new_label_value[l] = i\n",
    "label_value = new_label_value\n",
    "\n",
    "print('Indexed LABEL : ', label_value)"
   ]
  },
  {
   "cell_type": "code",
   "execution_count": 4,
   "id": "concrete-qualification",
   "metadata": {},
   "outputs": [
    {
     "data": {
      "text/plain": [
       "array([ 3,  3,  3, ..., 11, 11, 11])"
      ]
     },
     "execution_count": 4,
     "metadata": {},
     "output_type": "execute_result"
    }
   ],
   "source": [
    "temp = []\n",
    "for v in speech_data[\"label_vals\"]:\n",
    "    temp.append(label_value[v[0]])\n",
    "label_data = np.array(temp)\n",
    "\n",
    "label_data"
   ]
  },
  {
   "cell_type": "markdown",
   "id": "tamil-ethnic",
   "metadata": {},
   "source": [
    "## 2. data setting\n",
    "- wav 파일을 spectrogram으로 변환한다.\n",
    "- train, validation으로 나눈다.\n",
    "- tf.data.Dataset 을 이용해 데이터셋을 구성한다. \n",
    "- 데이터셋 전처리, 배치처리를 쉽게할 수 있는 패키지"
   ]
  },
  {
   "cell_type": "code",
   "execution_count": 5,
   "id": "satellite-shadow",
   "metadata": {},
   "outputs": [],
   "source": [
    "import librosa\n",
    "\n",
    "def wav2spec(wav, fft_size=258): # spectrogram shape을 맞추기위해서 size 변형\n",
    "    D = np.abs(librosa.stft(wav, n_fft=fft_size))\n",
    "    return D"
   ]
  },
  {
   "cell_type": "code",
   "execution_count": 6,
   "id": "challenging-miniature",
   "metadata": {},
   "outputs": [
    {
     "name": "stdout",
     "output_type": "stream",
     "text": [
      "<class 'numpy.ndarray'>\n",
      "(8000,)\n",
      "(50620, 8000)\n"
     ]
    }
   ],
   "source": [
    "print(type(speech_data[\"wav_vals\"]))\n",
    "print(speech_data[\"wav_vals\"][0].shape)\n",
    "print(speech_data[\"wav_vals\"].shape)"
   ]
  },
  {
   "cell_type": "code",
   "execution_count": 7,
   "id": "solar-warren",
   "metadata": {},
   "outputs": [
    {
     "name": "stdout",
     "output_type": "stream",
     "text": [
      "(50620, 130, 126)\n"
     ]
    }
   ],
   "source": [
    "spec_data=[]\n",
    "for wav in speech_data[\"wav_vals\"]:\n",
    "    temp = wav2spec(wav)\n",
    "    spec_data.append(temp)\n",
    "    \n",
    "spec_data=np.array(spec_data)\n",
    "\n",
    "print(spec_data.shape)"
   ]
  },
  {
   "cell_type": "markdown",
   "id": "molecular-acoustic",
   "metadata": {},
   "source": [
    "- map함수를 통해 spectrogram으로 변환하는 코드"
   ]
  },
  {
   "cell_type": "code",
   "execution_count": 8,
   "id": "extraordinary-blind",
   "metadata": {},
   "outputs": [],
   "source": [
    "# spec_data = np.ndarray(shape=(50620, 8000), dtype=float)\n",
    "# spec_data= np.append(spec_data,tf.numpy_function(wav2spec, wav, tf.float32))"
   ]
  },
  {
   "cell_type": "code",
   "execution_count": 9,
   "id": "overall-humanitarian",
   "metadata": {},
   "outputs": [],
   "source": [
    "# spec_data = speech_data[\"wav_vals\"].map(wav2spec)"
   ]
  },
  {
   "cell_type": "code",
   "execution_count": 10,
   "id": "missing-notice",
   "metadata": {},
   "outputs": [
    {
     "name": "stdout",
     "output_type": "stream",
     "text": [
      "train data :  (45558, 130, 126)\n",
      "train labels :  (45558,)\n",
      "test data :  (5062, 130, 126)\n",
      "test labels :  (5062,)\n"
     ]
    }
   ],
   "source": [
    "from sklearn.model_selection import train_test_split\n",
    "\n",
    "sr = 8000\n",
    "train_spec, test_spec, train_label, test_label = train_test_split(spec_data, \n",
    "                                                                label_data, \n",
    "                                                                test_size=0.1,\n",
    "                                                                shuffle=True)\n",
    "\n",
    "print(\"train data : \", train_spec.shape)\n",
    "print(\"train labels : \", train_label.shape)\n",
    "print(\"test data : \", test_spec.shape)\n",
    "print(\"test labels : \", test_label.shape)"
   ]
  },
  {
   "cell_type": "code",
   "execution_count": 11,
   "id": "higher-lewis",
   "metadata": {},
   "outputs": [],
   "source": [
    "len_train_spec = len(train_spec)\n",
    "len_test_spec = len(test_spec)"
   ]
  },
  {
   "cell_type": "markdown",
   "id": "increased-regard",
   "metadata": {},
   "source": [
    "- spectrogram 확인 "
   ]
  },
  {
   "cell_type": "code",
   "execution_count": 12,
   "id": "alternative-preserve",
   "metadata": {},
   "outputs": [
    {
     "data": {
      "image/png": "[encoded data removed]",
      "text/plain": [
       "<Figure size 432x288 with 2 Axes>"
      ]
     },
     "metadata": {
      "needs_background": "light"
     },
     "output_type": "display_data"
    }
   ],
   "source": [
    "import librosa.display\n",
    "import matplotlib.pyplot as plt\n",
    "\n",
    "librosa.display.specshow(librosa.amplitude_to_db(train_spec[0], ref=np.max), x_axis='time')\n",
    "plt.title('Power spectrogram')\n",
    "plt.colorbar(format='%+2.0f dB')\n",
    "plt.xticks(range(0, 1))\n",
    "plt.tight_layout()\n",
    "plt.show()"
   ]
  },
  {
   "cell_type": "code",
   "execution_count": 13,
   "id": "hollow-peripheral",
   "metadata": {},
   "outputs": [],
   "source": [
    "del spec_data\n",
    "del speech_data\n",
    "del label_data"
   ]
  },
  {
   "cell_type": "markdown",
   "id": "covered-obligation",
   "metadata": {},
   "source": [
    "### hyper parameter 조정 "
   ]
  },
  {
   "cell_type": "code",
   "execution_count": 14,
   "id": "pleased-cooperative",
   "metadata": {},
   "outputs": [
    {
     "data": {
      "text/plain": [
       "'/home/aiffel-dj26/aiffel/speech_recognition/models/spec'"
      ]
     },
     "execution_count": 14,
     "metadata": {},
     "output_type": "execute_result"
    }
   ],
   "source": [
    "batch_size = 32\n",
    "max_epochs = 5\n",
    "\n",
    "# the save point\n",
    "checkpoint_dir = os.getenv('HOME')+'/aiffel/speech_recognition/models/spec'\n",
    "\n",
    "checkpoint_dir"
   ]
  },
  {
   "cell_type": "code",
   "execution_count": 15,
   "id": "major-respondent",
   "metadata": {},
   "outputs": [],
   "source": [
    "# one hot encoding 해주는 함수\n",
    "def one_hot_label(wav, label):\n",
    "    label = tf.one_hot(label, depth=12)\n",
    "    return wav, label"
   ]
  },
  {
   "cell_type": "code",
   "execution_count": 16,
   "id": "binary-interference",
   "metadata": {},
   "outputs": [
    {
     "name": "stdout",
     "output_type": "stream",
     "text": [
      "<BatchDataset shapes: ((None, 130, 126), (None, 12)), types: (tf.float32, tf.float32)>\n",
      "<BatchDataset shapes: ((None, 130, 126), (None, 12)), types: (tf.float32, tf.float32)>\n"
     ]
    }
   ],
   "source": [
    "import tensorflow as tf\n",
    "\n",
    "# for train\n",
    "train_dataset = tf.data.Dataset.from_tensor_slices((train_spec, train_label))\n",
    "train_dataset = train_dataset.map(one_hot_label)\n",
    "train_dataset = train_dataset.repeat().batch(batch_size=batch_size)\n",
    "print(train_dataset)\n",
    "\n",
    "# for test\n",
    "test_dataset = tf.data.Dataset.from_tensor_slices((test_spec, test_label))\n",
    "test_dataset = test_dataset.map(one_hot_label)\n",
    "test_dataset = test_dataset.batch(batch_size=batch_size)\n",
    "print(test_dataset)"
   ]
  },
  {
   "cell_type": "code",
   "execution_count": 17,
   "id": "earned-plant",
   "metadata": {},
   "outputs": [],
   "source": [
    "del train_spec\n",
    "del test_spec\n",
    "del train_label\n",
    "del test_label"
   ]
  },
  {
   "cell_type": "markdown",
   "id": "plain-fisher",
   "metadata": {},
   "source": [
    "## 3. spec classification 모델 구현 \n",
    "- 2차원으로 구성한 데이터를 분류할 수 있는 CNN 모델을 구축한다.\n",
    "- wav classification 모델과 동일한 모델(conv 1d)로 성능을 비교한다. "
   ]
  },
  {
   "cell_type": "code",
   "execution_count": 18,
   "id": "stone-polls",
   "metadata": {},
   "outputs": [
    {
     "name": "stdout",
     "output_type": "stream",
     "text": [
      "Model: \"model\"\n",
      "_________________________________________________________________\n",
      "Layer (type)                 Output Shape              Param #   \n",
      "=================================================================\n",
      "input_1 (InputLayer)         [(None, 130, 126)]        0         \n",
      "_________________________________________________________________\n",
      "conv1d (Conv1D)              (None, 130, 32)           36320     \n",
      "_________________________________________________________________\n",
      "conv1d_1 (Conv1D)            (None, 130, 32)           9248      \n",
      "_________________________________________________________________\n",
      "max_pooling1d (MaxPooling1D) (None, 65, 32)            0         \n",
      "_________________________________________________________________\n",
      "conv1d_2 (Conv1D)            (None, 65, 64)            18496     \n",
      "_________________________________________________________________\n",
      "conv1d_3 (Conv1D)            (None, 65, 64)            36928     \n",
      "_________________________________________________________________\n",
      "max_pooling1d_1 (MaxPooling1 (None, 32, 64)            0         \n",
      "_________________________________________________________________\n",
      "conv1d_4 (Conv1D)            (None, 32, 128)           73856     \n",
      "_________________________________________________________________\n",
      "conv1d_5 (Conv1D)            (None, 32, 128)           147584    \n",
      "_________________________________________________________________\n",
      "conv1d_6 (Conv1D)            (None, 32, 128)           147584    \n",
      "_________________________________________________________________\n",
      "max_pooling1d_2 (MaxPooling1 (None, 16, 128)           0         \n",
      "_________________________________________________________________\n",
      "conv1d_7 (Conv1D)            (None, 16, 256)           295168    \n",
      "_________________________________________________________________\n",
      "conv1d_8 (Conv1D)            (None, 16, 256)           590080    \n",
      "_________________________________________________________________\n",
      "conv1d_9 (Conv1D)            (None, 16, 256)           590080    \n",
      "_________________________________________________________________\n",
      "max_pooling1d_3 (MaxPooling1 (None, 8, 256)            0         \n",
      "_________________________________________________________________\n",
      "dropout (Dropout)            (None, 8, 256)            0         \n",
      "_________________________________________________________________\n",
      "flatten (Flatten)            (None, 2048)              0         \n",
      "_________________________________________________________________\n",
      "dense (Dense)                (None, 256)               524544    \n",
      "_________________________________________________________________\n",
      "batch_normalization (BatchNo (None, 256)               1024      \n",
      "_________________________________________________________________\n",
      "activation (Activation)      (None, 256)               0         \n",
      "_________________________________________________________________\n",
      "dense_1 (Dense)              (None, 12)                3084      \n",
      "=================================================================\n",
      "Total params: 2,473,996\n",
      "Trainable params: 2,473,484\n",
      "Non-trainable params: 512\n",
      "_________________________________________________________________\n"
     ]
    }
   ],
   "source": [
    "from tensorflow.keras import layers\n",
    "\n",
    "input_tensor = layers.Input(shape=(130, 126))\n",
    "\n",
    "x = layers.Conv1D(32, 9, padding='same', activation='relu')(input_tensor)\n",
    "x = layers.Conv1D(32, 9, padding='same', activation='relu')(x)\n",
    "x = layers.MaxPool1D()(x)\n",
    "\n",
    "x = layers.Conv1D(64, 9, padding='same', activation='relu')(x)\n",
    "x = layers.Conv1D(64, 9, padding='same', activation='relu')(x)\n",
    "x = layers.MaxPool1D()(x)\n",
    "\n",
    "x = layers.Conv1D(128, 9, padding='same', activation='relu')(x)\n",
    "x = layers.Conv1D(128, 9, padding='same', activation='relu')(x)\n",
    "x = layers.Conv1D(128, 9, padding='same', activation='relu')(x)\n",
    "x = layers.MaxPool1D()(x)\n",
    "\n",
    "x = layers.Conv1D(256, 9, padding='same', activation='relu')(x)\n",
    "x = layers.Conv1D(256, 9, padding='same', activation='relu')(x)\n",
    "x = layers.Conv1D(256, 9, padding='same', activation='relu')(x)\n",
    "x = layers.MaxPool1D()(x)\n",
    "x = layers.Dropout(0.3)(x)\n",
    "\n",
    "x = layers.Flatten()(x)\n",
    "x = layers.Dense(256)(x)\n",
    "x = layers.BatchNormalization()(x)\n",
    "x = layers.Activation('relu')(x)\n",
    "\n",
    "output_tensor = layers.Dense(12)(x)\n",
    "\n",
    "model_spec = tf.keras.Model(input_tensor, output_tensor)\n",
    "\n",
    "model_spec.summary()"
   ]
  },
  {
   "cell_type": "code",
   "execution_count": 22,
   "id": "further-forestry",
   "metadata": {},
   "outputs": [],
   "source": [
    "optimizer=tf.keras.optimizers.Adam(1e-4)\n",
    "model_spec.compile(loss=tf.keras.losses.CategoricalCrossentropy(from_logits=True),\n",
    "             optimizer=optimizer,\n",
    "             metrics=['accuracy'])"
   ]
  },
  {
   "cell_type": "code",
   "execution_count": 37,
   "id": "smoking-investor",
   "metadata": {},
   "outputs": [],
   "source": [
    "cp_callback = tf.keras.callbacks.ModelCheckpoint(checkpoint_dir,\n",
    "                                                 save_weights_only=True,\n",
    "                                                 monitor='val_loss',\n",
    "                                                 mode='auto',\n",
    "                                                 save_best_only=True,\n",
    "                                                 verbose=1)"
   ]
  },
  {
   "cell_type": "code",
   "execution_count": 24,
   "id": "flying-subdivision",
   "metadata": {},
   "outputs": [
    {
     "name": "stdout",
     "output_type": "stream",
     "text": [
      "Epoch 1/5\n",
      "1419/1423 [============================>.] - ETA: 0s - loss: 1.3872 - accuracy: 0.5263\n",
      "Epoch 00001: val_loss improved from inf to 0.97629, saving model to /home/aiffel-dj26/aiffel/speech_recognition/models/spec\n",
      "1423/1423 [==============================] - 10s 7ms/step - loss: 1.3863 - accuracy: 0.5266 - val_loss: 0.9763 - val_accuracy: 0.6665\n",
      "Epoch 2/5\n",
      "1419/1423 [============================>.] - ETA: 0s - loss: 0.6505 - accuracy: 0.7841\n",
      "Epoch 00002: val_loss improved from 0.97629 to 0.51203, saving model to /home/aiffel-dj26/aiffel/speech_recognition/models/spec\n",
      "1423/1423 [==============================] - 10s 7ms/step - loss: 0.6507 - accuracy: 0.7841 - val_loss: 0.5120 - val_accuracy: 0.8208\n",
      "Epoch 3/5\n",
      "1423/1423 [==============================] - ETA: 0s - loss: 0.4451 - accuracy: 0.8529\n",
      "Epoch 00003: val_loss improved from 0.51203 to 0.45751, saving model to /home/aiffel-dj26/aiffel/speech_recognition/models/spec\n",
      "1423/1423 [==============================] - 10s 7ms/step - loss: 0.4451 - accuracy: 0.8529 - val_loss: 0.4575 - val_accuracy: 0.8432\n",
      "Epoch 4/5\n",
      "1421/1423 [============================>.] - ETA: 0s - loss: 0.3379 - accuracy: 0.8872\n",
      "Epoch 00004: val_loss improved from 0.45751 to 0.40864, saving model to /home/aiffel-dj26/aiffel/speech_recognition/models/spec\n",
      "1423/1423 [==============================] - 10s 7ms/step - loss: 0.3381 - accuracy: 0.8871 - val_loss: 0.4086 - val_accuracy: 0.8586\n",
      "Epoch 5/5\n",
      "1416/1423 [============================>.] - ETA: 0s - loss: 0.2622 - accuracy: 0.9136\n",
      "Epoch 00005: val_loss improved from 0.40864 to 0.39057, saving model to /home/aiffel-dj26/aiffel/speech_recognition/models/spec\n",
      "1423/1423 [==============================] - 10s 7ms/step - loss: 0.2621 - accuracy: 0.9138 - val_loss: 0.3906 - val_accuracy: 0.8714\n"
     ]
    }
   ],
   "source": [
    "history_spec = model_spec.fit(train_dataset, epochs=max_epochs,\n",
    "                    steps_per_epoch= len_train_spec // batch_size,\n",
    "                    validation_data=test_dataset,\n",
    "                    validation_steps= len_test_spec // batch_size,\n",
    "                    callbacks=[cp_callback]\n",
    "                    )"
   ]
  },
  {
   "cell_type": "markdown",
   "id": "superior-tribune",
   "metadata": {},
   "source": [
    "## 4. visualize model training history"
   ]
  },
  {
   "cell_type": "code",
   "execution_count": 25,
   "id": "printable-spectrum",
   "metadata": {},
   "outputs": [
    {
     "data": {
      "image/png": "[encoded data removed]",
      "text/plain": [
       "<Figure size 576x576 with 2 Axes>"
      ]
     },
     "metadata": {
      "needs_background": "light"
     },
     "output_type": "display_data"
    }
   ],
   "source": [
    "acc = history_spec.history['accuracy']\n",
    "val_acc = history_spec.history['val_accuracy']\n",
    "\n",
    "loss=history_spec.history['loss']\n",
    "val_loss=history_spec.history['val_loss']\n",
    "\n",
    "epochs_range = range(len(acc))\n",
    "\n",
    "plt.figure(figsize=(8, 8))\n",
    "plt.subplot(1, 2, 1)\n",
    "plt.plot(epochs_range, acc, label='Training Accuracy')\n",
    "plt.plot(epochs_range, val_acc, label='Validation Accuracy')\n",
    "plt.legend(loc='lower right')\n",
    "plt.title('Training and Validation Accuracy')\n",
    "\n",
    "plt.subplot(1, 2, 2)\n",
    "plt.plot(epochs_range, loss, label='Training Loss')\n",
    "plt.plot(epochs_range, val_loss, label='Validation Loss')\n",
    "plt.legend(loc='upper right')\n",
    "plt.title('Training and Validation Loss')\n",
    "plt.show()"
   ]
  },
  {
   "cell_type": "markdown",
   "id": "worldwide-center",
   "metadata": {},
   "source": [
    "## 5. evaluate with best model weights"
   ]
  },
  {
   "cell_type": "code",
   "execution_count": 26,
   "id": "adaptive-infection",
   "metadata": {},
   "outputs": [
    {
     "name": "stdout",
     "output_type": "stream",
     "text": [
      "159/159 [==============================] - 20s 129ms/step - loss: 0.3903 - accuracy: 0.8716\n",
      "[0.39028048515319824, 0.8715922832489014]\n"
     ]
    }
   ],
   "source": [
    "model_spec.load_weights(checkpoint_dir)\n",
    "results_spec = model_spec.evaluate(test_dataset)\n",
    "print(results_spec)"
   ]
  },
  {
   "cell_type": "code",
   "execution_count": 27,
   "id": "promising-conditioning",
   "metadata": {},
   "outputs": [
    {
     "name": "stdout",
     "output_type": "stream",
     "text": [
      "loss value: 0.390\n",
      "accuracy value: 87.1592%\n"
     ]
    }
   ],
   "source": [
    "# loss\n",
    "print(\"loss value: {:.3f}\".format(results_spec[0]))\n",
    "# accuracy\n",
    "print(\"accuracy value: {:.4f}%\".format(results_spec[1]*100))"
   ]
  },
  {
   "cell_type": "markdown",
   "id": "least-clearance",
   "metadata": {},
   "source": [
    "### 성능 비교 (wav vs spec)\n",
    "- wav : 86.2505%\n",
    "- spectrogram : 87.1592%\n",
    "\n",
    "\n",
    "## 7. test model\n",
    "- 음성 파일을 확인해 예측한 결과를 확인한다.\n",
    "- 메모리가 많이 쌓여 확인할 수 없었다. "
   ]
  },
  {
   "cell_type": "code",
   "execution_count": 27,
   "id": "interested-medicine",
   "metadata": {},
   "outputs": [
    {
     "ename": "NameError",
     "evalue": "name 'test_spec' is not defined",
     "output_type": "error",
     "traceback": [
      "\u001b[0;31m---------------------------------------------------------------------------\u001b[0m",
      "\u001b[0;31mNameError\u001b[0m                                 Traceback (most recent call last)",
      "\u001b[0;32m<ipython-input-27-67a46b015095>\u001b[0m in \u001b[0;36m<module>\u001b[0;34m\u001b[0m\n\u001b[1;32m      2\u001b[0m \u001b[0mbatch_index\u001b[0m \u001b[0;34m=\u001b[0m \u001b[0mnp\u001b[0m\u001b[0;34m.\u001b[0m\u001b[0mrandom\u001b[0m\u001b[0;34m.\u001b[0m\u001b[0mchoice\u001b[0m\u001b[0;34m(\u001b[0m\u001b[0mlen_test_spec\u001b[0m\u001b[0;34m,\u001b[0m \u001b[0msize\u001b[0m\u001b[0;34m=\u001b[0m\u001b[0;36m1\u001b[0m\u001b[0;34m,\u001b[0m \u001b[0mreplace\u001b[0m\u001b[0;34m=\u001b[0m\u001b[0;32mFalse\u001b[0m\u001b[0;34m)\u001b[0m\u001b[0;34m\u001b[0m\u001b[0;34m\u001b[0m\u001b[0m\n\u001b[1;32m      3\u001b[0m \u001b[0;34m\u001b[0m\u001b[0m\n\u001b[0;32m----> 4\u001b[0;31m \u001b[0mbatch_xs\u001b[0m \u001b[0;34m=\u001b[0m \u001b[0mtest_spec\u001b[0m\u001b[0;34m[\u001b[0m\u001b[0mbatch_index\u001b[0m\u001b[0;34m]\u001b[0m\u001b[0;34m\u001b[0m\u001b[0;34m\u001b[0m\u001b[0m\n\u001b[0m\u001b[1;32m      5\u001b[0m \u001b[0mbatch_ys\u001b[0m \u001b[0;34m=\u001b[0m \u001b[0mtest_label\u001b[0m\u001b[0;34m[\u001b[0m\u001b[0mbatch_index\u001b[0m\u001b[0;34m]\u001b[0m\u001b[0;34m\u001b[0m\u001b[0;34m\u001b[0m\u001b[0m\n\u001b[1;32m      6\u001b[0m \u001b[0my_pred_\u001b[0m \u001b[0;34m=\u001b[0m \u001b[0mmodel_spec\u001b[0m\u001b[0;34m(\u001b[0m\u001b[0mbatch_xs\u001b[0m\u001b[0;34m,\u001b[0m \u001b[0mtraining\u001b[0m\u001b[0;34m=\u001b[0m\u001b[0;32mFalse\u001b[0m\u001b[0;34m)\u001b[0m\u001b[0;34m\u001b[0m\u001b[0;34m\u001b[0m\u001b[0m\n",
      "\u001b[0;31mNameError\u001b[0m: name 'test_spec' is not defined"
     ]
    }
   ],
   "source": [
    "inv_label_value = {v: k for k, v in label_value.items()}\n",
    "batch_index = np.random.choice(len_test_spec, size=1, replace=False)\n",
    "\n",
    "batch_xs = test_spec[batch_index]\n",
    "batch_ys = test_label[batch_index]\n",
    "y_pred_ = model_spec(batch_xs, training=False)\n",
    "\n",
    "print(\"label : \", str(inv_label_value[batch_ys[0]]))\n",
    "\n",
    "ipd.Audio(batch_xs.reshape(8000,), rate=8000)"
   ]
  },
  {
   "cell_type": "code",
   "execution_count": null,
   "id": "nuclear-jonathan",
   "metadata": {},
   "outputs": [],
   "source": [
    "if np.argmax(y_pred_) == batch_ys[0]:\n",
    "    print(\"y_pred: \" + str(inv_label_value[np.argmax(y_pred_)]) + '(Correct!)')\n",
    "else:\n",
    "    print(\"y_pred: \" + str(inv_label_value[np.argmax(y_pred_)]) + '(Incorrect!)')"
   ]
  },
  {
   "cell_type": "markdown",
   "id": "seeing-dance",
   "metadata": {},
   "source": [
    "## 8. skip connection 을 추가한 모델의 성능 확인 "
   ]
  },
  {
   "cell_type": "code",
   "execution_count": 30,
   "id": "cloudy-august",
   "metadata": {},
   "outputs": [
    {
     "name": "stdout",
     "output_type": "stream",
     "text": [
      "Model: \"model_2\"\n",
      "__________________________________________________________________________________________________\n",
      "Layer (type)                    Output Shape         Param #     Connected to                     \n",
      "==================================================================================================\n",
      "input_3 (InputLayer)            [(None, 130, 126)]   0                                            \n",
      "__________________________________________________________________________________________________\n",
      "conv1d_20 (Conv1D)              (None, 130, 32)      36320       input_3[0][0]                    \n",
      "__________________________________________________________________________________________________\n",
      "conv1d_21 (Conv1D)              (None, 130, 32)      9248        conv1d_20[0][0]                  \n",
      "__________________________________________________________________________________________________\n",
      "max_pooling1d_8 (MaxPooling1D)  (None, 65, 32)       0           conv1d_21[0][0]                  \n",
      "__________________________________________________________________________________________________\n",
      "conv1d_22 (Conv1D)              (None, 65, 64)       18496       max_pooling1d_8[0][0]            \n",
      "__________________________________________________________________________________________________\n",
      "conv1d_23 (Conv1D)              (None, 65, 64)       36928       conv1d_22[0][0]                  \n",
      "__________________________________________________________________________________________________\n",
      "tf_op_layer_concat_3 (TensorFlo [(None, 65, 96)]     0           conv1d_23[0][0]                  \n",
      "                                                                 max_pooling1d_8[0][0]            \n",
      "__________________________________________________________________________________________________\n",
      "max_pooling1d_9 (MaxPooling1D)  (None, 32, 96)       0           tf_op_layer_concat_3[0][0]       \n",
      "__________________________________________________________________________________________________\n",
      "conv1d_24 (Conv1D)              (None, 32, 128)      110720      max_pooling1d_9[0][0]            \n",
      "__________________________________________________________________________________________________\n",
      "conv1d_25 (Conv1D)              (None, 32, 128)      147584      conv1d_24[0][0]                  \n",
      "__________________________________________________________________________________________________\n",
      "conv1d_26 (Conv1D)              (None, 32, 128)      147584      conv1d_25[0][0]                  \n",
      "__________________________________________________________________________________________________\n",
      "tf_op_layer_concat_4 (TensorFlo [(None, 32, 224)]    0           conv1d_26[0][0]                  \n",
      "                                                                 max_pooling1d_9[0][0]            \n",
      "__________________________________________________________________________________________________\n",
      "max_pooling1d_10 (MaxPooling1D) (None, 16, 224)      0           tf_op_layer_concat_4[0][0]       \n",
      "__________________________________________________________________________________________________\n",
      "conv1d_27 (Conv1D)              (None, 16, 256)      516352      max_pooling1d_10[0][0]           \n",
      "__________________________________________________________________________________________________\n",
      "conv1d_28 (Conv1D)              (None, 16, 256)      590080      conv1d_27[0][0]                  \n",
      "__________________________________________________________________________________________________\n",
      "conv1d_29 (Conv1D)              (None, 16, 256)      590080      conv1d_28[0][0]                  \n",
      "__________________________________________________________________________________________________\n",
      "tf_op_layer_concat_5 (TensorFlo [(None, 16, 480)]    0           conv1d_29[0][0]                  \n",
      "                                                                 max_pooling1d_10[0][0]           \n",
      "__________________________________________________________________________________________________\n",
      "max_pooling1d_11 (MaxPooling1D) (None, 8, 480)       0           tf_op_layer_concat_5[0][0]       \n",
      "__________________________________________________________________________________________________\n",
      "dropout_2 (Dropout)             (None, 8, 480)       0           max_pooling1d_11[0][0]           \n",
      "__________________________________________________________________________________________________\n",
      "flatten_2 (Flatten)             (None, 3840)         0           dropout_2[0][0]                  \n",
      "__________________________________________________________________________________________________\n",
      "dense_4 (Dense)                 (None, 256)          983296      flatten_2[0][0]                  \n",
      "__________________________________________________________________________________________________\n",
      "batch_normalization_2 (BatchNor (None, 256)          1024        dense_4[0][0]                    \n",
      "__________________________________________________________________________________________________\n",
      "activation_2 (Activation)       (None, 256)          0           batch_normalization_2[0][0]      \n",
      "__________________________________________________________________________________________________\n",
      "dense_5 (Dense)                 (None, 12)           3084        activation_2[0][0]               \n",
      "==================================================================================================\n",
      "Total params: 3,190,796\n",
      "Trainable params: 3,190,284\n",
      "Non-trainable params: 512\n",
      "__________________________________________________________________________________________________\n"
     ]
    }
   ],
   "source": [
    "input_tensor = layers.Input(shape=(130, 126))\n",
    "\n",
    "x = layers.Conv1D(32, 9, padding='same', activation='relu')(input_tensor)\n",
    "x = layers.Conv1D(32, 9, padding='same', activation='relu')(x)\n",
    "skip_1 = layers.MaxPool1D()(x)\n",
    "\n",
    "x = layers.Conv1D(64, 9, padding='same', activation='relu')(skip_1)\n",
    "x = layers.Conv1D(64, 9, padding='same', activation='relu')(x)\n",
    "x = tf.concat([x, skip_1], -1)\n",
    "skip_2 = layers.MaxPool1D()(x)\n",
    "\n",
    "x = layers.Conv1D(128, 9, padding='same', activation='relu')(skip_2)\n",
    "x = layers.Conv1D(128, 9, padding='same', activation='relu')(x)\n",
    "x = layers.Conv1D(128, 9, padding='same', activation='relu')(x)\n",
    "x = tf.concat([x, skip_2], -1)\n",
    "skip_3 = layers.MaxPool1D()(x)\n",
    "\n",
    "x = layers.Conv1D(256, 9, padding='same', activation='relu')(skip_3)\n",
    "x = layers.Conv1D(256, 9, padding='same', activation='relu')(x)\n",
    "x = layers.Conv1D(256, 9, padding='same', activation='relu')(x)\n",
    "x = tf.concat([x, skip_3], -1)\n",
    "x = layers.MaxPool1D()(x)\n",
    "x = layers.Dropout(0.3)(x)\n",
    "\n",
    "x = layers.Flatten()(x)\n",
    "x = layers.Dense(256)(x)\n",
    "x = layers.BatchNormalization()(x)\n",
    "x = layers.Activation('relu')(x)\n",
    "\n",
    "output_tensor = layers.Dense(12)(x)\n",
    "\n",
    "model_spec_skip = tf.keras.Model(input_tensor, output_tensor)\n",
    "\n",
    "model_spec_skip.summary()"
   ]
  },
  {
   "cell_type": "code",
   "execution_count": 31,
   "id": "artistic-decrease",
   "metadata": {},
   "outputs": [
    {
     "data": {
      "text/plain": [
       "'/home/aiffel-dj26/aiffel/speech_recognition/models/spec_skip'"
      ]
     },
     "execution_count": 31,
     "metadata": {},
     "output_type": "execute_result"
    }
   ],
   "source": [
    "batch_size = 32\n",
    "max_epochs = 5\n",
    "\n",
    "# the save point\n",
    "checkpoint_dir = os.getenv('HOME')+'/aiffel/speech_recognition/models/spec_skip'\n",
    "\n",
    "checkpoint_dir"
   ]
  },
  {
   "cell_type": "code",
   "execution_count": 32,
   "id": "complimentary-eating",
   "metadata": {},
   "outputs": [],
   "source": [
    "optimizer=tf.keras.optimizers.Adam(1e-4)\n",
    "model_spec_skip.compile(loss=tf.keras.losses.CategoricalCrossentropy(from_logits=True),\n",
    "             optimizer=optimizer,\n",
    "             metrics=['accuracy'])"
   ]
  },
  {
   "cell_type": "code",
   "execution_count": 38,
   "id": "smoking-doctor",
   "metadata": {},
   "outputs": [
    {
     "name": "stdout",
     "output_type": "stream",
     "text": [
      "Epoch 1/5\n",
      "1416/1423 [============================>.] - ETA: 0s - loss: 0.2258 - accuracy: 0.9264\n",
      "Epoch 00001: val_loss improved from inf to 0.30553, saving model to /home/aiffel-dj26/aiffel/speech_recognition/models/spec_skip\n",
      "1423/1423 [==============================] - 11s 8ms/step - loss: 0.2258 - accuracy: 0.9264 - val_loss: 0.3055 - val_accuracy: 0.8975\n",
      "Epoch 2/5\n",
      "1423/1423 [==============================] - ETA: 0s - loss: 0.1865 - accuracy: 0.9389\n",
      "Epoch 00002: val_loss improved from 0.30553 to 0.29923, saving model to /home/aiffel-dj26/aiffel/speech_recognition/models/spec_skip\n",
      "1423/1423 [==============================] - 11s 8ms/step - loss: 0.1865 - accuracy: 0.9389 - val_loss: 0.2992 - val_accuracy: 0.9015\n",
      "Epoch 3/5\n",
      "1419/1423 [============================>.] - ETA: 0s - loss: 0.1596 - accuracy: 0.9475\n",
      "Epoch 00003: val_loss improved from 0.29923 to 0.27770, saving model to /home/aiffel-dj26/aiffel/speech_recognition/models/spec_skip\n",
      "1423/1423 [==============================] - 11s 8ms/step - loss: 0.1598 - accuracy: 0.9474 - val_loss: 0.2777 - val_accuracy: 0.9100\n",
      "Epoch 4/5\n",
      "1417/1423 [============================>.] - ETA: 0s - loss: 0.1348 - accuracy: 0.9547\n",
      "Epoch 00004: val_loss improved from 0.27770 to 0.25140, saving model to /home/aiffel-dj26/aiffel/speech_recognition/models/spec_skip\n",
      "1423/1423 [==============================] - 11s 8ms/step - loss: 0.1348 - accuracy: 0.9547 - val_loss: 0.2514 - val_accuracy: 0.9207\n",
      "Epoch 5/5\n",
      "1421/1423 [============================>.] - ETA: 0s - loss: 0.1194 - accuracy: 0.9598\n",
      "Epoch 00005: val_loss did not improve from 0.25140\n",
      "1423/1423 [==============================] - 11s 8ms/step - loss: 0.1194 - accuracy: 0.9598 - val_loss: 0.2762 - val_accuracy: 0.9152\n"
     ]
    }
   ],
   "source": [
    "history_spec_skip = model_spec_skip.fit(train_dataset, epochs=max_epochs,\n",
    "                    steps_per_epoch= 45558 // batch_size,\n",
    "                    validation_data=test_dataset,\n",
    "                    validation_steps= 5062 // batch_size,\n",
    "                    callbacks=[cp_callback]\n",
    "                    )"
   ]
  },
  {
   "cell_type": "code",
   "execution_count": 39,
   "id": "temporal-cache",
   "metadata": {},
   "outputs": [
    {
     "data": {
      "image/png": "[encoded data removed]",
      "text/plain": [
       "<Figure size 576x576 with 2 Axes>"
      ]
     },
     "metadata": {
      "needs_background": "light"
     },
     "output_type": "display_data"
    }
   ],
   "source": [
    "acc = history_spec_skip.history['accuracy']\n",
    "val_acc = history_spec_skip.history['val_accuracy']\n",
    "\n",
    "loss=history_spec_skip.history['loss']\n",
    "val_loss=history_spec_skip.history['val_loss']\n",
    "\n",
    "epochs_range = range(len(acc))\n",
    "\n",
    "plt.figure(figsize=(8, 8))\n",
    "plt.subplot(1, 2, 1)\n",
    "plt.plot(epochs_range, acc, label='Training Accuracy')\n",
    "plt.plot(epochs_range, val_acc, label='Validation Accuracy')\n",
    "plt.legend(loc='lower right')\n",
    "plt.title('Training and Validation Accuracy')\n",
    "\n",
    "plt.subplot(1, 2, 2)\n",
    "plt.plot(epochs_range, loss, label='Training Loss')\n",
    "plt.plot(epochs_range, val_loss, label='Validation Loss')\n",
    "plt.legend(loc='upper right')\n",
    "plt.title('Training and Validation Loss')\n",
    "plt.show()"
   ]
  },
  {
   "cell_type": "code",
   "execution_count": 40,
   "id": "fifty-future",
   "metadata": {},
   "outputs": [
    {
     "name": "stdout",
     "output_type": "stream",
     "text": [
      "159/159 [==============================] - 5s 34ms/step - loss: 0.2511 - accuracy: 0.9208\n",
      "[0.2511307895183563, 0.9207823276519775]\n"
     ]
    }
   ],
   "source": [
    "model_spec_skip.load_weights(checkpoint_dir)\n",
    "results_spec_skip = model_spec_skip.evaluate(test_dataset)\n",
    "print(results_spec_skip)"
   ]
  },
  {
   "cell_type": "code",
   "execution_count": 41,
   "id": "floppy-ultimate",
   "metadata": {},
   "outputs": [
    {
     "name": "stdout",
     "output_type": "stream",
     "text": [
      "loss value: 0.251\n",
      "accuracy value: 92.0782%\n"
     ]
    }
   ],
   "source": [
    "# loss\n",
    "print(\"loss value: {:.3f}\".format(results_spec_skip[0]))\n",
    "# accuracy\n",
    "print(\"accuracy value: {:.4f}%\".format(results_spec_skip[1]*100))"
   ]
  },
  {
   "cell_type": "markdown",
   "id": "bound-analysis",
   "metadata": {},
   "source": [
    "## 성능 비교\n",
    "- **wav** vs **spectrogram** vs **skip-connection**\n",
    "- wav : 86.2505%\n",
    "- spectrogram : 87.1592%\n",
    "- skip-connection : 92.0782%"
   ]
  },
  {
   "cell_type": "code",
   "execution_count": null,
   "id": "numeric-valentine",
   "metadata": {},
   "outputs": [],
   "source": [
    "print(\"wav data accuracy value: {:.4f}%\".format(results_wav[1]*100))\n",
    "print(\"spectrogram data accuracy value: {:.4f}%\".format(results_spec[1]*100))\n",
    "print(\"skip-connection accuracy value: {:.4f}%\".format(results_spec_skip[1]*100))"
   ]
  },
  {
   "cell_type": "markdown",
   "id": "possible-enclosure",
   "metadata": {},
   "source": [
    "# 정리\n",
    "---\n",
    "1. 캐글 wav 파일을 로드한다. \n",
    "    - shpae, data type을 확인한다.\n",
    "    - ipd.Audio() 을 사용해 레이블과 데이터를 확인한다. \n",
    "2. 데이터 전처리  \n",
    "    - label에 'unknown', 'silence'를 추가하고 숫자 형태로 바꾼다.\n",
    "    - train, test 로 나눈다. \n",
    "3. spectrogram 변환\n",
    "    - wav 파일을 spectrogram으로 변환한다.\n",
    "4. dataset을 구성한다.\n",
    "    - tf.dataset을 이용해, data와 label을 합쳐 dataset을 구성한다. \n",
    "5. classification 모델 구성\n",
    "    - 각 파일의 차원에 주의하며 모델을 구성한다. \n",
    "6. 모델 성능 평가\n",
    "    - 시각화를 통해 과적합여부를 판단하며 파라미터를 조정한다.\n",
    "    - 제일 성능이 좋은 모델을 저장해 평가에 사용한다. \n",
    "    - 음성을 직접 들어 예측 결과를 확인한다.\n",
    "\n",
    "\n",
    "# 루브릭 평가\n",
    "---\n",
    "1. **음성데이터를 2차원 Spectrogram 으로 변환하여 데이터셋을 구성하였다.**   \n",
    "    - 스펙토그램을 출력해 확인하고, shape을 확인했다.\n",
    "\n",
    "    \n",
    "2. **1,2차원 데이터를 처리하는 음성인식 모델이 정상 작동한다.**  \n",
    "    - wav 데이터와 spectrogram 데이터의 성능을 비교했다.\n",
    "    - 성능(accuracy)은 wav: 86.2505%  , spectrogram: 87.1592%로 spectrogram이 더 좋은 성능을 보였다.\n",
    "    \n",
    "    \n",
    "3. **테스트셋 수행결과 음성인식 모델의 Accuracy가 일정 수준에 도달하였다.**  \n",
    "    - wav, spectrogram, skip connection을 사용한 세 모델 전부 accuracy가 75%를 넘었다. \n",
    "    - spectrogram 데이터를 skip connection을 추가한 모델의 성능이 가장 좋았다. (accuracy 90% 이상)\n",
    "\n",
    "    \n",
    "# 회고\n",
    "---\n",
    "## 더 공부하고 싶은 부분\n",
    "- ndarry를 map으로 함수를 적용하는 부분 : 에러를 해결해 for문없이 코드를 구성하고 싶다.\n",
    "- audio data : 정확히 어떻게 구성되어있는지, 데이터에 대한 공부를 하고 싶다.\n",
    "- tensor : tensor에 대한 타입에러가 종종 발생하는데 더 깊게 공부하면 좋을 것 같다. \n",
    "- tensorflow graph, eager : tensorflow가 동작하는 방법에 대한 부분 \n",
    "## 느낀 점\n",
    "오디오 데이터처럼 특정 데이터를 다루기 위해서는 그 데이터에 대한 깊은 공부가 필요하다는 생각이 들었다. 오디오를 분류하는 모델이 재미있었지만 더 공부한다면 모델을 구성할 때 더 데이터에 맞게 구성할 수 있을 것 같다. "
   ]
  }
 ],
 "metadata": {
  "kernelspec": {
   "display_name": "Python 3",
   "language": "python",
   "name": "python3"
  },
  "language_info": {
   "codemirror_mode": {
    "name": "ipython",
    "version": 3
   },
   "file_extension": ".py",
   "mimetype": "text/x-python",
   "name": "python",
   "nbconvert_exporter": "python",
   "pygments_lexer": "ipython3",
   "version": "3.7.9"
  }
 },
 "nbformat": 4,
 "nbformat_minor": 5
}
