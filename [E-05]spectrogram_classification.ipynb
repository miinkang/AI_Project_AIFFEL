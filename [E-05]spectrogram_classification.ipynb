{
 "cells": [
  {
   "cell_type": "markdown",
   "id": "crazy-edwards",
   "metadata": {},
   "source": [
    "# [Exploration 05] Spectrogram Classification\n",
    "- 2차원의 spectrogram 데이터를 분류하는 task\n",
    "- 기본 모델과 skip connection을 사용한 모델로 나누어 성능을 비교한다. \n",
    "- data source : [Kaggle/TensorFlow Speech Recognition Challenge](https://www.kaggle.com/c/tensorflow-speech-recognition-challenge)\n",
    "## 1. load data "
   ]
  },
  {
   "cell_type": "code",
   "execution_count": 1,
   "id": "qualified-fields",
   "metadata": {},
   "outputs": [
    {
     "name": "stdout",
     "output_type": "stream",
     "text": [
      "<numpy.lib.npyio.NpzFile object at 0x7f0b50ede2d0>\n",
      "KeysView(<numpy.lib.npyio.NpzFile object at 0x7f0b50ede2d0>)\n",
      "ValuesView(<numpy.lib.npyio.NpzFile object at 0x7f0b50ede2d0>)\n"
     ]
    }
   ],
   "source": [
    "import numpy as np\n",
    "import os\n",
    "\n",
    "data_path = os.getenv(\"HOME\")+'/aiffel/speech_recognition/data/speech_wav_8000.npz'\n",
    "speech_data = np.load(data_path)\n",
    "\n",
    "print(speech_data)\n",
    "print(speech_data.keys())\n",
    "print(speech_data.values())\n"
   ]
  },
  {
   "cell_type": "markdown",
   "id": "friendly-disability",
   "metadata": {},
   "source": [
    "- speech_data는 wav_vals, label_vals로 이루어져있다."
   ]
  },
  {
   "cell_type": "code",
   "execution_count": 2,
   "id": "noble-salvation",
   "metadata": {},
   "outputs": [
    {
     "name": "stdout",
     "output_type": "stream",
     "text": [
      "Wave data shape :  (50620, 8000)\n",
      "Label data shape :  (50620, 1)\n"
     ]
    }
   ],
   "source": [
    "print(\"Wave data shape : \", speech_data[\"wav_vals\"].shape)\n",
    "print(\"Label data shape : \", speech_data[\"label_vals\"].shape)"
   ]
  },
  {
   "cell_type": "code",
   "execution_count": 7,
   "id": "outside-samuel",
   "metadata": {},
   "outputs": [
    {
     "name": "stdout",
     "output_type": "stream",
     "text": [
      "[-1.27418665e-04 -1.12644804e-04 -1.86756923e-04 ... -1.62762426e-05\n",
      " -4.93293861e-04 -3.55132594e-04]\n",
      "8000\n",
      "[['down']\n",
      " ['down']\n",
      " ['down']\n",
      " ...\n",
      " ['silence']\n",
      " ['silence']\n",
      " ['silence']]\n"
     ]
    }
   ],
   "source": [
    "print(speech_data[\"wav_vals\"][0])\n",
    "print(len(speech_data[\"wav_vals\"][0]))\n",
    "print(speech_data[\"label_vals\"])"
   ]
  },
  {
   "cell_type": "markdown",
   "id": "integral-decrease",
   "metadata": {},
   "source": [
    "- data는 총 50,620개\n",
    "- 모두 1초 음성데이터이다. \n",
    "- sampling rate : 8,000   \n",
    "\n",
    "\n",
    "- data 확인"
   ]
  },
  {
   "cell_type": "code",
   "execution_count": 9,
   "id": "fiscal-device",
   "metadata": {},
   "outputs": [
    {
     "name": "stdout",
     "output_type": "stream",
     "text": [
      "rand num :  32476\n",
      "Wave data shape :  (8000,)\n",
      "label :  ['on']\n"
     ]
    },
    {
     "data": {
      "text/html": [
       "\n",
       "                <audio  controls=\"controls\" >\n",
       "                    <source src=\"data:audio/wav;base64,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\" type=\"audio/wav\" />\n",
       "                    Your browser does not support the audio element.\n",
       "                </audio>\n",
       "              "
      ],
      "text/plain": [
       "<IPython.lib.display.Audio object>"
      ]
     },
     "execution_count": 9,
     "metadata": {},
     "output_type": "execute_result"
    }
   ],
   "source": [
    "import IPython.display as ipd\n",
    "import random\n",
    "\n",
    "rand = random.randint(0, len(speech_data[\"wav_vals\"]))\n",
    "print(\"rand num : \", rand)\n",
    "\n",
    "sr = 8000 # sampling rate : 1초동안 재생되는 샘플의 갯수\n",
    "data = speech_data[\"wav_vals\"][rand]\n",
    "print(\"Wave data shape : \", data.shape)\n",
    "print(\"label : \", speech_data[\"label_vals\"][rand])\n",
    "\n",
    "ipd.Audio(data, rate=sr)"
   ]
  },
  {
   "cell_type": "markdown",
   "id": "otherwise-jonathan",
   "metadata": {},
   "source": [
    "## 2. data 전처리\n",
    "- text로 된 label data 처리 \n",
    "- split data set    \n",
    "\n",
    "\n",
    "\n",
    "- label data 확인"
   ]
  },
  {
   "cell_type": "code",
   "execution_count": 16,
   "id": "northern-coordination",
   "metadata": {},
   "outputs": [
    {
     "data": {
      "text/plain": [
       "array(['down', 'go', 'left', 'no', 'off', 'on', 'right', 'silence',\n",
       "       'stop', 'unknown', 'up', 'yes'], dtype='<U7')"
      ]
     },
     "execution_count": 16,
     "metadata": {},
     "output_type": "execute_result"
    }
   ],
   "source": [
    "labels = speech_data[\"label_vals\"]\n",
    "np.unique(labels)"
   ]
  },
  {
   "cell_type": "markdown",
   "id": "greatest-steam",
   "metadata": {},
   "source": [
    "- 'unkown', 'silence'를 추가한다.\n",
    "- 각 label에 인덱스를 부여한다."
   ]
  },
  {
   "cell_type": "code",
   "execution_count": 22,
   "id": "atlantic-psychiatry",
   "metadata": {},
   "outputs": [
    {
     "name": "stdout",
     "output_type": "stream",
     "text": [
      "LABEL :  ['yes', 'no', 'up', 'down', 'left', 'right', 'on', 'off', 'stop', 'go', 'unknown', 'silence']\n",
      "Indexed LABEL :  {'yes': 0, 'no': 1, 'up': 2, 'down': 3, 'left': 4, 'right': 5, 'on': 6, 'off': 7, 'stop': 8, 'go': 9, 'unknown': 10, 'silence': 11}\n"
     ]
    }
   ],
   "source": [
    "target_list = ['yes', 'no', 'up', 'down', 'left', 'right', 'on', 'off', 'stop', 'go']\n",
    "\n",
    "label_value = target_list\n",
    "label_value.append('unknown')\n",
    "label_value.append('silence')\n",
    "\n",
    "print('LABEL : ', label_value)\n",
    "\n",
    "new_label_value = dict()\n",
    "for i, l in enumerate(label_value):\n",
    "    new_label_value[l] = i\n",
    "label_value = new_label_value\n",
    "\n",
    "print('Indexed LABEL : ', label_value)"
   ]
  },
  {
   "cell_type": "markdown",
   "id": "express-subcommittee",
   "metadata": {},
   "source": [
    "- 위에서 만들어 둔 index를 이용해 label data를 숫자(index)로 바꾼다. "
   ]
  },
  {
   "cell_type": "code",
   "execution_count": 21,
   "id": "cooperative-chair",
   "metadata": {},
   "outputs": [
    {
     "data": {
      "text/plain": [
       "array([ 3,  3,  3, ..., 11, 11, 11])"
      ]
     },
     "execution_count": 21,
     "metadata": {},
     "output_type": "execute_result"
    }
   ],
   "source": [
    "temp = []\n",
    "for v in speech_data[\"label_vals\"]:\n",
    "    temp.append(label_value[v[0]])\n",
    "label_data = np.array(temp)\n",
    "\n",
    "label_data"
   ]
  },
  {
   "cell_type": "markdown",
   "id": "passive-elements",
   "metadata": {},
   "source": [
    "- data split : sklearn.model_selection을 이용한다. "
   ]
  },
  {
   "cell_type": "code",
   "execution_count": 25,
   "id": "ceramic-economics",
   "metadata": {},
   "outputs": [
    {
     "name": "stdout",
     "output_type": "stream",
     "text": [
      "[[ 1.8621128e-04  2.6658605e-04  2.7197480e-04 ... -3.0310202e-04\n",
      "  -3.9047256e-04 -4.3400424e-04]\n",
      " [ 1.1070432e-03  3.2986582e-03  3.5639675e-03 ... -5.2775326e-03\n",
      "  -3.5871803e-03 -1.5902136e-03]\n",
      " [-1.2921431e-03 -2.4213421e-03 -2.1725181e-03 ...  1.4598890e-03\n",
      "   1.7290368e-03  1.9406232e-03]\n",
      " ...\n",
      " [ 5.0295381e-05 -1.2204549e-04 -1.5505822e-03 ... -1.1435593e-03\n",
      "  -1.9260619e-03 -1.4948880e-03]\n",
      " [-3.8951489e-03 -4.0228721e-03 -5.5823219e-03 ...  1.1377191e-03\n",
      "  -2.6414087e-03 -6.7140074e-03]\n",
      " [ 3.1981855e-03  4.0235277e-03 -8.1596465e-04 ...  3.1718728e-03\n",
      "   2.5466348e-03 -1.9184483e-03]]\n",
      "train data :  (45558, 8000, 1)\n",
      "train labels :  (45558,)\n",
      "test data :  (5062, 8000, 1)\n",
      "test labels :  (5062,)\n"
     ]
    }
   ],
   "source": [
    "from sklearn.model_selection import train_test_split\n",
    "\n",
    "sr = 8000\n",
    "train_wav, test_wav, train_label, test_label = train_test_split(speech_data[\"wav_vals\"], \n",
    "                                                                label_data, \n",
    "                                                                test_size=0.1,\n",
    "                                                                shuffle=True)\n",
    "#print(train_wav)\n",
    "\n",
    "train_wav = train_wav.reshape([-1, sr, 1]) # CNN모델에 넣기 위해 차원을 늘려준다. \n",
    "test_wav = test_wav.reshape([-1, sr, 1])\n",
    "\n",
    "print(\"train data : \", train_wav.shape)\n",
    "print(\"train labels : \", train_label.shape)\n",
    "print(\"test data : \", test_wav.shape)\n",
    "print(\"test labels : \", test_label.shape)"
   ]
  },
  {
   "cell_type": "code",
   "execution_count": null,
   "id": "satisfied-wound",
   "metadata": {},
   "outputs": [],
   "source": []
  }
 ],
 "metadata": {
  "kernelspec": {
   "display_name": "Python 3",
   "language": "python",
   "name": "python3"
  },
  "language_info": {
   "codemirror_mode": {
    "name": "ipython",
    "version": 3
   },
   "file_extension": ".py",
   "mimetype": "text/x-python",
   "name": "python",
   "nbconvert_exporter": "python",
   "pygments_lexer": "ipython3",
   "version": "3.7.9"
  }
 },
 "nbformat": 4,
 "nbformat_minor": 5
}
